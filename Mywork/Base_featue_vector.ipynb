{
 "cells": [
  {
   "cell_type": "code",
   "execution_count": 1,
   "id": "7d99df32",
   "metadata": {},
   "outputs": [],
   "source": [
    "import random\n",
    "import pandas as pd\n",
    "import numpy as np\n",
    "# import datetime\n",
    "\n",
    "from copy import deepcopy\n",
    "\n",
    "from pathlib import Path\n",
    "import sys\n",
    "import importlib\n",
    "\n",
    "from easydict import EasyDict\n",
    "from pprint import pprint\n",
    "import torch\n",
    "import os\n",
    "import time\n",
    "\n",
    "import time\n",
    "from tqdm import tqdm\n",
    "import datetime"
   ]
  },
  {
   "cell_type": "code",
   "execution_count": 2,
   "id": "f042f787",
   "metadata": {},
   "outputs": [
    {
     "name": "stdout",
     "output_type": "stream",
     "text": [
      "['/mnt/workspace/Github/Share/Mywork', '/usr/lib/python38.zip', '/usr/lib/python3.8', '/usr/lib/python3.8/lib-dynload', '', '/usr/local/lib/python3.8/dist-packages', '/tmp/OpenPCDet', '/usr/lib/python3/dist-packages', '/usr/local/lib/python3.8/dist-packages/IPython/extensions', '/root/.ipython', '../Pointnet_Pointnet2_pytorch', '../Pointnet_Pointnet2_pytorch/models']\n"
     ]
    }
   ],
   "source": [
    "BASE_DIR = Path('../Pointnet_Pointnet2_pytorch')\n",
    "sys.path.append(str(BASE_DIR))\n",
    "sys.path.append(str(BASE_DIR/'models'))\n",
    "print(sys.path)\n",
    "\n",
    "from data_utils.ModelNetDataLoader import ModelNetDataLoader\n",
    "from pointnet2_utils import farthest_point_sample\n",
    "\n",
    "RESULT_DIR = BASE_DIR/'../Mywork/Results'\n",
    "FIGURE_DIR = RESULT_DIR/'Figures'\n",
    "FILE_DIR = RESULT_DIR/'Files'"
   ]
  },
  {
   "cell_type": "code",
   "execution_count": 3,
   "id": "19d52b92",
   "metadata": {},
   "outputs": [
    {
     "name": "stdout",
     "output_type": "stream",
     "text": [
      "The num of class is 40\n",
      "pointnet2_cls_ssg\n"
     ]
    }
   ],
   "source": [
    "#GA_downsampling用のargs\n",
    "args = EasyDict({\n",
    "    'use_cpu': 'False',\n",
    "    'gpu': '0',\n",
    "    'batch_size': 103, \n",
    "    'num_category': 40,\n",
    "    'num_point': 1024,\n",
    "    'log_dir': 'pointnet2_cls_ssg',\n",
    "    'use_normals': False, #bestを使うときはTrue\n",
    "    'use_uniform_sample': False, #Trueにするとデータロード時にFPS実行。FPSには初期値にランダム性あり。TrueとFalseが逆な気がする\n",
    "    'num_votes': 3,\n",
    "    'output': FILE_DIR,\n",
    "    })\n",
    "\n",
    "num_class = args.num_category\n",
    "print(\"The num of class is {0}\".format(num_class))\n",
    "print(args.log_dir)"
   ]
  },
  {
   "cell_type": "code",
   "execution_count": 5,
   "id": "ba774c5a",
   "metadata": {},
   "outputs": [
    {
     "name": "stdout",
     "output_type": "stream",
     "text": [
      "The size of test data is 2468\n"
     ]
    }
   ],
   "source": [
    "data_path = BASE_DIR / Path('data/modelnet40_normal_resampled/')\n",
    "\n",
    "dataset = ModelNetDataLoader(root=data_path, args=args, split='test', process_data=False)\n",
    "DataLoader = torch.utils.data.DataLoader(dataset, batch_size=args.batch_size, shuffle=False, num_workers=0)"
   ]
  },
  {
   "cell_type": "code",
   "execution_count": 6,
   "id": "d3e390cf",
   "metadata": {},
   "outputs": [
    {
     "data": {
      "text/plain": [
       "<All keys matched successfully>"
      ]
     },
     "execution_count": 6,
     "metadata": {},
     "output_type": "execute_result"
    }
   ],
   "source": [
    "model_name = \"cls_ssg_feature_selection\" #feature_selectionっていう名前だけど、実態は２つに分けたもの\n",
    "model = importlib.import_module(model_name)\n",
    "\n",
    "Feature_vector_calculator = model.get_first_model(num_class, normal_channel=args.use_normals)\n",
    "Feature_vector_calculator = Feature_vector_calculator.cuda()\n",
    "Classifier_from_feature_vector = model.get_second_model(num_class, normal_channel=args.use_normals)\n",
    "\n",
    "experiment_dir = BASE_DIR / Path('log/classification/') / Path(args.log_dir)\n",
    "checkpoint = torch.load(str(experiment_dir) + '/checkpoints/best_model.pth') #学習済みデータを使う\n",
    "\n",
    "Feature_vector_calculator.load_state_dict(checkpoint['model_state_dict'])\n",
    "Classifier_from_feature_vector.load_state_dict(checkpoint['model_state_dict'])"
   ]
  },
  {
   "cell_type": "code",
   "execution_count": 7,
   "id": "caaecd00",
   "metadata": {},
   "outputs": [],
   "source": [
    "def initialize(seed):\n",
    "    random.seed(seed)\n",
    "    np.random.seed(seed)\n",
    "    torch.manual_seed(seed)\n",
    "    torch.backends.cudnn.benchmark = False\n",
    "    torch.backends.cudnn.deterministic = True"
   ]
  },
  {
   "cell_type": "code",
   "execution_count": 10,
   "id": "91084e00",
   "metadata": {},
   "outputs": [
    {
     "name": "stderr",
     "output_type": "stream",
     "text": [
      "100%|██████████████████████████████████████████████████████████████████████████████████████| 24/24 [03:40<00:00,  9.20s/it]\n"
     ]
    },
    {
     "name": "stdout",
     "output_type": "stream",
     "text": [
      "220.69828344741836\n"
     ]
    },
    {
     "name": "stderr",
     "output_type": "stream",
     "text": [
      "100%|██████████████████████████████████████████████████████████████████████████████████████| 24/24 [03:22<00:00,  8.42s/it]\n"
     ]
    },
    {
     "name": "stdout",
     "output_type": "stream",
     "text": [
      "202.17815473629162\n"
     ]
    },
    {
     "name": "stderr",
     "output_type": "stream",
     "text": [
      "100%|██████████████████████████████████████████████████████████████████████████████████████| 24/24 [03:23<00:00,  8.48s/it]\n"
     ]
    },
    {
     "name": "stdout",
     "output_type": "stream",
     "text": [
      "203.58230785932392\n"
     ]
    },
    {
     "name": "stderr",
     "output_type": "stream",
     "text": [
      "100%|██████████████████████████████████████████████████████████████████████████████████████| 24/24 [03:27<00:00,  8.64s/it]\n"
     ]
    },
    {
     "name": "stdout",
     "output_type": "stream",
     "text": [
      "207.34496172890067\n"
     ]
    },
    {
     "name": "stderr",
     "output_type": "stream",
     "text": [
      "100%|██████████████████████████████████████████████████████████████████████████████████████| 24/24 [03:25<00:00,  8.57s/it]\n"
     ]
    },
    {
     "name": "stdout",
     "output_type": "stream",
     "text": [
      "205.5984820863232\n"
     ]
    },
    {
     "name": "stderr",
     "output_type": "stream",
     "text": [
      "100%|██████████████████████████████████████████████████████████████████████████████████████| 24/24 [03:25<00:00,  8.56s/it]\n"
     ]
    },
    {
     "name": "stdout",
     "output_type": "stream",
     "text": [
      "205.47214415902272\n"
     ]
    },
    {
     "name": "stderr",
     "output_type": "stream",
     "text": [
      "100%|██████████████████████████████████████████████████████████████████████████████████████| 24/24 [03:24<00:00,  8.51s/it]\n"
     ]
    },
    {
     "name": "stdout",
     "output_type": "stream",
     "text": [
      "204.16594062000513\n"
     ]
    },
    {
     "name": "stderr",
     "output_type": "stream",
     "text": [
      "100%|██████████████████████████████████████████████████████████████████████████████████████| 24/24 [03:22<00:00,  8.42s/it]\n"
     ]
    },
    {
     "name": "stdout",
     "output_type": "stream",
     "text": [
      "202.17764853918925\n"
     ]
    },
    {
     "name": "stderr",
     "output_type": "stream",
     "text": [
      "100%|██████████████████████████████████████████████████████████████████████████████████████| 24/24 [03:22<00:00,  8.43s/it]\n"
     ]
    },
    {
     "name": "stdout",
     "output_type": "stream",
     "text": [
      "202.23140434967354\n"
     ]
    },
    {
     "name": "stderr",
     "output_type": "stream",
     "text": [
      "100%|██████████████████████████████████████████████████████████████████████████████████████| 24/24 [03:22<00:00,  8.44s/it]"
     ]
    },
    {
     "name": "stdout",
     "output_type": "stream",
     "text": [
      "202.66234683804214\n"
     ]
    },
    {
     "name": "stderr",
     "output_type": "stream",
     "text": [
      "\n"
     ]
    }
   ],
   "source": [
    "iteration = 10\n",
    "feature_vector = torch.empty(iteration, len(DataLoader.dataset), 1024)\n",
    "seed = 0\n",
    "initialize(seed)\n",
    "\n",
    "for j in range(iteration):\n",
    "    with torch.no_grad():\n",
    "        start_time = time.perf_counter()\n",
    "        for i, (points, _) in tqdm(enumerate(DataLoader), total=len(DataLoader)):\n",
    "            B, _, _ = points.shape\n",
    "            points = points.cuda()\n",
    "            points = points.transpose(2, 1)\n",
    "            Feature_vector_calculator = Feature_vector_calculator.eval().cuda()\n",
    "\n",
    "            feature_vector[j, i * args.batch_size:i * args.batch_size + B] = Feature_vector_calculator(points)\n",
    "        stop_time = time.perf_counter()\n",
    "        elapsed_time = stop_time - start_time\n",
    "    \n",
    "    print(elapsed_time)"
   ]
  },
  {
   "cell_type": "code",
   "execution_count": 11,
   "id": "f8c943d4",
   "metadata": {},
   "outputs": [
    {
     "name": "stdout",
     "output_type": "stream",
     "text": [
      "torch.Size([10, 2468, 1024])\n",
      "(2468, 1024)\n"
     ]
    }
   ],
   "source": [
    "print(feature_vector.shape)\n",
    "feature_vector = feature_vector.to('cpu').detach().numpy()\n",
    "feature_vector = np.mean(feature_vector, axis=0)\n",
    "print(feature_vector.shape)"
   ]
  },
  {
   "cell_type": "code",
   "execution_count": 12,
   "id": "8aecfaee",
   "metadata": {},
   "outputs": [
    {
     "name": "stdout",
     "output_type": "stream",
     "text": [
      "Saved in: ../Pointnet_Pointnet2_pytorch/../Mywork/Results/Files/seed0/Feature_vector_base/average2022-02-24_20-15.csv\n"
     ]
    }
   ],
   "source": [
    "import datetime\n",
    "feature_vector_df = pd.DataFrame(data=feature_vector)\n",
    "\n",
    "method_name = 'seed0/Feature_vector_base' #何の結果か、どのような加工を加えているか、何個ずつか\n",
    "prefix = 'average' #iteration=10の平均を取っているのでaverageというprefixをつけている。\n",
    "ext = \".csv\"\n",
    "df = feature_vector_df\n",
    "#-------------------------------------\n",
    "save_dir = FILE_DIR / Path(method_name) \n",
    "# print(save_dir)\n",
    "save_dir.mkdir(exist_ok=True, parents=True)\n",
    "timestr = str(datetime.datetime.now().strftime('%Y-%m-%d_%H-%M'))\n",
    "# print(timestr)\n",
    "file_name = prefix + timestr + ext\n",
    "df.to_csv(save_dir/file_name, index=False)\n",
    "print(\"Saved in:\", save_dir/file_name)\n",
    "# slack_notify(\"Saved in:\"+ str(save_dir/file_name))"
   ]
  },
  {
   "cell_type": "code",
   "execution_count": null,
   "id": "dd48bfdc",
   "metadata": {},
   "outputs": [],
   "source": []
  }
 ],
 "metadata": {
  "kernelspec": {
   "display_name": "Python 3 (ipykernel)",
   "language": "python",
   "name": "python3"
  },
  "language_info": {
   "codemirror_mode": {
    "name": "ipython",
    "version": 3
   },
   "file_extension": ".py",
   "mimetype": "text/x-python",
   "name": "python",
   "nbconvert_exporter": "python",
   "pygments_lexer": "ipython3",
   "version": "3.8.10"
  }
 },
 "nbformat": 4,
 "nbformat_minor": 5
}

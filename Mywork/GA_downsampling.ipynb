{
 "cells": [
  {
   "cell_type": "markdown",
   "id": "f5e8d7c3",
   "metadata": {},
   "source": [
    "# ここでやること\n",
    "<br>\n",
    "\n",
    "1. 遺伝アルゴリズムダウンサンプリングの実装\n",
    "    1. 評価関数の作成\n",
    "    2. 個体の定義\n",
    "    3. 交叉の定義\n",
    "    4. 変異の定義\n",
    "    5. 選択の設定\n",
    "    \n",
    "2. パラメータの決定\n",
    "    1. よく変更するパラメータ：　交叉確率、変異確率、選択特徴ベクトルサイズ\n",
    "    2. あまり変更しないパラメータ：　世代数、集団人口\n",
    "    \n",
    "3. ダウンサンプリングの実行\n",
    "    1. 点群データセットの読み込み←事前準備\n",
    "    2. ベース特徴ベクトルの読み込み(2468, 1024)←事前準備\n",
    "    3. classification_first_modelの読み込み\n",
    "    4. 〜計算〜\n",
    "    5. インデックスを保存(2468, 1024)\n",
    "    \n",
    "4. 評価→後々移動\n",
    "    1. 点群データセットの読み込み\n",
    "    2. ダウンサンプリング後インデックスの読み込み\n",
    "    3. classification_second_modelの読み込み\n",
    "    4. 〜計算〜\n",
    "    5. ランダムサンプリングとの精度比較\n",
    "    6. 最遠点サンプリングとの精度比較"
   ]
  },
  {
   "cell_type": "code",
   "execution_count": 1,
   "id": "eedee2ce",
   "metadata": {},
   "outputs": [],
   "source": [
    "import random\n",
    "import pandas as pd\n",
    "import numpy as np\n",
    "# import datetime\n",
    "\n",
    "from copy import deepcopy\n",
    "\n",
    "from pathlib import Path\n",
    "import sys\n",
    "import importlib\n",
    "\n",
    "from easydict import EasyDict\n",
    "from pprint import pprint\n",
    "import torch\n",
    "import os\n",
    "import time\n",
    "\n",
    "from deap import creator, base, tools, algorithms\n",
    "# import argparse\n",
    "\n",
    "import time\n",
    "from tqdm import tqdm\n",
    "import datetime"
   ]
  },
  {
   "cell_type": "code",
   "execution_count": 2,
   "id": "25542c11",
   "metadata": {},
   "outputs": [],
   "source": [
    "#Slackで計算終了などを通知してくれるもの\n",
    "#自分のwebhook_urlを設定\n",
    "# import requests\n",
    "# import json\n",
    "\n",
    "# def slack_notify(message):\n",
    "#     webhook_url = ''\n",
    "\n",
    "#     text = message\n",
    "\n",
    "#     requests.post(webhook_url, data = json.dumps({\n",
    "#         \"text\": text\n",
    "#     }));\n",
    "    \n",
    "# slack_notify('test')"
   ]
  },
  {
   "cell_type": "code",
   "execution_count": 2,
   "id": "bdb6920f",
   "metadata": {},
   "outputs": [],
   "source": [
    "#ランダム値をシード値で初期化する関数\n",
    "def initialize(seed):\n",
    "    random.seed(seed)\n",
    "    np.random.seed(seed)\n",
    "    torch.manual_seed(seed)\n",
    "    torch.backends.cudnn.benchmark = False\n",
    "    torch.backends.cudnn.deterministic = True"
   ]
  },
  {
   "cell_type": "code",
   "execution_count": 3,
   "id": "f869f0e1",
   "metadata": {},
   "outputs": [
    {
     "name": "stdout",
     "output_type": "stream",
     "text": [
      "['/mnt/workspace/Github/Share/Mywork', '/usr/lib/python38.zip', '/usr/lib/python3.8', '/usr/lib/python3.8/lib-dynload', '', '/usr/local/lib/python3.8/dist-packages', '/tmp/OpenPCDet', '/usr/lib/python3/dist-packages', '/usr/local/lib/python3.8/dist-packages/IPython/extensions', '/root/.ipython', '../Pointnet_Pointnet2_pytorch', '../Pointnet_Pointnet2_pytorch/models']\n"
     ]
    }
   ],
   "source": [
    "BASE_DIR = Path('../Pointnet_Pointnet2_pytorch')\n",
    "sys.path.append(str(BASE_DIR))\n",
    "sys.path.append(str(BASE_DIR/'models'))\n",
    "print(sys.path)\n",
    "\n",
    "from data_utils.ModelNetDataLoader import ModelNetDataLoader\n",
    "\n",
    "RESULT_DIR = BASE_DIR/'../Mywork/Results'\n",
    "FIGURE_DIR = RESULT_DIR/'Figures'\n",
    "FILE_DIR = RESULT_DIR/'Files'"
   ]
  },
  {
   "cell_type": "code",
   "execution_count": 4,
   "id": "95879738",
   "metadata": {},
   "outputs": [
    {
     "name": "stdout",
     "output_type": "stream",
     "text": [
      "The num of class is 40\n",
      "pointnet2_cls_ssg\n"
     ]
    }
   ],
   "source": [
    "#GA_downsampling用のargs\n",
    "args = EasyDict({\n",
    "    'use_cpu': 'False',\n",
    "    'gpu': '0',\n",
    "    'batch_size': 103, \n",
    "    'num_category': 40,\n",
    "    'num_point': 1024,\n",
    "    'log_dir': 'pointnet2_cls_ssg',\n",
    "    'use_normals': False, #bestを使うときはTrue\n",
    "    'use_uniform_sample': False, #Trueにするとデータロード時にFPS実行。FPSには初期値にランダム性あり。TrueとFalseが逆な気がする\n",
    "    'num_votes': 3,\n",
    "    'output': FILE_DIR,\n",
    "    })\n",
    "\n",
    "num_class = args.num_category\n",
    "print(\"The num of class is {0}\".format(num_class))\n",
    "print(args.log_dir)"
   ]
  },
  {
   "cell_type": "markdown",
   "id": "6aec95e1",
   "metadata": {},
   "source": [
    "### データセットの用意"
   ]
  },
  {
   "cell_type": "code",
   "execution_count": 5,
   "id": "2189c164",
   "metadata": {},
   "outputs": [
    {
     "name": "stdout",
     "output_type": "stream",
     "text": [
      "['average2021-12-16_22-54.csv', '2021-12-04_17-59.csv', '2021-12-07_13-27.csv', '2021-12-04_17-51.csv']\n"
     ]
    }
   ],
   "source": [
    "print(os.listdir(FILE_DIR/'seed0'/'Feature_vector_base'))"
   ]
  },
  {
   "cell_type": "code",
   "execution_count": 6,
   "id": "48499ddf",
   "metadata": {},
   "outputs": [
    {
     "name": "stdout",
     "output_type": "stream",
     "text": [
      "The size of test data is 2468\n"
     ]
    }
   ],
   "source": [
    "import DataLoaderForGAdownsampling\n",
    "\n",
    "data_path = BASE_DIR / Path('data/modelnet40_normal_resampled/')\n",
    "fv_path = FILE_DIR/'seed0'/'Feature_vector_base'/'2021-12-07_13-27.csv'\n",
    "# fv_path = FILE_DIR/'seed0'/'Feature_vector_base'/'average2021-12-16_22-54.csv'\n",
    "\n",
    "GA_dataset = DataLoaderForGAdownsampling.FVDataLoader(root=data_path, fv_path=fv_path, args=args, split='test', process_data=False)\n",
    "GADataLoader = torch.utils.data.DataLoader(GA_dataset, batch_size=args.batch_size, shuffle=False, num_workers=0)"
   ]
  },
  {
   "cell_type": "markdown",
   "id": "5c5343ed",
   "metadata": {},
   "source": [
    "### 分類モデル用意（点群 -> 特徴ベクトル、特徴ベクトル -> ラベル）"
   ]
  },
  {
   "cell_type": "code",
   "execution_count": 7,
   "id": "7069477f",
   "metadata": {},
   "outputs": [
    {
     "data": {
      "text/plain": [
       "<All keys matched successfully>"
      ]
     },
     "execution_count": 7,
     "metadata": {},
     "output_type": "execute_result"
    }
   ],
   "source": [
    "model_name = \"cls_ssg_feature_selection\" #オリジナルのcls_ssgを２つに分解。特徴抽出部分がfirst、分類部分がsecond\n",
    "model = importlib.import_module(model_name)\n",
    "\n",
    "Feature_vector_calculator = model.get_first_model(num_class, normal_channel=args.use_normals)\n",
    "Feature_vector_calculator = Feature_vector_calculator.cuda()\n",
    "Classifier_from_feature_vector = model.get_second_model(num_class, normal_channel=args.use_normals)\n",
    "\n",
    "experiment_dir = BASE_DIR / Path('log/classification/') / Path(args.log_dir)\n",
    "checkpoint = torch.load(str(experiment_dir) + '/checkpoints/best_model.pth') #学習済みのチェックポイントを読み込み\n",
    "\n",
    "Feature_vector_calculator.load_state_dict(checkpoint['model_state_dict'])\n",
    "Classifier_from_feature_vector.load_state_dict(checkpoint['model_state_dict'])"
   ]
  },
  {
   "cell_type": "markdown",
   "id": "0b1514f2",
   "metadata": {},
   "source": [
    "# 遺伝ダウンサンプリング"
   ]
  },
  {
   "cell_type": "code",
   "execution_count": 8,
   "id": "90ddb65b",
   "metadata": {},
   "outputs": [],
   "source": [
    "def get_fitness(individual, points, target_feature_vector, target, model1, model2, iteration):\n",
    "    score = torch.empty(0).cuda()\n",
    "    Feature_vector_calculator = model1.eval()\n",
    "    Classifier_from_feature_vector = model2.eval()\n",
    "    B, N, _ = points.shape\n",
    "    points, target = points.cuda(), target.cuda()\n",
    "    target_feature_vector = target_feature_vector.to(torch.float32).cuda()\n",
    "    points = points[:, individual, :] #選択インデックスの点群を削除 1024->512\n",
    "    points = torch.tile(points, (1, int(N/len(individual)), 1)) #アップサンプリングしてMLに入力 512->1024\n",
    "    points = points.transpose(2, 1)\n",
    "        \n",
    "    with torch.no_grad():\n",
    "        for i in range(iteration):        \n",
    "            feature_vector = Feature_vector_calculator(points)\n",
    "            dist = torch.sum(torch.cdist(feature_vector.view(B, 1, -1), target_feature_vector.view(B, 1, -1)), dim=0)\n",
    "            score = torch.cat((score, dist[0]), 0)\n",
    "    score = torch.mean(score).to('cpu').detach().numpy().copy()\n",
    "    return score,\n",
    "\n",
    "def Accuracy(individual, points, target_feature_vector, target, model1, model2, iteration):\n",
    "    mean_correct = []\n",
    "    Feature_vector_calculator = model1.eval()\n",
    "    Classifier_from_feature_vector = model2.eval()\n",
    "    B, N, _ = points.shape\n",
    "#     print(type(points))\n",
    "    points, target = points.cuda(), target.cuda()\n",
    "    target_feature_vector = target_feature_vector.to(torch.float32).cuda()\n",
    "    points = points[:, individual, :] #選択インデックスの点群を削除 1024->512\n",
    "    points = torch.tile(points, (1, int(N/len(individual)), 1)) #アップサンプリングしてMLに入力 512->1024\n",
    "    points = points.transpose(2, 1)\n",
    "        \n",
    "    with torch.no_grad():\n",
    "        for i in range(iteration):        \n",
    "            feature_vector = Feature_vector_calculator(points)\n",
    "            pred, _ = Classifier_from_feature_vector(feature_vector)\n",
    "            pred_choice = pred.data.max(1)[1]\n",
    "            correct = pred_choice.eq(target.long().data).cpu().sum()\n",
    "            mean_correct.append(correct.item() / float(points.size()[0]))\n",
    "    instance_acc = np.mean(mean_correct)\n",
    "    return instance_acc,\n",
    "\n",
    "#初期のインデックス作成\n",
    "def create_select_idx(idx_size, select_size):\n",
    "    select_idx = random.sample(range(idx_size), select_size)\n",
    "\n",
    "    return select_idx\n",
    "\n",
    "#突然変異\n",
    "#k点入れ替え\n",
    "def mutation(individual, idx_size, select_size, k):\n",
    "    remain_idx = random.sample(individual, (select_size - k))\n",
    "    excepted_set = set(range(idx_size)) - set(individual)\n",
    "    join_idx = random.sample(list(excepted_set), k)\n",
    "    individual[:] = (remain_idx + join_idx)\n",
    "\n",
    "    return individual,\n",
    "\n",
    "def cxDifIdx(ind1, ind2):\n",
    "    ind_tmp1 = set(ind1)\n",
    "    ind_tmp2 = set(ind2)\n",
    "\n",
    "    com = ind_tmp1 & ind_tmp2\n",
    "    \n",
    "    ind_tmp1 = list(ind_tmp1 - com)\n",
    "#     ind_tmp1.sort()\n",
    "    ind1[:] = ind_tmp1\n",
    "    ind_tmp2 = list(ind_tmp2 - com)\n",
    "#     ind_tmp2.sort()\n",
    "    ind2[:] = ind_tmp2\n",
    "    \n",
    "    if len(ind1) > 1:\n",
    "\n",
    "        ind1, ind2 = tools.cxTwoPoint(ind1, ind2)\n",
    "\n",
    "    ind1 += com\n",
    "    ind2 += com\n",
    "\n",
    "    ind1.sort()\n",
    "    ind2.sort()\n",
    "    \n",
    "    return ind1, ind2"
   ]
  },
  {
   "cell_type": "code",
   "execution_count": 9,
   "id": "0334b3a2",
   "metadata": {},
   "outputs": [],
   "source": [
    "def run_GA(original_points, target_feature_vector, target, model1, model2, sampling_rate, ngen, seed, cxpd, mutpd):\n",
    "    npoints = 1024\n",
    "    select_size = int(npoints * sampling_rate)\n",
    "    iteration = 10 #評価の際に特徴ベクトルを計算する回数\n",
    "    initialize(seed)\n",
    "    accuracy = np.empty(0)\n",
    "    \n",
    "    x = original_points\n",
    "    \n",
    "    y1 = target_feature_vector\n",
    "    y2 = target\n",
    "\n",
    "    creator.create(\"FitnessMin\", base.Fitness, weights=(-1.0,))\n",
    "    creator.create(\"Individual\", list, fitness=creator.FitnessMin)\n",
    "\n",
    "    toolbox = base.Toolbox()\n",
    "\n",
    "    toolbox.register(\"select_idx\", create_select_idx, npoints, select_size)\n",
    "    toolbox.register(\"individual\", tools.initIterate, creator.Individual, toolbox.select_idx)\n",
    "\n",
    "    toolbox.register(\"population\", tools.initRepeat, list, toolbox.individual)\n",
    "\n",
    "    toolbox.register(\"evaluate\", get_fitness, points=x, target_feature_vector=y1, target=y2, model1=model1, \\\n",
    "                     model2=model2, iteration=iteration)\n",
    "    \n",
    "    toolbox.register(\"mate\", cxDifIdx)\n",
    "\n",
    "    toolbox.register(\"mutate\", mutation, idx_size=npoints, select_size=select_size, k=1)\n",
    "    toolbox.register(\"select\", tools.selTournament, tournsize=3)\n",
    "    \n",
    "    toolbox.register(\"Accuracy\", Accuracy, points=x, target_feature_vector=y1, target=y2, model1=model1, \\\n",
    "                     model2=model2, iteration=iteration)\n",
    "\n",
    "    # 世代数の設定\n",
    "    pop = toolbox.population(n=30)\n",
    "    hof = tools.ParetoFront()\n",
    "    stats_acc = tools.Statistics(key=toolbox.Accuracy)\n",
    "    stats_dist = tools.Statistics(lambda ind: ind.fitness.values)\n",
    "    stats = tools.MultiStatistics(dist=stats_dist, acc=stats_acc)\n",
    "    stats.register(\"avg\", np.mean, axis=0)\n",
    "    stats.register(\"std\", np.std, axis=0)\n",
    "    stats.register(\"min\", np.min, axis=0)\n",
    "    stats.register(\"max\", np.max, axis=0)\n",
    "    \n",
    "    # 実行\n",
    "    start_time = time.perf_counter()\n",
    "    pop, log = algorithms.eaSimple(pop, toolbox, cxpb=cxpd, mutpb=mutpd, ngen=ngen, stats=stats, halloffame=hof,verbose=True)\n",
    "    stop_time = time.perf_counter()\n",
    "\n",
    "    elapsed_time = stop_time - start_time\n",
    "    print(\"処理時間：\", elapsed_time)\n",
    "    \n",
    "    return hof, pop, log"
   ]
  },
  {
   "cell_type": "code",
   "execution_count": 10,
   "id": "22db34fb",
   "metadata": {},
   "outputs": [],
   "source": [
    "def make_path(*a):\n",
    "    path = '/'.join(a)\n",
    "    \n",
    "    return path\n",
    "\n",
    "def make_prefix(**a):\n",
    "    prefix = ''\n",
    "    for key in a.keys():\n",
    "        prefix += key + '{}_'\n",
    "    prefix = prefix.format(*tuple(a.values()))\n",
    "    return prefix\n",
    "\n",
    "def separate_array(object_arr):\n",
    "    size = object_arr.shape[0]\n",
    "    new_arr = np.empty(0)\n",
    "    for i in range(size):\n",
    "        new_arr = np.append(new_arr, object_arr[i][0])\n",
    "        new_arr = np.append(new_arr, object_arr[i][1])\n",
    "    new_arr = new_arr.reshape(size, 2)\n",
    "    return new_arr\n",
    "\n",
    "#出力結果を保存する関数\n",
    "#statsに一つ（dist=fitness）しか登録していないバージョン\n",
    "# def save_GA_results(log, hof, pop, *args, **kwargs):\n",
    "#     npoints = 1024\n",
    "#     hof_bit = []\n",
    "#     for individual in hof:\n",
    "#         ind_bit = np.zeros(npoints)\n",
    "\n",
    "#         ind_bit[individual] = 1\n",
    "#         hof_bit.append(ind_bit)\n",
    "\n",
    "#     hof_bit = pd.DataFrame(data=hof_bit)\n",
    "\n",
    "#     pprint(hof_bit)\n",
    "    \n",
    "#     method_name = make_path(*args) + '/Hall of fame' #何の結果か、どのような加工を加えているか、何個ずつか\n",
    "#     prefix = make_prefix(**kwargs) #よく変えるパラメータ\n",
    "#     ext = \".csv\"\n",
    "#     df = hof_bit\n",
    "#     #-------------------------------------\n",
    "#     save_dir = FILE_DIR / Path(method_name) \n",
    "#     # print(save_dir)\n",
    "#     save_dir.mkdir(exist_ok=True, parents=True)\n",
    "#     timestr = str(datetime.datetime.now().strftime('%Y-%m-%d_%H-%M'))\n",
    "#     # print(timestr)\n",
    "#     file_name = prefix + timestr + ext\n",
    "#     df.to_csv(save_dir/file_name, index=False)\n",
    "#     print(\"Saved in:\", save_dir/file_name)\n",
    "#     slack_notify(\"Saved in:\"+ str(save_dir/file_name))\n",
    "\n",
    "\n",
    "#     #logを保存できる形に変換\n",
    "#     log_df = pd.DataFrame(data=log)\n",
    "#     add_columns = [\"dist avg\", \"acc avg\", \"dist std\", \"acc std\", \"dist min\", \"acc min\", \"dist max\", \"acc max\"]\n",
    "#     arr = np.empty(0)\n",
    "#     for i in range(4):\n",
    "#         arr = np.append(arr, separate_array(log_df.iloc[:, i+2].values))\n",
    "#     arr = arr.reshape(len(log_df), len(add_columns))\n",
    "#     arr = arr.T\n",
    "# #     arr[1::2] = arr[1::2] / 1e-15\n",
    "#     for i, column in enumerate(add_columns):\n",
    "#         log_df[column] = arr[i]\n",
    "#     drop_columns = ['avg', 'std', 'min', 'max']\n",
    "#     log_df = log_df.drop(drop_columns, axis=1)\n",
    "#     log_df.iloc[:, 2:] = log_df.iloc[:, 2:].astype(\"float32\")\n",
    "\n",
    "#     method_name = make_path(*args) + '/log' #何の結果か、どのような加工を加えているか、何個ずつか\n",
    "#     prefix = make_prefix(**kwargs)\n",
    "#     ext = \".csv\"\n",
    "#     df = log_df\n",
    "#     #-------------------------------------\n",
    "#     save_dir = FILE_DIR / Path(method_name) \n",
    "#     # print(save_dir)\n",
    "#     save_dir.mkdir(exist_ok=True, parents=True)\n",
    "#     timestr = str(datetime.datetime.now().strftime('%Y-%m-%d_%H-%M'))\n",
    "#     # print(timestr)\n",
    "#     file_name = prefix + timestr + ext\n",
    "#     df.to_csv(save_dir/file_name, index=False)\n",
    "#     print(\"Saved in:\", save_dir/file_name)\n",
    "#     slack_notify(\"Saved in:\"+ str(save_dir/file_name))\n",
    "    \n",
    "#     #最終populationを保存\n",
    "#     pop_df = pd.DataFrame(data=pop)\n",
    "#     method_name = make_path(*args) + '/pop' #何の結果か、どのような加工を加えているか、何個ずつか\n",
    "#     prefix = make_prefix(**kwargs)\n",
    "#     ext = \".csv\"\n",
    "#     df = pop_df\n",
    "#     #-------------------------------------\n",
    "#     save_dir = FILE_DIR / Path(method_name) \n",
    "#     # print(save_dir)\n",
    "#     save_dir.mkdir(exist_ok=True, parents=True)\n",
    "#     timestr = str(datetime.datetime.now().strftime('%Y-%m-%d_%H-%M'))\n",
    "#     # print(timestr)\n",
    "#     file_name = prefix + timestr + ext\n",
    "#     df.to_csv(save_dir/file_name, index=False)\n",
    "#     print(\"Saved in:\", save_dir/file_name)\n",
    "#     slack_notify(\"Saved in:\"+ str(save_dir/file_name))\n",
    "    \n",
    "#     return None"
   ]
  },
  {
   "cell_type": "code",
   "execution_count": 14,
   "id": "db0675fa",
   "metadata": {},
   "outputs": [],
   "source": [
    "#出力結果を保存する関数\n",
    "#statsに２つ登録しているバージョン。dist, acc\n",
    "def save_GA_results(log, hof, pop, *args, **kwargs):\n",
    "    npoints = 1024\n",
    "#hofの保存    \n",
    "    hof_bit = []\n",
    "    for individual in hof:\n",
    "        ind_bit = np.zeros(npoints)\n",
    "\n",
    "        ind_bit[individual] = 1\n",
    "        hof_bit.append(ind_bit)\n",
    "\n",
    "    hof_bit = pd.DataFrame(data=hof_bit)\n",
    "\n",
    "    pprint(hof_bit)\n",
    "    \n",
    "    method_name = make_path(*args) + '/Hall of fame' #何の結果か、どのような加工を加えているか、何個ずつか\n",
    "    prefix = make_prefix(**kwargs) #よく変えるパラメータ\n",
    "    ext = \".csv\"\n",
    "    df = hof_bit\n",
    "    #-------------------------------------\n",
    "    save_dir = FILE_DIR / Path(method_name) \n",
    "    # print(save_dir)\n",
    "    save_dir.mkdir(exist_ok=True, parents=True)\n",
    "    timestr = str(datetime.datetime.now().strftime('%Y-%m-%d_%H-%M'))\n",
    "    # print(timestr)\n",
    "    file_name = prefix + timestr + ext\n",
    "    df.to_csv(save_dir/file_name, index=False)\n",
    "    print(\"Saved in:\", save_dir/file_name)\n",
    "#     slack_notify(\"Saved in:\"+ str(save_dir/file_name))\n",
    "    \n",
    "#logの保存\n",
    "    log_df1 = pd.DataFrame(log.chapters['dist']) \n",
    "    log_df1 = log_df1.drop(['nevals'], axis=1)\n",
    "    log_df1 = log_df1.rename(columns={'avg':'dist avg', 'std':'dist std', 'min':'dist min', 'max':'dist max'})\n",
    "    log_df2 = pd.DataFrame(log.chapters['acc'])\n",
    "    log_df2 = log_df2.drop(['nevals'], axis=1)\n",
    "    log_df2 = log_df2.rename(columns={'avg':'acc avg', 'std':'acc std', 'min':'acc min', 'max':'acc max'})\n",
    "    log_df = pd.merge(log_df1, log_df2, on='gen')\n",
    "    # columns = log_df.columns.values\n",
    "    # columns = np.insert(columns, 0, columns[4])\n",
    "    # columns = np.delete(columns, 5)\n",
    "    log_df = log_df.drop(['gen'], axis=1)\n",
    "    columns = [\"dist avg\", \"acc avg\", \"dist std\", \"acc std\", \"dist min\", \"acc min\", \"dist max\", \"acc max\"]\n",
    "    log_df = log_df.reindex(columns=columns)\n",
    "    log_df = log_df.astype(\"float32\")\n",
    "\n",
    "    method_name = make_path(*args) + '/log' #何の結果か、どのような加工を加えているか、何個ずつか\n",
    "    prefix = make_prefix(**kwargs)\n",
    "    ext = \".csv\"\n",
    "    df = log_df\n",
    "    #-------------------------------------\n",
    "    save_dir = FILE_DIR / Path(method_name) \n",
    "    # print(save_dir)\n",
    "    save_dir.mkdir(exist_ok=True, parents=True)\n",
    "    timestr = str(datetime.datetime.now().strftime('%Y-%m-%d_%H-%M'))\n",
    "    # print(timestr)\n",
    "    file_name = prefix + timestr + ext\n",
    "    df.to_csv(save_dir/file_name, index=False)\n",
    "    print(\"Saved in:\", save_dir/file_name)\n",
    "#     slack_notify(\"Saved in:\"+ str(save_dir/file_name))\n",
    "    \n",
    "    #最終populationを保存\n",
    "#     pop = np.array(pop)\n",
    "    pop_df = pd.DataFrame(data=pop)\n",
    "    method_name = make_path(*args) + '/pop'\n",
    "    prefix = make_prefix(**kwargs) \n",
    "    ext = \".csv\"\n",
    "    df = pop_df\n",
    "    #-------------------------------------\n",
    "    save_dir = FILE_DIR / Path(method_name) \n",
    "    # print(save_dir)\n",
    "    save_dir.mkdir(exist_ok=True, parents=True)\n",
    "    timestr = str(datetime.datetime.now().strftime('%Y-%m-%d_%H-%M'))\n",
    "    # print(timestr)\n",
    "    file_name = prefix + timestr + ext\n",
    "    df.to_csv(save_dir/file_name, index=False)\n",
    "    print(\"Saved in:\", save_dir/file_name)\n",
    "#     slack_notify(\"Saved in:\"+ str(save_dir/file_name))\n",
    "    \n",
    "    return None"
   ]
  },
  {
   "cell_type": "markdown",
   "id": "1743784a",
   "metadata": {},
   "source": [
    "# ここからデータ取得"
   ]
  },
  {
   "cell_type": "code",
   "execution_count": 12,
   "id": "f22fe64b",
   "metadata": {
    "scrolled": true
   },
   "outputs": [
    {
     "name": "stdout",
     "output_type": "stream",
     "text": [
      "   \t      \t                            acc                             \t                                    dist                                    \n",
      "   \t      \t------------------------------------------------------------\t----------------------------------------------------------------------------\n",
      "gen\tnevals\tavg         \tgen\tmax \tmin  \tnevals\tstd         \tavg         \tgen\tmax         \tmin         \tnevals\tstd         \n",
      "0  \t30    \t[0.93333333]\t0  \t[1.]\t[0.2]\t30    \t[0.18678568]\t[3.19589295]\t0  \t[4.04351044]\t[2.70931792]\t30    \t[0.35561944]\n",
      "1  \t15    \t[0.99]      \t1  \t[1.]\t[0.9]\t15    \t[0.03]      \t[2.99299343]\t1  \t[3.38764811]\t[2.62482691]\t15    \t[0.20202203]\n",
      "処理時間： 113.44768102373928\n"
     ]
    }
   ],
   "source": [
    "#テストに使うデータのインデックスを指定（0~2467)\n",
    "data_idx = 615\n",
    "original_points, target_fv, target = GA_dataset.__getitem__(data_idx)\n",
    "#モデルに入力するためにtorchのtensor型に変換\n",
    "original_points = torch.from_numpy(original_points.astype(np.float32)).clone().view(1, 1024, 3)\n",
    "target_fv = torch.from_numpy(target_fv.astype(np.float32)).clone().view(1, -1)\n",
    "target = torch.from_numpy(np.array(target).astype(np.float32)).clone()\n",
    "\n",
    "Classifier_from_feature_vector = Classifier_from_feature_vector.eval().cuda()\n",
    "Feature_vector_calculator = Feature_vector_calculator.eval().cuda()\n",
    "\n",
    "rate = 1/2\n",
    "ngen = 1 #テストとして小さい値を使う。修論では1000\n",
    "seed = 0\n",
    "cxpd = 0.2\n",
    "mutpd = 0.5\n",
    "\n",
    "hof, pop, log= run_GA(original_points, target_fv, target, Feature_vector_calculator, \\\n",
    "                      Classifier_from_feature_vector, rate, ngen, seed, cxpd, mutpd) #ここで計算実行\n",
    "# save_GA_results(log, hof, pop, 'seed0', 'GA_downsampling',data=data_idx, ngen=ngen, rate=rate, seed=seed)#保存"
   ]
  },
  {
   "cell_type": "code",
   "execution_count": 15,
   "id": "96f0470b",
   "metadata": {},
   "outputs": [
    {
     "name": "stdout",
     "output_type": "stream",
     "text": [
      "   0     1     2     3     4     5     6     7     8     9     ...  1014  \\\n",
      "0   0.0   1.0   0.0   0.0   0.0   0.0   0.0   1.0   0.0   1.0  ...   0.0   \n",
      "\n",
      "   1015  1016  1017  1018  1019  1020  1021  1022  1023  \n",
      "0   0.0   1.0   1.0   0.0   1.0   0.0   0.0   1.0   1.0  \n",
      "\n",
      "[1 rows x 1024 columns]\n",
      "Saved in: ../Pointnet_Pointnet2_pytorch/../Mywork/Results/Files/seed0/GA_downsampling/test/Hall of fame/data615_ngen1_rate0.5_seed0_2022-02-24_10-46.csv\n",
      "Saved in: ../Pointnet_Pointnet2_pytorch/../Mywork/Results/Files/seed0/GA_downsampling/test/log/data615_ngen1_rate0.5_seed0_2022-02-24_10-46.csv\n",
      "Saved in: ../Pointnet_Pointnet2_pytorch/../Mywork/Results/Files/seed0/GA_downsampling/test/pop/data615_ngen1_rate0.5_seed0_2022-02-24_10-46.csv\n"
     ]
    }
   ],
   "source": [
    "save_GA_results(log, hof, pop, 'seed0', 'GA_downsampling', 'test', data=data_idx, ngen=ngen, rate=rate, seed=seed)"
   ]
  },
  {
   "cell_type": "code",
   "execution_count": 233,
   "id": "7892109d",
   "metadata": {
    "scrolled": true
   },
   "outputs": [
    {
     "name": "stdout",
     "output_type": "stream",
     "text": [
      "   \t      \t                            acc                             \t                                    dist                                    \n",
      "   \t      \t------------------------------------------------------------\t----------------------------------------------------------------------------\n",
      "gen\tnevals\tavg         \tgen\tmax \tmin \tnevals\tstd         \tavg         \tgen\tmax         \tmin         \tnevals\tstd         \n",
      "0  \t30    \t[0.58666667]\t0  \t[1.]\t[0.]\t30    \t[0.47027179]\t[4.97807967]\t0  \t[5.82215643]\t[4.22988081]\t30    \t[0.43114419]\n",
      "1  \t23    \t[0.59666667]\t1  \t[1.]\t[0.]\t23    \t[0.47151057]\t[4.55913908]\t1  \t[5.39813995]\t[3.98905993]\t23    \t[0.31960771]\n",
      "2  \t20    \t[0.49666667]\t2  \t[1.]\t[0.]\t20    \t[0.46510453]\t[4.40763302]\t2  \t[5.0579195] \t[4.06211519]\t20    \t[0.25130353]\n",
      "3  \t15    \t[0.4]       \t3  \t[1.]\t[0.]\t15    \t[0.48989795]\t[4.19501808]\t3  \t[4.43740797]\t[4.03622007]\t15    \t[0.13082222]\n",
      "4  \t15    \t[0.3]       \t4  \t[1.]\t[0.]\t15    \t[0.45825757]\t[4.11552003]\t4  \t[4.36844921]\t[4.01857901]\t15    \t[0.08206334]\n",
      "5  \t14    \t[0.06666667]\t5  \t[1.]\t[0.]\t14    \t[0.24944383]\t[4.12316225]\t5  \t[4.90948629]\t[3.91880202]\t14    \t[0.18467931]\n",
      "6  \t14    \t[0.03333333]\t6  \t[1.]\t[0.]\t14    \t[0.17950549]\t[4.10672605]\t6  \t[4.70856428]\t[3.91880202]\t14    \t[0.16004766]\n",
      "7  \t19    \t[0.09]      \t7  \t[1.]\t[0.]\t19    \t[0.26627054]\t[4.09096039]\t7  \t[4.74998665]\t[3.89485526]\t19    \t[0.16812258]\n",
      "8  \t16    \t[0.03666667]\t8  \t[1.]\t[0.]\t16    \t[0.17978382]\t[4.07660397]\t8  \t[4.56443548]\t[3.91880202]\t16    \t[0.12585054]\n",
      "9  \t20    \t[0.]        \t9  \t[0.]\t[0.]\t20    \t[0.]        \t[4.06481876]\t9  \t[4.50079346]\t[3.91880202]\t20    \t[0.11504565]\n",
      "10 \t21    \t[0.]        \t10 \t[0.]\t[0.]\t21    \t[0.]        \t[4.04204424]\t10 \t[4.24626017]\t[3.91880202]\t21    \t[0.07211421]\n",
      "11 \t18    \t[0.06666667]\t11 \t[1.]\t[0.]\t18    \t[0.24944383]\t[4.06559962]\t11 \t[4.43752241]\t[3.94765067]\t18    \t[0.14346264]\n",
      "12 \t24    \t[0.06666667]\t12 \t[1.]\t[0.]\t24    \t[0.24944383]\t[4.03761301]\t12 \t[4.49839163]\t[3.89981914]\t24    \t[0.13903255]\n",
      "13 \t21    \t[0.]        \t13 \t[0.]\t[0.]\t21    \t[0.]        \t[3.99972956]\t13 \t[4.25361204]\t[3.88610959]\t21    \t[0.0849549] \n",
      "14 \t11    \t[0.]        \t14 \t[0.]\t[0.]\t11    \t[0.]        \t[3.9656208] \t14 \t[4.16214895]\t[3.88610959]\t11    \t[0.06977495]\n",
      "15 \t20    \t[0.]        \t15 \t[0.]\t[0.]\t20    \t[0.]        \t[3.97495621]\t15 \t[4.19078064]\t[3.80734134]\t20    \t[0.10401949]\n",
      "16 \t21    \t[0.]        \t16 \t[0.]\t[0.]\t21    \t[0.]        \t[3.96551659]\t16 \t[4.2661643] \t[3.74898076]\t21    \t[0.12118968]\n",
      "17 \t19    \t[0.]        \t17 \t[0.]\t[0.]\t19    \t[0.]        \t[3.92187258]\t17 \t[4.09838343]\t[3.80031967]\t19    \t[0.09121126]\n",
      "18 \t21    \t[0.]        \t18 \t[0.]\t[0.]\t21    \t[0.]        \t[3.89558052]\t18 \t[4.14838934]\t[3.76414537]\t21    \t[0.08234326]\n",
      "19 \t20    \t[0.]        \t19 \t[0.]\t[0.]\t20    \t[0.]        \t[3.89161814]\t19 \t[4.14450979]\t[3.7625947] \t20    \t[0.10453782]\n",
      "20 \t15    \t[0.03]      \t20 \t[0.9]\t[0.]\t15    \t[0.16155494]\t[3.86959225]\t20 \t[4.21986341]\t[3.76414537]\t15    \t[0.1047042] \n",
      "21 \t23    \t[0.]        \t21 \t[0.] \t[0.]\t23    \t[0.]        \t[3.84976459]\t21 \t[4.06929159]\t[3.68506598]\t23    \t[0.08366129]\n",
      "22 \t18    \t[0.]        \t22 \t[0.] \t[0.]\t18    \t[0.]        \t[3.8411286] \t22 \t[4.15825891]\t[3.70124602]\t18    \t[0.09511728]\n",
      "23 \t20    \t[0.]        \t23 \t[0.] \t[0.]\t20    \t[0.]        \t[3.8073604] \t23 \t[4.13919067]\t[3.58988571]\t20    \t[0.09639219]\n",
      "24 \t13    \t[0.00333333]\t24 \t[0.1]\t[0.]\t13    \t[0.01795055]\t[3.78189652]\t24 \t[4.02001619]\t[3.58988571]\t13    \t[0.1124049] \n",
      "25 \t17    \t[0.]        \t25 \t[0.] \t[0.]\t17    \t[0.]        \t[3.74250576]\t25 \t[4.1151886] \t[3.56638503]\t17    \t[0.13313076]\n",
      "26 \t20    \t[0.00333333]\t26 \t[0.1]\t[0.]\t20    \t[0.01795055]\t[3.68386089]\t26 \t[3.82044005]\t[3.56936049]\t20    \t[0.06707849]\n",
      "27 \t17    \t[0.01666667]\t27 \t[0.5]\t[0.]\t17    \t[0.08975275]\t[3.64000027]\t27 \t[3.7905941] \t[3.44502044]\t17    \t[0.06676132]\n",
      "28 \t14    \t[0.00333333]\t28 \t[0.1]\t[0.]\t14    \t[0.01795055]\t[3.58435501]\t28 \t[3.81887364]\t[3.38373804]\t14    \t[0.10277103]\n",
      "29 \t17    \t[0.]        \t29 \t[0.] \t[0.]\t17    \t[0.]        \t[3.55000625]\t29 \t[3.79021239]\t[3.44115996]\t17    \t[0.08362798]\n",
      "30 \t16    \t[0.07]      \t30 \t[0.6]\t[0.]\t16    \t[0.18101565]\t[3.49190159]\t30 \t[3.66786957]\t[3.32791829]\t16    \t[0.0694408] \n",
      "31 \t16    \t[0.27]      \t31 \t[1.] \t[0.]\t16    \t[0.34847286]\t[3.43580578]\t31 \t[3.59427047]\t[3.30954599]\t16    \t[0.07514738]\n",
      "32 \t17    \t[0.35666667]\t32 \t[0.9]\t[0.]\t17    \t[0.3179972] \t[3.40664609]\t32 \t[3.58287477]\t[3.30954599]\t17    \t[0.06697114]\n",
      "33 \t18    \t[0.40333333]\t33 \t[1.] \t[0.]\t18    \t[0.35069772]\t[3.3661533] \t33 \t[3.48364186]\t[3.26520514]\t18    \t[0.05592879]\n",
      "34 \t16    \t[0.36]      \t34 \t[1.] \t[0.]\t16    \t[0.33326666]\t[3.35029203]\t34 \t[3.49808884]\t[3.26520514]\t16    \t[0.04867375]\n",
      "35 \t13    \t[0.41666667]\t35 \t[1.] \t[0.]\t13    \t[0.36795229]\t[3.33874587]\t35 \t[3.57249689]\t[3.22248435]\t13    \t[0.07220591]\n",
      "36 \t21    \t[0.47666667]\t36 \t[1.] \t[0.]\t21    \t[0.38094911]\t[3.32512976]\t36 \t[3.63295293]\t[3.1955483] \t21    \t[0.07758597]\n",
      "37 \t19    \t[0.46333333]\t37 \t[1.] \t[0.]\t19    \t[0.44157546]\t[3.3103983] \t37 \t[3.70650411]\t[3.1955483] \t19    \t[0.09006486]\n",
      "38 \t15    \t[0.54]      \t38 \t[1.] \t[0.]\t15    \t[0.36842005]\t[3.28915456]\t38 \t[3.48333335]\t[3.18175888]\t15    \t[0.06637099]\n",
      "39 \t16    \t[0.54]      \t39 \t[1.] \t[0.]\t16    \t[0.37022516]\t[3.26579644]\t39 \t[3.53697753]\t[3.18175888]\t16    \t[0.07290335]\n",
      "40 \t19    \t[0.42]      \t40 \t[1.] \t[0.]\t19    \t[0.36551334]\t[3.26648037]\t40 \t[3.41342139]\t[3.18175888]\t19    \t[0.06091681]\n",
      "41 \t19    \t[0.48666667]\t41 \t[1.] \t[0.]\t19    \t[0.4185159] \t[3.25779524]\t41 \t[3.47524643]\t[3.17068911]\t19    \t[0.07603071]\n",
      "42 \t16    \t[0.66333333]\t42 \t[1.] \t[0.]\t16    \t[0.43625935]\t[3.23220753]\t42 \t[3.48935676]\t[3.17068911]\t16    \t[0.06023495]\n",
      "43 \t18    \t[0.76]      \t43 \t[1.] \t[0.]\t18    \t[0.3954744] \t[3.22846339]\t43 \t[3.37317085]\t[3.15254641]\t18    \t[0.05887308]\n",
      "44 \t15    \t[0.77666667]\t44 \t[1.] \t[0.]\t15    \t[0.36394444]\t[3.23100853]\t44 \t[3.46241832]\t[3.13088202]\t15    \t[0.0704567] \n",
      "45 \t24    \t[0.81]      \t45 \t[1.] \t[0.]\t24    \t[0.31235663]\t[3.23893146]\t45 \t[3.39065099]\t[3.13088202]\t24    \t[0.06689533]\n",
      "46 \t17    \t[0.83666667]\t46 \t[1.] \t[0.1]\t17    \t[0.31883468]\t[3.22229509]\t46 \t[3.43541646]\t[3.06546378]\t17    \t[0.07713512]\n",
      "47 \t16    \t[0.81]      \t47 \t[1.] \t[0.] \t16    \t[0.33600595]\t[3.18536496]\t47 \t[3.30001187]\t[3.06546378]\t16    \t[0.05633108]\n",
      "48 \t20    \t[0.75333333]\t48 \t[1.] \t[0.] \t20    \t[0.33638602]\t[3.17983101]\t48 \t[3.27876258]\t[3.06546378]\t20    \t[0.05102662]\n",
      "49 \t18    \t[0.86333333]\t49 \t[1.] \t[0.3]\t18    \t[0.21982316]\t[3.16978082]\t49 \t[3.48168349]\t[3.06546378]\t18    \t[0.07392709]\n",
      "50 \t15    \t[0.89]      \t50 \t[1.] \t[0.1]\t15    \t[0.21962089]\t[3.16117222]\t50 \t[3.27669692]\t[3.07090926]\t15    \t[0.05550145]\n",
      "51 \t16    \t[0.84333333]\t51 \t[1.] \t[0.1]\t16    \t[0.27041121]\t[3.12994647]\t51 \t[3.32666707]\t[3.0672853] \t16    \t[0.05571697]\n",
      "52 \t14    \t[0.87]      \t52 \t[1.] \t[0.] \t14    \t[0.2818392] \t[3.1148363] \t52 \t[3.53067565]\t[2.9945786] \t14    \t[0.10062422]\n",
      "53 \t20    \t[0.88666667]\t53 \t[1.] \t[0.] \t20    \t[0.29858928]\t[3.09514709]\t53 \t[3.38925242]\t[2.9945786] \t20    \t[0.07827205]\n",
      "54 \t16    \t[0.94]      \t54 \t[1.] \t[0.] \t16    \t[0.18726096]\t[3.07740976]\t54 \t[3.19222188]\t[2.93429995]\t16    \t[0.06337622]\n",
      "55 \t13    \t[0.96]      \t55 \t[1.] \t[0.] \t13    \t[0.18]      \t[3.06282022]\t55 \t[3.49894571]\t[2.93429995]\t13    \t[0.10532187]\n",
      "56 \t22    \t[0.98]      \t56 \t[1.] \t[0.6]\t22    \t[0.07483315]\t[3.02195406]\t56 \t[3.30318379]\t[2.92562747]\t22    \t[0.09634883]\n",
      "57 \t19    \t[0.98]      \t57 \t[1.] \t[0.5]\t19    \t[0.09092121]\t[2.99952757]\t57 \t[3.17624283]\t[2.91186976]\t19    \t[0.07333534]\n",
      "58 \t20    \t[0.99]      \t58 \t[1.] \t[0.8]\t20    \t[0.03958114]\t[2.98336096]\t58 \t[3.15242672]\t[2.88744235]\t20    \t[0.06407781]\n",
      "59 \t16    \t[1.]        \t59 \t[1.] \t[1.] \t16    \t[0.]        \t[2.97829952]\t59 \t[3.35595703]\t[2.88744235]\t16    \t[0.10929397]\n",
      "60 \t14    \t[1.]        \t60 \t[1.] \t[1.] \t14    \t[0.]        \t[2.93116907]\t60 \t[3.0948174] \t[2.88744235]\t14    \t[0.04796862]\n",
      "61 \t19    \t[1.]        \t61 \t[1.] \t[1.] \t19    \t[0.]        \t[2.92133943]\t61 \t[3.12225699]\t[2.86392093]\t19    \t[0.05749527]\n",
      "62 \t17    \t[1.]        \t62 \t[1.] \t[1.] \t17    \t[0.]        \t[2.91730254]\t62 \t[3.13157892]\t[2.86387992]\t17    \t[0.05618]   \n",
      "63 \t14    \t[0.99666667]\t63 \t[1.] \t[0.9]\t14    \t[0.01795055]\t[2.90662146]\t63 \t[3.07113433]\t[2.8552444] \t14    \t[0.04706032]\n"
     ]
    },
    {
     "name": "stdout",
     "output_type": "stream",
     "text": [
      "64 \t18    \t[0.98666667]\t64 \t[1.] \t[0.6]\t18    \t[0.0718022] \t[2.9145398] \t64 \t[3.12183142]\t[2.8552444] \t18    \t[0.06140652]\n",
      "65 \t16    \t[1.]        \t65 \t[1.] \t[1.] \t16    \t[0.]        \t[2.88989666]\t65 \t[2.99289131]\t[2.84405589]\t16    \t[0.04176578]\n",
      "66 \t20    \t[0.99]      \t66 \t[1.] \t[0.7]\t20    \t[0.05385165]\t[2.88672756]\t66 \t[3.03486753]\t[2.78581357]\t20    \t[0.05886124]\n",
      "67 \t19    \t[1.]        \t67 \t[1.] \t[1.] \t19    \t[0.]        \t[2.88790674]\t67 \t[3.07307363]\t[2.8222425] \t19    \t[0.0523171] \n",
      "68 \t17    \t[0.97]      \t68 \t[1.] \t[0.5]\t17    \t[0.09363048]\t[2.88714166]\t68 \t[3.08128762]\t[2.8222425] \t17    \t[0.06313405]\n",
      "69 \t18    \t[0.99666667]\t69 \t[1.] \t[0.9]\t18    \t[0.01795055]\t[2.87910879]\t69 \t[3.1529026] \t[2.81973052]\t18    \t[0.06912276]\n",
      "70 \t25    \t[0.96333333]\t70 \t[1.] \t[0.4]\t25    \t[0.11685699]\t[2.86954404]\t70 \t[3.00564384]\t[2.78770614]\t25    \t[0.05394168]\n",
      "71 \t19    \t[0.98333333]\t71 \t[1.] \t[0.7]\t19    \t[0.05821416]\t[2.87100285]\t71 \t[3.09818935]\t[2.78770614]\t19    \t[0.07134338]\n",
      "72 \t16    \t[0.97333333]\t72 \t[1.] \t[0.5]\t16    \t[0.09285592]\t[2.85427302]\t72 \t[2.965168]  \t[2.78770614]\t16    \t[0.04575349]\n",
      "73 \t19    \t[0.98]      \t73 \t[1.] \t[0.7]\t19    \t[0.06531973]\t[2.82283514]\t73 \t[2.95650411]\t[2.71913123]\t19    \t[0.0478732] \n",
      "74 \t14    \t[0.98]      \t74 \t[1.] \t[0.5]\t14    \t[0.09092121]\t[2.8050804] \t74 \t[2.91356897]\t[2.71913123]\t14    \t[0.0446427] \n",
      "75 \t20    \t[0.99666667]\t75 \t[1.] \t[0.9]\t20    \t[0.01795055]\t[2.81678704]\t75 \t[3.17075777]\t[2.71913123]\t20    \t[0.08018727]\n",
      "76 \t18    \t[1.]        \t76 \t[1.] \t[1.] \t18    \t[0.]        \t[2.78477145]\t76 \t[2.89159846]\t[2.71913123]\t18    \t[0.04429192]\n",
      "77 \t17    \t[1.]        \t77 \t[1.] \t[1.] \t17    \t[0.]        \t[2.78165131]\t77 \t[2.94580722]\t[2.71913123]\t17    \t[0.05513511]\n",
      "78 \t17    \t[0.99333333]\t78 \t[1.] \t[0.9]\t17    \t[0.02494438]\t[2.77583392]\t78 \t[2.86060691]\t[2.71913123]\t17    \t[0.0438599] \n",
      "79 \t19    \t[0.98666667]\t79 \t[1.] \t[0.6]\t19    \t[0.0718022] \t[2.79461909]\t79 \t[2.92040277]\t[2.71913123]\t19    \t[0.06341961]\n",
      "80 \t17    \t[0.99666667]\t80 \t[1.] \t[0.9]\t17    \t[0.01795055]\t[2.7789417] \t80 \t[2.92868114]\t[2.7119081] \t17    \t[0.05701174]\n",
      "81 \t21    \t[0.99]      \t81 \t[1.] \t[0.9]\t21    \t[0.03]      \t[2.79223946]\t81 \t[3.18881726]\t[2.7119081] \t21    \t[0.0877443] \n",
      "82 \t15    \t[0.99666667]\t82 \t[1.] \t[0.9]\t15    \t[0.01795055]\t[2.76916391]\t82 \t[2.90997553]\t[2.7119081] \t15    \t[0.04197364]\n",
      "83 \t15    \t[0.97]      \t83 \t[1.] \t[0.6]\t15    \t[0.08621678]\t[2.76903163]\t83 \t[3.00461245]\t[2.7119081] \t15    \t[0.05954802]\n",
      "84 \t12    \t[0.96666667]\t84 \t[1.] \t[0.1]\t12    \t[0.16193277]\t[2.76662009]\t84 \t[2.92331123]\t[2.70989323]\t12    \t[0.06370482]\n",
      "85 \t12    \t[0.98333333]\t85 \t[1.] \t[0.7]\t12    \t[0.05821416]\t[2.74849533]\t85 \t[2.86416936]\t[2.70989323]\t12    \t[0.0480967] \n",
      "86 \t16    \t[0.96666667]\t86 \t[1.] \t[0.4]\t16    \t[0.11925696]\t[2.77079117]\t86 \t[3.39053535]\t[2.68303323]\t16    \t[0.1278278] \n",
      "87 \t21    \t[0.99666667]\t87 \t[1.] \t[0.9]\t21    \t[0.01795055]\t[2.78611401]\t87 \t[3.14032245]\t[2.68303323]\t21    \t[0.08928631]\n",
      "88 \t14    \t[0.97666667]\t88 \t[1.] \t[0.5]\t14    \t[0.09551033]\t[2.76113943]\t88 \t[2.92739248]\t[2.68303323]\t14    \t[0.05470473]\n",
      "89 \t24    \t[0.98666667]\t89 \t[1.] \t[0.8]\t24    \t[0.04268749]\t[2.7762298] \t89 \t[3.06949043]\t[2.68287826]\t24    \t[0.07422225]\n",
      "90 \t20    \t[1.]        \t90 \t[1.] \t[1.] \t20    \t[0.]        \t[2.75105046]\t90 \t[2.8710022] \t[2.68287826]\t20    \t[0.04601134]\n",
      "91 \t22    \t[0.99666667]\t91 \t[1.] \t[0.9]\t22    \t[0.01795055]\t[2.75609465]\t91 \t[2.90234542]\t[2.68287826]\t22    \t[0.05389482]\n",
      "92 \t19    \t[1.]        \t92 \t[1.] \t[1.] \t19    \t[0.]        \t[2.76309253]\t92 \t[2.92755222]\t[2.68287826]\t19    \t[0.05991662]\n",
      "93 \t17    \t[0.98666667]\t93 \t[1.] \t[0.8]\t17    \t[0.04268749]\t[2.76088603]\t93 \t[2.87299776]\t[2.69491553]\t17    \t[0.05254415]\n",
      "94 \t16    \t[0.99333333]\t94 \t[1.] \t[0.8]\t16    \t[0.0359011] \t[2.75725346]\t94 \t[3.00909162]\t[2.69491553]\t16    \t[0.07265005]\n",
      "95 \t14    \t[1.]        \t95 \t[1.] \t[1.] \t14    \t[0.]        \t[2.72460252]\t95 \t[2.81040931]\t[2.69118237]\t14    \t[0.0342904] \n",
      "96 \t19    \t[1.]        \t96 \t[1.] \t[1.] \t19    \t[0.]        \t[2.7530519] \t96 \t[3.14136291]\t[2.69118237]\t19    \t[0.08578753]\n",
      "97 \t18    \t[0.99666667]\t97 \t[1.] \t[0.9]\t18    \t[0.01795055]\t[2.7297415] \t97 \t[2.97273564]\t[2.67261052]\t18    \t[0.05350829]\n",
      "98 \t16    \t[1.]        \t98 \t[1.] \t[1.] \t16    \t[0.]        \t[2.72639593]\t98 \t[2.90275502]\t[2.67261052]\t16    \t[0.05458639]\n",
      "99 \t14    \t[1.]        \t99 \t[1.] \t[1.] \t14    \t[0.]        \t[2.71622491]\t99 \t[2.88587952]\t[2.66086698]\t14    \t[0.05542836]\n",
      "100\t16    \t[0.95333333]\t100\t[1.] \t[0.1]\t16    \t[0.18208667]\t[2.72686222]\t100\t[3.18707442]\t[2.64554381]\t16    \t[0.09540627]\n",
      "101\t22    \t[0.98333333]\t101\t[1.] \t[0.5]\t22    \t[0.08975275]\t[2.72526016]\t101\t[2.81785202]\t[2.65919852]\t22    \t[0.03959527]\n",
      "102\t22    \t[0.99666667]\t102\t[1.] \t[0.9]\t22    \t[0.01795055]\t[2.7240141] \t102\t[2.80662322]\t[2.63922167]\t22    \t[0.03784239]\n",
      "103\t26    \t[1.]        \t103\t[1.] \t[1.] \t26    \t[0.]        \t[2.73545955]\t103\t[2.88576961]\t[2.64632297]\t26    \t[0.05572471]\n",
      "104\t18    \t[0.99666667]\t104\t[1.] \t[0.9]\t18    \t[0.01795055]\t[2.73107313]\t104\t[2.89041305]\t[2.64472008]\t18    \t[0.05386511]\n",
      "105\t14    \t[1.]        \t105\t[1.] \t[1.] \t14    \t[0.]        \t[2.72902966]\t105\t[2.89464617]\t[2.64472008]\t14    \t[0.05658283]\n",
      "106\t21    \t[0.99666667]\t106\t[1.] \t[0.9]\t21    \t[0.01795055]\t[2.71603314]\t106\t[2.96705413]\t[2.65551925]\t21    \t[0.0662608] \n",
      "107\t17    \t[1.]        \t107\t[1.] \t[1.] \t17    \t[0.]        \t[2.71291646]\t107\t[2.81211925]\t[2.6494565] \t17    \t[0.04807989]\n",
      "108\t19    \t[0.97333333]\t108\t[1.] \t[0.2]\t19    \t[0.14360439]\t[2.73018696]\t108\t[3.1842382] \t[2.63659596]\t19    \t[0.1168686] \n",
      "109\t16    \t[1.]        \t109\t[1.] \t[1.] \t16    \t[0.]        \t[2.69590278]\t109\t[2.79986906]\t[2.63659596]\t16    \t[0.0475231] \n",
      "110\t20    \t[0.99]      \t110\t[1.] \t[0.7]\t20    \t[0.05385165]\t[2.72331293]\t110\t[3.26095581]\t[2.63659596]\t20    \t[0.11960428]\n",
      "111\t16    \t[0.99666667]\t111\t[1.] \t[0.9]\t16    \t[0.01795055]\t[2.6910632] \t111\t[2.82589889]\t[2.62939191]\t16    \t[0.0560004] \n",
      "112\t18    \t[1.]        \t112\t[1.] \t[1.] \t18    \t[0.]        \t[2.70488911]\t112\t[2.94455028]\t[2.61267614]\t18    \t[0.07238599]\n",
      "113\t12    \t[1.]        \t113\t[1.] \t[1.] \t12    \t[0.]        \t[2.69231214]\t113\t[2.91417694]\t[2.61267614]\t12    \t[0.07968444]\n",
      "114\t17    \t[1.]        \t114\t[1.] \t[1.] \t17    \t[0.]        \t[2.665345]  \t114\t[2.83344841]\t[2.60485554]\t17    \t[0.05516745]\n",
      "115\t22    \t[0.99666667]\t115\t[1.] \t[0.9]\t22    \t[0.01795055]\t[2.67815408]\t115\t[2.84329915]\t[2.59246612]\t22    \t[0.06660403]\n",
      "116\t23    \t[1.]        \t116\t[1.] \t[1.] \t23    \t[0.]        \t[2.68484024]\t116\t[2.9154892] \t[2.61267614]\t23    \t[0.05922157]\n",
      "117\t18    \t[1.]        \t117\t[1.] \t[1.] \t18    \t[0.]        \t[2.67636477]\t117\t[2.81779909]\t[2.61267614]\t18    \t[0.04094751]\n",
      "118\t22    \t[1.]        \t118\t[1.] \t[1.] \t22    \t[0.]        \t[2.68115017]\t118\t[2.83430934]\t[2.61267614]\t22    \t[0.05500552]\n",
      "119\t16    \t[1.]        \t119\t[1.] \t[1.] \t16    \t[0.]        \t[2.67750348]\t119\t[2.90338778]\t[2.60640311]\t16    \t[0.06060435]\n",
      "120\t18    \t[1.]        \t120\t[1.] \t[1.] \t18    \t[0.]        \t[2.67020915]\t120\t[2.80739951]\t[2.6050384] \t18    \t[0.05048548]\n",
      "121\t18    \t[0.99666667]\t121\t[1.] \t[0.9]\t18    \t[0.01795055]\t[2.67728286]\t121\t[2.81394148]\t[2.56613374]\t18    \t[0.05495549]\n",
      "122\t19    \t[0.98]      \t122\t[1.] \t[0.5]\t19    \t[0.09092121]\t[2.66804115]\t122\t[2.84196496]\t[2.56613374]\t19    \t[0.06042805]\n",
      "123\t17    \t[0.97333333]\t123\t[1.] \t[0.4]\t17    \t[0.11234866]\t[2.64279806]\t123\t[2.83446336]\t[2.56613374]\t17    \t[0.06471514]\n",
      "124\t20    \t[1.]        \t124\t[1.] \t[1.] \t20    \t[0.]        \t[2.63350073]\t124\t[2.76218748]\t[2.55311775]\t20    \t[0.04657274]\n",
      "125\t14    \t[1.]        \t125\t[1.] \t[1.] \t14    \t[0.]        \t[2.62799567]\t125\t[2.80539107]\t[2.55311775]\t14    \t[0.06092934]\n",
      "126\t20    \t[0.99666667]\t126\t[1.] \t[0.9]\t20    \t[0.01795055]\t[2.65705826]\t126\t[3.18971038]\t[2.56613374]\t20    \t[0.11468888]\n",
      "127\t17    \t[1.]        \t127\t[1.] \t[1.] \t17    \t[0.]        \t[2.6359616] \t127\t[2.76357722]\t[2.56613374]\t17    \t[0.0495076] \n",
      "128\t21    \t[1.]        \t128\t[1.] \t[1.] \t21    \t[0.]        \t[2.60832639]\t128\t[2.76956463]\t[2.55136943]\t21    \t[0.04438899]\n",
      "129\t15    \t[1.]        \t129\t[1.] \t[1.] \t15    \t[0.]        \t[2.61656101]\t129\t[2.73186493]\t[2.53595042]\t15    \t[0.0546534] \n",
      "130\t17    \t[1.]        \t130\t[1.] \t[1.] \t17    \t[0.]        \t[2.59503618]\t130\t[2.81841421]\t[2.53595042]\t17    \t[0.05277361]\n"
     ]
    },
    {
     "name": "stdout",
     "output_type": "stream",
     "text": [
      "131\t17    \t[1.]        \t131\t[1.] \t[1.] \t17    \t[0.]        \t[2.59055414]\t131\t[2.79731178]\t[2.53595042]\t17    \t[0.05426496]\n",
      "132\t19    \t[1.]        \t132\t[1.] \t[1.] \t19    \t[0.]        \t[2.59861977]\t132\t[2.77175903]\t[2.52213669]\t19    \t[0.05478017]\n",
      "133\t14    \t[1.]        \t133\t[1.] \t[1.] \t14    \t[0.]        \t[2.58183334]\t133\t[2.72936177]\t[2.52213669]\t14    \t[0.05355333]\n",
      "134\t17    \t[1.]        \t134\t[1.] \t[1.] \t17    \t[0.]        \t[2.59385986]\t134\t[2.8407197] \t[2.52213669]\t17    \t[0.0726087] \n",
      "135\t20    \t[1.]        \t135\t[1.] \t[1.] \t20    \t[0.]        \t[2.58200765]\t135\t[2.75493312]\t[2.52213669]\t20    \t[0.04962747]\n",
      "136\t16    \t[1.]        \t136\t[1.] \t[1.] \t16    \t[0.]        \t[2.58336931]\t136\t[2.69458556]\t[2.52213669]\t16    \t[0.04324732]\n",
      "137\t17    \t[1.]        \t137\t[1.] \t[1.] \t17    \t[0.]        \t[2.57720416]\t137\t[2.71902871]\t[2.52213669]\t17    \t[0.05044407]\n",
      "138\t13    \t[1.]        \t138\t[1.] \t[1.] \t13    \t[0.]        \t[2.57422062]\t138\t[2.73370862]\t[2.52213669]\t13    \t[0.05490862]\n",
      "139\t21    \t[1.]        \t139\t[1.] \t[1.] \t21    \t[0.]        \t[2.61940852]\t139\t[3.03110933]\t[2.52213669]\t21    \t[0.11067215]\n",
      "140\t16    \t[1.]        \t140\t[1.] \t[1.] \t16    \t[0.]        \t[2.58765153]\t140\t[2.70027232]\t[2.52213669]\t16    \t[0.0473906] \n",
      "141\t14    \t[1.]        \t141\t[1.] \t[1.] \t14    \t[0.]        \t[2.57197643]\t141\t[2.70768213]\t[2.52213669]\t14    \t[0.04825062]\n",
      "142\t19    \t[1.]        \t142\t[1.] \t[1.] \t19    \t[0.]        \t[2.58152382]\t142\t[2.67914844]\t[2.52213669]\t19    \t[0.04672515]\n",
      "143\t18    \t[1.]        \t143\t[1.] \t[1.] \t18    \t[0.]        \t[2.57657386]\t143\t[2.70514297]\t[2.52213669]\t18    \t[0.04600456]\n",
      "144\t19    \t[1.]        \t144\t[1.] \t[1.] \t19    \t[0.]        \t[2.57042557]\t144\t[2.76942563]\t[2.51337314]\t19    \t[0.05024116]\n",
      "145\t15    \t[1.]        \t145\t[1.] \t[1.] \t15    \t[0.]        \t[2.56926998]\t145\t[2.66448116]\t[2.51337314]\t15    \t[0.03778964]\n",
      "146\t13    \t[1.]        \t146\t[1.] \t[1.] \t13    \t[0.]        \t[2.5662913] \t146\t[2.80202341]\t[2.50565195]\t13    \t[0.05620787]\n",
      "147\t22    \t[1.]        \t147\t[1.] \t[1.] \t22    \t[0.]        \t[2.57446019]\t147\t[2.69514823]\t[2.50758743]\t22    \t[0.04770258]\n",
      "148\t16    \t[1.]        \t148\t[1.] \t[1.] \t16    \t[0.]        \t[2.56699054]\t148\t[2.72748375]\t[2.50758743]\t16    \t[0.04700183]\n",
      "149\t15    \t[0.96666667]\t149\t[1.] \t[0.] \t15    \t[0.17950549]\t[2.59149884]\t149\t[3.20383239]\t[2.50758743]\t15    \t[0.12488088]\n",
      "150\t17    \t[1.]        \t150\t[1.] \t[1.] \t17    \t[0.]        \t[2.58570706]\t150\t[3.1172204] \t[2.50758743]\t17    \t[0.11765003]\n",
      "151\t14    \t[1.]        \t151\t[1.] \t[1.] \t14    \t[0.]        \t[2.5582291] \t151\t[2.73969102]\t[2.50758743]\t14    \t[0.05321911]\n",
      "152\t17    \t[1.]        \t152\t[1.] \t[1.] \t17    \t[0.]        \t[2.5575874] \t152\t[2.68593192]\t[2.46358681]\t17    \t[0.05478567]\n",
      "153\t20    \t[1.]        \t153\t[1.] \t[1.] \t20    \t[0.]        \t[2.58390172]\t153\t[2.98850989]\t[2.49094915]\t20    \t[0.10277185]\n",
      "154\t17    \t[1.]        \t154\t[1.] \t[1.] \t17    \t[0.]        \t[2.55999587]\t154\t[2.6620605] \t[2.50758743]\t17    \t[0.04428962]\n",
      "155\t24    \t[1.]        \t155\t[1.] \t[1.] \t24    \t[0.]        \t[2.57066931]\t155\t[2.66563582]\t[2.49151015]\t24    \t[0.04491322]\n",
      "156\t16    \t[1.]        \t156\t[1.] \t[1.] \t16    \t[0.]        \t[2.57042683]\t156\t[2.81555915]\t[2.49552798]\t16    \t[0.06936565]\n",
      "157\t18    \t[1.]        \t157\t[1.] \t[1.] \t18    \t[0.]        \t[2.5664353] \t157\t[2.70297551]\t[2.49552798]\t18    \t[0.0522514] \n",
      "158\t20    \t[1.]        \t158\t[1.] \t[1.] \t20    \t[0.]        \t[2.55210578]\t158\t[2.66088367]\t[2.49295855]\t20    \t[0.04788632]\n",
      "159\t17    \t[1.]        \t159\t[1.] \t[1.] \t17    \t[0.]        \t[2.52905873]\t159\t[2.66440701]\t[2.49295855]\t17    \t[0.03748202]\n",
      "160\t18    \t[1.]        \t160\t[1.] \t[1.] \t18    \t[0.]        \t[2.54976251]\t160\t[2.76492119]\t[2.49225283]\t18    \t[0.06066521]\n",
      "161\t19    \t[1.]        \t161\t[1.] \t[1.] \t19    \t[0.]        \t[2.54274939]\t161\t[2.71423674]\t[2.49225283]\t19    \t[0.05795095]\n",
      "162\t16    \t[1.]        \t162\t[1.] \t[1.] \t16    \t[0.]        \t[2.53913263]\t162\t[2.63346815]\t[2.49225283]\t16    \t[0.04440684]\n",
      "163\t15    \t[1.]        \t163\t[1.] \t[1.] \t15    \t[0.]        \t[2.54548408]\t163\t[2.79484963]\t[2.45869136]\t15    \t[0.07232337]\n",
      "164\t20    \t[0.99]      \t164\t[1.] \t[0.7]\t20    \t[0.05385165]\t[2.56532479]\t164\t[3.28010106]\t[2.49552798]\t20    \t[0.13783089]\n",
      "165\t20    \t[1.]        \t165\t[1.] \t[1.] \t20    \t[0.]        \t[2.5645594] \t165\t[2.77045774]\t[2.4873035] \t20    \t[0.06661613]\n",
      "166\t15    \t[0.99333333]\t166\t[1.] \t[0.8]\t15    \t[0.0359011] \t[2.54293718]\t166\t[2.71624565]\t[2.47871757]\t15    \t[0.05746255]\n",
      "167\t20    \t[0.99666667]\t167\t[1.] \t[0.9]\t20    \t[0.01795055]\t[2.56076034]\t167\t[3.1154716] \t[2.47871757]\t20    \t[0.11221969]\n",
      "168\t18    \t[1.]        \t168\t[1.] \t[1.] \t18    \t[0.]        \t[2.53984137]\t168\t[2.6403141] \t[2.48380542]\t18    \t[0.04557622]\n",
      "169\t17    \t[1.]        \t169\t[1.] \t[1.] \t17    \t[0.]        \t[2.53232216]\t169\t[2.71006656]\t[2.48380542]\t17    \t[0.05218145]\n",
      "170\t26    \t[1.]        \t170\t[1.] \t[1.] \t26    \t[0.]        \t[2.52262247]\t170\t[2.63494372]\t[2.46488428]\t26    \t[0.04358913]\n",
      "171\t20    \t[1.]        \t171\t[1.] \t[1.] \t20    \t[0.]        \t[2.52522346]\t171\t[2.62529564]\t[2.4617219] \t20    \t[0.04502995]\n",
      "172\t20    \t[1.]        \t172\t[1.] \t[1.] \t20    \t[0.]        \t[2.52831991]\t172\t[2.69442511]\t[2.40906787]\t20    \t[0.06452447]\n",
      "173\t14    \t[1.]        \t173\t[1.] \t[1.] \t14    \t[0.]        \t[2.50454092]\t173\t[2.59851599]\t[2.40906787]\t14    \t[0.04088453]\n",
      "174\t17    \t[1.]        \t174\t[1.] \t[1.] \t17    \t[0.]        \t[2.5013387] \t174\t[2.61079907]\t[2.40906787]\t17    \t[0.04491998]\n",
      "175\t21    \t[0.97666667]\t175\t[1.] \t[0.3]\t21    \t[0.12565385]\t[2.5144846] \t175\t[3.02327156]\t[2.40906787]\t21    \t[0.1086053] \n",
      "176\t21    \t[0.99666667]\t176\t[1.] \t[0.9]\t21    \t[0.01795055]\t[2.50370277]\t176\t[2.69858932]\t[2.40906787]\t21    \t[0.06849204]\n",
      "177\t20    \t[0.97666667]\t177\t[1.] \t[0.5]\t20    \t[0.09551033]\t[2.51225793]\t177\t[3.05897999]\t[2.43129086]\t20    \t[0.1229928] \n",
      "178\t21    \t[1.]        \t178\t[1.] \t[1.] \t21    \t[0.]        \t[2.48227967]\t178\t[2.59514928]\t[2.43129086]\t21    \t[0.03913696]\n",
      "179\t21    \t[1.]        \t179\t[1.] \t[1.] \t21    \t[0.]        \t[2.486861]  \t179\t[2.71342373]\t[2.39343381]\t21    \t[0.06589112]\n",
      "180\t19    \t[1.]        \t180\t[1.] \t[1.] \t19    \t[0.]        \t[2.47702171]\t180\t[2.5920198] \t[2.39343381]\t19    \t[0.04877429]\n",
      "181\t20    \t[0.99666667]\t181\t[1.] \t[0.9]\t20    \t[0.01795055]\t[2.52125585]\t181\t[3.0316174] \t[2.40290427]\t20    \t[0.12371424]\n",
      "182\t23    \t[1.]        \t182\t[1.] \t[1.] \t23    \t[0.]        \t[2.48186138]\t182\t[2.62900329]\t[2.39756179]\t23    \t[0.06298271]\n",
      "183\t21    \t[1.]        \t183\t[1.] \t[1.] \t21    \t[0.]        \t[2.47115295]\t183\t[2.58433032]\t[2.39756179]\t21    \t[0.05356757]\n",
      "184\t17    \t[1.]        \t184\t[1.] \t[1.] \t17    \t[0.]        \t[2.48031382]\t184\t[2.66189647]\t[2.39756179]\t17    \t[0.06689071]\n",
      "185\t21    \t[0.99666667]\t185\t[1.] \t[0.9]\t21    \t[0.01795055]\t[2.46604169]\t185\t[2.57189131]\t[2.40290427]\t21    \t[0.04476099]\n",
      "186\t15    \t[0.99666667]\t186\t[1.] \t[0.9]\t15    \t[0.01795055]\t[2.49002262]\t186\t[2.89510798]\t[2.40290427]\t15    \t[0.08761408]\n",
      "187\t18    \t[0.99333333]\t187\t[1.] \t[0.8]\t18    \t[0.0359011] \t[2.48674241]\t187\t[2.58680344]\t[2.40290427]\t18    \t[0.0524795] \n",
      "188\t19    \t[0.99666667]\t188\t[1.] \t[0.9]\t19    \t[0.01795055]\t[2.48113729]\t188\t[2.64006591]\t[2.39792895]\t19    \t[0.05526491]\n",
      "189\t19    \t[0.98333333]\t189\t[1.] \t[0.5]\t19    \t[0.08975275]\t[2.49556747]\t189\t[3.05189395]\t[2.39792895]\t19    \t[0.11373067]\n",
      "190\t13    \t[1.]        \t190\t[1.] \t[1.] \t13    \t[0.]        \t[2.45777553]\t190\t[2.5730927] \t[2.39792895]\t13    \t[0.04793344]\n",
      "191\t16    \t[1.]        \t191\t[1.] \t[1.] \t16    \t[0.]        \t[2.46442584]\t191\t[2.64678955]\t[2.39792895]\t16    \t[0.05598454]\n",
      "192\t15    \t[1.]        \t192\t[1.] \t[1.] \t15    \t[0.]        \t[2.44744142]\t192\t[2.55255342]\t[2.39792895]\t15    \t[0.040155]  \n",
      "193\t17    \t[1.]        \t193\t[1.] \t[1.] \t17    \t[0.]        \t[2.46702824]\t193\t[2.66464067]\t[2.39792895]\t17    \t[0.06599421]\n",
      "194\t23    \t[1.]        \t194\t[1.] \t[1.] \t23    \t[0.]        \t[2.47665428]\t194\t[2.66267848]\t[2.39792895]\t23    \t[0.0654084] \n",
      "195\t19    \t[1.]        \t195\t[1.] \t[1.] \t19    \t[0.]        \t[2.46891001]\t195\t[2.62447166]\t[2.39792895]\t19    \t[0.05983349]\n",
      "196\t21    \t[1.]        \t196\t[1.] \t[1.] \t21    \t[0.]        \t[2.47662369]\t196\t[2.67046118]\t[2.39792895]\t21    \t[0.0681953] \n",
      "197\t17    \t[0.99666667]\t197\t[1.] \t[0.9]\t17    \t[0.01795055]\t[2.46834508]\t197\t[2.56403661]\t[2.39792895]\t17    \t[0.0502387] \n"
     ]
    },
    {
     "name": "stdout",
     "output_type": "stream",
     "text": [
      "198\t19    \t[1.]        \t198\t[1.] \t[1.] \t19    \t[0.]        \t[2.49494249]\t198\t[2.94160819]\t[2.39792895]\t19    \t[0.09916812]\n",
      "199\t17    \t[0.99333333]\t199\t[1.] \t[0.8]\t17    \t[0.0359011] \t[2.47203606]\t199\t[2.67086577]\t[2.39792895]\t17    \t[0.05855603]\n",
      "200\t19    \t[0.99333333]\t200\t[1.] \t[0.8]\t19    \t[0.0359011] \t[2.48253152]\t200\t[2.9569478] \t[2.41255116]\t19    \t[0.10045158]\n",
      "201\t15    \t[0.99666667]\t201\t[1.] \t[0.9]\t15    \t[0.01795055]\t[2.47485655]\t201\t[2.63973927]\t[2.41922736]\t15    \t[0.05099248]\n",
      "202\t17    \t[1.]        \t202\t[1.] \t[1.] \t17    \t[0.]        \t[2.47563237]\t202\t[2.58664966]\t[2.41922736]\t17    \t[0.04695893]\n",
      "203\t19    \t[0.99333333]\t203\t[1.] \t[0.8]\t19    \t[0.0359011] \t[2.46368659]\t203\t[2.56748581]\t[2.41922736]\t19    \t[0.04221156]\n",
      "204\t18    \t[1.]        \t204\t[1.] \t[1.] \t18    \t[0.]        \t[2.47424402]\t204\t[2.604491]  \t[2.41922736]\t18    \t[0.05285814]\n",
      "205\t21    \t[1.]        \t205\t[1.] \t[1.] \t21    \t[0.]        \t[2.49442927]\t205\t[2.63892412]\t[2.41922736]\t21    \t[0.0609392] \n",
      "206\t26    \t[0.99333333]\t206\t[1.] \t[0.9]\t26    \t[0.02494438]\t[2.49455871]\t206\t[2.62507963]\t[2.41922736]\t26    \t[0.05940725]\n",
      "207\t20    \t[0.97]      \t207\t[1.] \t[0.2]\t20    \t[0.14410644]\t[2.50279427]\t207\t[2.65886736]\t[2.43035054]\t20    \t[0.0544876] \n",
      "208\t20    \t[0.95333333]\t208\t[1.] \t[0.2]\t20    \t[0.16679995]\t[2.48138597]\t208\t[2.61148429]\t[2.41285872]\t20    \t[0.04843373]\n",
      "209\t20    \t[0.98333333]\t209\t[1.] \t[0.8]\t20    \t[0.04533824]\t[2.47813106]\t209\t[2.5612886] \t[2.40894103]\t20    \t[0.04336343]\n",
      "210\t17    \t[0.97333333]\t210\t[1.] \t[0.7]\t17    \t[0.06798693]\t[2.47308464]\t210\t[2.58717704]\t[2.40894103]\t17    \t[0.04426504]\n",
      "211\t17    \t[0.95333333]\t211\t[1.] \t[0.] \t17    \t[0.19102065]\t[2.48920796]\t211\t[2.81497407]\t[2.40882111]\t17    \t[0.08047165]\n",
      "212\t17    \t[1.]        \t212\t[1.] \t[1.] \t17    \t[0.]        \t[2.47785395]\t212\t[2.61837029]\t[2.40882111]\t17    \t[0.05541168]\n",
      "213\t19    \t[0.99333333]\t213\t[1.] \t[0.9]\t19    \t[0.02494438]\t[2.45497458]\t213\t[2.6054616] \t[2.35552788]\t19    \t[0.05513085]\n",
      "214\t19    \t[0.97333333]\t214\t[1.] \t[0.4]\t19    \t[0.10934146]\t[2.46485271]\t214\t[2.64468074]\t[2.3893609] \t19    \t[0.0646051] \n",
      "215\t26    \t[0.99]      \t215\t[1.] \t[0.9]\t26    \t[0.03]      \t[2.46336896]\t215\t[2.68739271]\t[2.37606931]\t26    \t[0.06847257]\n",
      "216\t18    \t[0.98333333]\t216\t[1.] \t[0.5]\t18    \t[0.08975275]\t[2.44771311]\t216\t[2.59652209]\t[2.36881995]\t18    \t[0.05989178]\n",
      "217\t17    \t[0.98]      \t217\t[1.] \t[0.7]\t17    \t[0.06]      \t[2.45872342]\t217\t[2.72250342]\t[2.37506723]\t17    \t[0.0759864] \n",
      "218\t19    \t[0.97333333]\t218\t[1.] \t[0.2]\t19    \t[0.14360439]\t[2.45016244]\t218\t[2.67337561]\t[2.37506723]\t19    \t[0.06526193]\n",
      "219\t19    \t[0.99]      \t219\t[1.] \t[0.7]\t19    \t[0.05385165]\t[2.46872462]\t219\t[2.70597267]\t[2.37606931]\t19    \t[0.08143383]\n",
      "220\t18    \t[0.99]      \t220\t[1.] \t[0.9]\t18    \t[0.03]      \t[2.44690545]\t220\t[2.59645772]\t[2.37606931]\t18    \t[0.05032916]\n",
      "221\t14    \t[0.99333333]\t221\t[1.] \t[0.8]\t14    \t[0.0359011] \t[2.43198263]\t221\t[2.59686065]\t[2.35638523]\t14    \t[0.05738956]\n",
      "222\t12    \t[1.]        \t222\t[1.] \t[1.] \t12    \t[0.]        \t[2.43346779]\t222\t[2.78962398]\t[2.35638523]\t12    \t[0.0908226] \n",
      "223\t22    \t[1.]        \t223\t[1.] \t[1.] \t22    \t[0.]        \t[2.45350847]\t223\t[2.63523483]\t[2.35638523]\t22    \t[0.07280403]\n",
      "224\t20    \t[0.98]      \t224\t[1.] \t[0.6]\t20    \t[0.07483315]\t[2.4616687] \t224\t[2.6468246] \t[2.37606931]\t20    \t[0.06797471]\n",
      "225\t17    \t[0.94666667]\t225\t[1.] \t[0.1]\t17    \t[0.17650936]\t[2.45232928]\t225\t[2.71293116]\t[2.37220073]\t17    \t[0.08428774]\n",
      "226\t22    \t[0.96]      \t226\t[1.] \t[0.] \t22    \t[0.18184242]\t[2.44845897]\t226\t[2.6144383] \t[2.37395215]\t22    \t[0.05972333]\n",
      "227\t15    \t[0.99333333]\t227\t[1.] \t[0.9]\t15    \t[0.02494438]\t[2.44458423]\t227\t[2.63913918]\t[2.37395215]\t15    \t[0.06294026]\n",
      "228\t20    \t[0.98333333]\t228\t[1.] \t[0.8]\t20    \t[0.05217492]\t[2.43211311]\t228\t[2.63682938]\t[2.37395215]\t20    \t[0.0568214] \n",
      "229\t17    \t[0.98]      \t229\t[1.] \t[0.4]\t17    \t[0.1077033] \t[2.43577003]\t229\t[2.62954378]\t[2.37039685]\t17    \t[0.06749499]\n",
      "230\t17    \t[1.]        \t230\t[1.] \t[1.] \t17    \t[0.]        \t[2.43565985]\t230\t[2.60116267]\t[2.36151385]\t17    \t[0.06794827]\n",
      "231\t16    \t[1.]        \t231\t[1.] \t[1.] \t16    \t[0.]        \t[2.41564988]\t231\t[2.54924846]\t[2.37292719]\t16    \t[0.04918752]\n",
      "232\t19    \t[1.]        \t232\t[1.] \t[1.] \t19    \t[0.]        \t[2.43483826]\t232\t[2.71206832]\t[2.36080933]\t19    \t[0.08551393]\n",
      "233\t18    \t[1.]        \t233\t[1.] \t[1.] \t18    \t[0.]        \t[2.41412608]\t233\t[2.66676974]\t[2.32136202]\t18    \t[0.07053369]\n",
      "234\t22    \t[1.]        \t234\t[1.] \t[1.] \t22    \t[0.]        \t[2.41266148]\t234\t[2.62767458]\t[2.32136202]\t22    \t[0.06521843]\n",
      "235\t18    \t[1.]        \t235\t[1.] \t[1.] \t18    \t[0.]        \t[2.40108966]\t235\t[2.65417171]\t[2.31080985]\t18    \t[0.07411611]\n",
      "236\t18    \t[1.]        \t236\t[1.] \t[1.] \t18    \t[0.]        \t[2.38758193]\t236\t[2.49991012]\t[2.31080985]\t18    \t[0.05596699]\n",
      "237\t13    \t[0.98333333]\t237\t[1.] \t[0.7]\t13    \t[0.05821416]\t[2.38728483]\t237\t[2.52423358]\t[2.31080985]\t13    \t[0.06036521]\n",
      "238\t21    \t[1.]        \t238\t[1.] \t[1.] \t21    \t[0.]        \t[2.39801499]\t238\t[2.51369166]\t[2.31080985]\t21    \t[0.05071393]\n",
      "239\t20    \t[0.99333333]\t239\t[1.] \t[0.8]\t20    \t[0.0359011] \t[2.42260326]\t239\t[2.62226868]\t[2.31080985]\t20    \t[0.07351803]\n",
      "240\t14    \t[1.]        \t240\t[1.] \t[1.] \t14    \t[0.]        \t[2.39441253]\t240\t[2.52232718]\t[2.31080985]\t14    \t[0.06461195]\n",
      "241\t15    \t[1.]        \t241\t[1.] \t[1.] \t15    \t[0.]        \t[2.38162973]\t241\t[2.47303486]\t[2.29278874]\t15    \t[0.05589351]\n",
      "242\t18    \t[1.]        \t242\t[1.] \t[1.] \t18    \t[0.]        \t[2.38912038]\t242\t[2.57239056]\t[2.29278874]\t18    \t[0.07200825]\n",
      "243\t12    \t[0.98]      \t243\t[1.] \t[0.4]\t12    \t[0.1077033] \t[2.36335461]\t243\t[2.50966597]\t[2.29278874]\t12    \t[0.0569342] \n",
      "244\t17    \t[1.]        \t244\t[1.] \t[1.] \t17    \t[0.]        \t[2.37886246]\t244\t[2.48717117]\t[2.29278874]\t17    \t[0.05441858]\n",
      "245\t16    \t[1.]        \t245\t[1.] \t[1.] \t16    \t[0.]        \t[2.3665168] \t245\t[2.57888699]\t[2.29278874]\t16    \t[0.05300447]\n",
      "246\t20    \t[0.97]      \t246\t[1.] \t[0.1]\t20    \t[0.16155494]\t[2.3690347] \t246\t[2.49075699]\t[2.29278874]\t20    \t[0.05110901]\n",
      "247\t20    \t[1.]        \t247\t[1.] \t[1.] \t20    \t[0.]        \t[2.37272162]\t247\t[2.49384117]\t[2.29278874]\t20    \t[0.0527507] \n",
      "248\t16    \t[1.]        \t248\t[1.] \t[1.] \t16    \t[0.]        \t[2.36988833]\t248\t[2.55631375]\t[2.29278874]\t16    \t[0.06294998]\n",
      "249\t17    \t[0.99666667]\t249\t[1.] \t[0.9]\t17    \t[0.01795055]\t[2.37047163]\t249\t[2.54928088]\t[2.29278874]\t17    \t[0.06107869]\n",
      "250\t22    \t[0.99666667]\t250\t[1.] \t[0.9]\t22    \t[0.01795055]\t[2.38374863]\t250\t[2.55454445]\t[2.29278874]\t22    \t[0.05842491]\n",
      "251\t16    \t[1.]        \t251\t[1.] \t[1.] \t16    \t[0.]        \t[2.36621291]\t251\t[2.58303165]\t[2.29278874]\t16    \t[0.06111457]\n",
      "252\t19    \t[1.]        \t252\t[1.] \t[1.] \t19    \t[0.]        \t[2.36847012]\t252\t[2.50505066]\t[2.29278874]\t19    \t[0.05761199]\n",
      "253\t19    \t[1.]        \t253\t[1.] \t[1.] \t19    \t[0.]        \t[2.38189807]\t253\t[2.75051284]\t[2.28918457]\t19    \t[0.08759826]\n",
      "254\t18    \t[0.99666667]\t254\t[1.] \t[0.9]\t18    \t[0.01795055]\t[2.37672317]\t254\t[2.54671264]\t[2.28918457]\t18    \t[0.06410208]\n",
      "255\t17    \t[1.]        \t255\t[1.] \t[1.] \t17    \t[0.]        \t[2.36400193]\t255\t[2.50651026]\t[2.27705765]\t17    \t[0.05809187]\n",
      "256\t17    \t[0.99333333]\t256\t[1.] \t[0.9]\t17    \t[0.02494438]\t[2.37473903]\t256\t[2.50281787]\t[2.28918457]\t17    \t[0.06372483]\n",
      "257\t19    \t[0.98]      \t257\t[1.] \t[0.7]\t19    \t[0.06]      \t[2.37911955]\t257\t[2.53737664]\t[2.28918457]\t19    \t[0.06595264]\n",
      "258\t23    \t[0.98]      \t258\t[1.] \t[0.7]\t23    \t[0.06531973]\t[2.38904182]\t258\t[2.57837367]\t[2.25741434]\t23    \t[0.07678149]\n",
      "259\t19    \t[0.95666667]\t259\t[1.] \t[0.3]\t19    \t[0.13585123]\t[2.36589374]\t259\t[2.495013]  \t[2.26059794]\t19    \t[0.05633489]\n",
      "260\t19    \t[0.95666667]\t260\t[1.] \t[0.] \t19    \t[0.18199512]\t[2.35449142]\t260\t[2.59817624]\t[2.25030017]\t19    \t[0.07307713]\n",
      "261\t20    \t[0.95333333]\t261\t[1.] \t[0.5]\t20    \t[0.10561986]\t[2.36709973]\t261\t[2.71515203]\t[2.26059794]\t20    \t[0.08603237]\n",
      "262\t15    \t[0.94]      \t262\t[1.] \t[0.6]\t15    \t[0.10832051]\t[2.3706473] \t262\t[2.53932333]\t[2.26059794]\t15    \t[0.07551952]\n",
      "263\t20    \t[0.94]      \t263\t[1.] \t[0.3]\t20    \t[0.1356466] \t[2.35091828]\t263\t[2.46152687]\t[2.26059794]\t20    \t[0.05616142]\n",
      "264\t19    \t[0.98333333]\t264\t[1.] \t[0.8]\t19    \t[0.05217492]\t[2.35041715]\t264\t[2.47949219]\t[2.26059794]\t19    \t[0.06794318]\n"
     ]
    },
    {
     "name": "stdout",
     "output_type": "stream",
     "text": [
      "265\t17    \t[0.98333333]\t265\t[1.] \t[0.8]\t17    \t[0.04533824]\t[2.33355205]\t265\t[2.54444504]\t[2.25480151]\t17    \t[0.06975038]\n",
      "266\t22    \t[0.96]      \t266\t[1.] \t[0.4]\t22    \t[0.11430952]\t[2.34911925]\t266\t[2.62558365]\t[2.26059794]\t22    \t[0.0751633] \n",
      "267\t18    \t[0.94333333]\t267\t[1.] \t[0.6]\t18    \t[0.09551033]\t[2.3128274] \t267\t[2.44531703]\t[2.2511375] \t18    \t[0.04074451]\n",
      "268\t16    \t[0.94666667]\t268\t[1.] \t[0.6]\t16    \t[0.09910712]\t[2.32632103]\t268\t[2.46020198]\t[2.2511375] \t16    \t[0.0492741] \n",
      "269\t21    \t[0.89666667]\t269\t[1.] \t[0.2]\t21    \t[0.17603661]\t[2.34548123]\t269\t[2.6579895] \t[2.27486777]\t21    \t[0.08306273]\n",
      "270\t22    \t[0.90333333]\t270\t[1.] \t[0.4]\t22    \t[0.14019827]\t[2.38229139]\t270\t[2.79358363]\t[2.27677321]\t22    \t[0.12267826]\n",
      "271\t16    \t[0.93333333]\t271\t[1.] \t[0.3]\t16    \t[0.13743685]\t[2.3377706] \t271\t[2.4935894] \t[2.27677321]\t16    \t[0.0522725] \n",
      "272\t17    \t[0.93333333]\t272\t[1.] \t[0.5]\t17    \t[0.12202003]\t[2.34612177]\t272\t[2.52228022]\t[2.28267932]\t17    \t[0.06147275]\n",
      "273\t16    \t[0.93333333]\t273\t[1.] \t[0.3]\t16    \t[0.13498971]\t[2.34392443]\t273\t[2.64670253]\t[2.25975466]\t16    \t[0.08203462]\n",
      "274\t18    \t[0.94666667]\t274\t[1.] \t[0.5]\t18    \t[0.1117537] \t[2.33811564]\t274\t[2.61433101]\t[2.25975466]\t18    \t[0.07392503]\n",
      "275\t19    \t[0.91]      \t275\t[1.] \t[0.3]\t19    \t[0.17767011]\t[2.33098687]\t275\t[2.42215562]\t[2.25975466]\t19    \t[0.04641719]\n",
      "276\t19    \t[0.89666667]\t276\t[1.] \t[0.2]\t19    \t[0.22133434]\t[2.34562693]\t276\t[2.54324389]\t[2.26608205]\t19    \t[0.06125043]\n",
      "277\t21    \t[0.92333333]\t277\t[1.] \t[0.2]\t21    \t[0.1745152] \t[2.33173352]\t277\t[2.43874907]\t[2.244452]  \t21    \t[0.05350998]\n",
      "278\t20    \t[0.88333333]\t278\t[1.] \t[0.2]\t20    \t[0.20989415]\t[2.34285839]\t278\t[2.53055239]\t[2.25916076]\t20    \t[0.07100778]\n",
      "279\t19    \t[0.95]      \t279\t[1.] \t[0.4]\t19    \t[0.1118034] \t[2.33107485]\t279\t[2.53154039]\t[2.25916076]\t19    \t[0.05672106]\n",
      "280\t17    \t[0.86]      \t280\t[1.] \t[0.2]\t17    \t[0.22150997]\t[2.3113859] \t280\t[2.53170562]\t[2.19147158]\t17    \t[0.06485234]\n",
      "281\t17    \t[0.76]      \t281\t[1.] \t[0.] \t17    \t[0.31155524]\t[2.2955754] \t281\t[2.53940272]\t[2.19147158]\t17    \t[0.07161996]\n",
      "282\t20    \t[0.69666667]\t282\t[1.] \t[0.1]\t20    \t[0.30384572]\t[2.30923304]\t282\t[2.47830939]\t[2.19147158]\t20    \t[0.07122604]\n",
      "283\t23    \t[0.79333333]\t283\t[1.] \t[0.] \t23    \t[0.27438821]\t[2.2819839] \t283\t[2.40612006]\t[2.19147158]\t23    \t[0.05517966]\n",
      "284\t21    \t[0.78666667]\t284\t[1.] \t[0.1]\t21    \t[0.27896635]\t[2.30304747]\t284\t[2.50048423]\t[2.20357943]\t21    \t[0.08880471]\n",
      "285\t17    \t[0.83666667]\t285\t[1.] \t[0.1]\t17    \t[0.27016456]\t[2.27144072]\t285\t[2.38339353]\t[2.20357943]\t17    \t[0.04716972]\n",
      "286\t19    \t[0.84333333]\t286\t[1.] \t[0.] \t19    \t[0.2403932] \t[2.28105549]\t286\t[2.44569898]\t[2.17918801]\t19    \t[0.06899779]\n",
      "287\t19    \t[0.88]      \t287\t[1.] \t[0.] \t19    \t[0.23579652]\t[2.27638375]\t287\t[2.46184731]\t[2.17918801]\t19    \t[0.05847696]\n",
      "288\t17    \t[0.90666667]\t288\t[1.] \t[0.4]\t17    \t[0.17307673]\t[2.27822394]\t288\t[2.41026545]\t[2.17918801]\t17    \t[0.05522264]\n",
      "289\t21    \t[0.89333333]\t289\t[1.] \t[0.1]\t21    \t[0.22939534]\t[2.27501891]\t289\t[2.40191436]\t[2.17918801]\t21    \t[0.06012774]\n",
      "290\t24    \t[0.92]      \t290\t[1.] \t[0.3]\t24    \t[0.18330303]\t[2.27600607]\t290\t[2.44843268]\t[2.17918801]\t24    \t[0.06647721]\n",
      "291\t16    \t[0.96]      \t291\t[1.] \t[0.7]\t16    \t[0.07118052]\t[2.2566219] \t291\t[2.42598581]\t[2.17918801]\t16    \t[0.05737001]\n",
      "292\t23    \t[0.92]      \t292\t[1.] \t[0.3]\t23    \t[0.17009801]\t[2.2959503] \t292\t[2.53965497]\t[2.17918801]\t23    \t[0.08441303]\n",
      "293\t20    \t[0.92666667]\t293\t[1.] \t[0.4]\t20    \t[0.15260698]\t[2.29860787]\t293\t[2.48291302]\t[2.17918801]\t20    \t[0.07337917]\n",
      "294\t17    \t[0.93666667]\t294\t[1.] \t[0.4]\t17    \t[0.13034143]\t[2.28346941]\t294\t[2.43084359]\t[2.17918801]\t17    \t[0.06663203]\n",
      "295\t18    \t[0.86666667]\t295\t[1.] \t[0.2]\t18    \t[0.20869968]\t[2.27914593]\t295\t[2.51175714]\t[2.17918801]\t18    \t[0.07804191]\n",
      "296\t17    \t[0.83666667]\t296\t[1.] \t[0.3]\t17    \t[0.18882679]\t[2.26454787]\t296\t[2.39105368]\t[2.19963956]\t17    \t[0.05602956]\n",
      "297\t13    \t[0.85333333]\t297\t[1.] \t[0.2]\t13    \t[0.23342855]\t[2.24387743]\t297\t[2.3762145] \t[2.19154978]\t13    \t[0.0461803] \n",
      "298\t14    \t[0.85666667]\t298\t[1.] \t[0.1]\t14    \t[0.2403932] \t[2.25221818]\t298\t[2.42848015]\t[2.19154978]\t14    \t[0.06296415]\n",
      "299\t19    \t[0.81666667]\t299\t[1.] \t[0.1]\t19    \t[0.25571251]\t[2.24148455]\t299\t[2.40425873]\t[2.19154978]\t19    \t[0.04958423]\n",
      "300\t19    \t[0.71]      \t300\t[1.] \t[0.] \t19    \t[0.27850793]\t[2.25820178]\t300\t[2.38051915]\t[2.19154978]\t19    \t[0.06429227]\n",
      "301\t19    \t[0.73666667]\t301\t[1.] \t[0.2]\t19    \t[0.22727859]\t[2.2364766] \t301\t[2.33675432]\t[2.17029047]\t19    \t[0.04509243]\n",
      "302\t20    \t[0.68]      \t302\t[1.] \t[0.1]\t20    \t[0.26633312]\t[2.24508219]\t302\t[2.43064618]\t[2.17029047]\t20    \t[0.06910926]\n",
      "303\t15    \t[0.56666667]\t303\t[1.] \t[0.1]\t15    \t[0.25342104]\t[2.2447798] \t303\t[2.51030207]\t[2.17029047]\t15    \t[0.08545063]\n",
      "304\t22    \t[0.58333333]\t304\t[0.9]\t[0.] \t22    \t[0.2608746] \t[2.2362095] \t304\t[2.39739299]\t[2.17029047]\t22    \t[0.05571509]\n",
      "305\t23    \t[0.59]      \t305\t[1.] \t[0.] \t23    \t[0.26121511]\t[2.251777]  \t305\t[2.40078807]\t[2.17295814]\t23    \t[0.06707201]\n",
      "306\t21    \t[0.61]      \t306\t[1.] \t[0.] \t21    \t[0.2494661] \t[2.24972281]\t306\t[2.37093925]\t[2.18259168]\t21    \t[0.05816438]\n",
      "307\t21    \t[0.58333333]\t307\t[1.] \t[0.] \t21    \t[0.27335366]\t[2.25566181]\t307\t[2.41676521]\t[2.16370988]\t21    \t[0.0660216] \n",
      "308\t19    \t[0.60333333]\t308\t[1.] \t[0.1]\t19    \t[0.29038289]\t[2.26089473]\t308\t[2.48133731]\t[2.16370988]\t19    \t[0.07220816]\n",
      "309\t23    \t[0.61666667]\t309\t[1.] \t[0.] \t23    \t[0.29107082]\t[2.25114104]\t309\t[2.38100553]\t[2.16370988]\t23    \t[0.05678886]\n",
      "310\t19    \t[0.58]      \t310\t[1.] \t[0.] \t19    \t[0.30811253]\t[2.25020139]\t310\t[2.39692116]\t[2.16370988]\t19    \t[0.0595722] \n",
      "311\t20    \t[0.60333333]\t311\t[1.] \t[0.] \t20    \t[0.34203639]\t[2.25653804]\t311\t[2.55847239]\t[2.16370988]\t20    \t[0.07361413]\n",
      "312\t17    \t[0.61333333]\t312\t[1.] \t[0.] \t17    \t[0.30302182]\t[2.2541498] \t312\t[2.51656842]\t[2.16370988]\t17    \t[0.08365389]\n",
      "313\t23    \t[0.57666667]\t313\t[1.] \t[0.1]\t23    \t[0.2894631] \t[2.23004542]\t313\t[2.40505791]\t[2.16370988]\t23    \t[0.05624632]\n",
      "314\t24    \t[0.68333333]\t314\t[1.] \t[0.1]\t24    \t[0.28877134]\t[2.25909901]\t314\t[2.58015704]\t[2.16370988]\t24    \t[0.08362838]\n",
      "315\t18    \t[0.65666667]\t315\t[1.] \t[0.1]\t18    \t[0.33033653]\t[2.2417884] \t315\t[2.43421602]\t[2.15668559]\t18    \t[0.06890913]\n",
      "316\t16    \t[0.68]      \t316\t[1.] \t[0.2]\t16    \t[0.26633312]\t[2.23055038]\t316\t[2.43522382]\t[2.1493125] \t16    \t[0.07294182]\n",
      "317\t20    \t[0.72333333]\t317\t[1.] \t[0.] \t20    \t[0.26164013]\t[2.23089329]\t317\t[2.40664792]\t[2.1493125] \t20    \t[0.06278468]\n",
      "318\t18    \t[0.70666667]\t318\t[1.] \t[0.1]\t18    \t[0.28039654]\t[2.23571868]\t318\t[2.40360332]\t[2.1493125] \t18    \t[0.06702321]\n",
      "319\t19    \t[0.74666667]\t319\t[1.] \t[0.] \t19    \t[0.26170382]\t[2.22834173]\t319\t[2.47673965]\t[2.1493125] \t19    \t[0.07512659]\n",
      "320\t16    \t[0.71666667]\t320\t[1.] \t[0.2]\t16    \t[0.22669118]\t[2.24074552]\t320\t[2.5029788] \t[2.1493125] \t16    \t[0.0820456] \n",
      "321\t17    \t[0.75666667]\t321\t[1.] \t[0.2]\t17    \t[0.24177584]\t[2.21543901]\t321\t[2.48472905]\t[2.1493125] \t17    \t[0.07418554]\n",
      "322\t7     \t[0.77333333]\t322\t[1.] \t[0.1]\t7     \t[0.22939534]\t[2.18185514]\t322\t[2.31430888]\t[2.1493125] \t7     \t[0.04098245]\n",
      "323\t13    \t[0.77333333]\t323\t[1.] \t[0.] \t13    \t[0.22201101]\t[2.18931741]\t323\t[2.35852242]\t[2.1493125] \t13    \t[0.05081536]\n",
      "324\t21    \t[0.69333333]\t324\t[1.] \t[0.] \t21    \t[0.30103525]\t[2.22530536]\t324\t[2.43599772]\t[2.1493125] \t21    \t[0.07094215]\n",
      "325\t17    \t[0.74]      \t325\t[1.] \t[0.] \t17    \t[0.26153394]\t[2.21135356]\t325\t[2.50331378]\t[2.1493125] \t17    \t[0.07044343]\n",
      "326\t15    \t[0.72]      \t326\t[1.] \t[0.1]\t15    \t[0.2761642] \t[2.21494598]\t326\t[2.35451937]\t[2.1493125] \t15    \t[0.06206507]\n",
      "327\t19    \t[0.7]       \t327\t[1.] \t[0.] \t19    \t[0.29776949]\t[2.22348127]\t327\t[2.4147718] \t[2.1493125] \t19    \t[0.07301349]\n",
      "328\t12    \t[0.70333333]\t328\t[1.] \t[0.] \t12    \t[0.2562334] \t[2.22124711]\t328\t[2.4166677] \t[2.1493125] \t12    \t[0.07182779]\n",
      "329\t14    \t[0.71]      \t329\t[1.] \t[0.1]\t14    \t[0.25605989]\t[2.22188159]\t329\t[2.4820075] \t[2.1493125] \t14    \t[0.07569975]\n",
      "330\t16    \t[0.77333333]\t330\t[1.] \t[0.1]\t16    \t[0.22201101]\t[2.22422148]\t330\t[2.44960117]\t[2.1493125] \t16    \t[0.07949914]\n",
      "331\t15    \t[0.80333333]\t331\t[1.] \t[0.] \t15    \t[0.22133434]\t[2.20021331]\t331\t[2.31873584]\t[2.1493125] \t15    \t[0.05171365]\n"
     ]
    },
    {
     "name": "stdout",
     "output_type": "stream",
     "text": [
      "332\t26    \t[0.73]      \t332\t[1.] \t[0.1]\t26    \t[0.25839247]\t[2.2401271] \t332\t[2.38950419]\t[2.1493125] \t26    \t[0.06957024]\n",
      "333\t15    \t[0.78333333]\t333\t[1.] \t[0.2]\t15    \t[0.2296132] \t[2.23968249]\t333\t[2.43749619]\t[2.1493125] \t15    \t[0.06391813]\n",
      "334\t15    \t[0.76666667]\t334\t[1.] \t[0.2]\t15    \t[0.23142073]\t[2.2401274] \t334\t[2.42239618]\t[2.15878224]\t15    \t[0.06797356]\n",
      "335\t15    \t[0.72333333]\t335\t[1.] \t[0.] \t15    \t[0.31057295]\t[2.2361064] \t335\t[2.43580294]\t[2.15131187]\t15    \t[0.07024114]\n",
      "336\t21    \t[0.76]      \t336\t[1.] \t[0.] \t21    \t[0.28472209]\t[2.23681441]\t336\t[2.55749822]\t[2.12467813]\t21    \t[0.08013053]\n",
      "337\t17    \t[0.77]      \t337\t[1.] \t[0.] \t17    \t[0.26095977]\t[2.21246335]\t337\t[2.37692809]\t[2.12305188]\t17    \t[0.06839044]\n",
      "338\t17    \t[0.84333333]\t338\t[1.] \t[0.2]\t17    \t[0.19093338]\t[2.18657645]\t338\t[2.32065415]\t[2.12305188]\t17    \t[0.0535103] \n",
      "339\t19    \t[0.88]      \t339\t[1.] \t[0.2]\t19    \t[0.18147543]\t[2.20565954]\t339\t[2.39915705]\t[2.12305188]\t19    \t[0.06896411]\n",
      "340\t15    \t[0.80333333]\t340\t[1.] \t[0.] \t15    \t[0.2562334] \t[2.21172363]\t340\t[2.42933869]\t[2.11295938]\t15    \t[0.08365892]\n",
      "341\t12    \t[0.90666667]\t341\t[1.] \t[0.3]\t12    \t[0.14590712]\t[2.18074781]\t341\t[2.4166801] \t[2.11295938]\t12    \t[0.06692369]\n",
      "342\t21    \t[0.87333333]\t342\t[1.] \t[0.2]\t21    \t[0.16918103]\t[2.20680583]\t342\t[2.44423747]\t[2.12305188]\t21    \t[0.08942269]\n",
      "343\t17    \t[0.81666667]\t343\t[1.] \t[0.1]\t17    \t[0.24369836]\t[2.19786291]\t343\t[2.36583662]\t[2.12305188]\t17    \t[0.06724462]\n",
      "344\t18    \t[0.74333333]\t344\t[1.] \t[0.1]\t18    \t[0.28715075]\t[2.19360593]\t344\t[2.33817077]\t[2.12305188]\t18    \t[0.05827697]\n",
      "345\t16    \t[0.79666667]\t345\t[1.] \t[0.] \t16    \t[0.25097587]\t[2.20368801]\t345\t[2.3940084] \t[2.12305188]\t16    \t[0.06262421]\n",
      "346\t20    \t[0.83]      \t346\t[1.] \t[0.1]\t20    \t[0.21158135]\t[2.20992688]\t346\t[2.4718442] \t[2.12305188]\t20    \t[0.07309907]\n",
      "347\t15    \t[0.88666667]\t347\t[1.] \t[0.1]\t15    \t[0.20450482]\t[2.1963937] \t347\t[2.33077288]\t[2.12305188]\t15    \t[0.05887146]\n",
      "348\t19    \t[0.87333333]\t348\t[1.] \t[0.3]\t19    \t[0.17876117]\t[2.20734959]\t348\t[2.47687578]\t[2.12305188]\t19    \t[0.07694353]\n",
      "349\t25    \t[0.79]      \t349\t[1.] \t[0.1]\t25    \t[0.27123176]\t[2.21991212]\t349\t[2.39923787]\t[2.12305188]\t25    \t[0.06283686]\n",
      "350\t19    \t[0.86333333]\t350\t[1.] \t[0.4]\t19    \t[0.16428295]\t[2.20831178]\t350\t[2.3331058] \t[2.12305188]\t19    \t[0.05460273]\n",
      "351\t18    \t[0.80333333]\t351\t[1.] \t[0.] \t18    \t[0.27139557]\t[2.19841295]\t351\t[2.45747375]\t[2.11859131]\t18    \t[0.07230953]\n",
      "352\t21    \t[0.87]      \t352\t[1.] \t[0.2]\t21    \t[0.20680103]\t[2.20028214]\t352\t[2.3625176] \t[2.11859131]\t21    \t[0.06099094]\n",
      "353\t15    \t[0.87]      \t353\t[1.] \t[0.1]\t15    \t[0.24919872]\t[2.1982832] \t353\t[2.32746172]\t[2.11175799]\t15    \t[0.06061339]\n",
      "354\t21    \t[0.85666667]\t354\t[1.] \t[0.2]\t21    \t[0.24451767]\t[2.22410878]\t354\t[2.44908571]\t[2.1239152] \t21    \t[0.07359384]\n",
      "355\t13    \t[0.88666667]\t355\t[1.] \t[0.4]\t13    \t[0.14996296]\t[2.19659762]\t355\t[2.3987751] \t[2.1051209] \t13    \t[0.07157395]\n",
      "356\t18    \t[0.84]      \t356\t[1.] \t[0.4]\t18    \t[0.18903263]\t[2.20008184]\t356\t[2.38108301]\t[2.1051209] \t18    \t[0.06332304]\n",
      "357\t17    \t[0.85]      \t357\t[1.] \t[0.2]\t17    \t[0.20124612]\t[2.20451085]\t357\t[2.37911916]\t[2.1051209] \t17    \t[0.07812877]\n",
      "358\t17    \t[0.88]      \t358\t[1.] \t[0.1]\t17    \t[0.17204651]\t[2.20341388]\t358\t[2.43256927]\t[2.1051209] \t17    \t[0.09107161]\n",
      "359\t13    \t[0.89]      \t359\t[1.] \t[0.6]\t13    \t[0.11357817]\t[2.17377816]\t359\t[2.30448151]\t[2.1051209] \t13    \t[0.05592411]\n",
      "360\t18    \t[0.85]      \t360\t[1.] \t[0.1]\t18    \t[0.22472205]\t[2.18489633]\t360\t[2.36898398]\t[2.09673357]\t18    \t[0.07662895]\n",
      "361\t16    \t[0.79666667]\t361\t[1.] \t[0.] \t16    \t[0.28104962]\t[2.17784398]\t361\t[2.34792709]\t[2.09673357]\t16    \t[0.07037174]\n",
      "362\t17    \t[0.82666667]\t362\t[1.] \t[0.1]\t17    \t[0.25024433]\t[2.17649256]\t362\t[2.44245267]\t[2.09673357]\t17    \t[0.07819695]\n",
      "363\t14    \t[0.91333333]\t363\t[1.] \t[0.5]\t14    \t[0.1117537] \t[2.1485738] \t363\t[2.36053252]\t[2.0749166] \t14    \t[0.06182789]\n",
      "364\t19    \t[0.87666667]\t364\t[1.] \t[0.1]\t19    \t[0.19947152]\t[2.16334577]\t364\t[2.4913063] \t[2.0749166] \t19    \t[0.08452604]\n",
      "365\t13    \t[0.84]      \t365\t[1.] \t[0.] \t13    \t[0.28]      \t[2.15765779]\t365\t[2.32211542]\t[2.07028055]\t13    \t[0.0792422] \n",
      "366\t20    \t[0.86]      \t366\t[1.] \t[0.1]\t20    \t[0.24576411]\t[2.15059324]\t366\t[2.4721458] \t[2.06932926]\t20    \t[0.08041571]\n",
      "367\t20    \t[0.93666667]\t367\t[1.] \t[0.3]\t20    \t[0.1353596] \t[2.14951424]\t367\t[2.26843715]\t[2.04554248]\t20    \t[0.05717047]\n",
      "368\t16    \t[0.91333333]\t368\t[1.] \t[0.] \t16    \t[0.23626727]\t[2.1532233] \t368\t[2.48446512]\t[2.04554248]\t16    \t[0.09380751]\n",
      "369\t19    \t[0.89]      \t369\t[1.] \t[0.] \t19    \t[0.20223748]\t[2.15543344]\t369\t[2.32405853]\t[2.04554248]\t19    \t[0.07627476]\n",
      "370\t21    \t[0.95]      \t370\t[1.] \t[0.8]\t21    \t[0.06708204]\t[2.16546331]\t370\t[2.37961411]\t[2.05787349]\t21    \t[0.08041164]\n",
      "371\t20    \t[0.95333333]\t371\t[1.] \t[0.7]\t20    \t[0.08055364]\t[2.14475907]\t371\t[2.40183425]\t[2.05735373]\t20    \t[0.08555283]\n",
      "372\t18    \t[0.9]       \t372\t[1.] \t[0.] \t18    \t[0.23523038]\t[2.13866036]\t372\t[2.39475298]\t[2.03133011]\t18    \t[0.09047139]\n",
      "373\t16    \t[0.93333333]\t373\t[1.] \t[0.] \t16    \t[0.18856181]\t[2.1068445] \t373\t[2.24255943]\t[2.02800059]\t16    \t[0.05862219]\n",
      "374\t18    \t[0.98333333]\t374\t[1.] \t[0.8]\t18    \t[0.04533824]\t[2.102649]  \t374\t[2.27859569]\t[2.01515269]\t18    \t[0.06754842]\n",
      "375\t17    \t[0.98]      \t375\t[1.] \t[0.8]\t17    \t[0.04760952]\t[2.1105443] \t375\t[2.29152536]\t[2.02800059]\t17    \t[0.07964979]\n",
      "376\t18    \t[0.97333333]\t376\t[1.] \t[0.6]\t18    \t[0.08137704]\t[2.09490747]\t376\t[2.36282539]\t[2.02800059]\t18    \t[0.08375679]\n",
      "377\t22    \t[0.92666667]\t377\t[1.] \t[0.1]\t22    \t[0.19482186]\t[2.11911996]\t377\t[2.41028285]\t[2.0217545] \t22    \t[0.1013011] \n",
      "378\t17    \t[0.98333333]\t378\t[1.] \t[0.6]\t17    \t[0.07340905]\t[2.13655488]\t378\t[2.46871805]\t[2.0217545] \t17    \t[0.10694937]\n",
      "379\t13    \t[0.99333333]\t379\t[1.] \t[0.9]\t13    \t[0.02494438]\t[2.09115174]\t379\t[2.26870131]\t[2.0217545] \t13    \t[0.07064681]\n",
      "380\t20    \t[0.93333333]\t380\t[1.] \t[0.3]\t20    \t[0.16397832]\t[2.13591169]\t380\t[2.30199742]\t[2.0217545] \t20    \t[0.08744364]\n",
      "381\t18    \t[0.99333333]\t381\t[1.] \t[0.9]\t18    \t[0.02494438]\t[2.1208029] \t381\t[2.33372307]\t[2.02805972]\t18    \t[0.07784947]\n",
      "382\t21    \t[0.97333333]\t382\t[1.] \t[0.4]\t21    \t[0.10934146]\t[2.11810012]\t382\t[2.27672076]\t[2.02805972]\t21    \t[0.06204019]\n",
      "383\t19    \t[0.96666667]\t383\t[1.] \t[0.5]\t19    \t[0.11352924]\t[2.12960794]\t383\t[2.27005649]\t[2.02805972]\t19    \t[0.06711675]\n",
      "384\t13    \t[0.94666667]\t384\t[1.] \t[0.3]\t13    \t[0.15434449]\t[2.11135754]\t384\t[2.26904178]\t[2.02805972]\t13    \t[0.06529232]\n",
      "385\t19    \t[0.96]      \t385\t[1.] \t[0.2]\t19    \t[0.14514361]\t[2.11970615]\t385\t[2.30874133]\t[2.02805972]\t19    \t[0.07599905]\n",
      "386\t17    \t[0.98333333]\t386\t[1.] \t[0.6]\t17    \t[0.07340905]\t[2.11284904]\t386\t[2.28705573]\t[2.02805972]\t17    \t[0.07281469]\n",
      "387\t10    \t[0.97]      \t387\t[1.] \t[0.8]\t10    \t[0.06904105]\t[2.09139574]\t387\t[2.22045851]\t[2.02805972]\t10    \t[0.06904794]\n",
      "388\t13    \t[0.98666667]\t388\t[1.] \t[0.8]\t13    \t[0.04268749]\t[2.10147874]\t388\t[2.3484149] \t[2.02805972]\t13    \t[0.08428844]\n",
      "389\t22    \t[0.96]      \t389\t[1.] \t[0.1]\t22    \t[0.1645195] \t[2.13212884]\t389\t[2.74394011]\t[2.02805972]\t22    \t[0.13163497]\n",
      "390\t13    \t[0.98333333]\t390\t[1.] \t[0.8]\t13    \t[0.04533824]\t[2.10330706]\t390\t[2.25028872]\t[2.02805972]\t13    \t[0.06448976]\n",
      "391\t16    \t[0.99333333]\t391\t[1.] \t[0.9]\t16    \t[0.02494438]\t[2.11130472]\t391\t[2.27697301]\t[2.02805972]\t16    \t[0.06959582]\n",
      "392\t21    \t[0.97333333]\t392\t[1.] \t[0.6]\t21    \t[0.08137704]\t[2.13202916]\t392\t[2.36599874]\t[2.01804781]\t21    \t[0.08960167]\n",
      "393\t8     \t[0.98333333]\t393\t[1.] \t[0.8]\t8     \t[0.04533824]\t[2.08378611]\t393\t[2.33953929]\t[2.01804781]\t8     \t[0.08560817]\n",
      "394\t20    \t[0.95666667]\t394\t[1.] \t[0.2]\t20    \t[0.1476106] \t[2.12750464]\t394\t[2.37983871]\t[2.01804781]\t20    \t[0.09434362]\n",
      "395\t18    \t[0.98666667]\t395\t[1.] \t[0.8]\t18    \t[0.04268749]\t[2.11583369]\t395\t[2.3404789] \t[2.01804781]\t18    \t[0.07269858]\n",
      "396\t21    \t[0.99666667]\t396\t[1.] \t[0.9]\t21    \t[0.01795055]\t[2.1112599] \t396\t[2.33928323]\t[2.01804781]\t21    \t[0.07442682]\n",
      "397\t17    \t[0.97333333]\t397\t[1.] \t[0.8]\t17    \t[0.05120764]\t[2.10090838]\t397\t[2.30478621]\t[2.01563931]\t17    \t[0.07479726]\n",
      "398\t18    \t[0.96]      \t398\t[1.] \t[0.] \t18    \t[0.18]      \t[2.11953312]\t398\t[2.32612801]\t[2.01563931]\t18    \t[0.09909544]\n"
     ]
    },
    {
     "name": "stdout",
     "output_type": "stream",
     "text": [
      "399\t20    \t[0.96666667]\t399\t[1.] \t[0.2]\t20    \t[0.14452989]\t[2.11778715]\t399\t[2.50927663]\t[2.01563931]\t20    \t[0.10206556]\n",
      "400\t20    \t[1.]        \t400\t[1.] \t[1.] \t20    \t[0.]        \t[2.12156476]\t400\t[2.42304921]\t[2.01563931]\t20    \t[0.10156028]\n",
      "401\t21    \t[0.98333333]\t401\t[1.] \t[0.9]\t21    \t[0.0372678] \t[2.12350318]\t401\t[2.29565597]\t[2.01804781]\t21    \t[0.0718485] \n",
      "402\t21    \t[0.99666667]\t402\t[1.] \t[0.9]\t21    \t[0.01795055]\t[2.12345476]\t402\t[2.49205089]\t[2.01804781]\t21    \t[0.10144054]\n",
      "403\t13    \t[0.97666667]\t403\t[1.] \t[0.5]\t13    \t[0.09551033]\t[2.11142267]\t403\t[2.2386775] \t[2.01804781]\t13    \t[0.07344554]\n",
      "404\t14    \t[0.99]      \t404\t[1.] \t[0.9]\t14    \t[0.03]      \t[2.07858012]\t404\t[2.24397707]\t[2.01804781]\t14    \t[0.05374137]\n",
      "405\t19    \t[0.97]      \t405\t[1.] \t[0.7]\t19    \t[0.06904105]\t[2.09351955]\t405\t[2.2953651] \t[2.01498079]\t19    \t[0.0791995] \n",
      "406\t24    \t[0.99333333]\t406\t[1.] \t[0.9]\t24    \t[0.02494438]\t[2.11777639]\t406\t[2.30208731]\t[2.01498079]\t24    \t[0.08226446]\n",
      "407\t18    \t[0.97]      \t407\t[1.] \t[0.7]\t18    \t[0.06403124]\t[2.11453628]\t407\t[2.34660721]\t[2.01498079]\t18    \t[0.08831427]\n",
      "408\t26    \t[0.96]      \t408\t[1.] \t[0.6]\t26    \t[0.08406347]\t[2.1483505] \t408\t[2.49686599]\t[2.01498079]\t26    \t[0.11783924]\n",
      "409\t19    \t[0.98666667]\t409\t[1.] \t[0.9]\t19    \t[0.03399346]\t[2.11805525]\t409\t[2.33842707]\t[2.01374626]\t19    \t[0.07424972]\n",
      "410\t21    \t[0.95333333]\t410\t[1.] \t[0.4]\t21    \t[0.14079141]\t[2.12453525]\t410\t[2.33696842]\t[2.01804781]\t21    \t[0.07029961]\n",
      "411\t13    \t[0.96333333]\t411\t[1.] \t[0.1]\t13    \t[0.16224125]\t[2.11957024]\t411\t[2.57010436]\t[2.01804781]\t13    \t[0.11993005]\n",
      "412\t16    \t[0.98333333]\t412\t[1.] \t[0.9]\t16    \t[0.0372678] \t[2.09167063]\t412\t[2.19793439]\t[2.01804781]\t16    \t[0.05273441]\n",
      "413\t15    \t[0.94333333]\t413\t[1.] \t[0.3]\t15    \t[0.14985178]\t[2.08967683]\t413\t[2.25321102]\t[2.01804781]\t15    \t[0.06190186]\n",
      "414\t19    \t[0.95333333]\t414\t[1.] \t[0.6]\t19    \t[0.09213517]\t[2.11170625]\t414\t[2.28873324]\t[2.01804781]\t19    \t[0.07732922]\n",
      "415\t21    \t[0.93]      \t415\t[1.] \t[0.2]\t21    \t[0.18823744]\t[2.12456079]\t415\t[2.30228877]\t[2.01804781]\t21    \t[0.07980116]\n",
      "416\t16    \t[0.97333333]\t416\t[1.] \t[0.4]\t16    \t[0.10934146]\t[2.11246463]\t416\t[2.32394266]\t[2.01804781]\t16    \t[0.08045811]\n",
      "417\t20    \t[0.95333333]\t417\t[1.] \t[0.] \t20    \t[0.18571184]\t[2.13480457]\t417\t[2.48387313]\t[2.01804781]\t20    \t[0.12210238]\n",
      "418\t19    \t[0.96]      \t418\t[1.] \t[0.7]\t19    \t[0.08793937]\t[2.1091667] \t418\t[2.4025712] \t[2.01804781]\t19    \t[0.08431268]\n",
      "419\t18    \t[0.98666667]\t419\t[1.] \t[0.9]\t18    \t[0.03399346]\t[2.09516306]\t419\t[2.21978784]\t[2.01229835]\t18    \t[0.05816197]\n",
      "420\t20    \t[0.97666667]\t420\t[1.] \t[0.7]\t20    \t[0.06155395]\t[2.11886031]\t420\t[2.39907575]\t[2.01145148]\t20    \t[0.09851258]\n",
      "421\t18    \t[0.99]      \t421\t[1.] \t[0.9]\t18    \t[0.03]      \t[2.10230925]\t421\t[2.29260683]\t[2.01145148]\t18    \t[0.07766688]\n",
      "422\t19    \t[0.97666667]\t422\t[1.] \t[0.5]\t19    \t[0.09195409]\t[2.10256488]\t422\t[2.33757949]\t[2.01145148]\t19    \t[0.08833404]\n",
      "423\t18    \t[0.98333333]\t423\t[1.] \t[0.6]\t18    \t[0.07340905]\t[2.10021807]\t423\t[2.26634145]\t[2.01145148]\t18    \t[0.07026349]\n",
      "424\t19    \t[0.99666667]\t424\t[1.] \t[0.9]\t19    \t[0.01795055]\t[2.08909211]\t424\t[2.2413013] \t[2.00097585]\t19    \t[0.07276805]\n",
      "425\t13    \t[0.99666667]\t425\t[1.] \t[0.9]\t13    \t[0.01795055]\t[2.08877673]\t425\t[2.25377917]\t[2.01145148]\t13    \t[0.07863479]\n",
      "426\t18    \t[0.98333333]\t426\t[1.] \t[0.8]\t18    \t[0.04533824]\t[2.10784232]\t426\t[2.31352353]\t[2.01145148]\t18    \t[0.09375983]\n",
      "427\t15    \t[0.99]      \t427\t[1.] \t[0.8]\t15    \t[0.03958114]\t[2.09139187]\t427\t[2.22883868]\t[2.01145148]\t15    \t[0.07419825]\n",
      "428\t17    \t[0.97333333]\t428\t[1.] \t[0.3]\t17    \t[0.1263153] \t[2.09711327]\t428\t[2.21950221]\t[2.01145148]\t17    \t[0.07384094]\n",
      "429\t13    \t[0.96]      \t429\t[1.] \t[0.4]\t13    \t[0.11718931]\t[2.07856667]\t429\t[2.31175208]\t[2.01145148]\t13    \t[0.07462565]\n",
      "430\t16    \t[0.95666667]\t430\t[1.] \t[0.5]\t16    \t[0.12565385]\t[2.09226637]\t430\t[2.3269012] \t[2.01145148]\t16    \t[0.08550476]\n",
      "431\t15    \t[0.97333333]\t431\t[1.] \t[0.5]\t15    \t[0.09285592]\t[2.0877078] \t431\t[2.2410543] \t[2.01145148]\t15    \t[0.07525785]\n",
      "432\t19    \t[0.98666667]\t432\t[1.] \t[0.9]\t19    \t[0.03399346]\t[2.11019398]\t432\t[2.31432152]\t[2.01002502]\t19    \t[0.10191755]\n",
      "433\t21    \t[0.95333333]\t433\t[1.] \t[0.2]\t21    \t[0.16679995]\t[2.12304257]\t433\t[2.26382327]\t[1.99909937]\t21    \t[0.0817971] \n",
      "434\t20    \t[0.99666667]\t434\t[1.] \t[0.9]\t20    \t[0.01795055]\t[2.11573834]\t434\t[2.31802511]\t[1.99909937]\t20    \t[0.07862191]\n",
      "435\t21    \t[0.98333333]\t435\t[1.] \t[0.8]\t21    \t[0.04533824]\t[2.13218659]\t435\t[2.29620528]\t[2.01145148]\t21    \t[0.07792786]\n",
      "436\t17    \t[0.96]      \t436\t[1.] \t[0.4]\t17    \t[0.12]      \t[2.1256941] \t436\t[2.29940772]\t[2.01145148]\t17    \t[0.07140377]\n",
      "437\t22    \t[0.99]      \t437\t[1.] \t[0.9]\t22    \t[0.03]      \t[2.13752211]\t437\t[2.42181969]\t[2.04814935]\t22    \t[0.087816]  \n",
      "438\t14    \t[0.98666667]\t438\t[1.] \t[0.7]\t14    \t[0.05617433]\t[2.10493402]\t438\t[2.34056759]\t[2.01519656]\t14    \t[0.06852651]\n",
      "439\t20    \t[0.98]      \t439\t[1.] \t[0.7]\t20    \t[0.06531973]\t[2.08188198]\t439\t[2.22442055]\t[2.01444817]\t20    \t[0.0514528] \n",
      "440\t19    \t[1.]        \t440\t[1.] \t[1.] \t19    \t[0.]        \t[2.11764266]\t440\t[2.34196091]\t[2.01444817]\t19    \t[0.08867245]\n",
      "441\t19    \t[0.99]      \t441\t[1.] \t[0.9]\t19    \t[0.03]      \t[2.13038159]\t441\t[2.41912341]\t[2.01444817]\t19    \t[0.10861476]\n",
      "442\t25    \t[0.99333333]\t442\t[1.] \t[0.9]\t25    \t[0.02494438]\t[2.12778002]\t442\t[2.31463289]\t[2.01444817]\t25    \t[0.08745048]\n",
      "443\t20    \t[0.97666667]\t443\t[1.] \t[0.4]\t20    \t[0.10857665]\t[2.1150735] \t443\t[2.22139359]\t[2.01444817]\t20    \t[0.06504172]\n",
      "444\t24    \t[0.99333333]\t444\t[1.] \t[0.9]\t24    \t[0.02494438]\t[2.13645961]\t444\t[2.31651187]\t[2.01444817]\t24    \t[0.08184675]\n",
      "445\t21    \t[0.94]      \t445\t[1.] \t[0.1]\t21    \t[0.20099751]\t[2.17741999]\t445\t[2.53199506]\t[2.01444817]\t21    \t[0.11939231]\n",
      "446\t18    \t[0.95333333]\t446\t[1.] \t[0.1]\t18    \t[0.16275407]\t[2.15019121]\t446\t[2.32549906]\t[2.01444817]\t18    \t[0.08276189]\n",
      "447\t21    \t[0.96]      \t447\t[1.] \t[0.2]\t21    \t[0.14514361]\t[2.12158295]\t447\t[2.42979383]\t[2.01444817]\t21    \t[0.09434366]\n",
      "448\t17    \t[0.97666667]\t448\t[1.] \t[0.5]\t17    \t[0.09195409]\t[2.09569595]\t448\t[2.36802649]\t[2.01444817]\t17    \t[0.08337129]\n",
      "449\t14    \t[0.98666667]\t449\t[1.] \t[0.8]\t14    \t[0.04268749]\t[2.09912133]\t449\t[2.34631276]\t[2.01444817]\t14    \t[0.08780991]\n",
      "450\t16    \t[0.97666667]\t450\t[1.] \t[0.7]\t16    \t[0.06674995]\t[2.11674829]\t450\t[2.28160262]\t[2.01444817]\t16    \t[0.08013131]\n",
      "451\t21    \t[0.87666667]\t451\t[1.] \t[0.2]\t21    \t[0.24315062]\t[2.13764659]\t451\t[2.37971258]\t[2.01444817]\t21    \t[0.09152874]\n",
      "452\t19    \t[0.92]      \t452\t[1.] \t[0.1]\t19    \t[0.21354157]\t[2.13237902]\t452\t[2.27283978]\t[2.01444817]\t19    \t[0.07220793]\n",
      "453\t19    \t[0.96666667]\t453\t[1.] \t[0.4]\t19    \t[0.11055416]\t[2.14136759]\t453\t[2.40922928]\t[2.01444817]\t19    \t[0.09042394]\n",
      "454\t18    \t[0.95666667]\t454\t[1.] \t[0.1]\t18    \t[0.16265164]\t[2.11342786]\t454\t[2.41932487]\t[2.01444817]\t18    \t[0.08263608]\n",
      "455\t20    \t[0.99333333]\t455\t[1.] \t[0.9]\t20    \t[0.02494438]\t[2.10712847]\t455\t[2.32002926]\t[2.01444817]\t20    \t[0.07667538]\n",
      "456\t19    \t[0.92]      \t456\t[1.] \t[0.] \t19    \t[0.23720596]\t[2.11748281]\t456\t[2.35077167]\t[2.01444817]\t19    \t[0.08478044]\n",
      "457\t18    \t[0.94666667]\t457\t[1.] \t[0.] \t18    \t[0.18571184]\t[2.11318735]\t457\t[2.4036653] \t[2.01444817]\t18    \t[0.08699538]\n",
      "458\t18    \t[0.94666667]\t458\t[1.] \t[0.] \t18    \t[0.18208667]\t[2.11556022]\t458\t[2.42465854]\t[2.02782249]\t18    \t[0.0966461] \n",
      "459\t21    \t[0.98666667]\t459\t[1.] \t[0.8]\t21    \t[0.04268749]\t[2.09685713]\t459\t[2.33733845]\t[1.97294009]\t21    \t[0.08012545]\n",
      "460\t21    \t[0.98]      \t460\t[1.] \t[0.7]\t21    \t[0.06531973]\t[2.10398374]\t460\t[2.27489543]\t[2.01293683]\t21    \t[0.07252436]\n",
      "461\t23    \t[0.96666667]\t461\t[1.] \t[0.6]\t23    \t[0.08299933]\t[2.13212736]\t461\t[2.34971476]\t[2.01337886]\t23    \t[0.08584692]\n",
      "462\t19    \t[0.98666667]\t462\t[1.] \t[0.9]\t19    \t[0.03399346]\t[2.11512103]\t462\t[2.31652856]\t[2.02703452]\t19    \t[0.07894111]\n",
      "463\t13    \t[0.98]      \t463\t[1.] \t[0.4]\t13    \t[0.1077033] \t[2.09847923]\t463\t[2.26457]   \t[2.02703452]\t13    \t[0.07260392]\n",
      "464\t16    \t[0.98]      \t464\t[1.] \t[0.8]\t16    \t[0.05416026]\t[2.07487983]\t464\t[2.23677349]\t[2.01122904]\t16    \t[0.0588311] \n",
      "465\t16    \t[0.95666667]\t465\t[1.] \t[0.5]\t16    \t[0.10857665]\t[2.09564527]\t465\t[2.28226447]\t[2.01337528]\t16    \t[0.07413839]\n"
     ]
    },
    {
     "name": "stdout",
     "output_type": "stream",
     "text": [
      "466\t13    \t[0.99666667]\t466\t[1.] \t[0.9]\t13    \t[0.01795055]\t[2.06917241]\t466\t[2.23107958]\t[2.01337528]\t13    \t[0.06300625]\n",
      "467\t17    \t[0.96666667]\t467\t[1.] \t[0.5]\t17    \t[0.09775252]\t[2.08604382]\t467\t[2.31576729]\t[2.01337528]\t17    \t[0.0765373] \n",
      "468\t19    \t[0.92]      \t468\t[1.] \t[0.5]\t19    \t[0.13515423]\t[2.11761224]\t468\t[2.51219678]\t[2.01337528]\t19    \t[0.11472069]\n",
      "469\t17    \t[0.93666667]\t469\t[1.] \t[0.4]\t17    \t[0.13034143]\t[2.12524475]\t469\t[2.42298007]\t[2.01161075]\t17    \t[0.11198114]\n",
      "470\t21    \t[0.99666667]\t470\t[1.] \t[0.9]\t21    \t[0.01795055]\t[2.11488818]\t470\t[2.43267035]\t[2.01161075]\t21    \t[0.09716203]\n",
      "471\t21    \t[0.98666667]\t471\t[1.] \t[0.9]\t21    \t[0.03399346]\t[2.12500815]\t471\t[2.26992989]\t[2.01161075]\t21    \t[0.08936282]\n",
      "472\t19    \t[0.92666667]\t472\t[1.] \t[0.3]\t19    \t[0.14360439]\t[2.09321491]\t472\t[2.23695159]\t[2.01161075]\t19    \t[0.06704722]\n",
      "473\t17    \t[0.88333333]\t473\t[1.] \t[0.] \t17    \t[0.2517715] \t[2.11745981]\t473\t[2.43900609]\t[2.01161075]\t17    \t[0.09371201]\n",
      "474\t20    \t[0.92333333]\t474\t[1.] \t[0.3]\t20    \t[0.17259458]\t[2.12682512]\t474\t[2.27516031]\t[2.01161075]\t20    \t[0.07673187]\n",
      "475\t16    \t[0.96]      \t475\t[1.] \t[0.5]\t16    \t[0.09865766]\t[2.12862715]\t475\t[2.31809092]\t[2.01337528]\t16    \t[0.09096144]\n",
      "476\t17    \t[0.95]      \t476\t[1.] \t[0.5]\t17    \t[0.09574271]\t[2.09688986]\t476\t[2.23525786]\t[2.01337528]\t17    \t[0.06502144]\n",
      "477\t19    \t[0.96333333]\t477\t[1.] \t[0.6]\t19    \t[0.0795124] \t[2.10804648]\t477\t[2.20604777]\t[2.01337528]\t19    \t[0.0559549] \n",
      "478\t17    \t[0.91]      \t478\t[1.] \t[0.4]\t17    \t[0.17]      \t[2.12715927]\t478\t[2.43122101]\t[2.01337528]\t17    \t[0.09897613]\n",
      "479\t20    \t[0.87333333]\t479\t[1.] \t[0.1]\t20    \t[0.2264705] \t[2.10750376]\t479\t[2.30063653]\t[2.01337528]\t20    \t[0.07453151]\n",
      "480\t21    \t[0.97333333]\t480\t[1.] \t[0.7]\t21    \t[0.06289321]\t[2.11742818]\t480\t[2.25167012]\t[2.01337528]\t21    \t[0.06991068]\n",
      "481\t20    \t[0.9]       \t481\t[1.] \t[0.2]\t20    \t[0.19663842]\t[2.13343216]\t481\t[2.35543799]\t[2.00015831]\t20    \t[0.09709269]\n",
      "482\t16    \t[0.93]      \t482\t[1.] \t[0.] \t16    \t[0.19347696]\t[2.14296463]\t482\t[2.34979606]\t[2.00015831]\t16    \t[0.10738072]\n",
      "483\t22    \t[0.89]      \t483\t[1.] \t[0.] \t22    \t[0.22708295]\t[2.15908477]\t483\t[2.35159516]\t[2.00015831]\t22    \t[0.08925469]\n",
      "484\t21    \t[0.91666667]\t484\t[1.] \t[0.3]\t21    \t[0.16947632]\t[2.14475706]\t484\t[2.33233047]\t[2.00015831]\t21    \t[0.08291749]\n",
      "485\t14    \t[0.96333333]\t485\t[1.] \t[0.7]\t14    \t[0.07063207]\t[2.12558027]\t485\t[2.44595027]\t[2.00015831]\t14    \t[0.10145659]\n",
      "486\t14    \t[0.93]      \t486\t[1.] \t[0.4]\t14    \t[0.14640128]\t[2.08655608]\t486\t[2.24490976]\t[2.00015831]\t14    \t[0.06885261]\n",
      "487\t16    \t[0.91666667]\t487\t[1.] \t[0.3]\t16    \t[0.18811935]\t[2.10199134]\t487\t[2.34548879]\t[2.00015831]\t16    \t[0.08811743]\n",
      "488\t23    \t[0.95666667]\t488\t[1.] \t[0.4]\t23    \t[0.1174261] \t[2.09293956]\t488\t[2.2421875] \t[2.00015831]\t23    \t[0.07160645]\n",
      "489\t19    \t[0.88666667]\t489\t[1.] \t[0.] \t19    \t[0.21868293]\t[2.11882426]\t489\t[2.72657228]\t[2.00015831]\t19    \t[0.13065521]\n",
      "490\t19    \t[0.96666667]\t490\t[1.] \t[0.7]\t19    \t[0.08299933]\t[2.10481897]\t490\t[2.42243981]\t[1.98763049]\t19    \t[0.09661462]\n",
      "491\t17    \t[0.97333333]\t491\t[1.] \t[0.7]\t17    \t[0.06289321]\t[2.09225668]\t491\t[2.38687849]\t[1.98763049]\t17    \t[0.08633773]\n",
      "492\t14    \t[0.96333333]\t492\t[1.] \t[0.2]\t14    \t[0.14487543]\t[2.08873951]\t492\t[2.31820154]\t[1.98763049]\t14    \t[0.09770733]\n",
      "493\t24    \t[0.96666667]\t493\t[1.] \t[0.7]\t24    \t[0.06992059]\t[2.12997208]\t493\t[2.4381988] \t[1.98763049]\t24    \t[0.11564247]\n",
      "494\t18    \t[0.94666667]\t494\t[1.] \t[0.6]\t18    \t[0.08844333]\t[2.11765064]\t494\t[2.34862781]\t[1.98763049]\t18    \t[0.08762537]\n",
      "495\t20    \t[0.93333333]\t495\t[1.] \t[0.1]\t20    \t[0.16996732]\t[2.12110362]\t495\t[2.32970691]\t[1.98763049]\t20    \t[0.08264635]\n",
      "496\t15    \t[0.89666667]\t496\t[1.] \t[0.3]\t15    \t[0.20572365]\t[2.11852017]\t496\t[2.33465672]\t[1.98763049]\t15    \t[0.09443119]\n",
      "497\t21    \t[0.86]      \t497\t[1.] \t[0.2]\t21    \t[0.24576411]\t[2.1301065] \t497\t[2.62173414]\t[2.02626395]\t21    \t[0.11519998]\n",
      "498\t14    \t[0.88666667]\t498\t[1.] \t[0.] \t14    \t[0.21868293]\t[2.10487533]\t498\t[2.29056907]\t[2.02626395]\t14    \t[0.06645578]\n",
      "499\t13    \t[0.96]      \t499\t[1.] \t[0.5]\t13    \t[0.09865766]\t[2.10733702]\t499\t[2.27689338]\t[2.02626395]\t13    \t[0.07550498]\n",
      "500\t20    \t[0.92666667]\t500\t[1.] \t[0.1]\t20    \t[0.21281186]\t[2.1413404] \t500\t[2.44917679]\t[2.02626395]\t20    \t[0.10543721]\n",
      "501\t15    \t[0.93666667]\t501\t[1.] \t[0.1]\t15    \t[0.18345451]\t[2.12673634]\t501\t[2.463094]  \t[2.02626395]\t15    \t[0.10162365]\n",
      "502\t16    \t[0.94333333]\t502\t[1.] \t[0.5]\t16    \t[0.10546195]\t[2.11200424]\t502\t[2.41684103]\t[2.01901317]\t16    \t[0.1068885] \n",
      "503\t18    \t[0.96]      \t503\t[1.] \t[0.6]\t18    \t[0.08406347]\t[2.09250456]\t503\t[2.34663653]\t[2.00416064]\t18    \t[0.09083117]\n",
      "504\t14    \t[0.96]      \t504\t[1.] \t[0.7]\t14    \t[0.07571878]\t[2.09089688]\t504\t[2.23304486]\t[2.00416064]\t14    \t[0.07282366]\n",
      "505\t15    \t[0.94666667]\t505\t[1.] \t[0.4]\t15    \t[0.14079141]\t[2.08644446]\t505\t[2.25610018]\t[2.00416064]\t15    \t[0.08219886]\n",
      "506\t16    \t[0.93333333]\t506\t[1.] \t[0.2]\t16    \t[0.17763883]\t[2.09927321]\t506\t[2.35239482]\t[2.00416064]\t16    \t[0.10592352]\n",
      "507\t17    \t[0.97333333]\t507\t[1.] \t[0.8]\t17    \t[0.05734884]\t[2.09714154]\t507\t[2.32856226]\t[2.00416064]\t17    \t[0.09517375]\n",
      "508\t13    \t[0.97]      \t508\t[1.] \t[0.6]\t13    \t[0.0781025] \t[2.09799091]\t508\t[2.42774081]\t[2.00416064]\t13    \t[0.11131297]\n",
      "509\t14    \t[0.96]      \t509\t[1.] \t[0.8]\t14    \t[0.06110101]\t[2.07929458]\t509\t[2.23626971]\t[2.00416064]\t14    \t[0.07800368]\n",
      "510\t18    \t[0.90333333]\t510\t[1.] \t[0.3]\t18    \t[0.18345451]\t[2.10563076]\t510\t[2.36958528]\t[2.00416064]\t18    \t[0.09937313]\n",
      "511\t17    \t[0.91333333]\t511\t[1.] \t[0.1]\t17    \t[0.19787763]\t[2.11401494]\t511\t[2.30827761]\t[2.00416064]\t17    \t[0.09182785]\n",
      "512\t18    \t[0.95666667]\t512\t[1.] \t[0.5]\t18    \t[0.10857665]\t[2.11076402]\t512\t[2.26133347]\t[2.00416064]\t18    \t[0.07685584]\n",
      "513\t21    \t[0.89]      \t513\t[1.] \t[0.3]\t21    \t[0.20223748]\t[2.13222996]\t513\t[2.34684682]\t[2.00416064]\t21    \t[0.08151955]\n",
      "514\t11    \t[0.94666667]\t514\t[1.] \t[0.6]\t11    \t[0.10561986]\t[2.10494495]\t514\t[2.31434608]\t[2.00416064]\t11    \t[0.08623464]\n",
      "515\t18    \t[0.93666667]\t515\t[1.] \t[0.2]\t18    \t[0.1662996] \t[2.12130213]\t515\t[2.43689537]\t[1.99975169]\t18    \t[0.11423349]\n",
      "516\t19    \t[0.93666667]\t516\t[1.] \t[0.5]\t19    \t[0.13780018]\t[2.09112963]\t516\t[2.27795744]\t[1.99975169]\t19    \t[0.07555357]\n",
      "517\t18    \t[0.92]      \t517\t[1.] \t[0.3]\t18    \t[0.17204651]\t[2.11611517]\t517\t[2.39846611]\t[1.99975169]\t18    \t[0.09297187]\n",
      "518\t17    \t[0.94]      \t518\t[1.] \t[0.7]\t17    \t[0.09865766]\t[2.11398243]\t518\t[2.32197309]\t[1.99975169]\t17    \t[0.08184432]\n",
      "519\t15    \t[0.85666667]\t519\t[1.] \t[0.3]\t15    \t[0.20765891]\t[2.10261401]\t519\t[2.26501632]\t[1.99975169]\t15    \t[0.07745278]\n",
      "520\t18    \t[0.93333333]\t520\t[1.] \t[0.6]\t18    \t[0.11925696]\t[2.11134074]\t520\t[2.24950027]\t[1.99975169]\t18    \t[0.08088735]\n",
      "521\t22    \t[0.96]      \t521\t[1.] \t[0.6]\t22    \t[0.11135529]\t[2.14865752]\t521\t[2.37798095]\t[1.99975169]\t22    \t[0.09322868]\n",
      "522\t18    \t[0.97333333]\t522\t[1.] \t[0.7]\t18    \t[0.06289321]\t[2.1222109] \t522\t[2.28996897]\t[2.01818275]\t18    \t[0.07925702]\n",
      "523\t18    \t[0.97666667]\t523\t[1.] \t[0.8]\t18    \t[0.04955356]\t[2.13783281]\t523\t[2.40911865]\t[2.01818275]\t18    \t[0.09375702]\n",
      "524\t19    \t[0.97333333]\t524\t[1.] \t[0.7]\t19    \t[0.06798693]\t[2.12824601]\t524\t[2.31275868]\t[2.01818275]\t19    \t[0.07832783]\n",
      "525\t14    \t[0.93]      \t525\t[1.] \t[0.1]\t14    \t[0.17540429]\t[2.1135773] \t525\t[2.39806676]\t[2.01818275]\t14    \t[0.08893752]\n",
      "526\t13    \t[0.96333333]\t526\t[1.] \t[0.5]\t13    \t[0.09826269]\t[2.09503379]\t526\t[2.28211737]\t[2.01818275]\t13    \t[0.07148785]\n",
      "527\t18    \t[0.95]      \t527\t[1.] \t[0.4]\t18    \t[0.11761519]\t[2.1053021] \t527\t[2.25428319]\t[2.00800776]\t18    \t[0.06355332]\n",
      "528\t12    \t[0.91333333]\t528\t[1.] \t[0.4]\t12    \t[0.1521695] \t[2.10000513]\t528\t[2.22082114]\t[2.01818275]\t12    \t[0.06031402]\n",
      "529\t19    \t[0.93333333]\t529\t[1.] \t[0.3]\t19    \t[0.14452989]\t[2.12188869]\t529\t[2.25178647]\t[2.01818275]\t19    \t[0.07630083]\n",
      "530\t18    \t[0.90333333]\t530\t[1.] \t[0.1]\t18    \t[0.2344971] \t[2.11474067]\t530\t[2.36454582]\t[2.01107144]\t18    \t[0.08624943]\n",
      "531\t21    \t[0.96333333]\t531\t[1.] \t[0.8]\t21    \t[0.06046119]\t[2.13946262]\t531\t[2.51904559]\t[2.01107144]\t21    \t[0.11144555]\n",
      "532\t15    \t[0.97666667]\t532\t[1.] \t[0.6]\t15    \t[0.07608475]\t[2.10894029]\t532\t[2.30306792]\t[2.01107144]\t15    \t[0.07851025]\n"
     ]
    },
    {
     "name": "stdout",
     "output_type": "stream",
     "text": [
      "533\t22    \t[0.94]      \t533\t[1.] \t[0.2]\t22    \t[0.1496663] \t[2.12039287]\t533\t[2.2895093] \t[2.01107144]\t22    \t[0.07697497]\n",
      "534\t17    \t[0.92333333]\t534\t[1.] \t[0.1]\t17    \t[0.19093338]\t[2.14822406]\t534\t[2.27883077]\t[2.01107144]\t17    \t[0.06744746]\n",
      "535\t18    \t[0.92666667]\t535\t[1.] \t[0.4]\t18    \t[0.16316318]\t[2.12250524]\t535\t[2.24825096]\t[2.01107144]\t18    \t[0.05376878]\n",
      "536\t23    \t[0.91333333]\t536\t[1.] \t[0.5]\t23    \t[0.1384036] \t[2.16931878]\t536\t[2.442981]  \t[2.01107144]\t23    \t[0.09598256]\n",
      "537\t16    \t[0.86]      \t537\t[1.] \t[0.] \t16    \t[0.26280538]\t[2.14796524]\t537\t[2.47256827]\t[2.01107144]\t16    \t[0.09398874]\n",
      "538\t16    \t[0.92333333]\t538\t[1.] \t[0.3]\t16    \t[0.16058919]\t[2.13387433]\t538\t[2.37910056]\t[2.01107144]\t16    \t[0.09114931]\n",
      "539\t19    \t[0.92333333]\t539\t[1.] \t[0.3]\t19    \t[0.14985178]\t[2.13029004]\t539\t[2.4456687] \t[2.01107144]\t19    \t[0.10100227]\n",
      "540\t18    \t[0.96]      \t540\t[1.] \t[0.3]\t18    \t[0.12806248]\t[2.11380645]\t540\t[2.38189387]\t[2.01107144]\t18    \t[0.08262404]\n",
      "541\t14    \t[0.95333333]\t541\t[1.] \t[0.3]\t14    \t[0.13097922]\t[2.08281418]\t541\t[2.26501393]\t[2.01107144]\t14    \t[0.06911569]\n",
      "542\t23    \t[0.89666667]\t542\t[1.] \t[0.1]\t23    \t[0.21367161]\t[2.13584743]\t542\t[2.34446311]\t[2.01107144]\t23    \t[0.08815604]\n",
      "543\t12    \t[0.91666667]\t543\t[1.] \t[0.1]\t12    \t[0.17336538]\t[2.12560314]\t543\t[2.41711044]\t[2.01107144]\t12    \t[0.10038255]\n",
      "544\t14    \t[0.94333333]\t544\t[1.] \t[0.8]\t14    \t[0.06674995]\t[2.07300146]\t544\t[2.20459676]\t[2.01107144]\t14    \t[0.0588876] \n",
      "545\t19    \t[0.95]      \t545\t[1.] \t[0.4]\t19    \t[0.1118034] \t[2.09998883]\t545\t[2.31816459]\t[2.01107144]\t19    \t[0.08535082]\n",
      "546\t17    \t[0.94]      \t546\t[1.] \t[0.7]\t17    \t[0.08793937]\t[2.11312538]\t546\t[2.34720111]\t[2.01107144]\t17    \t[0.08807424]\n",
      "547\t13    \t[0.97333333]\t547\t[1.] \t[0.7]\t13    \t[0.06289321]\t[2.11824629]\t547\t[2.33260155]\t[2.01107144]\t13    \t[0.0914774] \n",
      "548\t21    \t[0.94666667]\t548\t[1.] \t[0.7]\t21    \t[0.09213517]\t[2.12693594]\t548\t[2.43279815]\t[2.01107144]\t21    \t[0.11293866]\n",
      "549\t13    \t[0.94666667]\t549\t[1.] \t[0.4]\t13    \t[0.1334999] \t[2.11028879]\t549\t[2.44201851]\t[2.01107144]\t13    \t[0.11709906]\n",
      "550\t18    \t[0.92]      \t550\t[1.] \t[0.1]\t18    \t[0.18511258]\t[2.11427753]\t550\t[2.2782259] \t[2.01107144]\t18    \t[0.08803543]\n",
      "551\t20    \t[0.93333333]\t551\t[1.] \t[0.5]\t20    \t[0.14220486]\t[2.11460706]\t551\t[2.50230145]\t[2.01107144]\t20    \t[0.10224849]\n",
      "552\t18    \t[0.96666667]\t552\t[1.] \t[0.8]\t18    \t[0.05962848]\t[2.09910513]\t552\t[2.29273415]\t[2.00634742]\t18    \t[0.08173073]\n",
      "553\t14    \t[0.94666667]\t553\t[1.] \t[0.6]\t14    \t[0.10241528]\t[2.09281285]\t553\t[2.32150841]\t[2.00634742]\t14    \t[0.08234086]\n",
      "554\t13    \t[0.96666667]\t554\t[1.] \t[0.7]\t13    \t[0.06992059]\t[2.07460795]\t554\t[2.25806975]\t[2.00634742]\t13    \t[0.07214845]\n",
      "555\t19    \t[0.90666667]\t555\t[1.] \t[0.4]\t19    \t[0.13399834]\t[2.10772001]\t555\t[2.27883387]\t[2.00634742]\t19    \t[0.08019097]\n",
      "556\t15    \t[0.89]      \t556\t[1.] \t[0.] \t15    \t[0.21809784]\t[2.10581803]\t556\t[2.33030057]\t[2.00634742]\t15    \t[0.08787161]\n",
      "557\t16    \t[0.89666667]\t557\t[1.] \t[0.3]\t16    \t[0.16829207]\t[2.12494949]\t557\t[2.35655594]\t[2.00634742]\t16    \t[0.09452172]\n",
      "558\t24    \t[0.95]      \t558\t[1.] \t[0.4]\t24    \t[0.15]      \t[2.11676235]\t558\t[2.31835628]\t[2.00634742]\t24    \t[0.08299247]\n",
      "559\t23    \t[0.92]      \t559\t[1.] \t[0.5]\t23    \t[0.14236104]\t[2.12702312]\t559\t[2.32833982]\t[2.00634742]\t23    \t[0.08466688]\n",
      "560\t18    \t[0.9]       \t560\t[1.] \t[0.] \t18    \t[0.24358435]\t[2.13656749]\t560\t[2.76703811]\t[2.00634742]\t18    \t[0.14515885]\n",
      "561\t17    \t[0.93]      \t561\t[1.] \t[0.4]\t17    \t[0.1530795] \t[2.10889749]\t561\t[2.30498338]\t[2.00634742]\t17    \t[0.08286781]\n",
      "562\t23    \t[0.94]      \t562\t[1.] \t[0.1]\t23    \t[0.17048949]\t[2.1249037] \t562\t[2.31560922]\t[2.00634742]\t23    \t[0.08356544]\n",
      "563\t20    \t[0.92666667]\t563\t[1.] \t[0.] \t20    \t[0.18245243]\t[2.12847241]\t563\t[2.46300435]\t[2.00634742]\t20    \t[0.1072359] \n",
      "564\t15    \t[0.97]      \t564\t[1.] \t[0.8]\t15    \t[0.05259911]\t[2.11588904]\t564\t[2.3803823] \t[2.00634742]\t15    \t[0.08776018]\n",
      "565\t19    \t[0.98333333]\t565\t[1.] \t[0.9]\t19    \t[0.0372678] \t[2.11753147]\t565\t[2.33558822]\t[2.00634742]\t19    \t[0.09733862]\n",
      "566\t17    \t[0.93]      \t566\t[1.] \t[0.4]\t17    \t[0.14177447]\t[2.11162648]\t566\t[2.39324307]\t[2.00634742]\t17    \t[0.0941717] \n",
      "567\t22    \t[0.93333333]\t567\t[1.] \t[0.4]\t22    \t[0.13249738]\t[2.11630214]\t567\t[2.37246108]\t[2.00634742]\t22    \t[0.08266618]\n",
      "568\t13    \t[0.93333333]\t568\t[1.] \t[0.4]\t13    \t[0.12472191]\t[2.10036287]\t568\t[2.32436109]\t[2.00634742]\t13    \t[0.07061925]\n",
      "569\t15    \t[0.95]      \t569\t[1.] \t[0.5]\t15    \t[0.10567245]\t[2.09085408]\t569\t[2.19241309]\t[2.00634742]\t15    \t[0.06050171]\n",
      "570\t11    \t[0.97666667]\t570\t[1.] \t[0.8]\t11    \t[0.04955356]\t[2.07770099]\t570\t[2.17020655]\t[2.00634742]\t11    \t[0.05294417]\n",
      "571\t18    \t[0.92666667]\t571\t[1.] \t[0.2]\t18    \t[0.18245243]\t[2.11139589]\t571\t[2.27590561]\t[2.00603747]\t18    \t[0.08709386]\n",
      "572\t17    \t[0.92]      \t572\t[1.] \t[0.4]\t17    \t[0.18330303]\t[2.13335316]\t572\t[2.52243733]\t[2.00603747]\t17    \t[0.12518659]\n",
      "573\t17    \t[0.89]      \t573\t[1.] \t[0.] \t17    \t[0.2494661] \t[2.11596834]\t573\t[2.21960425]\t[2.00634742]\t17    \t[0.06536203]\n",
      "574\t22    \t[0.96]      \t574\t[1.] \t[0.1]\t22    \t[0.16248077]\t[2.12758113]\t574\t[2.40651965]\t[2.00634742]\t22    \t[0.09932557]\n",
      "575\t17    \t[0.98]      \t575\t[1.] \t[0.8]\t17    \t[0.04760952]\t[2.10593148]\t575\t[2.30406356]\t[2.00634742]\t17    \t[0.08852038]\n",
      "576\t16    \t[0.88]      \t576\t[1.] \t[0.3]\t16    \t[0.21197484]\t[2.12409986]\t576\t[2.28294516]\t[2.00634742]\t16    \t[0.10230108]\n",
      "577\t21    \t[0.88]      \t577\t[1.] \t[0.] \t21    \t[0.26633312]\t[2.12706876]\t577\t[2.28865933]\t[2.00634742]\t21    \t[0.08789995]\n",
      "578\t19    \t[0.87]      \t578\t[1.] \t[0.3]\t19    \t[0.23825756]\t[2.12430623]\t578\t[2.294837]  \t[2.00634742]\t19    \t[0.0954843] \n",
      "579\t17    \t[0.89333333]\t579\t[1.] \t[0.2]\t17    \t[0.21898757]\t[2.10994815]\t579\t[2.35258055]\t[2.00634742]\t17    \t[0.09549449]\n",
      "580\t22    \t[0.92]      \t580\t[1.] \t[0.3]\t22    \t[0.16613248]\t[2.10750667]\t580\t[2.2434876] \t[2.00634742]\t22    \t[0.07573344]\n",
      "581\t18    \t[0.88666667]\t581\t[1.] \t[0.2]\t18    \t[0.21092389]\t[2.10306265]\t581\t[2.37357354]\t[2.00634742]\t18    \t[0.09176787]\n",
      "582\t20    \t[0.96666667]\t582\t[1.] \t[0.7]\t20    \t[0.06497863]\t[2.08075735]\t582\t[2.26374507]\t[2.00396895]\t20    \t[0.06945011]\n",
      "583\t21    \t[0.94]      \t583\t[1.] \t[0.6]\t21    \t[0.09521905]\t[2.09582887]\t583\t[2.22971749]\t[2.00396895]\t21    \t[0.06349561]\n",
      "584\t14    \t[0.93333333]\t584\t[1.] \t[0.5]\t14    \t[0.12995726]\t[2.08647722]\t584\t[2.27864146]\t[2.00396895]\t14    \t[0.07532805]\n",
      "585\t14    \t[0.96333333]\t585\t[1.] \t[0.7]\t14    \t[0.07063207]\t[2.09463988]\t585\t[2.22962928]\t[2.00634742]\t14    \t[0.0637554] \n",
      "586\t18    \t[0.95666667]\t586\t[1.] \t[0.5]\t18    \t[0.09893881]\t[2.11448111]\t586\t[2.39024353]\t[2.00634742]\t18    \t[0.10221018]\n",
      "587\t14    \t[0.92666667]\t587\t[1.] \t[0.7]\t14    \t[0.09285592]\t[2.11917993]\t587\t[2.43570352]\t[2.00634742]\t14    \t[0.10259571]\n",
      "588\t21    \t[0.94666667]\t588\t[1.] \t[0.7]\t21    \t[0.08055364]\t[2.1457725] \t588\t[2.34329081]\t[2.00634742]\t21    \t[0.09497572]\n",
      "589\t20    \t[0.91333333]\t589\t[1.] \t[0.] \t20    \t[0.20612833]\t[2.12210983]\t589\t[2.40719485]\t[2.02979708]\t20    \t[0.0820799] \n",
      "590\t22    \t[0.93333333]\t590\t[1.] \t[0.6]\t22    \t[0.12202003]\t[2.14013554]\t590\t[2.35685468]\t[2.02979708]\t22    \t[0.08316425]\n",
      "591\t16    \t[0.94333333]\t591\t[1.] \t[0.8]\t16    \t[0.07608475]\t[2.11825098]\t591\t[2.28400612]\t[2.02979708]\t16    \t[0.06700658]\n",
      "592\t19    \t[0.91666667]\t592\t[1.] \t[0.4]\t19    \t[0.13437096]\t[2.14884067]\t592\t[2.42176104]\t[2.02979708]\t19    \t[0.0875384] \n",
      "593\t17    \t[0.9]       \t593\t[1.] \t[0.1]\t17    \t[0.18973666]\t[2.17764125]\t593\t[2.44259381]\t[2.02979708]\t17    \t[0.10616391]\n",
      "594\t15    \t[0.96]      \t594\t[1.] \t[0.] \t15    \t[0.18]      \t[2.1598306] \t594\t[2.32376552]\t[2.04011655]\t15    \t[0.07386259]\n",
      "595\t20    \t[0.96]      \t595\t[1.] \t[0.6]\t20    \t[0.08406347]\t[2.1611309] \t595\t[2.63754892]\t[2.04011655]\t20    \t[0.11823114]\n",
      "596\t18    \t[0.95333333]\t596\t[1.] \t[0.5]\t18    \t[0.09910712]\t[2.13439989]\t596\t[2.25491762]\t[2.03735971]\t18    \t[0.06513034]\n",
      "597\t14    \t[0.87666667]\t597\t[1.] \t[0.2]\t14    \t[0.23335714]\t[2.12358147]\t597\t[2.30478621]\t[2.03735971]\t14    \t[0.06620887]\n",
      "598\t21    \t[0.96333333]\t598\t[1.] \t[0.5]\t21    \t[0.1079609] \t[2.12469443]\t598\t[2.27915382]\t[2.03294992]\t21    \t[0.07019111]\n",
      "599\t19    \t[0.88666667]\t599\t[1.] \t[0.2]\t19    \t[0.19618585]\t[2.13442979]\t599\t[2.29853415]\t[2.03294992]\t19    \t[0.08237814]\n"
     ]
    },
    {
     "name": "stdout",
     "output_type": "stream",
     "text": [
      "600\t20    \t[0.96333333]\t600\t[1.] \t[0.6]\t20    \t[0.08359957]\t[2.13016064]\t600\t[2.40643692]\t[2.0283637] \t20    \t[0.09510827]\n",
      "601\t14    \t[0.94333333]\t601\t[1.] \t[0.6]\t14    \t[0.08825468]\t[2.10337053]\t601\t[2.34227443]\t[2.0283637] \t14    \t[0.08742792]\n",
      "602\t21    \t[0.96666667]\t602\t[1.] \t[0.6]\t21    \t[0.0869227] \t[2.13434701]\t602\t[2.42410636]\t[2.0283637] \t21    \t[0.10106921]\n",
      "603\t17    \t[0.94]      \t603\t[1.] \t[0.2]\t17    \t[0.168523]  \t[2.13462791]\t603\t[2.53166556]\t[2.0283637] \t17    \t[0.11644016]\n",
      "604\t14    \t[0.99]      \t604\t[1.] \t[0.9]\t14    \t[0.03]      \t[2.11682523]\t604\t[2.3540957] \t[2.0283637] \t14    \t[0.08596445]\n",
      "605\t17    \t[0.97]      \t605\t[1.] \t[0.4]\t17    \t[0.11]      \t[2.10655722]\t605\t[2.28134465]\t[2.0283637] \t17    \t[0.07442681]\n",
      "606\t18    \t[0.98333333]\t606\t[1.] \t[0.7]\t18    \t[0.05821416]\t[2.15255934]\t606\t[2.46685529]\t[2.0283637] \t18    \t[0.11199228]\n",
      "607\t19    \t[0.98666667]\t607\t[1.] \t[0.9]\t19    \t[0.03399346]\t[2.13265717]\t607\t[2.39324164]\t[2.0283637] \t19    \t[0.08760842]\n",
      "608\t17    \t[0.98666667]\t608\t[1.] \t[0.8]\t17    \t[0.04268749]\t[2.1039188] \t608\t[2.24635696]\t[2.01790166]\t17    \t[0.07057212]\n",
      "609\t17    \t[0.95666667]\t609\t[1.] \t[0.1]\t17    \t[0.16868775]\t[2.11103958]\t609\t[2.49407363]\t[2.02619433]\t17    \t[0.10899076]\n",
      "610\t18    \t[0.96666667]\t610\t[1.] \t[0.2]\t18    \t[0.14452989]\t[2.12232689]\t610\t[2.46750808]\t[2.01605964]\t18    \t[0.11665735]\n",
      "611\t15    \t[0.97]      \t611\t[1.] \t[0.2]\t15    \t[0.14410644]\t[2.11269648]\t611\t[2.33243728]\t[2.01605964]\t15    \t[0.09768338]\n",
      "612\t16    \t[0.99666667]\t612\t[1.] \t[0.9]\t16    \t[0.01795055]\t[2.07815395]\t612\t[2.21905828]\t[2.01605964]\t16    \t[0.06093523]\n",
      "613\t21    \t[0.96666667]\t613\t[1.] \t[0.6]\t21    \t[0.0869227] \t[2.11485909]\t613\t[2.28573799]\t[2.01605964]\t21    \t[0.07461242]\n",
      "614\t18    \t[0.99]      \t614\t[1.] \t[0.9]\t18    \t[0.03]      \t[2.12995602]\t614\t[2.34415102]\t[2.01605964]\t18    \t[0.08917532]\n",
      "615\t17    \t[0.98333333]\t615\t[1.] \t[0.7]\t17    \t[0.06368324]\t[2.1221161] \t615\t[2.28781891]\t[2.01605964]\t17    \t[0.08923509]\n",
      "616\t18    \t[0.99666667]\t616\t[1.] \t[0.9]\t18    \t[0.01795055]\t[2.09178774]\t616\t[2.27796149]\t[2.01605964]\t18    \t[0.07420328]\n",
      "617\t16    \t[0.97666667]\t617\t[1.] \t[0.5]\t16    \t[0.09195409]\t[2.07777704]\t617\t[2.21193433]\t[2.01605964]\t16    \t[0.07068007]\n",
      "618\t18    \t[0.99]      \t618\t[1.] \t[0.9]\t18    \t[0.03]      \t[2.09328705]\t618\t[2.37044311]\t[2.00752592]\t18    \t[0.08174743]\n",
      "619\t16    \t[0.98333333]\t619\t[1.] \t[0.6]\t16    \t[0.07340905]\t[2.09542099]\t619\t[2.25602341]\t[2.00752592]\t16    \t[0.07446896]\n",
      "620\t13    \t[0.99]      \t620\t[1.] \t[0.9]\t13    \t[0.03]      \t[2.08067186]\t620\t[2.21485424]\t[2.00752592]\t13    \t[0.06369715]\n",
      "621\t13    \t[0.96]      \t621\t[1.] \t[0.3]\t13    \t[0.1380821] \t[2.08902182]\t621\t[2.36259198]\t[2.00752592]\t13    \t[0.08938661]\n",
      "622\t20    \t[0.99666667]\t622\t[1.] \t[0.9]\t20    \t[0.01795055]\t[2.09934351]\t622\t[2.34989238]\t[1.98412704]\t20    \t[0.0953788] \n",
      "623\t16    \t[0.99]      \t623\t[1.] \t[0.8]\t16    \t[0.03958114]\t[2.09336539]\t623\t[2.27826953]\t[1.98412704]\t16    \t[0.08725169]\n",
      "624\t17    \t[0.99666667]\t624\t[1.] \t[0.9]\t17    \t[0.01795055]\t[2.07606905]\t624\t[2.30601597]\t[1.98412704]\t17    \t[0.08289248]\n",
      "625\t19    \t[0.99666667]\t625\t[1.] \t[0.9]\t19    \t[0.01795055]\t[2.0855186] \t625\t[2.48994231]\t[1.98412704]\t19    \t[0.10445176]\n",
      "626\t19    \t[0.97]      \t626\t[1.] \t[0.1]\t19    \t[0.16155494]\t[2.08963645]\t626\t[2.30918956]\t[1.97814071]\t19    \t[0.0951322] \n",
      "627\t19    \t[1.]        \t627\t[1.] \t[1.] \t19    \t[0.]        \t[2.07409956]\t627\t[2.31136012]\t[1.97814071]\t19    \t[0.07716352]\n",
      "628\t20    \t[0.99]      \t628\t[1.] \t[0.8]\t20    \t[0.03958114]\t[2.08774892]\t628\t[2.31142974]\t[1.97814071]\t20    \t[0.08870776]\n",
      "629\t15    \t[0.99333333]\t629\t[1.] \t[0.8]\t15    \t[0.0359011] \t[2.06478078]\t629\t[2.20004296]\t[1.98412704]\t15    \t[0.06384845]\n",
      "630\t17    \t[1.]        \t630\t[1.] \t[1.] \t17    \t[0.]        \t[2.08308932]\t630\t[2.39429188]\t[1.97901845]\t17    \t[0.10174702]\n",
      "631\t17    \t[0.99666667]\t631\t[1.] \t[0.9]\t17    \t[0.01795055]\t[2.06619086]\t631\t[2.27943039]\t[1.98412704]\t17    \t[0.08044275]\n",
      "632\t19    \t[0.99333333]\t632\t[1.] \t[0.8]\t19    \t[0.0359011] \t[2.08496951]\t632\t[2.35336423]\t[1.98412704]\t19    \t[0.10438412]\n",
      "633\t15    \t[1.]        \t633\t[1.] \t[1.] \t15    \t[0.]        \t[2.05117611]\t633\t[2.26640749]\t[1.98412704]\t15    \t[0.06938289]\n",
      "634\t16    \t[1.]        \t634\t[1.] \t[1.] \t16    \t[0.]        \t[2.0759791] \t634\t[2.32967448]\t[1.98412704]\t16    \t[0.09080938]\n",
      "635\t23    \t[1.]        \t635\t[1.] \t[1.] \t23    \t[0.]        \t[2.10586515]\t635\t[2.2627399] \t[1.98412704]\t23    \t[0.07573226]\n",
      "636\t17    \t[0.98666667]\t636\t[1.] \t[0.8]\t17    \t[0.04988877]\t[2.12128368]\t636\t[2.37122655]\t[1.98412704]\t17    \t[0.10209607]\n",
      "637\t20    \t[1.]        \t637\t[1.] \t[1.] \t20    \t[0.]        \t[2.12363745]\t637\t[2.32146978]\t[1.98412704]\t20    \t[0.10407213]\n",
      "638\t20    \t[0.97]      \t638\t[1.] \t[0.1]\t20    \t[0.16155494]\t[2.09873894]\t638\t[2.52063918]\t[1.98412704]\t20    \t[0.10827225]\n",
      "639\t20    \t[0.99333333]\t639\t[1.] \t[0.9]\t20    \t[0.02494438]\t[2.07756722]\t639\t[2.26341534]\t[1.98567522]\t20    \t[0.06912618]\n",
      "640\t18    \t[0.98]      \t640\t[1.] \t[0.5]\t18    \t[0.09092121]\t[2.08077306]\t640\t[2.46817017]\t[1.98567522]\t18    \t[0.10183704]\n",
      "641\t19    \t[1.]        \t641\t[1.] \t[1.] \t19    \t[0.]        \t[2.08049152]\t641\t[2.24791431]\t[1.98567522]\t19    \t[0.07621145]\n",
      "642\t17    \t[0.97333333]\t642\t[1.] \t[0.2]\t17    \t[0.14360439]\t[2.07692569]\t642\t[2.25554156]\t[1.97685742]\t17    \t[0.08466437]\n",
      "643\t20    \t[1.]        \t643\t[1.] \t[1.] \t20    \t[0.]        \t[2.08532029]\t643\t[2.28162265]\t[1.97685742]\t20    \t[0.08237346]\n",
      "644\t18    \t[0.99666667]\t644\t[1.] \t[0.9]\t18    \t[0.01795055]\t[2.10317788]\t644\t[2.31638837]\t[1.98567522]\t18    \t[0.07870064]\n",
      "645\t17    \t[0.98666667]\t645\t[1.] \t[0.6]\t17    \t[0.0718022] \t[2.07305957]\t645\t[2.2072742] \t[1.98567522]\t17    \t[0.06709363]\n",
      "646\t24    \t[0.99666667]\t646\t[1.] \t[0.9]\t24    \t[0.01795055]\t[2.099426]  \t646\t[2.26369953]\t[1.98567522]\t24    \t[0.07933427]\n",
      "647\t21    \t[0.99]      \t647\t[1.] \t[0.7]\t21    \t[0.05385165]\t[2.08376742]\t647\t[2.33725619]\t[1.9771502] \t21    \t[0.08461632]\n",
      "648\t15    \t[0.98333333]\t648\t[1.] \t[0.5]\t15    \t[0.08975275]\t[2.06988117]\t648\t[2.33716893]\t[1.9771502] \t15    \t[0.08635536]\n",
      "649\t16    \t[0.99333333]\t649\t[1.] \t[0.9]\t16    \t[0.02494438]\t[2.06393825]\t649\t[2.32884192]\t[1.9771502] \t16    \t[0.0855807] \n",
      "650\t17    \t[1.]        \t650\t[1.] \t[1.] \t17    \t[0.]        \t[2.08358802]\t650\t[2.30197716]\t[1.9771502] \t17    \t[0.07521828]\n",
      "651\t14    \t[0.99333333]\t651\t[1.] \t[0.9]\t14    \t[0.02494438]\t[2.09848142]\t651\t[2.39882374]\t[1.9771502] \t14    \t[0.10168338]\n",
      "652\t20    \t[0.99333333]\t652\t[1.] \t[0.9]\t20    \t[0.02494438]\t[2.11624235]\t652\t[2.28424096]\t[1.99414659]\t20    \t[0.09622884]\n",
      "653\t14    \t[0.99666667]\t653\t[1.] \t[0.9]\t14    \t[0.01795055]\t[2.08712436]\t653\t[2.25154495]\t[1.99414659]\t14    \t[0.0771411] \n",
      "654\t13    \t[0.99]      \t654\t[1.] \t[0.7]\t13    \t[0.05385165]\t[2.0620641] \t654\t[2.19117355]\t[1.99414659]\t13    \t[0.06837592]\n",
      "655\t22    \t[0.95333333]\t655\t[1.] \t[0.3]\t22    \t[0.15434449]\t[2.09792708]\t655\t[2.2939508] \t[1.99325776]\t22    \t[0.07660814]\n",
      "656\t15    \t[0.99666667]\t656\t[1.] \t[0.9]\t15    \t[0.01795055]\t[2.08948839]\t656\t[2.33143854]\t[1.99325776]\t15    \t[0.07406488]\n",
      "657\t21    \t[0.98333333]\t657\t[1.] \t[0.8]\t21    \t[0.04533824]\t[2.10994471]\t657\t[2.30855536]\t[1.99414659]\t21    \t[0.07697666]\n",
      "658\t20    \t[0.97333333]\t658\t[1.] \t[0.6]\t20    \t[0.08137704]\t[2.11646965]\t658\t[2.26024604]\t[1.99414659]\t20    \t[0.05842349]\n",
      "659\t20    \t[0.99333333]\t659\t[1.] \t[0.9]\t20    \t[0.02494438]\t[2.11146253]\t659\t[2.35487294]\t[1.99414659]\t20    \t[0.080985]  \n",
      "660\t21    \t[1.]        \t660\t[1.] \t[1.] \t21    \t[0.]        \t[2.10031578]\t660\t[2.28342509]\t[1.99414659]\t21    \t[0.06731713]\n",
      "661\t14    \t[1.]        \t661\t[1.] \t[1.] \t14    \t[0.]        \t[2.08099561]\t661\t[2.28954482]\t[1.99414659]\t14    \t[0.07010412]\n",
      "662\t14    \t[0.99666667]\t662\t[1.] \t[0.9]\t14    \t[0.01795055]\t[2.08298551]\t662\t[2.26141715]\t[1.99414659]\t14    \t[0.07431647]\n",
      "663\t22    \t[0.99333333]\t663\t[1.] \t[0.9]\t22    \t[0.02494438]\t[2.11923069]\t663\t[2.34661078]\t[1.98982656]\t22    \t[0.09666342]\n",
      "664\t19    \t[0.97]      \t664\t[1.] \t[0.6]\t19    \t[0.08621678]\t[2.10657775]\t664\t[2.32312679]\t[1.99414659]\t19    \t[0.08977761]\n",
      "665\t19    \t[0.97]      \t665\t[1.] \t[0.2]\t19    \t[0.14410644]\t[2.08986587]\t665\t[2.31231546]\t[1.99414659]\t19    \t[0.07909737]\n",
      "666\t22    \t[0.98666667]\t666\t[1.] \t[0.9]\t22    \t[0.03399346]\t[2.10671705]\t666\t[2.38738441]\t[1.99414659]\t22    \t[0.09177186]\n"
     ]
    },
    {
     "name": "stdout",
     "output_type": "stream",
     "text": [
      "667\t17    \t[0.96666667]\t667\t[1.] \t[0.] \t17    \t[0.17950549]\t[2.10675804]\t667\t[2.48791957]\t[1.99414659]\t17    \t[0.11358742]\n",
      "668\t19    \t[0.99666667]\t668\t[1.] \t[0.9]\t19    \t[0.01795055]\t[2.10813031]\t668\t[2.29085231]\t[1.99414659]\t19    \t[0.07518606]\n",
      "669\t21    \t[0.96]      \t669\t[1.] \t[0.4]\t21    \t[0.13063945]\t[2.11999047]\t669\t[2.53060889]\t[1.99042284]\t21    \t[0.11252671]\n",
      "670\t16    \t[0.99666667]\t670\t[1.] \t[0.9]\t16    \t[0.01795055]\t[2.06998286]\t670\t[2.28412747]\t[1.99042284]\t16    \t[0.06871582]\n",
      "671\t18    \t[1.]        \t671\t[1.] \t[1.] \t18    \t[0.]        \t[2.08071235]\t671\t[2.31176472]\t[1.99042284]\t18    \t[0.08687016]\n",
      "672\t19    \t[0.97333333]\t672\t[1.] \t[0.4]\t19    \t[0.10934146]\t[2.08762124]\t672\t[2.36958075]\t[1.97120273]\t19    \t[0.09762324]\n",
      "673\t20    \t[0.99333333]\t673\t[1.] \t[0.9]\t20    \t[0.02494438]\t[2.08103065]\t673\t[2.26724863]\t[1.97120273]\t20    \t[0.08787978]\n",
      "674\t24    \t[0.99333333]\t674\t[1.] \t[0.8]\t24    \t[0.0359011] \t[2.10061535]\t674\t[2.27095985]\t[1.97120273]\t24    \t[0.08412306]\n",
      "675\t16    \t[0.99]      \t675\t[1.] \t[0.8]\t16    \t[0.03958114]\t[2.08515778]\t675\t[2.44287395]\t[1.97120273]\t16    \t[0.11450451]\n",
      "676\t20    \t[1.]        \t676\t[1.] \t[1.] \t20    \t[0.]        \t[2.07312355]\t676\t[2.22720599]\t[1.97120273]\t20    \t[0.07662801]\n",
      "677\t19    \t[1.]        \t677\t[1.] \t[1.] \t19    \t[0.]        \t[2.10264735]\t677\t[2.24757695]\t[1.97120273]\t19    \t[0.08441027]\n",
      "678\t17    \t[0.99666667]\t678\t[1.] \t[0.9]\t17    \t[0.01795055]\t[2.08683434]\t678\t[2.2202549] \t[1.97120273]\t17    \t[0.06878279]\n",
      "679\t23    \t[0.97666667]\t679\t[1.] \t[0.6]\t23    \t[0.08034647]\t[2.1015779] \t679\t[2.34298658]\t[1.97120273]\t23    \t[0.10278493]\n",
      "680\t18    \t[0.99666667]\t680\t[1.] \t[0.9]\t18    \t[0.01795055]\t[2.08053747]\t680\t[2.28527999]\t[1.97120273]\t18    \t[0.08982095]\n",
      "681\t23    \t[1.]        \t681\t[1.] \t[1.] \t23    \t[0.]        \t[2.0904123] \t681\t[2.28584552]\t[1.98208749]\t23    \t[0.08088251]\n",
      "682\t17    \t[1.]        \t682\t[1.] \t[1.] \t17    \t[0.]        \t[2.08402602]\t682\t[2.39062738]\t[1.98208749]\t17    \t[0.09255575]\n",
      "683\t16    \t[0.97333333]\t683\t[1.] \t[0.2]\t16    \t[0.14360439]\t[2.07473241]\t683\t[2.30663729]\t[1.98208749]\t16    \t[0.08030337]\n",
      "684\t25    \t[0.99]      \t684\t[1.] \t[0.8]\t25    \t[0.03958114]\t[2.10513073]\t684\t[2.29533386]\t[1.98208749]\t25    \t[0.08528561]\n",
      "685\t23    \t[0.98333333]\t685\t[1.] \t[0.6]\t23    \t[0.07340905]\t[2.11474729]\t685\t[2.32234263]\t[1.98380506]\t23    \t[0.07316452]\n",
      "686\t22    \t[0.98333333]\t686\t[1.] \t[0.6]\t22    \t[0.07340905]\t[2.13292385]\t686\t[2.29929972]\t[1.99216139]\t22    \t[0.08281158]\n",
      "687\t20    \t[1.]        \t687\t[1.] \t[1.] \t20    \t[0.]        \t[2.11838787]\t687\t[2.3475945] \t[2.01123261]\t20    \t[0.08761742]\n",
      "688\t12    \t[0.98333333]\t688\t[1.] \t[0.5]\t12    \t[0.08975275]\t[2.0824619] \t688\t[2.295295]  \t[2.01123261]\t12    \t[0.06435547]\n",
      "689\t19    \t[1.]        \t689\t[1.] \t[1.] \t19    \t[0.]        \t[2.08971413]\t689\t[2.25104427]\t[2.01123261]\t19    \t[0.07423319]\n",
      "690\t16    \t[1.]        \t690\t[1.] \t[1.] \t16    \t[0.]        \t[2.07244364]\t690\t[2.20170951]\t[1.99111104]\t16    \t[0.0595197] \n",
      "691\t20    \t[0.99666667]\t691\t[1.] \t[0.9]\t20    \t[0.01795055]\t[2.0847675] \t691\t[2.27267623]\t[1.99111104]\t20    \t[0.06902872]\n",
      "692\t17    \t[1.]        \t692\t[1.] \t[1.] \t17    \t[0.]        \t[2.07887801]\t692\t[2.29791403]\t[1.98125005]\t17    \t[0.07535457]\n",
      "693\t18    \t[1.]        \t693\t[1.] \t[1.] \t18    \t[0.]        \t[2.07015973]\t693\t[2.27079821]\t[1.98125005]\t18    \t[0.07461908]\n",
      "694\t23    \t[0.99666667]\t694\t[1.] \t[0.9]\t23    \t[0.01795055]\t[2.10289518]\t694\t[2.37984538]\t[1.98125005]\t23    \t[0.0882434] \n",
      "695\t16    \t[1.]        \t695\t[1.] \t[1.] \t16    \t[0.]        \t[2.07975333]\t695\t[2.26746821]\t[1.98125005]\t16    \t[0.07517662]\n",
      "696\t15    \t[1.]        \t696\t[1.] \t[1.] \t15    \t[0.]        \t[2.06174755]\t696\t[2.34000182]\t[1.98125005]\t15    \t[0.08068296]\n",
      "697\t23    \t[1.]        \t697\t[1.] \t[1.] \t23    \t[0.]        \t[2.0637514] \t697\t[2.17103839]\t[1.98125005]\t23    \t[0.05777628]\n",
      "698\t13    \t[1.]        \t698\t[1.] \t[1.] \t13    \t[0.]        \t[2.05798694]\t698\t[2.2051537] \t[1.98125005]\t13    \t[0.06381338]\n",
      "699\t22    \t[0.99666667]\t699\t[1.] \t[0.9]\t22    \t[0.01795055]\t[2.07821545]\t699\t[2.25011063]\t[1.98125005]\t22    \t[0.07124739]\n",
      "700\t21    \t[0.99666667]\t700\t[1.] \t[0.9]\t21    \t[0.01795055]\t[2.09701475]\t700\t[2.31505823]\t[1.98125005]\t21    \t[0.1026128] \n",
      "701\t17    \t[1.]        \t701\t[1.] \t[1.] \t17    \t[0.]        \t[2.06562319]\t701\t[2.2134068] \t[1.97253251]\t17    \t[0.07075913]\n",
      "702\t14    \t[0.94]      \t702\t[1.] \t[0.] \t14    \t[0.22597935]\t[2.05777389]\t702\t[2.34666419]\t[1.98125005]\t14    \t[0.09820585]\n",
      "703\t12    \t[1.]        \t703\t[1.] \t[1.] \t12    \t[0.]        \t[2.05238019]\t703\t[2.38080287]\t[1.98125005]\t12    \t[0.10112169]\n",
      "704\t16    \t[0.98]      \t704\t[1.] \t[0.4]\t16    \t[0.1077033] \t[2.04402548]\t704\t[2.19940567]\t[1.98125005]\t16    \t[0.07135021]\n",
      "705\t18    \t[1.]        \t705\t[1.] \t[1.] \t18    \t[0.]        \t[2.04351356]\t705\t[2.16277289]\t[1.97843325]\t18    \t[0.0540315] \n",
      "706\t15    \t[1.]        \t706\t[1.] \t[1.] \t15    \t[0.]        \t[2.05636245]\t706\t[2.21026111]\t[1.98125005]\t15    \t[0.075639]  \n",
      "707\t15    \t[0.98666667]\t707\t[1.] \t[0.8]\t15    \t[0.04268749]\t[2.03710926]\t707\t[2.19362092]\t[1.98125005]\t15    \t[0.0651259] \n",
      "708\t19    \t[1.]        \t708\t[1.] \t[1.] \t19    \t[0.]        \t[2.05149639]\t708\t[2.23948526]\t[1.98125005]\t19    \t[0.07567691]\n",
      "709\t17    \t[0.97666667]\t709\t[1.] \t[0.4]\t17    \t[0.10857665]\t[2.05594981]\t709\t[2.2239418] \t[1.98125005]\t17    \t[0.07318123]\n",
      "710\t18    \t[0.96666667]\t710\t[1.] \t[0.1]\t18    \t[0.16193277]\t[2.07009267]\t710\t[2.28826594]\t[1.98125005]\t18    \t[0.09316797]\n",
      "711\t19    \t[0.99666667]\t711\t[1.] \t[0.9]\t19    \t[0.01795055]\t[2.07223739]\t711\t[2.31753087]\t[1.98125005]\t19    \t[0.07877745]\n",
      "712\t19    \t[0.99333333]\t712\t[1.] \t[0.9]\t19    \t[0.02494438]\t[2.06911044]\t712\t[2.27009058]\t[1.98125005]\t19    \t[0.07547479]\n",
      "713\t16    \t[0.99666667]\t713\t[1.] \t[0.9]\t16    \t[0.01795055]\t[2.0486708] \t713\t[2.28132057]\t[1.98125005]\t16    \t[0.07741126]\n",
      "714\t18    \t[0.98]      \t714\t[1.] \t[0.6]\t18    \t[0.07483315]\t[2.07150108]\t714\t[2.20098853]\t[1.98125005]\t18    \t[0.07559131]\n",
      "715\t18    \t[0.99333333]\t715\t[1.] \t[0.9]\t18    \t[0.02494438]\t[2.08067515]\t715\t[2.23825908]\t[1.98125005]\t18    \t[0.08358435]\n",
      "716\t20    \t[0.99666667]\t716\t[1.] \t[0.9]\t20    \t[0.01795055]\t[2.08077013]\t716\t[2.26790667]\t[1.98125005]\t20    \t[0.06260639]\n",
      "717\t14    \t[0.99333333]\t717\t[1.] \t[0.9]\t14    \t[0.02494438]\t[2.08947422]\t717\t[2.26838636]\t[1.98125005]\t14    \t[0.07060224]\n",
      "718\t24    \t[1.]        \t718\t[1.] \t[1.] \t24    \t[0.]        \t[2.11448464]\t718\t[2.35848022]\t[1.99183655]\t24    \t[0.09138637]\n",
      "719\t20    \t[0.97]      \t719\t[1.] \t[0.2]\t20    \t[0.14410644]\t[2.08822545]\t719\t[2.37440324]\t[1.98323286]\t20    \t[0.08651111]\n",
      "720\t16    \t[1.]        \t720\t[1.] \t[1.] \t16    \t[0.]        \t[2.08412053]\t720\t[2.3602531] \t[1.97137833]\t16    \t[0.0940907] \n",
      "721\t22    \t[0.99333333]\t721\t[1.] \t[0.9]\t22    \t[0.02494438]\t[2.07410981]\t721\t[2.25554252]\t[1.97137833]\t22    \t[0.0676649] \n",
      "722\t19    \t[0.99]      \t722\t[1.] \t[0.7]\t19    \t[0.05385165]\t[2.06301239]\t722\t[2.15680623]\t[1.97137833]\t19    \t[0.05098152]\n",
      "723\t17    \t[0.99]      \t723\t[1.] \t[0.9]\t17    \t[0.03]      \t[2.07469406]\t723\t[2.4039166] \t[1.97137833]\t17    \t[0.08421857]\n",
      "724\t16    \t[0.99333333]\t724\t[1.] \t[0.9]\t16    \t[0.02494438]\t[2.0618272] \t724\t[2.19186664]\t[1.97137833]\t16    \t[0.06427419]\n",
      "725\t14    \t[0.99333333]\t725\t[1.] \t[0.9]\t14    \t[0.02494438]\t[2.04950856]\t725\t[2.22119331]\t[1.97137833]\t14    \t[0.06723646]\n",
      "726\t20    \t[0.99]      \t726\t[1.] \t[0.9]\t20    \t[0.03]      \t[2.07979753]\t726\t[2.25795746]\t[1.97137833]\t20    \t[0.08385611]\n",
      "727\t18    \t[0.96666667]\t727\t[1.] \t[0.3]\t18    \t[0.12995726]\t[2.09069893]\t727\t[2.21817279]\t[1.97137833]\t18    \t[0.07510312]\n",
      "728\t20    \t[0.96333333]\t728\t[1.] \t[0.1]\t20    \t[0.16224125]\t[2.08693991]\t728\t[2.25248265]\t[1.97137833]\t20    \t[0.08501743]\n",
      "729\t18    \t[0.97666667]\t729\t[1.] \t[0.3]\t18    \t[0.12565385]\t[2.07708697]\t729\t[2.26818728]\t[1.97137833]\t18    \t[0.08233046]\n",
      "730\t20    \t[0.98666667]\t730\t[1.] \t[0.8]\t20    \t[0.04268749]\t[2.08083299]\t730\t[2.31039405]\t[1.97137833]\t20    \t[0.09465413]\n",
      "731\t16    \t[0.98333333]\t731\t[1.] \t[0.6]\t16    \t[0.07340905]\t[2.04038146]\t731\t[2.19847941]\t[1.97137833]\t16    \t[0.07198912]\n",
      "732\t11    \t[0.99666667]\t732\t[1.] \t[0.9]\t11    \t[0.01795055]\t[2.03887487]\t732\t[2.21993637]\t[1.97137833]\t11    \t[0.07188846]\n",
      "733\t24    \t[0.99666667]\t733\t[1.] \t[0.9]\t24    \t[0.01795055]\t[2.07459862]\t733\t[2.23719907]\t[1.96409643]\t24    \t[0.07948371]\n"
     ]
    },
    {
     "name": "stdout",
     "output_type": "stream",
     "text": [
      "734\t17    \t[0.99333333]\t734\t[1.] \t[0.9]\t17    \t[0.02494438]\t[2.06492215]\t734\t[2.26141024]\t[1.97137833]\t17    \t[0.07569101]\n",
      "735\t14    \t[0.99333333]\t735\t[1.] \t[0.8]\t14    \t[0.0359011] \t[2.07977653]\t735\t[2.48864675]\t[1.97137833]\t14    \t[0.11469788]\n",
      "736\t16    \t[0.96333333]\t736\t[1.] \t[0.3]\t16    \t[0.13034143]\t[2.06596074]\t736\t[2.20988441]\t[1.97137833]\t16    \t[0.07875766]\n",
      "737\t19    \t[0.99666667]\t737\t[1.] \t[0.9]\t19    \t[0.01795055]\t[2.08157225]\t737\t[2.24600005]\t[1.97137833]\t19    \t[0.07461286]\n",
      "738\t14    \t[0.98]      \t738\t[1.] \t[0.8]\t14    \t[0.04760952]\t[2.06882598]\t738\t[2.39548278]\t[1.97137833]\t14    \t[0.09845056]\n",
      "739\t15    \t[0.95333333]\t739\t[1.] \t[0.3]\t15    \t[0.14996296]\t[2.06420383]\t739\t[2.26865458]\t[1.97137833]\t15    \t[0.08068924]\n",
      "740\t23    \t[0.97]      \t740\t[1.] \t[0.3]\t23    \t[0.12688578]\t[2.08344684]\t740\t[2.25412965]\t[1.9824971] \t23    \t[0.07688574]\n",
      "741\t22    \t[1.]        \t741\t[1.] \t[1.] \t22    \t[0.]        \t[2.07283196]\t741\t[2.27472854]\t[1.9824971] \t22    \t[0.0750059] \n",
      "742\t19    \t[1.]        \t742\t[1.] \t[1.] \t19    \t[0.]        \t[2.06784935]\t742\t[2.24192262]\t[1.9824971] \t19    \t[0.06402563]\n",
      "743\t16    \t[0.99333333]\t743\t[1.] \t[0.9]\t16    \t[0.02494438]\t[2.04851679]\t743\t[2.23669505]\t[1.96525478]\t16    \t[0.06217581]\n",
      "744\t17    \t[1.]        \t744\t[1.] \t[1.] \t17    \t[0.]        \t[2.06661895]\t744\t[2.20722556]\t[1.96525478]\t17    \t[0.06195292]\n",
      "745\t16    \t[0.98]      \t745\t[1.] \t[0.6]\t16    \t[0.07916228]\t[2.078571]  \t745\t[2.28604913]\t[1.96525478]\t16    \t[0.08420236]\n",
      "746\t21    \t[0.96333333]\t746\t[1.] \t[0.1]\t21    \t[0.16224125]\t[2.08695095]\t746\t[2.37953258]\t[1.96525478]\t21    \t[0.08975505]\n",
      "747\t19    \t[0.99]      \t747\t[1.] \t[0.8]\t19    \t[0.03958114]\t[2.0770594] \t747\t[2.23710418]\t[1.96525478]\t19    \t[0.07801302]\n",
      "748\t15    \t[0.99666667]\t748\t[1.] \t[0.9]\t15    \t[0.01795055]\t[2.04441106]\t748\t[2.28402209]\t[1.96525478]\t15    \t[0.07651492]\n",
      "749\t19    \t[0.98]      \t749\t[1.] \t[0.6]\t19    \t[0.07483315]\t[2.07079345]\t749\t[2.34807515]\t[1.96525478]\t19    \t[0.09727466]\n",
      "750\t18    \t[0.97]      \t750\t[1.] \t[0.6]\t18    \t[0.08621678]\t[2.07775009]\t750\t[2.29695296]\t[1.96525478]\t18    \t[0.09043317]\n",
      "751\t21    \t[0.98]      \t751\t[1.] \t[0.7]\t21    \t[0.06]      \t[2.0822046] \t751\t[2.24355483]\t[1.96525478]\t21    \t[0.07857653]\n",
      "752\t17    \t[0.99]      \t752\t[1.] \t[0.9]\t17    \t[0.03]      \t[2.08089761]\t752\t[2.4032321] \t[1.96525478]\t17    \t[0.1119273] \n",
      "753\t21    \t[0.98]      \t753\t[1.] \t[0.6]\t21    \t[0.07483315]\t[2.08710802]\t753\t[2.26997828]\t[1.96525478]\t21    \t[0.08261244]\n",
      "754\t19    \t[0.99]      \t754\t[1.] \t[0.8]\t19    \t[0.03958114]\t[2.06764268]\t754\t[2.17625999]\t[1.96525478]\t19    \t[0.07361741]\n",
      "755\t18    \t[0.96666667]\t755\t[1.] \t[0.5]\t18    \t[0.09775252]\t[2.08627577]\t755\t[2.39110446]\t[1.96525478]\t18    \t[0.10104145]\n",
      "756\t15    \t[1.]        \t756\t[1.] \t[1.] \t15    \t[0.]        \t[2.03436137]\t756\t[2.17178273]\t[1.96525478]\t15    \t[0.05402082]\n",
      "757\t19    \t[0.98]      \t757\t[1.] \t[0.5]\t19    \t[0.09092121]\t[2.05218432]\t757\t[2.2708559] \t[1.96525478]\t19    \t[0.0781927] \n",
      "758\t14    \t[0.96666667]\t758\t[1.] \t[0.4]\t14    \t[0.11925696]\t[2.07892869]\t758\t[2.43993425]\t[1.96525478]\t14    \t[0.11488169]\n",
      "759\t19    \t[0.99666667]\t759\t[1.] \t[0.9]\t19    \t[0.01795055]\t[2.06534528]\t759\t[2.22193384]\t[1.96525478]\t19    \t[0.07481898]\n",
      "760\t17    \t[0.99666667]\t760\t[1.] \t[0.9]\t17    \t[0.01795055]\t[2.06965388]\t760\t[2.23421836]\t[1.96525478]\t17    \t[0.07873017]\n",
      "761\t13    \t[1.]        \t761\t[1.] \t[1.] \t13    \t[0.]        \t[2.04033404]\t761\t[2.24587941]\t[1.96525478]\t13    \t[0.07120173]\n",
      "762\t18    \t[0.98333333]\t762\t[1.] \t[0.6]\t18    \t[0.07340905]\t[2.0430336] \t762\t[2.1964128] \t[1.96525478]\t18    \t[0.06935547]\n",
      "763\t17    \t[1.]        \t763\t[1.] \t[1.] \t17    \t[0.]        \t[2.04155245]\t763\t[2.22234368]\t[1.96525478]\t17    \t[0.06272645]\n",
      "764\t17    \t[1.]        \t764\t[1.] \t[1.] \t17    \t[0.]        \t[2.05925992]\t764\t[2.37221956]\t[1.96525478]\t17    \t[0.10383344]\n",
      "765\t19    \t[0.99]      \t765\t[1.] \t[0.7]\t19    \t[0.05385165]\t[2.07571536]\t765\t[2.32818842]\t[1.96525478]\t19    \t[0.09098779]\n",
      "766\t21    \t[0.98333333]\t766\t[1.] \t[0.6]\t21    \t[0.07340905]\t[2.07772174]\t766\t[2.270473]  \t[1.96525478]\t21    \t[0.08345086]\n",
      "767\t18    \t[0.99333333]\t767\t[1.] \t[0.9]\t18    \t[0.02494438]\t[2.07188809]\t767\t[2.25744867]\t[1.96525478]\t18    \t[0.08200547]\n",
      "768\t19    \t[0.98]      \t768\t[1.] \t[0.7]\t19    \t[0.06]      \t[2.08151063]\t768\t[2.31579614]\t[1.96525478]\t19    \t[0.11860005]\n",
      "769\t23    \t[1.]        \t769\t[1.] \t[1.] \t23    \t[0.]        \t[2.08204821]\t769\t[2.31141281]\t[1.96525478]\t23    \t[0.0905943] \n",
      "770\t22    \t[0.99333333]\t770\t[1.] \t[0.9]\t22    \t[0.02494438]\t[2.07120254]\t770\t[2.20528388]\t[1.96525478]\t22    \t[0.06252181]\n",
      "771\t15    \t[1.]        \t771\t[1.] \t[1.] \t15    \t[0.]        \t[2.05752484]\t771\t[2.19964194]\t[1.96525478]\t15    \t[0.05765798]\n",
      "772\t16    \t[0.97]      \t772\t[1.] \t[0.5]\t16    \t[0.10049876]\t[2.08805676]\t772\t[2.34187675]\t[1.96525478]\t16    \t[0.09484171]\n",
      "773\t17    \t[0.99]      \t773\t[1.] \t[0.9]\t17    \t[0.03]      \t[2.06679171]\t773\t[2.26098418]\t[1.96525478]\t17    \t[0.08376217]\n",
      "774\t20    \t[0.98333333]\t774\t[1.] \t[0.8]\t20    \t[0.05217492]\t[2.07887412]\t774\t[2.28696728]\t[1.96525478]\t20    \t[0.07544262]\n",
      "775\t18    \t[0.99333333]\t775\t[1.] \t[0.9]\t18    \t[0.02494438]\t[2.07906171]\t775\t[2.28418183]\t[1.96525478]\t18    \t[0.06903133]\n",
      "776\t25    \t[0.98]      \t776\t[1.] \t[0.6]\t25    \t[0.07483315]\t[2.08061655]\t776\t[2.25373006]\t[1.99106157]\t25    \t[0.06403265]\n",
      "777\t15    \t[1.]        \t777\t[1.] \t[1.] \t15    \t[0.]        \t[2.06400074]\t777\t[2.29142547]\t[1.98872983]\t15    \t[0.08161184]\n",
      "778\t21    \t[0.99666667]\t778\t[1.] \t[0.9]\t21    \t[0.01795055]\t[2.08737898]\t778\t[2.27533698]\t[1.98872983]\t21    \t[0.08701422]\n",
      "779\t21    \t[0.95]      \t779\t[1.] \t[0.2]\t21    \t[0.16683325]\t[2.09664602]\t779\t[2.45278215]\t[1.98872983]\t21    \t[0.10656037]\n",
      "780\t17    \t[0.97666667]\t780\t[1.] \t[0.8]\t17    \t[0.05587685]\t[2.09374818]\t780\t[2.27102256]\t[1.98872983]\t17    \t[0.07003056]\n",
      "781\t18    \t[0.96]      \t781\t[1.] \t[0.3]\t18    \t[0.15187714]\t[2.09513519]\t781\t[2.30370831]\t[1.98872983]\t18    \t[0.08720347]\n",
      "782\t20    \t[0.98333333]\t782\t[1.] \t[0.5]\t20    \t[0.08975275]\t[2.09045022]\t782\t[2.29409099]\t[1.98872983]\t20    \t[0.07615323]\n",
      "783\t17    \t[0.97]      \t783\t[1.] \t[0.6]\t17    \t[0.08225975]\t[2.08009508]\t783\t[2.21328616]\t[1.99328458]\t17    \t[0.06167897]\n",
      "784\t22    \t[0.95666667]\t784\t[1.] \t[0.3]\t22    \t[0.13585123]\t[2.1008622] \t784\t[2.28366065]\t[1.99328458]\t22    \t[0.08084936]\n",
      "785\t16    \t[0.95]      \t785\t[1.] \t[0.5]\t16    \t[0.12845233]\t[2.09318671]\t785\t[2.27888274]\t[1.99328458]\t16    \t[0.07046371]\n",
      "786\t20    \t[0.93666667]\t786\t[1.] \t[0.4]\t20    \t[0.14255603]\t[2.09288966]\t786\t[2.24011874]\t[1.99328458]\t20    \t[0.06030538]\n",
      "787\t18    \t[0.85666667]\t787\t[1.] \t[0.2]\t18    \t[0.24857371]\t[2.11261073]\t787\t[2.3105495] \t[1.99328458]\t18    \t[0.07274454]\n",
      "788\t19    \t[0.93666667]\t788\t[1.] \t[0.4]\t19    \t[0.14487543]\t[2.1043853] \t788\t[2.29387665]\t[1.99328458]\t19    \t[0.06613416]\n",
      "789\t16    \t[0.94]      \t789\t[1.] \t[0.] \t16    \t[0.18547237]\t[2.08493228]\t789\t[2.20645308]\t[1.99328458]\t16    \t[0.06219769]\n",
      "790\t19    \t[0.97666667]\t790\t[1.] \t[0.8]\t19    \t[0.06155395]\t[2.08966877]\t790\t[2.2311914] \t[1.97403514]\t19    \t[0.06576891]\n",
      "791\t19    \t[0.99666667]\t791\t[1.] \t[0.9]\t19    \t[0.01795055]\t[2.10166715]\t791\t[2.31848526]\t[1.99328458]\t19    \t[0.08185084]\n",
      "792\t17    \t[0.98]      \t792\t[1.] \t[0.7]\t17    \t[0.06531973]\t[2.08943996]\t792\t[2.24485373]\t[2.00115061]\t17    \t[0.0691755] \n",
      "793\t21    \t[0.99]      \t793\t[1.] \t[0.9]\t21    \t[0.03]      \t[2.08786034]\t793\t[2.26159596]\t[1.99029315]\t21    \t[0.07307365]\n",
      "794\t18    \t[0.98666667]\t794\t[1.] \t[0.7]\t18    \t[0.05617433]\t[2.08051908]\t794\t[2.31251693]\t[1.99029315]\t18    \t[0.06931961]\n",
      "795\t23    \t[0.96333333]\t795\t[1.] \t[0.] \t23    \t[0.17978382]\t[2.10491013]\t795\t[2.25538135]\t[1.99927676]\t23    \t[0.06773359]\n",
      "796\t16    \t[1.]        \t796\t[1.] \t[1.] \t16    \t[0.]        \t[2.0919999] \t796\t[2.24533415]\t[1.99927676]\t16    \t[0.06890706]\n",
      "797\t17    \t[0.99333333]\t797\t[1.] \t[0.8]\t17    \t[0.0359011] \t[2.07612956]\t797\t[2.23531008]\t[1.99927676]\t17    \t[0.06418729]\n",
      "798\t17    \t[0.97]      \t798\t[1.] \t[0.3]\t17    \t[0.12948616]\t[2.08958501]\t798\t[2.27078676]\t[1.99927676]\t17    \t[0.07501502]\n",
      "799\t20    \t[0.97]      \t799\t[1.] \t[0.5]\t20    \t[0.09712535]\t[2.08531578]\t799\t[2.1986587] \t[1.99927676]\t20    \t[0.06414995]\n",
      "800\t18    \t[0.98666667]\t800\t[1.] \t[0.8]\t18    \t[0.04268749]\t[2.08635062]\t800\t[2.27575612]\t[1.99301457]\t18    \t[0.07379762]\n"
     ]
    },
    {
     "name": "stdout",
     "output_type": "stream",
     "text": [
      "801\t20    \t[0.97666667]\t801\t[1.] \t[0.6]\t20    \t[0.07608475]\t[2.11062686]\t801\t[2.49965525]\t[1.99301457]\t20    \t[0.10746082]\n",
      "802\t20    \t[0.97666667]\t802\t[1.] \t[0.8]\t20    \t[0.05587685]\t[2.10877921]\t802\t[2.35202265]\t[1.99301457]\t20    \t[0.0994144] \n",
      "803\t16    \t[0.99]      \t803\t[1.] \t[0.7]\t16    \t[0.05385165]\t[2.0802658] \t803\t[2.25707388]\t[1.99301457]\t16    \t[0.08026093]\n",
      "804\t18    \t[0.99]      \t804\t[1.] \t[0.8]\t18    \t[0.03958114]\t[2.08837681]\t804\t[2.37049341]\t[1.9552263] \t18    \t[0.10470556]\n",
      "805\t22    \t[0.98]      \t805\t[1.] \t[0.4]\t22    \t[0.1077033] \t[2.07821516]\t805\t[2.21522975]\t[1.9552263] \t22    \t[0.06854731]\n",
      "806\t25    \t[0.96666667]\t806\t[1.] \t[0.1]\t25    \t[0.16193277]\t[2.10625671]\t806\t[2.27365851]\t[1.9552263] \t25    \t[0.07922123]\n",
      "807\t17    \t[0.99666667]\t807\t[1.] \t[0.9]\t17    \t[0.01795055]\t[2.08810681]\t807\t[2.21028137]\t[1.9552263] \t17    \t[0.05985272]\n",
      "808\t18    \t[0.98]      \t808\t[1.] \t[0.4]\t18    \t[0.1077033] \t[2.09938323]\t808\t[2.42294431]\t[1.9552263] \t18    \t[0.09344455]\n",
      "809\t14    \t[1.]        \t809\t[1.] \t[1.] \t14    \t[0.]        \t[2.0882579] \t809\t[2.452492]  \t[1.9552263] \t14    \t[0.10373639]\n",
      "810\t15    \t[1.]        \t810\t[1.] \t[1.] \t15    \t[0.]        \t[2.04904841]\t810\t[2.44901204]\t[1.9552263] \t15    \t[0.10005254]\n",
      "811\t20    \t[0.99666667]\t811\t[1.] \t[0.9]\t20    \t[0.01795055]\t[2.06794693]\t811\t[2.31759953]\t[1.9552263] \t20    \t[0.08490832]\n",
      "812\t18    \t[0.99333333]\t812\t[1.] \t[0.8]\t18    \t[0.0359011] \t[2.06816912]\t812\t[2.28015709]\t[1.9650681] \t18    \t[0.08587468]\n",
      "813\t14    \t[1.]        \t813\t[1.] \t[1.] \t14    \t[0.]        \t[2.060367]  \t813\t[2.22674608]\t[1.9650681] \t14    \t[0.07719197]\n",
      "814\t20    \t[0.97666667]\t814\t[1.] \t[0.3]\t20    \t[0.12565385]\t[2.08185434]\t814\t[2.34381604]\t[1.95931137]\t20    \t[0.0951024] \n",
      "815\t19    \t[1.]        \t815\t[1.] \t[1.] \t19    \t[0.]        \t[2.05997481]\t815\t[2.24106765]\t[1.95931137]\t19    \t[0.07427925]\n",
      "816\t19    \t[0.99666667]\t816\t[1.] \t[0.9]\t19    \t[0.01795055]\t[2.07873008]\t816\t[2.2626946] \t[1.95931137]\t19    \t[0.07722859]\n",
      "817\t16    \t[0.99666667]\t817\t[1.] \t[0.9]\t16    \t[0.01795055]\t[2.06586021]\t817\t[2.29826307]\t[1.95931137]\t16    \t[0.08868432]\n",
      "818\t19    \t[0.99333333]\t818\t[1.] \t[0.9]\t19    \t[0.02494438]\t[2.07829517]\t818\t[2.388376]  \t[1.95931137]\t19    \t[0.11138168]\n",
      "819\t15    \t[0.98333333]\t819\t[1.] \t[0.7]\t15    \t[0.05821416]\t[2.06696651]\t819\t[2.31570101]\t[1.95931137]\t15    \t[0.10425282]\n",
      "820\t18    \t[0.99666667]\t820\t[1.] \t[0.9]\t18    \t[0.01795055]\t[2.09210834]\t820\t[2.38353682]\t[1.95931137]\t18    \t[0.11346677]\n",
      "821\t18    \t[0.99666667]\t821\t[1.] \t[0.9]\t18    \t[0.01795055]\t[2.0580731] \t821\t[2.20939255]\t[1.95931137]\t18    \t[0.07967932]\n",
      "822\t24    \t[0.97333333]\t822\t[1.] \t[0.5]\t24    \t[0.09285592]\t[2.08286088]\t822\t[2.2691493] \t[1.95931137]\t24    \t[0.07971809]\n",
      "823\t14    \t[0.99666667]\t823\t[1.] \t[0.9]\t14    \t[0.01795055]\t[2.0856744] \t823\t[2.48361754]\t[1.95931137]\t14    \t[0.11185051]\n",
      "824\t16    \t[1.]        \t824\t[1.] \t[1.] \t16    \t[0.]        \t[2.06542739]\t824\t[2.41134238]\t[1.95931137]\t16    \t[0.10029906]\n",
      "825\t16    \t[0.99333333]\t825\t[1.] \t[0.8]\t16    \t[0.0359011] \t[2.05564872]\t825\t[2.26897883]\t[1.95931137]\t16    \t[0.08805815]\n",
      "826\t21    \t[0.96666667]\t826\t[1.] \t[0.5]\t21    \t[0.12472191]\t[2.06562543]\t826\t[2.25551176]\t[1.95931137]\t21    \t[0.08822306]\n",
      "827\t15    \t[0.99]      \t827\t[1.] \t[0.7]\t15    \t[0.05385165]\t[2.03278359]\t827\t[2.26364446]\t[1.93893051]\t15    \t[0.09345414]\n",
      "828\t21    \t[0.99]      \t828\t[1.] \t[0.7]\t21    \t[0.05385165]\t[2.04259593]\t828\t[2.2034173] \t[1.93893051]\t21    \t[0.08038832]\n",
      "829\t22    \t[0.97]      \t829\t[1.] \t[0.4]\t22    \t[0.11]      \t[2.06213945]\t829\t[2.24922991]\t[1.93893051]\t22    \t[0.0808646] \n",
      "830\t11    \t[0.99333333]\t830\t[1.] \t[0.9]\t11    \t[0.02494438]\t[2.03581751]\t830\t[2.32112098]\t[1.93893051]\t11    \t[0.11073316]\n",
      "831\t19    \t[0.99666667]\t831\t[1.] \t[0.9]\t19    \t[0.01795055]\t[2.05148524]\t831\t[2.27750945]\t[1.93893051]\t19    \t[0.10753361]\n",
      "832\t11    \t[0.98333333]\t832\t[1.] \t[0.8]\t11    \t[0.05217492]\t[2.0230696] \t832\t[2.25236797]\t[1.93893051]\t11    \t[0.0940674] \n",
      "833\t17    \t[0.98666667]\t833\t[1.] \t[0.8]\t17    \t[0.04988877]\t[2.04152377]\t833\t[2.37953496]\t[1.93893051]\t17    \t[0.11059441]\n",
      "834\t13    \t[0.99666667]\t834\t[1.] \t[0.9]\t13    \t[0.01795055]\t[2.01435056]\t834\t[2.17011714]\t[1.93893051]\t13    \t[0.0793937] \n",
      "835\t19    \t[0.99666667]\t835\t[1.] \t[0.9]\t19    \t[0.01795055]\t[2.03490319]\t835\t[2.19712043]\t[1.93893051]\t19    \t[0.08865511]\n",
      "836\t20    \t[0.99666667]\t836\t[1.] \t[0.9]\t20    \t[0.01795055]\t[2.07655851]\t836\t[2.34353018]\t[1.93893051]\t20    \t[0.12088263]\n",
      "837\t14    \t[0.96]      \t837\t[1.] \t[0.1]\t14    \t[0.168523]  \t[2.03480523]\t837\t[2.24032187]\t[1.93893051]\t14    \t[0.09075984]\n",
      "838\t19    \t[0.96333333]\t838\t[1.] \t[0.2]\t19    \t[0.14487543]\t[2.04022575]\t838\t[2.22790384]\t[1.93893051]\t19    \t[0.08705171]\n",
      "839\t20    \t[0.95666667]\t839\t[1.] \t[0.2]\t20    \t[0.15205993]\t[2.03809686]\t839\t[2.19471908]\t[1.92157674]\t20    \t[0.0780735] \n",
      "840\t18    \t[0.97]      \t840\t[1.] \t[0.2]\t18    \t[0.14410644]\t[2.0634656] \t840\t[2.49333382]\t[1.93893051]\t18    \t[0.11922305]\n",
      "841\t21    \t[0.93333333]\t841\t[1.] \t[0.1]\t21    \t[0.22410315]\t[2.07072609]\t841\t[2.25626564]\t[1.93893051]\t21    \t[0.09389713]\n",
      "842\t18    \t[0.96]      \t842\t[1.] \t[0.5]\t18    \t[0.11430952]\t[2.08103845]\t842\t[2.27518201]\t[1.93893051]\t18    \t[0.09808179]\n",
      "843\t17    \t[0.93666667]\t843\t[1.] \t[0.1]\t17    \t[0.20572365]\t[2.02850415]\t843\t[2.20672369]\t[1.93893051]\t17    \t[0.07371825]\n",
      "844\t18    \t[0.99666667]\t844\t[1.] \t[0.9]\t18    \t[0.01795055]\t[2.03890471]\t844\t[2.22447562]\t[1.93893051]\t18    \t[0.07958231]\n",
      "845\t18    \t[1.]        \t845\t[1.] \t[1.] \t18    \t[0.]        \t[2.05562497]\t845\t[2.25972533]\t[1.93893051]\t18    \t[0.08001184]\n",
      "846\t17    \t[0.97666667]\t846\t[1.] \t[0.5]\t17    \t[0.09195409]\t[2.07007328]\t846\t[2.24100041]\t[1.93893051]\t17    \t[0.09101092]\n",
      "847\t15    \t[0.99666667]\t847\t[1.] \t[0.9]\t15    \t[0.01795055]\t[2.04192442]\t847\t[2.15666866]\t[1.93893051]\t15    \t[0.06769976]\n",
      "848\t11    \t[0.99666667]\t848\t[1.] \t[0.9]\t11    \t[0.01795055]\t[2.03330558]\t848\t[2.2861433] \t[1.93893051]\t11    \t[0.08101415]\n",
      "849\t17    \t[0.98]      \t849\t[1.] \t[0.8]\t17    \t[0.05416026]\t[2.0444778] \t849\t[2.30749941]\t[1.93893051]\t17    \t[0.09360613]\n",
      "850\t21    \t[0.97]      \t850\t[1.] \t[0.5]\t21    \t[0.10049876]\t[2.05552791]\t850\t[2.3113389] \t[1.93893051]\t21    \t[0.09510538]\n",
      "851\t23    \t[0.98]      \t851\t[1.] \t[0.4]\t23    \t[0.1077033] \t[2.06597812]\t851\t[2.18437481]\t[1.93893051]\t23    \t[0.06775115]\n",
      "852\t18    \t[0.99]      \t852\t[1.] \t[0.8]\t18    \t[0.03958114]\t[2.04956659]\t852\t[2.34748077]\t[1.93498552]\t18    \t[0.09856627]\n",
      "853\t16    \t[0.98]      \t853\t[1.] \t[0.6]\t16    \t[0.07483315]\t[2.05818605]\t853\t[2.23720002]\t[1.93498552]\t16    \t[0.08932481]\n",
      "854\t14    \t[0.98333333]\t854\t[1.] \t[0.7]\t14    \t[0.05821416]\t[2.04221388]\t854\t[2.3099556] \t[1.93498552]\t14    \t[0.09059306]\n",
      "855\t17    \t[0.98333333]\t855\t[1.] \t[0.5]\t17    \t[0.08975275]\t[2.05660774]\t855\t[2.37122035]\t[1.93498552]\t17    \t[0.10867662]\n",
      "856\t19    \t[0.98666667]\t856\t[1.] \t[0.7]\t19    \t[0.05617433]\t[2.03704486]\t856\t[2.18149114]\t[1.93498552]\t19    \t[0.07429299]\n",
      "857\t20    \t[0.96333333]\t857\t[1.] \t[0.1]\t20    \t[0.16224125]\t[2.05376384]\t857\t[2.44659996]\t[1.93498552]\t20    \t[0.11224581]\n",
      "858\t16    \t[0.97]      \t858\t[1.] \t[0.4]\t16    \t[0.11298968]\t[2.04153015]\t858\t[2.41982508]\t[1.93498552]\t16    \t[0.10385473]\n",
      "859\t21    \t[1.]        \t859\t[1.] \t[1.] \t21    \t[0.]        \t[2.0602412] \t859\t[2.248595]  \t[1.93498552]\t21    \t[0.0927222] \n",
      "860\t12    \t[1.]        \t860\t[1.] \t[1.] \t12    \t[0.]        \t[2.04107412]\t860\t[2.21135426]\t[1.93498552]\t12    \t[0.0907804] \n",
      "861\t19    \t[0.99666667]\t861\t[1.] \t[0.9]\t19    \t[0.01795055]\t[2.05304489]\t861\t[2.22419286]\t[1.93498552]\t19    \t[0.0921127] \n",
      "862\t21    \t[1.]        \t862\t[1.] \t[1.] \t21    \t[0.]        \t[2.06085843]\t862\t[2.3052094] \t[1.93498552]\t21    \t[0.10575492]\n",
      "863\t14    \t[1.]        \t863\t[1.] \t[1.] \t14    \t[0.]        \t[2.01911982]\t863\t[2.25022316]\t[1.93498552]\t14    \t[0.09045404]\n",
      "864\t18    \t[1.]        \t864\t[1.] \t[1.] \t18    \t[0.]        \t[2.01996593]\t864\t[2.3670361] \t[1.93498552]\t18    \t[0.09629993]\n",
      "865\t17    \t[1.]        \t865\t[1.] \t[1.] \t17    \t[0.]        \t[2.02891486]\t865\t[2.24773788]\t[1.93498552]\t17    \t[0.09185998]\n",
      "866\t12    \t[0.99666667]\t866\t[1.] \t[0.9]\t12    \t[0.01795055]\t[2.0269347] \t866\t[2.31745195]\t[1.93498552]\t12    \t[0.10065458]\n",
      "867\t16    \t[1.]        \t867\t[1.] \t[1.] \t16    \t[0.]        \t[2.01367722]\t867\t[2.24537539]\t[1.93498552]\t16    \t[0.09366675]\n"
     ]
    },
    {
     "name": "stdout",
     "output_type": "stream",
     "text": [
      "868\t16    \t[0.97]      \t868\t[1.] \t[0.1]\t16    \t[0.16155494]\t[2.06590352]\t868\t[2.56058097]\t[1.93498552]\t16    \t[0.15591718]\n",
      "869\t17    \t[0.96333333]\t869\t[1.] \t[0.] \t17    \t[0.17978382]\t[2.03313942]\t869\t[2.32847071]\t[1.93498552]\t17    \t[0.09626196]\n",
      "870\t12    \t[0.99333333]\t870\t[1.] \t[0.8]\t12    \t[0.0359011] \t[2.03399091]\t870\t[2.25677872]\t[1.93498552]\t12    \t[0.09665252]\n",
      "871\t14    \t[0.98666667]\t871\t[1.] \t[0.6]\t14    \t[0.0718022] \t[2.03881036]\t871\t[2.29763675]\t[1.93498552]\t14    \t[0.10583958]\n",
      "872\t16    \t[1.]        \t872\t[1.] \t[1.] \t16    \t[0.]        \t[2.02466085]\t872\t[2.21774936]\t[1.93498552]\t16    \t[0.08850857]\n",
      "873\t24    \t[1.]        \t873\t[1.] \t[1.] \t24    \t[0.]        \t[2.06907841]\t873\t[2.34979129]\t[1.93498552]\t24    \t[0.11271362]\n",
      "874\t15    \t[1.]        \t874\t[1.] \t[1.] \t15    \t[0.]        \t[2.05103418]\t874\t[2.30321789]\t[1.93498552]\t15    \t[0.10155026]\n",
      "875\t18    \t[1.]        \t875\t[1.] \t[1.] \t18    \t[0.]        \t[2.08984337]\t875\t[2.36874557]\t[1.93498552]\t18    \t[0.10711184]\n",
      "876\t19    \t[1.]        \t876\t[1.] \t[1.] \t19    \t[0.]        \t[2.06399494]\t876\t[2.32137227]\t[1.93498552]\t19    \t[0.10804432]\n",
      "877\t18    \t[1.]        \t877\t[1.] \t[1.] \t18    \t[0.]        \t[2.05259474]\t877\t[2.26037574]\t[1.93498552]\t18    \t[0.1015673] \n",
      "878\t16    \t[0.97333333]\t878\t[1.] \t[0.2]\t16    \t[0.14360439]\t[2.03959119]\t878\t[2.25034499]\t[1.93498552]\t16    \t[0.09842495]\n",
      "879\t16    \t[1.]        \t879\t[1.] \t[1.] \t16    \t[0.]        \t[2.03703246]\t879\t[2.32616377]\t[1.93498552]\t16    \t[0.10946816]\n",
      "880\t20    \t[1.]        \t880\t[1.] \t[1.] \t20    \t[0.]        \t[2.06059797]\t880\t[2.32324719]\t[1.93498552]\t20    \t[0.11115757]\n",
      "881\t13    \t[1.]        \t881\t[1.] \t[1.] \t13    \t[0.]        \t[2.0110906] \t881\t[2.27192736]\t[1.93498552]\t13    \t[0.08834334]\n",
      "882\t20    \t[0.99333333]\t882\t[1.] \t[0.8]\t20    \t[0.0359011] \t[2.03723325]\t882\t[2.18708992]\t[1.93498552]\t20    \t[0.08183524]\n",
      "883\t18    \t[1.]        \t883\t[1.] \t[1.] \t18    \t[0.]        \t[2.02632384]\t883\t[2.17239976]\t[1.93498552]\t18    \t[0.0747266] \n",
      "884\t21    \t[1.]        \t884\t[1.] \t[1.] \t21    \t[0.]        \t[2.0608996] \t884\t[2.3160274] \t[1.93498552]\t21    \t[0.09185781]\n",
      "885\t13    \t[0.99333333]\t885\t[1.] \t[0.8]\t13    \t[0.0359011] \t[2.05475696]\t885\t[2.42545938]\t[1.93498552]\t13    \t[0.10878244]\n",
      "886\t20    \t[0.99666667]\t886\t[1.] \t[0.9]\t20    \t[0.01795055]\t[2.057107]  \t886\t[2.21210742]\t[1.93498552]\t20    \t[0.07997182]\n",
      "887\t21    \t[1.]        \t887\t[1.] \t[1.] \t21    \t[0.]        \t[2.08511862]\t887\t[2.43161273]\t[1.93498552]\t21    \t[0.11734412]\n",
      "888\t14    \t[1.]        \t888\t[1.] \t[1.] \t14    \t[0.]        \t[2.03716202]\t888\t[2.20048237]\t[1.93498552]\t14    \t[0.07171739]\n",
      "889\t15    \t[1.]        \t889\t[1.] \t[1.] \t15    \t[0.]        \t[2.00504337]\t889\t[2.15203166]\t[1.93498552]\t15    \t[0.07110405]\n",
      "890\t22    \t[0.99666667]\t890\t[1.] \t[0.9]\t22    \t[0.01795055]\t[2.04308406]\t890\t[2.15977001]\t[1.93498552]\t22    \t[0.08070956]\n",
      "891\t19    \t[1.]        \t891\t[1.] \t[1.] \t19    \t[0.]        \t[2.0786516] \t891\t[2.2872777] \t[1.93498552]\t19    \t[0.09948683]\n",
      "892\t16    \t[1.]        \t892\t[1.] \t[1.] \t16    \t[0.]        \t[2.07171501]\t892\t[2.23889661]\t[1.93498552]\t16    \t[0.08513666]\n",
      "893\t15    \t[1.]        \t893\t[1.] \t[1.] \t15    \t[0.]        \t[2.05943716]\t893\t[2.19061542]\t[1.93498552]\t15    \t[0.07796808]\n",
      "894\t14    \t[0.99666667]\t894\t[1.] \t[0.9]\t14    \t[0.01795055]\t[2.03291406]\t894\t[2.30117488]\t[1.93498552]\t14    \t[0.09721133]\n",
      "895\t16    \t[1.]        \t895\t[1.] \t[1.] \t16    \t[0.]        \t[2.05014367]\t895\t[2.39109206]\t[1.93498552]\t16    \t[0.11607308]\n",
      "896\t18    \t[1.]        \t896\t[1.] \t[1.] \t18    \t[0.]        \t[2.04680663]\t896\t[2.23835683]\t[1.93498552]\t18    \t[0.09862973]\n",
      "897\t16    \t[0.99666667]\t897\t[1.] \t[0.9]\t16    \t[0.01795055]\t[2.06006702]\t897\t[2.27713323]\t[1.93498552]\t16    \t[0.11218006]\n",
      "898\t20    \t[0.99666667]\t898\t[1.] \t[0.9]\t20    \t[0.01795055]\t[2.05800823]\t898\t[2.23384333]\t[1.93498552]\t20    \t[0.09478229]\n",
      "899\t18    \t[1.]        \t899\t[1.] \t[1.] \t18    \t[0.]        \t[2.05278188]\t899\t[2.2212956] \t[1.93498552]\t18    \t[0.07510055]\n",
      "900\t18    \t[1.]        \t900\t[1.] \t[1.] \t18    \t[0.]        \t[2.05934047]\t900\t[2.34505916]\t[1.93498552]\t18    \t[0.09799329]\n",
      "901\t20    \t[0.97666667]\t901\t[1.] \t[0.3]\t20    \t[0.12565385]\t[2.05777484]\t901\t[2.2509377] \t[1.93498552]\t20    \t[0.08389391]\n",
      "902\t15    \t[0.98]      \t902\t[1.] \t[0.5]\t15    \t[0.09092121]\t[2.06142603]\t902\t[2.38103652]\t[1.93498552]\t15    \t[0.12608918]\n",
      "903\t16    \t[1.]        \t903\t[1.] \t[1.] \t16    \t[0.]        \t[2.06223477]\t903\t[2.36995411]\t[1.93498552]\t16    \t[0.10396506]\n",
      "904\t16    \t[1.]        \t904\t[1.] \t[1.] \t16    \t[0.]        \t[2.01411157]\t904\t[2.18948722]\t[1.93498552]\t16    \t[0.06289722]\n",
      "905\t21    \t[1.]        \t905\t[1.] \t[1.] \t21    \t[0.]        \t[2.04917174]\t905\t[2.22388721]\t[1.93498552]\t21    \t[0.09457278]\n",
      "906\t23    \t[1.]        \t906\t[1.] \t[1.] \t23    \t[0.]        \t[2.08668127]\t906\t[2.24396229]\t[1.93498552]\t23    \t[0.0947189] \n",
      "907\t17    \t[0.99666667]\t907\t[1.] \t[0.9]\t17    \t[0.01795055]\t[2.09813229]\t907\t[2.39879227]\t[1.93498552]\t17    \t[0.13330184]\n",
      "908\t22    \t[0.97666667]\t908\t[1.] \t[0.4]\t22    \t[0.10857665]\t[2.11296706]\t908\t[2.46852875]\t[1.93498552]\t22    \t[0.10854056]\n",
      "909\t22    \t[1.]        \t909\t[1.] \t[1.] \t22    \t[0.]        \t[2.10805466]\t909\t[2.2191627] \t[1.98334301]\t22    \t[0.06808582]\n",
      "910\t20    \t[0.99666667]\t910\t[1.] \t[0.9]\t20    \t[0.01795055]\t[2.06926267]\t910\t[2.31842852]\t[1.98334301]\t20    \t[0.08285191]\n",
      "911\t22    \t[0.98333333]\t911\t[1.] \t[0.6]\t22    \t[0.07340905]\t[2.08594961]\t911\t[2.37987518]\t[1.96479321]\t22    \t[0.10412251]\n",
      "912\t20    \t[1.]        \t912\t[1.] \t[1.] \t20    \t[0.]        \t[2.07641555]\t912\t[2.29592896]\t[1.96479321]\t20    \t[0.08368042]\n",
      "913\t16    \t[0.99666667]\t913\t[1.] \t[0.9]\t16    \t[0.01795055]\t[2.07368859]\t913\t[2.26433587]\t[1.96479321]\t16    \t[0.07716145]\n",
      "914\t16    \t[0.99333333]\t914\t[1.] \t[0.9]\t16    \t[0.02494438]\t[2.05442824]\t914\t[2.33583307]\t[1.96479321]\t16    \t[0.08091781]\n",
      "915\t14    \t[1.]        \t915\t[1.] \t[1.] \t14    \t[0.]        \t[2.069937]  \t915\t[2.29189181]\t[1.96479321]\t14    \t[0.09761096]\n",
      "916\t20    \t[1.]        \t916\t[1.] \t[1.] \t20    \t[0.]        \t[2.07847613]\t916\t[2.46415782]\t[1.96479321]\t20    \t[0.10242768]\n",
      "917\t19    \t[1.]        \t917\t[1.] \t[1.] \t19    \t[0.]        \t[2.07706424]\t917\t[2.23194027]\t[1.98278201]\t19    \t[0.07381546]\n",
      "918\t17    \t[1.]        \t918\t[1.] \t[1.] \t17    \t[0.]        \t[2.05941681]\t918\t[2.25330591]\t[1.96076667]\t17    \t[0.07257145]\n",
      "919\t17    \t[1.]        \t919\t[1.] \t[1.] \t17    \t[0.]        \t[2.07021745]\t919\t[2.34007239]\t[1.96903455]\t17    \t[0.09365809]\n",
      "920\t17    \t[0.99666667]\t920\t[1.] \t[0.9]\t17    \t[0.01795055]\t[2.05874636]\t920\t[2.2344501] \t[1.97063148]\t17    \t[0.07563976]\n",
      "921\t15    \t[1.]        \t921\t[1.] \t[1.] \t15    \t[0.]        \t[2.05721703]\t921\t[2.2779367] \t[1.96720624]\t15    \t[0.08533488]\n",
      "922\t20    \t[1.]        \t922\t[1.] \t[1.] \t20    \t[0.]        \t[2.07694286]\t922\t[2.19375515]\t[1.96720624]\t20    \t[0.06715747]\n",
      "923\t20    \t[1.]        \t923\t[1.] \t[1.] \t20    \t[0.]        \t[2.09993553]\t923\t[2.39642119]\t[1.96260417]\t20    \t[0.11649693]\n",
      "924\t15    \t[1.]        \t924\t[1.] \t[1.] \t15    \t[0.]        \t[2.06819995]\t924\t[2.25923395]\t[1.96768248]\t15    \t[0.07750591]\n",
      "925\t14    \t[1.]        \t925\t[1.] \t[1.] \t14    \t[0.]        \t[2.03957006]\t925\t[2.27504683]\t[1.945804]  \t14    \t[0.07334653]\n",
      "926\t21    \t[1.]        \t926\t[1.] \t[1.] \t21    \t[0.]        \t[2.09151417]\t926\t[2.27004027]\t[1.96603394]\t21    \t[0.08329495]\n",
      "927\t20    \t[0.99333333]\t927\t[1.] \t[0.8]\t20    \t[0.0359011] \t[2.07866323]\t927\t[2.24649477]\t[1.96603394]\t20    \t[0.08730988]\n",
      "928\t18    \t[0.99666667]\t928\t[1.] \t[0.9]\t18    \t[0.01795055]\t[2.06427086]\t928\t[2.31147456]\t[1.96603394]\t18    \t[0.09277566]\n",
      "929\t16    \t[1.]        \t929\t[1.] \t[1.] \t16    \t[0.]        \t[2.06447308]\t929\t[2.33380723]\t[1.96603394]\t16    \t[0.09588445]\n",
      "930\t18    \t[1.]        \t930\t[1.] \t[1.] \t18    \t[0.]        \t[2.03913404]\t930\t[2.21904778]\t[1.96603394]\t18    \t[0.07914378]\n",
      "931\t17    \t[0.99333333]\t931\t[1.] \t[0.9]\t17    \t[0.02494438]\t[2.03840243]\t931\t[2.19701195]\t[1.96603394]\t17    \t[0.07618317]\n",
      "932\t14    \t[1.]        \t932\t[1.] \t[1.] \t14    \t[0.]        \t[2.03386611]\t932\t[2.22607231]\t[1.96603394]\t14    \t[0.07257063]\n",
      "933\t10    \t[0.99666667]\t933\t[1.] \t[0.9]\t10    \t[0.01795055]\t[2.0276336] \t933\t[2.24415231]\t[1.96603394]\t10    \t[0.08982246]\n",
      "934\t23    \t[1.]        \t934\t[1.] \t[1.] \t23    \t[0.]        \t[2.07695231]\t934\t[2.30387473]\t[1.96603394]\t23    \t[0.09052543]\n"
     ]
    },
    {
     "name": "stdout",
     "output_type": "stream",
     "text": [
      "935\t21    \t[0.98333333]\t935\t[1.] \t[0.6]\t21    \t[0.07340905]\t[2.08418441]\t935\t[2.61473513]\t[1.96603394]\t21    \t[0.12070249]\n",
      "936\t19    \t[1.]        \t936\t[1.] \t[1.] \t19    \t[0.]        \t[2.06080454]\t936\t[2.21188045]\t[1.96603394]\t19    \t[0.06998482]\n",
      "937\t16    \t[1.]        \t937\t[1.] \t[1.] \t16    \t[0.]        \t[2.04193853]\t937\t[2.2427547] \t[1.96603394]\t16    \t[0.07990291]\n",
      "938\t20    \t[0.99333333]\t938\t[1.] \t[0.8]\t20    \t[0.0359011] \t[2.07034368]\t938\t[2.21025753]\t[1.96603394]\t20    \t[0.08571623]\n",
      "939\t18    \t[0.98666667]\t939\t[1.] \t[0.6]\t18    \t[0.0718022] \t[2.0881276] \t939\t[2.29606795]\t[1.96469975]\t18    \t[0.10148252]\n",
      "940\t15    \t[1.]        \t940\t[1.] \t[1.] \t15    \t[0.]        \t[2.05029079]\t940\t[2.21985459]\t[1.96469975]\t15    \t[0.0835584] \n",
      "941\t14    \t[1.]        \t941\t[1.] \t[1.] \t14    \t[0.]        \t[2.0316805] \t941\t[2.35599494]\t[1.96469975]\t14    \t[0.09036616]\n",
      "942\t16    \t[0.99333333]\t942\t[1.] \t[0.8]\t16    \t[0.0359011] \t[2.03923922]\t942\t[2.29584241]\t[1.96469975]\t16    \t[0.09045161]\n",
      "943\t19    \t[0.99666667]\t943\t[1.] \t[0.9]\t19    \t[0.01795055]\t[2.10038336]\t943\t[2.35722828]\t[1.96603394]\t19    \t[0.11475044]\n",
      "944\t14    \t[1.]        \t944\t[1.] \t[1.] \t14    \t[0.]        \t[2.0500278] \t944\t[2.2032249] \t[1.96603394]\t14    \t[0.0774999] \n",
      "945\t23    \t[0.99333333]\t945\t[1.] \t[0.8]\t23    \t[0.0359011] \t[2.08996801]\t945\t[2.30851221]\t[1.96603394]\t23    \t[0.09027938]\n",
      "946\t17    \t[0.99666667]\t946\t[1.] \t[0.9]\t17    \t[0.01795055]\t[2.07008275]\t946\t[2.29032016]\t[1.95952153]\t17    \t[0.08519107]\n",
      "947\t18    \t[1.]        \t947\t[1.] \t[1.] \t18    \t[0.]        \t[2.04341484]\t947\t[2.25089049]\t[1.95952153]\t18    \t[0.06627084]\n",
      "948\t19    \t[1.]        \t948\t[1.] \t[1.] \t19    \t[0.]        \t[2.10421851]\t948\t[2.34532714]\t[1.95952153]\t19    \t[0.10978513]\n",
      "949\t18    \t[1.]        \t949\t[1.] \t[1.] \t18    \t[0.]        \t[2.10529627]\t949\t[2.3787384] \t[1.95952153]\t18    \t[0.11400488]\n",
      "950\t17    \t[1.]        \t950\t[1.] \t[1.] \t17    \t[0.]        \t[2.09044224]\t950\t[2.26464319]\t[1.95952153]\t17    \t[0.09770501]\n",
      "951\t23    \t[0.98]      \t951\t[1.] \t[0.8]\t23    \t[0.04760952]\t[2.1170119] \t951\t[2.41550517]\t[1.97966981]\t23    \t[0.09770026]\n",
      "952\t19    \t[1.]        \t952\t[1.] \t[1.] \t19    \t[0.]        \t[2.1037686] \t952\t[2.34657669]\t[1.97082448]\t19    \t[0.08743937]\n",
      "953\t19    \t[1.]        \t953\t[1.] \t[1.] \t19    \t[0.]        \t[2.09670139]\t953\t[2.29596424]\t[1.97082448]\t19    \t[0.09267766]\n",
      "954\t15    \t[1.]        \t954\t[1.] \t[1.] \t15    \t[0.]        \t[2.04815419]\t954\t[2.21364212]\t[1.93641746]\t15    \t[0.06598758]\n",
      "955\t20    \t[1.]        \t955\t[1.] \t[1.] \t20    \t[0.]        \t[2.05943244]\t955\t[2.2883389] \t[1.97082448]\t20    \t[0.08132823]\n",
      "956\t24    \t[0.98666667]\t956\t[1.] \t[0.6]\t24    \t[0.0718022] \t[2.06234132]\t956\t[2.21059871]\t[1.95805871]\t24    \t[0.07012171]\n",
      "957\t11    \t[0.99]      \t957\t[1.] \t[0.7]\t11    \t[0.05385165]\t[2.05717529]\t957\t[2.29329729]\t[1.96835411]\t11    \t[0.08905338]\n",
      "958\t19    \t[1.]        \t958\t[1.] \t[1.] \t19    \t[0.]        \t[2.06824015]\t958\t[2.27403617]\t[1.96813607]\t19    \t[0.09403307]\n",
      "959\t15    \t[1.]        \t959\t[1.] \t[1.] \t15    \t[0.]        \t[2.04439569]\t959\t[2.31697154]\t[1.96835411]\t15    \t[0.08211954]\n",
      "960\t19    \t[0.98]      \t960\t[1.] \t[0.8]\t19    \t[0.05416026]\t[2.06376754]\t960\t[2.2321682] \t[1.96835411]\t19    \t[0.09032382]\n",
      "961\t22    \t[0.99]      \t961\t[1.] \t[0.8]\t22    \t[0.03958114]\t[2.08211191]\t961\t[2.26112032]\t[1.94261253]\t22    \t[0.09324934]\n",
      "962\t21    \t[1.]        \t962\t[1.] \t[1.] \t21    \t[0.]        \t[2.12464768]\t962\t[2.39344645]\t[1.96835411]\t21    \t[0.11229045]\n",
      "963\t19    \t[1.]        \t963\t[1.] \t[1.] \t19    \t[0.]        \t[2.07655546]\t963\t[2.23255014]\t[1.96835411]\t19    \t[0.08824947]\n",
      "964\t15    \t[1.]        \t964\t[1.] \t[1.] \t15    \t[0.]        \t[2.06840382]\t964\t[2.22056198]\t[1.96835411]\t15    \t[0.0911814] \n",
      "965\t16    \t[0.96666667]\t965\t[1.] \t[0.] \t16    \t[0.17950549]\t[2.06521453]\t965\t[2.2747612] \t[1.96835411]\t16    \t[0.08957519]\n",
      "966\t20    \t[1.]        \t966\t[1.] \t[1.] \t20    \t[0.]        \t[2.06477513]\t966\t[2.24094582]\t[1.96164548]\t20    \t[0.08825374]\n",
      "967\t16    \t[0.99666667]\t967\t[1.] \t[0.9]\t16    \t[0.01795055]\t[2.06701978]\t967\t[2.38878512]\t[1.96164548]\t16    \t[0.10393434]\n",
      "968\t18    \t[1.]        \t968\t[1.] \t[1.] \t18    \t[0.]        \t[2.05568754]\t968\t[2.25930882]\t[1.96164548]\t18    \t[0.08141302]\n",
      "969\t23    \t[1.]        \t969\t[1.] \t[1.] \t23    \t[0.]        \t[2.08099913]\t969\t[2.25688243]\t[1.96427238]\t23    \t[0.08280269]\n",
      "970\t8     \t[1.]        \t970\t[1.] \t[1.] \t8     \t[0.]        \t[2.05045792]\t970\t[2.31572676]\t[1.96427238]\t8     \t[0.08738206]\n",
      "971\t19    \t[0.99333333]\t971\t[1.] \t[0.9]\t19    \t[0.02494438]\t[2.07499706]\t971\t[2.32096362]\t[1.96427238]\t19    \t[0.11337725]\n",
      "972\t15    \t[0.97]      \t972\t[1.] \t[0.5]\t15    \t[0.11298968]\t[2.04084897]\t972\t[2.38360763]\t[1.96427238]\t15    \t[0.10278322]\n",
      "973\t17    \t[0.96333333]\t973\t[1.] \t[0.3]\t17    \t[0.14255603]\t[2.07392894]\t973\t[2.54061294]\t[1.96427238]\t17    \t[0.13335605]\n",
      "974\t19    \t[1.]        \t974\t[1.] \t[1.] \t19    \t[0.]        \t[2.06921687]\t974\t[2.30842376]\t[1.96427238]\t19    \t[0.09490182]\n",
      "975\t19    \t[0.98333333]\t975\t[1.] \t[0.8]\t19    \t[0.05217492]\t[2.085546]  \t975\t[2.32208085]\t[1.96362197]\t19    \t[0.10061253]\n",
      "976\t15    \t[1.]        \t976\t[1.] \t[1.] \t15    \t[0.]        \t[2.06290466]\t976\t[2.24139571]\t[1.96362197]\t15    \t[0.08865693]\n",
      "977\t17    \t[0.97666667]\t977\t[1.] \t[0.6]\t17    \t[0.08825468]\t[2.07109584]\t977\t[2.43253279]\t[1.96362197]\t17    \t[0.09980173]\n",
      "978\t21    \t[0.99666667]\t978\t[1.] \t[0.9]\t21    \t[0.01795055]\t[2.08040011]\t978\t[2.25738382]\t[1.96362197]\t21    \t[0.07984732]\n",
      "979\t18    \t[1.]        \t979\t[1.] \t[1.] \t18    \t[0.]        \t[2.10969394]\t979\t[2.44221997]\t[1.96362197]\t18    \t[0.10216139]\n",
      "980\t16    \t[0.98]      \t980\t[1.] \t[0.5]\t16    \t[0.09092121]\t[2.08089279]\t980\t[2.23423672]\t[1.99595296]\t16    \t[0.07164219]\n",
      "981\t17    \t[0.98666667]\t981\t[1.] \t[0.7]\t17    \t[0.05617433]\t[2.06635784]\t981\t[2.21085715]\t[1.99595296]\t17    \t[0.06764947]\n",
      "982\t18    \t[0.99333333]\t982\t[1.] \t[0.9]\t18    \t[0.02494438]\t[2.0734177] \t982\t[2.26007247]\t[1.98637664]\t18    \t[0.08103708]\n",
      "983\t18    \t[1.]        \t983\t[1.] \t[1.] \t18    \t[0.]        \t[2.09737306]\t983\t[2.37326789]\t[1.97337568]\t18    \t[0.09479232]\n",
      "984\t18    \t[1.]        \t984\t[1.] \t[1.] \t18    \t[0.]        \t[2.07556414]\t984\t[2.22647929]\t[1.97335052]\t18    \t[0.07425913]\n",
      "985\t14    \t[0.99666667]\t985\t[1.] \t[0.9]\t14    \t[0.01795055]\t[2.06925802]\t985\t[2.28720665]\t[1.97335052]\t14    \t[0.09406417]\n",
      "986\t15    \t[0.99333333]\t986\t[1.] \t[0.9]\t15    \t[0.02494438]\t[2.06416088]\t986\t[2.29478431]\t[1.97335052]\t15    \t[0.08979509]\n",
      "987\t18    \t[0.99666667]\t987\t[1.] \t[0.9]\t18    \t[0.01795055]\t[2.05897928]\t987\t[2.20666242]\t[1.97335052]\t18    \t[0.08310162]\n",
      "988\t16    \t[0.97333333]\t988\t[1.] \t[0.2]\t16    \t[0.14360439]\t[2.05949972]\t988\t[2.2733779] \t[1.97335052]\t16    \t[0.08640886]\n",
      "989\t24    \t[0.99666667]\t989\t[1.] \t[0.9]\t24    \t[0.01795055]\t[2.11510309]\t989\t[2.33968401]\t[1.97335052]\t24    \t[0.09002069]\n",
      "990\t24    \t[0.98666667]\t990\t[1.] \t[0.8]\t24    \t[0.04268749]\t[2.11321331]\t990\t[2.43727565]\t[1.95824397]\t24    \t[0.11622005]\n",
      "991\t15    \t[0.98666667]\t991\t[1.] \t[0.8]\t15    \t[0.04988877]\t[2.06708128]\t991\t[2.20685172]\t[1.95824397]\t15    \t[0.07565102]\n",
      "992\t20    \t[0.99]      \t992\t[1.] \t[0.8]\t20    \t[0.03958114]\t[2.06634812]\t992\t[2.29116106]\t[1.95824397]\t20    \t[0.08302864]\n",
      "993\t12    \t[0.99333333]\t993\t[1.] \t[0.8]\t12    \t[0.0359011] \t[2.05136301]\t993\t[2.28067136]\t[1.95824397]\t12    \t[0.09475628]\n",
      "994\t16    \t[0.98666667]\t994\t[1.] \t[0.8]\t16    \t[0.04268749]\t[2.07145734]\t994\t[2.29056334]\t[1.95824397]\t16    \t[0.0955062] \n",
      "995\t15    \t[1.]        \t995\t[1.] \t[1.] \t15    \t[0.]        \t[2.04904602]\t995\t[2.27766681]\t[1.95824397]\t15    \t[0.09308247]\n",
      "996\t17    \t[1.]        \t996\t[1.] \t[1.] \t17    \t[0.]        \t[2.05263082]\t996\t[2.38174248]\t[1.95824397]\t17    \t[0.10851405]\n",
      "997\t19    \t[0.99666667]\t997\t[1.] \t[0.9]\t19    \t[0.01795055]\t[2.05514369]\t997\t[2.2511754] \t[1.95824397]\t19    \t[0.08235338]\n",
      "998\t20    \t[1.]        \t998\t[1.] \t[1.] \t20    \t[0.]        \t[2.06555657]\t998\t[2.32783389]\t[1.95824397]\t20    \t[0.09706105]\n",
      "999\t18    \t[1.]        \t999\t[1.] \t[1.] \t18    \t[0.]        \t[2.06815874]\t999\t[2.31580305]\t[1.9538281] \t18    \t[0.09008637]\n",
      "1000\t22    \t[0.99333333]\t1000\t[1.] \t[0.9]\t22    \t[0.02494438]\t[2.07313333]\t1000\t[2.31406474]\t[1.95824397]\t22    \t[0.08933979]\n",
      "処理時間： 49537.23894827906\n",
      "   0     1     2     3     4     5     6     7     8     9     ...  1014  \\\n",
      "0   0.0   1.0   0.0   0.0   0.0   0.0   0.0   0.0   1.0   1.0  ...   0.0   \n",
      "\n",
      "   1015  1016  1017  1018  1019  1020  1021  1022  1023  \n",
      "0   0.0   0.0   1.0   0.0   0.0   0.0   0.0   0.0   0.0  \n",
      "\n",
      "[1 rows x 1024 columns]\n",
      "Saved in: /mnt/workspace/Github/Pointnet_Pointnet2_pytorch/Mywork/Results/Files/seed0/GA_downsampling/Hall of fame/data615_ngen1000_rate0.25_seed0_2022-01-03_04-49.csv\n"
     ]
    },
    {
     "name": "stdout",
     "output_type": "stream",
     "text": [
      "Saved in: /mnt/workspace/Github/Pointnet_Pointnet2_pytorch/Mywork/Results/Files/seed0/GA_downsampling/log/data615_ngen1000_rate0.25_seed0_2022-01-03_04-49.csv\n",
      "Saved in: /mnt/workspace/Github/Pointnet_Pointnet2_pytorch/Mywork/Results/Files/seed0/GA_downsampling/pop/data615_ngen1000_rate0.25_seed0_2022-01-03_04-49.csv\n"
     ]
    }
   ],
   "source": [
    "data_idx = 615\n",
    "original_points, target_fv, target = GA_dataset.__getitem__(data_idx)\n",
    "original_points = torch.from_numpy(original_points.astype(np.float32)).clone().view(1, 1024, 3)\n",
    "target_fv = torch.from_numpy(target_fv.astype(np.float32)).clone().view(1, -1)\n",
    "target = torch.from_numpy(np.array(target).astype(np.float32)).clone()\n",
    "\n",
    "Classifier_from_feature_vector = Classifier_from_feature_vector.eval().cuda()\n",
    "Feature_vector_calculator = Feature_vector_calculator.eval().cuda()\n",
    "\n",
    "rate = 1/4\n",
    "ngen = 1000\n",
    "seed = 0\n",
    "cxpd = 0.2\n",
    "mutpd = 0.5\n",
    "\n",
    "hof, pop, log= run_GA(original_points, target_fv, target, Feature_vector_calculator, \\\n",
    "                      Classifier_from_feature_vector, rate, ngen, seed, cxpd, mutpd)\n",
    "save_GA_results(log, hof, pop, 'seed0', 'GA_downsampling',data=data_idx, ngen=ngen, rate=rate, seed=seed)"
   ]
  },
  {
   "cell_type": "code",
   "execution_count": 234,
   "id": "5c019766",
   "metadata": {
    "scrolled": true
   },
   "outputs": [
    {
     "name": "stdout",
     "output_type": "stream",
     "text": [
      "   \t      \t                     acc                     \t                                    dist                                    \n",
      "   \t      \t---------------------------------------------\t----------------------------------------------------------------------------\n",
      "gen\tnevals\tavg  \tgen\tmax \tmin \tnevals\tstd  \tavg         \tgen\tmax         \tmin         \tnevals\tstd         \n",
      "0  \t30    \t[0.2]\t0  \t[1.]\t[0.]\t30    \t[0.4]\t[6.70239379]\t0  \t[7.63652372]\t[5.86659956]\t30    \t[0.41988789]\n",
      "1  \t22    \t[0.13333333]\t1  \t[1.]\t[0.]\t22    \t[0.33993463]\t[6.44650429]\t1  \t[7.17364073]\t[5.75669289]\t22    \t[0.35131065]\n",
      "2  \t21    \t[0.23333333]\t2  \t[1.]\t[0.]\t21    \t[0.42295258]\t[6.20989599]\t2  \t[6.72519064]\t[5.75669289]\t21    \t[0.25295231]\n",
      "3  \t18    \t[0.26666667]\t3  \t[1.]\t[0.]\t18    \t[0.44221664]\t[6.03123091]\t3  \t[6.55675125]\t[5.75669289]\t18    \t[0.19190698]\n",
      "4  \t21    \t[0.5]       \t4  \t[1.]\t[0.]\t21    \t[0.5]       \t[5.98454318]\t4  \t[6.76727057]\t[5.69057941]\t21    \t[0.27070873]\n",
      "5  \t21    \t[0.63333333]\t5  \t[1.]\t[0.]\t21    \t[0.48189441]\t[5.80528183]\t5  \t[6.73525572]\t[5.59931087]\t21    \t[0.20325267]\n",
      "6  \t17    \t[0.66666667]\t6  \t[1.]\t[0.]\t17    \t[0.47140452]\t[5.69123635]\t6  \t[5.89681482]\t[5.57209969]\t17    \t[0.07859573]\n",
      "7  \t18    \t[0.7]       \t7  \t[1.]\t[0.]\t18    \t[0.45825757]\t[5.62580854]\t7  \t[5.81561089]\t[5.41751862]\t18    \t[0.09225894]\n",
      "8  \t16    \t[0.8]       \t8  \t[1.]\t[0.]\t16    \t[0.4]       \t[5.5584308] \t8  \t[5.75669289]\t[5.3178401] \t16    \t[0.10549166]\n",
      "9  \t15    \t[0.46666667]\t9  \t[1.]\t[0.]\t15    \t[0.49888765]\t[5.50913165]\t9  \t[5.70003653]\t[5.3443594] \t15    \t[0.09476084]\n",
      "10 \t19    \t[0.3]       \t10 \t[1.]\t[0.]\t19    \t[0.45825757]\t[5.45073091]\t10 \t[5.6802268] \t[5.30986929]\t19    \t[0.07550282]\n",
      "11 \t19    \t[0.13333333]\t11 \t[1.]\t[0.]\t19    \t[0.33993463]\t[5.43569411]\t11 \t[5.6320076] \t[5.31076145]\t19    \t[0.07848525]\n",
      "12 \t23    \t[0.13333333]\t12 \t[1.]\t[0.]\t23    \t[0.33993463]\t[5.40649627]\t12 \t[5.60484505]\t[5.18440056]\t23    \t[0.08292776]\n",
      "13 \t18    \t[0.26666667]\t13 \t[1.]\t[0.]\t18    \t[0.44221664]\t[5.38759861]\t13 \t[5.62576151]\t[5.20239782]\t18    \t[0.08732865]\n",
      "14 \t17    \t[0.4]       \t14 \t[1.]\t[0.]\t17    \t[0.48989795]\t[5.36652937]\t14 \t[5.70302534]\t[5.20239782]\t17    \t[0.1282877] \n",
      "15 \t16    \t[0.3]       \t15 \t[1.]\t[0.]\t16    \t[0.45825757]\t[5.29646889]\t15 \t[5.51895666]\t[5.16661644]\t16    \t[0.08247539]\n",
      "16 \t16    \t[0.36666667]\t16 \t[1.]\t[0.]\t16    \t[0.48189441]\t[5.27041745]\t16 \t[5.49483061]\t[5.15665579]\t16    \t[0.08566438]\n",
      "17 \t16    \t[0.56666667]\t17 \t[1.]\t[0.]\t16    \t[0.49553562]\t[5.21399075]\t17 \t[5.31405592]\t[5.13223743]\t16    \t[0.0457055] \n",
      "18 \t17    \t[0.53333333]\t18 \t[1.]\t[0.]\t17    \t[0.49888765]\t[5.22640367]\t18 \t[5.52513075]\t[5.02351475]\t17    \t[0.11047321]\n",
      "19 \t19    \t[0.63333333]\t19 \t[1.]\t[0.]\t19    \t[0.48189441]\t[5.17367727]\t19 \t[5.30042601]\t[5.04945946]\t19    \t[0.05909557]\n",
      "20 \t19    \t[0.53333333]\t20 \t[1.]\t[0.]\t19    \t[0.49888765]\t[5.15821916]\t20 \t[5.32452774]\t[5.04945946]\t19    \t[0.06808435]\n",
      "21 \t21    \t[0.6]       \t21 \t[1.]\t[0.]\t21    \t[0.48989795]\t[5.1558904] \t21 \t[5.38078022]\t[4.99450493]\t21    \t[0.07498659]\n",
      "22 \t21    \t[0.46666667]\t22 \t[1.]\t[0.]\t21    \t[0.49888765]\t[5.14315116]\t22 \t[5.38322353]\t[4.89656639]\t21    \t[0.11324839]\n",
      "23 \t17    \t[0.53333333]\t23 \t[1.]\t[0.]\t17    \t[0.49888765]\t[5.06202132]\t23 \t[5.22647476]\t[4.86123991]\t17    \t[0.10194801]\n",
      "24 \t14    \t[0.63333333]\t24 \t[1.]\t[0.]\t14    \t[0.48189441]\t[4.9885592] \t24 \t[5.25032759]\t[4.84861898]\t14    \t[0.09508376]\n",
      "25 \t14    \t[0.8]       \t25 \t[1.]\t[0.]\t14    \t[0.4]       \t[4.94410938]\t25 \t[5.04666853]\t[4.84861898]\t14    \t[0.06005487]\n",
      "26 \t22    \t[0.73333333]\t26 \t[1.]\t[0.]\t22    \t[0.44221664]\t[4.97281651]\t26 \t[5.18541574]\t[4.84861898]\t22    \t[0.08714277]\n",
      "27 \t20    \t[1.]        \t27 \t[1.]\t[1.]\t20    \t[0.]        \t[4.95366406]\t27 \t[5.17609978]\t[4.84616184]\t20    \t[0.0867078] \n",
      "28 \t19    \t[0.93333333]\t28 \t[1.]\t[0.]\t19    \t[0.24944383]\t[4.91839382]\t28 \t[5.05915976]\t[4.84009504]\t19    \t[0.06163502]\n",
      "29 \t14    \t[1.]        \t29 \t[1.]\t[1.]\t14    \t[0.]        \t[4.89506124]\t29 \t[5.11249256]\t[4.74370813]\t14    \t[0.06523866]\n",
      "30 \t15    \t[1.]        \t30 \t[1.]\t[1.]\t15    \t[0.]        \t[4.90247253]\t30 \t[5.16930151]\t[4.74370813]\t15    \t[0.10229761]\n",
      "31 \t17    \t[1.]        \t31 \t[1.]\t[1.]\t17    \t[0.]        \t[4.87641899]\t31 \t[5.21115971]\t[4.71482563]\t17    \t[0.09586819]\n",
      "32 \t19    \t[0.93333333]\t32 \t[1.]\t[0.]\t19    \t[0.24944383]\t[4.8702024] \t32 \t[5.17237949]\t[4.71482563]\t19    \t[0.09164605]\n",
      "33 \t18    \t[0.93333333]\t33 \t[1.]\t[0.]\t18    \t[0.24944383]\t[4.85399885]\t33 \t[5.13901997]\t[4.71038151]\t18    \t[0.10370992]\n",
      "34 \t22    \t[0.96666667]\t34 \t[1.]\t[0.]\t22    \t[0.17950549]\t[4.82064277]\t34 \t[4.94685888]\t[4.65348196]\t22    \t[0.07348149]\n",
      "35 \t14    \t[0.96666667]\t35 \t[1.]\t[0.]\t14    \t[0.17950549]\t[4.80339179]\t35 \t[4.98042774]\t[4.65348196]\t14    \t[0.0800774] \n",
      "36 \t16    \t[0.93333333]\t36 \t[1.]\t[0.]\t16    \t[0.24944383]\t[4.80214872]\t36 \t[4.99646473]\t[4.65348196]\t16    \t[0.10049339]\n",
      "37 \t19    \t[0.93333333]\t37 \t[1.]\t[0.]\t19    \t[0.24944383]\t[4.79120882]\t37 \t[5.02368546]\t[4.65348196]\t19    \t[0.10085839]\n",
      "38 \t20    \t[0.9]       \t38 \t[1.]\t[0.]\t20    \t[0.3]       \t[4.77076645]\t38 \t[4.95029259]\t[4.63577747]\t20    \t[0.07756581]\n",
      "39 \t19    \t[1.]        \t39 \t[1.]\t[1.]\t19    \t[0.]        \t[4.78452201]\t39 \t[5.04262352]\t[4.63577747]\t19    \t[0.1073886] \n",
      "40 \t20    \t[0.86666667]\t40 \t[1.]\t[0.]\t20    \t[0.33993463]\t[4.75982496]\t40 \t[5.03003454]\t[4.6239109] \t20    \t[0.1035741] \n",
      "41 \t17    \t[0.8]       \t41 \t[1.]\t[0.]\t17    \t[0.4]       \t[4.6973249] \t41 \t[4.94748402]\t[4.55270529]\t17    \t[0.08858064]\n",
      "42 \t18    \t[0.63333333]\t42 \t[1.]\t[0.]\t18    \t[0.48189441]\t[4.70127416]\t42 \t[4.98545933]\t[4.53794956]\t18    \t[0.10317498]\n",
      "43 \t23    \t[0.8]       \t43 \t[1.]\t[0.]\t23    \t[0.4]       \t[4.68882065]\t43 \t[4.93333387]\t[4.51909733]\t23    \t[0.09556163]\n",
      "44 \t19    \t[0.8]       \t44 \t[1.]\t[0.]\t19    \t[0.4]       \t[4.6724297] \t44 \t[4.91065931]\t[4.51909733]\t19    \t[0.10099061]\n",
      "45 \t18    \t[0.76666667]\t45 \t[1.]\t[0.]\t18    \t[0.42295258]\t[4.66036407]\t45 \t[4.95837498]\t[4.50913954]\t18    \t[0.1074783] \n",
      "46 \t20    \t[0.9]       \t46 \t[1.]\t[0.]\t20    \t[0.3]       \t[4.6468058] \t46 \t[4.87243462]\t[4.5018363] \t20    \t[0.07843103]\n",
      "47 \t22    \t[0.9]       \t47 \t[1.]\t[0.]\t22    \t[0.3]       \t[4.645959]  \t47 \t[4.93831062]\t[4.49236393]\t22    \t[0.10347174]\n",
      "48 \t19    \t[1.]        \t48 \t[1.]\t[1.]\t19    \t[0.]        \t[4.61386056]\t48 \t[4.80042982]\t[4.47920561]\t19    \t[0.08643379]\n",
      "49 \t15    \t[0.96666667]\t49 \t[1.]\t[0.]\t15    \t[0.17950549]\t[4.62087007]\t49 \t[4.83541298]\t[4.47920561]\t15    \t[0.10463147]\n",
      "50 \t21    \t[0.83333333]\t50 \t[1.]\t[0.]\t21    \t[0.372678]  \t[4.62774049]\t50 \t[4.88706923]\t[4.48575354]\t21    \t[0.11687281]\n",
      "51 \t17    \t[0.93333333]\t51 \t[1.]\t[0.]\t17    \t[0.24944383]\t[4.58800592]\t51 \t[4.96309996]\t[4.4755373] \t17    \t[0.1222172] \n",
      "52 \t20    \t[0.9]       \t52 \t[1.]\t[0.]\t20    \t[0.3]       \t[4.55498211]\t52 \t[4.77948713]\t[4.4755373] \t20    \t[0.09085259]\n",
      "53 \t18    \t[0.86666667]\t53 \t[1.]\t[0.]\t18    \t[0.33993463]\t[4.54397435]\t53 \t[4.87944984]\t[4.43105412]\t18    \t[0.09225815]\n",
      "54 \t18    \t[0.96666667]\t54 \t[1.]\t[0.]\t18    \t[0.17950549]\t[4.55313398]\t54 \t[4.86253691]\t[4.4166193] \t18    \t[0.11299783]\n",
      "55 \t17    \t[1.]        \t55 \t[1.]\t[1.]\t17    \t[0.]        \t[4.5189431] \t55 \t[4.78884268]\t[4.43105412]\t17    \t[0.07465145]\n",
      "56 \t22    \t[1.]        \t56 \t[1.]\t[1.]\t22    \t[0.]        \t[4.53479582]\t56 \t[4.80241966]\t[4.45768356]\t22    \t[0.09443583]\n",
      "57 \t18    \t[0.96666667]\t57 \t[1.]\t[0.]\t18    \t[0.17950549]\t[4.52256508]\t57 \t[4.8251071] \t[4.4424715] \t18    \t[0.07842344]\n",
      "58 \t21    \t[1.]        \t58 \t[1.]\t[1.]\t21    \t[0.]        \t[4.53598359]\t58 \t[4.72493076]\t[4.41746092]\t21    \t[0.07851106]\n",
      "59 \t19    \t[0.96666667]\t59 \t[1.]\t[0.]\t19    \t[0.17950549]\t[4.51072818]\t59 \t[4.69250202]\t[4.41746092]\t19    \t[0.07541255]\n",
      "60 \t17    \t[0.96666667]\t60 \t[1.]\t[0.]\t17    \t[0.17950549]\t[4.49998328]\t60 \t[4.73092747]\t[4.40460157]\t17    \t[0.09054331]\n",
      "61 \t15    \t[1.]        \t61 \t[1.]\t[1.]\t15    \t[0.]        \t[4.47130003]\t61 \t[4.71426582]\t[4.40539265]\t15    \t[0.06784341]\n",
      "62 \t18    \t[1.]        \t62 \t[1.]\t[1.]\t18    \t[0.]        \t[4.49411092]\t62 \t[4.73756742]\t[4.34164]   \t18    \t[0.09473559]\n",
      "63 \t21    \t[1.]        \t63 \t[1.]\t[1.]\t21    \t[0.]        \t[4.48531607]\t63 \t[4.71619558]\t[4.34164]   \t21    \t[0.08512132]\n",
      "64 \t19    \t[1.]        \t64 \t[1.]\t[1.]\t19    \t[0.]        \t[4.47673791]\t64 \t[4.64496994]\t[4.36592245]\t19    \t[0.07202995]\n"
     ]
    },
    {
     "name": "stdout",
     "output_type": "stream",
     "text": [
      "65 \t18    \t[1.]        \t65 \t[1.]\t[1.]\t18    \t[0.]        \t[4.44315685]\t65 \t[4.767663]  \t[4.34733677]\t18    \t[0.07915346]\n",
      "66 \t16    \t[0.93333333]\t66 \t[1.]\t[0.]\t16    \t[0.24944383]\t[4.44160773]\t66 \t[4.64002371]\t[4.30129194]\t16    \t[0.09093621]\n",
      "67 \t16    \t[0.96666667]\t67 \t[1.]\t[0.]\t16    \t[0.17950549]\t[4.42719032]\t67 \t[4.58935118]\t[4.34733677]\t16    \t[0.07749112]\n",
      "68 \t19    \t[1.]        \t68 \t[1.]\t[1.]\t19    \t[0.]        \t[4.41806156]\t68 \t[4.61617851]\t[4.34612608]\t19    \t[0.07675114]\n",
      "69 \t21    \t[1.]        \t69 \t[1.]\t[1.]\t21    \t[0.]        \t[4.42769262]\t69 \t[4.60484171]\t[4.34415388]\t21    \t[0.07257245]\n",
      "70 \t19    \t[1.]        \t70 \t[1.]\t[1.]\t19    \t[0.]        \t[4.39293539]\t70 \t[4.54936743]\t[4.29918385]\t19    \t[0.06128557]\n",
      "71 \t20    \t[1.]        \t71 \t[1.]\t[1.]\t20    \t[0.]        \t[4.39296902]\t71 \t[4.60843229]\t[4.29918385]\t20    \t[0.07028852]\n",
      "72 \t20    \t[1.]        \t72 \t[1.]\t[1.]\t20    \t[0.]        \t[4.40557756]\t72 \t[4.5531168] \t[4.29918385]\t20    \t[0.08370436]\n",
      "73 \t16    \t[1.]        \t73 \t[1.]\t[1.]\t16    \t[0.]        \t[4.35988159]\t73 \t[4.58072662]\t[4.25962639]\t16    \t[0.07299287]\n",
      "74 \t20    \t[1.]        \t74 \t[1.]\t[1.]\t20    \t[0.]        \t[4.37023926]\t74 \t[4.60445166]\t[4.25962639]\t20    \t[0.07732345]\n",
      "75 \t23    \t[1.]        \t75 \t[1.]\t[1.]\t23    \t[0.]        \t[4.37499129]\t75 \t[4.61396933]\t[4.29696512]\t23    \t[0.08464752]\n",
      "76 \t14    \t[1.]        \t76 \t[1.]\t[1.]\t14    \t[0.]        \t[4.35804483]\t76 \t[4.57025385]\t[4.29918385]\t14    \t[0.0814321] \n",
      "77 \t18    \t[1.]        \t77 \t[1.]\t[1.]\t18    \t[0.]        \t[4.37333083]\t77 \t[4.64886475]\t[4.29918385]\t18    \t[0.1031723] \n",
      "78 \t19    \t[1.]        \t78 \t[1.]\t[1.]\t19    \t[0.]        \t[4.35317699]\t78 \t[4.53065968]\t[4.29918385]\t19    \t[0.06371708]\n",
      "79 \t14    \t[1.]        \t79 \t[1.]\t[1.]\t14    \t[0.]        \t[4.34634565]\t79 \t[4.57472754]\t[4.27743149]\t14    \t[0.0774244] \n",
      "80 \t22    \t[1.]        \t80 \t[1.]\t[1.]\t22    \t[0.]        \t[4.35393208]\t80 \t[4.51461267]\t[4.27746773]\t22    \t[0.06816387]\n",
      "81 \t20    \t[1.]        \t81 \t[1.]\t[1.]\t20    \t[0.]        \t[4.35496629]\t81 \t[4.52197504]\t[4.27746773]\t20    \t[0.06777468]\n",
      "82 \t16    \t[0.96666667]\t82 \t[1.]\t[0.]\t16    \t[0.17950549]\t[4.3545417] \t82 \t[4.67195606]\t[4.261549]  \t16    \t[0.09466141]\n",
      "83 \t20    \t[0.96666667]\t83 \t[1.]\t[0.]\t20    \t[0.17950549]\t[4.36170909]\t83 \t[4.63405371]\t[4.261549]  \t20    \t[0.09163915]\n",
      "84 \t17    \t[1.]        \t84 \t[1.]\t[1.]\t17    \t[0.]        \t[4.32761769]\t84 \t[4.5905242] \t[4.21377516]\t17    \t[0.08261438]\n",
      "85 \t21    \t[1.]        \t85 \t[1.]\t[1.]\t21    \t[0.]        \t[4.34648433]\t85 \t[4.82495117]\t[4.21377516]\t21    \t[0.11866581]\n",
      "86 \t17    \t[0.96666667]\t86 \t[1.]\t[0.]\t17    \t[0.17950549]\t[4.30677691]\t86 \t[4.5390048] \t[4.21377516]\t17    \t[0.06532541]\n",
      "87 \t16    \t[1.]        \t87 \t[1.]\t[1.]\t16    \t[0.]        \t[4.33525944]\t87 \t[4.71625233]\t[4.21377516]\t16    \t[0.10703694]\n",
      "88 \t13    \t[1.]        \t88 \t[1.]\t[1.]\t13    \t[0.]        \t[4.32885578]\t88 \t[4.57722187]\t[4.21377516]\t13    \t[0.10793702]\n",
      "89 \t13    \t[1.]        \t89 \t[1.]\t[1.]\t13    \t[0.]        \t[4.29007748]\t89 \t[4.4793725] \t[4.15588093]\t13    \t[0.07438503]\n",
      "90 \t18    \t[1.]        \t90 \t[1.]\t[1.]\t18    \t[0.]        \t[4.29902846]\t90 \t[4.4909029] \t[4.18512154]\t18    \t[0.08297155]\n",
      "91 \t11    \t[1.]        \t91 \t[1.]\t[1.]\t11    \t[0.]        \t[4.26706026]\t91 \t[4.50085306]\t[4.18512154]\t11    \t[0.07392977]\n",
      "92 \t17    \t[1.]        \t92 \t[1.]\t[1.]\t17    \t[0.]        \t[4.28558497]\t92 \t[4.54240131]\t[4.19359159]\t17    \t[0.09225348]\n",
      "93 \t16    \t[1.]        \t93 \t[1.]\t[1.]\t16    \t[0.]        \t[4.2642934] \t93 \t[4.65329695]\t[4.13453007]\t16    \t[0.09956792]\n",
      "94 \t12    \t[0.96666667]\t94 \t[1.]\t[0.]\t12    \t[0.17950549]\t[4.23781675]\t94 \t[4.4307847] \t[4.13453007]\t12    \t[0.06694905]\n",
      "95 \t18    \t[0.96666667]\t95 \t[1.]\t[0.]\t18    \t[0.17950549]\t[4.24941953]\t95 \t[4.56744099]\t[4.13453007]\t18    \t[0.08544114]\n",
      "96 \t18    \t[1.]        \t96 \t[1.]\t[1.]\t18    \t[0.]        \t[4.24820234]\t96 \t[4.47978735]\t[4.13453007]\t18    \t[0.08644736]\n",
      "97 \t16    \t[0.96666667]\t97 \t[1.]\t[0.]\t16    \t[0.17950549]\t[4.22429989]\t97 \t[4.43681192]\t[4.13453007]\t16    \t[0.07724555]\n",
      "98 \t22    \t[0.86666667]\t98 \t[1.]\t[0.]\t22    \t[0.33993463]\t[4.25244195]\t98 \t[4.48439503]\t[4.14866209]\t22    \t[0.09059382]\n",
      "99 \t15    \t[1.]        \t99 \t[1.]\t[1.]\t15    \t[0.]        \t[4.21826213]\t99 \t[4.4317522] \t[4.14866209]\t15    \t[0.07428785]\n",
      "100\t18    \t[0.93333333]\t100\t[1.]\t[0.]\t18    \t[0.24944383]\t[4.22767607]\t100\t[4.59583092]\t[4.10241652]\t18    \t[0.11319462]\n",
      "101\t21    \t[0.96666667]\t101\t[1.]\t[0.]\t21    \t[0.17950549]\t[4.2200109] \t101\t[4.56502914]\t[4.06927967]\t21    \t[0.10183008]\n",
      "102\t19    \t[1.]        \t102\t[1.]\t[1.]\t19    \t[0.]        \t[4.18469246]\t102\t[4.3744874] \t[4.06927967]\t19    \t[0.07432836]\n",
      "103\t17    \t[0.96666667]\t103\t[1.]\t[0.]\t17    \t[0.17950549]\t[4.16823626]\t103\t[4.34547138]\t[4.06468773]\t17    \t[0.07377105]\n",
      "104\t21    \t[0.93333333]\t104\t[1.]\t[0.]\t21    \t[0.24944383]\t[4.17248206]\t104\t[4.67593479]\t[4.00817251]\t21    \t[0.12783075]\n",
      "105\t18    \t[0.93333333]\t105\t[1.]\t[0.]\t18    \t[0.24944383]\t[4.14688816]\t105\t[4.39621925]\t[3.97403955]\t18    \t[0.09760365]\n",
      "106\t18    \t[0.96666667]\t106\t[1.]\t[0.]\t18    \t[0.17950549]\t[4.08823484]\t106\t[4.28731298]\t[3.97403955]\t18    \t[0.07305364]\n",
      "107\t20    \t[0.93333333]\t107\t[1.]\t[0.]\t20    \t[0.24944383]\t[4.07765822]\t107\t[4.33573532]\t[3.95686579]\t20    \t[0.09161407]\n",
      "108\t19    \t[0.96666667]\t108\t[1.]\t[0.]\t19    \t[0.17950549]\t[4.05389065]\t108\t[4.24426508]\t[3.95686579]\t19    \t[0.08017885]\n",
      "109\t18    \t[0.93333333]\t109\t[1.]\t[0.]\t18    \t[0.24944383]\t[4.06878486]\t109\t[4.39073563]\t[3.95686579]\t18    \t[0.11149996]\n",
      "110\t17    \t[1.]        \t110\t[1.]\t[1.]\t17    \t[0.]        \t[4.02793736]\t110\t[4.42369413]\t[3.95686579]\t17    \t[0.09273439]\n",
      "111\t18    \t[0.96666667]\t111\t[1.]\t[0.]\t18    \t[0.17950549]\t[4.03103706]\t111\t[4.22784948]\t[3.96475577]\t18    \t[0.06792478]\n",
      "112\t19    \t[0.93333333]\t112\t[1.]\t[0.]\t19    \t[0.24944383]\t[4.03784059]\t112\t[4.21652794]\t[3.96475577]\t19    \t[0.07700088]\n",
      "113\t13    \t[0.93333333]\t113\t[1.]\t[0.]\t13    \t[0.24944383]\t[4.03692698]\t113\t[4.39241362]\t[3.95738673]\t13    \t[0.10769406]\n",
      "114\t18    \t[0.93333333]\t114\t[1.]\t[0.]\t18    \t[0.24944383]\t[4.02909933]\t114\t[4.22815561]\t[3.93697906]\t18    \t[0.07204711]\n",
      "115\t19    \t[0.86666667]\t115\t[1.]\t[0.]\t19    \t[0.33993463]\t[4.03388058]\t115\t[4.21066904]\t[3.93697906]\t19    \t[0.08084684]\n",
      "116\t13    \t[0.93333333]\t116\t[1.]\t[0.]\t13    \t[0.24944383]\t[4.00792379]\t116\t[4.19416952]\t[3.93697906]\t13    \t[0.07589655]\n",
      "117\t23    \t[0.93333333]\t117\t[1.]\t[0.]\t23    \t[0.24944383]\t[4.0285265] \t117\t[4.37269592]\t[3.93697906]\t23    \t[0.10414164]\n",
      "118\t14    \t[0.93333333]\t118\t[1.]\t[0.]\t14    \t[0.24944383]\t[4.02383897]\t118\t[4.44167423]\t[3.93697906]\t14    \t[0.12170402]\n",
      "119\t20    \t[0.96666667]\t119\t[1.]\t[0.]\t20    \t[0.17950549]\t[3.99581908]\t119\t[4.219347]  \t[3.88840294]\t20    \t[0.07485324]\n",
      "120\t16    \t[0.86666667]\t120\t[1.]\t[0.]\t16    \t[0.33993463]\t[4.05058548]\t120\t[4.4586997] \t[3.87275434]\t16    \t[0.14612473]\n",
      "121\t20    \t[0.93333333]\t121\t[1.]\t[0.]\t20    \t[0.24944383]\t[3.99074682]\t121\t[4.19388771]\t[3.88887095]\t20    \t[0.07565618]\n",
      "122\t20    \t[0.8]       \t122\t[1.]\t[0.]\t20    \t[0.4]       \t[4.02440976]\t122\t[4.30227757]\t[3.88887095]\t20    \t[0.11301931]\n",
      "123\t15    \t[0.76666667]\t123\t[1.]\t[0.]\t15    \t[0.42295258]\t[4.03008262]\t123\t[4.30573225]\t[3.88887095]\t15    \t[0.10793828]\n",
      "124\t15    \t[0.8]       \t124\t[1.]\t[0.]\t15    \t[0.4]       \t[3.98951906]\t124\t[4.22789764]\t[3.8044374] \t15    \t[0.10383757]\n",
      "125\t17    \t[0.8]       \t125\t[1.]\t[0.]\t17    \t[0.4]       \t[3.977043]  \t125\t[4.16375589]\t[3.88506007]\t17    \t[0.08133205]\n",
      "126\t18    \t[0.8]       \t126\t[1.]\t[0.]\t18    \t[0.4]       \t[3.98665163]\t126\t[4.36467695]\t[3.88435793]\t18    \t[0.10634009]\n",
      "127\t20    \t[0.9]       \t127\t[1.]\t[0.]\t20    \t[0.3]       \t[3.97850584]\t127\t[4.23831654]\t[3.83652377]\t20    \t[0.10554166]\n",
      "128\t15    \t[0.76666667]\t128\t[1.]\t[0.]\t15    \t[0.42295258]\t[3.9528443] \t128\t[4.2649765] \t[3.84910178]\t15    \t[0.09393644]\n",
      "129\t18    \t[0.93333333]\t129\t[1.]\t[0.]\t18    \t[0.24944383]\t[3.93636854]\t129\t[4.20516682]\t[3.80805898]\t18    \t[0.08103322]\n",
      "130\t23    \t[0.83333333]\t130\t[1.]\t[0.]\t23    \t[0.372678]  \t[3.96150184]\t130\t[4.227283]  \t[3.80087924]\t23    \t[0.11034735]\n",
      "131\t20    \t[0.76666667]\t131\t[1.]\t[0.]\t20    \t[0.42295258]\t[3.97235548]\t131\t[4.21978235]\t[3.80087924]\t20    \t[0.11201379]\n",
      "132\t9     \t[1.]        \t132\t[1.]\t[1.]\t9     \t[0.]        \t[3.91513193]\t132\t[4.16653013]\t[3.80087924]\t9     \t[0.0985375] \n"
     ]
    },
    {
     "name": "stdout",
     "output_type": "stream",
     "text": [
      "133\t19    \t[0.86666667]\t133\t[1.]\t[0.]\t19    \t[0.33993463]\t[3.92538613]\t133\t[4.2680583] \t[3.77754903]\t19    \t[0.12563572]\n",
      "134\t19    \t[0.83333333]\t134\t[1.]\t[0.]\t19    \t[0.372678]  \t[3.89119147]\t134\t[4.07971525]\t[3.77754903]\t19    \t[0.08311796]\n",
      "135\t24    \t[0.8]       \t135\t[1.]\t[0.]\t24    \t[0.4]       \t[3.92029347]\t135\t[4.15554762]\t[3.77754903]\t24    \t[0.09568901]\n",
      "136\t21    \t[0.9]       \t136\t[1.]\t[0.]\t21    \t[0.3]       \t[3.89034813]\t136\t[4.12985325]\t[3.77754903]\t21    \t[0.115413]  \n",
      "137\t22    \t[0.83333333]\t137\t[1.]\t[0.]\t22    \t[0.372678]  \t[3.89001558]\t137\t[4.13564253]\t[3.77754903]\t22    \t[0.10355708]\n",
      "138\t20    \t[0.76666667]\t138\t[1.]\t[0.]\t20    \t[0.42295258]\t[3.91056194]\t138\t[4.35990095]\t[3.77754903]\t20    \t[0.14335983]\n",
      "139\t21    \t[0.8]       \t139\t[1.]\t[0.]\t21    \t[0.4]       \t[3.90607706]\t139\t[4.23854542]\t[3.77754903]\t21    \t[0.12484782]\n",
      "140\t18    \t[0.66666667]\t140\t[1.]\t[0.]\t18    \t[0.47140452]\t[3.89955684]\t140\t[4.33197355]\t[3.77754903]\t18    \t[0.11615417]\n",
      "141\t22    \t[0.6]       \t141\t[1.]\t[0.]\t22    \t[0.48989795]\t[3.89974044]\t141\t[4.28803444]\t[3.68238306]\t22    \t[0.13797604]\n",
      "142\t17    \t[0.73333333]\t142\t[1.]\t[0.]\t17    \t[0.44221664]\t[3.85505698]\t142\t[4.05742598]\t[3.68238306]\t17    \t[0.09633338]\n",
      "143\t17    \t[0.66666667]\t143\t[1.]\t[0.]\t17    \t[0.47140452]\t[3.8637186] \t143\t[4.16173792]\t[3.68238306]\t17    \t[0.12341141]\n",
      "144\t18    \t[0.5]       \t144\t[1.]\t[0.]\t18    \t[0.5]       \t[3.85470496]\t144\t[4.04032326]\t[3.68238306]\t18    \t[0.11490354]\n",
      "145\t18    \t[0.46666667]\t145\t[1.]\t[0.]\t18    \t[0.49888765]\t[3.81521755]\t145\t[4.11317444]\t[3.68238306]\t18    \t[0.10641903]\n",
      "146\t18    \t[0.4]       \t146\t[1.]\t[0.]\t18    \t[0.48989795]\t[3.78712357]\t146\t[4.14870644]\t[3.68238306]\t18    \t[0.10780248]\n",
      "147\t21    \t[0.3]       \t147\t[1.]\t[0.]\t21    \t[0.45825757]\t[3.78640998]\t147\t[4.04111719]\t[3.67560196]\t21    \t[0.09093477]\n",
      "148\t19    \t[0.26666667]\t148\t[1.]\t[0.]\t19    \t[0.44221664]\t[3.80570742]\t148\t[4.17444563]\t[3.67944789]\t19    \t[0.15499156]\n",
      "149\t14    \t[0.3]       \t149\t[1.]\t[0.]\t14    \t[0.45825757]\t[3.76709633]\t149\t[4.0804491] \t[3.67944789]\t14    \t[0.1139675] \n",
      "150\t11    \t[0.16666667]\t150\t[1.]\t[0.]\t11    \t[0.372678]  \t[3.75985422]\t150\t[4.13383198]\t[3.67944789]\t11    \t[0.12712956]\n",
      "151\t9     \t[0.1]       \t151\t[1.]\t[0.]\t9     \t[0.3]       \t[3.71619741]\t151\t[3.97932982]\t[3.67944789]\t9     \t[0.06674595]\n",
      "152\t19    \t[0.2]       \t152\t[1.]\t[0.]\t19    \t[0.4]       \t[3.76156611]\t152\t[4.08100224]\t[3.67944789]\t19    \t[0.10937828]\n",
      "153\t18    \t[0.13333333]\t153\t[1.]\t[0.]\t18    \t[0.33993463]\t[3.77344287]\t153\t[4.05995369]\t[3.67944789]\t18    \t[0.10223024]\n",
      "154\t18    \t[0.2]       \t154\t[1.]\t[0.]\t18    \t[0.4]       \t[3.78189586]\t154\t[4.15837431]\t[3.67944789]\t18    \t[0.13565172]\n",
      "155\t18    \t[0.06666667]\t155\t[1.]\t[0.]\t18    \t[0.24944383]\t[3.78335341]\t155\t[4.12750864]\t[3.67944789]\t18    \t[0.13778271]\n",
      "156\t18    \t[0.23333333]\t156\t[1.]\t[0.]\t18    \t[0.42295258]\t[3.76636805]\t156\t[4.16278791]\t[3.67944789]\t18    \t[0.12424714]\n",
      "157\t22    \t[0.33333333]\t157\t[1.]\t[0.]\t22    \t[0.47140452]\t[3.74631734]\t157\t[4.12696934]\t[3.67425156]\t22    \t[0.11108047]\n",
      "158\t18    \t[0.36666667]\t158\t[1.]\t[0.]\t18    \t[0.48189441]\t[3.76891563]\t158\t[4.03420639]\t[3.67944789]\t18    \t[0.11235147]\n",
      "159\t18    \t[0.36666667]\t159\t[1.]\t[0.]\t18    \t[0.48189441]\t[3.77393408]\t159\t[3.97805381]\t[3.67944789]\t18    \t[0.09811344]\n",
      "160\t19    \t[0.33333333]\t160\t[1.]\t[0.]\t19    \t[0.47140452]\t[3.76270799]\t160\t[4.08532953]\t[3.67944789]\t19    \t[0.10846801]\n",
      "161\t17    \t[0.23333333]\t161\t[1.]\t[0.]\t17    \t[0.42295258]\t[3.76853326]\t161\t[4.08010578]\t[3.67944789]\t17    \t[0.10861772]\n",
      "162\t11    \t[0.26666667]\t162\t[1.]\t[0.]\t11    \t[0.44221664]\t[3.74895234]\t162\t[3.98860216]\t[3.677531]  \t11    \t[0.0897862] \n",
      "163\t18    \t[0.2]       \t163\t[1.]\t[0.]\t18    \t[0.4]       \t[3.75652646]\t163\t[4.15593672]\t[3.67944789]\t18    \t[0.11109611]\n",
      "164\t21    \t[0.26666667]\t164\t[1.]\t[0.]\t21    \t[0.44221664]\t[3.78353689]\t164\t[4.16566324]\t[3.65421224]\t21    \t[0.12063928]\n",
      "165\t21    \t[0.26666667]\t165\t[1.]\t[0.]\t21    \t[0.44221664]\t[3.79098984]\t165\t[4.0576067] \t[3.67407537]\t21    \t[0.10986532]\n",
      "166\t18    \t[0.16666667]\t166\t[1.]\t[0.]\t18    \t[0.372678]  \t[3.78264402]\t166\t[4.05818558]\t[3.67407537]\t18    \t[0.0916915] \n",
      "167\t18    \t[0.16666667]\t167\t[1.]\t[0.]\t18    \t[0.372678]  \t[3.78722581]\t167\t[4.18274641]\t[3.64698958]\t18    \t[0.14267953]\n",
      "168\t21    \t[0.26666667]\t168\t[1.]\t[0.]\t21    \t[0.44221664]\t[3.77740997]\t168\t[4.1227932] \t[3.64698958]\t21    \t[0.12525292]\n",
      "169\t17    \t[0.2]       \t169\t[1.]\t[0.]\t17    \t[0.4]       \t[3.72513461]\t169\t[3.99417734]\t[3.58708882]\t17    \t[0.09745157]\n",
      "170\t20    \t[0.13333333]\t170\t[1.]\t[0.]\t20    \t[0.33993463]\t[3.7398572] \t170\t[3.99355626]\t[3.63705373]\t20    \t[0.107301]  \n",
      "171\t19    \t[0.1]       \t171\t[1.]\t[0.]\t19    \t[0.3]       \t[3.71784596]\t171\t[4.08537292]\t[3.64546371]\t19    \t[0.10310635]\n",
      "172\t19    \t[0.4]       \t172\t[1.]\t[0.]\t19    \t[0.48989795]\t[3.73663274]\t172\t[3.94905472]\t[3.64546371]\t19    \t[0.10026985]\n",
      "173\t23    \t[0.23333333]\t173\t[1.]\t[0.]\t23    \t[0.42295258]\t[3.75903123]\t173\t[4.07379341]\t[3.64698958]\t23    \t[0.10563619]\n",
      "174\t17    \t[0.33333333]\t174\t[1.]\t[0.]\t17    \t[0.47140452]\t[3.75800776]\t174\t[4.03729391]\t[3.64698958]\t17    \t[0.106834]  \n",
      "175\t17    \t[0.36666667]\t175\t[1.]\t[0.]\t17    \t[0.48189441]\t[3.74255247]\t175\t[4.02787638]\t[3.64698958]\t17    \t[0.09372063]\n",
      "176\t19    \t[0.33333333]\t176\t[1.]\t[0.]\t19    \t[0.47140452]\t[3.76845109]\t176\t[4.12959862]\t[3.64698958]\t19    \t[0.12163754]\n",
      "177\t17    \t[0.3]       \t177\t[1.]\t[0.]\t17    \t[0.45825757]\t[3.72745899]\t177\t[4.02837753]\t[3.61897135]\t17    \t[0.10284503]\n",
      "178\t16    \t[0.2]       \t178\t[1.]\t[0.]\t16    \t[0.4]       \t[3.75307999]\t178\t[4.03464079]\t[3.61897135]\t16    \t[0.11515255]\n",
      "179\t22    \t[0.33333333]\t179\t[1.]\t[0.]\t22    \t[0.47140452]\t[3.76008796]\t179\t[4.00452423]\t[3.61897135]\t22    \t[0.09823019]\n",
      "180\t20    \t[0.5]       \t180\t[1.]\t[0.]\t20    \t[0.5]       \t[3.72425976]\t180\t[3.8911159] \t[3.63861632]\t20    \t[0.07737719]\n",
      "181\t17    \t[0.43333333]\t181\t[1.]\t[0.]\t17    \t[0.49553562]\t[3.73079077]\t181\t[4.06474113]\t[3.64698958]\t17    \t[0.09450096]\n",
      "182\t19    \t[0.4]       \t182\t[1.]\t[0.]\t19    \t[0.48989795]\t[3.77837911]\t182\t[4.1407814] \t[3.64698958]\t19    \t[0.14474072]\n",
      "183\t16    \t[0.33333333]\t183\t[1.]\t[0.]\t16    \t[0.47140452]\t[3.74714173]\t183\t[3.97489333]\t[3.64698958]\t16    \t[0.09868279]\n",
      "184\t22    \t[0.43333333]\t184\t[1.]\t[0.]\t22    \t[0.49553562]\t[3.76832239]\t184\t[4.03715611]\t[3.64698958]\t22    \t[0.10825731]\n",
      "185\t14    \t[0.2]       \t185\t[1.]\t[0.]\t14    \t[0.4]       \t[3.7378503] \t185\t[3.91562009]\t[3.64698958]\t14    \t[0.07721407]\n",
      "186\t18    \t[0.3]       \t186\t[1.]\t[0.]\t18    \t[0.45825757]\t[3.74012139]\t186\t[3.98434639]\t[3.60754633]\t18    \t[0.10766796]\n",
      "187\t15    \t[0.36666667]\t187\t[1.]\t[0.]\t15    \t[0.48189441]\t[3.69036396]\t187\t[3.97082376]\t[3.48498034]\t15    \t[0.0988433] \n",
      "188\t16    \t[0.53333333]\t188\t[1.]\t[0.]\t16    \t[0.49888765]\t[3.68320499]\t188\t[4.10395575]\t[3.48498034]\t16    \t[0.10514371]\n",
      "189\t21    \t[0.4]       \t189\t[1.]\t[0.]\t21    \t[0.48989795]\t[3.7344967] \t189\t[4.12693977]\t[3.48498034]\t21    \t[0.15831894]\n",
      "190\t17    \t[0.5]       \t190\t[1.]\t[0.]\t17    \t[0.5]       \t[3.66362979]\t190\t[3.98125267]\t[3.48498034]\t17    \t[0.12858698]\n",
      "191\t18    \t[0.63333333]\t191\t[1.]\t[0.]\t18    \t[0.48189441]\t[3.61992381]\t191\t[3.9171524] \t[3.48498034]\t18    \t[0.10364821]\n",
      "192\t20    \t[0.6]       \t192\t[1.]\t[0.]\t20    \t[0.48989795]\t[3.62345846]\t192\t[3.92137694]\t[3.48467064]\t20    \t[0.10606445]\n",
      "193\t14    \t[0.76666667]\t193\t[1.]\t[0.]\t14    \t[0.42295258]\t[3.62287432]\t193\t[4.03013945]\t[3.48467064]\t14    \t[0.15481266]\n",
      "194\t20    \t[0.73333333]\t194\t[1.]\t[0.]\t20    \t[0.44221664]\t[3.6304981] \t194\t[3.91927695]\t[3.48467064]\t20    \t[0.13158691]\n",
      "195\t15    \t[0.86666667]\t195\t[1.]\t[0.]\t15    \t[0.33993463]\t[3.55913515]\t195\t[3.95315337]\t[3.48467064]\t15    \t[0.11768075]\n",
      "196\t21    \t[0.8]       \t196\t[1.]\t[0.]\t21    \t[0.4]       \t[3.61873767]\t196\t[4.00538778]\t[3.48467064]\t21    \t[0.14167219]\n",
      "197\t16    \t[0.9]       \t197\t[1.]\t[0.]\t16    \t[0.3]       \t[3.57202164]\t197\t[3.77356911]\t[3.44130254]\t16    \t[0.09071718]\n",
      "198\t14    \t[0.86666667]\t198\t[1.]\t[0.]\t14    \t[0.33993463]\t[3.57462899]\t198\t[3.86943674]\t[3.44130254]\t14    \t[0.11766286]\n",
      "199\t20    \t[0.86666667]\t199\t[1.]\t[0.]\t20    \t[0.33993463]\t[3.55149767]\t199\t[3.82397532]\t[3.44130254]\t20    \t[0.10170017]\n",
      "200\t22    \t[0.83333333]\t200\t[1.]\t[0.]\t22    \t[0.372678]  \t[3.53709016]\t200\t[3.77993321]\t[3.44130254]\t22    \t[0.09300674]\n"
     ]
    },
    {
     "name": "stdout",
     "output_type": "stream",
     "text": [
      "201\t17    \t[0.86666667]\t201\t[1.]\t[0.]\t17    \t[0.33993463]\t[3.52263112]\t201\t[3.72115254]\t[3.44130254]\t17    \t[0.0822864] \n",
      "202\t20    \t[0.9]       \t202\t[1.]\t[0.]\t20    \t[0.3]       \t[3.54503889]\t202\t[3.81706667]\t[3.44130254]\t20    \t[0.11509169]\n",
      "203\t19    \t[0.86666667]\t203\t[1.]\t[0.]\t19    \t[0.33993463]\t[3.55015761]\t203\t[3.79972839]\t[3.43326306]\t19    \t[0.09501224]\n",
      "204\t16    \t[0.93333333]\t204\t[1.]\t[0.]\t16    \t[0.24944383]\t[3.55838776]\t204\t[3.90484667]\t[3.43326306]\t16    \t[0.13713029]\n",
      "205\t18    \t[0.76666667]\t205\t[1.]\t[0.]\t18    \t[0.42295258]\t[3.54651073]\t205\t[3.95190859]\t[3.43326306]\t18    \t[0.12717826]\n",
      "206\t19    \t[0.86666667]\t206\t[1.]\t[0.]\t19    \t[0.33993463]\t[3.54232003]\t206\t[3.81608582]\t[3.42875147]\t19    \t[0.12581265]\n",
      "207\t18    \t[0.83333333]\t207\t[1.]\t[0.]\t18    \t[0.372678]  \t[3.53269178]\t207\t[3.81486011]\t[3.42717218]\t18    \t[0.12453323]\n",
      "208\t14    \t[0.9]       \t208\t[1.]\t[0.]\t14    \t[0.3]       \t[3.50241896]\t208\t[3.89544749]\t[3.40185928]\t14    \t[0.11617757]\n",
      "209\t19    \t[0.76666667]\t209\t[1.]\t[0.]\t19    \t[0.42295258]\t[3.48797672]\t209\t[3.76236892]\t[3.40185928]\t19    \t[0.08023256]\n",
      "210\t20    \t[0.86666667]\t210\t[1.]\t[0.]\t20    \t[0.33993463]\t[3.50481496]\t210\t[3.70707488]\t[3.40185928]\t20    \t[0.08647509]\n",
      "211\t17    \t[0.7]       \t211\t[1.]\t[0.]\t17    \t[0.45825757]\t[3.54838549]\t211\t[3.86052394]\t[3.40185928]\t17    \t[0.13388973]\n",
      "212\t19    \t[0.7]       \t212\t[1.]\t[0.]\t19    \t[0.45825757]\t[3.53867073]\t212\t[3.95778441]\t[3.40185928]\t19    \t[0.11802991]\n",
      "213\t21    \t[0.76666667]\t213\t[1.]\t[0.]\t21    \t[0.42295258]\t[3.54852507]\t213\t[3.89153552]\t[3.40185928]\t21    \t[0.12524061]\n",
      "214\t25    \t[0.73333333]\t214\t[1.]\t[0.]\t25    \t[0.44221664]\t[3.55894094]\t214\t[3.87826538]\t[3.40185928]\t25    \t[0.103376]  \n",
      "215\t17    \t[0.5]       \t215\t[1.]\t[0.]\t17    \t[0.5]       \t[3.53770711]\t215\t[3.94504714]\t[3.40185928]\t17    \t[0.11387113]\n",
      "216\t16    \t[0.76666667]\t216\t[1.]\t[0.]\t16    \t[0.42295258]\t[3.542682]  \t216\t[3.87540746]\t[3.40185928]\t16    \t[0.1577305] \n",
      "217\t19    \t[0.8]       \t217\t[1.]\t[0.]\t19    \t[0.4]       \t[3.49793855]\t217\t[3.97756052]\t[3.38238215]\t19    \t[0.13094117]\n",
      "218\t17    \t[0.73333333]\t218\t[1.]\t[0.]\t17    \t[0.44221664]\t[3.48109777]\t218\t[4.03364658]\t[3.38238215]\t17    \t[0.13761645]\n",
      "219\t16    \t[0.73333333]\t219\t[1.]\t[0.]\t16    \t[0.44221664]\t[3.4794763] \t219\t[3.73249102]\t[3.38238215]\t16    \t[0.09971519]\n",
      "220\t20    \t[0.8]       \t220\t[1.]\t[0.]\t20    \t[0.4]       \t[3.50088944]\t220\t[3.83622169]\t[3.38238215]\t20    \t[0.11762468]\n",
      "221\t14    \t[0.63333333]\t221\t[1.]\t[0.]\t14    \t[0.48189441]\t[3.51305699]\t221\t[3.93644404]\t[3.38238215]\t14    \t[0.14604508]\n",
      "222\t19    \t[0.7]       \t222\t[1.]\t[0.]\t19    \t[0.45825757]\t[3.53435024]\t222\t[3.99209404]\t[3.37834334]\t19    \t[0.17495945]\n",
      "223\t22    \t[0.7]       \t223\t[1.]\t[0.]\t22    \t[0.45825757]\t[3.49036357]\t223\t[3.85962558]\t[3.38238215]\t22    \t[0.11134271]\n",
      "224\t17    \t[0.9]       \t224\t[1.]\t[0.]\t17    \t[0.3]       \t[3.48301791]\t224\t[3.8115685] \t[3.38238215]\t17    \t[0.11518487]\n",
      "225\t22    \t[0.8]       \t225\t[1.]\t[0.]\t22    \t[0.4]       \t[3.50320178]\t225\t[3.85464907]\t[3.38083911]\t22    \t[0.12996137]\n",
      "226\t18    \t[0.63333333]\t226\t[1.]\t[0.]\t18    \t[0.48189441]\t[3.49826006]\t226\t[3.85278583]\t[3.38083911]\t18    \t[0.11553751]\n",
      "227\t19    \t[0.8]       \t227\t[1.]\t[0.]\t19    \t[0.4]       \t[3.50866448]\t227\t[3.82902265]\t[3.38083911]\t19    \t[0.12972213]\n",
      "228\t17    \t[0.76666667]\t228\t[1.]\t[0.]\t17    \t[0.42295258]\t[3.48665741]\t228\t[3.72322154]\t[3.38083911]\t17    \t[0.09432525]\n",
      "229\t26    \t[0.9]       \t229\t[1.]\t[0.]\t26    \t[0.3]       \t[3.48072135]\t229\t[3.79693294]\t[3.38083911]\t26    \t[0.10153384]\n",
      "230\t18    \t[0.9]       \t230\t[1.]\t[0.]\t18    \t[0.3]       \t[3.46504882]\t230\t[3.73893046]\t[3.37715459]\t18    \t[0.09532683]\n",
      "231\t12    \t[0.83333333]\t231\t[1.]\t[0.]\t12    \t[0.372678]  \t[3.48288414]\t231\t[3.84415483]\t[3.37715459]\t12    \t[0.12400919]\n",
      "232\t18    \t[0.86666667]\t232\t[1.]\t[0.]\t18    \t[0.33993463]\t[3.47979592]\t232\t[3.80216146]\t[3.38083911]\t18    \t[0.11084387]\n",
      "233\t14    \t[0.83333333]\t233\t[1.]\t[0.]\t14    \t[0.372678]  \t[3.47414699]\t233\t[3.78365135]\t[3.38083911]\t14    \t[0.11623466]\n",
      "234\t19    \t[0.83333333]\t234\t[1.]\t[0.]\t19    \t[0.372678]  \t[3.46848438]\t234\t[3.72618222]\t[3.38083911]\t19    \t[0.09464686]\n",
      "235\t17    \t[0.86666667]\t235\t[1.]\t[0.]\t17    \t[0.33993463]\t[3.47164868]\t235\t[3.81610942]\t[3.37715459]\t17    \t[0.10558822]\n",
      "236\t20    \t[0.93333333]\t236\t[1.]\t[0.]\t20    \t[0.24944383]\t[3.46100868]\t236\t[3.87830472]\t[3.35863042]\t20    \t[0.10813555]\n",
      "237\t16    \t[0.96666667]\t237\t[1.]\t[0.]\t16    \t[0.17950549]\t[3.46757278]\t237\t[3.91626668]\t[3.35863042]\t16    \t[0.14195278]\n",
      "238\t11    \t[0.9]       \t238\t[1.]\t[0.]\t11    \t[0.3]       \t[3.43756764]\t238\t[3.76128268]\t[3.35863042]\t11    \t[0.11274275]\n",
      "239\t16    \t[0.86666667]\t239\t[1.]\t[0.]\t16    \t[0.33993463]\t[3.47079446]\t239\t[3.72925496]\t[3.35863042]\t16    \t[0.11384842]\n",
      "240\t23    \t[0.9]       \t240\t[1.]\t[0.]\t23    \t[0.3]       \t[3.467992]  \t240\t[3.6810925] \t[3.35863042]\t23    \t[0.09658802]\n",
      "241\t20    \t[0.96666667]\t241\t[1.]\t[0.]\t20    \t[0.17950549]\t[3.47675017]\t241\t[3.76229024]\t[3.35863042]\t20    \t[0.10518267]\n",
      "242\t15    \t[0.93333333]\t242\t[1.]\t[0.]\t15    \t[0.24944383]\t[3.46001933]\t242\t[3.77675319]\t[3.35863042]\t15    \t[0.11676217]\n",
      "243\t14    \t[0.9]       \t243\t[1.]\t[0.]\t14    \t[0.3]       \t[3.46898085]\t243\t[3.86370921]\t[3.35863042]\t14    \t[0.13217222]\n",
      "244\t14    \t[0.93333333]\t244\t[1.]\t[0.]\t14    \t[0.24944383]\t[3.42340101]\t244\t[3.78048182]\t[3.3576057] \t14    \t[0.10323421]\n",
      "245\t22    \t[0.96666667]\t245\t[1.]\t[0.]\t22    \t[0.17950549]\t[3.4722245] \t245\t[3.81830478]\t[3.3351078] \t22    \t[0.11414991]\n",
      "246\t21    \t[0.86666667]\t246\t[1.]\t[0.]\t21    \t[0.33993463]\t[3.47671698]\t246\t[3.74619603]\t[3.3351078] \t21    \t[0.11307956]\n",
      "247\t18    \t[0.9]       \t247\t[1.]\t[0.]\t18    \t[0.3]       \t[3.47143044]\t247\t[3.78671432]\t[3.3351078] \t18    \t[0.11011442]\n",
      "248\t17    \t[0.86666667]\t248\t[1.]\t[0.]\t17    \t[0.33993463]\t[3.48340635]\t248\t[3.76797652]\t[3.35863042]\t17    \t[0.11600147]\n",
      "249\t16    \t[0.93333333]\t249\t[1.]\t[0.]\t16    \t[0.24944383]\t[3.46946974]\t249\t[3.78587389]\t[3.35863042]\t16    \t[0.11789447]\n",
      "250\t18    \t[0.93333333]\t250\t[1.]\t[0.]\t18    \t[0.24944383]\t[3.44550321]\t250\t[3.73506856]\t[3.35863042]\t18    \t[0.10111106]\n",
      "251\t18    \t[0.83333333]\t251\t[1.]\t[0.]\t18    \t[0.372678]  \t[3.46111621]\t251\t[3.7758317] \t[3.35863042]\t18    \t[0.11618881]\n",
      "252\t20    \t[0.83333333]\t252\t[1.]\t[0.]\t20    \t[0.372678]  \t[3.47194897]\t252\t[3.7764535] \t[3.35863042]\t20    \t[0.11706622]\n",
      "253\t21    \t[0.8]       \t253\t[1.]\t[0.]\t21    \t[0.4]       \t[3.48010987]\t253\t[3.8069818] \t[3.35863042]\t21    \t[0.12028977]\n",
      "254\t23    \t[0.86666667]\t254\t[1.]\t[0.]\t23    \t[0.33993463]\t[3.47468847]\t254\t[3.73487782]\t[3.35863042]\t23    \t[0.11028571]\n",
      "255\t22    \t[0.96666667]\t255\t[1.]\t[0.]\t22    \t[0.17950549]\t[3.50724258]\t255\t[3.80272484]\t[3.35863042]\t22    \t[0.12890069]\n",
      "256\t21    \t[0.73333333]\t256\t[1.]\t[0.]\t21    \t[0.44221664]\t[3.51806943]\t256\t[3.89728093]\t[3.35863042]\t21    \t[0.1553544] \n",
      "257\t19    \t[0.86666667]\t257\t[1.]\t[0.]\t19    \t[0.33993463]\t[3.48483408]\t257\t[3.71211624]\t[3.35863042]\t19    \t[0.10272449]\n",
      "258\t19    \t[0.96666667]\t258\t[1.]\t[0.]\t19    \t[0.17950549]\t[3.49587035]\t258\t[3.84532046]\t[3.35863042]\t19    \t[0.13381464]\n",
      "259\t21    \t[0.83333333]\t259\t[1.]\t[0.]\t21    \t[0.372678]  \t[3.48790847]\t259\t[3.90346599]\t[3.35863042]\t21    \t[0.14547461]\n",
      "260\t17    \t[0.8]       \t260\t[1.]\t[0.]\t17    \t[0.4]       \t[3.48055162]\t260\t[3.85882878]\t[3.35863042]\t17    \t[0.12859564]\n",
      "261\t13    \t[0.9]       \t261\t[1.]\t[0.]\t13    \t[0.3]       \t[3.43442082]\t261\t[3.89828944]\t[3.35863042]\t13    \t[0.11318098]\n",
      "262\t19    \t[0.83333333]\t262\t[1.]\t[0.]\t19    \t[0.372678]  \t[3.44846096]\t262\t[3.85512471]\t[3.35863042]\t19    \t[0.11215797]\n",
      "263\t19    \t[0.96666667]\t263\t[1.]\t[0.]\t19    \t[0.17950549]\t[3.4608153] \t263\t[3.78860784]\t[3.35863042]\t19    \t[0.10917686]\n",
      "264\t19    \t[0.9]       \t264\t[1.]\t[0.]\t19    \t[0.3]       \t[3.4494821] \t264\t[3.79378438]\t[3.35863042]\t19    \t[0.10490819]\n",
      "265\t18    \t[0.9]       \t265\t[1.]\t[0.]\t18    \t[0.3]       \t[3.46197113]\t265\t[3.78245783]\t[3.35863042]\t18    \t[0.11540532]\n",
      "266\t15    \t[1.]        \t266\t[1.]\t[1.]\t15    \t[0.]        \t[3.46400433]\t266\t[3.80716777]\t[3.35863042]\t15    \t[0.11378026]\n",
      "267\t18    \t[1.]        \t267\t[1.]\t[1.]\t18    \t[0.]        \t[3.46458728]\t267\t[3.83859944]\t[3.35863042]\t18    \t[0.13676844]\n",
      "268\t22    \t[0.93333333]\t268\t[1.]\t[0.]\t22    \t[0.24944383]\t[3.49600088]\t268\t[3.75808883]\t[3.35863042]\t22    \t[0.13552173]\n"
     ]
    },
    {
     "name": "stdout",
     "output_type": "stream",
     "text": [
      "269\t17    \t[0.96666667]\t269\t[1.]\t[0.]\t17    \t[0.17950549]\t[3.46011839]\t269\t[3.78614593]\t[3.35863042]\t17    \t[0.11172767]\n",
      "270\t19    \t[0.9]       \t270\t[1.]\t[0.]\t19    \t[0.3]       \t[3.46457605]\t270\t[3.91949534]\t[3.35863042]\t19    \t[0.12895478]\n",
      "271\t14    \t[0.96666667]\t271\t[1.]\t[0.]\t14    \t[0.17950549]\t[3.43289544]\t271\t[3.60095978]\t[3.35863042]\t14    \t[0.07637668]\n",
      "272\t17    \t[0.93333333]\t272\t[1.]\t[0.]\t17    \t[0.24944383]\t[3.42189109]\t272\t[3.61235499]\t[3.34304309]\t17    \t[0.07810367]\n",
      "273\t17    \t[0.86666667]\t273\t[1.]\t[0.]\t17    \t[0.33993463]\t[3.44361374]\t273\t[3.71683812]\t[3.34304309]\t17    \t[0.09453313]\n",
      "274\t21    \t[0.9]       \t274\t[1.]\t[0.]\t21    \t[0.3]       \t[3.45868224]\t274\t[3.75696635]\t[3.34304309]\t21    \t[0.10050268]\n",
      "275\t19    \t[0.93333333]\t275\t[1.]\t[0.]\t19    \t[0.24944383]\t[3.47203391]\t275\t[3.77889943]\t[3.34304309]\t19    \t[0.10665894]\n",
      "276\t20    \t[0.86666667]\t276\t[1.]\t[0.]\t20    \t[0.33993463]\t[3.46397989]\t276\t[3.81094146]\t[3.34304309]\t20    \t[0.12190502]\n",
      "277\t16    \t[0.93333333]\t277\t[1.]\t[0.]\t16    \t[0.24944383]\t[3.46588467]\t277\t[3.9878099] \t[3.34304309]\t16    \t[0.16155478]\n",
      "278\t15    \t[0.96666667]\t278\t[1.]\t[0.]\t15    \t[0.17950549]\t[3.40838777]\t278\t[3.65078735]\t[3.34304309]\t15    \t[0.07701305]\n",
      "279\t19    \t[0.93333333]\t279\t[1.]\t[0.]\t19    \t[0.24944383]\t[3.42758443]\t279\t[3.85571742]\t[3.34304309]\t19    \t[0.10563186]\n",
      "280\t17    \t[0.83333333]\t280\t[1.]\t[0.]\t17    \t[0.372678]  \t[3.46382492]\t280\t[3.93246245]\t[3.34304309]\t17    \t[0.14319704]\n",
      "281\t23    \t[0.93333333]\t281\t[1.]\t[0.]\t23    \t[0.24944383]\t[3.45963582]\t281\t[3.93782234]\t[3.34304309]\t23    \t[0.14138408]\n",
      "282\t24    \t[0.93333333]\t282\t[1.]\t[0.]\t24    \t[0.24944383]\t[3.49388586]\t282\t[3.79184222]\t[3.34304309]\t24    \t[0.14108154]\n",
      "283\t16    \t[0.93333333]\t283\t[1.]\t[0.]\t16    \t[0.24944383]\t[3.43165973]\t283\t[3.60208631]\t[3.34304309]\t16    \t[0.07621189]\n",
      "284\t18    \t[0.8]       \t284\t[1.]\t[0.]\t18    \t[0.4]       \t[3.49340157]\t284\t[3.88791203]\t[3.34304309]\t18    \t[0.12189879]\n",
      "285\t20    \t[0.9]       \t285\t[1.]\t[0.]\t20    \t[0.3]       \t[3.48408699]\t285\t[3.87905049]\t[3.34304309]\t20    \t[0.13979673]\n",
      "286\t18    \t[0.96666667]\t286\t[1.]\t[0.]\t18    \t[0.17950549]\t[3.47621685]\t286\t[3.7818048] \t[3.33555865]\t18    \t[0.13692565]\n",
      "287\t17    \t[0.93333333]\t287\t[1.]\t[0.]\t17    \t[0.24944383]\t[3.50056138]\t287\t[3.83711052]\t[3.33555865]\t17    \t[0.16350412]\n",
      "288\t17    \t[0.9]       \t288\t[1.]\t[0.]\t17    \t[0.3]       \t[3.45980229]\t288\t[3.79463434]\t[3.31681108]\t17    \t[0.13185279]\n",
      "289\t13    \t[0.8]       \t289\t[1.]\t[0.]\t13    \t[0.4]       \t[3.4553182] \t289\t[3.9418931] \t[3.31681108]\t13    \t[0.1476527] \n",
      "290\t14    \t[0.93333333]\t290\t[1.]\t[0.]\t14    \t[0.24944383]\t[3.38186886]\t290\t[3.56648898]\t[3.3160398] \t14    \t[0.06822248]\n",
      "291\t21    \t[0.73333333]\t291\t[1.]\t[0.]\t21    \t[0.44221664]\t[3.43841314]\t291\t[3.83690572]\t[3.3160398] \t21    \t[0.1225568] \n",
      "292\t21    \t[0.86666667]\t292\t[1.]\t[0.]\t21    \t[0.33993463]\t[3.48219565]\t292\t[3.86631083]\t[3.3160398] \t21    \t[0.13026091]\n",
      "293\t22    \t[0.83333333]\t293\t[1.]\t[0.]\t22    \t[0.372678]  \t[3.4994066] \t293\t[3.84173393]\t[3.3160398] \t22    \t[0.13622334]\n",
      "294\t20    \t[0.9]       \t294\t[1.]\t[0.]\t20    \t[0.3]       \t[3.47699211]\t294\t[3.82192469]\t[3.33555865]\t20    \t[0.12041263]\n",
      "295\t19    \t[0.93333333]\t295\t[1.]\t[0.]\t19    \t[0.24944383]\t[3.48677146]\t295\t[3.81684232]\t[3.33555865]\t19    \t[0.13027089]\n",
      "296\t18    \t[0.96666667]\t296\t[1.]\t[0.]\t18    \t[0.17950549]\t[3.48339505]\t296\t[3.92238593]\t[3.33555865]\t18    \t[0.14469484]\n",
      "297\t19    \t[0.96666667]\t297\t[1.]\t[0.]\t19    \t[0.17950549]\t[3.46764977]\t297\t[3.81290126]\t[3.33555865]\t19    \t[0.12667542]\n",
      "298\t20    \t[0.86666667]\t298\t[1.]\t[0.]\t20    \t[0.33993463]\t[3.44273825]\t298\t[4.01996326]\t[3.32589412]\t20    \t[0.13084451]\n",
      "299\t21    \t[0.93333333]\t299\t[1.]\t[0.]\t21    \t[0.24944383]\t[3.4347331] \t299\t[3.74222636]\t[3.33555865]\t21    \t[0.09686571]\n",
      "300\t16    \t[0.86666667]\t300\t[1.]\t[0.]\t16    \t[0.33993463]\t[3.43603536]\t300\t[3.6767776] \t[3.33555865]\t16    \t[0.11039172]\n",
      "301\t21    \t[0.86666667]\t301\t[1.]\t[0.]\t21    \t[0.33993463]\t[3.48208926]\t301\t[3.99724126]\t[3.33555865]\t21    \t[0.17639376]\n",
      "302\t22    \t[0.96666667]\t302\t[1.]\t[0.]\t22    \t[0.17950549]\t[3.48387416]\t302\t[3.95103693]\t[3.33555865]\t22    \t[0.14824206]\n",
      "303\t17    \t[0.93333333]\t303\t[1.]\t[0.]\t17    \t[0.24944383]\t[3.45773483]\t303\t[3.82597423]\t[3.33555865]\t17    \t[0.13626733]\n",
      "304\t15    \t[0.96666667]\t304\t[1.]\t[0.]\t15    \t[0.17950549]\t[3.43999253]\t304\t[3.86196971]\t[3.33555865]\t15    \t[0.1409585] \n",
      "305\t20    \t[0.83333333]\t305\t[1.]\t[0.]\t20    \t[0.372678]  \t[3.4287965] \t305\t[3.76938319]\t[3.33555865]\t20    \t[0.10433582]\n",
      "306\t22    \t[0.9]       \t306\t[1.]\t[0.]\t22    \t[0.3]       \t[3.45886137]\t306\t[3.82190251]\t[3.32811427]\t22    \t[0.13072212]\n",
      "307\t25    \t[0.93333333]\t307\t[1.]\t[0.]\t25    \t[0.24944383]\t[3.47383393]\t307\t[3.75577092]\t[3.33555865]\t25    \t[0.11221623]\n",
      "308\t24    \t[0.86666667]\t308\t[1.]\t[0.]\t24    \t[0.33993463]\t[3.5183574] \t308\t[3.98984194]\t[3.33555865]\t24    \t[0.15695851]\n",
      "309\t16    \t[0.9]       \t309\t[1.]\t[0.]\t16    \t[0.3]       \t[3.4796776] \t309\t[3.79172826]\t[3.33555865]\t16    \t[0.13104774]\n",
      "310\t16    \t[0.96666667]\t310\t[1.]\t[0.]\t16    \t[0.17950549]\t[3.43944305]\t310\t[3.65785003]\t[3.33555865]\t16    \t[0.08353647]\n",
      "311\t16    \t[0.76666667]\t311\t[1.]\t[0.]\t16    \t[0.42295258]\t[3.45450625]\t311\t[3.81044078]\t[3.33555865]\t16    \t[0.11559467]\n",
      "312\t16    \t[0.73333333]\t312\t[1.]\t[0.]\t16    \t[0.44221664]\t[3.46395229]\t312\t[3.83198094]\t[3.33555865]\t16    \t[0.14507188]\n",
      "313\t12    \t[0.9]       \t313\t[1.]\t[0.]\t12    \t[0.3]       \t[3.40567655]\t313\t[3.68880916]\t[3.33555865]\t12    \t[0.09520886]\n",
      "314\t14    \t[0.86666667]\t314\t[1.]\t[0.]\t14    \t[0.33993463]\t[3.44930878]\t314\t[3.87064052]\t[3.33555865]\t14    \t[0.15501005]\n",
      "315\t19    \t[0.93333333]\t315\t[1.]\t[0.]\t19    \t[0.24944383]\t[3.45480159]\t315\t[3.87493968]\t[3.33555865]\t19    \t[0.15741741]\n",
      "316\t16    \t[0.96666667]\t316\t[1.]\t[0.]\t16    \t[0.17950549]\t[3.38589851]\t316\t[3.62921834]\t[3.33555865]\t16    \t[0.08190317]\n",
      "317\t16    \t[0.93333333]\t317\t[1.]\t[0.]\t16    \t[0.24944383]\t[3.4234613] \t317\t[3.80659413]\t[3.33555865]\t16    \t[0.1244015] \n",
      "318\t19    \t[0.9]       \t318\t[1.]\t[0.]\t19    \t[0.3]       \t[3.44508281]\t318\t[3.9938314] \t[3.32006431]\t19    \t[0.14374461]\n",
      "319\t19    \t[0.83333333]\t319\t[1.]\t[0.]\t19    \t[0.372678]  \t[3.45793951]\t319\t[3.84105086]\t[3.32006431]\t19    \t[0.1405719] \n",
      "320\t20    \t[0.73333333]\t320\t[1.]\t[0.]\t20    \t[0.44221664]\t[3.48523966]\t320\t[3.82853389]\t[3.32006431]\t20    \t[0.13684709]\n",
      "321\t14    \t[0.83333333]\t321\t[1.]\t[0.]\t14    \t[0.372678]  \t[3.41922012]\t321\t[3.69157028]\t[3.32006431]\t14    \t[0.09080206]\n",
      "322\t19    \t[0.8]       \t322\t[1.]\t[0.]\t19    \t[0.4]       \t[3.45252804]\t322\t[3.62800837]\t[3.32006431]\t19    \t[0.09580742]\n",
      "323\t17    \t[0.8]       \t323\t[1.]\t[0.]\t17    \t[0.4]       \t[3.43780059]\t323\t[3.68634582]\t[3.32006431]\t17    \t[0.11061251]\n",
      "324\t18    \t[0.83333333]\t324\t[1.]\t[0.]\t18    \t[0.372678]  \t[3.43534016]\t324\t[3.67266154]\t[3.32006431]\t18    \t[0.10333266]\n",
      "325\t14    \t[0.9]       \t325\t[1.]\t[0.]\t14    \t[0.3]       \t[3.44310715]\t325\t[3.70700884]\t[3.32006431]\t14    \t[0.10164559]\n",
      "326\t17    \t[0.8]       \t326\t[1.]\t[0.]\t17    \t[0.4]       \t[3.45073637]\t326\t[3.82293105]\t[3.32006431]\t17    \t[0.1354119] \n",
      "327\t17    \t[0.6]       \t327\t[1.]\t[0.]\t17    \t[0.48989795]\t[3.44544357]\t327\t[3.81526875]\t[3.32006431]\t17    \t[0.12864007]\n",
      "328\t17    \t[0.73333333]\t328\t[1.]\t[0.]\t17    \t[0.44221664]\t[3.4243449] \t328\t[3.70042968]\t[3.32006431]\t17    \t[0.09774104]\n",
      "329\t18    \t[0.83333333]\t329\t[1.]\t[0.]\t18    \t[0.372678]  \t[3.39815952]\t329\t[3.67215037]\t[3.32006431]\t18    \t[0.09458987]\n",
      "330\t18    \t[0.76666667]\t330\t[1.]\t[0.]\t18    \t[0.42295258]\t[3.40835469]\t330\t[3.82599235]\t[3.32006431]\t18    \t[0.11282209]\n",
      "331\t18    \t[0.7]       \t331\t[1.]\t[0.]\t18    \t[0.45825757]\t[3.43256533]\t331\t[3.76914144]\t[3.32006431]\t18    \t[0.12198645]\n",
      "332\t21    \t[0.76666667]\t332\t[1.]\t[0.]\t21    \t[0.42295258]\t[3.42613868]\t332\t[3.715554]  \t[3.32006431]\t21    \t[0.11802921]\n",
      "333\t17    \t[0.8]       \t333\t[1.]\t[0.]\t17    \t[0.4]       \t[3.4409029] \t333\t[3.86216521]\t[3.32006431]\t17    \t[0.14946532]\n",
      "334\t17    \t[0.83333333]\t334\t[1.]\t[0.]\t17    \t[0.372678]  \t[3.38983321]\t334\t[3.6093452] \t[3.32006431]\t17    \t[0.08880271]\n",
      "335\t18    \t[0.8]       \t335\t[1.]\t[0.]\t18    \t[0.4]       \t[3.37404686]\t335\t[3.61682057]\t[3.32006431]\t18    \t[0.086912]  \n",
      "336\t18    \t[0.73333333]\t336\t[1.]\t[0.]\t18    \t[0.44221664]\t[3.40354685]\t336\t[3.65582776]\t[3.31974077]\t18    \t[0.09666559]\n"
     ]
    },
    {
     "name": "stdout",
     "output_type": "stream",
     "text": [
      "337\t17    \t[0.8]       \t337\t[1.]\t[0.]\t17    \t[0.4]       \t[3.38342505]\t337\t[3.70317054]\t[3.3062191] \t17    \t[0.0862493] \n",
      "338\t17    \t[0.6]       \t338\t[1.]\t[0.]\t17    \t[0.48989795]\t[3.42696023]\t338\t[3.62211537]\t[3.3062191] \t17    \t[0.10896713]\n",
      "339\t18    \t[0.73333333]\t339\t[1.]\t[0.]\t18    \t[0.44221664]\t[3.44137135]\t339\t[3.68803215]\t[3.3062191] \t18    \t[0.11427994]\n",
      "340\t14    \t[0.8]       \t340\t[1.]\t[0.]\t14    \t[0.4]       \t[3.42855132]\t340\t[3.8211534] \t[3.3062191] \t14    \t[0.12954175]\n",
      "341\t17    \t[0.76666667]\t341\t[1.]\t[0.]\t17    \t[0.42295258]\t[3.41685561]\t341\t[3.74564052]\t[3.3062191] \t17    \t[0.10379997]\n",
      "342\t18    \t[0.93333333]\t342\t[1.]\t[0.]\t18    \t[0.24944383]\t[3.40279369]\t342\t[3.85161209]\t[3.29070663]\t18    \t[0.13035208]\n",
      "343\t18    \t[0.93333333]\t343\t[1.]\t[0.]\t18    \t[0.24944383]\t[3.39879013]\t343\t[3.84708667]\t[3.29070663]\t18    \t[0.12812121]\n",
      "344\t17    \t[0.96666667]\t344\t[1.]\t[0.]\t17    \t[0.17950549]\t[3.3623821] \t344\t[3.51936579]\t[3.2843945] \t17    \t[0.07606082]\n",
      "345\t22    \t[0.93333333]\t345\t[1.]\t[0.]\t22    \t[0.24944383]\t[3.36622294]\t345\t[3.60355449]\t[3.2843945] \t22    \t[0.08902788]\n",
      "346\t17    \t[0.86666667]\t346\t[1.]\t[0.]\t17    \t[0.33993463]\t[3.34736574]\t346\t[3.64090967]\t[3.25489855]\t17    \t[0.09419229]\n",
      "347\t18    \t[0.9]       \t347\t[1.]\t[0.]\t18    \t[0.3]       \t[3.36485539]\t347\t[3.70491719]\t[3.25489855]\t18    \t[0.11876257]\n",
      "348\t14    \t[0.93333333]\t348\t[1.]\t[0.]\t14    \t[0.24944383]\t[3.35351386]\t348\t[3.78109288]\t[3.25489855]\t14    \t[0.11378509]\n",
      "349\t18    \t[0.9]       \t349\t[1.]\t[0.]\t18    \t[0.3]       \t[3.36602906]\t349\t[3.71137547]\t[3.25489855]\t18    \t[0.11246148]\n",
      "350\t18    \t[0.9]       \t350\t[1.]\t[0.]\t18    \t[0.3]       \t[3.38456814]\t350\t[3.75292897]\t[3.24215055]\t18    \t[0.13769264]\n",
      "351\t16    \t[0.9]       \t351\t[1.]\t[0.]\t16    \t[0.3]       \t[3.371727]  \t351\t[3.7567966] \t[3.24215055]\t16    \t[0.14517382]\n",
      "352\t18    \t[0.93333333]\t352\t[1.]\t[0.]\t18    \t[0.24944383]\t[3.36264551]\t352\t[3.70036769]\t[3.24215055]\t18    \t[0.11683283]\n",
      "353\t21    \t[0.9]       \t353\t[1.]\t[0.]\t21    \t[0.3]       \t[3.37920401]\t353\t[3.76316571]\t[3.24215055]\t21    \t[0.1402287] \n",
      "354\t17    \t[0.96666667]\t354\t[1.]\t[0.]\t17    \t[0.17950549]\t[3.3492788] \t354\t[3.62315226]\t[3.23572421]\t17    \t[0.12102387]\n",
      "355\t18    \t[0.86666667]\t355\t[1.]\t[0.]\t18    \t[0.33993463]\t[3.34805544]\t355\t[3.61056519]\t[3.24215055]\t18    \t[0.10771649]\n",
      "356\t20    \t[0.9]       \t356\t[1.]\t[0.]\t20    \t[0.3]       \t[3.33758759]\t356\t[3.74287868]\t[3.24215055]\t20    \t[0.10887797]\n",
      "357\t17    \t[0.9]       \t357\t[1.]\t[0.]\t17    \t[0.3]       \t[3.35482166]\t357\t[3.63182998]\t[3.24215055]\t17    \t[0.11183162]\n",
      "358\t18    \t[0.96666667]\t358\t[1.]\t[0.]\t18    \t[0.17950549]\t[3.35714773]\t358\t[3.77536702]\t[3.24215055]\t18    \t[0.14618281]\n",
      "359\t12    \t[0.96666667]\t359\t[1.]\t[0.]\t12    \t[0.17950549]\t[3.34427691]\t359\t[3.66324544]\t[3.24215055]\t12    \t[0.12880295]\n",
      "360\t21    \t[0.96666667]\t360\t[1.]\t[0.]\t21    \t[0.17950549]\t[3.37235289]\t360\t[3.81271243]\t[3.24215055]\t21    \t[0.1510588] \n",
      "361\t20    \t[0.93333333]\t361\t[1.]\t[0.]\t20    \t[0.24944383]\t[3.33574038]\t361\t[3.7953496] \t[3.24215055]\t20    \t[0.13549196]\n",
      "362\t15    \t[0.96666667]\t362\t[1.]\t[0.]\t15    \t[0.17950549]\t[3.30388218]\t362\t[3.61327863]\t[3.24215055]\t15    \t[0.0934618] \n",
      "363\t23    \t[0.9]       \t363\t[1.]\t[0.]\t23    \t[0.3]       \t[3.37999446]\t363\t[3.8547852] \t[3.24215055]\t23    \t[0.15165481]\n",
      "364\t13    \t[0.96666667]\t364\t[1.]\t[0.]\t13    \t[0.17950549]\t[3.34406554]\t364\t[3.68481302]\t[3.24215055]\t13    \t[0.12933936]\n",
      "365\t17    \t[0.93333333]\t365\t[1.]\t[0.]\t17    \t[0.24944383]\t[3.33236148]\t365\t[3.65078592]\t[3.24215055]\t17    \t[0.11421255]\n",
      "366\t18    \t[0.96666667]\t366\t[1.]\t[0.]\t18    \t[0.17950549]\t[3.37393611]\t366\t[3.94080973]\t[3.24215055]\t18    \t[0.17593421]\n",
      "367\t16    \t[0.93333333]\t367\t[1.]\t[0.]\t16    \t[0.24944383]\t[3.32279085]\t367\t[3.51185298]\t[3.24215055]\t16    \t[0.08519145]\n",
      "368\t16    \t[0.9]       \t368\t[1.]\t[0.]\t16    \t[0.3]       \t[3.32545396]\t368\t[3.72275519]\t[3.24215055]\t16    \t[0.10947393]\n",
      "369\t15    \t[0.96666667]\t369\t[1.]\t[0.]\t15    \t[0.17950549]\t[3.31701261]\t369\t[3.53016591]\t[3.23647571]\t15    \t[0.09768423]\n",
      "370\t20    \t[0.96666667]\t370\t[1.]\t[0.]\t20    \t[0.17950549]\t[3.34989392]\t370\t[3.71897006]\t[3.24215055]\t20    \t[0.12245024]\n",
      "371\t17    \t[0.93333333]\t371\t[1.]\t[0.]\t17    \t[0.24944383]\t[3.34898408]\t371\t[3.60523295]\t[3.24215055]\t17    \t[0.11202462]\n",
      "372\t17    \t[0.93333333]\t372\t[1.]\t[0.]\t17    \t[0.24944383]\t[3.35259791]\t372\t[3.68351603]\t[3.24215055]\t17    \t[0.12659577]\n",
      "373\t18    \t[0.86666667]\t373\t[1.]\t[0.]\t18    \t[0.33993463]\t[3.36350838]\t373\t[3.62624359]\t[3.24215055]\t18    \t[0.11065983]\n",
      "374\t15    \t[0.86666667]\t374\t[1.]\t[0.]\t15    \t[0.33993463]\t[3.37963843]\t374\t[3.74726987]\t[3.24215055]\t15    \t[0.15003534]\n",
      "375\t12    \t[0.9]       \t375\t[1.]\t[0.]\t12    \t[0.3]       \t[3.33601222]\t375\t[3.78556991]\t[3.24215055]\t12    \t[0.12002033]\n",
      "376\t23    \t[0.86666667]\t376\t[1.]\t[0.]\t23    \t[0.33993463]\t[3.35777218]\t376\t[3.774575]  \t[3.24215055]\t23    \t[0.1309257] \n",
      "377\t20    \t[0.86666667]\t377\t[1.]\t[0.]\t20    \t[0.33993463]\t[3.37279879]\t377\t[3.74392962]\t[3.24215055]\t20    \t[0.12025794]\n",
      "378\t21    \t[0.9]       \t378\t[1.]\t[0.]\t21    \t[0.3]       \t[3.36601142]\t378\t[3.80019164]\t[3.24215055]\t21    \t[0.14678882]\n",
      "379\t23    \t[0.86666667]\t379\t[1.]\t[0.]\t23    \t[0.33993463]\t[3.36410237]\t379\t[3.59182143]\t[3.24215055]\t23    \t[0.11947955]\n",
      "380\t17    \t[0.93333333]\t380\t[1.]\t[0.]\t17    \t[0.24944383]\t[3.34410544]\t380\t[3.74523854]\t[3.24215055]\t17    \t[0.13201475]\n",
      "381\t21    \t[0.96666667]\t381\t[1.]\t[0.]\t21    \t[0.17950549]\t[3.35527209]\t381\t[3.8106668] \t[3.24215055]\t21    \t[0.14018639]\n",
      "382\t17    \t[0.96666667]\t382\t[1.]\t[0.]\t17    \t[0.17950549]\t[3.3448282] \t382\t[3.80736923]\t[3.24215055]\t17    \t[0.14179852]\n",
      "383\t22    \t[0.93333333]\t383\t[1.]\t[0.]\t22    \t[0.24944383]\t[3.33123076]\t383\t[3.53346944]\t[3.24215055]\t22    \t[0.08667478]\n",
      "384\t12    \t[0.9]       \t384\t[1.]\t[0.]\t12    \t[0.3]       \t[3.34391617]\t384\t[3.84449959]\t[3.24215055]\t12    \t[0.1214137] \n",
      "385\t20    \t[0.9]       \t385\t[1.]\t[0.]\t20    \t[0.3]       \t[3.38335763]\t385\t[3.75427556]\t[3.24215055]\t20    \t[0.1405296] \n",
      "386\t22    \t[0.93333333]\t386\t[1.]\t[0.]\t22    \t[0.24944383]\t[3.41042741]\t386\t[3.77662349]\t[3.24215055]\t22    \t[0.1532701] \n",
      "387\t17    \t[0.96666667]\t387\t[1.]\t[0.]\t17    \t[0.17950549]\t[3.37714531]\t387\t[3.73801589]\t[3.24215055]\t17    \t[0.12678398]\n",
      "388\t14    \t[1.]        \t388\t[1.]\t[1.]\t14    \t[0.]        \t[3.34176681]\t388\t[3.66274881]\t[3.24215055]\t14    \t[0.10498901]\n",
      "389\t15    \t[0.93333333]\t389\t[1.]\t[0.]\t15    \t[0.24944383]\t[3.33873545]\t389\t[3.77247167]\t[3.24215055]\t15    \t[0.13852485]\n",
      "390\t13    \t[0.96666667]\t390\t[1.]\t[0.]\t13    \t[0.17950549]\t[3.31872906]\t390\t[3.80732226]\t[3.24215055]\t13    \t[0.12227836]\n",
      "391\t21    \t[0.96666667]\t391\t[1.]\t[0.]\t21    \t[0.17950549]\t[3.33921679]\t391\t[3.60209513]\t[3.24215055]\t21    \t[0.11399187]\n",
      "392\t19    \t[0.86666667]\t392\t[1.]\t[0.]\t19    \t[0.33993463]\t[3.34707552]\t392\t[3.79488683]\t[3.24215055]\t19    \t[0.15493065]\n",
      "393\t16    \t[0.93333333]\t393\t[1.]\t[0.]\t16    \t[0.24944383]\t[3.32861927]\t393\t[3.62449765]\t[3.24215055]\t16    \t[0.10293449]\n",
      "394\t13    \t[0.93333333]\t394\t[1.]\t[0.]\t13    \t[0.24944383]\t[3.3086098] \t394\t[3.64398122]\t[3.24215055]\t13    \t[0.10878997]\n",
      "395\t17    \t[0.86666667]\t395\t[1.]\t[0.]\t17    \t[0.33993463]\t[3.34657966]\t395\t[3.98237991]\t[3.24215055]\t17    \t[0.15845883]\n",
      "396\t20    \t[0.96666667]\t396\t[1.]\t[0.]\t20    \t[0.17950549]\t[3.33859463]\t396\t[3.61385894]\t[3.24215055]\t20    \t[0.09503902]\n",
      "397\t18    \t[0.9]       \t397\t[1.]\t[0.]\t18    \t[0.3]       \t[3.35117567]\t397\t[3.71504521]\t[3.24215055]\t18    \t[0.10730865]\n",
      "398\t21    \t[0.93333333]\t398\t[1.]\t[0.]\t21    \t[0.24944383]\t[3.35032334]\t398\t[3.71573567]\t[3.24215055]\t21    \t[0.11295437]\n",
      "399\t20    \t[1.]        \t399\t[1.]\t[1.]\t20    \t[0.]        \t[3.33847105]\t399\t[3.65964818]\t[3.24215055]\t20    \t[0.11407409]\n",
      "400\t18    \t[0.93333333]\t400\t[1.]\t[0.]\t18    \t[0.24944383]\t[3.36454264]\t400\t[3.74309611]\t[3.24215055]\t18    \t[0.14838492]\n",
      "401\t14    \t[0.93333333]\t401\t[1.]\t[0.]\t14    \t[0.24944383]\t[3.31780328]\t401\t[3.6743238] \t[3.24215055]\t14    \t[0.10634102]\n",
      "402\t16    \t[0.93333333]\t402\t[1.]\t[0.]\t16    \t[0.24944383]\t[3.36261543]\t402\t[3.89209533]\t[3.24215055]\t16    \t[0.18748906]\n",
      "403\t23    \t[1.]        \t403\t[1.]\t[1.]\t23    \t[0.]        \t[3.35927291]\t403\t[3.75677943]\t[3.24215055]\t23    \t[0.14492136]\n",
      "404\t18    \t[0.93333333]\t404\t[1.]\t[0.]\t18    \t[0.24944383]\t[3.33623812]\t404\t[3.79406095]\t[3.24215055]\t18    \t[0.12978862]\n"
     ]
    },
    {
     "name": "stdout",
     "output_type": "stream",
     "text": [
      "405\t16    \t[0.96666667]\t405\t[1.]\t[0.]\t16    \t[0.17950549]\t[3.36525132]\t405\t[3.80351186]\t[3.24215055]\t16    \t[0.1595347] \n",
      "406\t18    \t[0.96666667]\t406\t[1.]\t[0.]\t18    \t[0.17950549]\t[3.37119809]\t406\t[3.78215337]\t[3.24215055]\t18    \t[0.15154355]\n",
      "407\t20    \t[0.9]       \t407\t[1.]\t[0.]\t20    \t[0.3]       \t[3.36811693]\t407\t[3.83637667]\t[3.24215055]\t20    \t[0.13711197]\n",
      "408\t17    \t[0.96666667]\t408\t[1.]\t[0.]\t17    \t[0.17950549]\t[3.33107742]\t408\t[3.6387589] \t[3.24215055]\t17    \t[0.12114409]\n",
      "409\t20    \t[0.93333333]\t409\t[1.]\t[0.]\t20    \t[0.24944383]\t[3.33722598]\t409\t[3.63572669]\t[3.24215055]\t20    \t[0.11667304]\n",
      "410\t20    \t[0.96666667]\t410\t[1.]\t[0.]\t20    \t[0.17950549]\t[3.36030186]\t410\t[3.68299842]\t[3.24215055]\t20    \t[0.13405578]\n",
      "411\t17    \t[0.8]       \t411\t[1.]\t[0.]\t17    \t[0.4]       \t[3.36790223]\t411\t[3.82396555]\t[3.23446345]\t17    \t[0.14004443]\n",
      "412\t16    \t[0.86666667]\t412\t[1.]\t[0.]\t16    \t[0.33993463]\t[3.35052485]\t412\t[3.77340436]\t[3.23446345]\t16    \t[0.15053231]\n",
      "413\t21    \t[1.]        \t413\t[1.]\t[1.]\t21    \t[0.]        \t[3.3374708] \t413\t[3.67508483]\t[3.23446345]\t21    \t[0.12488511]\n",
      "414\t23    \t[0.96666667]\t414\t[1.]\t[0.]\t23    \t[0.17950549]\t[3.32946359]\t414\t[3.47511077]\t[3.23446345]\t23    \t[0.07094906]\n",
      "415\t12    \t[0.93333333]\t415\t[1.]\t[0.]\t12    \t[0.24944383]\t[3.32239513]\t415\t[3.68102145]\t[3.23446345]\t12    \t[0.1249655] \n",
      "416\t17    \t[0.96666667]\t416\t[1.]\t[0.]\t17    \t[0.17950549]\t[3.31496158]\t416\t[3.55533576]\t[3.23446345]\t17    \t[0.0964324] \n",
      "417\t16    \t[1.]        \t417\t[1.]\t[1.]\t16    \t[0.]        \t[3.33106151]\t417\t[3.72596288]\t[3.23446345]\t16    \t[0.12051855]\n",
      "418\t13    \t[1.]        \t418\t[1.]\t[1.]\t13    \t[0.]        \t[3.29334295]\t418\t[3.45889401]\t[3.23446345]\t13    \t[0.06809973]\n",
      "419\t17    \t[0.96666667]\t419\t[1.]\t[0.]\t17    \t[0.17950549]\t[3.31553646]\t419\t[4.00982761]\t[3.23446345]\t17    \t[0.1485693] \n",
      "420\t9     \t[0.96666667]\t420\t[1.]\t[0.]\t9     \t[0.17950549]\t[3.3100474] \t420\t[3.79409647]\t[3.23446345]\t9     \t[0.12334259]\n",
      "421\t21    \t[0.93333333]\t421\t[1.]\t[0.]\t21    \t[0.24944383]\t[3.35983501]\t421\t[3.75195765]\t[3.23446345]\t21    \t[0.14877353]\n",
      "422\t21    \t[1.]        \t422\t[1.]\t[1.]\t21    \t[0.]        \t[3.34413555]\t422\t[3.53721023]\t[3.23446345]\t21    \t[0.09405346]\n",
      "423\t17    \t[0.96666667]\t423\t[1.]\t[0.]\t17    \t[0.17950549]\t[3.35328375]\t423\t[3.73946834]\t[3.23446345]\t17    \t[0.12804094]\n",
      "424\t19    \t[0.96666667]\t424\t[1.]\t[0.]\t19    \t[0.17950549]\t[3.36112302]\t424\t[3.73057628]\t[3.23446345]\t19    \t[0.12716308]\n",
      "425\t17    \t[1.]        \t425\t[1.]\t[1.]\t17    \t[0.]        \t[3.35587407]\t425\t[3.63979578]\t[3.23446345]\t17    \t[0.10351242]\n",
      "426\t22    \t[0.96666667]\t426\t[1.]\t[0.]\t22    \t[0.17950549]\t[3.33103538]\t426\t[3.60153127]\t[3.23446345]\t22    \t[0.10589575]\n",
      "427\t19    \t[1.]        \t427\t[1.]\t[1.]\t19    \t[0.]        \t[3.31951244]\t427\t[3.6017282] \t[3.23030925]\t19    \t[0.09937687]\n",
      "428\t19    \t[0.86666667]\t428\t[1.]\t[0.]\t19    \t[0.33993463]\t[3.33616047]\t428\t[3.76195502]\t[3.23030925]\t19    \t[0.12982494]\n",
      "429\t16    \t[0.96666667]\t429\t[1.]\t[0.]\t16    \t[0.17950549]\t[3.3316387] \t429\t[3.65249228]\t[3.23030925]\t16    \t[0.12229455]\n",
      "430\t19    \t[1.]        \t430\t[1.]\t[1.]\t19    \t[0.]        \t[3.32768534]\t430\t[3.70970321]\t[3.19994545]\t19    \t[0.1186411] \n",
      "431\t21    \t[0.96666667]\t431\t[1.]\t[0.]\t21    \t[0.17950549]\t[3.32183645]\t431\t[3.606282]  \t[3.19994545]\t21    \t[0.1039927] \n",
      "432\t15    \t[0.93333333]\t432\t[1.]\t[0.]\t15    \t[0.24944383]\t[3.33421982]\t432\t[3.59162974]\t[3.19994545]\t15    \t[0.13130325]\n",
      "433\t14    \t[1.]        \t433\t[1.]\t[1.]\t14    \t[0.]        \t[3.29580664]\t433\t[3.50535131]\t[3.19007921]\t14    \t[0.09630599]\n",
      "434\t15    \t[0.96666667]\t434\t[1.]\t[0.]\t15    \t[0.17950549]\t[3.31851521]\t434\t[3.60922098]\t[3.19007921]\t15    \t[0.12863854]\n",
      "435\t21    \t[0.93333333]\t435\t[1.]\t[0.]\t21    \t[0.24944383]\t[3.32483181]\t435\t[3.74620748]\t[3.15542531]\t21    \t[0.13301643]\n",
      "436\t18    \t[0.93333333]\t436\t[1.]\t[0.]\t18    \t[0.24944383]\t[3.29119511]\t436\t[3.53234291]\t[3.15542531]\t18    \t[0.09058478]\n",
      "437\t13    \t[0.96666667]\t437\t[1.]\t[0.]\t13    \t[0.17950549]\t[3.28168374]\t437\t[3.67604423]\t[3.15542531]\t13    \t[0.13616945]\n",
      "438\t20    \t[1.]        \t438\t[1.]\t[1.]\t20    \t[0.]        \t[3.26201034]\t438\t[3.43032908]\t[3.15542531]\t20    \t[0.09144211]\n",
      "439\t17    \t[0.96666667]\t439\t[1.]\t[0.]\t17    \t[0.17950549]\t[3.27809854]\t439\t[3.66584897]\t[3.15542531]\t17    \t[0.13441468]\n",
      "440\t13    \t[1.]        \t440\t[1.]\t[1.]\t13    \t[0.]        \t[3.25350748]\t440\t[3.6919229] \t[3.15542531]\t13    \t[0.13061724]\n",
      "441\t19    \t[1.]        \t441\t[1.]\t[1.]\t19    \t[0.]        \t[3.29012816]\t441\t[3.64839721]\t[3.15542531]\t19    \t[0.14826984]\n",
      "442\t18    \t[0.93333333]\t442\t[1.]\t[0.]\t18    \t[0.24944383]\t[3.25893121]\t442\t[3.49901462]\t[3.15542531]\t18    \t[0.09928174]\n",
      "443\t22    \t[0.96666667]\t443\t[1.]\t[0.]\t22    \t[0.17950549]\t[3.28321486]\t443\t[3.74182868]\t[3.15542531]\t22    \t[0.14522688]\n",
      "444\t16    \t[1.]        \t444\t[1.]\t[1.]\t16    \t[0.]        \t[3.27773523]\t444\t[3.67461467]\t[3.15542531]\t16    \t[0.13319042]\n",
      "445\t16    \t[1.]        \t445\t[1.]\t[1.]\t16    \t[0.]        \t[3.24778306]\t445\t[3.57936645]\t[3.15542531]\t16    \t[0.12010892]\n",
      "446\t16    \t[0.96666667]\t446\t[1.]\t[0.]\t16    \t[0.17950549]\t[3.23962727]\t446\t[3.54981399]\t[3.15542531]\t16    \t[0.107812]  \n",
      "447\t19    \t[0.93333333]\t447\t[1.]\t[0.]\t19    \t[0.24944383]\t[3.2336518] \t447\t[3.57100224]\t[3.15542531]\t19    \t[0.11615376]\n",
      "448\t17    \t[1.]        \t448\t[1.]\t[1.]\t17    \t[0.]        \t[3.23333522]\t448\t[3.41249156]\t[3.15542531]\t17    \t[0.0932189] \n",
      "449\t13    \t[0.93333333]\t449\t[1.]\t[0.]\t13    \t[0.24944383]\t[3.23545604]\t449\t[3.4969399] \t[3.15542531]\t13    \t[0.11437197]\n",
      "450\t13    \t[1.]        \t450\t[1.]\t[1.]\t13    \t[0.]        \t[3.21352301]\t450\t[3.61782074]\t[3.15542531]\t13    \t[0.10250978]\n",
      "451\t17    \t[1.]        \t451\t[1.]\t[1.]\t17    \t[0.]        \t[3.25757727]\t451\t[3.54472899]\t[3.15542531]\t17    \t[0.11633417]\n",
      "452\t17    \t[0.96666667]\t452\t[1.]\t[0.]\t17    \t[0.17950549]\t[3.23815503]\t452\t[3.53129435]\t[3.15542531]\t17    \t[0.10609655]\n",
      "453\t19    \t[0.96666667]\t453\t[1.]\t[0.]\t19    \t[0.17950549]\t[3.28792946]\t453\t[3.91569138]\t[3.15542531]\t19    \t[0.16995127]\n",
      "454\t20    \t[0.96666667]\t454\t[1.]\t[0.]\t20    \t[0.17950549]\t[3.28097348]\t454\t[3.57920384]\t[3.15542531]\t20    \t[0.14154198]\n",
      "455\t17    \t[1.]        \t455\t[1.]\t[1.]\t17    \t[0.]        \t[3.24804444]\t455\t[3.55143666]\t[3.15542531]\t17    \t[0.12114912]\n",
      "456\t16    \t[0.96666667]\t456\t[1.]\t[0.]\t16    \t[0.17950549]\t[3.25374792]\t456\t[3.70711589]\t[3.15542531]\t16    \t[0.13377747]\n",
      "457\t16    \t[0.96666667]\t457\t[1.]\t[0.]\t16    \t[0.17950549]\t[3.24060442]\t457\t[3.74868083]\t[3.15542531]\t16    \t[0.13240048]\n",
      "458\t14    \t[1.]        \t458\t[1.]\t[1.]\t14    \t[0.]        \t[3.24966246]\t458\t[3.56691527]\t[3.15542531]\t14    \t[0.11700116]\n",
      "459\t20    \t[1.]        \t459\t[1.]\t[1.]\t20    \t[0.]        \t[3.30059041]\t459\t[3.74580455]\t[3.15542531]\t20    \t[0.15314717]\n",
      "460\t18    \t[1.]        \t460\t[1.]\t[1.]\t18    \t[0.]        \t[3.25170672]\t460\t[3.55247736]\t[3.15542531]\t18    \t[0.11085626]\n",
      "461\t23    \t[0.9]       \t461\t[1.]\t[0.]\t23    \t[0.3]       \t[3.29246838]\t461\t[3.60053039]\t[3.15542531]\t23    \t[0.13537767]\n",
      "462\t14    \t[0.93333333]\t462\t[1.]\t[0.]\t14    \t[0.24944383]\t[3.26340775]\t462\t[3.52137065]\t[3.1484158] \t14    \t[0.10933905]\n",
      "463\t18    \t[1.]        \t463\t[1.]\t[1.]\t18    \t[0.]        \t[3.26098468]\t463\t[3.63545775]\t[3.1484158] \t18    \t[0.12998983]\n",
      "464\t20    \t[0.96666667]\t464\t[1.]\t[0.]\t20    \t[0.17950549]\t[3.2453326] \t464\t[3.42701793]\t[3.15542531]\t20    \t[0.09047061]\n",
      "465\t22    \t[0.96666667]\t465\t[1.]\t[0.]\t22    \t[0.17950549]\t[3.31024106]\t465\t[3.6875298] \t[3.15542531]\t22    \t[0.15118626]\n",
      "466\t15    \t[0.93333333]\t466\t[1.]\t[0.]\t15    \t[0.24944383]\t[3.24886923]\t466\t[3.71791244]\t[3.15542531]\t15    \t[0.12796076]\n",
      "467\t15    \t[0.96666667]\t467\t[1.]\t[0.]\t15    \t[0.17950549]\t[3.25185203]\t467\t[3.74139094]\t[3.15542531]\t15    \t[0.14200898]\n",
      "468\t12    \t[0.96666667]\t468\t[1.]\t[0.]\t12    \t[0.17950549]\t[3.22770685]\t468\t[3.47338176]\t[3.15542531]\t12    \t[0.10605409]\n",
      "469\t17    \t[0.96666667]\t469\t[1.]\t[0.]\t17    \t[0.17950549]\t[3.25807664]\t469\t[3.64414668]\t[3.15542531]\t17    \t[0.14962282]\n",
      "470\t18    \t[1.]        \t470\t[1.]\t[1.]\t18    \t[0.]        \t[3.26338887]\t470\t[3.82442784]\t[3.15542531]\t18    \t[0.13674915]\n",
      "471\t17    \t[0.96666667]\t471\t[1.]\t[0.]\t17    \t[0.17950549]\t[3.27411669]\t471\t[3.67498565]\t[3.15542531]\t17    \t[0.12695254]\n",
      "472\t17    \t[1.]        \t472\t[1.]\t[1.]\t17    \t[0.]        \t[3.23654596]\t472\t[3.43811417]\t[3.15542531]\t17    \t[0.08672332]\n"
     ]
    },
    {
     "name": "stdout",
     "output_type": "stream",
     "text": [
      "473\t16    \t[1.]        \t473\t[1.]\t[1.]\t16    \t[0.]        \t[3.23288213]\t473\t[3.5409081] \t[3.15542531]\t16    \t[0.0900087] \n",
      "474\t15    \t[1.]        \t474\t[1.]\t[1.]\t15    \t[0.]        \t[3.23173573]\t474\t[3.66799212]\t[3.15542531]\t15    \t[0.11401573]\n",
      "475\t22    \t[0.96666667]\t475\t[1.]\t[0.]\t22    \t[0.17950549]\t[3.28217292]\t475\t[3.56957102]\t[3.15542531]\t22    \t[0.12247067]\n",
      "476\t19    \t[1.]        \t476\t[1.]\t[1.]\t19    \t[0.]        \t[3.30315816]\t476\t[3.74604082]\t[3.15542531]\t19    \t[0.14527131]\n",
      "477\t17    \t[1.]        \t477\t[1.]\t[1.]\t17    \t[0.]        \t[3.30151367]\t477\t[3.67419052]\t[3.15542531]\t17    \t[0.13775832]\n",
      "478\t17    \t[0.8]       \t478\t[1.]\t[0.]\t17    \t[0.4]       \t[3.33950739]\t478\t[3.8327291] \t[3.15542531]\t17    \t[0.19533318]\n",
      "479\t18    \t[0.9]       \t479\t[1.]\t[0.]\t18    \t[0.3]       \t[3.28000553]\t479\t[3.60753703]\t[3.15542531]\t18    \t[0.1393767] \n",
      "480\t17    \t[0.93333333]\t480\t[1.]\t[0.]\t17    \t[0.24944383]\t[3.28382842]\t480\t[3.56778026]\t[3.15542531]\t17    \t[0.12845791]\n",
      "481\t17    \t[0.93333333]\t481\t[1.]\t[0.]\t17    \t[0.24944383]\t[3.27116559]\t481\t[3.47297335]\t[3.15542531]\t17    \t[0.10970993]\n",
      "482\t17    \t[0.93333333]\t482\t[1.]\t[0.]\t17    \t[0.24944383]\t[3.29582663]\t482\t[3.70414042]\t[3.15542531]\t17    \t[0.14158546]\n",
      "483\t22    \t[0.96666667]\t483\t[1.]\t[0.]\t22    \t[0.17950549]\t[3.29447261]\t483\t[3.70498848]\t[3.15542531]\t22    \t[0.13322411]\n",
      "484\t17    \t[0.86666667]\t484\t[1.]\t[0.]\t17    \t[0.33993463]\t[3.3317451] \t484\t[3.66273689]\t[3.15542531]\t17    \t[0.14741511]\n",
      "485\t17    \t[0.96666667]\t485\t[1.]\t[0.]\t17    \t[0.17950549]\t[3.29933305]\t485\t[3.59869838]\t[3.15542531]\t17    \t[0.13949275]\n",
      "486\t17    \t[0.96666667]\t486\t[1.]\t[0.]\t17    \t[0.17950549]\t[3.29429223]\t486\t[3.57696152]\t[3.15542531]\t17    \t[0.13566399]\n",
      "487\t16    \t[0.96666667]\t487\t[1.]\t[0.]\t16    \t[0.17950549]\t[3.25408849]\t487\t[3.47844481]\t[3.15542531]\t16    \t[0.1014891] \n",
      "488\t18    \t[0.93333333]\t488\t[1.]\t[0.]\t18    \t[0.24944383]\t[3.29307043]\t488\t[3.74170351]\t[3.15542531]\t18    \t[0.15664482]\n",
      "489\t17    \t[0.96666667]\t489\t[1.]\t[0.]\t17    \t[0.17950549]\t[3.27577007]\t489\t[3.68360829]\t[3.15542531]\t17    \t[0.14075083]\n",
      "490\t18    \t[1.]        \t490\t[1.]\t[1.]\t18    \t[0.]        \t[3.25435402]\t490\t[3.49575663]\t[3.15542531]\t18    \t[0.10096134]\n",
      "491\t15    \t[1.]        \t491\t[1.]\t[1.]\t15    \t[0.]        \t[3.25291573]\t491\t[3.49824452]\t[3.15542531]\t15    \t[0.09936986]\n",
      "492\t20    \t[0.96666667]\t492\t[1.]\t[0.]\t20    \t[0.17950549]\t[3.28106071]\t492\t[3.68244624]\t[3.15542531]\t20    \t[0.13774228]\n",
      "493\t16    \t[0.96666667]\t493\t[1.]\t[0.]\t16    \t[0.17950549]\t[3.27289121]\t493\t[3.67097831]\t[3.15542531]\t16    \t[0.12518077]\n",
      "494\t19    \t[0.96666667]\t494\t[1.]\t[0.]\t19    \t[0.17950549]\t[3.26965913]\t494\t[3.72128463]\t[3.15542531]\t19    \t[0.15019568]\n",
      "495\t20    \t[0.96666667]\t495\t[1.]\t[0.]\t20    \t[0.17950549]\t[3.27551523]\t495\t[3.64798975]\t[3.15542531]\t20    \t[0.15025181]\n",
      "496\t13    \t[0.96666667]\t496\t[1.]\t[0.]\t13    \t[0.17950549]\t[3.25879698]\t496\t[3.58007121]\t[3.15542531]\t13    \t[0.11389731]\n",
      "497\t23    \t[1.]        \t497\t[1.]\t[1.]\t23    \t[0.]        \t[3.23849876]\t497\t[3.67241478]\t[3.15542531]\t23    \t[0.11167163]\n",
      "498\t16    \t[0.96666667]\t498\t[1.]\t[0.]\t16    \t[0.17950549]\t[3.24467787]\t498\t[3.55725145]\t[3.15542531]\t16    \t[0.11024303]\n",
      "499\t22    \t[0.96666667]\t499\t[1.]\t[0.]\t22    \t[0.17950549]\t[3.25117615]\t499\t[3.61191726]\t[3.15542531]\t22    \t[0.11184667]\n",
      "500\t17    \t[1.]        \t500\t[1.]\t[1.]\t17    \t[0.]        \t[3.26549947]\t500\t[3.78304982]\t[3.15542531]\t17    \t[0.14519042]\n",
      "501\t18    \t[1.]        \t501\t[1.]\t[1.]\t18    \t[0.]        \t[3.28676308]\t501\t[3.7679646] \t[3.15542531]\t18    \t[0.16456565]\n",
      "502\t20    \t[1.]        \t502\t[1.]\t[1.]\t20    \t[0.]        \t[3.25235151]\t502\t[3.41640162]\t[3.15542531]\t20    \t[0.08921096]\n",
      "503\t19    \t[0.96666667]\t503\t[1.]\t[0.]\t19    \t[0.17950549]\t[3.25940705]\t503\t[3.47875667]\t[3.15542531]\t19    \t[0.09220082]\n",
      "504\t19    \t[1.]        \t504\t[1.]\t[1.]\t19    \t[0.]        \t[3.26975046]\t504\t[3.49858022]\t[3.15542531]\t19    \t[0.08744398]\n",
      "505\t18    \t[1.]        \t505\t[1.]\t[1.]\t18    \t[0.]        \t[3.27291764]\t505\t[3.4589417] \t[3.15542531]\t18    \t[0.0802985] \n",
      "506\t16    \t[0.96666667]\t506\t[1.]\t[0.]\t16    \t[0.17950549]\t[3.2889557] \t506\t[3.54258275]\t[3.15542531]\t16    \t[0.10870676]\n",
      "507\t17    \t[1.]        \t507\t[1.]\t[1.]\t17    \t[0.]        \t[3.26892591]\t507\t[3.51095128]\t[3.15542531]\t17    \t[0.11400131]\n",
      "508\t12    \t[0.96666667]\t508\t[1.]\t[0.]\t12    \t[0.17950549]\t[3.25244292]\t508\t[3.79676938]\t[3.15542531]\t12    \t[0.13981639]\n",
      "509\t21    \t[0.96666667]\t509\t[1.]\t[0.]\t21    \t[0.17950549]\t[3.26002691]\t509\t[3.56736827]\t[3.15542531]\t21    \t[0.11151412]\n",
      "510\t15    \t[1.]        \t510\t[1.]\t[1.]\t15    \t[0.]        \t[3.23308814]\t510\t[3.50786829]\t[3.15542531]\t15    \t[0.09997057]\n",
      "511\t15    \t[1.]        \t511\t[1.]\t[1.]\t15    \t[0.]        \t[3.25669216]\t511\t[3.63212848]\t[3.15542531]\t15    \t[0.13958806]\n",
      "512\t20    \t[0.96666667]\t512\t[1.]\t[0.]\t20    \t[0.17950549]\t[3.27167087]\t512\t[3.79918718]\t[3.15542531]\t20    \t[0.13136346]\n",
      "513\t19    \t[1.]        \t513\t[1.]\t[1.]\t19    \t[0.]        \t[3.28923407]\t513\t[3.49867487]\t[3.15542531]\t19    \t[0.10512398]\n",
      "514\t22    \t[0.96666667]\t514\t[1.]\t[0.]\t22    \t[0.17950549]\t[3.29448175]\t514\t[3.69420862]\t[3.15542531]\t22    \t[0.1482478] \n",
      "515\t16    \t[0.93333333]\t515\t[1.]\t[0.]\t16    \t[0.24944383]\t[3.25830735]\t515\t[3.88303375]\t[3.15542531]\t16    \t[0.15538171]\n",
      "516\t25    \t[0.9]       \t516\t[1.]\t[0.]\t25    \t[0.3]       \t[3.318321]  \t516\t[3.78742576]\t[3.15542531]\t25    \t[0.17488173]\n",
      "517\t17    \t[1.]        \t517\t[1.]\t[1.]\t17    \t[0.]        \t[3.24489578]\t517\t[3.55430007]\t[3.15542531]\t17    \t[0.0957494] \n",
      "518\t14    \t[0.96666667]\t518\t[1.]\t[0.]\t14    \t[0.17950549]\t[3.23078541]\t518\t[3.42078972]\t[3.15542531]\t14    \t[0.08950728]\n",
      "519\t19    \t[0.96666667]\t519\t[1.]\t[0.]\t19    \t[0.17950549]\t[3.26255441]\t519\t[3.59102607]\t[3.15542531]\t19    \t[0.13097997]\n",
      "520\t14    \t[0.96666667]\t520\t[1.]\t[0.]\t14    \t[0.17950549]\t[3.24440708]\t520\t[3.59528661]\t[3.15542531]\t14    \t[0.12669086]\n",
      "521\t20    \t[0.9]       \t521\t[1.]\t[0.]\t20    \t[0.3]       \t[3.26733592]\t521\t[3.71036768]\t[3.15542531]\t20    \t[0.1321763] \n",
      "522\t17    \t[1.]        \t522\t[1.]\t[1.]\t17    \t[0.]        \t[3.23949733]\t522\t[3.50861669]\t[3.15542531]\t17    \t[0.10446374]\n",
      "523\t14    \t[1.]        \t523\t[1.]\t[1.]\t14    \t[0.]        \t[3.268439]  \t523\t[3.71589136]\t[3.15542531]\t14    \t[0.14807033]\n",
      "524\t15    \t[0.96666667]\t524\t[1.]\t[0.]\t15    \t[0.17950549]\t[3.26376785]\t524\t[3.85068202]\t[3.15542531]\t15    \t[0.16562144]\n",
      "525\t22    \t[1.]        \t525\t[1.]\t[1.]\t22    \t[0.]        \t[3.25831699]\t525\t[3.52006841]\t[3.15542531]\t22    \t[0.11289528]\n",
      "526\t23    \t[1.]        \t526\t[1.]\t[1.]\t23    \t[0.]        \t[3.3055369] \t526\t[3.70442629]\t[3.15542531]\t23    \t[0.12152568]\n",
      "527\t19    \t[0.96666667]\t527\t[1.]\t[0.]\t19    \t[0.17950549]\t[3.30321567]\t527\t[3.65611339]\t[3.15542531]\t19    \t[0.13313222]\n",
      "528\t17    \t[0.93333333]\t528\t[1.]\t[0.]\t17    \t[0.24944383]\t[3.25656627]\t528\t[3.64217448]\t[3.15542531]\t17    \t[0.12722827]\n",
      "529\t19    \t[1.]        \t529\t[1.]\t[1.]\t19    \t[0.]        \t[3.27237313]\t529\t[3.7501111] \t[3.15542531]\t19    \t[0.13820705]\n",
      "530\t16    \t[1.]        \t530\t[1.]\t[1.]\t16    \t[0.]        \t[3.22657282]\t530\t[3.59533858]\t[3.15542531]\t16    \t[0.09868292]\n",
      "531\t18    \t[0.96666667]\t531\t[1.]\t[0.]\t18    \t[0.17950549]\t[3.25899337]\t531\t[3.67614245]\t[3.15542531]\t18    \t[0.12233779]\n",
      "532\t21    \t[1.]        \t532\t[1.]\t[1.]\t21    \t[0.]        \t[3.26392981]\t532\t[3.53061223]\t[3.15542531]\t21    \t[0.10491027]\n",
      "533\t14    \t[1.]        \t533\t[1.]\t[1.]\t14    \t[0.]        \t[3.23878645]\t533\t[3.69722414]\t[3.15542531]\t14    \t[0.11640187]\n",
      "534\t12    \t[1.]        \t534\t[1.]\t[1.]\t12    \t[0.]        \t[3.22783426]\t534\t[3.49729085]\t[3.15542531]\t12    \t[0.09684004]\n",
      "535\t21    \t[1.]        \t535\t[1.]\t[1.]\t21    \t[0.]        \t[3.23230483]\t535\t[3.72988105]\t[3.15542531]\t21    \t[0.12985281]\n",
      "536\t18    \t[0.93333333]\t536\t[1.]\t[0.]\t18    \t[0.24944383]\t[3.27590241]\t536\t[3.63634753]\t[3.15542531]\t18    \t[0.13032016]\n",
      "537\t19    \t[0.93333333]\t537\t[1.]\t[0.]\t19    \t[0.24944383]\t[3.28544595]\t537\t[3.53782058]\t[3.15542531]\t19    \t[0.11121858]\n",
      "538\t20    \t[0.93333333]\t538\t[1.]\t[0.]\t20    \t[0.24944383]\t[3.2863858] \t538\t[3.60720754]\t[3.15542531]\t20    \t[0.13117708]\n",
      "539\t23    \t[0.93333333]\t539\t[1.]\t[0.]\t23    \t[0.24944383]\t[3.33055014]\t539\t[3.78856587]\t[3.15542531]\t23    \t[0.18030822]\n",
      "540\t19    \t[0.93333333]\t540\t[1.]\t[0.]\t19    \t[0.24944383]\t[3.27715326]\t540\t[3.73598552]\t[3.15542531]\t19    \t[0.14479101]\n"
     ]
    },
    {
     "name": "stdout",
     "output_type": "stream",
     "text": [
      "541\t20    \t[0.96666667]\t541\t[1.]\t[0.]\t20    \t[0.17950549]\t[3.29814638]\t541\t[3.71320391]\t[3.15542531]\t20    \t[0.16770367]\n",
      "542\t17    \t[0.93333333]\t542\t[1.]\t[0.]\t17    \t[0.24944383]\t[3.28143702]\t542\t[3.71417689]\t[3.15542531]\t17    \t[0.15690163]\n",
      "543\t19    \t[0.9]       \t543\t[1.]\t[0.]\t19    \t[0.3]       \t[3.31645834]\t543\t[3.63950539]\t[3.15542531]\t19    \t[0.14831901]\n",
      "544\t21    \t[0.93333333]\t544\t[1.]\t[0.]\t21    \t[0.24944383]\t[3.28340402]\t544\t[3.62384462]\t[3.15542531]\t21    \t[0.13164649]\n",
      "545\t16    \t[1.]        \t545\t[1.]\t[1.]\t16    \t[0.]        \t[3.28499104]\t545\t[3.78124309]\t[3.15542531]\t16    \t[0.17230868]\n",
      "546\t18    \t[1.]        \t546\t[1.]\t[1.]\t18    \t[0.]        \t[3.28274934]\t546\t[3.63327718]\t[3.15542531]\t18    \t[0.13684038]\n",
      "547\t15    \t[0.96666667]\t547\t[1.]\t[0.]\t15    \t[0.17950549]\t[3.28433007]\t547\t[3.74594426]\t[3.15542531]\t15    \t[0.15472717]\n",
      "548\t20    \t[0.96666667]\t548\t[1.]\t[0.]\t20    \t[0.17950549]\t[3.271243]  \t548\t[3.53023005]\t[3.15542531]\t20    \t[0.11520833]\n",
      "549\t23    \t[0.96666667]\t549\t[1.]\t[0.]\t23    \t[0.17950549]\t[3.28938738]\t549\t[3.77858591]\t[3.15542531]\t23    \t[0.1408136] \n",
      "550\t14    \t[0.96666667]\t550\t[1.]\t[0.]\t14    \t[0.17950549]\t[3.29656052]\t550\t[3.60514569]\t[3.15542531]\t14    \t[0.12757995]\n",
      "551\t17    \t[0.93333333]\t551\t[1.]\t[0.]\t17    \t[0.24944383]\t[3.31768454]\t551\t[3.72333074]\t[3.15542531]\t17    \t[0.16700232]\n",
      "552\t19    \t[0.96666667]\t552\t[1.]\t[0.]\t19    \t[0.17950549]\t[3.36891989]\t552\t[3.92519379]\t[3.15542531]\t19    \t[0.19981809]\n",
      "553\t21    \t[0.96666667]\t553\t[1.]\t[0.]\t21    \t[0.17950549]\t[3.35059499]\t553\t[3.74602127]\t[3.15542531]\t21    \t[0.14023448]\n",
      "554\t19    \t[0.96666667]\t554\t[1.]\t[0.]\t19    \t[0.17950549]\t[3.3173816] \t554\t[3.56235433]\t[3.15542531]\t19    \t[0.11820254]\n",
      "555\t22    \t[0.96666667]\t555\t[1.]\t[0.]\t22    \t[0.17950549]\t[3.30146464]\t555\t[3.58254313]\t[3.15542531]\t22    \t[0.12860281]\n",
      "556\t16    \t[1.]        \t556\t[1.]\t[1.]\t16    \t[0.]        \t[3.29902099]\t556\t[3.68222404]\t[3.15542531]\t16    \t[0.14750376]\n",
      "557\t16    \t[0.96666667]\t557\t[1.]\t[0.]\t16    \t[0.17950549]\t[3.26868391]\t557\t[3.67549968]\t[3.15542531]\t16    \t[0.12353559]\n",
      "558\t19    \t[0.93333333]\t558\t[1.]\t[0.]\t19    \t[0.24944383]\t[3.28183711]\t558\t[3.6311028] \t[3.15542531]\t19    \t[0.14154927]\n",
      "559\t19    \t[1.]        \t559\t[1.]\t[1.]\t19    \t[0.]        \t[3.26587324]\t559\t[3.5888238] \t[3.15542531]\t19    \t[0.12376277]\n",
      "560\t19    \t[1.]        \t560\t[1.]\t[1.]\t19    \t[0.]        \t[3.2787101] \t560\t[3.48397946]\t[3.15542531]\t19    \t[0.08965927]\n",
      "561\t16    \t[1.]        \t561\t[1.]\t[1.]\t16    \t[0.]        \t[3.28937383]\t561\t[3.69044852]\t[3.15542531]\t16    \t[0.13912546]\n",
      "562\t20    \t[1.]        \t562\t[1.]\t[1.]\t20    \t[0.]        \t[3.29963012]\t562\t[3.63231921]\t[3.15542531]\t20    \t[0.13364207]\n",
      "563\t21    \t[1.]        \t563\t[1.]\t[1.]\t21    \t[0.]        \t[3.27816533]\t563\t[3.58139586]\t[3.15542531]\t21    \t[0.11959908]\n",
      "564\t14    \t[0.96666667]\t564\t[1.]\t[0.]\t14    \t[0.17950549]\t[3.2708293] \t564\t[3.78717613]\t[3.15542531]\t14    \t[0.13476603]\n",
      "565\t18    \t[0.96666667]\t565\t[1.]\t[0.]\t18    \t[0.17950549]\t[3.27596206]\t565\t[3.69422412]\t[3.15542531]\t18    \t[0.130839]  \n",
      "566\t15    \t[1.]        \t566\t[1.]\t[1.]\t15    \t[0.]        \t[3.26250698]\t566\t[3.57650065]\t[3.15542531]\t15    \t[0.10687844]\n",
      "567\t13    \t[1.]        \t567\t[1.]\t[1.]\t13    \t[0.]        \t[3.23994752]\t567\t[3.71432042]\t[3.15542531]\t13    \t[0.12901664]\n",
      "568\t17    \t[1.]        \t568\t[1.]\t[1.]\t17    \t[0.]        \t[3.21349395]\t568\t[3.38377452]\t[3.15542531]\t17    \t[0.07545446]\n",
      "569\t19    \t[0.93333333]\t569\t[1.]\t[0.]\t19    \t[0.24944383]\t[3.27860823]\t569\t[3.48946571]\t[3.15542531]\t19    \t[0.10928019]\n",
      "570\t14    \t[1.]        \t570\t[1.]\t[1.]\t14    \t[0.]        \t[3.21528668]\t570\t[3.48592305]\t[3.15542531]\t14    \t[0.07989277]\n",
      "571\t13    \t[1.]        \t571\t[1.]\t[1.]\t13    \t[0.]        \t[3.24504741]\t571\t[3.65255666]\t[3.15542531]\t13    \t[0.13167295]\n",
      "572\t17    \t[0.96666667]\t572\t[1.]\t[0.]\t17    \t[0.17950549]\t[3.2370902] \t572\t[3.6930635] \t[3.15542531]\t17    \t[0.13798457]\n",
      "573\t16    \t[1.]        \t573\t[1.]\t[1.]\t16    \t[0.]        \t[3.23351402]\t573\t[3.4604423] \t[3.15542531]\t16    \t[0.09963363]\n",
      "574\t21    \t[0.96666667]\t574\t[1.]\t[0.]\t21    \t[0.17950549]\t[3.28291805]\t574\t[3.74003291]\t[3.15542531]\t21    \t[0.14138475]\n",
      "575\t18    \t[0.9]       \t575\t[1.]\t[0.]\t18    \t[0.3]       \t[3.29599583]\t575\t[3.74197078]\t[3.15542531]\t18    \t[0.13723997]\n",
      "576\t19    \t[1.]        \t576\t[1.]\t[1.]\t19    \t[0.]        \t[3.2643429] \t576\t[3.59006953]\t[3.15542531]\t19    \t[0.10839866]\n",
      "577\t20    \t[1.]        \t577\t[1.]\t[1.]\t20    \t[0.]        \t[3.2619784] \t577\t[3.48039675]\t[3.14504981]\t20    \t[0.09086672]\n",
      "578\t11    \t[1.]        \t578\t[1.]\t[1.]\t11    \t[0.]        \t[3.25422299]\t578\t[3.55686736]\t[3.15542531]\t11    \t[0.1148742] \n",
      "579\t14    \t[0.96666667]\t579\t[1.]\t[0.]\t14    \t[0.17950549]\t[3.22511504]\t579\t[3.47514653]\t[3.15542531]\t14    \t[0.0777471] \n",
      "580\t18    \t[0.93333333]\t580\t[1.]\t[0.]\t18    \t[0.24944383]\t[3.26673279]\t580\t[3.52062154]\t[3.15542531]\t18    \t[0.11242917]\n",
      "581\t20    \t[0.9]       \t581\t[1.]\t[0.]\t20    \t[0.3]       \t[3.28316073]\t581\t[3.65775466]\t[3.15542531]\t20    \t[0.12818178]\n",
      "582\t20    \t[0.96666667]\t582\t[1.]\t[0.]\t20    \t[0.17950549]\t[3.296285]  \t582\t[3.82788539]\t[3.15542531]\t20    \t[0.14266254]\n",
      "583\t21    \t[0.96666667]\t583\t[1.]\t[0.]\t21    \t[0.17950549]\t[3.28073641]\t583\t[3.67831349]\t[3.15542531]\t21    \t[0.13359131]\n",
      "584\t23    \t[0.96666667]\t584\t[1.]\t[0.]\t23    \t[0.17950549]\t[3.2653132] \t584\t[3.55539894]\t[3.15313697]\t23    \t[0.12151208]\n",
      "585\t15    \t[0.96666667]\t585\t[1.]\t[0.]\t15    \t[0.17950549]\t[3.24905526]\t585\t[3.88866806]\t[3.15191054]\t15    \t[0.14419886]\n",
      "586\t12    \t[1.]        \t586\t[1.]\t[1.]\t12    \t[0.]        \t[3.23200955]\t586\t[3.59560823]\t[3.15191054]\t12    \t[0.09748968]\n",
      "587\t21    \t[0.96666667]\t587\t[1.]\t[0.]\t21    \t[0.17950549]\t[3.26863027]\t587\t[3.58981895]\t[3.15191054]\t21    \t[0.1185565] \n",
      "588\t14    \t[0.96666667]\t588\t[1.]\t[0.]\t14    \t[0.17950549]\t[3.21527666]\t588\t[3.54040766]\t[3.15191054]\t14    \t[0.10314297]\n",
      "589\t15    \t[1.]        \t589\t[1.]\t[1.]\t15    \t[0.]        \t[3.2373841] \t589\t[3.58506441]\t[3.15191054]\t15    \t[0.12084668]\n",
      "590\t16    \t[0.96666667]\t590\t[1.]\t[0.]\t16    \t[0.17950549]\t[3.22470426]\t590\t[3.50015879]\t[3.15191054]\t16    \t[0.11065056]\n",
      "591\t16    \t[0.93333333]\t591\t[1.]\t[0.]\t16    \t[0.24944383]\t[3.27056498]\t591\t[3.62379146]\t[3.15191054]\t16    \t[0.15218792]\n",
      "592\t15    \t[0.96666667]\t592\t[1.]\t[0.]\t15    \t[0.17950549]\t[3.27066779]\t592\t[3.73453951]\t[3.15191054]\t15    \t[0.17438903]\n",
      "593\t18    \t[1.]        \t593\t[1.]\t[1.]\t18    \t[0.]        \t[3.24949903]\t593\t[3.7357223] \t[3.15191054]\t18    \t[0.13984444]\n",
      "594\t17    \t[1.]        \t594\t[1.]\t[1.]\t17    \t[0.]        \t[3.23614564]\t594\t[3.78627515]\t[3.15191054]\t17    \t[0.1388144] \n",
      "595\t17    \t[0.93333333]\t595\t[1.]\t[0.]\t17    \t[0.24944383]\t[3.22778058]\t595\t[3.51361394]\t[3.15191054]\t17    \t[0.09374362]\n",
      "596\t19    \t[0.96666667]\t596\t[1.]\t[0.]\t19    \t[0.17950549]\t[3.24947406]\t596\t[3.65626955]\t[3.15191054]\t19    \t[0.12239384]\n",
      "597\t17    \t[1.]        \t597\t[1.]\t[1.]\t17    \t[0.]        \t[3.23288308]\t597\t[3.5063169] \t[3.15191054]\t17    \t[0.09769895]\n",
      "598\t19    \t[0.96666667]\t598\t[1.]\t[0.]\t19    \t[0.17950549]\t[3.26146061]\t598\t[4.00154734]\t[3.15191054]\t19    \t[0.16534552]\n",
      "599\t24    \t[0.96666667]\t599\t[1.]\t[0.]\t24    \t[0.17950549]\t[3.28768129]\t599\t[3.73713374]\t[3.15191054]\t24    \t[0.14535521]\n",
      "600\t16    \t[0.96666667]\t600\t[1.]\t[0.]\t16    \t[0.17950549]\t[3.28495347]\t600\t[3.81211925]\t[3.15191054]\t16    \t[0.17358524]\n",
      "601\t26    \t[0.93333333]\t601\t[1.]\t[0.]\t26    \t[0.24944383]\t[3.30620884]\t601\t[3.69815135]\t[3.15191054]\t26    \t[0.14996789]\n",
      "602\t19    \t[0.96666667]\t602\t[1.]\t[0.]\t19    \t[0.17950549]\t[3.29858026]\t602\t[3.73298144]\t[3.14898157]\t19    \t[0.15031256]\n",
      "603\t16    \t[1.]        \t603\t[1.]\t[1.]\t16    \t[0.]        \t[3.28633439]\t603\t[3.59685183]\t[3.14898157]\t16    \t[0.12792685]\n",
      "604\t20    \t[0.96666667]\t604\t[1.]\t[0.]\t20    \t[0.17950549]\t[3.30839792]\t604\t[3.99678111]\t[3.14898157]\t20    \t[0.1666677] \n",
      "605\t20    \t[0.96666667]\t605\t[1.]\t[0.]\t20    \t[0.17950549]\t[3.2810433] \t605\t[3.58136821]\t[3.14898157]\t20    \t[0.11963611]\n",
      "606\t20    \t[1.]        \t606\t[1.]\t[1.]\t20    \t[0.]        \t[3.2928112] \t606\t[3.69765472]\t[3.14898157]\t20    \t[0.15723097]\n",
      "607\t24    \t[1.]        \t607\t[1.]\t[1.]\t24    \t[0.]        \t[3.31516669]\t607\t[3.76189351]\t[3.14898157]\t24    \t[0.14927076]\n",
      "608\t19    \t[0.96666667]\t608\t[1.]\t[0.]\t19    \t[0.17950549]\t[3.28518713]\t608\t[3.59370279]\t[3.14898157]\t19    \t[0.12475813]\n"
     ]
    },
    {
     "name": "stdout",
     "output_type": "stream",
     "text": [
      "609\t17    \t[1.]        \t609\t[1.]\t[1.]\t17    \t[0.]        \t[3.27370068]\t609\t[3.53074956]\t[3.14898157]\t17    \t[0.10965515]\n",
      "610\t19    \t[1.]        \t610\t[1.]\t[1.]\t19    \t[0.]        \t[3.27611635]\t610\t[3.60036016]\t[3.14898157]\t19    \t[0.13160292]\n",
      "611\t21    \t[0.96666667]\t611\t[1.]\t[0.]\t21    \t[0.17950549]\t[3.27810158]\t611\t[3.71141505]\t[3.14898157]\t21    \t[0.12781079]\n",
      "612\t22    \t[1.]        \t612\t[1.]\t[1.]\t22    \t[0.]        \t[3.30708573]\t612\t[3.8241334] \t[3.14898157]\t22    \t[0.15376926]\n",
      "613\t16    \t[0.93333333]\t613\t[1.]\t[0.]\t16    \t[0.24944383]\t[3.26219822]\t613\t[3.75962877]\t[3.14898157]\t16    \t[0.12281923]\n",
      "614\t14    \t[0.96666667]\t614\t[1.]\t[0.]\t14    \t[0.17950549]\t[3.27825309]\t614\t[3.65786433]\t[3.14898157]\t14    \t[0.14779479]\n",
      "615\t18    \t[0.96666667]\t615\t[1.]\t[0.]\t18    \t[0.17950549]\t[3.28381316]\t615\t[3.60331583]\t[3.14898157]\t18    \t[0.13476527]\n",
      "616\t17    \t[1.]        \t616\t[1.]\t[1.]\t17    \t[0.]        \t[3.24988787]\t616\t[3.59224391]\t[3.14898157]\t17    \t[0.11902574]\n",
      "617\t23    \t[1.]        \t617\t[1.]\t[1.]\t23    \t[0.]        \t[3.32987714]\t617\t[3.79324031]\t[3.14898157]\t23    \t[0.1895551] \n",
      "618\t19    \t[0.96666667]\t618\t[1.]\t[0.]\t19    \t[0.17950549]\t[3.26377073]\t618\t[3.64300704]\t[3.14898157]\t19    \t[0.12592994]\n",
      "619\t19    \t[1.]        \t619\t[1.]\t[1.]\t19    \t[0.]        \t[3.23765044]\t619\t[3.51169133]\t[3.14898157]\t19    \t[0.10779785]\n",
      "620\t15    \t[1.]        \t620\t[1.]\t[1.]\t15    \t[0.]        \t[3.23820838]\t620\t[3.69537473]\t[3.14134097]\t15    \t[0.14328498]\n",
      "621\t18    \t[0.96666667]\t621\t[1.]\t[0.]\t18    \t[0.17950549]\t[3.26079493]\t621\t[4.10333824]\t[3.14898157]\t18    \t[0.1826348] \n",
      "622\t19    \t[0.96666667]\t622\t[1.]\t[0.]\t19    \t[0.17950549]\t[3.27005793]\t622\t[3.47977757]\t[3.14898157]\t19    \t[0.10678962]\n",
      "623\t21    \t[0.96666667]\t623\t[1.]\t[0.]\t21    \t[0.17950549]\t[3.29430822]\t623\t[3.55711913]\t[3.14898157]\t21    \t[0.11638749]\n",
      "624\t18    \t[1.]        \t624\t[1.]\t[1.]\t18    \t[0.]        \t[3.31195319]\t624\t[3.67225051]\t[3.14898157]\t18    \t[0.17029504]\n",
      "625\t18    \t[1.]        \t625\t[1.]\t[1.]\t18    \t[0.]        \t[3.27830505]\t625\t[3.61771846]\t[3.14898157]\t18    \t[0.14469927]\n",
      "626\t19    \t[0.96666667]\t626\t[1.]\t[0.]\t19    \t[0.17950549]\t[3.28905746]\t626\t[3.73135233]\t[3.14898157]\t19    \t[0.15892457]\n",
      "627\t20    \t[1.]        \t627\t[1.]\t[1.]\t20    \t[0.]        \t[3.27508775]\t627\t[3.59355903]\t[3.14898157]\t20    \t[0.11457476]\n",
      "628\t19    \t[1.]        \t628\t[1.]\t[1.]\t19    \t[0.]        \t[3.26649584]\t628\t[3.57304811]\t[3.14898157]\t19    \t[0.12393149]\n",
      "629\t23    \t[1.]        \t629\t[1.]\t[1.]\t23    \t[0.]        \t[3.35851299]\t629\t[3.75365138]\t[3.14898157]\t23    \t[0.17208839]\n",
      "630\t21    \t[1.]        \t630\t[1.]\t[1.]\t21    \t[0.]        \t[3.32279971]\t630\t[3.56905341]\t[3.14898157]\t21    \t[0.1236788] \n",
      "631\t20    \t[1.]        \t631\t[1.]\t[1.]\t20    \t[0.]        \t[3.30469951]\t631\t[3.67009163]\t[3.14898157]\t20    \t[0.13797262]\n",
      "632\t20    \t[0.96666667]\t632\t[1.]\t[0.]\t20    \t[0.17950549]\t[3.3039327] \t632\t[3.76488185]\t[3.14898157]\t20    \t[0.14192396]\n",
      "633\t16    \t[0.93333333]\t633\t[1.]\t[0.]\t16    \t[0.24944383]\t[3.27204427]\t633\t[3.62202144]\t[3.14898157]\t16    \t[0.12212471]\n",
      "634\t12    \t[1.]        \t634\t[1.]\t[1.]\t12    \t[0.]        \t[3.287719]  \t634\t[3.82143474]\t[3.14898157]\t12    \t[0.17185278]\n",
      "635\t18    \t[1.]        \t635\t[1.]\t[1.]\t18    \t[0.]        \t[3.30631795]\t635\t[3.76145864]\t[3.14898157]\t18    \t[0.16165978]\n",
      "636\t25    \t[1.]        \t636\t[1.]\t[1.]\t25    \t[0.]        \t[3.26726196]\t636\t[3.56044698]\t[3.14898157]\t25    \t[0.1189906] \n",
      "637\t15    \t[0.96666667]\t637\t[1.]\t[0.]\t15    \t[0.17950549]\t[3.26476393]\t637\t[3.65911651]\t[3.14898157]\t15    \t[0.12619316]\n",
      "638\t18    \t[0.96666667]\t638\t[1.]\t[0.]\t18    \t[0.17950549]\t[3.31005518]\t638\t[4.09711599]\t[3.14898157]\t18    \t[0.19868988]\n",
      "639\t21    \t[0.96666667]\t639\t[1.]\t[0.]\t21    \t[0.17950549]\t[3.30796645]\t639\t[3.69392514]\t[3.14898157]\t21    \t[0.14717512]\n",
      "640\t22    \t[1.]        \t640\t[1.]\t[1.]\t22    \t[0.]        \t[3.28701416]\t640\t[3.56009603]\t[3.14898157]\t22    \t[0.10393164]\n",
      "641\t23    \t[0.96666667]\t641\t[1.]\t[0.]\t23    \t[0.17950549]\t[3.3270352] \t641\t[3.65240264]\t[3.14898157]\t23    \t[0.13406786]\n",
      "642\t15    \t[1.]        \t642\t[1.]\t[1.]\t15    \t[0.]        \t[3.26641516]\t642\t[3.81046939]\t[3.14898157]\t15    \t[0.12767342]\n",
      "643\t20    \t[1.]        \t643\t[1.]\t[1.]\t20    \t[0.]        \t[3.28541054]\t643\t[3.53476334]\t[3.14898157]\t20    \t[0.11259694]\n",
      "644\t23    \t[1.]        \t644\t[1.]\t[1.]\t23    \t[0.]        \t[3.31239208]\t644\t[3.59172177]\t[3.14898157]\t23    \t[0.11849059]\n",
      "645\t23    \t[1.]        \t645\t[1.]\t[1.]\t23    \t[0.]        \t[3.35264373]\t645\t[3.65509868]\t[3.14898157]\t23    \t[0.13257857]\n",
      "646\t19    \t[1.]        \t646\t[1.]\t[1.]\t19    \t[0.]        \t[3.31105047]\t646\t[3.65970349]\t[3.14898157]\t19    \t[0.11953168]\n",
      "647\t18    \t[1.]        \t647\t[1.]\t[1.]\t18    \t[0.]        \t[3.30414796]\t647\t[3.72223353]\t[3.14898157]\t18    \t[0.11142957]\n",
      "648\t10    \t[1.]        \t648\t[1.]\t[1.]\t10    \t[0.]        \t[3.26076823]\t648\t[3.56910014]\t[3.14898157]\t10    \t[0.09486558]\n",
      "649\t16    \t[1.]        \t649\t[1.]\t[1.]\t16    \t[0.]        \t[3.27693157]\t649\t[3.68500686]\t[3.14898157]\t16    \t[0.12827421]\n",
      "650\t15    \t[1.]        \t650\t[1.]\t[1.]\t15    \t[0.]        \t[3.25370181]\t650\t[3.80350804]\t[3.14898157]\t15    \t[0.14161528]\n",
      "651\t17    \t[1.]        \t651\t[1.]\t[1.]\t17    \t[0.]        \t[3.22196023]\t651\t[3.54932976]\t[3.14898157]\t17    \t[0.093992]  \n",
      "652\t18    \t[1.]        \t652\t[1.]\t[1.]\t18    \t[0.]        \t[3.22314837]\t652\t[3.45993114]\t[3.14898157]\t18    \t[0.08950702]\n",
      "653\t16    \t[1.]        \t653\t[1.]\t[1.]\t16    \t[0.]        \t[3.25657694]\t653\t[3.51553035]\t[3.14898157]\t16    \t[0.11086716]\n",
      "654\t14    \t[1.]        \t654\t[1.]\t[1.]\t14    \t[0.]        \t[3.25386968]\t654\t[3.71774983]\t[3.14898157]\t14    \t[0.13111399]\n",
      "655\t19    \t[1.]        \t655\t[1.]\t[1.]\t19    \t[0.]        \t[3.25914673]\t655\t[3.5067451] \t[3.14898157]\t19    \t[0.10754279]\n",
      "656\t19    \t[1.]        \t656\t[1.]\t[1.]\t19    \t[0.]        \t[3.26051135]\t656\t[3.63352442]\t[3.14898157]\t19    \t[0.12897435]\n",
      "657\t15    \t[1.]        \t657\t[1.]\t[1.]\t15    \t[0.]        \t[3.24217389]\t657\t[3.54853749]\t[3.14898157]\t15    \t[0.10801623]\n",
      "658\t16    \t[1.]        \t658\t[1.]\t[1.]\t16    \t[0.]        \t[3.26427058]\t658\t[3.74221969]\t[3.14898157]\t16    \t[0.1521563] \n",
      "659\t15    \t[0.96666667]\t659\t[1.]\t[0.]\t15    \t[0.17950549]\t[3.23457692]\t659\t[3.50248957]\t[3.14898157]\t15    \t[0.10321429]\n",
      "660\t21    \t[0.93333333]\t660\t[1.]\t[0.]\t21    \t[0.24944383]\t[3.26159688]\t660\t[3.73177886]\t[3.14898157]\t21    \t[0.13619705]\n",
      "661\t18    \t[0.96666667]\t661\t[1.]\t[0.]\t18    \t[0.17950549]\t[3.27808873]\t661\t[3.69049525]\t[3.14898157]\t18    \t[0.15222583]\n",
      "662\t18    \t[1.]        \t662\t[1.]\t[1.]\t18    \t[0.]        \t[3.26361959]\t662\t[3.56883049]\t[3.14898157]\t18    \t[0.1223202] \n",
      "663\t17    \t[1.]        \t663\t[1.]\t[1.]\t17    \t[0.]        \t[3.25978223]\t663\t[3.56080174]\t[3.14898157]\t17    \t[0.13432537]\n",
      "664\t21    \t[1.]        \t664\t[1.]\t[1.]\t21    \t[0.]        \t[3.23738356]\t664\t[3.52410102]\t[3.14898157]\t21    \t[0.09358421]\n",
      "665\t18    \t[1.]        \t665\t[1.]\t[1.]\t18    \t[0.]        \t[3.24345766]\t665\t[3.52004981]\t[3.1479516] \t18    \t[0.09401853]\n",
      "666\t16    \t[1.]        \t666\t[1.]\t[1.]\t16    \t[0.]        \t[3.28459012]\t666\t[3.77164316]\t[3.1479516] \t16    \t[0.16781544]\n",
      "667\t17    \t[1.]        \t667\t[1.]\t[1.]\t17    \t[0.]        \t[3.27891457]\t667\t[3.67242122]\t[3.1479516] \t17    \t[0.13549632]\n",
      "668\t22    \t[0.96666667]\t668\t[1.]\t[0.]\t22    \t[0.17950549]\t[3.27005519]\t668\t[3.97210622]\t[3.1479516] \t22    \t[0.16411026]\n",
      "669\t16    \t[1.]        \t669\t[1.]\t[1.]\t16    \t[0.]        \t[3.26565049]\t669\t[3.79360271]\t[3.1479516] \t16    \t[0.16245376]\n",
      "670\t15    \t[0.96666667]\t670\t[1.]\t[0.]\t15    \t[0.17950549]\t[3.29783605]\t670\t[3.97783351]\t[3.1479516] \t15    \t[0.2094079] \n",
      "671\t19    \t[1.]        \t671\t[1.]\t[1.]\t19    \t[0.]        \t[3.25623657]\t671\t[3.57395482]\t[3.1479516] \t19    \t[0.11637869]\n",
      "672\t15    \t[1.]        \t672\t[1.]\t[1.]\t15    \t[0.]        \t[3.23036412]\t672\t[3.57202888]\t[3.1479516] \t15    \t[0.12352381]\n",
      "673\t20    \t[1.]        \t673\t[1.]\t[1.]\t20    \t[0.]        \t[3.27125765]\t673\t[3.6667161] \t[3.14352489]\t20    \t[0.13857058]\n",
      "674\t23    \t[1.]        \t674\t[1.]\t[1.]\t23    \t[0.]        \t[3.34936663]\t674\t[3.82697797]\t[3.14352489]\t23    \t[0.18224451]\n",
      "675\t16    \t[1.]        \t675\t[1.]\t[1.]\t16    \t[0.]        \t[3.26063581]\t675\t[3.68673134]\t[3.14352489]\t16    \t[0.14955177]\n",
      "676\t14    \t[1.]        \t676\t[1.]\t[1.]\t14    \t[0.]        \t[3.22100736]\t676\t[3.39051557]\t[3.14352489]\t14    \t[0.07904312]\n"
     ]
    },
    {
     "name": "stdout",
     "output_type": "stream",
     "text": [
      "677\t16    \t[1.]        \t677\t[1.]\t[1.]\t16    \t[0.]        \t[3.252118]  \t677\t[3.67870784]\t[3.12527013]\t16    \t[0.14683674]\n",
      "678\t18    \t[1.]        \t678\t[1.]\t[1.]\t18    \t[0.]        \t[3.22573218]\t678\t[3.80291295]\t[3.12043548]\t18    \t[0.13504934]\n",
      "679\t16    \t[1.]        \t679\t[1.]\t[1.]\t16    \t[0.]        \t[3.22532129]\t679\t[3.47222972]\t[3.12527013]\t16    \t[0.09946866]\n",
      "680\t18    \t[0.96666667]\t680\t[1.]\t[0.]\t18    \t[0.17950549]\t[3.24059793]\t680\t[3.59493518]\t[3.11983538]\t18    \t[0.12279087]\n",
      "681\t20    \t[0.96666667]\t681\t[1.]\t[0.]\t20    \t[0.17950549]\t[3.26086946]\t681\t[3.7919395] \t[3.11983538]\t20    \t[0.148502]  \n",
      "682\t12    \t[1.]        \t682\t[1.]\t[1.]\t12    \t[0.]        \t[3.19261007]\t682\t[3.39731288]\t[3.11983538]\t12    \t[0.0842371] \n",
      "683\t18    \t[0.93333333]\t683\t[1.]\t[0.]\t18    \t[0.24944383]\t[3.20733248]\t683\t[3.53010249]\t[3.10230541]\t18    \t[0.11319807]\n",
      "684\t19    \t[1.]        \t684\t[1.]\t[1.]\t19    \t[0.]        \t[3.23528457]\t684\t[3.49855661]\t[3.10901809]\t19    \t[0.09676824]\n",
      "685\t15    \t[0.96666667]\t685\t[1.]\t[0.]\t15    \t[0.17950549]\t[3.2378677] \t685\t[3.64829373]\t[3.10901809]\t15    \t[0.12880335]\n",
      "686\t17    \t[0.96666667]\t686\t[1.]\t[0.]\t17    \t[0.17950549]\t[3.25358884]\t686\t[3.66163898]\t[3.10901809]\t17    \t[0.13173356]\n",
      "687\t15    \t[0.96666667]\t687\t[1.]\t[0.]\t15    \t[0.17950549]\t[3.2706479] \t687\t[3.83942676]\t[3.10901809]\t15    \t[0.15426287]\n",
      "688\t18    \t[0.96666667]\t688\t[1.]\t[0.]\t18    \t[0.17950549]\t[3.24491027]\t688\t[3.66107988]\t[3.10901809]\t18    \t[0.13580346]\n",
      "689\t17    \t[1.]        \t689\t[1.]\t[1.]\t17    \t[0.]        \t[3.24822884]\t689\t[3.80978394]\t[3.10901809]\t17    \t[0.15803611]\n",
      "690\t21    \t[0.96666667]\t690\t[1.]\t[0.]\t21    \t[0.17950549]\t[3.25385644]\t690\t[3.52368474]\t[3.10901809]\t21    \t[0.12676677]\n",
      "691\t17    \t[1.]        \t691\t[1.]\t[1.]\t17    \t[0.]        \t[3.23128261]\t691\t[3.65883112]\t[3.10901809]\t17    \t[0.13416896]\n",
      "692\t14    \t[0.96666667]\t692\t[1.]\t[0.]\t14    \t[0.17950549]\t[3.22717698]\t692\t[3.56895518]\t[3.10901809]\t14    \t[0.13588577]\n",
      "693\t22    \t[0.96666667]\t693\t[1.]\t[0.]\t22    \t[0.17950549]\t[3.21297983]\t693\t[3.58423686]\t[3.10901809]\t22    \t[0.12194326]\n",
      "694\t19    \t[1.]        \t694\t[1.]\t[1.]\t19    \t[0.]        \t[3.21384466]\t694\t[3.55927825]\t[3.10901809]\t19    \t[0.13192717]\n",
      "695\t20    \t[0.96666667]\t695\t[1.]\t[0.]\t20    \t[0.17950549]\t[3.21978526]\t695\t[3.43610454]\t[3.10901809]\t20    \t[0.10174792]\n",
      "696\t15    \t[1.]        \t696\t[1.]\t[1.]\t15    \t[0.]        \t[3.19202723]\t696\t[3.64929509]\t[3.10901809]\t15    \t[0.11747274]\n",
      "697\t15    \t[1.]        \t697\t[1.]\t[1.]\t15    \t[0.]        \t[3.18829384]\t697\t[3.49246788]\t[3.10901809]\t15    \t[0.09991422]\n",
      "698\t17    \t[1.]        \t698\t[1.]\t[1.]\t17    \t[0.]        \t[3.19921145]\t698\t[3.48580551]\t[3.10901809]\t17    \t[0.10542533]\n",
      "699\t18    \t[0.96666667]\t699\t[1.]\t[0.]\t18    \t[0.17950549]\t[3.23354239]\t699\t[3.71965837]\t[3.10901809]\t18    \t[0.15140591]\n",
      "700\t19    \t[0.93333333]\t700\t[1.]\t[0.]\t19    \t[0.24944383]\t[3.21626639]\t700\t[3.59985518]\t[3.09140921]\t19    \t[0.11642531]\n",
      "701\t15    \t[1.]        \t701\t[1.]\t[1.]\t15    \t[0.]        \t[3.2218605] \t701\t[3.57181406]\t[3.09140921]\t15    \t[0.12024953]\n",
      "702\t15    \t[1.]        \t702\t[1.]\t[1.]\t15    \t[0.]        \t[3.19799383]\t702\t[3.54990935]\t[3.09140921]\t15    \t[0.09793812]\n",
      "703\t17    \t[1.]        \t703\t[1.]\t[1.]\t17    \t[0.]        \t[3.1947274] \t703\t[3.38461995]\t[3.10901809]\t17    \t[0.08989275]\n",
      "704\t15    \t[1.]        \t704\t[1.]\t[1.]\t15    \t[0.]        \t[3.18785113]\t704\t[3.42877388]\t[3.10901809]\t15    \t[0.09313304]\n",
      "705\t20    \t[0.96666667]\t705\t[1.]\t[0.]\t20    \t[0.17950549]\t[3.23484123]\t705\t[3.47508311]\t[3.10901809]\t20    \t[0.12276393]\n",
      "706\t17    \t[0.96666667]\t706\t[1.]\t[0.]\t17    \t[0.17950549]\t[3.21384608]\t706\t[3.47989058]\t[3.10901809]\t17    \t[0.11997759]\n",
      "707\t17    \t[1.]        \t707\t[1.]\t[1.]\t17    \t[0.]        \t[3.18561832]\t707\t[3.37026978]\t[3.10901809]\t17    \t[0.08450792]\n",
      "708\t20    \t[1.]        \t708\t[1.]\t[1.]\t20    \t[0.]        \t[3.22011436]\t708\t[3.66051459]\t[3.10901809]\t20    \t[0.13453552]\n",
      "709\t17    \t[1.]        \t709\t[1.]\t[1.]\t17    \t[0.]        \t[3.20993726]\t709\t[3.50230479]\t[3.10901809]\t17    \t[0.1133149] \n",
      "710\t20    \t[1.]        \t710\t[1.]\t[1.]\t20    \t[0.]        \t[3.18661455]\t710\t[3.48369098]\t[3.10901809]\t20    \t[0.09228362]\n",
      "711\t14    \t[1.]        \t711\t[1.]\t[1.]\t14    \t[0.]        \t[3.19366082]\t711\t[3.65693593]\t[3.10901809]\t14    \t[0.1344114] \n",
      "712\t22    \t[1.]        \t712\t[1.]\t[1.]\t22    \t[0.]        \t[3.27249578]\t712\t[3.72639537]\t[3.10901809]\t22    \t[0.18445018]\n",
      "713\t17    \t[0.96666667]\t713\t[1.]\t[0.]\t17    \t[0.17950549]\t[3.22990322]\t713\t[3.55188298]\t[3.10901809]\t17    \t[0.10877641]\n",
      "714\t15    \t[1.]        \t714\t[1.]\t[1.]\t15    \t[0.]        \t[3.22650251]\t714\t[3.63434601]\t[3.10901809]\t15    \t[0.12779726]\n",
      "715\t16    \t[1.]        \t715\t[1.]\t[1.]\t16    \t[0.]        \t[3.23062023]\t715\t[3.55411601]\t[3.10901809]\t16    \t[0.14391126]\n",
      "716\t19    \t[1.]        \t716\t[1.]\t[1.]\t19    \t[0.]        \t[3.20750366]\t716\t[3.37055707]\t[3.10901809]\t19    \t[0.08802137]\n",
      "717\t17    \t[1.]        \t717\t[1.]\t[1.]\t17    \t[0.]        \t[3.20708779]\t717\t[3.461725]  \t[3.10901809]\t17    \t[0.12403468]\n",
      "718\t24    \t[1.]        \t718\t[1.]\t[1.]\t24    \t[0.]        \t[3.23746644]\t718\t[3.65882564]\t[3.10901809]\t24    \t[0.12424731]\n",
      "719\t17    \t[1.]        \t719\t[1.]\t[1.]\t17    \t[0.]        \t[3.25207693]\t719\t[3.61604881]\t[3.10901809]\t17    \t[0.13837153]\n",
      "720\t17    \t[1.]        \t720\t[1.]\t[1.]\t17    \t[0.]        \t[3.28444678]\t720\t[3.69011474]\t[3.10901809]\t17    \t[0.1679422] \n",
      "721\t16    \t[1.]        \t721\t[1.]\t[1.]\t16    \t[0.]        \t[3.23854387]\t721\t[3.5665071] \t[3.10901809]\t16    \t[0.11203061]\n",
      "722\t23    \t[0.96666667]\t722\t[1.]\t[0.]\t23    \t[0.17950549]\t[3.29594609]\t722\t[3.57720256]\t[3.10901809]\t23    \t[0.14679553]\n",
      "723\t16    \t[0.93333333]\t723\t[1.]\t[0.]\t16    \t[0.24944383]\t[3.26271107]\t723\t[3.69810557]\t[3.10901809]\t16    \t[0.16490874]\n",
      "724\t19    \t[0.9]       \t724\t[1.]\t[0.]\t19    \t[0.3]       \t[3.24931821]\t724\t[3.52917552]\t[3.10901809]\t19    \t[0.11046133]\n",
      "725\t16    \t[1.]        \t725\t[1.]\t[1.]\t16    \t[0.]        \t[3.24066245]\t725\t[3.73651576]\t[3.10901809]\t16    \t[0.13155966]\n",
      "726\t19    \t[1.]        \t726\t[1.]\t[1.]\t19    \t[0.]        \t[3.23270647]\t726\t[3.44709468]\t[3.10901809]\t19    \t[0.09992513]\n",
      "727\t16    \t[0.96666667]\t727\t[1.]\t[0.]\t16    \t[0.17950549]\t[3.2336721] \t727\t[3.56318212]\t[3.10901809]\t16    \t[0.13758225]\n",
      "728\t16    \t[1.]        \t728\t[1.]\t[1.]\t16    \t[0.]        \t[3.22038743]\t728\t[3.58673286]\t[3.10901809]\t16    \t[0.13834269]\n",
      "729\t18    \t[1.]        \t729\t[1.]\t[1.]\t18    \t[0.]        \t[3.20393867]\t729\t[3.43168616]\t[3.10901809]\t18    \t[0.10144604]\n",
      "730\t17    \t[1.]        \t730\t[1.]\t[1.]\t17    \t[0.]        \t[3.23250699]\t730\t[3.55781865]\t[3.10901809]\t17    \t[0.13158465]\n",
      "731\t17    \t[0.96666667]\t731\t[1.]\t[0.]\t17    \t[0.17950549]\t[3.20186781]\t731\t[3.53261948]\t[3.10901809]\t17    \t[0.10717319]\n",
      "732\t19    \t[1.]        \t732\t[1.]\t[1.]\t19    \t[0.]        \t[3.21117115]\t732\t[3.48762131]\t[3.10901809]\t19    \t[0.11714907]\n",
      "733\t19    \t[1.]        \t733\t[1.]\t[1.]\t19    \t[0.]        \t[3.23792973]\t733\t[3.60652232]\t[3.10901809]\t19    \t[0.16206248]\n",
      "734\t15    \t[1.]        \t734\t[1.]\t[1.]\t15    \t[0.]        \t[3.21833445]\t734\t[3.75820518]\t[3.10901809]\t15    \t[0.148536]  \n",
      "735\t16    \t[1.]        \t735\t[1.]\t[1.]\t16    \t[0.]        \t[3.19116194]\t735\t[3.52734494]\t[3.10901809]\t16    \t[0.10624819]\n",
      "736\t18    \t[0.96666667]\t736\t[1.]\t[0.]\t18    \t[0.17950549]\t[3.2026484] \t736\t[3.64329076]\t[3.10901809]\t18    \t[0.13093024]\n",
      "737\t19    \t[1.]        \t737\t[1.]\t[1.]\t19    \t[0.]        \t[3.18804771]\t737\t[3.59215713]\t[3.10901809]\t19    \t[0.11275745]\n",
      "738\t16    \t[1.]        \t738\t[1.]\t[1.]\t16    \t[0.]        \t[3.19969768]\t738\t[3.44623685]\t[3.10901809]\t16    \t[0.12021417]\n",
      "739\t18    \t[1.]        \t739\t[1.]\t[1.]\t18    \t[0.]        \t[3.2203347] \t739\t[3.38767695]\t[3.10901809]\t18    \t[0.10816046]\n",
      "740\t20    \t[1.]        \t740\t[1.]\t[1.]\t20    \t[0.]        \t[3.25403388]\t740\t[3.48411369]\t[3.10901809]\t20    \t[0.10785702]\n",
      "741\t18    \t[1.]        \t741\t[1.]\t[1.]\t18    \t[0.]        \t[3.2886273] \t741\t[3.73099685]\t[3.10901809]\t18    \t[0.14499571]\n",
      "742\t16    \t[1.]        \t742\t[1.]\t[1.]\t16    \t[0.]        \t[3.23704397]\t742\t[3.54876375]\t[3.10901809]\t16    \t[0.12663912]\n",
      "743\t16    \t[1.]        \t743\t[1.]\t[1.]\t16    \t[0.]        \t[3.21316149]\t743\t[3.64440703]\t[3.10901809]\t16    \t[0.10918756]\n",
      "744\t15    \t[1.]        \t744\t[1.]\t[1.]\t15    \t[0.]        \t[3.22670817]\t744\t[3.50221109]\t[3.10901809]\t15    \t[0.12344563]\n"
     ]
    },
    {
     "name": "stdout",
     "output_type": "stream",
     "text": [
      "745\t15    \t[0.93333333]\t745\t[1.]\t[0.]\t15    \t[0.24944383]\t[3.21692855]\t745\t[3.47136664]\t[3.10901809]\t15    \t[0.10804826]\n",
      "746\t23    \t[1.]        \t746\t[1.]\t[1.]\t23    \t[0.]        \t[3.24172415]\t746\t[3.64199686]\t[3.10901809]\t23    \t[0.13718222]\n",
      "747\t19    \t[1.]        \t747\t[1.]\t[1.]\t19    \t[0.]        \t[3.20212259]\t747\t[3.49968195]\t[3.10901809]\t19    \t[0.10064911]\n",
      "748\t16    \t[1.]        \t748\t[1.]\t[1.]\t16    \t[0.]        \t[3.21535787]\t748\t[3.67252421]\t[3.10901809]\t16    \t[0.1223691] \n",
      "749\t17    \t[1.]        \t749\t[1.]\t[1.]\t17    \t[0.]        \t[3.21257346]\t749\t[3.7166276] \t[3.10901809]\t17    \t[0.14518004]\n",
      "750\t19    \t[1.]        \t750\t[1.]\t[1.]\t19    \t[0.]        \t[3.2143472] \t750\t[3.65882564]\t[3.10901809]\t19    \t[0.1340989] \n",
      "751\t20    \t[1.]        \t751\t[1.]\t[1.]\t20    \t[0.]        \t[3.20849374]\t751\t[3.59972382]\t[3.10901809]\t20    \t[0.13115099]\n",
      "752\t16    \t[1.]        \t752\t[1.]\t[1.]\t16    \t[0.]        \t[3.18310613]\t752\t[3.42666936]\t[3.10279036]\t16    \t[0.08878043]\n",
      "753\t21    \t[0.96666667]\t753\t[1.]\t[0.]\t21    \t[0.17950549]\t[3.20620673]\t753\t[3.60687327]\t[3.10279036]\t21    \t[0.12415532]\n",
      "754\t19    \t[1.]        \t754\t[1.]\t[1.]\t19    \t[0.]        \t[3.24447418]\t754\t[3.74431539]\t[3.10279036]\t19    \t[0.16186483]\n",
      "755\t16    \t[1.]        \t755\t[1.]\t[1.]\t16    \t[0.]        \t[3.21475772]\t755\t[3.58054423]\t[3.10279036]\t16    \t[0.14653023]\n",
      "756\t18    \t[1.]        \t756\t[1.]\t[1.]\t18    \t[0.]        \t[3.22721048]\t756\t[3.54091692]\t[3.10279036]\t18    \t[0.11924168]\n",
      "757\t15    \t[1.]        \t757\t[1.]\t[1.]\t15    \t[0.]        \t[3.2260203] \t757\t[3.56407595]\t[3.10279036]\t15    \t[0.14025248]\n",
      "758\t24    \t[1.]        \t758\t[1.]\t[1.]\t24    \t[0.]        \t[3.25438274]\t758\t[3.46349311]\t[3.10279036]\t24    \t[0.11556042]\n",
      "759\t20    \t[1.]        \t759\t[1.]\t[1.]\t20    \t[0.]        \t[3.29036932]\t759\t[3.84520888]\t[3.10279036]\t20    \t[0.21251402]\n",
      "760\t25    \t[1.]        \t760\t[1.]\t[1.]\t25    \t[0.]        \t[3.25812991]\t760\t[3.69018102]\t[3.10279036]\t25    \t[0.15183597]\n",
      "761\t21    \t[1.]        \t761\t[1.]\t[1.]\t21    \t[0.]        \t[3.24789502]\t761\t[3.65971804]\t[3.10279036]\t21    \t[0.12637488]\n",
      "762\t19    \t[0.96666667]\t762\t[1.]\t[0.]\t19    \t[0.17950549]\t[3.22949533]\t762\t[3.60041356]\t[3.10279036]\t19    \t[0.12400198]\n",
      "763\t17    \t[0.93333333]\t763\t[1.]\t[0.]\t17    \t[0.24944383]\t[3.19911581]\t763\t[3.46287704]\t[3.10279036]\t17    \t[0.09837725]\n",
      "764\t15    \t[1.]        \t764\t[1.]\t[1.]\t15    \t[0.]        \t[3.19812892]\t764\t[3.4501164] \t[3.10279036]\t15    \t[0.09953984]\n",
      "765\t19    \t[1.]        \t765\t[1.]\t[1.]\t19    \t[0.]        \t[3.21873048]\t765\t[3.49510622]\t[3.10279036]\t19    \t[0.10952251]\n",
      "766\t18    \t[1.]        \t766\t[1.]\t[1.]\t18    \t[0.]        \t[3.23518139]\t766\t[3.43273234]\t[3.10279036]\t18    \t[0.10120179]\n",
      "767\t19    \t[1.]        \t767\t[1.]\t[1.]\t19    \t[0.]        \t[3.24643952]\t767\t[3.5019486] \t[3.10279036]\t19    \t[0.12311321]\n",
      "768\t18    \t[1.]        \t768\t[1.]\t[1.]\t18    \t[0.]        \t[3.24098508]\t768\t[3.88190317]\t[3.10279036]\t18    \t[0.1638283] \n",
      "769\t19    \t[1.]        \t769\t[1.]\t[1.]\t19    \t[0.]        \t[3.20145339]\t769\t[3.56736231]\t[3.10279036]\t19    \t[0.11448818]\n",
      "770\t17    \t[1.]        \t770\t[1.]\t[1.]\t17    \t[0.]        \t[3.19479734]\t770\t[3.36219764]\t[3.10279036]\t17    \t[0.0829273] \n",
      "771\t20    \t[1.]        \t771\t[1.]\t[1.]\t20    \t[0.]        \t[3.21767876]\t771\t[3.53965068]\t[3.10279036]\t20    \t[0.11843727]\n",
      "772\t19    \t[1.]        \t772\t[1.]\t[1.]\t19    \t[0.]        \t[3.22815522]\t772\t[3.5827539] \t[3.10279036]\t19    \t[0.13370157]\n",
      "773\t17    \t[1.]        \t773\t[1.]\t[1.]\t17    \t[0.]        \t[3.22637556]\t773\t[3.58457422]\t[3.10279036]\t17    \t[0.14582892]\n",
      "774\t20    \t[1.]        \t774\t[1.]\t[1.]\t20    \t[0.]        \t[3.19927489]\t774\t[3.45716548]\t[3.10279036]\t20    \t[0.09492212]\n",
      "775\t21    \t[1.]        \t775\t[1.]\t[1.]\t21    \t[0.]        \t[3.21623534]\t775\t[3.52015352]\t[3.10279036]\t21    \t[0.1162155] \n",
      "776\t21    \t[0.96666667]\t776\t[1.]\t[0.]\t21    \t[0.17950549]\t[3.23001622]\t776\t[3.43057871]\t[3.10279036]\t21    \t[0.09879453]\n",
      "777\t15    \t[0.96666667]\t777\t[1.]\t[0.]\t15    \t[0.17950549]\t[3.22735961]\t777\t[3.57157207]\t[3.10279036]\t15    \t[0.12377896]\n",
      "778\t18    \t[1.]        \t778\t[1.]\t[1.]\t18    \t[0.]        \t[3.21663759]\t778\t[3.47204781]\t[3.10279036]\t18    \t[0.11394294]\n",
      "779\t22    \t[1.]        \t779\t[1.]\t[1.]\t22    \t[0.]        \t[3.25179813]\t779\t[3.71208262]\t[3.10279036]\t22    \t[0.16380815]\n",
      "780\t15    \t[0.93333333]\t780\t[1.]\t[0.]\t15    \t[0.24944383]\t[3.22548462]\t780\t[3.44335055]\t[3.10279036]\t15    \t[0.11962586]\n",
      "781\t22    \t[1.]        \t781\t[1.]\t[1.]\t22    \t[0.]        \t[3.23803966]\t781\t[3.60836387]\t[3.10279036]\t22    \t[0.1339138] \n",
      "782\t16    \t[1.]        \t782\t[1.]\t[1.]\t16    \t[0.]        \t[3.23020161]\t782\t[3.57482219]\t[3.10279036]\t16    \t[0.12408254]\n",
      "783\t24    \t[1.]        \t783\t[1.]\t[1.]\t24    \t[0.]        \t[3.23799783]\t783\t[3.53673244]\t[3.10279036]\t24    \t[0.11708867]\n",
      "784\t18    \t[1.]        \t784\t[1.]\t[1.]\t18    \t[0.]        \t[3.26465816]\t784\t[3.76140952]\t[3.10279036]\t18    \t[0.15726044]\n",
      "785\t18    \t[1.]        \t785\t[1.]\t[1.]\t18    \t[0.]        \t[3.24815156]\t785\t[3.69737506]\t[3.10279036]\t18    \t[0.14545095]\n",
      "786\t21    \t[1.]        \t786\t[1.]\t[1.]\t21    \t[0.]        \t[3.24514258]\t786\t[3.46630716]\t[3.10279036]\t21    \t[0.10988197]\n",
      "787\t18    \t[1.]        \t787\t[1.]\t[1.]\t18    \t[0.]        \t[3.26973123]\t787\t[3.54576039]\t[3.10279036]\t18    \t[0.12683069]\n",
      "788\t16    \t[1.]        \t788\t[1.]\t[1.]\t16    \t[0.]        \t[3.21086014]\t788\t[3.46097422]\t[3.10279036]\t16    \t[0.11758184]\n",
      "789\t18    \t[1.]        \t789\t[1.]\t[1.]\t18    \t[0.]        \t[3.23492949]\t789\t[3.86005855]\t[3.10279036]\t18    \t[0.178023]  \n",
      "790\t19    \t[1.]        \t790\t[1.]\t[1.]\t19    \t[0.]        \t[3.2428487] \t790\t[3.52464557]\t[3.10279036]\t19    \t[0.12826195]\n",
      "791\t20    \t[1.]        \t791\t[1.]\t[1.]\t20    \t[0.]        \t[3.22719389]\t791\t[3.5513947] \t[3.10279036]\t20    \t[0.1286735] \n",
      "792\t21    \t[1.]        \t792\t[1.]\t[1.]\t21    \t[0.]        \t[3.25709343]\t792\t[3.6596477] \t[3.10279036]\t21    \t[0.145113]  \n",
      "793\t18    \t[1.]        \t793\t[1.]\t[1.]\t18    \t[0.]        \t[3.2186668] \t793\t[3.69673848]\t[3.10279036]\t18    \t[0.14278327]\n",
      "794\t19    \t[1.]        \t794\t[1.]\t[1.]\t19    \t[0.]        \t[3.22317699]\t794\t[3.62515068]\t[3.10279036]\t19    \t[0.1331397] \n",
      "795\t17    \t[1.]        \t795\t[1.]\t[1.]\t17    \t[0.]        \t[3.18923647]\t795\t[3.58801198]\t[3.10279036]\t17    \t[0.12228701]\n",
      "796\t15    \t[1.]        \t796\t[1.]\t[1.]\t15    \t[0.]        \t[3.16027722]\t796\t[3.49129558]\t[3.10279036]\t15    \t[0.08650766]\n",
      "797\t19    \t[1.]        \t797\t[1.]\t[1.]\t19    \t[0.]        \t[3.20842408]\t797\t[3.54888844]\t[3.10279036]\t19    \t[0.12010883]\n",
      "798\t18    \t[1.]        \t798\t[1.]\t[1.]\t18    \t[0.]        \t[3.21375507]\t798\t[3.56983066]\t[3.10279036]\t18    \t[0.11484518]\n",
      "799\t20    \t[1.]        \t799\t[1.]\t[1.]\t20    \t[0.]        \t[3.21164421]\t799\t[3.38963699]\t[3.10279036]\t20    \t[0.07613724]\n",
      "800\t16    \t[1.]        \t800\t[1.]\t[1.]\t16    \t[0.]        \t[3.22550855]\t800\t[3.57528758]\t[3.10279036]\t16    \t[0.11841823]\n",
      "801\t11    \t[1.]        \t801\t[1.]\t[1.]\t11    \t[0.]        \t[3.21500866]\t801\t[3.6166985] \t[3.10279036]\t11    \t[0.12016161]\n",
      "802\t20    \t[1.]        \t802\t[1.]\t[1.]\t20    \t[0.]        \t[3.26016692]\t802\t[3.66236472]\t[3.10279036]\t20    \t[0.14672929]\n",
      "803\t12    \t[0.96666667]\t803\t[1.]\t[0.]\t12    \t[0.17950549]\t[3.19609763]\t803\t[3.68879104]\t[3.10279036]\t12    \t[0.1346992] \n",
      "804\t23    \t[1.]        \t804\t[1.]\t[1.]\t23    \t[0.]        \t[3.19772285]\t804\t[3.65301585]\t[3.10279036]\t23    \t[0.13004363]\n",
      "805\t22    \t[1.]        \t805\t[1.]\t[1.]\t22    \t[0.]        \t[3.21833354]\t805\t[3.62284017]\t[3.10279036]\t22    \t[0.14054498]\n",
      "806\t11    \t[0.96666667]\t806\t[1.]\t[0.]\t11    \t[0.17950549]\t[3.19163827]\t806\t[3.70664454]\t[3.10279036]\t11    \t[0.12978784]\n",
      "807\t18    \t[1.]        \t807\t[1.]\t[1.]\t18    \t[0.]        \t[3.19130867]\t807\t[3.45773005]\t[3.10279036]\t18    \t[0.09650905]\n",
      "808\t19    \t[1.]        \t808\t[1.]\t[1.]\t19    \t[0.]        \t[3.17911704]\t808\t[3.39844966]\t[3.10279036]\t19    \t[0.08501615]\n",
      "809\t14    \t[1.]        \t809\t[1.]\t[1.]\t14    \t[0.]        \t[3.19659894]\t809\t[3.67115855]\t[3.10279036]\t14    \t[0.13679459]\n",
      "810\t17    \t[0.96666667]\t810\t[1.]\t[0.]\t17    \t[0.17950549]\t[3.16291352]\t810\t[3.47141814]\t[3.10279036]\t17    \t[0.09729309]\n",
      "811\t22    \t[1.]        \t811\t[1.]\t[1.]\t22    \t[0.]        \t[3.227355]  \t811\t[3.57671785]\t[3.10279036]\t22    \t[0.13210174]\n",
      "812\t17    \t[1.]        \t812\t[1.]\t[1.]\t17    \t[0.]        \t[3.23126105]\t812\t[3.70820403]\t[3.10279036]\t17    \t[0.16542856]\n"
     ]
    },
    {
     "name": "stdout",
     "output_type": "stream",
     "text": [
      "813\t19    \t[1.]        \t813\t[1.]\t[1.]\t19    \t[0.]        \t[3.1911369] \t813\t[3.39778709]\t[3.10279036]\t19    \t[0.09767451]\n",
      "814\t17    \t[1.]        \t814\t[1.]\t[1.]\t17    \t[0.]        \t[3.22305548]\t814\t[3.56098104]\t[3.10279036]\t17    \t[0.12048949]\n",
      "815\t16    \t[1.]        \t815\t[1.]\t[1.]\t16    \t[0.]        \t[3.21928896]\t815\t[3.59125066]\t[3.10279036]\t16    \t[0.14115727]\n",
      "816\t17    \t[1.]        \t816\t[1.]\t[1.]\t17    \t[0.]        \t[3.22981919]\t816\t[3.4542129] \t[3.10279036]\t17    \t[0.11688745]\n",
      "817\t19    \t[1.]        \t817\t[1.]\t[1.]\t19    \t[0.]        \t[3.25156429]\t817\t[3.70012593]\t[3.10279036]\t19    \t[0.16312881]\n",
      "818\t24    \t[1.]        \t818\t[1.]\t[1.]\t24    \t[0.]        \t[3.23273339]\t818\t[3.43490267]\t[3.10279036]\t24    \t[0.09549112]\n",
      "819\t19    \t[0.96666667]\t819\t[1.]\t[0.]\t19    \t[0.17950549]\t[3.25550745]\t819\t[3.66902733]\t[3.10279036]\t19    \t[0.14007123]\n",
      "820\t15    \t[1.]        \t820\t[1.]\t[1.]\t15    \t[0.]        \t[3.2219557] \t820\t[3.59355235]\t[3.10279036]\t15    \t[0.11994866]\n",
      "821\t21    \t[0.96666667]\t821\t[1.]\t[0.]\t21    \t[0.17950549]\t[3.24234504]\t821\t[3.70188069]\t[3.10279036]\t21    \t[0.13935792]\n",
      "822\t17    \t[1.]        \t822\t[1.]\t[1.]\t17    \t[0.]        \t[3.19461501]\t822\t[3.42245269]\t[3.10279036]\t17    \t[0.09273932]\n",
      "823\t14    \t[1.]        \t823\t[1.]\t[1.]\t14    \t[0.]        \t[3.2037788] \t823\t[3.53165746]\t[3.10279036]\t14    \t[0.11777807]\n",
      "824\t25    \t[1.]        \t824\t[1.]\t[1.]\t25    \t[0.]        \t[3.22467031]\t824\t[3.55576205]\t[3.10279036]\t25    \t[0.13940536]\n",
      "825\t18    \t[1.]        \t825\t[1.]\t[1.]\t18    \t[0.]        \t[3.21785715]\t825\t[3.58831668]\t[3.10279036]\t18    \t[0.14038254]\n",
      "826\t18    \t[1.]        \t826\t[1.]\t[1.]\t18    \t[0.]        \t[3.22076012]\t826\t[3.55577636]\t[3.10279036]\t18    \t[0.13685806]\n",
      "827\t19    \t[1.]        \t827\t[1.]\t[1.]\t19    \t[0.]        \t[3.1943275] \t827\t[3.39228749]\t[3.10279036]\t19    \t[0.09465566]\n",
      "828\t16    \t[1.]        \t828\t[1.]\t[1.]\t16    \t[0.]        \t[3.19207857]\t828\t[3.52522206]\t[3.10279036]\t16    \t[0.10604631]\n",
      "829\t15    \t[1.]        \t829\t[1.]\t[1.]\t15    \t[0.]        \t[3.2035777] \t829\t[3.67643237]\t[3.10279036]\t15    \t[0.1410015] \n",
      "830\t19    \t[1.]        \t830\t[1.]\t[1.]\t19    \t[0.]        \t[3.17624409]\t830\t[3.39126897]\t[3.10279036]\t19    \t[0.0964685] \n",
      "831\t17    \t[1.]        \t831\t[1.]\t[1.]\t17    \t[0.]        \t[3.18381333]\t831\t[3.44118094]\t[3.07835555]\t17    \t[0.09201112]\n",
      "832\t23    \t[1.]        \t832\t[1.]\t[1.]\t23    \t[0.]        \t[3.18728577]\t832\t[3.59296727]\t[3.08359289]\t23    \t[0.11311958]\n",
      "833\t17    \t[1.]        \t833\t[1.]\t[1.]\t17    \t[0.]        \t[3.18211823]\t833\t[3.31867909]\t[3.08359289]\t17    \t[0.08910226]\n",
      "834\t15    \t[1.]        \t834\t[1.]\t[1.]\t15    \t[0.]        \t[3.18973173]\t834\t[3.48643947]\t[3.08359289]\t15    \t[0.11844755]\n",
      "835\t17    \t[1.]        \t835\t[1.]\t[1.]\t17    \t[0.]        \t[3.18922801]\t835\t[3.53030062]\t[3.08359289]\t17    \t[0.11487026]\n",
      "836\t20    \t[1.]        \t836\t[1.]\t[1.]\t20    \t[0.]        \t[3.21422645]\t836\t[3.63038182]\t[3.08359289]\t20    \t[0.13732867]\n",
      "837\t20    \t[1.]        \t837\t[1.]\t[1.]\t20    \t[0.]        \t[3.18668137]\t837\t[3.35268974]\t[3.08359289]\t20    \t[0.09109891]\n",
      "838\t17    \t[1.]        \t838\t[1.]\t[1.]\t17    \t[0.]        \t[3.2331791] \t838\t[3.63366175]\t[3.08359289]\t17    \t[0.15706084]\n",
      "839\t21    \t[1.]        \t839\t[1.]\t[1.]\t21    \t[0.]        \t[3.23945311]\t839\t[3.53037882]\t[3.08359289]\t21    \t[0.13004333]\n",
      "840\t15    \t[1.]        \t840\t[1.]\t[1.]\t15    \t[0.]        \t[3.19511247]\t840\t[3.46583486]\t[3.08359289]\t15    \t[0.09748318]\n",
      "841\t17    \t[1.]        \t841\t[1.]\t[1.]\t17    \t[0.]        \t[3.21532641]\t841\t[3.56924939]\t[3.08359289]\t17    \t[0.13376024]\n",
      "842\t18    \t[1.]        \t842\t[1.]\t[1.]\t18    \t[0.]        \t[3.17378545]\t842\t[3.61743617]\t[3.08359289]\t18    \t[0.13011512]\n",
      "843\t19    \t[1.]        \t843\t[1.]\t[1.]\t19    \t[0.]        \t[3.17559319]\t843\t[3.43798184]\t[3.08359289]\t19    \t[0.11464126]\n",
      "844\t20    \t[1.]        \t844\t[1.]\t[1.]\t20    \t[0.]        \t[3.15540322]\t844\t[3.47792411]\t[3.08359289]\t20    \t[0.0982506] \n",
      "845\t14    \t[1.]        \t845\t[1.]\t[1.]\t14    \t[0.]        \t[3.15353719]\t845\t[3.34270549]\t[3.08359289]\t14    \t[0.08185741]\n",
      "846\t17    \t[1.]        \t846\t[1.]\t[1.]\t17    \t[0.]        \t[3.19884026]\t846\t[3.55823565]\t[3.08359289]\t17    \t[0.12714692]\n",
      "847\t23    \t[1.]        \t847\t[1.]\t[1.]\t23    \t[0.]        \t[3.25553914]\t847\t[3.59166527]\t[3.08359289]\t23    \t[0.13748968]\n",
      "848\t19    \t[0.96666667]\t848\t[1.]\t[0.]\t19    \t[0.17950549]\t[3.23738316]\t848\t[3.65759921]\t[3.08359289]\t19    \t[0.14787178]\n",
      "849\t18    \t[1.]        \t849\t[1.]\t[1.]\t18    \t[0.]        \t[3.22211788]\t849\t[3.65816164]\t[3.08359289]\t18    \t[0.14669102]\n",
      "850\t15    \t[1.]        \t850\t[1.]\t[1.]\t15    \t[0.]        \t[3.16934512]\t850\t[3.42869234]\t[3.08359289]\t15    \t[0.09692355]\n",
      "851\t19    \t[1.]        \t851\t[1.]\t[1.]\t19    \t[0.]        \t[3.2076743] \t851\t[3.42355967]\t[3.08359289]\t19    \t[0.11500797]\n",
      "852\t19    \t[1.]        \t852\t[1.]\t[1.]\t19    \t[0.]        \t[3.16024937]\t852\t[3.42355275]\t[3.08359289]\t19    \t[0.10029931]\n",
      "853\t16    \t[1.]        \t853\t[1.]\t[1.]\t16    \t[0.]        \t[3.17806667]\t853\t[3.37431836]\t[3.08359289]\t16    \t[0.10016642]\n",
      "854\t11    \t[1.]        \t854\t[1.]\t[1.]\t11    \t[0.]        \t[3.17782119]\t854\t[3.4101963] \t[3.08359289]\t11    \t[0.11247636]\n",
      "855\t19    \t[1.]        \t855\t[1.]\t[1.]\t19    \t[0.]        \t[3.16226339]\t855\t[3.44442153]\t[3.08359289]\t19    \t[0.10575458]\n",
      "856\t18    \t[1.]        \t856\t[1.]\t[1.]\t18    \t[0.]        \t[3.20976443]\t856\t[3.62013626]\t[3.08359289]\t18    \t[0.14035199]\n",
      "857\t16    \t[1.]        \t857\t[1.]\t[1.]\t16    \t[0.]        \t[3.19111902]\t857\t[3.47672772]\t[3.08359289]\t16    \t[0.12088404]\n",
      "858\t17    \t[1.]        \t858\t[1.]\t[1.]\t17    \t[0.]        \t[3.16670982]\t858\t[3.34535098]\t[3.08359289]\t17    \t[0.09814122]\n",
      "859\t18    \t[1.]        \t859\t[1.]\t[1.]\t18    \t[0.]        \t[3.19223204]\t859\t[3.6062324] \t[3.0818336] \t18    \t[0.13838375]\n",
      "860\t21    \t[1.]        \t860\t[1.]\t[1.]\t21    \t[0.]        \t[3.23675385]\t860\t[3.69739079]\t[3.08359289]\t21    \t[0.1529392] \n",
      "861\t20    \t[0.93333333]\t861\t[1.]\t[0.]\t20    \t[0.24944383]\t[3.21728675]\t861\t[3.43660045]\t[3.08359289]\t20    \t[0.11125108]\n",
      "862\t20    \t[1.]        \t862\t[1.]\t[1.]\t20    \t[0.]        \t[3.23305246]\t862\t[3.4976151] \t[3.08359289]\t20    \t[0.10444625]\n",
      "863\t20    \t[0.96666667]\t863\t[1.]\t[0.]\t20    \t[0.17950549]\t[3.19941589]\t863\t[3.48099208]\t[3.08359289]\t20    \t[0.10116264]\n",
      "864\t17    \t[1.]        \t864\t[1.]\t[1.]\t17    \t[0.]        \t[3.18047049]\t864\t[3.33296514]\t[3.08359289]\t17    \t[0.078075]  \n",
      "865\t18    \t[1.]        \t865\t[1.]\t[1.]\t18    \t[0.]        \t[3.20473031]\t865\t[3.47220302]\t[3.08359289]\t18    \t[0.11129516]\n",
      "866\t14    \t[1.]        \t866\t[1.]\t[1.]\t14    \t[0.]        \t[3.19801455]\t866\t[3.73262858]\t[3.08359289]\t14    \t[0.1437576] \n",
      "867\t14    \t[1.]        \t867\t[1.]\t[1.]\t14    \t[0.]        \t[3.19842692]\t867\t[3.6001966] \t[3.08359289]\t14    \t[0.13344002]\n",
      "868\t20    \t[1.]        \t868\t[1.]\t[1.]\t20    \t[0.]        \t[3.20270039]\t868\t[3.52738118]\t[3.07872343]\t20    \t[0.11841486]\n",
      "869\t17    \t[1.]        \t869\t[1.]\t[1.]\t17    \t[0.]        \t[3.16744725]\t869\t[3.64712715]\t[3.07872343]\t17    \t[0.13448867]\n",
      "870\t20    \t[1.]        \t870\t[1.]\t[1.]\t20    \t[0.]        \t[3.19794574]\t870\t[3.51047254]\t[3.07872343]\t20    \t[0.13269198]\n",
      "871\t18    \t[1.]        \t871\t[1.]\t[1.]\t18    \t[0.]        \t[3.21987381]\t871\t[3.7244308] \t[3.07872343]\t18    \t[0.16222198]\n",
      "872\t22    \t[1.]        \t872\t[1.]\t[1.]\t22    \t[0.]        \t[3.22332579]\t872\t[3.63461161]\t[3.07872343]\t22    \t[0.14685328]\n",
      "873\t13    \t[0.96666667]\t873\t[1.]\t[0.]\t13    \t[0.17950549]\t[3.20301733]\t873\t[3.4358356] \t[3.07826948]\t13    \t[0.11523]   \n",
      "874\t25    \t[1.]        \t874\t[1.]\t[1.]\t25    \t[0.]        \t[3.22580055]\t874\t[3.44287801]\t[3.07826948]\t25    \t[0.10359927]\n",
      "875\t18    \t[1.]        \t875\t[1.]\t[1.]\t18    \t[0.]        \t[3.23927259]\t875\t[3.46773314]\t[3.07826948]\t18    \t[0.1263649] \n",
      "876\t17    \t[0.96666667]\t876\t[1.]\t[0.]\t17    \t[0.17950549]\t[3.21278577]\t876\t[3.79086614]\t[3.07009745]\t17    \t[0.17386953]\n",
      "877\t22    \t[1.]        \t877\t[1.]\t[1.]\t22    \t[0.]        \t[3.1881928] \t877\t[3.45226455]\t[3.07009745]\t22    \t[0.10986728]\n",
      "878\t14    \t[1.]        \t878\t[1.]\t[1.]\t14    \t[0.]        \t[3.16292969]\t878\t[3.9054563] \t[3.07009745]\t14    \t[0.15959239]\n",
      "879\t16    \t[1.]        \t879\t[1.]\t[1.]\t16    \t[0.]        \t[3.16368943]\t879\t[3.37834048]\t[3.07009745]\t16    \t[0.09559097]\n",
      "880\t21    \t[1.]        \t880\t[1.]\t[1.]\t21    \t[0.]        \t[3.22089305]\t880\t[3.49055266]\t[3.07009745]\t21    \t[0.12145515]\n"
     ]
    },
    {
     "name": "stdout",
     "output_type": "stream",
     "text": [
      "881\t18    \t[1.]        \t881\t[1.]\t[1.]\t18    \t[0.]        \t[3.17518358]\t881\t[3.42467046]\t[3.07009745]\t18    \t[0.10781973]\n",
      "882\t20    \t[1.]        \t882\t[1.]\t[1.]\t20    \t[0.]        \t[3.15857728]\t882\t[3.40590835]\t[3.07009745]\t20    \t[0.09821632]\n",
      "883\t16    \t[1.]        \t883\t[1.]\t[1.]\t16    \t[0.]        \t[3.18297234]\t883\t[3.78837276]\t[3.07009745]\t16    \t[0.15477733]\n",
      "884\t18    \t[1.]        \t884\t[1.]\t[1.]\t18    \t[0.]        \t[3.1733597] \t884\t[3.54385996]\t[3.07009745]\t18    \t[0.11949744]\n",
      "885\t20    \t[1.]        \t885\t[1.]\t[1.]\t20    \t[0.]        \t[3.13419208]\t885\t[3.42391133]\t[3.07009745]\t20    \t[0.08819453]\n",
      "886\t20    \t[0.96666667]\t886\t[1.]\t[0.]\t20    \t[0.17950549]\t[3.18928591]\t886\t[3.41446471]\t[3.07009745]\t20    \t[0.11773424]\n",
      "887\t19    \t[0.96666667]\t887\t[1.]\t[0.]\t19    \t[0.17950549]\t[3.17715805]\t887\t[3.67324138]\t[3.06249213]\t19    \t[0.1370396] \n",
      "888\t14    \t[1.]        \t888\t[1.]\t[1.]\t14    \t[0.]        \t[3.1570836] \t888\t[3.59369063]\t[3.06249213]\t14    \t[0.13064445]\n",
      "889\t20    \t[1.]        \t889\t[1.]\t[1.]\t20    \t[0.]        \t[3.13885368]\t889\t[3.36759496]\t[3.06249213]\t20    \t[0.09548479]\n",
      "890\t21    \t[1.]        \t890\t[1.]\t[1.]\t21    \t[0.]        \t[3.1682806] \t890\t[3.49380279]\t[3.06249213]\t21    \t[0.11221394]\n",
      "891\t21    \t[1.]        \t891\t[1.]\t[1.]\t21    \t[0.]        \t[3.20523821]\t891\t[3.64758992]\t[3.06249213]\t21    \t[0.13861628]\n",
      "892\t15    \t[1.]        \t892\t[1.]\t[1.]\t15    \t[0.]        \t[3.17210975]\t892\t[3.44784284]\t[3.06249213]\t15    \t[0.11418978]\n",
      "893\t17    \t[1.]        \t893\t[1.]\t[1.]\t17    \t[0.]        \t[3.15595201]\t893\t[3.41820979]\t[3.06249213]\t17    \t[0.11067256]\n",
      "894\t18    \t[1.]        \t894\t[1.]\t[1.]\t18    \t[0.]        \t[3.15388672]\t894\t[3.61268663]\t[3.06249213]\t18    \t[0.12247008]\n",
      "895\t20    \t[1.]        \t895\t[1.]\t[1.]\t20    \t[0.]        \t[3.17558877]\t895\t[3.52640152]\t[3.06249213]\t20    \t[0.13127632]\n",
      "896\t21    \t[1.]        \t896\t[1.]\t[1.]\t21    \t[0.]        \t[3.16186778]\t896\t[3.39299774]\t[3.0531795] \t21    \t[0.09192364]\n",
      "897\t20    \t[0.96666667]\t897\t[1.]\t[0.]\t20    \t[0.17950549]\t[3.17839672]\t897\t[3.52586293]\t[3.0531795] \t20    \t[0.12406488]\n",
      "898\t15    \t[0.93333333]\t898\t[1.]\t[0.]\t15    \t[0.24944383]\t[3.15927743]\t898\t[3.40446401]\t[3.0531795] \t15    \t[0.10971299]\n",
      "899\t13    \t[1.]        \t899\t[1.]\t[1.]\t13    \t[0.]        \t[3.14428787]\t899\t[3.59831166]\t[3.0531795] \t13    \t[0.12537068]\n",
      "900\t22    \t[1.]        \t900\t[1.]\t[1.]\t22    \t[0.]        \t[3.19976451]\t900\t[3.64365697]\t[3.03656816]\t22    \t[0.1608581] \n",
      "901\t20    \t[1.]        \t901\t[1.]\t[1.]\t20    \t[0.]        \t[3.19029414]\t901\t[3.5058713] \t[3.0531795] \t20    \t[0.12131653]\n",
      "902\t16    \t[1.]        \t902\t[1.]\t[1.]\t16    \t[0.]        \t[3.15597515]\t902\t[3.41014934]\t[3.0531795] \t16    \t[0.08455297]\n",
      "903\t18    \t[0.96666667]\t903\t[1.]\t[0.]\t18    \t[0.17950549]\t[3.17243181]\t903\t[3.50694847]\t[3.0531795] \t18    \t[0.11575489]\n",
      "904\t21    \t[1.]        \t904\t[1.]\t[1.]\t21    \t[0.]        \t[3.19448543]\t904\t[3.51839137]\t[3.0531795] \t21    \t[0.13159856]\n",
      "905\t18    \t[1.]        \t905\t[1.]\t[1.]\t18    \t[0.]        \t[3.19807178]\t905\t[3.60060048]\t[3.0531795] \t18    \t[0.13792119]\n",
      "906\t23    \t[0.96666667]\t906\t[1.]\t[0.]\t23    \t[0.17950549]\t[3.20855364]\t906\t[3.60355926]\t[3.0531795] \t23    \t[0.14153608]\n",
      "907\t21    \t[1.]        \t907\t[1.]\t[1.]\t21    \t[0.]        \t[3.18561211]\t907\t[3.52303481]\t[3.0531795] \t21    \t[0.12921252]\n",
      "908\t16    \t[1.]        \t908\t[1.]\t[1.]\t16    \t[0.]        \t[3.19128288]\t908\t[3.71327972]\t[3.0531795] \t16    \t[0.18213349]\n",
      "909\t17    \t[1.]        \t909\t[1.]\t[1.]\t17    \t[0.]        \t[3.18688108]\t909\t[3.47186899]\t[3.0531795] \t17    \t[0.12859932]\n",
      "910\t15    \t[1.]        \t910\t[1.]\t[1.]\t15    \t[0.]        \t[3.13565084]\t910\t[3.33462954]\t[3.0531795] \t15    \t[0.07905439]\n",
      "911\t16    \t[0.96666667]\t911\t[1.]\t[0.]\t16    \t[0.17950549]\t[3.17514863]\t911\t[3.63121605]\t[3.0531795] \t16    \t[0.14885217]\n",
      "912\t18    \t[1.]        \t912\t[1.]\t[1.]\t18    \t[0.]        \t[3.18511838]\t912\t[3.57471013]\t[3.0531795] \t18    \t[0.13986681]\n",
      "913\t20    \t[1.]        \t913\t[1.]\t[1.]\t20    \t[0.]        \t[3.1513807] \t913\t[3.45421672]\t[3.04248881]\t20    \t[0.09864751]\n",
      "914\t16    \t[1.]        \t914\t[1.]\t[1.]\t16    \t[0.]        \t[3.1313913] \t914\t[3.45600295]\t[3.04248881]\t16    \t[0.11064335]\n",
      "915\t22    \t[1.]        \t915\t[1.]\t[1.]\t22    \t[0.]        \t[3.16282455]\t915\t[3.44453502]\t[3.04248881]\t22    \t[0.10740496]\n",
      "916\t17    \t[1.]        \t916\t[1.]\t[1.]\t17    \t[0.]        \t[3.18367293]\t916\t[3.48802352]\t[3.04248881]\t17    \t[0.13882239]\n",
      "917\t19    \t[1.]        \t917\t[1.]\t[1.]\t19    \t[0.]        \t[3.17968559]\t917\t[3.51136327]\t[3.04248881]\t19    \t[0.1229585] \n",
      "918\t15    \t[0.96666667]\t918\t[1.]\t[0.]\t15    \t[0.17950549]\t[3.14047931]\t918\t[3.29524875]\t[3.04248881]\t15    \t[0.08780888]\n",
      "919\t17    \t[1.]        \t919\t[1.]\t[1.]\t17    \t[0.]        \t[3.16132592]\t919\t[3.39421511]\t[3.04248881]\t17    \t[0.10102977]\n",
      "920\t20    \t[1.]        \t920\t[1.]\t[1.]\t20    \t[0.]        \t[3.17485898]\t920\t[3.5212028] \t[3.04248881]\t20    \t[0.14055317]\n",
      "921\t13    \t[1.]        \t921\t[1.]\t[1.]\t13    \t[0.]        \t[3.16227973]\t921\t[3.58031821]\t[3.04248881]\t13    \t[0.14617371]\n",
      "922\t11    \t[1.]        \t922\t[1.]\t[1.]\t11    \t[0.]        \t[3.11260196]\t922\t[3.28345561]\t[3.04248881]\t11    \t[0.07987356]\n",
      "923\t18    \t[1.]        \t923\t[1.]\t[1.]\t18    \t[0.]        \t[3.16351604]\t923\t[3.50940394]\t[3.04248881]\t18    \t[0.14270088]\n",
      "924\t15    \t[1.]        \t924\t[1.]\t[1.]\t15    \t[0.]        \t[3.14764775]\t924\t[3.63917708]\t[3.04248881]\t15    \t[0.14256458]\n",
      "925\t17    \t[1.]        \t925\t[1.]\t[1.]\t17    \t[0.]        \t[3.13800798]\t925\t[3.40998912]\t[3.04248881]\t17    \t[0.09754247]\n",
      "926\t21    \t[1.]        \t926\t[1.]\t[1.]\t21    \t[0.]        \t[3.19081922]\t926\t[3.6157577] \t[3.04248881]\t21    \t[0.14063905]\n",
      "927\t21    \t[1.]        \t927\t[1.]\t[1.]\t21    \t[0.]        \t[3.18443343]\t927\t[3.41036391]\t[3.04248881]\t21    \t[0.11399386]\n",
      "928\t17    \t[0.96666667]\t928\t[1.]\t[0.]\t17    \t[0.17950549]\t[3.18354563]\t928\t[3.59057164]\t[3.04248881]\t17    \t[0.136172]  \n",
      "929\t18    \t[1.]        \t929\t[1.]\t[1.]\t18    \t[0.]        \t[3.18367057]\t929\t[3.75781131]\t[3.04248881]\t18    \t[0.18147855]\n",
      "930\t14    \t[1.]        \t930\t[1.]\t[1.]\t14    \t[0.]        \t[3.15349737]\t930\t[3.49988556]\t[3.04248881]\t14    \t[0.12771063]\n",
      "931\t17    \t[1.]        \t931\t[1.]\t[1.]\t17    \t[0.]        \t[3.14386928]\t931\t[3.43340373]\t[3.04248881]\t17    \t[0.09877341]\n",
      "932\t15    \t[1.]        \t932\t[1.]\t[1.]\t15    \t[0.]        \t[3.12932003]\t932\t[3.63213277]\t[3.04248881]\t15    \t[0.13624342]\n",
      "933\t15    \t[1.]        \t933\t[1.]\t[1.]\t15    \t[0.]        \t[3.16257245]\t933\t[3.62628722]\t[3.04248881]\t15    \t[0.1671236] \n",
      "934\t15    \t[1.]        \t934\t[1.]\t[1.]\t15    \t[0.]        \t[3.12454445]\t934\t[3.30716777]\t[3.04248881]\t15    \t[0.0934333] \n",
      "935\t17    \t[1.]        \t935\t[1.]\t[1.]\t17    \t[0.]        \t[3.15045021]\t935\t[3.57412076]\t[3.04248881]\t17    \t[0.14093429]\n",
      "936\t21    \t[1.]        \t936\t[1.]\t[1.]\t21    \t[0.]        \t[3.20255558]\t936\t[3.63197184]\t[3.04248881]\t21    \t[0.14636801]\n",
      "937\t21    \t[1.]        \t937\t[1.]\t[1.]\t21    \t[0.]        \t[3.16534262]\t937\t[3.57383657]\t[3.04248881]\t21    \t[0.12061189]\n",
      "938\t14    \t[0.96666667]\t938\t[1.]\t[0.]\t14    \t[0.17950549]\t[3.17893133]\t938\t[3.60561681]\t[3.04248881]\t14    \t[0.13745175]\n",
      "939\t14    \t[1.]        \t939\t[1.]\t[1.]\t14    \t[0.]        \t[3.14568082]\t939\t[3.43550944]\t[3.04248881]\t14    \t[0.09532727]\n",
      "940\t19    \t[1.]        \t940\t[1.]\t[1.]\t19    \t[0.]        \t[3.12610252]\t940\t[3.32502222]\t[3.04248881]\t19    \t[0.08717955]\n",
      "941\t23    \t[1.]        \t941\t[1.]\t[1.]\t23    \t[0.]        \t[3.15912191]\t941\t[3.50778842]\t[3.04248881]\t23    \t[0.12730618]\n",
      "942\t16    \t[1.]        \t942\t[1.]\t[1.]\t16    \t[0.]        \t[3.16669114]\t942\t[3.44312358]\t[3.04248881]\t16    \t[0.12049884]\n",
      "943\t20    \t[1.]        \t943\t[1.]\t[1.]\t20    \t[0.]        \t[3.17447295]\t943\t[3.64002347]\t[3.04248881]\t20    \t[0.14971714]\n",
      "944\t20    \t[1.]        \t944\t[1.]\t[1.]\t20    \t[0.]        \t[3.18952645]\t944\t[3.5226419] \t[3.04248881]\t20    \t[0.15288077]\n",
      "945\t21    \t[1.]        \t945\t[1.]\t[1.]\t21    \t[0.]        \t[3.18189445]\t945\t[3.61447906]\t[3.04248881]\t21    \t[0.13198646]\n",
      "946\t18    \t[1.]        \t946\t[1.]\t[1.]\t18    \t[0.]        \t[3.20009998]\t946\t[3.71138239]\t[3.04248881]\t18    \t[0.1669905] \n",
      "947\t19    \t[1.]        \t947\t[1.]\t[1.]\t19    \t[0.]        \t[3.15197421]\t947\t[3.46871996]\t[3.04248881]\t19    \t[0.11661893]\n",
      "948\t22    \t[1.]        \t948\t[1.]\t[1.]\t22    \t[0.]        \t[3.1999554] \t948\t[3.85518622]\t[3.04248881]\t22    \t[0.18672744]\n"
     ]
    },
    {
     "name": "stdout",
     "output_type": "stream",
     "text": [
      "949\t16    \t[1.]        \t949\t[1.]\t[1.]\t16    \t[0.]        \t[3.17207354]\t949\t[3.44328117]\t[3.04248881]\t16    \t[0.11916265]\n",
      "950\t13    \t[1.]        \t950\t[1.]\t[1.]\t13    \t[0.]        \t[3.15000557]\t950\t[3.49077535]\t[3.04248881]\t13    \t[0.12510472]\n",
      "951\t16    \t[1.]        \t951\t[1.]\t[1.]\t16    \t[0.]        \t[3.13225158]\t951\t[3.45835686]\t[3.04248881]\t16    \t[0.11186467]\n",
      "952\t19    \t[1.]        \t952\t[1.]\t[1.]\t19    \t[0.]        \t[3.18071667]\t952\t[3.63587952]\t[3.04248881]\t19    \t[0.14867359]\n",
      "953\t22    \t[1.]        \t953\t[1.]\t[1.]\t22    \t[0.]        \t[3.16793074]\t953\t[3.52842712]\t[3.04248881]\t22    \t[0.12030084]\n",
      "954\t18    \t[1.]        \t954\t[1.]\t[1.]\t18    \t[0.]        \t[3.15952663]\t954\t[3.45285034]\t[3.04248881]\t18    \t[0.11648284]\n",
      "955\t19    \t[1.]        \t955\t[1.]\t[1.]\t19    \t[0.]        \t[3.18942169]\t955\t[3.43338823]\t[3.04248881]\t19    \t[0.13087505]\n",
      "956\t20    \t[1.]        \t956\t[1.]\t[1.]\t20    \t[0.]        \t[3.20863484]\t956\t[3.43559456]\t[3.04248881]\t20    \t[0.13666225]\n",
      "957\t25    \t[1.]        \t957\t[1.]\t[1.]\t25    \t[0.]        \t[3.19945742]\t957\t[3.47194791]\t[3.04248881]\t25    \t[0.11928216]\n",
      "958\t17    \t[1.]        \t958\t[1.]\t[1.]\t17    \t[0.]        \t[3.19637969]\t958\t[3.55125499]\t[3.04248881]\t17    \t[0.13978366]\n",
      "959\t18    \t[1.]        \t959\t[1.]\t[1.]\t18    \t[0.]        \t[3.18242977]\t959\t[3.53272057]\t[3.04248881]\t18    \t[0.12420761]\n",
      "960\t18    \t[0.96666667]\t960\t[1.]\t[0.]\t18    \t[0.17950549]\t[3.1706807] \t960\t[3.67875743]\t[3.04248881]\t18    \t[0.1531775] \n",
      "961\t20    \t[1.]        \t961\t[1.]\t[1.]\t20    \t[0.]        \t[3.17369216]\t961\t[3.45608115]\t[3.04248881]\t20    \t[0.13765719]\n",
      "962\t20    \t[1.]        \t962\t[1.]\t[1.]\t20    \t[0.]        \t[3.17488333]\t962\t[3.52495122]\t[3.04248881]\t20    \t[0.13450842]\n",
      "963\t17    \t[1.]        \t963\t[1.]\t[1.]\t17    \t[0.]        \t[3.15049912]\t963\t[3.35626149]\t[3.04248881]\t17    \t[0.10546648]\n",
      "964\t13    \t[1.]        \t964\t[1.]\t[1.]\t13    \t[0.]        \t[3.16991907]\t964\t[3.49150324]\t[3.04248881]\t13    \t[0.13663504]\n",
      "965\t18    \t[1.]        \t965\t[1.]\t[1.]\t18    \t[0.]        \t[3.15282071]\t965\t[3.43220592]\t[3.04248881]\t18    \t[0.10635356]\n",
      "966\t19    \t[0.96666667]\t966\t[1.]\t[0.]\t19    \t[0.17950549]\t[3.11391765]\t966\t[3.31060672]\t[3.03399348]\t19    \t[0.07497393]\n",
      "967\t18    \t[1.]        \t967\t[1.]\t[1.]\t18    \t[0.]        \t[3.14452174]\t967\t[3.46426177]\t[3.03399348]\t18    \t[0.12014986]\n",
      "968\t16    \t[1.]        \t968\t[1.]\t[1.]\t16    \t[0.]        \t[3.1182603] \t968\t[3.3150506] \t[3.03399348]\t16    \t[0.08116726]\n",
      "969\t20    \t[0.96666667]\t969\t[1.]\t[0.]\t20    \t[0.17950549]\t[3.13520846]\t969\t[3.36949587]\t[3.03399348]\t20    \t[0.0872254] \n",
      "970\t17    \t[1.]        \t970\t[1.]\t[1.]\t17    \t[0.]        \t[3.18353578]\t970\t[3.62242818]\t[3.03399348]\t17    \t[0.14819869]\n",
      "971\t17    \t[0.93333333]\t971\t[1.]\t[0.]\t17    \t[0.24944383]\t[3.17181729]\t971\t[3.43378901]\t[3.03399348]\t17    \t[0.12150795]\n",
      "972\t20    \t[0.96666667]\t972\t[1.]\t[0.]\t20    \t[0.17950549]\t[3.18219469]\t972\t[3.46083522]\t[3.03399348]\t20    \t[0.11147701]\n",
      "973\t17    \t[1.]        \t973\t[1.]\t[1.]\t17    \t[0.]        \t[3.19899925]\t973\t[3.57058907]\t[3.03399348]\t17    \t[0.14602253]\n",
      "974\t16    \t[1.]        \t974\t[1.]\t[1.]\t16    \t[0.]        \t[3.16391045]\t974\t[3.5174644] \t[3.03399348]\t16    \t[0.14193138]\n",
      "975\t18    \t[1.]        \t975\t[1.]\t[1.]\t18    \t[0.]        \t[3.17922908]\t975\t[3.59253049]\t[3.03399348]\t18    \t[0.15011854]\n",
      "976\t15    \t[1.]        \t976\t[1.]\t[1.]\t15    \t[0.]        \t[3.18643348]\t976\t[3.5063889] \t[3.03399348]\t15    \t[0.14508049]\n",
      "977\t17    \t[1.]        \t977\t[1.]\t[1.]\t17    \t[0.]        \t[3.19302826]\t977\t[3.62207866]\t[3.03399348]\t17    \t[0.15276875]\n",
      "978\t20    \t[1.]        \t978\t[1.]\t[1.]\t20    \t[0.]        \t[3.1629436] \t978\t[3.4275074] \t[3.03399348]\t20    \t[0.11527528]\n",
      "979\t16    \t[1.]        \t979\t[1.]\t[1.]\t16    \t[0.]        \t[3.16999271]\t979\t[3.5017488] \t[3.03399348]\t16    \t[0.15130611]\n",
      "980\t18    \t[1.]        \t980\t[1.]\t[1.]\t18    \t[0.]        \t[3.18072272]\t980\t[3.5481751] \t[3.03399348]\t18    \t[0.12707155]\n",
      "981\t14    \t[1.]        \t981\t[1.]\t[1.]\t14    \t[0.]        \t[3.18658987]\t981\t[3.51714563]\t[3.03399348]\t14    \t[0.13128416]\n",
      "982\t15    \t[1.]        \t982\t[1.]\t[1.]\t15    \t[0.]        \t[3.17771023]\t982\t[3.54365087]\t[3.03399348]\t15    \t[0.12334807]\n",
      "983\t17    \t[1.]        \t983\t[1.]\t[1.]\t17    \t[0.]        \t[3.15861011]\t983\t[3.42609215]\t[3.03399348]\t17    \t[0.11668626]\n",
      "984\t19    \t[1.]        \t984\t[1.]\t[1.]\t19    \t[0.]        \t[3.19551671]\t984\t[3.46460032]\t[3.03399348]\t19    \t[0.12235027]\n",
      "985\t22    \t[1.]        \t985\t[1.]\t[1.]\t22    \t[0.]        \t[3.16459248]\t985\t[3.43656707]\t[3.03399348]\t22    \t[0.11135542]\n",
      "986\t20    \t[1.]        \t986\t[1.]\t[1.]\t20    \t[0.]        \t[3.20639686]\t986\t[3.52458501]\t[3.03399348]\t20    \t[0.14668827]\n",
      "987\t16    \t[1.]        \t987\t[1.]\t[1.]\t16    \t[0.]        \t[3.17554863]\t987\t[3.73494911]\t[3.03399348]\t16    \t[0.1591455] \n",
      "988\t20    \t[1.]        \t988\t[1.]\t[1.]\t20    \t[0.]        \t[3.13779941]\t988\t[3.37024856]\t[3.03399348]\t20    \t[0.11241852]\n",
      "989\t22    \t[1.]        \t989\t[1.]\t[1.]\t22    \t[0.]        \t[3.17805612]\t989\t[3.61316848]\t[3.03399348]\t22    \t[0.15941154]\n",
      "990\t18    \t[1.]        \t990\t[1.]\t[1.]\t18    \t[0.]        \t[3.15107003]\t990\t[3.43418884]\t[3.03399348]\t18    \t[0.11260615]\n",
      "991\t22    \t[1.]        \t991\t[1.]\t[1.]\t22    \t[0.]        \t[3.18485802]\t991\t[3.72339702]\t[3.03399348]\t22    \t[0.16450095]\n",
      "992\t17    \t[1.]        \t992\t[1.]\t[1.]\t17    \t[0.]        \t[3.17042894]\t992\t[3.56116676]\t[3.03399348]\t17    \t[0.15004463]\n",
      "993\t20    \t[1.]        \t993\t[1.]\t[1.]\t20    \t[0.]        \t[3.14339377]\t993\t[3.46841598]\t[3.03399348]\t20    \t[0.12621772]\n",
      "994\t25    \t[1.]        \t994\t[1.]\t[1.]\t25    \t[0.]        \t[3.19210102]\t994\t[3.56067824]\t[3.03399348]\t25    \t[0.1350779] \n",
      "995\t15    \t[1.]        \t995\t[1.]\t[1.]\t15    \t[0.]        \t[3.15945036]\t995\t[3.56353068]\t[3.03399348]\t15    \t[0.14873759]\n",
      "996\t16    \t[1.]        \t996\t[1.]\t[1.]\t16    \t[0.]        \t[3.13943154]\t996\t[3.46236396]\t[3.03399348]\t16    \t[0.11484118]\n",
      "997\t21    \t[1.]        \t997\t[1.]\t[1.]\t21    \t[0.]        \t[3.16892451]\t997\t[3.66123819]\t[3.03399348]\t21    \t[0.14995346]\n",
      "998\t16    \t[1.]        \t998\t[1.]\t[1.]\t16    \t[0.]        \t[3.17088617]\t998\t[3.60377669]\t[3.03399348]\t16    \t[0.16619283]\n",
      "999\t19    \t[1.]        \t999\t[1.]\t[1.]\t19    \t[0.]        \t[3.12918904]\t999\t[3.55707097]\t[3.03399348]\t19    \t[0.13138831]\n",
      "1000\t15    \t[1.]        \t1000\t[1.]\t[1.]\t15    \t[0.]        \t[3.12015467]\t1000\t[3.55381966]\t[3.03399348]\t15    \t[0.11672438]\n",
      "処理時間： 48572.60116802808\n",
      "   0     1     2     3     4     5     6     7     8     9     ...  1014  \\\n",
      "0   0.0   1.0   0.0   0.0   0.0   0.0   0.0   0.0   0.0   0.0  ...   0.0   \n",
      "1   0.0   1.0   0.0   0.0   0.0   0.0   0.0   0.0   0.0   0.0  ...   0.0   \n",
      "\n",
      "   1015  1016  1017  1018  1019  1020  1021  1022  1023  \n",
      "0   0.0   0.0   0.0   0.0   0.0   0.0   0.0   0.0   1.0  \n",
      "1   0.0   0.0   0.0   0.0   0.0   0.0   0.0   0.0   1.0  \n",
      "\n",
      "[2 rows x 1024 columns]\n",
      "Saved in: /mnt/workspace/Github/Pointnet_Pointnet2_pytorch/Mywork/Results/Files/seed0/GA_downsampling/Hall of fame/data615_ngen1000_rate0.125_seed0_2022-01-03_18-18.csv\n",
      "Saved in: /mnt/workspace/Github/Pointnet_Pointnet2_pytorch/Mywork/Results/Files/seed0/GA_downsampling/log/data615_ngen1000_rate0.125_seed0_2022-01-03_18-18.csv\n",
      "Saved in: /mnt/workspace/Github/Pointnet_Pointnet2_pytorch/Mywork/Results/Files/seed0/GA_downsampling/pop/data615_ngen1000_rate0.125_seed0_2022-01-03_18-19.csv\n"
     ]
    }
   ],
   "source": [
    "data_idx = 615\n",
    "original_points, target_fv, target = GA_dataset.__getitem__(data_idx)\n",
    "original_points = torch.from_numpy(original_points.astype(np.float32)).clone().view(1, 1024, 3)\n",
    "target_fv = torch.from_numpy(target_fv.astype(np.float32)).clone().view(1, -1)\n",
    "target = torch.from_numpy(np.array(target).astype(np.float32)).clone()\n",
    "\n",
    "Classifier_from_feature_vector = Classifier_from_feature_vector.eval().cuda()\n",
    "Feature_vector_calculator = Feature_vector_calculator.eval().cuda()\n",
    "\n",
    "rate = 1/8\n",
    "ngen = 1000\n",
    "seed = 0\n",
    "cxpd = 0.2\n",
    "mutpd = 0.5\n",
    "\n",
    "hof, pop, log= run_GA(original_points, target_fv, target, Feature_vector_calculator, \\\n",
    "                      Classifier_from_feature_vector, rate, ngen, seed, cxpd, mutpd)\n",
    "save_GA_results(log, hof, pop, 'seed0', 'GA_downsampling',data=data_idx, ngen=ngen, rate=rate, seed=seed)"
   ]
  },
  {
   "cell_type": "code",
   "execution_count": 235,
   "id": "97a45340",
   "metadata": {
    "scrolled": true
   },
   "outputs": [
    {
     "name": "stdout",
     "output_type": "stream",
     "text": [
      "   \t      \t                            acc                             \t                                    dist                                   \n",
      "   \t      \t------------------------------------------------------------\t---------------------------------------------------------------------------\n",
      "gen\tnevals\tavg         \tgen\tmax \tmin \tnevals\tstd         \tavg         \tgen\tmax         \tmin         \tnevals\tstd        \n",
      "0  \t30    \t[0.13333333]\t0  \t[1.]\t[0.]\t30    \t[0.33993463]\t[8.73670786]\t0  \t[9.59622097]\t[7.68606949]\t30    \t[0.4441062]\n",
      "1  \t19    \t[0.13333333]\t1  \t[1.]\t[0.]\t19    \t[0.33993463]\t[8.45532316]\t1  \t[9.01413631]\t[7.68606949]\t19    \t[0.32119019]\n",
      "2  \t21    \t[0.1]       \t2  \t[1.]\t[0.]\t21    \t[0.3]       \t[8.21049239]\t2  \t[8.89145851]\t[7.50666904]\t21    \t[0.33326169]\n",
      "3  \t21    \t[0.06666667]\t3  \t[1.]\t[0.]\t21    \t[0.24944383]\t[8.00663384]\t3  \t[9.13956165]\t[7.49649382]\t21    \t[0.39037248]\n",
      "4  \t15    \t[0.06666667]\t4  \t[1.]\t[0.]\t15    \t[0.24944383]\t[7.74766649]\t4  \t[8.33772182]\t[7.46969748]\t15    \t[0.20580503]\n",
      "5  \t19    \t[0.03333333]\t5  \t[1.]\t[0.]\t19    \t[0.17950549]\t[7.58721525]\t5  \t[7.83884668]\t[7.4234786] \t19    \t[0.12015838]\n",
      "6  \t18    \t[0.]        \t6  \t[0.]\t[0.]\t18    \t[0.]        \t[7.52555782]\t6  \t[7.75128269]\t[7.37665272]\t18    \t[0.10023706]\n",
      "7  \t17    \t[0.]        \t7  \t[0.]\t[0.]\t17    \t[0.]        \t[7.46369665]\t7  \t[7.87567282]\t[7.30778074]\t17    \t[0.12919615]\n",
      "8  \t19    \t[0.]        \t8  \t[0.]\t[0.]\t19    \t[0.]        \t[7.45371839]\t8  \t[7.69010782]\t[7.27331686]\t19    \t[0.11486335]\n",
      "9  \t17    \t[0.]        \t9  \t[0.]\t[0.]\t17    \t[0.]        \t[7.42041424]\t9  \t[7.8626833] \t[7.25247574]\t17    \t[0.13540843]\n",
      "10 \t21    \t[0.]        \t10 \t[0.]\t[0.]\t21    \t[0.]        \t[7.4009168] \t10 \t[7.67074156]\t[7.25335407]\t21    \t[0.12217822]\n",
      "11 \t13    \t[0.]        \t11 \t[0.]\t[0.]\t13    \t[0.]        \t[7.3067011] \t11 \t[7.64761686]\t[7.22539854]\t13    \t[0.08724232]\n",
      "12 \t23    \t[0.]        \t12 \t[0.]\t[0.]\t23    \t[0.]        \t[7.31359541]\t12 \t[7.63690329]\t[6.9548049] \t23    \t[0.13587807]\n",
      "13 \t13    \t[0.]        \t13 \t[0.]\t[0.]\t13    \t[0.]        \t[7.25401233]\t13 \t[7.61829615]\t[6.9548049] \t13    \t[0.1422843] \n",
      "14 \t20    \t[0.]        \t14 \t[0.]\t[0.]\t20    \t[0.]        \t[7.20339627]\t14 \t[7.59082365]\t[6.9548049] \t20    \t[0.1482224] \n",
      "15 \t18    \t[0.]        \t15 \t[0.]\t[0.]\t18    \t[0.]        \t[7.13168283]\t15 \t[7.4509058] \t[6.78340626]\t18    \t[0.13284963]\n",
      "16 \t22    \t[0.]        \t16 \t[0.]\t[0.]\t22    \t[0.]        \t[7.11345067]\t16 \t[7.61124134]\t[6.74692392]\t22    \t[0.19447177]\n",
      "17 \t19    \t[0.03333333]\t17 \t[1.]\t[0.]\t19    \t[0.17950549]\t[6.97149992]\t17 \t[7.40956736]\t[6.74692392]\t19    \t[0.1549869] \n",
      "18 \t19    \t[0.]        \t18 \t[0.]\t[0.]\t19    \t[0.]        \t[6.88644271]\t18 \t[7.13492155]\t[6.71634245]\t19    \t[0.11742323]\n",
      "19 \t18    \t[0.]        \t19 \t[0.]\t[0.]\t18    \t[0.]        \t[6.83934083]\t19 \t[7.55239725]\t[6.70711899]\t18    \t[0.1522416] \n",
      "20 \t11    \t[0.]        \t20 \t[0.]\t[0.]\t11    \t[0.]        \t[6.77508186]\t20 \t[6.94371176]\t[6.70711899]\t11    \t[0.0598196] \n",
      "21 \t15    \t[0.]        \t21 \t[0.]\t[0.]\t15    \t[0.]        \t[6.81435746]\t21 \t[7.39028502]\t[6.49846029]\t15    \t[0.17760156]\n",
      "22 \t18    \t[0.]        \t22 \t[0.]\t[0.]\t18    \t[0.]        \t[6.82850321]\t22 \t[7.44637632]\t[6.47818851]\t18    \t[0.19377575]\n",
      "23 \t17    \t[0.]        \t23 \t[0.]\t[0.]\t17    \t[0.]        \t[6.74558994]\t23 \t[6.93836355]\t[6.4969573] \t17    \t[0.10795563]\n",
      "24 \t15    \t[0.]        \t24 \t[0.]\t[0.]\t15    \t[0.]        \t[6.74504689]\t24 \t[7.36148214]\t[6.43812418]\t15    \t[0.21300737]\n",
      "25 \t19    \t[0.]        \t25 \t[0.]\t[0.]\t19    \t[0.]        \t[6.72031312]\t25 \t[7.34398222]\t[6.46701956]\t19    \t[0.19242185]\n",
      "26 \t18    \t[0.]        \t26 \t[0.]\t[0.]\t18    \t[0.]        \t[6.61886787]\t26 \t[6.99082804]\t[6.29269981]\t18    \t[0.16285771]\n",
      "27 \t19    \t[0.]        \t27 \t[0.]\t[0.]\t19    \t[0.]        \t[6.56838172]\t27 \t[6.93204641]\t[6.43699217]\t19    \t[0.15094051]\n",
      "28 \t17    \t[0.]        \t28 \t[0.]\t[0.]\t17    \t[0.]        \t[6.50709434]\t28 \t[6.9208045] \t[6.23526764]\t17    \t[0.1273556] \n",
      "29 \t23    \t[0.]        \t29 \t[0.]\t[0.]\t23    \t[0.]        \t[6.53971763]\t29 \t[6.96669388]\t[6.2745285] \t23    \t[0.14724924]\n",
      "30 \t23    \t[0.]        \t30 \t[0.]\t[0.]\t23    \t[0.]        \t[6.50728569]\t30 \t[6.97071171]\t[6.2917552] \t23    \t[0.15947466]\n",
      "31 \t21    \t[0.]        \t31 \t[0.]\t[0.]\t21    \t[0.]        \t[6.51155925]\t31 \t[6.81124258]\t[6.331182]  \t21    \t[0.1459398] \n",
      "32 \t17    \t[0.]        \t32 \t[0.]\t[0.]\t17    \t[0.]        \t[6.45397453]\t32 \t[6.70761108]\t[6.30639458]\t17    \t[0.10518191]\n",
      "33 \t19    \t[0.]        \t33 \t[0.]\t[0.]\t19    \t[0.]        \t[6.49842614]\t33 \t[6.94946814]\t[6.30639458]\t19    \t[0.16300073]\n",
      "34 \t19    \t[0.]        \t34 \t[0.]\t[0.]\t19    \t[0.]        \t[6.52573339]\t34 \t[7.19315815]\t[6.27352619]\t19    \t[0.21921015]\n",
      "35 \t14    \t[0.]        \t35 \t[0.]\t[0.]\t14    \t[0.]        \t[6.42931711]\t35 \t[6.74780989]\t[6.27352619]\t14    \t[0.1271383] \n",
      "36 \t15    \t[0.]        \t36 \t[0.]\t[0.]\t15    \t[0.]        \t[6.41156816]\t36 \t[6.81929922]\t[6.1778121] \t15    \t[0.14411668]\n",
      "37 \t15    \t[0.]        \t37 \t[0.]\t[0.]\t15    \t[0.]        \t[6.35763253]\t37 \t[6.76264286]\t[6.0615263] \t15    \t[0.14154655]\n",
      "38 \t16    \t[0.]        \t38 \t[0.]\t[0.]\t16    \t[0.]        \t[6.35884506]\t38 \t[6.82280588]\t[6.0615263] \t16    \t[0.15820055]\n",
      "39 \t20    \t[0.]        \t39 \t[0.]\t[0.]\t20    \t[0.]        \t[6.33530439]\t39 \t[7.36539078]\t[6.01033211]\t20    \t[0.25998239]\n",
      "40 \t14    \t[0.]        \t40 \t[0.]\t[0.]\t14    \t[0.]        \t[6.25940363]\t40 \t[6.58722019]\t[6.04518461]\t14    \t[0.14414387]\n",
      "41 \t16    \t[0.]        \t41 \t[0.]\t[0.]\t16    \t[0.]        \t[6.17852718]\t41 \t[6.68453741]\t[5.86268806]\t16    \t[0.17082746]\n",
      "42 \t22    \t[0.]        \t42 \t[0.]\t[0.]\t22    \t[0.]        \t[6.18155975]\t42 \t[6.70952559]\t[5.86268806]\t22    \t[0.20094827]\n",
      "43 \t19    \t[0.]        \t43 \t[0.]\t[0.]\t19    \t[0.]        \t[6.13160942]\t43 \t[6.58870173]\t[5.9232688] \t19    \t[0.1510224] \n",
      "44 \t23    \t[0.]        \t44 \t[0.]\t[0.]\t23    \t[0.]        \t[6.10735251]\t44 \t[6.47522354]\t[5.9232688] \t23    \t[0.13125103]\n",
      "45 \t20    \t[0.]        \t45 \t[0.]\t[0.]\t20    \t[0.]        \t[6.11661189]\t45 \t[6.60663462]\t[5.89820623]\t20    \t[0.16718794]\n",
      "46 \t18    \t[0.]        \t46 \t[0.]\t[0.]\t18    \t[0.]        \t[6.09375216]\t46 \t[6.53075266]\t[5.90973091]\t18    \t[0.13843259]\n",
      "47 \t15    \t[0.]        \t47 \t[0.]\t[0.]\t15    \t[0.]        \t[6.13197796]\t47 \t[6.59818125]\t[5.90973091]\t15    \t[0.19920448]\n",
      "48 \t20    \t[0.]        \t48 \t[0.]\t[0.]\t20    \t[0.]        \t[6.08061797]\t48 \t[6.61265516]\t[5.87227774]\t20    \t[0.17768821]\n",
      "49 \t15    \t[0.]        \t49 \t[0.]\t[0.]\t15    \t[0.]        \t[6.0523667] \t49 \t[6.48347569]\t[5.87929296]\t15    \t[0.17619221]\n",
      "50 \t23    \t[0.]        \t50 \t[0.]\t[0.]\t23    \t[0.]        \t[6.05129638]\t50 \t[6.30400801]\t[5.87929296]\t23    \t[0.13615753]\n",
      "51 \t18    \t[0.]        \t51 \t[0.]\t[0.]\t18    \t[0.]        \t[6.06277485]\t51 \t[6.70254898]\t[5.77426291]\t18    \t[0.20531776]\n",
      "52 \t18    \t[0.]        \t52 \t[0.]\t[0.]\t18    \t[0.]        \t[6.0125196] \t52 \t[6.46143341]\t[5.77426291]\t18    \t[0.15887722]\n",
      "53 \t23    \t[0.06666667]\t53 \t[1.]\t[0.]\t23    \t[0.24944383]\t[5.97239188]\t53 \t[6.50508451]\t[5.73796988]\t23    \t[0.16190946]\n",
      "54 \t20    \t[0.]        \t54 \t[0.]\t[0.]\t20    \t[0.]        \t[5.95947824]\t54 \t[6.40542173]\t[5.72157812]\t20    \t[0.17300541]\n",
      "55 \t18    \t[0.]        \t55 \t[0.]\t[0.]\t18    \t[0.]        \t[5.9709226] \t55 \t[6.39352226]\t[5.66102886]\t18    \t[0.1616323] \n",
      "56 \t18    \t[0.]        \t56 \t[0.]\t[0.]\t18    \t[0.]        \t[5.96713894]\t56 \t[6.61933756]\t[5.66102886]\t18    \t[0.20832237]\n",
      "57 \t21    \t[0.]        \t57 \t[0.]\t[0.]\t21    \t[0.]        \t[5.88892117]\t57 \t[6.27583694]\t[5.66102886]\t21    \t[0.16847323]\n",
      "58 \t18    \t[0.]        \t58 \t[0.]\t[0.]\t18    \t[0.]        \t[5.89396561]\t58 \t[6.35141754]\t[5.66102886]\t18    \t[0.17245225]\n",
      "59 \t18    \t[0.]        \t59 \t[0.]\t[0.]\t18    \t[0.]        \t[5.90268606]\t59 \t[6.63755035]\t[5.47804546]\t18    \t[0.2660199] \n",
      "60 \t19    \t[0.]        \t60 \t[0.]\t[0.]\t19    \t[0.]        \t[5.83464317]\t60 \t[6.30437231]\t[5.44391632]\t19    \t[0.19819173]\n",
      "61 \t19    \t[0.03333333]\t61 \t[1.]\t[0.]\t19    \t[0.17950549]\t[5.77311888]\t61 \t[6.0545764] \t[5.44391632]\t19    \t[0.15547076]\n",
      "62 \t16    \t[0.]        \t62 \t[0.]\t[0.]\t16    \t[0.]        \t[5.74095027]\t62 \t[6.30802822]\t[5.44391632]\t16    \t[0.19486967]\n",
      "63 \t20    \t[0.03333333]\t63 \t[1.]\t[0.]\t20    \t[0.17950549]\t[5.72836731]\t63 \t[6.17901039]\t[5.44391632]\t20    \t[0.21834563]\n",
      "64 \t18    \t[0.]        \t64 \t[0.]\t[0.]\t18    \t[0.]        \t[5.68753648]\t64 \t[6.09083891]\t[5.44391632]\t18    \t[0.19458545]\n"
     ]
    },
    {
     "name": "stdout",
     "output_type": "stream",
     "text": [
      "65 \t17    \t[0.]        \t65 \t[0.]\t[0.]\t17    \t[0.]        \t[5.66562055]\t65 \t[6.07291794]\t[5.44391632]\t17    \t[0.17529726]\n",
      "66 \t16    \t[0.]        \t66 \t[0.]\t[0.]\t16    \t[0.]        \t[5.62676781]\t66 \t[6.20279837]\t[5.44391632]\t16    \t[0.18180713]\n",
      "67 \t20    \t[0.]        \t67 \t[0.]\t[0.]\t20    \t[0.]        \t[5.62745668]\t67 \t[6.10305166]\t[5.44391632]\t20    \t[0.18197301]\n",
      "68 \t19    \t[0.03333333]\t68 \t[1.]\t[0.]\t19    \t[0.17950549]\t[5.62738463]\t68 \t[6.06697035]\t[5.40656185]\t19    \t[0.1831226] \n",
      "69 \t17    \t[0.]        \t69 \t[0.]\t[0.]\t17    \t[0.]        \t[5.60105921]\t69 \t[6.01893187]\t[5.30942106]\t17    \t[0.18713661]\n",
      "70 \t18    \t[0.]        \t70 \t[0.]\t[0.]\t18    \t[0.]        \t[5.62425086]\t70 \t[6.12877846]\t[5.30942106]\t18    \t[0.21320657]\n",
      "71 \t19    \t[0.03333333]\t71 \t[1.]\t[0.]\t19    \t[0.17950549]\t[5.62840233]\t71 \t[6.22644281]\t[5.36385107]\t19    \t[0.22555259]\n",
      "72 \t16    \t[0.13333333]\t72 \t[1.]\t[0.]\t16    \t[0.33993463]\t[5.60681753]\t72 \t[6.2384758] \t[5.36385107]\t16    \t[0.22047245]\n",
      "73 \t19    \t[0.06666667]\t73 \t[1.]\t[0.]\t19    \t[0.24944383]\t[5.54379524]\t73 \t[5.89958906]\t[5.29125929]\t19    \t[0.15182503]\n",
      "74 \t21    \t[0.13333333]\t74 \t[1.]\t[0.]\t21    \t[0.33993463]\t[5.59101132]\t74 \t[6.26915121]\t[5.26859426]\t21    \t[0.21236232]\n",
      "75 \t20    \t[0.16666667]\t75 \t[1.]\t[0.]\t20    \t[0.372678]  \t[5.57976626]\t75 \t[6.06620169]\t[5.26859426]\t20    \t[0.20053732]\n",
      "76 \t24    \t[0.16666667]\t76 \t[1.]\t[0.]\t24    \t[0.372678]  \t[5.5805857] \t76 \t[6.05948782]\t[5.15637445]\t24    \t[0.21459676]\n",
      "77 \t20    \t[0.33333333]\t77 \t[1.]\t[0.]\t20    \t[0.47140452]\t[5.55575967]\t77 \t[6.04161453]\t[5.15637445]\t20    \t[0.2255095] \n",
      "78 \t18    \t[0.6]       \t78 \t[1.]\t[0.]\t18    \t[0.48989795]\t[5.46487929]\t78 \t[6.03687811]\t[5.15637445]\t18    \t[0.22016171]\n",
      "79 \t12    \t[0.73333333]\t79 \t[1.]\t[0.]\t12    \t[0.44221664]\t[5.33314355]\t79 \t[5.65414572]\t[5.12806654]\t12    \t[0.15683466]\n",
      "80 \t18    \t[0.83333333]\t80 \t[1.]\t[0.]\t18    \t[0.372678]  \t[5.31819263]\t80 \t[5.66677618]\t[5.12806654]\t18    \t[0.16645051]\n",
      "81 \t18    \t[0.53333333]\t81 \t[1.]\t[0.]\t18    \t[0.49888765]\t[5.34086498]\t81 \t[5.81430721]\t[5.12413406]\t18    \t[0.20337883]\n",
      "82 \t16    \t[0.36666667]\t82 \t[1.]\t[0.]\t16    \t[0.48189441]\t[5.30368226]\t82 \t[5.86791515]\t[5.12806654]\t16    \t[0.18991155]\n",
      "83 \t15    \t[0.4]       \t83 \t[1.]\t[0.]\t15    \t[0.48989795]\t[5.32290057]\t83 \t[5.8301096] \t[5.11730433]\t15    \t[0.24358332]\n",
      "84 \t19    \t[0.36666667]\t84 \t[1.]\t[0.]\t19    \t[0.48189441]\t[5.3183046] \t84 \t[5.99466181]\t[5.11730433]\t19    \t[0.21607743]\n",
      "85 \t15    \t[0.4]       \t85 \t[1.]\t[0.]\t15    \t[0.48989795]\t[5.23326065]\t85 \t[5.53348732]\t[5.11730433]\t15    \t[0.13167918]\n",
      "86 \t18    \t[0.56666667]\t86 \t[1.]\t[0.]\t18    \t[0.49553562]\t[5.26939863]\t86 \t[5.82629013]\t[5.10825109]\t18    \t[0.19968142]\n",
      "87 \t23    \t[0.46666667]\t87 \t[1.]\t[0.]\t23    \t[0.49888765]\t[5.28469191]\t87 \t[5.77344465]\t[5.10825109]\t23    \t[0.19281738]\n",
      "88 \t23    \t[0.56666667]\t88 \t[1.]\t[0.]\t23    \t[0.49553562]\t[5.32057524]\t88 \t[5.84966183]\t[5.0835619] \t23    \t[0.20375052]\n",
      "89 \t21    \t[0.6]       \t89 \t[1.]\t[0.]\t21    \t[0.48989795]\t[5.31158875]\t89 \t[6.2770586] \t[5.0835619] \t21    \t[0.24458169]\n",
      "90 \t21    \t[0.8]       \t90 \t[1.]\t[0.]\t21    \t[0.4]       \t[5.27813298]\t90 \t[5.68441916]\t[5.07795668]\t21    \t[0.17419269]\n",
      "91 \t17    \t[0.9]       \t91 \t[1.]\t[0.]\t17    \t[0.3]       \t[5.26732669]\t91 \t[5.78924751]\t[5.07795668]\t17    \t[0.1884317] \n",
      "92 \t15    \t[0.9]       \t92 \t[1.]\t[0.]\t15    \t[0.3]       \t[5.2654816] \t92 \t[5.80148077]\t[5.08181858]\t15    \t[0.20628063]\n",
      "93 \t21    \t[0.86666667]\t93 \t[1.]\t[0.]\t21    \t[0.33993463]\t[5.22706426]\t93 \t[5.54312658]\t[5.04723454]\t21    \t[0.16200619]\n",
      "94 \t19    \t[0.76666667]\t94 \t[1.]\t[0.]\t19    \t[0.42295258]\t[5.2361595] \t94 \t[5.71983337]\t[5.04723454]\t19    \t[0.19777235]\n",
      "95 \t20    \t[0.73333333]\t95 \t[1.]\t[0.]\t20    \t[0.44221664]\t[5.24040855]\t95 \t[5.66417027]\t[5.04723454]\t20    \t[0.18289515]\n",
      "96 \t13    \t[0.7]       \t96 \t[1.]\t[0.]\t13    \t[0.45825757]\t[5.22577718]\t96 \t[5.65735149]\t[5.04689169]\t13    \t[0.17609192]\n",
      "97 \t15    \t[0.93333333]\t97 \t[1.]\t[0.]\t15    \t[0.24944383]\t[5.23577598]\t97 \t[6.0639658] \t[5.04689169]\t15    \t[0.22906138]\n",
      "98 \t17    \t[0.73333333]\t98 \t[1.]\t[0.]\t17    \t[0.44221664]\t[5.18671481]\t98 \t[5.4292345] \t[5.04689169]\t17    \t[0.12508112]\n",
      "99 \t23    \t[0.56666667]\t99 \t[1.]\t[0.]\t23    \t[0.49553562]\t[5.27003551]\t99 \t[5.68897772]\t[5.04689169]\t23    \t[0.17938951]\n",
      "100\t19    \t[0.6]       \t100\t[1.]\t[0.]\t19    \t[0.48989795]\t[5.28867861]\t100\t[5.67421103]\t[5.0100441] \t19    \t[0.20459943]\n",
      "101\t17    \t[0.43333333]\t101\t[1.]\t[0.]\t17    \t[0.49553562]\t[5.20593801]\t101\t[5.72724295]\t[5.0100441] \t17    \t[0.21151056]\n",
      "102\t20    \t[0.3]       \t102\t[1.]\t[0.]\t20    \t[0.45825757]\t[5.20278578]\t102\t[5.55607939]\t[4.99937677]\t20    \t[0.18917985]\n",
      "103\t20    \t[0.23333333]\t103\t[1.]\t[0.]\t20    \t[0.42295258]\t[5.22906475]\t103\t[5.58604431]\t[4.99937677]\t20    \t[0.1697622] \n",
      "104\t16    \t[0.23333333]\t104\t[1.]\t[0.]\t16    \t[0.42295258]\t[5.12108858]\t104\t[5.49887609]\t[4.99937677]\t16    \t[0.11216177]\n",
      "105\t21    \t[0.36666667]\t105\t[1.]\t[0.]\t21    \t[0.48189441]\t[5.2146325] \t105\t[5.80420065]\t[4.93947554]\t21    \t[0.22776982]\n",
      "106\t15    \t[0.3]       \t106\t[1.]\t[0.]\t15    \t[0.45825757]\t[5.15404474]\t106\t[5.58201504]\t[4.93947554]\t15    \t[0.17863486]\n",
      "107\t21    \t[0.26666667]\t107\t[1.]\t[0.]\t21    \t[0.44221664]\t[5.19285496]\t107\t[5.61396599]\t[4.90085554]\t21    \t[0.2156232] \n",
      "108\t17    \t[0.1]       \t108\t[1.]\t[0.]\t17    \t[0.3]       \t[5.18905241]\t108\t[5.69183111]\t[4.90085554]\t17    \t[0.237865]  \n",
      "109\t23    \t[0.23333333]\t109\t[1.]\t[0.]\t23    \t[0.42295258]\t[5.14176102]\t109\t[5.61708593]\t[4.93033409]\t23    \t[0.18288167]\n",
      "110\t19    \t[0.23333333]\t110\t[1.]\t[0.]\t19    \t[0.42295258]\t[5.16525908]\t110\t[5.55584097]\t[4.93947554]\t19    \t[0.19897276]\n",
      "111\t18    \t[0.2]       \t111\t[1.]\t[0.]\t18    \t[0.4]       \t[5.12707194]\t111\t[5.66650391]\t[4.93033409]\t18    \t[0.19232567]\n",
      "112\t17    \t[0.16666667]\t112\t[1.]\t[0.]\t17    \t[0.372678]  \t[5.09163645]\t112\t[5.50575256]\t[4.93033409]\t17    \t[0.16664695]\n",
      "113\t15    \t[0.16666667]\t113\t[1.]\t[0.]\t15    \t[0.372678]  \t[5.08715674]\t113\t[5.5781846] \t[4.93033409]\t15    \t[0.18002371]\n",
      "114\t19    \t[0.16666667]\t114\t[1.]\t[0.]\t19    \t[0.372678]  \t[5.13681161]\t114\t[5.74013996]\t[4.9276638] \t19    \t[0.2387474] \n",
      "115\t17    \t[0.06666667]\t115\t[1.]\t[0.]\t17    \t[0.24944383]\t[5.03728833]\t115\t[5.58502436]\t[4.92254591]\t17    \t[0.15519813]\n",
      "116\t19    \t[0.]        \t116\t[0.]\t[0.]\t19    \t[0.]        \t[5.07441708]\t116\t[5.46553946]\t[4.90643549]\t19    \t[0.1804448] \n",
      "117\t22    \t[0.1]       \t117\t[1.]\t[0.]\t22    \t[0.3]       \t[5.16112183]\t117\t[5.69565868]\t[4.88701057]\t22    \t[0.23930805]\n",
      "118\t16    \t[0.16666667]\t118\t[1.]\t[0.]\t16    \t[0.372678]  \t[5.07240477]\t118\t[5.60045338]\t[4.91184568]\t16    \t[0.16552361]\n",
      "119\t19    \t[0.1]       \t119\t[1.]\t[0.]\t19    \t[0.3]       \t[5.11833186]\t119\t[5.5692358] \t[4.88701057]\t19    \t[0.21305867]\n",
      "120\t21    \t[0.13333333]\t120\t[1.]\t[0.]\t21    \t[0.33993463]\t[5.17708654]\t120\t[5.79120731]\t[4.88701057]\t21    \t[0.23467027]\n",
      "121\t18    \t[0.16666667]\t121\t[1.]\t[0.]\t18    \t[0.372678]  \t[5.09107652]\t121\t[5.5860343] \t[4.88701057]\t18    \t[0.1913737] \n",
      "122\t19    \t[0.1]       \t122\t[1.]\t[0.]\t19    \t[0.3]       \t[5.07040909]\t122\t[5.75598288]\t[4.79175329]\t19    \t[0.19185558]\n",
      "123\t19    \t[0.16666667]\t123\t[1.]\t[0.]\t19    \t[0.372678]  \t[5.04054001]\t123\t[5.55195379]\t[4.79175329]\t19    \t[0.18443907]\n",
      "124\t14    \t[0.06666667]\t124\t[1.]\t[0.]\t14    \t[0.24944383]\t[4.99215921]\t124\t[5.41976547]\t[4.79175329]\t14    \t[0.17215594]\n",
      "125\t14    \t[0.]        \t125\t[0.]\t[0.]\t14    \t[0.]        \t[4.93426752]\t125\t[5.40264606]\t[4.79175329]\t14    \t[0.17087594]\n",
      "126\t24    \t[0.06666667]\t126\t[1.]\t[0.]\t24    \t[0.24944383]\t[5.01673476]\t126\t[5.61386633]\t[4.79175329]\t24    \t[0.20927703]\n",
      "127\t19    \t[0.06666667]\t127\t[1.]\t[0.]\t19    \t[0.24944383]\t[4.99676677]\t127\t[5.41816044]\t[4.79175329]\t19    \t[0.18787906]\n",
      "128\t19    \t[0.1]       \t128\t[1.]\t[0.]\t19    \t[0.3]       \t[5.00730243]\t128\t[5.44902182]\t[4.79175329]\t19    \t[0.18681825]\n",
      "129\t21    \t[0.16666667]\t129\t[1.]\t[0.]\t21    \t[0.372678]  \t[5.04102634]\t129\t[5.38841057]\t[4.79175329]\t21    \t[0.19988913]\n",
      "130\t23    \t[0.23333333]\t130\t[1.]\t[0.]\t23    \t[0.42295258]\t[5.09357246]\t130\t[5.83517981]\t[4.79175329]\t23    \t[0.26860212]\n",
      "131\t19    \t[0.26666667]\t131\t[1.]\t[0.]\t19    \t[0.44221664]\t[5.01326283]\t131\t[5.54998398]\t[4.79175329]\t19    \t[0.20656646]\n",
      "132\t17    \t[0.33333333]\t132\t[1.]\t[0.]\t17    \t[0.47140452]\t[5.00239738]\t132\t[5.58698893]\t[4.79175329]\t17    \t[0.20588094]\n"
     ]
    },
    {
     "name": "stdout",
     "output_type": "stream",
     "text": [
      "133\t17    \t[0.23333333]\t133\t[1.]\t[0.]\t17    \t[0.42295258]\t[4.96224567]\t133\t[5.38090658]\t[4.79175329]\t17    \t[0.16109948]\n",
      "134\t14    \t[0.16666667]\t134\t[1.]\t[0.]\t14    \t[0.372678]  \t[4.9292528] \t134\t[5.49414015]\t[4.79175329]\t14    \t[0.17430573]\n",
      "135\t25    \t[0.16666667]\t135\t[1.]\t[0.]\t25    \t[0.372678]  \t[5.02564789]\t135\t[5.49529123]\t[4.79175329]\t25    \t[0.23519806]\n",
      "136\t17    \t[0.2]       \t136\t[1.]\t[0.]\t17    \t[0.4]       \t[4.94851812]\t136\t[5.39778662]\t[4.79175329]\t17    \t[0.19178574]\n",
      "137\t18    \t[0.26666667]\t137\t[1.]\t[0.]\t18    \t[0.44221664]\t[5.00480418]\t137\t[5.41076231]\t[4.79175329]\t18    \t[0.19010973]\n",
      "138\t16    \t[0.23333333]\t138\t[1.]\t[0.]\t16    \t[0.42295258]\t[4.96669057]\t138\t[5.43758774]\t[4.79175329]\t16    \t[0.17751995]\n",
      "139\t18    \t[0.13333333]\t139\t[1.]\t[0.]\t18    \t[0.33993463]\t[4.96147122]\t139\t[5.55895901]\t[4.77215767]\t18    \t[0.20021082]\n",
      "140\t18    \t[0.06666667]\t140\t[1.]\t[0.]\t18    \t[0.24944383]\t[4.93877339]\t140\t[5.34372902]\t[4.79175329]\t18    \t[0.14482619]\n",
      "141\t18    \t[0.2]       \t141\t[1.]\t[0.]\t18    \t[0.4]       \t[4.96574717]\t141\t[5.43338966]\t[4.77215767]\t18    \t[0.19154522]\n",
      "142\t19    \t[0.16666667]\t142\t[1.]\t[0.]\t19    \t[0.372678]  \t[4.97505075]\t142\t[5.4204464] \t[4.77215767]\t19    \t[0.21359528]\n",
      "143\t17    \t[0.1]       \t143\t[1.]\t[0.]\t17    \t[0.3]       \t[4.95616055]\t143\t[5.4537425] \t[4.77215767]\t17    \t[0.20687676]\n",
      "144\t12    \t[0.06666667]\t144\t[1.]\t[0.]\t12    \t[0.24944383]\t[4.94432092]\t144\t[5.53089619]\t[4.77215767]\t12    \t[0.23000876]\n",
      "145\t23    \t[0.1]       \t145\t[1.]\t[0.]\t23    \t[0.3]       \t[5.00834527]\t145\t[6.01915121]\t[4.77215767]\t23    \t[0.26171198]\n",
      "146\t21    \t[0.1]       \t146\t[1.]\t[0.]\t21    \t[0.3]       \t[4.99781402]\t146\t[5.62456703]\t[4.77215767]\t21    \t[0.23719996]\n",
      "147\t15    \t[0.16666667]\t147\t[1.]\t[0.]\t15    \t[0.372678]  \t[4.94645227]\t147\t[5.30640554]\t[4.77215767]\t15    \t[0.16665449]\n",
      "148\t16    \t[0.03333333]\t148\t[1.]\t[0.]\t16    \t[0.17950549]\t[4.91518935]\t148\t[5.41053295]\t[4.77215767]\t16    \t[0.15162704]\n",
      "149\t17    \t[0.03333333]\t149\t[1.]\t[0.]\t17    \t[0.17950549]\t[4.94142421]\t149\t[5.53677225]\t[4.77215767]\t17    \t[0.18693634]\n",
      "150\t14    \t[0.13333333]\t150\t[1.]\t[0.]\t14    \t[0.33993463]\t[4.91166245]\t150\t[5.39528227]\t[4.77215767]\t14    \t[0.15189669]\n",
      "151\t16    \t[0.13333333]\t151\t[1.]\t[0.]\t16    \t[0.33993463]\t[4.96728565]\t151\t[5.43426466]\t[4.77215767]\t16    \t[0.21160276]\n",
      "152\t15    \t[0.03333333]\t152\t[1.]\t[0.]\t15    \t[0.17950549]\t[4.90199661]\t152\t[5.3127327] \t[4.77215767]\t15    \t[0.15536814]\n",
      "153\t13    \t[0.1]       \t153\t[1.]\t[0.]\t13    \t[0.3]       \t[4.89399211]\t153\t[5.29624701]\t[4.77215767]\t13    \t[0.16303497]\n",
      "154\t19    \t[0.06666667]\t154\t[1.]\t[0.]\t19    \t[0.24944383]\t[4.88939355]\t154\t[5.2620821] \t[4.77215767]\t19    \t[0.14700547]\n",
      "155\t22    \t[0.]        \t155\t[0.]\t[0.]\t22    \t[0.]        \t[4.92877277]\t155\t[5.36978102]\t[4.75267744]\t22    \t[0.17196526]\n",
      "156\t20    \t[0.13333333]\t156\t[1.]\t[0.]\t20    \t[0.33993463]\t[4.9662957] \t156\t[5.43917656]\t[4.75267744]\t20    \t[0.19932698]\n",
      "157\t12    \t[0.06666667]\t157\t[1.]\t[0.]\t12    \t[0.24944383]\t[4.91680028]\t157\t[5.54258871]\t[4.75267744]\t12    \t[0.22936315]\n",
      "158\t17    \t[0.1]       \t158\t[1.]\t[0.]\t17    \t[0.3]       \t[4.88819707]\t158\t[5.31762791]\t[4.75267744]\t17    \t[0.15930174]\n",
      "159\t18    \t[0.2]       \t159\t[1.]\t[0.]\t18    \t[0.4]       \t[4.86129545]\t159\t[5.18732071]\t[4.75267744]\t18    \t[0.12497761]\n",
      "160\t14    \t[0.16666667]\t160\t[1.]\t[0.]\t14    \t[0.372678]  \t[4.88594019]\t160\t[5.40354156]\t[4.75267744]\t14    \t[0.17852978]\n",
      "161\t17    \t[0.2]       \t161\t[1.]\t[0.]\t17    \t[0.4]       \t[4.92170076]\t161\t[5.37912703]\t[4.75267744]\t17    \t[0.18667967]\n",
      "162\t22    \t[0.16666667]\t162\t[1.]\t[0.]\t22    \t[0.372678]  \t[4.91550034]\t162\t[5.18935108]\t[4.75267744]\t22    \t[0.15304399]\n",
      "163\t16    \t[0.16666667]\t163\t[1.]\t[0.]\t16    \t[0.372678]  \t[4.87303805]\t163\t[5.45355511]\t[4.75267744]\t16    \t[0.16860733]\n",
      "164\t20    \t[0.3]       \t164\t[1.]\t[0.]\t20    \t[0.45825757]\t[4.94489632]\t164\t[5.48198605]\t[4.72928429]\t20    \t[0.20482888]\n",
      "165\t16    \t[0.23333333]\t165\t[1.]\t[0.]\t16    \t[0.42295258]\t[4.86826552]\t165\t[5.41298532]\t[4.72928429]\t16    \t[0.15889138]\n",
      "166\t19    \t[0.23333333]\t166\t[1.]\t[0.]\t19    \t[0.42295258]\t[4.93963955]\t166\t[5.43742895]\t[4.72928429]\t19    \t[0.19790115]\n",
      "167\t25    \t[0.3]       \t167\t[1.]\t[0.]\t25    \t[0.45825757]\t[5.08504941]\t167\t[5.75792265]\t[4.72928429]\t25    \t[0.25494628]\n",
      "168\t20    \t[0.36666667]\t168\t[1.]\t[0.]\t20    \t[0.48189441]\t[5.0241103] \t168\t[5.38405371]\t[4.72928429]\t20    \t[0.21314989]\n",
      "169\t22    \t[0.26666667]\t169\t[1.]\t[0.]\t22    \t[0.44221664]\t[4.95134085]\t169\t[5.57612371]\t[4.72515821]\t22    \t[0.20596395]\n",
      "170\t17    \t[0.3]       \t170\t[1.]\t[0.]\t17    \t[0.45825757]\t[4.98708992]\t170\t[5.53943014]\t[4.72515821]\t17    \t[0.23184701]\n",
      "171\t18    \t[0.43333333]\t171\t[1.]\t[0.]\t18    \t[0.49553562]\t[4.88241692]\t171\t[5.25296354]\t[4.72515821]\t18    \t[0.16499505]\n",
      "172\t18    \t[0.33333333]\t172\t[1.]\t[0.]\t18    \t[0.47140452]\t[4.94722799]\t172\t[5.59047461]\t[4.72515821]\t18    \t[0.25412642]\n",
      "173\t19    \t[0.23333333]\t173\t[1.]\t[0.]\t19    \t[0.42295258]\t[4.91551592]\t173\t[5.38799143]\t[4.69700241]\t19    \t[0.19965381]\n",
      "174\t17    \t[0.33333333]\t174\t[1.]\t[0.]\t17    \t[0.47140452]\t[4.92648638]\t174\t[5.34661865]\t[4.72928429]\t17    \t[0.20926372]\n",
      "175\t20    \t[0.23333333]\t175\t[1.]\t[0.]\t20    \t[0.42295258]\t[4.91526583]\t175\t[5.47155237]\t[4.72928429]\t20    \t[0.2235852] \n",
      "176\t25    \t[0.2]       \t176\t[1.]\t[0.]\t25    \t[0.4]       \t[4.97057405]\t176\t[5.37569952]\t[4.66410685]\t25    \t[0.21642081]\n",
      "177\t17    \t[0.16666667]\t177\t[1.]\t[0.]\t17    \t[0.372678]  \t[4.91381324]\t177\t[5.38563728]\t[4.66410685]\t17    \t[0.20879694]\n",
      "178\t15    \t[0.26666667]\t178\t[1.]\t[0.]\t15    \t[0.44221664]\t[4.85566462]\t178\t[5.25136042]\t[4.66410685]\t15    \t[0.17098952]\n",
      "179\t25    \t[0.53333333]\t179\t[1.]\t[0.]\t25    \t[0.49888765]\t[4.94859268]\t179\t[5.31682777]\t[4.66410685]\t25    \t[0.19074475]\n",
      "180\t14    \t[0.23333333]\t180\t[1.]\t[0.]\t14    \t[0.42295258]\t[4.88730567]\t180\t[5.36075687]\t[4.66410685]\t14    \t[0.20441045]\n",
      "181\t15    \t[0.23333333]\t181\t[1.]\t[0.]\t15    \t[0.42295258]\t[4.8146294] \t181\t[5.2730608] \t[4.66410685]\t15    \t[0.16305143]\n",
      "182\t19    \t[0.36666667]\t182\t[1.]\t[0.]\t19    \t[0.48189441]\t[4.92291217]\t182\t[5.49911499]\t[4.66410685]\t19    \t[0.25928155]\n",
      "183\t18    \t[0.43333333]\t183\t[1.]\t[0.]\t18    \t[0.49553562]\t[4.8356973] \t183\t[5.26039314]\t[4.66410685]\t18    \t[0.17400491]\n",
      "184\t17    \t[0.53333333]\t184\t[1.]\t[0.]\t17    \t[0.49888765]\t[4.8474486] \t184\t[5.29108906]\t[4.66410685]\t17    \t[0.1882537] \n",
      "185\t19    \t[0.5]       \t185\t[1.]\t[0.]\t19    \t[0.5]       \t[4.83407734]\t185\t[5.16484308]\t[4.66410685]\t19    \t[0.17529089]\n",
      "186\t19    \t[0.63333333]\t186\t[1.]\t[0.]\t19    \t[0.48189441]\t[4.87024357]\t186\t[5.34919167]\t[4.66410685]\t19    \t[0.21148655]\n",
      "187\t15    \t[0.66666667]\t187\t[1.]\t[0.]\t15    \t[0.47140452]\t[4.79966733]\t187\t[5.09488773]\t[4.66410685]\t15    \t[0.14883518]\n",
      "188\t23    \t[0.63333333]\t188\t[1.]\t[0.]\t23    \t[0.48189441]\t[4.82232672]\t188\t[5.30487394]\t[4.66410685]\t23    \t[0.16390491]\n",
      "189\t19    \t[0.56666667]\t189\t[1.]\t[0.]\t19    \t[0.49553562]\t[4.87759096]\t189\t[5.37894583]\t[4.66410685]\t19    \t[0.22408539]\n",
      "190\t19    \t[0.53333333]\t190\t[1.]\t[0.]\t19    \t[0.49888765]\t[4.86319377]\t190\t[5.28738213]\t[4.66410685]\t19    \t[0.19797575]\n",
      "191\t13    \t[0.63333333]\t191\t[1.]\t[0.]\t13    \t[0.48189441]\t[4.8062953] \t191\t[5.38287687]\t[4.66410685]\t13    \t[0.16914175]\n",
      "192\t18    \t[0.56666667]\t192\t[1.]\t[0.]\t18    \t[0.49553562]\t[4.7908543] \t192\t[5.34088326]\t[4.63954115]\t18    \t[0.14718175]\n",
      "193\t20    \t[0.5]       \t193\t[1.]\t[0.]\t20    \t[0.5]       \t[4.86307613]\t193\t[5.22157478]\t[4.66410685]\t20    \t[0.17578896]\n",
      "194\t18    \t[0.6]       \t194\t[1.]\t[0.]\t18    \t[0.48989795]\t[4.8393504] \t194\t[5.48198414]\t[4.66410685]\t18    \t[0.22494989]\n",
      "195\t17    \t[0.53333333]\t195\t[1.]\t[0.]\t17    \t[0.49888765]\t[4.88364027]\t195\t[5.78045607]\t[4.66410685]\t17    \t[0.27459348]\n",
      "196\t21    \t[0.7]       \t196\t[1.]\t[0.]\t21    \t[0.45825757]\t[4.84819965]\t196\t[5.286901]  \t[4.66410685]\t21    \t[0.19941452]\n",
      "197\t15    \t[0.66666667]\t197\t[1.]\t[0.]\t15    \t[0.47140452]\t[4.8290679] \t197\t[5.27623701]\t[4.66410685]\t15    \t[0.17807095]\n",
      "198\t12    \t[0.7]       \t198\t[1.]\t[0.]\t12    \t[0.45825757]\t[4.85620116]\t198\t[5.7087388] \t[4.66410685]\t12    \t[0.25754596]\n",
      "199\t23    \t[0.56666667]\t199\t[1.]\t[0.]\t23    \t[0.49553562]\t[4.86285216]\t199\t[5.36600733]\t[4.66410685]\t23    \t[0.21520147]\n",
      "200\t20    \t[0.7]       \t200\t[1.]\t[0.]\t20    \t[0.45825757]\t[4.8235134] \t200\t[5.28232813]\t[4.66410685]\t20    \t[0.18574781]\n"
     ]
    },
    {
     "name": "stdout",
     "output_type": "stream",
     "text": [
      "201\t16    \t[0.76666667]\t201\t[1.]\t[0.]\t16    \t[0.42295258]\t[4.81092696]\t201\t[5.2371273] \t[4.66410685]\t16    \t[0.17588971]\n",
      "202\t20    \t[0.63333333]\t202\t[1.]\t[0.]\t20    \t[0.48189441]\t[4.78793268]\t202\t[5.17001867]\t[4.66410685]\t20    \t[0.14412899]\n",
      "203\t12    \t[0.76666667]\t203\t[1.]\t[0.]\t12    \t[0.42295258]\t[4.83315337]\t203\t[5.32427454]\t[4.66410685]\t12    \t[0.22757077]\n",
      "204\t25    \t[0.63333333]\t204\t[1.]\t[0.]\t25    \t[0.48189441]\t[4.92632073]\t204\t[5.78168011]\t[4.66410685]\t25    \t[0.26655173]\n",
      "205\t23    \t[0.66666667]\t205\t[1.]\t[0.]\t23    \t[0.47140452]\t[4.87209617]\t205\t[5.38772011]\t[4.66410685]\t23    \t[0.18846317]\n",
      "206\t22    \t[0.76666667]\t206\t[1.]\t[0.]\t22    \t[0.42295258]\t[4.82605453]\t206\t[5.25877714]\t[4.66410685]\t22    \t[0.14411275]\n",
      "207\t19    \t[0.63333333]\t207\t[1.]\t[0.]\t19    \t[0.48189441]\t[4.83258613]\t207\t[5.18853235]\t[4.66410685]\t19    \t[0.15604172]\n",
      "208\t18    \t[0.66666667]\t208\t[1.]\t[0.]\t18    \t[0.47140452]\t[4.81411246]\t208\t[5.15719986]\t[4.66410685]\t18    \t[0.13515109]\n",
      "209\t14    \t[0.6]       \t209\t[1.]\t[0.]\t14    \t[0.48989795]\t[4.8052098] \t209\t[5.30241203]\t[4.66410685]\t14    \t[0.18949088]\n",
      "210\t14    \t[0.83333333]\t210\t[1.]\t[0.]\t14    \t[0.372678]  \t[4.80057213]\t210\t[5.62696791]\t[4.66410685]\t14    \t[0.22426496]\n",
      "211\t16    \t[0.63333333]\t211\t[1.]\t[0.]\t16    \t[0.48189441]\t[4.82282195]\t211\t[5.27082253]\t[4.66410685]\t16    \t[0.1940061] \n",
      "212\t14    \t[0.7]       \t212\t[1.]\t[0.]\t14    \t[0.45825757]\t[4.81524402]\t212\t[5.34255219]\t[4.66410685]\t14    \t[0.19838285]\n",
      "213\t22    \t[0.73333333]\t213\t[1.]\t[0.]\t22    \t[0.44221664]\t[4.80056637]\t213\t[5.33555555]\t[4.66410685]\t22    \t[0.1884283] \n",
      "214\t22    \t[0.73333333]\t214\t[1.]\t[0.]\t22    \t[0.44221664]\t[4.82661351]\t214\t[5.47487926]\t[4.66026163]\t22    \t[0.2223942] \n",
      "215\t19    \t[0.53333333]\t215\t[1.]\t[0.]\t19    \t[0.49888765]\t[4.8107084] \t215\t[5.56881714]\t[4.66026163]\t19    \t[0.20114]   \n",
      "216\t19    \t[0.7]       \t216\t[1.]\t[0.]\t19    \t[0.45825757]\t[4.85149345]\t216\t[5.49208593]\t[4.66026163]\t19    \t[0.22516962]\n",
      "217\t19    \t[0.56666667]\t217\t[1.]\t[0.]\t19    \t[0.49553562]\t[4.83644271]\t217\t[5.23786783]\t[4.66026163]\t19    \t[0.18449108]\n",
      "218\t19    \t[0.76666667]\t218\t[1.]\t[0.]\t19    \t[0.42295258]\t[4.86338216]\t218\t[5.55917501]\t[4.66026163]\t19    \t[0.21764805]\n",
      "219\t18    \t[0.73333333]\t219\t[1.]\t[0.]\t18    \t[0.44221664]\t[4.89021281]\t219\t[5.41488361]\t[4.66026163]\t18    \t[0.2240315] \n",
      "220\t19    \t[0.73333333]\t220\t[1.]\t[0.]\t19    \t[0.44221664]\t[4.83651455]\t220\t[5.54840231]\t[4.66026163]\t19    \t[0.22961262]\n",
      "221\t14    \t[0.76666667]\t221\t[1.]\t[0.]\t14    \t[0.42295258]\t[4.83359021]\t221\t[5.30640411]\t[4.66026163]\t14    \t[0.20382568]\n",
      "222\t20    \t[0.76666667]\t222\t[1.]\t[0.]\t20    \t[0.42295258]\t[4.78706361]\t222\t[5.29330158]\t[4.66026163]\t20    \t[0.175533]  \n",
      "223\t23    \t[0.8]       \t223\t[1.]\t[0.]\t23    \t[0.4]       \t[4.87396088]\t223\t[5.30761147]\t[4.66026163]\t23    \t[0.19913636]\n",
      "224\t18    \t[0.8]       \t224\t[1.]\t[0.]\t18    \t[0.4]       \t[4.85423234]\t224\t[5.3812089] \t[4.66026163]\t18    \t[0.22204505]\n",
      "225\t16    \t[0.86666667]\t225\t[1.]\t[0.]\t16    \t[0.33993463]\t[4.85158668]\t225\t[5.53391409]\t[4.66026163]\t16    \t[0.22574594]\n",
      "226\t19    \t[0.8]       \t226\t[1.]\t[0.]\t19    \t[0.4]       \t[4.8346097] \t226\t[5.32915115]\t[4.66026163]\t19    \t[0.19769681]\n",
      "227\t16    \t[0.83333333]\t227\t[1.]\t[0.]\t16    \t[0.372678]  \t[4.8192005] \t227\t[5.53615189]\t[4.66026163]\t16    \t[0.21738279]\n",
      "228\t20    \t[0.73333333]\t228\t[1.]\t[0.]\t20    \t[0.44221664]\t[4.8636308] \t228\t[5.58065891]\t[4.66026163]\t20    \t[0.23433682]\n",
      "229\t20    \t[0.86666667]\t229\t[1.]\t[0.]\t20    \t[0.33993463]\t[4.86329381]\t229\t[5.38225174]\t[4.66026163]\t20    \t[0.21167971]\n",
      "230\t18    \t[0.8]       \t230\t[1.]\t[0.]\t18    \t[0.4]       \t[4.84991455]\t230\t[5.39790201]\t[4.66026163]\t18    \t[0.22586444]\n",
      "231\t20    \t[0.9]       \t231\t[1.]\t[0.]\t20    \t[0.3]       \t[4.78026323]\t231\t[5.2543788] \t[4.66026163]\t20    \t[0.17898395]\n",
      "232\t19    \t[0.83333333]\t232\t[1.]\t[0.]\t19    \t[0.372678]  \t[4.74826735]\t232\t[5.07725763]\t[4.66026163]\t19    \t[0.12223362]\n",
      "233\t18    \t[0.66666667]\t233\t[1.]\t[0.]\t18    \t[0.47140452]\t[4.82464951]\t233\t[5.31120634]\t[4.66026163]\t18    \t[0.19181484]\n",
      "234\t18    \t[0.7]       \t234\t[1.]\t[0.]\t18    \t[0.45825757]\t[4.87969538]\t234\t[5.70946455]\t[4.66026163]\t18    \t[0.28477464]\n",
      "235\t21    \t[0.8]       \t235\t[1.]\t[0.]\t21    \t[0.4]       \t[4.8263974] \t235\t[5.22708988]\t[4.66026163]\t21    \t[0.17938069]\n",
      "236\t17    \t[0.73333333]\t236\t[1.]\t[0.]\t17    \t[0.44221664]\t[4.87243867]\t236\t[5.72064209]\t[4.66026163]\t17    \t[0.26686695]\n",
      "237\t17    \t[0.7]       \t237\t[1.]\t[0.]\t17    \t[0.45825757]\t[4.87376661]\t237\t[5.39475393]\t[4.66026163]\t17    \t[0.20800862]\n",
      "238\t19    \t[0.63333333]\t238\t[1.]\t[0.]\t19    \t[0.48189441]\t[4.90938574]\t238\t[5.55183792]\t[4.66026163]\t19    \t[0.24406863]\n",
      "239\t18    \t[0.76666667]\t239\t[1.]\t[0.]\t18    \t[0.42295258]\t[4.86137781]\t239\t[5.29870844]\t[4.66026163]\t18    \t[0.20045496]\n",
      "240\t19    \t[0.73333333]\t240\t[1.]\t[0.]\t19    \t[0.44221664]\t[4.8108983] \t240\t[5.42427063]\t[4.66026163]\t19    \t[0.19448224]\n",
      "241\t19    \t[0.83333333]\t241\t[1.]\t[0.]\t19    \t[0.372678]  \t[4.8261967] \t241\t[5.26831532]\t[4.66026163]\t19    \t[0.18516828]\n",
      "242\t16    \t[0.56666667]\t242\t[1.]\t[0.]\t16    \t[0.49553562]\t[4.84752552]\t242\t[5.48663616]\t[4.66026163]\t16    \t[0.2215306] \n",
      "243\t19    \t[0.5]       \t243\t[1.]\t[0.]\t19    \t[0.5]       \t[4.85268064]\t243\t[5.46704769]\t[4.66026163]\t19    \t[0.20272703]\n",
      "244\t18    \t[0.66666667]\t244\t[1.]\t[0.]\t18    \t[0.47140452]\t[4.80746883]\t244\t[5.29783201]\t[4.66026163]\t18    \t[0.16477818]\n",
      "245\t17    \t[0.66666667]\t245\t[1.]\t[0.]\t17    \t[0.47140452]\t[4.80095283]\t245\t[5.19225264]\t[4.66026163]\t17    \t[0.15821523]\n",
      "246\t18    \t[0.73333333]\t246\t[1.]\t[0.]\t18    \t[0.44221664]\t[4.90898078]\t246\t[5.35599613]\t[4.66026163]\t18    \t[0.22940556]\n",
      "247\t18    \t[0.7]       \t247\t[1.]\t[0.]\t18    \t[0.45825757]\t[4.88154856]\t247\t[5.40636206]\t[4.66026163]\t18    \t[0.2270412] \n",
      "248\t21    \t[0.7]       \t248\t[1.]\t[0.]\t21    \t[0.45825757]\t[4.9510839] \t248\t[5.52103186]\t[4.66026163]\t21    \t[0.22473162]\n",
      "249\t16    \t[0.76666667]\t249\t[1.]\t[0.]\t16    \t[0.42295258]\t[4.9099669] \t249\t[5.44849586]\t[4.66026163]\t16    \t[0.28621818]\n",
      "250\t12    \t[0.9]       \t250\t[1.]\t[0.]\t12    \t[0.3]       \t[4.78902976]\t250\t[5.21479511]\t[4.66026163]\t12    \t[0.16804696]\n",
      "251\t17    \t[0.86666667]\t251\t[1.]\t[0.]\t17    \t[0.33993463]\t[4.85584793]\t251\t[5.646873]  \t[4.66026163]\t17    \t[0.21992884]\n",
      "252\t22    \t[0.73333333]\t252\t[1.]\t[0.]\t22    \t[0.44221664]\t[4.89507599]\t252\t[5.92993498]\t[4.66026163]\t22    \t[0.27320065]\n",
      "253\t14    \t[0.83333333]\t253\t[1.]\t[0.]\t14    \t[0.372678]  \t[4.83379272]\t253\t[5.47341776]\t[4.66026163]\t14    \t[0.22931465]\n",
      "254\t20    \t[0.7]       \t254\t[1.]\t[0.]\t20    \t[0.45825757]\t[4.86447039]\t254\t[5.55750227]\t[4.66026163]\t20    \t[0.22817509]\n",
      "255\t17    \t[0.76666667]\t255\t[1.]\t[0.]\t17    \t[0.42295258]\t[4.84962743]\t255\t[5.27076054]\t[4.66026163]\t17    \t[0.20893024]\n",
      "256\t20    \t[0.66666667]\t256\t[1.]\t[0.]\t20    \t[0.47140452]\t[4.82662342]\t256\t[5.40442991]\t[4.66026163]\t20    \t[0.19049624]\n",
      "257\t13    \t[0.73333333]\t257\t[1.]\t[0.]\t13    \t[0.44221664]\t[4.80939143]\t257\t[5.25511885]\t[4.66026163]\t13    \t[0.1847801] \n",
      "258\t19    \t[0.86666667]\t258\t[1.]\t[0.]\t19    \t[0.33993463]\t[4.85770319]\t258\t[5.43091345]\t[4.66026163]\t19    \t[0.23630176]\n",
      "259\t16    \t[0.73333333]\t259\t[1.]\t[0.]\t16    \t[0.44221664]\t[4.8253699] \t259\t[5.41920805]\t[4.66026163]\t16    \t[0.22063929]\n",
      "260\t15    \t[0.86666667]\t260\t[1.]\t[0.]\t15    \t[0.33993463]\t[4.80078599]\t260\t[5.30737305]\t[4.66026163]\t15    \t[0.17915004]\n",
      "261\t21    \t[0.73333333]\t261\t[1.]\t[0.]\t21    \t[0.44221664]\t[4.83441811]\t261\t[5.3700881] \t[4.66026163]\t21    \t[0.18906073]\n",
      "262\t16    \t[0.7]       \t262\t[1.]\t[0.]\t16    \t[0.45825757]\t[4.86642073]\t262\t[5.56501722]\t[4.66026163]\t16    \t[0.21477792]\n",
      "263\t15    \t[0.86666667]\t263\t[1.]\t[0.]\t15    \t[0.33993463]\t[4.84776926]\t263\t[5.29490757]\t[4.66026163]\t15    \t[0.22377131]\n",
      "264\t18    \t[0.76666667]\t264\t[1.]\t[0.]\t18    \t[0.42295258]\t[4.84169477]\t264\t[5.28601027]\t[4.66026163]\t18    \t[0.20192665]\n",
      "265\t16    \t[0.76666667]\t265\t[1.]\t[0.]\t16    \t[0.42295258]\t[4.90569038]\t265\t[5.59765577]\t[4.66026163]\t16    \t[0.25137342]\n",
      "266\t17    \t[0.73333333]\t266\t[1.]\t[0.]\t17    \t[0.44221664]\t[4.84246314]\t266\t[5.51682806]\t[4.66026163]\t17    \t[0.24473716]\n",
      "267\t20    \t[0.63333333]\t267\t[1.]\t[0.]\t20    \t[0.48189441]\t[4.83471586]\t267\t[5.11981678]\t[4.66026163]\t20    \t[0.14534317]\n",
      "268\t21    \t[0.7]       \t268\t[1.]\t[0.]\t21    \t[0.45825757]\t[4.87770038]\t268\t[5.48364019]\t[4.66026163]\t21    \t[0.2132241] \n"
     ]
    },
    {
     "name": "stdout",
     "output_type": "stream",
     "text": [
      "269\t20    \t[0.8]       \t269\t[1.]\t[0.]\t20    \t[0.4]       \t[4.85044454]\t269\t[5.43060064]\t[4.66026163]\t20    \t[0.19411624]\n",
      "270\t18    \t[0.7]       \t270\t[1.]\t[0.]\t18    \t[0.45825757]\t[4.87733749]\t270\t[5.38122463]\t[4.66026163]\t18    \t[0.23236648]\n",
      "271\t24    \t[0.66666667]\t271\t[1.]\t[0.]\t24    \t[0.47140452]\t[4.90896339]\t271\t[5.41554642]\t[4.66026163]\t24    \t[0.22175041]\n",
      "272\t21    \t[0.6]       \t272\t[1.]\t[0.]\t21    \t[0.48989795]\t[4.94132972]\t272\t[5.41537857]\t[4.66026163]\t21    \t[0.25471058]\n",
      "273\t19    \t[0.63333333]\t273\t[1.]\t[0.]\t19    \t[0.48189441]\t[4.9560125] \t273\t[5.76173735]\t[4.66026163]\t19    \t[0.28126246]\n",
      "274\t11    \t[0.86666667]\t274\t[1.]\t[0.]\t11    \t[0.33993463]\t[4.88559615]\t274\t[5.44524288]\t[4.66026163]\t11    \t[0.21957476]\n",
      "275\t17    \t[0.86666667]\t275\t[1.]\t[0.]\t17    \t[0.33993463]\t[4.86006327]\t275\t[5.52620649]\t[4.66026163]\t17    \t[0.237751]  \n",
      "276\t21    \t[0.66666667]\t276\t[1.]\t[0.]\t21    \t[0.47140452]\t[4.90356696]\t276\t[5.32647133]\t[4.66026163]\t21    \t[0.2148483] \n",
      "277\t16    \t[0.7]       \t277\t[1.]\t[0.]\t16    \t[0.45825757]\t[4.87245766]\t277\t[5.52035284]\t[4.66026163]\t16    \t[0.23264065]\n",
      "278\t18    \t[0.7]       \t278\t[1.]\t[0.]\t18    \t[0.45825757]\t[4.88103878]\t278\t[5.46254158]\t[4.66026163]\t18    \t[0.23569598]\n",
      "279\t17    \t[0.7]       \t279\t[1.]\t[0.]\t17    \t[0.45825757]\t[4.88909127]\t279\t[5.43653059]\t[4.66026163]\t17    \t[0.23546249]\n",
      "280\t19    \t[0.56666667]\t280\t[1.]\t[0.]\t19    \t[0.49553562]\t[4.87568332]\t280\t[5.20388269]\t[4.66026163]\t19    \t[0.19025026]\n",
      "281\t23    \t[0.4]       \t281\t[1.]\t[0.]\t23    \t[0.48989795]\t[4.97869507]\t281\t[5.5095315] \t[4.66026163]\t23    \t[0.24952864]\n",
      "282\t20    \t[0.5]       \t282\t[1.]\t[0.]\t20    \t[0.5]       \t[4.93898757]\t282\t[5.42754841]\t[4.66026163]\t20    \t[0.22290311]\n",
      "283\t23    \t[0.53333333]\t283\t[1.]\t[0.]\t23    \t[0.49888765]\t[4.95120436]\t283\t[5.59917212]\t[4.66026163]\t23    \t[0.25822921]\n",
      "284\t20    \t[0.66666667]\t284\t[1.]\t[0.]\t20    \t[0.47140452]\t[4.83707027]\t284\t[5.20944929]\t[4.66026163]\t20    \t[0.17586386]\n",
      "285\t16    \t[0.76666667]\t285\t[1.]\t[0.]\t16    \t[0.42295258]\t[4.83594697]\t285\t[5.27157211]\t[4.66026163]\t16    \t[0.198129]  \n",
      "286\t15    \t[0.53333333]\t286\t[1.]\t[0.]\t15    \t[0.49888765]\t[4.87435482]\t286\t[5.62677908]\t[4.66026163]\t15    \t[0.245433]  \n",
      "287\t17    \t[0.76666667]\t287\t[1.]\t[0.]\t17    \t[0.42295258]\t[4.83651687]\t287\t[5.37933207]\t[4.66026163]\t17    \t[0.2019408] \n",
      "288\t13    \t[0.8]       \t288\t[1.]\t[0.]\t13    \t[0.4]       \t[4.76521061]\t288\t[5.208498]  \t[4.66026163]\t13    \t[0.14691865]\n",
      "289\t13    \t[0.9]       \t289\t[1.]\t[0.]\t13    \t[0.3]       \t[4.8343441] \t289\t[5.40136433]\t[4.66026163]\t13    \t[0.22940703]\n",
      "290\t20    \t[0.86666667]\t290\t[1.]\t[0.]\t20    \t[0.33993463]\t[4.84179842]\t290\t[5.36697197]\t[4.66026163]\t20    \t[0.20445449]\n",
      "291\t10    \t[0.9]       \t291\t[1.]\t[0.]\t10    \t[0.3]       \t[4.75270254]\t291\t[5.10782719]\t[4.66026163]\t10    \t[0.13758598]\n",
      "292\t19    \t[0.66666667]\t292\t[1.]\t[0.]\t19    \t[0.47140452]\t[4.82803631]\t292\t[5.31677341]\t[4.66026163]\t19    \t[0.17913593]\n",
      "293\t17    \t[0.66666667]\t293\t[1.]\t[0.]\t17    \t[0.47140452]\t[4.87145389]\t293\t[5.44195414]\t[4.66026163]\t17    \t[0.21674901]\n",
      "294\t14    \t[0.9]       \t294\t[1.]\t[0.]\t14    \t[0.3]       \t[4.7960948] \t294\t[5.09693623]\t[4.66026163]\t14    \t[0.13185121]\n",
      "295\t22    \t[0.8]       \t295\t[1.]\t[0.]\t22    \t[0.4]       \t[4.88551232]\t295\t[5.37874842]\t[4.66026163]\t22    \t[0.21761132]\n",
      "296\t17    \t[0.76666667]\t296\t[1.]\t[0.]\t17    \t[0.42295258]\t[4.91266177]\t296\t[5.46045828]\t[4.66026163]\t17    \t[0.21160289]\n",
      "297\t22    \t[0.7]       \t297\t[1.]\t[0.]\t22    \t[0.45825757]\t[4.95030521]\t297\t[5.62075949]\t[4.66026163]\t22    \t[0.27352059]\n",
      "298\t21    \t[0.73333333]\t298\t[1.]\t[0.]\t21    \t[0.44221664]\t[4.89146833]\t298\t[5.32537413]\t[4.66026163]\t21    \t[0.21477748]\n",
      "299\t20    \t[0.8]       \t299\t[1.]\t[0.]\t20    \t[0.4]       \t[4.8766146] \t299\t[5.39242411]\t[4.65322828]\t20    \t[0.21020495]\n",
      "300\t18    \t[0.73333333]\t300\t[1.]\t[0.]\t18    \t[0.44221664]\t[4.85426984]\t300\t[5.39150429]\t[4.66026163]\t18    \t[0.20418723]\n",
      "301\t19    \t[0.76666667]\t301\t[1.]\t[0.]\t19    \t[0.42295258]\t[4.91086556]\t301\t[5.74970245]\t[4.66026163]\t19    \t[0.27845368]\n",
      "302\t16    \t[0.83333333]\t302\t[1.]\t[0.]\t16    \t[0.372678]  \t[4.79253934]\t302\t[5.21936226]\t[4.66026163]\t16    \t[0.17169577]\n",
      "303\t18    \t[0.73333333]\t303\t[1.]\t[0.]\t18    \t[0.44221664]\t[4.81939217]\t303\t[5.3248558] \t[4.66026163]\t18    \t[0.18766733]\n",
      "304\t17    \t[0.7]       \t304\t[1.]\t[0.]\t17    \t[0.45825757]\t[4.86433943]\t304\t[5.45564413]\t[4.66026163]\t17    \t[0.23475231]\n",
      "305\t15    \t[0.76666667]\t305\t[1.]\t[0.]\t15    \t[0.42295258]\t[4.86988664]\t305\t[5.56802368]\t[4.66026163]\t15    \t[0.23636183]\n",
      "306\t17    \t[0.86666667]\t306\t[1.]\t[0.]\t17    \t[0.33993463]\t[4.80156883]\t306\t[5.1857729] \t[4.66026163]\t17    \t[0.14227569]\n",
      "307\t16    \t[0.8]       \t307\t[1.]\t[0.]\t16    \t[0.4]       \t[4.85067689]\t307\t[5.39854717]\t[4.66026163]\t16    \t[0.20852545]\n",
      "308\t19    \t[0.7]       \t308\t[1.]\t[0.]\t19    \t[0.45825757]\t[4.83432948]\t308\t[5.65951681]\t[4.64746475]\t19    \t[0.23651516]\n",
      "309\t16    \t[0.73333333]\t309\t[1.]\t[0.]\t16    \t[0.44221664]\t[4.81763201]\t309\t[5.33161736]\t[4.64746475]\t16    \t[0.20685192]\n",
      "310\t15    \t[0.7]       \t310\t[1.]\t[0.]\t15    \t[0.45825757]\t[4.82693909]\t310\t[5.35626888]\t[4.64746475]\t15    \t[0.21143174]\n",
      "311\t16    \t[0.7]       \t311\t[1.]\t[0.]\t16    \t[0.45825757]\t[4.82351619]\t311\t[5.26017189]\t[4.64746475]\t16    \t[0.18503879]\n",
      "312\t22    \t[0.6]       \t312\t[1.]\t[0.]\t22    \t[0.48989795]\t[4.85264343]\t312\t[5.40187931]\t[4.64746475]\t22    \t[0.21105602]\n",
      "313\t22    \t[0.66666667]\t313\t[1.]\t[0.]\t22    \t[0.47140452]\t[4.81472419]\t313\t[5.3604579] \t[4.64746475]\t22    \t[0.17519743]\n",
      "314\t18    \t[0.46666667]\t314\t[1.]\t[0.]\t18    \t[0.49888765]\t[4.86834957]\t314\t[5.45032835]\t[4.64746475]\t18    \t[0.22775185]\n",
      "315\t16    \t[0.53333333]\t315\t[1.]\t[0.]\t16    \t[0.49888765]\t[4.88548733]\t315\t[5.78335524]\t[4.64746475]\t16    \t[0.27129515]\n",
      "316\t20    \t[0.56666667]\t316\t[1.]\t[0.]\t20    \t[0.49553562]\t[4.85975442]\t316\t[5.37830114]\t[4.64746475]\t20    \t[0.21705343]\n",
      "317\t17    \t[0.63333333]\t317\t[1.]\t[0.]\t17    \t[0.48189441]\t[4.88276958]\t317\t[5.50373316]\t[4.64746475]\t17    \t[0.28563354]\n",
      "318\t14    \t[0.73333333]\t318\t[1.]\t[0.]\t14    \t[0.44221664]\t[4.81377908]\t318\t[5.42206144]\t[4.64746475]\t14    \t[0.21527336]\n",
      "319\t19    \t[0.6]       \t319\t[1.]\t[0.]\t19    \t[0.48989795]\t[4.80731209]\t319\t[5.27286148]\t[4.64746475]\t19    \t[0.17571715]\n",
      "320\t18    \t[0.73333333]\t320\t[1.]\t[0.]\t18    \t[0.44221664]\t[4.84100855]\t320\t[5.47012472]\t[4.66026163]\t18    \t[0.1856821] \n",
      "321\t19    \t[0.66666667]\t321\t[1.]\t[0.]\t19    \t[0.47140452]\t[4.84310835]\t321\t[5.21492481]\t[4.66026163]\t19    \t[0.1757684] \n",
      "322\t17    \t[0.73333333]\t322\t[1.]\t[0.]\t17    \t[0.44221664]\t[4.85000995]\t322\t[5.53262615]\t[4.66026163]\t17    \t[0.24100251]\n",
      "323\t11    \t[0.9]       \t323\t[1.]\t[0.]\t11    \t[0.3]       \t[4.74566164]\t323\t[5.1337328] \t[4.66026163]\t11    \t[0.14728296]\n",
      "324\t20    \t[0.73333333]\t324\t[1.]\t[0.]\t20    \t[0.44221664]\t[4.84630582]\t324\t[5.39556026]\t[4.66026163]\t20    \t[0.20451411]\n",
      "325\t17    \t[0.86666667]\t325\t[1.]\t[0.]\t17    \t[0.33993463]\t[4.79558458]\t325\t[5.18543816]\t[4.66026163]\t17    \t[0.16443181]\n",
      "326\t17    \t[0.83333333]\t326\t[1.]\t[0.]\t17    \t[0.372678]  \t[4.87260795]\t326\t[5.35248184]\t[4.66026163]\t17    \t[0.24358792]\n",
      "327\t22    \t[0.76666667]\t327\t[1.]\t[0.]\t22    \t[0.42295258]\t[4.880569]  \t327\t[5.3353157] \t[4.65643787]\t22    \t[0.22452758]\n",
      "328\t18    \t[0.63333333]\t328\t[1.]\t[0.]\t18    \t[0.48189441]\t[4.88081271]\t328\t[5.54081202]\t[4.65643787]\t18    \t[0.24104507]\n",
      "329\t22    \t[0.53333333]\t329\t[1.]\t[0.]\t22    \t[0.49888765]\t[4.94783707]\t329\t[5.49493027]\t[4.66026163]\t22    \t[0.25102544]\n",
      "330\t18    \t[0.53333333]\t330\t[1.]\t[0.]\t18    \t[0.49888765]\t[4.90697552]\t330\t[5.54076195]\t[4.6368041] \t18    \t[0.23818902]\n",
      "331\t18    \t[0.6]       \t331\t[1.]\t[0.]\t18    \t[0.48989795]\t[4.96454012]\t331\t[5.54132223]\t[4.6368041] \t18    \t[0.24456908]\n",
      "332\t20    \t[0.63333333]\t332\t[1.]\t[0.]\t20    \t[0.48189441]\t[4.91231297]\t332\t[5.37632132]\t[4.6368041] \t20    \t[0.19482988]\n",
      "333\t21    \t[0.73333333]\t333\t[1.]\t[0.]\t21    \t[0.44221664]\t[4.83057464]\t333\t[5.34683895]\t[4.6368041] \t21    \t[0.19974105]\n",
      "334\t16    \t[0.56666667]\t334\t[1.]\t[0.]\t16    \t[0.49553562]\t[4.88782495]\t334\t[5.48342276]\t[4.6368041] \t16    \t[0.25278843]\n",
      "335\t18    \t[0.7]       \t335\t[1.]\t[0.]\t18    \t[0.45825757]\t[4.85422258]\t335\t[5.73479176]\t[4.6368041] \t18    \t[0.24535974]\n",
      "336\t19    \t[0.66666667]\t336\t[1.]\t[0.]\t19    \t[0.47140452]\t[4.8308259] \t336\t[5.28727961]\t[4.6368041] \t19    \t[0.19363956]\n"
     ]
    },
    {
     "name": "stdout",
     "output_type": "stream",
     "text": [
      "337\t17    \t[0.63333333]\t337\t[1.]\t[0.]\t17    \t[0.48189441]\t[4.88561859]\t337\t[5.6170249] \t[4.6368041] \t17    \t[0.25792398]\n",
      "338\t17    \t[0.66666667]\t338\t[1.]\t[0.]\t17    \t[0.47140452]\t[4.83789282]\t338\t[5.25182295]\t[4.66026163]\t17    \t[0.19333423]\n",
      "339\t19    \t[0.73333333]\t339\t[1.]\t[0.]\t19    \t[0.44221664]\t[4.77048073]\t339\t[5.36906004]\t[4.6368041] \t19    \t[0.16261998]\n",
      "340\t21    \t[0.56666667]\t340\t[1.]\t[0.]\t21    \t[0.49553562]\t[4.9142022] \t340\t[5.46254158]\t[4.6368041] \t21    \t[0.22946487]\n",
      "341\t17    \t[0.76666667]\t341\t[1.]\t[0.]\t17    \t[0.42295258]\t[4.8787025] \t341\t[5.38648319]\t[4.6368041] \t17    \t[0.2265364] \n",
      "342\t17    \t[0.73333333]\t342\t[1.]\t[0.]\t17    \t[0.44221664]\t[4.8430291] \t342\t[5.29652739]\t[4.60726023]\t17    \t[0.19373612]\n",
      "343\t19    \t[0.63333333]\t343\t[1.]\t[0.]\t19    \t[0.48189441]\t[4.85079576]\t343\t[5.43490982]\t[4.6368041] \t19    \t[0.22255302]\n",
      "344\t14    \t[0.7]       \t344\t[1.]\t[0.]\t14    \t[0.45825757]\t[4.83738794]\t344\t[5.39654446]\t[4.6368041] \t14    \t[0.20820237]\n",
      "345\t21    \t[0.53333333]\t345\t[1.]\t[0.]\t21    \t[0.49888765]\t[4.88783536]\t345\t[5.54163504]\t[4.6368041] \t21    \t[0.22299094]\n",
      "346\t11    \t[0.8]       \t346\t[1.]\t[0.]\t11    \t[0.4]       \t[4.79025801]\t346\t[5.41913509]\t[4.6368041] \t11    \t[0.19932573]\n",
      "347\t17    \t[0.76666667]\t347\t[1.]\t[0.]\t17    \t[0.42295258]\t[4.77509327]\t347\t[5.35486174]\t[4.6368041] \t17    \t[0.19630211]\n",
      "348\t18    \t[0.73333333]\t348\t[1.]\t[0.]\t18    \t[0.44221664]\t[4.75697837]\t348\t[5.1408968] \t[4.6368041] \t18    \t[0.15742635]\n",
      "349\t16    \t[0.76666667]\t349\t[1.]\t[0.]\t16    \t[0.42295258]\t[4.811678]  \t349\t[5.7650466] \t[4.6368041] \t16    \t[0.25091144]\n",
      "350\t22    \t[0.63333333]\t350\t[1.]\t[0.]\t22    \t[0.48189441]\t[4.86554977]\t350\t[5.53701258]\t[4.6368041] \t22    \t[0.24563321]\n",
      "351\t20    \t[0.73333333]\t351\t[1.]\t[0.]\t20    \t[0.44221664]\t[4.88541883]\t351\t[5.42900229]\t[4.6368041] \t20    \t[0.26372733]\n",
      "352\t21    \t[0.73333333]\t352\t[1.]\t[0.]\t21    \t[0.44221664]\t[4.92238638]\t352\t[5.41668558]\t[4.6368041] \t21    \t[0.22454961]\n",
      "353\t19    \t[0.7]       \t353\t[1.]\t[0.]\t19    \t[0.45825757]\t[4.89404577]\t353\t[5.33586264]\t[4.6368041] \t19    \t[0.21637556]\n",
      "354\t19    \t[0.7]       \t354\t[1.]\t[0.]\t19    \t[0.45825757]\t[4.85281426]\t354\t[5.32924271]\t[4.6368041] \t19    \t[0.19305439]\n",
      "355\t19    \t[0.63333333]\t355\t[1.]\t[0.]\t19    \t[0.48189441]\t[4.9435242] \t355\t[5.84134674]\t[4.6368041] \t19    \t[0.29200477]\n",
      "356\t19    \t[0.5]       \t356\t[1.]\t[0.]\t19    \t[0.5]       \t[4.88699533]\t356\t[5.30153275]\t[4.6368041] \t19    \t[0.21059992]\n",
      "357\t12    \t[0.76666667]\t357\t[1.]\t[0.]\t12    \t[0.42295258]\t[4.80169783]\t357\t[5.47925711]\t[4.6368041] \t12    \t[0.24491772]\n",
      "358\t16    \t[0.66666667]\t358\t[1.]\t[0.]\t16    \t[0.47140452]\t[4.8237518] \t358\t[5.38373756]\t[4.6368041] \t16    \t[0.24428396]\n",
      "359\t19    \t[0.66666667]\t359\t[1.]\t[0.]\t19    \t[0.47140452]\t[4.89356963]\t359\t[5.50963354]\t[4.6368041] \t19    \t[0.25442985]\n",
      "360\t16    \t[0.63333333]\t360\t[1.]\t[0.]\t16    \t[0.48189441]\t[4.86764652]\t360\t[5.55115461]\t[4.6368041] \t16    \t[0.25569604]\n",
      "361\t24    \t[0.5]       \t361\t[1.]\t[0.]\t24    \t[0.5]       \t[4.92625044]\t361\t[5.44915152]\t[4.6368041] \t24    \t[0.21767478]\n",
      "362\t21    \t[0.6]       \t362\t[1.]\t[0.]\t21    \t[0.48989795]\t[4.93869909]\t362\t[5.86847639]\t[4.6368041] \t21    \t[0.28421333]\n",
      "363\t10    \t[0.76666667]\t363\t[1.]\t[0.]\t10    \t[0.42295258]\t[4.76869745]\t363\t[5.08015394]\t[4.6368041] \t10    \t[0.14254427]\n",
      "364\t11    \t[0.8]       \t364\t[1.]\t[0.]\t11    \t[0.4]       \t[4.74464855]\t364\t[5.21695662]\t[4.6368041] \t11    \t[0.1664256] \n",
      "365\t21    \t[0.66666667]\t365\t[1.]\t[0.]\t21    \t[0.47140452]\t[4.79537675]\t365\t[5.17500544]\t[4.6368041] \t21    \t[0.17112915]\n",
      "366\t17    \t[0.8]       \t366\t[1.]\t[0.]\t17    \t[0.4]       \t[4.80058107]\t366\t[5.47701025]\t[4.6368041] \t17    \t[0.21819632]\n",
      "367\t19    \t[0.63333333]\t367\t[1.]\t[0.]\t19    \t[0.48189441]\t[4.83280687]\t367\t[5.34002256]\t[4.6368041] \t19    \t[0.19086791]\n",
      "368\t18    \t[0.5]       \t368\t[1.]\t[0.]\t18    \t[0.5]       \t[4.87088183]\t368\t[5.42469406]\t[4.6368041] \t18    \t[0.21138027]\n",
      "369\t13    \t[0.63333333]\t369\t[1.]\t[0.]\t13    \t[0.48189441]\t[4.77402665]\t369\t[5.33050871]\t[4.6368041] \t13    \t[0.15456577]\n",
      "370\t18    \t[0.66666667]\t370\t[1.]\t[0.]\t18    \t[0.47140452]\t[4.8218218] \t370\t[5.29693842]\t[4.6368041] \t18    \t[0.1840527] \n",
      "371\t19    \t[0.6]       \t371\t[1.]\t[0.]\t19    \t[0.48989795]\t[4.88024263]\t371\t[5.45286322]\t[4.6368041] \t19    \t[0.26196972]\n",
      "372\t16    \t[0.56666667]\t372\t[1.]\t[0.]\t16    \t[0.49553562]\t[4.88778674]\t372\t[5.37476587]\t[4.6368041] \t16    \t[0.23556249]\n",
      "373\t17    \t[0.56666667]\t373\t[1.]\t[0.]\t17    \t[0.49553562]\t[4.87069384]\t373\t[5.39319086]\t[4.6368041] \t17    \t[0.23532393]\n",
      "374\t21    \t[0.63333333]\t374\t[1.]\t[0.]\t21    \t[0.48189441]\t[4.87608406]\t374\t[5.45786095]\t[4.6368041] \t21    \t[0.21896485]\n",
      "375\t19    \t[0.7]       \t375\t[1.]\t[0.]\t19    \t[0.45825757]\t[4.82363766]\t375\t[5.22132587]\t[4.6368041] \t19    \t[0.17384904]\n",
      "376\t17    \t[0.63333333]\t376\t[1.]\t[0.]\t17    \t[0.48189441]\t[4.84105732]\t376\t[5.36665249]\t[4.6368041] \t17    \t[0.21284454]\n",
      "377\t19    \t[0.53333333]\t377\t[1.]\t[0.]\t19    \t[0.49888765]\t[4.88490736]\t377\t[5.5216608] \t[4.6368041] \t19    \t[0.22346416]\n",
      "378\t19    \t[0.56666667]\t378\t[1.]\t[0.]\t19    \t[0.49553562]\t[4.88196945]\t378\t[5.32660389]\t[4.6368041] \t19    \t[0.19626856]\n",
      "379\t18    \t[0.56666667]\t379\t[1.]\t[0.]\t18    \t[0.49553562]\t[4.86193978]\t379\t[5.62101555]\t[4.6368041] \t18    \t[0.25628044]\n",
      "380\t16    \t[0.7]       \t380\t[1.]\t[0.]\t16    \t[0.45825757]\t[4.77959957]\t380\t[5.27048588]\t[4.6368041] \t16    \t[0.17628309]\n",
      "381\t17    \t[0.76666667]\t381\t[1.]\t[0.]\t17    \t[0.42295258]\t[4.78304114]\t381\t[5.43899012]\t[4.6368041] \t17    \t[0.19935919]\n",
      "382\t20    \t[0.73333333]\t382\t[1.]\t[0.]\t20    \t[0.44221664]\t[4.83227735]\t382\t[5.55420256]\t[4.6368041] \t20    \t[0.22653898]\n",
      "383\t21    \t[0.6]       \t383\t[1.]\t[0.]\t21    \t[0.48989795]\t[4.90224209]\t383\t[5.33399916]\t[4.6368041] \t21    \t[0.2274565] \n",
      "384\t20    \t[0.63333333]\t384\t[1.]\t[0.]\t20    \t[0.48189441]\t[4.97278056]\t384\t[5.81470871]\t[4.6368041] \t20    \t[0.31316891]\n",
      "385\t24    \t[0.46666667]\t385\t[1.]\t[0.]\t24    \t[0.49888765]\t[4.98759356]\t385\t[5.90031719]\t[4.6368041] \t24    \t[0.27100483]\n",
      "386\t18    \t[0.5]       \t386\t[1.]\t[0.]\t18    \t[0.5]       \t[4.93187877]\t386\t[5.51556301]\t[4.6368041] \t18    \t[0.24335491]\n",
      "387\t20    \t[0.46666667]\t387\t[1.]\t[0.]\t20    \t[0.49888765]\t[4.87879788]\t387\t[5.41686058]\t[4.6368041] \t20    \t[0.22752063]\n",
      "388\t14    \t[0.7]       \t388\t[1.]\t[0.]\t14    \t[0.45825757]\t[4.81843244]\t388\t[5.63474846]\t[4.6368041] \t14    \t[0.22310411]\n",
      "389\t18    \t[0.83333333]\t389\t[1.]\t[0.]\t18    \t[0.372678]  \t[4.82543038]\t389\t[5.42969465]\t[4.6368041] \t18    \t[0.20629838]\n",
      "390\t15    \t[0.76666667]\t390\t[1.]\t[0.]\t15    \t[0.42295258]\t[4.76429777]\t390\t[5.18355513]\t[4.6368041] \t15    \t[0.15923085]\n",
      "391\t19    \t[0.73333333]\t391\t[1.]\t[0.]\t19    \t[0.44221664]\t[4.84350519]\t391\t[5.28382635]\t[4.6368041] \t19    \t[0.21966836]\n",
      "392\t25    \t[0.66666667]\t392\t[1.]\t[0.]\t25    \t[0.47140452]\t[4.90038354]\t392\t[5.25095224]\t[4.6368041] \t25    \t[0.18466648]\n",
      "393\t17    \t[0.56666667]\t393\t[1.]\t[0.]\t17    \t[0.49553562]\t[4.89920936]\t393\t[5.36370039]\t[4.6368041] \t17    \t[0.24678558]\n",
      "394\t20    \t[0.7]       \t394\t[1.]\t[0.]\t20    \t[0.45825757]\t[4.85483281]\t394\t[5.29633522]\t[4.6368041] \t20    \t[0.19832494]\n",
      "395\t20    \t[0.56666667]\t395\t[1.]\t[0.]\t20    \t[0.49553562]\t[4.9396506] \t395\t[5.59796047]\t[4.6368041] \t20    \t[0.28601758]\n",
      "396\t24    \t[0.53333333]\t396\t[1.]\t[0.]\t24    \t[0.49888765]\t[5.0239579] \t396\t[5.7448411] \t[4.6368041] \t24    \t[0.31177621]\n",
      "397\t21    \t[0.33333333]\t397\t[1.]\t[0.]\t21    \t[0.47140452]\t[5.03205487]\t397\t[5.87990522]\t[4.69594145]\t21    \t[0.30579804]\n",
      "398\t17    \t[0.56666667]\t398\t[1.]\t[0.]\t17    \t[0.49553562]\t[4.93596562]\t398\t[5.40112257]\t[4.69594145]\t17    \t[0.20859245]\n",
      "399\t13    \t[0.53333333]\t399\t[1.]\t[0.]\t13    \t[0.49888765]\t[4.87861722]\t399\t[5.28623676]\t[4.69594145]\t13    \t[0.18046788]\n",
      "400\t19    \t[0.56666667]\t400\t[1.]\t[0.]\t19    \t[0.49553562]\t[4.91286778]\t400\t[5.49504375]\t[4.69594145]\t19    \t[0.22202071]\n",
      "401\t17    \t[0.53333333]\t401\t[1.]\t[0.]\t17    \t[0.49888765]\t[4.88281509]\t401\t[5.27320194]\t[4.69594145]\t17    \t[0.2048493] \n",
      "402\t18    \t[0.76666667]\t402\t[1.]\t[0.]\t18    \t[0.42295258]\t[4.85269604]\t402\t[5.56073141]\t[4.69594145]\t18    \t[0.19927776]\n",
      "403\t19    \t[0.63333333]\t403\t[1.]\t[0.]\t19    \t[0.48189441]\t[4.88282172]\t403\t[5.42338037]\t[4.69594145]\t19    \t[0.2056115] \n",
      "404\t19    \t[0.76666667]\t404\t[1.]\t[0.]\t19    \t[0.42295258]\t[4.83603147]\t404\t[5.35995674]\t[4.69594145]\t19    \t[0.1809348] \n"
     ]
    },
    {
     "name": "stdout",
     "output_type": "stream",
     "text": [
      "405\t16    \t[0.76666667]\t405\t[1.]\t[0.]\t16    \t[0.42295258]\t[4.81648811]\t405\t[5.33884954]\t[4.69594145]\t16    \t[0.16394542]\n",
      "406\t18    \t[0.83333333]\t406\t[1.]\t[0.]\t18    \t[0.372678]  \t[4.87702629]\t406\t[5.6941247] \t[4.69594145]\t18    \t[0.25426638]\n",
      "407\t15    \t[0.8]       \t407\t[1.]\t[0.]\t15    \t[0.4]       \t[4.82345581]\t407\t[5.27149582]\t[4.69594145]\t15    \t[0.17703392]\n",
      "408\t16    \t[0.76666667]\t408\t[1.]\t[0.]\t16    \t[0.42295258]\t[4.84207716]\t408\t[5.22106647]\t[4.69594145]\t16    \t[0.18555609]\n",
      "409\t16    \t[0.8]       \t409\t[1.]\t[0.]\t16    \t[0.4]       \t[4.85213992]\t409\t[5.36225986]\t[4.69594145]\t16    \t[0.1807679] \n",
      "410\t19    \t[0.6]       \t410\t[1.]\t[0.]\t19    \t[0.48989795]\t[4.95753951]\t410\t[5.55659628]\t[4.69594145]\t19    \t[0.2497724] \n",
      "411\t16    \t[0.66666667]\t411\t[1.]\t[0.]\t16    \t[0.47140452]\t[4.93407267]\t411\t[5.48227215]\t[4.69594145]\t16    \t[0.21752768]\n",
      "412\t13    \t[0.86666667]\t412\t[1.]\t[0.]\t13    \t[0.33993463]\t[4.84466151]\t412\t[5.38066244]\t[4.69594145]\t13    \t[0.16343379]\n",
      "413\t12    \t[0.8]       \t413\t[1.]\t[0.]\t12    \t[0.4]       \t[4.8503463] \t413\t[5.37876272]\t[4.69594145]\t12    \t[0.19727476]\n",
      "414\t17    \t[0.83333333]\t414\t[1.]\t[0.]\t17    \t[0.372678]  \t[4.87592451]\t414\t[5.62802029]\t[4.69594145]\t17    \t[0.23484142]\n",
      "415\t19    \t[0.73333333]\t415\t[1.]\t[0.]\t19    \t[0.44221664]\t[4.8766545] \t415\t[5.33953094]\t[4.69594145]\t19    \t[0.17463876]\n",
      "416\t16    \t[0.73333333]\t416\t[1.]\t[0.]\t16    \t[0.44221664]\t[4.88857927]\t416\t[5.36665058]\t[4.69594145]\t16    \t[0.21828987]\n",
      "417\t16    \t[0.83333333]\t417\t[1.]\t[0.]\t16    \t[0.372678]  \t[4.87109313]\t417\t[5.36125517]\t[4.69594145]\t16    \t[0.21445556]\n",
      "418\t22    \t[0.73333333]\t418\t[1.]\t[0.]\t22    \t[0.44221664]\t[4.89454773]\t418\t[5.40623188]\t[4.69594145]\t22    \t[0.18343672]\n",
      "419\t16    \t[0.7]       \t419\t[1.]\t[0.]\t16    \t[0.45825757]\t[4.94263134]\t419\t[5.690557]  \t[4.6930213] \t16    \t[0.32263881]\n",
      "420\t19    \t[0.73333333]\t420\t[1.]\t[0.]\t19    \t[0.44221664]\t[4.8328793] \t420\t[5.39108896]\t[4.67849064]\t19    \t[0.17144183]\n",
      "421\t17    \t[0.63333333]\t421\t[1.]\t[0.]\t17    \t[0.48189441]\t[4.88604204]\t421\t[5.3737793] \t[4.67849064]\t17    \t[0.21516839]\n",
      "422\t19    \t[0.86666667]\t422\t[1.]\t[0.]\t19    \t[0.33993463]\t[4.79941654]\t422\t[5.38394928]\t[4.67849064]\t19    \t[0.17245028]\n",
      "423\t19    \t[0.7]       \t423\t[1.]\t[0.]\t19    \t[0.45825757]\t[4.87592597]\t423\t[5.34329033]\t[4.67849064]\t19    \t[0.20890129]\n",
      "424\t17    \t[0.76666667]\t424\t[1.]\t[0.]\t17    \t[0.42295258]\t[4.86433137]\t424\t[5.36929417]\t[4.67849064]\t17    \t[0.20929035]\n",
      "425\t21    \t[0.73333333]\t425\t[1.]\t[0.]\t21    \t[0.44221664]\t[4.86764703]\t425\t[5.72940016]\t[4.67849064]\t21    \t[0.22290509]\n",
      "426\t17    \t[0.76666667]\t426\t[1.]\t[0.]\t17    \t[0.42295258]\t[4.86715213]\t426\t[5.48888159]\t[4.67849064]\t17    \t[0.21705572]\n",
      "427\t21    \t[0.86666667]\t427\t[1.]\t[0.]\t21    \t[0.33993463]\t[4.85441779]\t427\t[5.28078842]\t[4.67849064]\t21    \t[0.18525206]\n",
      "428\t20    \t[0.86666667]\t428\t[1.]\t[0.]\t20    \t[0.33993463]\t[4.84082274]\t428\t[5.36284971]\t[4.67849064]\t20    \t[0.19688507]\n",
      "429\t16    \t[0.83333333]\t429\t[1.]\t[0.]\t16    \t[0.372678]  \t[4.88040044]\t429\t[5.5791049] \t[4.67849064]\t16    \t[0.2324345] \n",
      "430\t18    \t[0.8]       \t430\t[1.]\t[0.]\t18    \t[0.4]       \t[4.83381263]\t430\t[5.28466368]\t[4.67849064]\t18    \t[0.18280321]\n",
      "431\t18    \t[0.8]       \t431\t[1.]\t[0.]\t18    \t[0.4]       \t[4.88042615]\t431\t[5.35144806]\t[4.67849064]\t18    \t[0.20361879]\n",
      "432\t16    \t[0.86666667]\t432\t[1.]\t[0.]\t16    \t[0.33993463]\t[4.82785214]\t432\t[5.44485855]\t[4.6506052] \t16    \t[0.21527031]\n",
      "433\t18    \t[0.9]       \t433\t[1.]\t[0.]\t18    \t[0.3]       \t[4.86533559]\t433\t[5.34857702]\t[4.6506052] \t18    \t[0.2147744] \n",
      "434\t17    \t[0.9]       \t434\t[1.]\t[0.]\t17    \t[0.3]       \t[4.80424908]\t434\t[5.12726593]\t[4.6506052] \t17    \t[0.15628571]\n",
      "435\t20    \t[0.93333333]\t435\t[1.]\t[0.]\t20    \t[0.24944383]\t[4.80760412]\t435\t[5.22058725]\t[4.6506052] \t20    \t[0.16015598]\n",
      "436\t25    \t[0.8]       \t436\t[1.]\t[0.]\t25    \t[0.4]       \t[4.93916183]\t436\t[5.78791046]\t[4.6506052] \t25    \t[0.26081622]\n",
      "437\t18    \t[0.83333333]\t437\t[1.]\t[0.]\t18    \t[0.372678]  \t[4.85518802]\t437\t[5.22548771]\t[4.6506052] \t18    \t[0.181702]  \n",
      "438\t13    \t[0.8]       \t438\t[1.]\t[0.]\t13    \t[0.4]       \t[4.83202642]\t438\t[5.44716024]\t[4.6506052] \t13    \t[0.20416961]\n",
      "439\t20    \t[0.8]       \t439\t[1.]\t[0.]\t20    \t[0.4]       \t[4.91199236]\t439\t[5.46930552]\t[4.6506052] \t20    \t[0.23096432]\n",
      "440\t18    \t[0.86666667]\t440\t[1.]\t[0.]\t18    \t[0.33993463]\t[4.83085933]\t440\t[5.18254805]\t[4.6506052] \t18    \t[0.15766008]\n",
      "441\t16    \t[0.83333333]\t441\t[1.]\t[0.]\t16    \t[0.372678]  \t[4.81081398]\t441\t[5.44026327]\t[4.6506052] \t16    \t[0.21242615]\n",
      "442\t19    \t[0.8]       \t442\t[1.]\t[0.]\t19    \t[0.4]       \t[4.90442568]\t442\t[5.36657667]\t[4.6506052] \t19    \t[0.22532178]\n",
      "443\t22    \t[0.96666667]\t443\t[1.]\t[0.]\t22    \t[0.17950549]\t[4.91458139]\t443\t[5.49120951]\t[4.6506052] \t22    \t[0.2415141] \n",
      "444\t17    \t[0.96666667]\t444\t[1.]\t[0.]\t17    \t[0.17950549]\t[4.88530738]\t444\t[5.71538019]\t[4.6506052] \t17    \t[0.26579791]\n",
      "445\t16    \t[0.93333333]\t445\t[1.]\t[0.]\t16    \t[0.24944383]\t[4.82979482]\t445\t[5.27031422]\t[4.6506052] \t16    \t[0.18685088]\n",
      "446\t18    \t[0.93333333]\t446\t[1.]\t[0.]\t18    \t[0.24944383]\t[4.79434775]\t446\t[5.20803261]\t[4.6506052] \t18    \t[0.18990267]\n",
      "447\t21    \t[0.93333333]\t447\t[1.]\t[0.]\t21    \t[0.24944383]\t[4.81726071]\t447\t[5.44489622]\t[4.6506052] \t21    \t[0.22568325]\n",
      "448\t18    \t[0.96666667]\t448\t[1.]\t[0.]\t18    \t[0.17950549]\t[4.81824231]\t448\t[5.23508167]\t[4.6506052] \t18    \t[0.17292152]\n",
      "449\t25    \t[0.96666667]\t449\t[1.]\t[0.]\t25    \t[0.17950549]\t[4.93092259]\t449\t[5.66324139]\t[4.6506052] \t25    \t[0.25381729]\n",
      "450\t22    \t[0.9]       \t450\t[1.]\t[0.]\t22    \t[0.3]       \t[4.95993787]\t450\t[5.55368996]\t[4.6506052] \t22    \t[0.22332649]\n",
      "451\t14    \t[0.93333333]\t451\t[1.]\t[0.]\t14    \t[0.24944383]\t[4.86582974]\t451\t[5.57228088]\t[4.6506052] \t14    \t[0.22814147]\n",
      "452\t19    \t[0.9]       \t452\t[1.]\t[0.]\t19    \t[0.3]       \t[4.86485751]\t452\t[5.31214762]\t[4.6506052] \t19    \t[0.21135935]\n",
      "453\t21    \t[0.96666667]\t453\t[1.]\t[0.]\t21    \t[0.17950549]\t[4.90293131]\t453\t[5.74524784]\t[4.6506052] \t21    \t[0.2350627] \n",
      "454\t17    \t[0.96666667]\t454\t[1.]\t[0.]\t17    \t[0.17950549]\t[4.83529636]\t454\t[5.07298899]\t[4.6506052] \t17    \t[0.14582829]\n",
      "455\t9     \t[1.]        \t455\t[1.]\t[1.]\t9     \t[0.]        \t[4.79139659]\t455\t[5.17088795]\t[4.6506052] \t9     \t[0.13130784]\n",
      "456\t23    \t[0.96666667]\t456\t[1.]\t[0.]\t23    \t[0.17950549]\t[4.90431258]\t456\t[5.51771355]\t[4.6506052] \t23    \t[0.23548378]\n",
      "457\t18    \t[0.93333333]\t457\t[1.]\t[0.]\t18    \t[0.24944383]\t[4.86852064]\t457\t[5.3828721] \t[4.6506052] \t18    \t[0.19873799]\n",
      "458\t16    \t[0.96666667]\t458\t[1.]\t[0.]\t16    \t[0.17950549]\t[4.79338353]\t458\t[5.34562683]\t[4.6506052] \t16    \t[0.16567503]\n",
      "459\t17    \t[1.]        \t459\t[1.]\t[1.]\t17    \t[0.]        \t[4.7996532] \t459\t[5.26723051]\t[4.6506052] \t17    \t[0.17517864]\n",
      "460\t15    \t[0.96666667]\t460\t[1.]\t[0.]\t15    \t[0.17950549]\t[4.7699639] \t460\t[5.21304703]\t[4.6506052] \t15    \t[0.17377047]\n",
      "461\t19    \t[0.96666667]\t461\t[1.]\t[0.]\t19    \t[0.17950549]\t[4.82292577]\t461\t[5.40578222]\t[4.6506052] \t19    \t[0.22064726]\n",
      "462\t16    \t[0.96666667]\t462\t[1.]\t[0.]\t16    \t[0.17950549]\t[4.75261677]\t462\t[5.39152861]\t[4.6506052] \t16    \t[0.17981812]\n",
      "463\t17    \t[0.93333333]\t463\t[1.]\t[0.]\t17    \t[0.24944383]\t[4.78857579]\t463\t[5.14179182]\t[4.6506052] \t17    \t[0.17641716]\n",
      "464\t15    \t[0.96666667]\t464\t[1.]\t[0.]\t15    \t[0.17950549]\t[4.83952789]\t464\t[5.81768703]\t[4.6506052] \t15    \t[0.29743892]\n",
      "465\t18    \t[1.]        \t465\t[1.]\t[1.]\t18    \t[0.]        \t[4.75403744]\t465\t[5.1704154] \t[4.6506052] \t18    \t[0.15534653]\n",
      "466\t20    \t[1.]        \t466\t[1.]\t[1.]\t20    \t[0.]        \t[4.80403783]\t466\t[5.22864723]\t[4.6506052] \t20    \t[0.18119637]\n",
      "467\t17    \t[1.]        \t467\t[1.]\t[1.]\t17    \t[0.]        \t[4.79750064]\t467\t[5.21953154]\t[4.6506052] \t17    \t[0.17083775]\n",
      "468\t16    \t[0.96666667]\t468\t[1.]\t[0.]\t16    \t[0.17950549]\t[4.81462183]\t468\t[5.53611898]\t[4.6506052] \t16    \t[0.22132752]\n",
      "469\t23    \t[0.96666667]\t469\t[1.]\t[0.]\t23    \t[0.17950549]\t[4.81702914]\t469\t[5.15777922]\t[4.6506052] \t23    \t[0.17222458]\n",
      "470\t18    \t[0.9]       \t470\t[1.]\t[0.]\t18    \t[0.3]       \t[4.8471312] \t470\t[5.56799555]\t[4.6506052] \t18    \t[0.24672697]\n",
      "471\t19    \t[0.93333333]\t471\t[1.]\t[0.]\t19    \t[0.24944383]\t[4.87052441]\t471\t[5.43372345]\t[4.6506052] \t19    \t[0.21743304]\n",
      "472\t23    \t[0.9]       \t472\t[1.]\t[0.]\t23    \t[0.3]       \t[4.87184153]\t472\t[5.32689142]\t[4.6506052] \t23    \t[0.20598513]\n"
     ]
    },
    {
     "name": "stdout",
     "output_type": "stream",
     "text": [
      "473\t17    \t[0.86666667]\t473\t[1.]\t[0.]\t17    \t[0.33993463]\t[4.86249541]\t473\t[5.46474075]\t[4.6506052] \t17    \t[0.24701527]\n",
      "474\t15    \t[0.93333333]\t474\t[1.]\t[0.]\t15    \t[0.24944383]\t[4.77879434]\t474\t[5.34830379]\t[4.6506052] \t15    \t[0.15469823]\n",
      "475\t18    \t[0.96666667]\t475\t[1.]\t[0.]\t18    \t[0.17950549]\t[4.81994004]\t475\t[5.30615568]\t[4.6506052] \t18    \t[0.18463146]\n",
      "476\t18    \t[0.93333333]\t476\t[1.]\t[0.]\t18    \t[0.24944383]\t[4.80257748]\t476\t[5.56136274]\t[4.6506052] \t18    \t[0.21761324]\n",
      "477\t23    \t[0.93333333]\t477\t[1.]\t[0.]\t23    \t[0.24944383]\t[4.85011121]\t477\t[5.89897108]\t[4.6506052] \t23    \t[0.28298242]\n",
      "478\t16    \t[1.]        \t478\t[1.]\t[1.]\t16    \t[0.]        \t[4.76950927]\t478\t[5.14292097]\t[4.64346123]\t16    \t[0.14367293]\n",
      "479\t20    \t[1.]        \t479\t[1.]\t[1.]\t20    \t[0.]        \t[4.83254658]\t479\t[5.25038242]\t[4.64346123]\t20    \t[0.17400803]\n",
      "480\t16    \t[0.93333333]\t480\t[1.]\t[0.]\t16    \t[0.24944383]\t[4.85364167]\t480\t[5.43600607]\t[4.64346123]\t16    \t[0.22368621]\n",
      "481\t15    \t[1.]        \t481\t[1.]\t[1.]\t15    \t[0.]        \t[4.81786496]\t481\t[5.32687902]\t[4.64346123]\t15    \t[0.22052519]\n",
      "482\t20    \t[0.9]       \t482\t[1.]\t[0.]\t20    \t[0.3]       \t[4.80685725]\t482\t[5.80828857]\t[4.64346123]\t20    \t[0.23347212]\n",
      "483\t23    \t[0.7]       \t483\t[1.]\t[0.]\t23    \t[0.45825757]\t[4.88691185]\t483\t[5.30418348]\t[4.64346123]\t23    \t[0.20995451]\n",
      "484\t22    \t[0.8]       \t484\t[1.]\t[0.]\t22    \t[0.4]       \t[4.87627392]\t484\t[5.33427572]\t[4.64346123]\t22    \t[0.1973906] \n",
      "485\t20    \t[0.8]       \t485\t[1.]\t[0.]\t20    \t[0.4]       \t[4.82477105]\t485\t[5.21576786]\t[4.64346123]\t20    \t[0.16804237]\n",
      "486\t15    \t[0.86666667]\t486\t[1.]\t[0.]\t15    \t[0.33993463]\t[4.82451035]\t486\t[5.4632678] \t[4.64346123]\t15    \t[0.21009233]\n",
      "487\t23    \t[0.76666667]\t487\t[1.]\t[0.]\t23    \t[0.42295258]\t[4.83004573]\t487\t[5.33269262]\t[4.64346123]\t23    \t[0.18899504]\n",
      "488\t16    \t[0.63333333]\t488\t[1.]\t[0.]\t16    \t[0.48189441]\t[4.77741844]\t488\t[5.10303974]\t[4.64346123]\t16    \t[0.12465456]\n",
      "489\t20    \t[0.76666667]\t489\t[1.]\t[0.]\t20    \t[0.42295258]\t[4.81644039]\t489\t[5.13821888]\t[4.64346123]\t20    \t[0.16989813]\n",
      "490\t15    \t[0.66666667]\t490\t[1.]\t[0.]\t15    \t[0.47140452]\t[4.77558389]\t490\t[5.41163778]\t[4.64346123]\t15    \t[0.16554479]\n",
      "491\t18    \t[0.6]       \t491\t[1.]\t[0.]\t18    \t[0.48989795]\t[4.81896203]\t491\t[5.15758276]\t[4.64346123]\t18    \t[0.19066862]\n",
      "492\t16    \t[0.6]       \t492\t[1.]\t[0.]\t16    \t[0.48989795]\t[4.85888344]\t492\t[5.30080938]\t[4.64346123]\t16    \t[0.22708926]\n",
      "493\t15    \t[0.63333333]\t493\t[1.]\t[0.]\t15    \t[0.48189441]\t[4.85663961]\t493\t[5.29713011]\t[4.63355017]\t15    \t[0.19230351]\n",
      "494\t20    \t[0.66666667]\t494\t[1.]\t[0.]\t20    \t[0.47140452]\t[4.90105948]\t494\t[5.50252342]\t[4.64346123]\t20    \t[0.22241452]\n",
      "495\t17    \t[0.7]       \t495\t[1.]\t[0.]\t17    \t[0.45825757]\t[4.82548272]\t495\t[5.17565489]\t[4.64346123]\t17    \t[0.16395366]\n",
      "496\t17    \t[0.73333333]\t496\t[1.]\t[0.]\t17    \t[0.44221664]\t[4.90874157]\t496\t[5.34292889]\t[4.64346123]\t17    \t[0.22166117]\n",
      "497\t20    \t[0.73333333]\t497\t[1.]\t[0.]\t20    \t[0.44221664]\t[4.88967484]\t497\t[5.41967344]\t[4.64346123]\t20    \t[0.21955445]\n",
      "498\t20    \t[0.96666667]\t498\t[1.]\t[0.]\t20    \t[0.17950549]\t[4.86022735]\t498\t[5.36713934]\t[4.64346123]\t20    \t[0.21127849]\n",
      "499\t17    \t[0.86666667]\t499\t[1.]\t[0.]\t17    \t[0.33993463]\t[4.80977411]\t499\t[5.52425098]\t[4.64346123]\t17    \t[0.21236582]\n",
      "500\t16    \t[0.86666667]\t500\t[1.]\t[0.]\t16    \t[0.33993463]\t[4.76713435]\t500\t[5.18946791]\t[4.64346123]\t16    \t[0.17271303]\n",
      "501\t17    \t[0.86666667]\t501\t[1.]\t[0.]\t17    \t[0.33993463]\t[4.79638802]\t501\t[5.11433363]\t[4.64346123]\t17    \t[0.16355016]\n",
      "502\t15    \t[0.8]       \t502\t[1.]\t[0.]\t15    \t[0.4]       \t[4.81679424]\t502\t[5.54973412]\t[4.64346123]\t15    \t[0.23066999]\n",
      "503\t20    \t[0.93333333]\t503\t[1.]\t[0.]\t20    \t[0.24944383]\t[4.82571106]\t503\t[5.40546417]\t[4.64346123]\t20    \t[0.21242002]\n",
      "504\t21    \t[0.8]       \t504\t[1.]\t[0.]\t21    \t[0.4]       \t[4.85983165]\t504\t[5.24075556]\t[4.64346123]\t21    \t[0.19964668]\n",
      "505\t15    \t[0.76666667]\t505\t[1.]\t[0.]\t15    \t[0.42295258]\t[4.85873183]\t505\t[5.58319855]\t[4.64346123]\t15    \t[0.23516364]\n",
      "506\t18    \t[0.7]       \t506\t[1.]\t[0.]\t18    \t[0.45825757]\t[4.82381059]\t506\t[5.37631035]\t[4.62528563]\t18    \t[0.21491594]\n",
      "507\t13    \t[0.86666667]\t507\t[1.]\t[0.]\t13    \t[0.33993463]\t[4.79377562]\t507\t[5.43892431]\t[4.62528563]\t13    \t[0.20664504]\n",
      "508\t18    \t[0.76666667]\t508\t[1.]\t[0.]\t18    \t[0.42295258]\t[4.79305077]\t508\t[5.19517708]\t[4.62631178]\t18    \t[0.18576075]\n",
      "509\t14    \t[0.7]       \t509\t[1.]\t[0.]\t14    \t[0.45825757]\t[4.76183518]\t509\t[5.12620544]\t[4.62631178]\t14    \t[0.13992841]\n",
      "510\t21    \t[0.86666667]\t510\t[1.]\t[0.]\t21    \t[0.33993463]\t[4.82674832]\t510\t[5.22594976]\t[4.64346123]\t21    \t[0.17106138]\n",
      "511\t13    \t[0.83333333]\t511\t[1.]\t[0.]\t13    \t[0.372678]  \t[4.79839362]\t511\t[5.37690687]\t[4.64346123]\t13    \t[0.1996311] \n",
      "512\t19    \t[0.8]       \t512\t[1.]\t[0.]\t19    \t[0.4]       \t[4.82640004]\t512\t[5.30250883]\t[4.64346123]\t19    \t[0.20190381]\n",
      "513\t19    \t[0.86666667]\t513\t[1.]\t[0.]\t19    \t[0.33993463]\t[4.77807911]\t513\t[5.08225965]\t[4.64346123]\t19    \t[0.13089199]\n",
      "514\t19    \t[0.86666667]\t514\t[1.]\t[0.]\t19    \t[0.33993463]\t[4.78463243]\t514\t[5.14116001]\t[4.64346123]\t19    \t[0.17025424]\n",
      "515\t18    \t[0.9]       \t515\t[1.]\t[0.]\t18    \t[0.3]       \t[4.78163492]\t515\t[5.10432911]\t[4.64346123]\t18    \t[0.14499696]\n",
      "516\t16    \t[0.83333333]\t516\t[1.]\t[0.]\t16    \t[0.372678]  \t[4.74528381]\t516\t[5.14212132]\t[4.64346123]\t16    \t[0.15840039]\n",
      "517\t19    \t[0.83333333]\t517\t[1.]\t[0.]\t19    \t[0.372678]  \t[4.82093673]\t517\t[5.35198069]\t[4.64346123]\t19    \t[0.20217032]\n",
      "518\t21    \t[0.73333333]\t518\t[1.]\t[0.]\t21    \t[0.44221664]\t[4.8191271] \t518\t[5.39945936]\t[4.64346123]\t21    \t[0.2056447] \n",
      "519\t19    \t[0.6]       \t519\t[1.]\t[0.]\t19    \t[0.48989795]\t[4.83551321]\t519\t[5.52856398]\t[4.64346123]\t19    \t[0.19286703]\n",
      "520\t19    \t[0.63333333]\t520\t[1.]\t[0.]\t19    \t[0.48189441]\t[4.86444314]\t520\t[5.25816536]\t[4.64346123]\t19    \t[0.17753068]\n",
      "521\t21    \t[0.63333333]\t521\t[1.]\t[0.]\t21    \t[0.48189441]\t[4.84058299]\t521\t[5.38208199]\t[4.64346123]\t21    \t[0.20957373]\n",
      "522\t13    \t[0.8]       \t522\t[1.]\t[0.]\t13    \t[0.4]       \t[4.78808772]\t522\t[5.34514046]\t[4.64346123]\t13    \t[0.19737874]\n",
      "523\t18    \t[0.8]       \t523\t[1.]\t[0.]\t18    \t[0.4]       \t[4.79247246]\t523\t[5.3286128] \t[4.64346123]\t18    \t[0.18318992]\n",
      "524\t21    \t[0.66666667]\t524\t[1.]\t[0.]\t21    \t[0.47140452]\t[4.87908894]\t524\t[5.23113346]\t[4.64346123]\t21    \t[0.19009445]\n",
      "525\t16    \t[0.6]       \t525\t[1.]\t[0.]\t16    \t[0.48989795]\t[4.84277959]\t525\t[5.3822875] \t[4.62755537]\t16    \t[0.21278831]\n",
      "526\t18    \t[0.66666667]\t526\t[1.]\t[0.]\t18    \t[0.47140452]\t[4.80245945]\t526\t[5.12269163]\t[4.62755537]\t18    \t[0.17757852]\n",
      "527\t17    \t[0.6]       \t527\t[1.]\t[0.]\t17    \t[0.48989795]\t[4.86353723]\t527\t[5.50802708]\t[4.62755537]\t17    \t[0.24743659]\n",
      "528\t16    \t[0.5]       \t528\t[1.]\t[0.]\t16    \t[0.5]       \t[4.78370576]\t528\t[5.62844229]\t[4.62755537]\t16    \t[0.21691004]\n",
      "529\t16    \t[0.36666667]\t529\t[1.]\t[0.]\t16    \t[0.48189441]\t[4.74917847]\t529\t[5.0945282] \t[4.62755537]\t16    \t[0.14725488]\n",
      "530\t23    \t[0.26666667]\t530\t[1.]\t[0.]\t23    \t[0.44221664]\t[4.80424377]\t530\t[5.3363409] \t[4.62755537]\t23    \t[0.1941643] \n",
      "531\t21    \t[0.26666667]\t531\t[1.]\t[0.]\t21    \t[0.44221664]\t[4.81793005]\t531\t[5.2616539] \t[4.62755537]\t21    \t[0.1985349] \n",
      "532\t14    \t[0.3]       \t532\t[1.]\t[0.]\t14    \t[0.45825757]\t[4.82782009]\t532\t[5.3771987] \t[4.62755537]\t14    \t[0.23066727]\n",
      "533\t28    \t[0.33333333]\t533\t[1.]\t[0.]\t28    \t[0.47140452]\t[4.86278912]\t533\t[5.38642073]\t[4.62755537]\t28    \t[0.19034128]\n",
      "534\t15    \t[0.3]       \t534\t[1.]\t[0.]\t15    \t[0.45825757]\t[4.82510117]\t534\t[5.35722589]\t[4.62755537]\t15    \t[0.16417463]\n",
      "535\t21    \t[0.23333333]\t535\t[1.]\t[0.]\t21    \t[0.42295258]\t[4.8538516] \t535\t[5.20586205]\t[4.61934662]\t21    \t[0.17686097]\n",
      "536\t18    \t[0.2]       \t536\t[1.]\t[0.]\t18    \t[0.4]       \t[4.78427695]\t536\t[5.16709089]\t[4.61934662]\t18    \t[0.18427138]\n",
      "537\t20    \t[0.26666667]\t537\t[1.]\t[0.]\t20    \t[0.44221664]\t[4.80139863]\t537\t[5.2522049] \t[4.61934662]\t20    \t[0.19419791]\n",
      "538\t10    \t[0.06666667]\t538\t[1.]\t[0.]\t10    \t[0.24944383]\t[4.71366097]\t538\t[5.32475901]\t[4.60971069]\t10    \t[0.15604203]\n",
      "539\t17    \t[0.06666667]\t539\t[1.]\t[0.]\t17    \t[0.24944383]\t[4.75386141]\t539\t[5.27172804]\t[4.60971069]\t17    \t[0.18129541]\n",
      "540\t12    \t[0.03333333]\t540\t[1.]\t[0.]\t12    \t[0.17950549]\t[4.70301903]\t540\t[5.04690647]\t[4.59201384]\t12    \t[0.12717538]\n"
     ]
    },
    {
     "name": "stdout",
     "output_type": "stream",
     "text": [
      "541\t23    \t[0.13333333]\t541\t[1.]\t[0.]\t23    \t[0.33993463]\t[4.81233099]\t541\t[5.31390858]\t[4.59201384]\t23    \t[0.22098319]\n",
      "542\t18    \t[0.16666667]\t542\t[1.]\t[0.]\t18    \t[0.372678]  \t[4.79335284]\t542\t[5.35235977]\t[4.59201384]\t18    \t[0.22455284]\n",
      "543\t20    \t[0.1]       \t543\t[1.]\t[0.]\t20    \t[0.3]       \t[4.77645006]\t543\t[5.33263874]\t[4.59201384]\t20    \t[0.20323093]\n",
      "544\t17    \t[0.06666667]\t544\t[1.]\t[0.]\t17    \t[0.24944383]\t[4.72240283]\t544\t[5.10157728]\t[4.59201384]\t17    \t[0.16494052]\n",
      "545\t16    \t[0.03333333]\t545\t[1.]\t[0.]\t16    \t[0.17950549]\t[4.68808198]\t545\t[4.96470356]\t[4.59201384]\t16    \t[0.12341342]\n",
      "546\t20    \t[0.13333333]\t546\t[1.]\t[0.]\t20    \t[0.33993463]\t[4.74305229]\t546\t[5.08757639]\t[4.59201384]\t20    \t[0.14877955]\n",
      "547\t19    \t[0.]        \t547\t[0.]\t[0.]\t19    \t[0.]        \t[4.7557226] \t547\t[5.34312534]\t[4.59201384]\t19    \t[0.19189467]\n",
      "548\t23    \t[0.06666667]\t548\t[1.]\t[0.]\t23    \t[0.24944383]\t[4.74331498]\t548\t[5.19978809]\t[4.59201384]\t23    \t[0.15194437]\n",
      "549\t11    \t[0.03333333]\t549\t[1.]\t[0.]\t11    \t[0.17950549]\t[4.6823318] \t549\t[4.97353315]\t[4.59201384]\t11    \t[0.12311101]\n",
      "550\t15    \t[0.03333333]\t550\t[1.]\t[0.]\t15    \t[0.17950549]\t[4.72793123]\t550\t[5.15946722]\t[4.59201384]\t15    \t[0.20634006]\n",
      "551\t26    \t[0.1]       \t551\t[1.]\t[0.]\t26    \t[0.3]       \t[4.73798954]\t551\t[5.15601492]\t[4.59201384]\t26    \t[0.15545375]\n",
      "552\t15    \t[0.03333333]\t552\t[1.]\t[0.]\t15    \t[0.17950549]\t[4.71062174]\t552\t[5.13668776]\t[4.59201384]\t15    \t[0.13398364]\n",
      "553\t17    \t[0.06666667]\t553\t[1.]\t[0.]\t17    \t[0.24944383]\t[4.77206368]\t553\t[5.20363855]\t[4.59201384]\t17    \t[0.21464096]\n",
      "554\t18    \t[0.1]       \t554\t[1.]\t[0.]\t18    \t[0.3]       \t[4.79044627]\t554\t[5.3741374] \t[4.59201384]\t18    \t[0.22813937]\n",
      "555\t16    \t[0.13333333]\t555\t[1.]\t[0.]\t16    \t[0.33993463]\t[4.79588194]\t555\t[5.27801609]\t[4.59201384]\t16    \t[0.22173879]\n",
      "556\t14    \t[0.13333333]\t556\t[1.]\t[0.]\t14    \t[0.33993463]\t[4.80355981]\t556\t[5.33083487]\t[4.59201384]\t14    \t[0.20613573]\n",
      "557\t20    \t[0.03333333]\t557\t[1.]\t[0.]\t20    \t[0.17950549]\t[4.81285394]\t557\t[5.27284336]\t[4.59201384]\t20    \t[0.20799952]\n",
      "558\t19    \t[0.06666667]\t558\t[1.]\t[0.]\t19    \t[0.24944383]\t[4.80711756]\t558\t[5.25995207]\t[4.59201384]\t19    \t[0.19025761]\n",
      "559\t22    \t[0.13333333]\t559\t[1.]\t[0.]\t22    \t[0.33993463]\t[4.82578424]\t559\t[5.43423748]\t[4.57386112]\t22    \t[0.19330696]\n",
      "560\t19    \t[0.1]       \t560\t[1.]\t[0.]\t19    \t[0.3]       \t[4.8243553] \t560\t[5.29452324]\t[4.57386112]\t19    \t[0.18890886]\n",
      "561\t20    \t[0.1]       \t561\t[1.]\t[0.]\t20    \t[0.3]       \t[4.79210132]\t561\t[5.19441938]\t[4.57386112]\t20    \t[0.18091163]\n",
      "562\t24    \t[0.06666667]\t562\t[1.]\t[0.]\t24    \t[0.24944383]\t[4.81812016]\t562\t[5.26877308]\t[4.58034229]\t24    \t[0.21249211]\n",
      "563\t13    \t[0.06666667]\t563\t[1.]\t[0.]\t13    \t[0.24944383]\t[4.79785655]\t563\t[5.41864157]\t[4.58034229]\t13    \t[0.22884021]\n",
      "564\t19    \t[0.16666667]\t564\t[1.]\t[0.]\t19    \t[0.372678]  \t[4.79662259]\t564\t[5.14861298]\t[4.58034229]\t19    \t[0.19507158]\n",
      "565\t21    \t[0.13333333]\t565\t[1.]\t[0.]\t21    \t[0.33993463]\t[4.77278401]\t565\t[5.12986851]\t[4.58034229]\t21    \t[0.17079206]\n",
      "566\t17    \t[0.1]       \t566\t[1.]\t[0.]\t17    \t[0.3]       \t[4.76753205]\t566\t[5.18861103]\t[4.57641697]\t17    \t[0.18038002]\n",
      "567\t19    \t[0.26666667]\t567\t[1.]\t[0.]\t19    \t[0.44221664]\t[4.74678734]\t567\t[5.08751774]\t[4.58034229]\t19    \t[0.13978708]\n",
      "568\t13    \t[0.2]       \t568\t[1.]\t[0.]\t13    \t[0.4]       \t[4.77080989]\t568\t[5.3237009] \t[4.58034229]\t13    \t[0.22008811]\n",
      "569\t20    \t[0.13333333]\t569\t[1.]\t[0.]\t20    \t[0.33993463]\t[4.70525139]\t569\t[5.19550943]\t[4.58034229]\t20    \t[0.18088124]\n",
      "570\t20    \t[0.13333333]\t570\t[1.]\t[0.]\t20    \t[0.33993463]\t[4.74220616]\t570\t[5.25792837]\t[4.58034229]\t20    \t[0.19656764]\n",
      "571\t20    \t[0.1]       \t571\t[1.]\t[0.]\t20    \t[0.3]       \t[4.71646682]\t571\t[5.19315052]\t[4.58034229]\t20    \t[0.1630148] \n",
      "572\t18    \t[0.13333333]\t572\t[1.]\t[0.]\t18    \t[0.33993463]\t[4.74850992]\t572\t[5.35710144]\t[4.58034229]\t18    \t[0.18950651]\n",
      "573\t18    \t[0.1]       \t573\t[1.]\t[0.]\t18    \t[0.3]       \t[4.77085017]\t573\t[5.15067387]\t[4.58034229]\t18    \t[0.16839819]\n",
      "574\t17    \t[0.1]       \t574\t[1.]\t[0.]\t17    \t[0.3]       \t[4.7854084] \t574\t[5.37956095]\t[4.58034229]\t17    \t[0.20356404]\n",
      "575\t15    \t[0.1]       \t575\t[1.]\t[0.]\t15    \t[0.3]       \t[4.73804234]\t575\t[5.07676935]\t[4.58034229]\t15    \t[0.15680117]\n",
      "576\t18    \t[0.13333333]\t576\t[1.]\t[0.]\t18    \t[0.33993463]\t[4.79282589]\t576\t[5.19301987]\t[4.58034229]\t18    \t[0.20308982]\n",
      "577\t18    \t[0.1]       \t577\t[1.]\t[0.]\t18    \t[0.3]       \t[4.70704036]\t577\t[5.05889988]\t[4.58034229]\t18    \t[0.13913652]\n",
      "578\t23    \t[0.2]       \t578\t[1.]\t[0.]\t23    \t[0.4]       \t[4.77169806]\t578\t[5.24432564]\t[4.58034229]\t23    \t[0.19196136]\n",
      "579\t16    \t[0.16666667]\t579\t[1.]\t[0.]\t16    \t[0.372678]  \t[4.77353737]\t579\t[5.51841879]\t[4.58034229]\t16    \t[0.24305527]\n",
      "580\t15    \t[0.1]       \t580\t[1.]\t[0.]\t15    \t[0.3]       \t[4.71523083]\t580\t[5.0883112] \t[4.58034229]\t15    \t[0.15532808]\n",
      "581\t21    \t[0.1]       \t581\t[1.]\t[0.]\t21    \t[0.3]       \t[4.72859763]\t581\t[5.11820602]\t[4.58034229]\t21    \t[0.16435518]\n",
      "582\t16    \t[0.1]       \t582\t[1.]\t[0.]\t16    \t[0.3]       \t[4.73889039]\t582\t[5.29788923]\t[4.58034229]\t16    \t[0.18261297]\n",
      "583\t10    \t[0.16666667]\t583\t[1.]\t[0.]\t10    \t[0.372678]  \t[4.70367351]\t583\t[5.11306477]\t[4.58034229]\t10    \t[0.17533182]\n",
      "584\t14    \t[0.13333333]\t584\t[1.]\t[0.]\t14    \t[0.33993463]\t[4.69940971]\t584\t[5.0143137] \t[4.58034229]\t14    \t[0.13536477]\n",
      "585\t19    \t[0.13333333]\t585\t[1.]\t[0.]\t19    \t[0.33993463]\t[4.79053648]\t585\t[5.14417601]\t[4.58034229]\t19    \t[0.18562553]\n",
      "586\t18    \t[0.16666667]\t586\t[1.]\t[0.]\t18    \t[0.372678]  \t[4.74299798]\t586\t[5.12964487]\t[4.58034229]\t18    \t[0.16026256]\n",
      "587\t20    \t[0.23333333]\t587\t[1.]\t[0.]\t20    \t[0.42295258]\t[4.73354376]\t587\t[5.06442356]\t[4.58034229]\t20    \t[0.1292982] \n",
      "588\t19    \t[0.06666667]\t588\t[1.]\t[0.]\t19    \t[0.24944383]\t[4.73208348]\t588\t[5.27092123]\t[4.58034229]\t19    \t[0.17199389]\n",
      "589\t17    \t[0.13333333]\t589\t[1.]\t[0.]\t17    \t[0.33993463]\t[4.71585476]\t589\t[5.13019896]\t[4.58034229]\t17    \t[0.16725463]\n",
      "590\t18    \t[0.13333333]\t590\t[1.]\t[0.]\t18    \t[0.33993463]\t[4.7538415] \t590\t[5.34588337]\t[4.58034229]\t18    \t[0.20731451]\n",
      "591\t18    \t[0.2]       \t591\t[1.]\t[0.]\t18    \t[0.4]       \t[4.78101517]\t591\t[5.44717169]\t[4.58034229]\t18    \t[0.23588073]\n",
      "592\t21    \t[0.16666667]\t592\t[1.]\t[0.]\t21    \t[0.372678]  \t[4.80599076]\t592\t[5.20209265]\t[4.58034229]\t21    \t[0.1995063] \n",
      "593\t16    \t[0.16666667]\t593\t[1.]\t[0.]\t16    \t[0.372678]  \t[4.80832051]\t593\t[5.2150135] \t[4.58034229]\t16    \t[0.20728368]\n",
      "594\t17    \t[0.3]       \t594\t[1.]\t[0.]\t17    \t[0.45825757]\t[4.7238107] \t594\t[5.16617346]\t[4.58034229]\t17    \t[0.16951603]\n",
      "595\t17    \t[0.1]       \t595\t[1.]\t[0.]\t17    \t[0.3]       \t[4.72650164]\t595\t[5.18838453]\t[4.58034229]\t17    \t[0.1798305] \n",
      "596\t12    \t[0.06666667]\t596\t[1.]\t[0.]\t12    \t[0.24944383]\t[4.6725413] \t596\t[5.16426611]\t[4.58034229]\t12    \t[0.15875667]\n",
      "597\t15    \t[0.1]       \t597\t[1.]\t[0.]\t15    \t[0.3]       \t[4.69593652]\t597\t[5.12556076]\t[4.58034229]\t15    \t[0.17823969]\n",
      "598\t14    \t[0.06666667]\t598\t[1.]\t[0.]\t14    \t[0.24944383]\t[4.67732941]\t598\t[5.06164742]\t[4.58034229]\t14    \t[0.1197602] \n",
      "599\t13    \t[0.1]       \t599\t[1.]\t[0.]\t13    \t[0.3]       \t[4.69528343]\t599\t[5.24675751]\t[4.58034229]\t13    \t[0.17933361]\n",
      "600\t18    \t[0.1]       \t600\t[1.]\t[0.]\t18    \t[0.3]       \t[4.73922734]\t600\t[5.1607852] \t[4.58034229]\t18    \t[0.17450953]\n",
      "601\t17    \t[0.1]       \t601\t[1.]\t[0.]\t17    \t[0.3]       \t[4.80176274]\t601\t[5.453825]  \t[4.58034229]\t17    \t[0.23963654]\n",
      "602\t16    \t[0.1]       \t602\t[1.]\t[0.]\t16    \t[0.3]       \t[4.78021715]\t602\t[5.32238531]\t[4.58034229]\t16    \t[0.22010948]\n",
      "603\t19    \t[0.1]       \t603\t[1.]\t[0.]\t19    \t[0.3]       \t[4.73203665]\t603\t[5.10786057]\t[4.58034229]\t19    \t[0.17608494]\n",
      "604\t14    \t[0.2]       \t604\t[1.]\t[0.]\t14    \t[0.4]       \t[4.74471691]\t604\t[5.36313009]\t[4.58034229]\t14    \t[0.22478754]\n",
      "605\t16    \t[0.06666667]\t605\t[1.]\t[0.]\t16    \t[0.24944383]\t[4.68768172]\t605\t[5.09112263]\t[4.58034229]\t16    \t[0.15163672]\n",
      "606\t20    \t[0.1]       \t606\t[1.]\t[0.]\t20    \t[0.3]       \t[4.7113838] \t606\t[5.39293814]\t[4.58034229]\t20    \t[0.16940667]\n",
      "607\t17    \t[0.26666667]\t607\t[1.]\t[0.]\t17    \t[0.44221664]\t[4.7465639] \t607\t[5.22625732]\t[4.58034229]\t17    \t[0.17786582]\n",
      "608\t20    \t[0.23333333]\t608\t[1.]\t[0.]\t20    \t[0.42295258]\t[4.7442781] \t608\t[5.05997658]\t[4.58034229]\t20    \t[0.18259688]\n"
     ]
    },
    {
     "name": "stdout",
     "output_type": "stream",
     "text": [
      "609\t16    \t[0.16666667]\t609\t[1.]\t[0.]\t16    \t[0.372678]  \t[4.70183395]\t609\t[5.15616179]\t[4.58034229]\t16    \t[0.17345138]\n",
      "610\t18    \t[0.2]       \t610\t[1.]\t[0.]\t18    \t[0.4]       \t[4.74292405]\t610\t[5.22944355]\t[4.58034229]\t18    \t[0.21230118]\n",
      "611\t15    \t[0.2]       \t611\t[1.]\t[0.]\t15    \t[0.4]       \t[4.73043532]\t611\t[5.17837286]\t[4.58034229]\t15    \t[0.16622757]\n",
      "612\t15    \t[0.16666667]\t612\t[1.]\t[0.]\t15    \t[0.372678]  \t[4.75606845]\t612\t[5.1828475] \t[4.58034229]\t15    \t[0.20949782]\n",
      "613\t16    \t[0.16666667]\t613\t[1.]\t[0.]\t16    \t[0.372678]  \t[4.71038453]\t613\t[5.27597523]\t[4.58034229]\t16    \t[0.19104659]\n",
      "614\t11    \t[0.03333333]\t614\t[1.]\t[0.]\t11    \t[0.17950549]\t[4.7177942] \t614\t[5.26759052]\t[4.58034229]\t11    \t[0.21547289]\n",
      "615\t16    \t[0.1]       \t615\t[1.]\t[0.]\t16    \t[0.3]       \t[4.70893766]\t615\t[5.14728498]\t[4.58034229]\t16    \t[0.17491099]\n",
      "616\t23    \t[0.13333333]\t616\t[1.]\t[0.]\t23    \t[0.33993463]\t[4.77100546]\t616\t[5.23919058]\t[4.58034229]\t23    \t[0.20198636]\n",
      "617\t17    \t[0.06666667]\t617\t[1.]\t[0.]\t17    \t[0.24944383]\t[4.71586714]\t617\t[5.27618742]\t[4.57584]   \t17    \t[0.17076329]\n",
      "618\t21    \t[0.23333333]\t618\t[1.]\t[0.]\t21    \t[0.42295258]\t[4.76600685]\t618\t[5.18958855]\t[4.57584]   \t21    \t[0.18018901]\n",
      "619\t22    \t[0.2]       \t619\t[1.]\t[0.]\t22    \t[0.4]       \t[4.80200833]\t619\t[5.26691437]\t[4.57584]   \t22    \t[0.22666075]\n",
      "620\t20    \t[0.2]       \t620\t[1.]\t[0.]\t20    \t[0.4]       \t[4.77273307]\t620\t[5.3643856] \t[4.57584]   \t20    \t[0.21894368]\n",
      "621\t17    \t[0.26666667]\t621\t[1.]\t[0.]\t17    \t[0.44221664]\t[4.7635685] \t621\t[5.2413249] \t[4.57584]   \t17    \t[0.19208021]\n",
      "622\t18    \t[0.3]       \t622\t[1.]\t[0.]\t18    \t[0.45825757]\t[4.77736028]\t622\t[5.50738239]\t[4.57584]   \t18    \t[0.23629953]\n",
      "623\t19    \t[0.33333333]\t623\t[1.]\t[0.]\t19    \t[0.47140452]\t[4.72656611]\t623\t[5.13398314]\t[4.57584]   \t19    \t[0.17087218]\n",
      "624\t13    \t[0.4]       \t624\t[1.]\t[0.]\t13    \t[0.48989795]\t[4.66554777]\t624\t[5.05257797]\t[4.57584]   \t13    \t[0.13024219]\n",
      "625\t22    \t[0.36666667]\t625\t[1.]\t[0.]\t22    \t[0.48189441]\t[4.74328651]\t625\t[5.00840712]\t[4.57584]   \t22    \t[0.13162866]\n",
      "626\t12    \t[0.3]       \t626\t[1.]\t[0.]\t12    \t[0.45825757]\t[4.74254578]\t626\t[5.45068455]\t[4.57584]   \t12    \t[0.21257684]\n",
      "627\t17    \t[0.4]       \t627\t[1.]\t[0.]\t17    \t[0.48989795]\t[4.7647772] \t627\t[5.40358353]\t[4.57584]   \t17    \t[0.1967483] \n",
      "628\t23    \t[0.36666667]\t628\t[1.]\t[0.]\t23    \t[0.48189441]\t[4.80578787]\t628\t[5.21324253]\t[4.57353926]\t23    \t[0.1975321] \n",
      "629\t22    \t[0.33333333]\t629\t[1.]\t[0.]\t22    \t[0.47140452]\t[4.78021971]\t629\t[5.1949358] \t[4.57353926]\t22    \t[0.18822611]\n",
      "630\t23    \t[0.2]       \t630\t[1.]\t[0.]\t23    \t[0.4]       \t[4.8212606] \t630\t[5.58498526]\t[4.57353926]\t23    \t[0.25917136]\n",
      "631\t15    \t[0.16666667]\t631\t[1.]\t[0.]\t15    \t[0.372678]  \t[4.72134741]\t631\t[5.24231863]\t[4.57584]   \t15    \t[0.18230594]\n",
      "632\t19    \t[0.26666667]\t632\t[1.]\t[0.]\t19    \t[0.44221664]\t[4.73915491]\t632\t[5.76282454]\t[4.57584]   \t19    \t[0.25416774]\n",
      "633\t25    \t[0.4]       \t633\t[1.]\t[0.]\t25    \t[0.48989795]\t[4.7727639] \t633\t[5.26052856]\t[4.57584]   \t25    \t[0.17934213]\n",
      "634\t16    \t[0.23333333]\t634\t[1.]\t[0.]\t16    \t[0.42295258]\t[4.72877156]\t634\t[5.22223234]\t[4.57584]   \t16    \t[0.21227703]\n",
      "635\t19    \t[0.23333333]\t635\t[1.]\t[0.]\t19    \t[0.42295258]\t[4.73011597]\t635\t[5.10948944]\t[4.5723505] \t19    \t[0.17769404]\n",
      "636\t17    \t[0.26666667]\t636\t[1.]\t[0.]\t17    \t[0.44221664]\t[4.7084414] \t636\t[5.10058069]\t[4.5723505] \t17    \t[0.16346979]\n",
      "637\t19    \t[0.33333333]\t637\t[1.]\t[0.]\t19    \t[0.47140452]\t[4.66492494]\t637\t[5.01241159]\t[4.5723505] \t19    \t[0.11942814]\n",
      "638\t17    \t[0.26666667]\t638\t[1.]\t[0.]\t17    \t[0.44221664]\t[4.71720414]\t638\t[5.28213978]\t[4.5723505] \t17    \t[0.1683804] \n",
      "639\t16    \t[0.23333333]\t639\t[1.]\t[0.]\t16    \t[0.42295258]\t[4.745198]  \t639\t[5.1889534] \t[4.5723505] \t16    \t[0.21710133]\n",
      "640\t22    \t[0.23333333]\t640\t[1.]\t[0.]\t22    \t[0.42295258]\t[4.73641102]\t640\t[5.25018644]\t[4.5723505] \t22    \t[0.1937794] \n",
      "641\t21    \t[0.2]       \t641\t[1.]\t[0.]\t21    \t[0.4]       \t[4.75322733]\t641\t[5.2655611] \t[4.5723505] \t21    \t[0.20885326]\n",
      "642\t16    \t[0.3]       \t642\t[1.]\t[0.]\t16    \t[0.45825757]\t[4.78648521]\t642\t[5.35300541]\t[4.5723505] \t16    \t[0.22713489]\n",
      "643\t19    \t[0.2]       \t643\t[1.]\t[0.]\t19    \t[0.4]       \t[4.77375916]\t643\t[5.37690353]\t[4.57151365]\t19    \t[0.21584166]\n",
      "644\t16    \t[0.23333333]\t644\t[1.]\t[0.]\t16    \t[0.42295258]\t[4.80438697]\t644\t[5.35237074]\t[4.5723505] \t16    \t[0.24704142]\n",
      "645\t14    \t[0.16666667]\t645\t[1.]\t[0.]\t14    \t[0.372678]  \t[4.69559439]\t645\t[5.06091309]\t[4.5723505] \t14    \t[0.13483476]\n",
      "646\t17    \t[0.3]       \t646\t[1.]\t[0.]\t17    \t[0.45825757]\t[4.73642515]\t646\t[5.15490818]\t[4.5723505] \t17    \t[0.20312827]\n",
      "647\t16    \t[0.3]       \t647\t[1.]\t[0.]\t16    \t[0.45825757]\t[4.76886325]\t647\t[5.18122435]\t[4.5723505] \t16    \t[0.22886468]\n",
      "648\t23    \t[0.3]       \t648\t[1.]\t[0.]\t23    \t[0.45825757]\t[4.75277658]\t648\t[5.35205698]\t[4.5723505] \t23    \t[0.21234335]\n",
      "649\t19    \t[0.26666667]\t649\t[1.]\t[0.]\t19    \t[0.44221664]\t[4.73972654]\t649\t[5.13220692]\t[4.5723505] \t19    \t[0.17000991]\n",
      "650\t14    \t[0.36666667]\t650\t[1.]\t[0.]\t14    \t[0.48189441]\t[4.71545547]\t650\t[5.5098114] \t[4.5723505] \t14    \t[0.20189798]\n",
      "651\t17    \t[0.2]       \t651\t[1.]\t[0.]\t17    \t[0.4]       \t[4.73931524]\t651\t[5.2186985] \t[4.5723505] \t17    \t[0.23535903]\n",
      "652\t19    \t[0.1]       \t652\t[1.]\t[0.]\t19    \t[0.3]       \t[4.74627908]\t652\t[5.17206192]\t[4.5723505] \t19    \t[0.19103403]\n",
      "653\t14    \t[0.13333333]\t653\t[1.]\t[0.]\t14    \t[0.33993463]\t[4.74698925]\t653\t[5.23923588]\t[4.5723505] \t14    \t[0.1895923] \n",
      "654\t20    \t[0.16666667]\t654\t[1.]\t[0.]\t20    \t[0.372678]  \t[4.74710555]\t654\t[5.13073683]\t[4.5723505] \t20    \t[0.18568293]\n",
      "655\t25    \t[0.26666667]\t655\t[1.]\t[0.]\t25    \t[0.44221664]\t[4.89921365]\t655\t[5.43293619]\t[4.5723505] \t25    \t[0.28719159]\n",
      "656\t15    \t[0.23333333]\t656\t[1.]\t[0.]\t15    \t[0.42295258]\t[4.81517374]\t656\t[5.34580612]\t[4.5723505] \t15    \t[0.25849152]\n",
      "657\t16    \t[0.26666667]\t657\t[1.]\t[0.]\t16    \t[0.44221664]\t[4.72852259]\t657\t[5.1560297] \t[4.5723505] \t16    \t[0.17303016]\n",
      "658\t17    \t[0.2]       \t658\t[1.]\t[0.]\t17    \t[0.4]       \t[4.73883513]\t658\t[5.24525547]\t[4.5723505] \t17    \t[0.19366652]\n",
      "659\t21    \t[0.26666667]\t659\t[1.]\t[0.]\t21    \t[0.44221664]\t[4.76916121]\t659\t[5.1223588] \t[4.5723505] \t21    \t[0.19639011]\n",
      "660\t17    \t[0.23333333]\t660\t[1.]\t[0.]\t17    \t[0.42295258]\t[4.7678836] \t660\t[5.40785551]\t[4.5723505] \t17    \t[0.22626378]\n",
      "661\t20    \t[0.23333333]\t661\t[1.]\t[0.]\t20    \t[0.42295258]\t[4.754807]  \t661\t[5.36600018]\t[4.5723505] \t20    \t[0.18979648]\n",
      "662\t18    \t[0.26666667]\t662\t[1.]\t[0.]\t18    \t[0.44221664]\t[4.72329171]\t662\t[5.07013655]\t[4.5723505] \t18    \t[0.15923579]\n",
      "663\t19    \t[0.16666667]\t663\t[1.]\t[0.]\t19    \t[0.372678]  \t[4.70810711]\t663\t[5.07263422]\t[4.5723505] \t19    \t[0.17838383]\n",
      "664\t22    \t[0.26666667]\t664\t[1.]\t[0.]\t22    \t[0.44221664]\t[4.80552362]\t664\t[5.27892017]\t[4.5723505] \t22    \t[0.19372407]\n",
      "665\t17    \t[0.23333333]\t665\t[1.]\t[0.]\t17    \t[0.42295258]\t[4.80268939]\t665\t[5.50711679]\t[4.5723505] \t17    \t[0.24329195]\n",
      "666\t19    \t[0.26666667]\t666\t[1.]\t[0.]\t19    \t[0.44221664]\t[4.79992421]\t666\t[5.37421179]\t[4.5723505] \t19    \t[0.24307324]\n",
      "667\t12    \t[0.16666667]\t667\t[1.]\t[0.]\t12    \t[0.372678]  \t[4.72339149]\t667\t[5.19423389]\t[4.5723505] \t12    \t[0.19438422]\n",
      "668\t19    \t[0.13333333]\t668\t[1.]\t[0.]\t19    \t[0.33993463]\t[4.65012499]\t668\t[5.08385038]\t[4.55740547]\t19    \t[0.13241447]\n",
      "669\t13    \t[0.1]       \t669\t[1.]\t[0.]\t13    \t[0.3]       \t[4.66662396]\t669\t[5.30677128]\t[4.55740547]\t13    \t[0.18238735]\n",
      "670\t21    \t[0.16666667]\t670\t[1.]\t[0.]\t21    \t[0.372678]  \t[4.74178824]\t670\t[5.26866722]\t[4.55740547]\t21    \t[0.21082776]\n",
      "671\t23    \t[0.2]       \t671\t[1.]\t[0.]\t23    \t[0.4]       \t[4.77276184]\t671\t[5.45794678]\t[4.55740547]\t23    \t[0.20873]   \n",
      "672\t21    \t[0.36666667]\t672\t[1.]\t[0.]\t21    \t[0.48189441]\t[4.79456698]\t672\t[5.20089674]\t[4.5723505] \t21    \t[0.18831502]\n",
      "673\t14    \t[0.2]       \t673\t[1.]\t[0.]\t14    \t[0.4]       \t[4.74514949]\t673\t[5.26879644]\t[4.5723505] \t14    \t[0.19764436]\n",
      "674\t17    \t[0.43333333]\t674\t[1.]\t[0.]\t17    \t[0.49553562]\t[4.72375402]\t674\t[5.03990555]\t[4.5723505] \t17    \t[0.11837828]\n",
      "675\t20    \t[0.3]       \t675\t[1.]\t[0.]\t20    \t[0.45825757]\t[4.79494181]\t675\t[5.44811392]\t[4.5723505] \t20    \t[0.24161182]\n",
      "676\t17    \t[0.3]       \t676\t[1.]\t[0.]\t17    \t[0.45825757]\t[4.75954787]\t676\t[5.20286417]\t[4.5723505] \t17    \t[0.18943997]\n"
     ]
    },
    {
     "name": "stdout",
     "output_type": "stream",
     "text": [
      "677\t17    \t[0.16666667]\t677\t[1.]\t[0.]\t17    \t[0.372678]  \t[4.68758101]\t677\t[5.08101511]\t[4.5723505] \t17    \t[0.14915519]\n",
      "678\t21    \t[0.2]       \t678\t[1.]\t[0.]\t21    \t[0.4]       \t[4.71016984]\t678\t[5.15698242]\t[4.5723505] \t21    \t[0.17667636]\n",
      "679\t18    \t[0.16666667]\t679\t[1.]\t[0.]\t18    \t[0.372678]  \t[4.68410266]\t679\t[5.04631567]\t[4.5723505] \t18    \t[0.1380778] \n",
      "680\t20    \t[0.33333333]\t680\t[1.]\t[0.]\t20    \t[0.47140452]\t[4.72620866]\t680\t[5.10044432]\t[4.5723505] \t20    \t[0.17229371]\n",
      "681\t20    \t[0.5]       \t681\t[1.]\t[0.]\t20    \t[0.5]       \t[4.74236986]\t681\t[5.17604399]\t[4.5723505] \t20    \t[0.1880053] \n",
      "682\t18    \t[0.33333333]\t682\t[1.]\t[0.]\t18    \t[0.47140452]\t[4.76718683]\t682\t[5.20424843]\t[4.5723505] \t18    \t[0.19842002]\n",
      "683\t16    \t[0.3]       \t683\t[1.]\t[0.]\t16    \t[0.45825757]\t[4.71852744]\t683\t[5.1798768] \t[4.5723505] \t16    \t[0.17039801]\n",
      "684\t21    \t[0.3]       \t684\t[1.]\t[0.]\t21    \t[0.45825757]\t[4.74038582]\t684\t[5.18424606]\t[4.5723505] \t21    \t[0.18061376]\n",
      "685\t16    \t[0.13333333]\t685\t[1.]\t[0.]\t16    \t[0.33993463]\t[4.73395305]\t685\t[5.19038868]\t[4.5723505] \t16    \t[0.17155944]\n",
      "686\t13    \t[0.16666667]\t686\t[1.]\t[0.]\t13    \t[0.372678]  \t[4.6939432] \t686\t[4.91545868]\t[4.5723505] \t13    \t[0.11603459]\n",
      "687\t22    \t[0.2]       \t687\t[1.]\t[0.]\t22    \t[0.4]       \t[4.80356889]\t687\t[5.46006775]\t[4.5723505] \t22    \t[0.23988065]\n",
      "688\t21    \t[0.06666667]\t688\t[1.]\t[0.]\t21    \t[0.24944383]\t[4.79569945]\t688\t[5.13526106]\t[4.5723505] \t21    \t[0.18942834]\n",
      "689\t17    \t[0.16666667]\t689\t[1.]\t[0.]\t17    \t[0.372678]  \t[4.73007428]\t689\t[5.43691826]\t[4.5723505] \t17    \t[0.22453142]\n",
      "690\t19    \t[0.1]       \t690\t[1.]\t[0.]\t19    \t[0.3]       \t[4.7539386] \t690\t[5.12527323]\t[4.5723505] \t19    \t[0.18785267]\n",
      "691\t16    \t[0.1]       \t691\t[1.]\t[0.]\t16    \t[0.3]       \t[4.76072634]\t691\t[5.27111816]\t[4.5723505] \t16    \t[0.21790936]\n",
      "692\t27    \t[0.3]       \t692\t[1.]\t[0.]\t27    \t[0.45825757]\t[4.83553812]\t692\t[5.3147788] \t[4.5723505] \t27    \t[0.23121215]\n",
      "693\t23    \t[0.33333333]\t693\t[1.]\t[0.]\t23    \t[0.47140452]\t[4.80099541]\t693\t[5.38132334]\t[4.5723505] \t23    \t[0.22546539]\n",
      "694\t16    \t[0.33333333]\t694\t[1.]\t[0.]\t16    \t[0.47140452]\t[4.71832264]\t694\t[5.2022624] \t[4.5723505] \t16    \t[0.18177804]\n",
      "695\t21    \t[0.2]       \t695\t[1.]\t[0.]\t21    \t[0.4]       \t[4.77462087]\t695\t[5.20012283]\t[4.5723505] \t21    \t[0.18005853]\n",
      "696\t15    \t[0.26666667]\t696\t[1.]\t[0.]\t15    \t[0.44221664]\t[4.77360274]\t696\t[5.32192945]\t[4.5723505] \t15    \t[0.24732584]\n",
      "697\t20    \t[0.23333333]\t697\t[1.]\t[0.]\t20    \t[0.42295258]\t[4.77331227]\t697\t[5.21524954]\t[4.5723505] \t20    \t[0.20349463]\n",
      "698\t19    \t[0.36666667]\t698\t[1.]\t[0.]\t19    \t[0.48189441]\t[4.81214992]\t698\t[5.3939395] \t[4.5723505] \t19    \t[0.24700406]\n",
      "699\t14    \t[0.16666667]\t699\t[1.]\t[0.]\t14    \t[0.372678]  \t[4.76925527]\t699\t[5.46026945]\t[4.5723505] \t14    \t[0.2501873] \n",
      "700\t15    \t[0.16666667]\t700\t[1.]\t[0.]\t15    \t[0.372678]  \t[4.73312949]\t700\t[5.12725401]\t[4.5723505] \t15    \t[0.19070523]\n",
      "701\t24    \t[0.3]       \t701\t[1.]\t[0.]\t24    \t[0.45825757]\t[4.81808515]\t701\t[5.20828485]\t[4.5723505] \t24    \t[0.20196668]\n",
      "702\t18    \t[0.46666667]\t702\t[1.]\t[0.]\t18    \t[0.49888765]\t[4.81374278]\t702\t[5.36982632]\t[4.5723505] \t18    \t[0.21169661]\n",
      "703\t18    \t[0.4]       \t703\t[1.]\t[0.]\t18    \t[0.48989795]\t[4.76729857]\t703\t[5.19038868]\t[4.5723505] \t18    \t[0.17076183]\n",
      "704\t24    \t[0.26666667]\t704\t[1.]\t[0.]\t24    \t[0.44221664]\t[4.79664979]\t704\t[5.45208931]\t[4.5723505] \t24    \t[0.20032505]\n",
      "705\t18    \t[0.13333333]\t705\t[1.]\t[0.]\t18    \t[0.33993463]\t[4.77094388]\t705\t[5.17994785]\t[4.5723505] \t18    \t[0.18291978]\n",
      "706\t21    \t[0.33333333]\t706\t[1.]\t[0.]\t21    \t[0.47140452]\t[4.82634466]\t706\t[5.57472944]\t[4.5723505] \t21    \t[0.24251892]\n",
      "707\t19    \t[0.46666667]\t707\t[1.]\t[0.]\t19    \t[0.49888765]\t[4.79579496]\t707\t[5.21027136]\t[4.5723505] \t19    \t[0.1911728] \n",
      "708\t21    \t[0.33333333]\t708\t[1.]\t[0.]\t21    \t[0.47140452]\t[4.8142369] \t708\t[5.20839262]\t[4.5723505] \t21    \t[0.19226134]\n",
      "709\t13    \t[0.4]       \t709\t[1.]\t[0.]\t13    \t[0.48989795]\t[4.77127341]\t709\t[5.20932341]\t[4.5723505] \t13    \t[0.19100906]\n",
      "710\t21    \t[0.2]       \t710\t[1.]\t[0.]\t21    \t[0.4]       \t[4.8300924] \t710\t[5.79458523]\t[4.5723505] \t21    \t[0.26094057]\n",
      "711\t15    \t[0.26666667]\t711\t[1.]\t[0.]\t15    \t[0.44221664]\t[4.76997884]\t711\t[5.18903208]\t[4.5723505] \t15    \t[0.19763142]\n",
      "712\t17    \t[0.33333333]\t712\t[1.]\t[0.]\t17    \t[0.47140452]\t[4.73931764]\t712\t[5.21324539]\t[4.5723505] \t17    \t[0.18764897]\n",
      "713\t14    \t[0.13333333]\t713\t[1.]\t[0.]\t14    \t[0.33993463]\t[4.7572876] \t713\t[5.28686905]\t[4.5723505] \t14    \t[0.21401566]\n",
      "714\t20    \t[0.33333333]\t714\t[1.]\t[0.]\t20    \t[0.47140452]\t[4.73506064]\t714\t[5.04048491]\t[4.5723505] \t20    \t[0.15147596]\n",
      "715\t22    \t[0.26666667]\t715\t[1.]\t[0.]\t22    \t[0.44221664]\t[4.71938491]\t715\t[5.29791737]\t[4.5723505] \t22    \t[0.18193657]\n",
      "716\t22    \t[0.23333333]\t716\t[1.]\t[0.]\t22    \t[0.42295258]\t[4.74932712]\t716\t[5.31701803]\t[4.5723505] \t22    \t[0.21337815]\n",
      "717\t19    \t[0.23333333]\t717\t[1.]\t[0.]\t19    \t[0.42295258]\t[4.73955986]\t717\t[5.13944197]\t[4.5723505] \t19    \t[0.18815378]\n",
      "718\t15    \t[0.13333333]\t718\t[1.]\t[0.]\t15    \t[0.33993463]\t[4.74350386]\t718\t[5.48506927]\t[4.5723505] \t15    \t[0.24728474]\n",
      "719\t20    \t[0.23333333]\t719\t[1.]\t[0.]\t20    \t[0.42295258]\t[4.78154629]\t719\t[5.50610304]\t[4.5723505] \t20    \t[0.24281575]\n",
      "720\t17    \t[0.16666667]\t720\t[1.]\t[0.]\t17    \t[0.372678]  \t[4.68494425]\t720\t[5.15825653]\t[4.5723505] \t17    \t[0.16875945]\n",
      "721\t26    \t[0.23333333]\t721\t[1.]\t[0.]\t26    \t[0.42295258]\t[4.79966768]\t721\t[5.16751957]\t[4.5723505] \t26    \t[0.18368531]\n",
      "722\t15    \t[0.26666667]\t722\t[1.]\t[0.]\t15    \t[0.44221664]\t[4.77237488]\t722\t[5.41581964]\t[4.5723505] \t15    \t[0.2336919] \n",
      "723\t15    \t[0.16666667]\t723\t[1.]\t[0.]\t15    \t[0.372678]  \t[4.69620298]\t723\t[5.22438908]\t[4.5723505] \t15    \t[0.17238564]\n",
      "724\t17    \t[0.26666667]\t724\t[1.]\t[0.]\t17    \t[0.44221664]\t[4.7270737] \t724\t[5.19095755]\t[4.5723505] \t17    \t[0.17503775]\n",
      "725\t20    \t[0.26666667]\t725\t[1.]\t[0.]\t20    \t[0.44221664]\t[4.75982936]\t725\t[5.08629942]\t[4.5723505] \t20    \t[0.16779282]\n",
      "726\t20    \t[0.26666667]\t726\t[1.]\t[0.]\t20    \t[0.44221664]\t[4.77738406]\t726\t[5.17306757]\t[4.5723505] \t20    \t[0.18957018]\n",
      "727\t24    \t[0.46666667]\t727\t[1.]\t[0.]\t24    \t[0.49888765]\t[4.79464083]\t727\t[5.36218452]\t[4.5723505] \t24    \t[0.19957314]\n",
      "728\t20    \t[0.3]       \t728\t[1.]\t[0.]\t20    \t[0.45825757]\t[4.81974028]\t728\t[5.72351265]\t[4.5723505] \t20    \t[0.29249873]\n",
      "729\t14    \t[0.13333333]\t729\t[1.]\t[0.]\t14    \t[0.33993463]\t[4.76584794]\t729\t[5.39680386]\t[4.5723505] \t14    \t[0.27258019]\n",
      "730\t19    \t[0.16666667]\t730\t[1.]\t[0.]\t19    \t[0.372678]  \t[4.71711993]\t730\t[5.02985477]\t[4.5723505] \t19    \t[0.15887158]\n",
      "731\t20    \t[0.16666667]\t731\t[1.]\t[0.]\t20    \t[0.372678]  \t[4.75248976]\t731\t[5.14822197]\t[4.5723505] \t20    \t[0.17964724]\n",
      "732\t21    \t[0.23333333]\t732\t[1.]\t[0.]\t21    \t[0.42295258]\t[4.80516898]\t732\t[5.15561295]\t[4.5723505] \t21    \t[0.19572972]\n",
      "733\t16    \t[0.36666667]\t733\t[1.]\t[0.]\t16    \t[0.48189441]\t[4.78261104]\t733\t[5.387043]  \t[4.5723505] \t16    \t[0.19403087]\n",
      "734\t13    \t[0.33333333]\t734\t[1.]\t[0.]\t13    \t[0.47140452]\t[4.73402478]\t734\t[5.20569038]\t[4.5723505] \t13    \t[0.16938354]\n",
      "735\t14    \t[0.16666667]\t735\t[1.]\t[0.]\t14    \t[0.372678]  \t[4.76454256]\t735\t[5.27984715]\t[4.5723505] \t14    \t[0.21055964]\n",
      "736\t17    \t[0.3]       \t736\t[1.]\t[0.]\t17    \t[0.45825757]\t[4.69190408]\t736\t[5.29835653]\t[4.5723505] \t17    \t[0.18446544]\n",
      "737\t16    \t[0.16666667]\t737\t[1.]\t[0.]\t16    \t[0.372678]  \t[4.70533075]\t737\t[5.27457571]\t[4.5723505] \t16    \t[0.1978177] \n",
      "738\t20    \t[0.1]       \t738\t[1.]\t[0.]\t20    \t[0.3]       \t[4.74203095]\t738\t[5.32415152]\t[4.5723505] \t20    \t[0.20306551]\n",
      "739\t19    \t[0.2]       \t739\t[1.]\t[0.]\t19    \t[0.4]       \t[4.74770028]\t739\t[5.24811029]\t[4.57114887]\t19    \t[0.20523075]\n",
      "740\t12    \t[0.16666667]\t740\t[1.]\t[0.]\t12    \t[0.372678]  \t[4.66016645]\t740\t[5.06966877]\t[4.57114887]\t12    \t[0.15345105]\n",
      "741\t14    \t[0.33333333]\t741\t[1.]\t[0.]\t14    \t[0.47140452]\t[4.69135677]\t741\t[5.10573912]\t[4.57114887]\t14    \t[0.17708494]\n",
      "742\t21    \t[0.56666667]\t742\t[1.]\t[0.]\t21    \t[0.49553562]\t[4.75832602]\t742\t[5.29010105]\t[4.57114887]\t21    \t[0.19457788]\n",
      "743\t19    \t[0.56666667]\t743\t[1.]\t[0.]\t19    \t[0.49553562]\t[4.75936615]\t743\t[5.21260309]\t[4.57114887]\t19    \t[0.20222473]\n",
      "744\t21    \t[0.73333333]\t744\t[1.]\t[0.]\t21    \t[0.44221664]\t[4.7515433] \t744\t[5.47454596]\t[4.57114887]\t21    \t[0.23883669]\n"
     ]
    },
    {
     "name": "stdout",
     "output_type": "stream",
     "text": [
      "745\t16    \t[0.73333333]\t745\t[1.]\t[0.]\t16    \t[0.44221664]\t[4.77413411]\t745\t[5.25690556]\t[4.57114887]\t16    \t[0.21164266]\n",
      "746\t20    \t[0.83333333]\t746\t[1.]\t[0.]\t20    \t[0.372678]  \t[4.78591633]\t746\t[5.32292509]\t[4.57114887]\t20    \t[0.2478709] \n",
      "747\t16    \t[0.76666667]\t747\t[1.]\t[0.]\t16    \t[0.42295258]\t[4.78509324]\t747\t[5.54714775]\t[4.57114887]\t16    \t[0.22791721]\n",
      "748\t21    \t[0.83333333]\t748\t[1.]\t[0.]\t21    \t[0.372678]  \t[4.78346388]\t748\t[5.18364191]\t[4.57114887]\t21    \t[0.18847907]\n",
      "749\t14    \t[0.7]       \t749\t[1.]\t[0.]\t14    \t[0.45825757]\t[4.79303886]\t749\t[5.38444376]\t[4.57114887]\t14    \t[0.24463319]\n",
      "750\t20    \t[0.8]       \t750\t[1.]\t[0.]\t20    \t[0.4]       \t[4.82655376]\t750\t[5.3150444] \t[4.57114887]\t20    \t[0.2087632] \n",
      "751\t20    \t[0.8]       \t751\t[1.]\t[0.]\t20    \t[0.4]       \t[4.85703479]\t751\t[5.54592419]\t[4.57114887]\t20    \t[0.24195036]\n",
      "752\t16    \t[0.76666667]\t752\t[1.]\t[0.]\t16    \t[0.42295258]\t[4.83716351]\t752\t[5.31058264]\t[4.57114887]\t16    \t[0.19296571]\n",
      "753\t17    \t[0.63333333]\t753\t[1.]\t[0.]\t17    \t[0.48189441]\t[4.77266156]\t753\t[5.24948978]\t[4.57114887]\t17    \t[0.14597574]\n",
      "754\t18    \t[0.8]       \t754\t[1.]\t[0.]\t18    \t[0.4]       \t[4.85816247]\t754\t[5.24414158]\t[4.57114887]\t18    \t[0.1777471] \n",
      "755\t18    \t[0.83333333]\t755\t[1.]\t[0.]\t18    \t[0.372678]  \t[4.82760803]\t755\t[5.28853416]\t[4.57114887]\t18    \t[0.17891309]\n",
      "756\t15    \t[0.96666667]\t756\t[1.]\t[0.]\t15    \t[0.17950549]\t[4.79278439]\t756\t[5.30917072]\t[4.57114887]\t15    \t[0.20566797]\n",
      "757\t18    \t[0.83333333]\t757\t[1.]\t[0.]\t18    \t[0.372678]  \t[4.78149176]\t757\t[5.28284407]\t[4.57114887]\t18    \t[0.17243085]\n",
      "758\t21    \t[0.76666667]\t758\t[1.]\t[0.]\t21    \t[0.42295258]\t[4.84195429]\t758\t[5.53119373]\t[4.57114887]\t21    \t[0.22700034]\n",
      "759\t16    \t[0.83333333]\t759\t[1.]\t[0.]\t16    \t[0.372678]  \t[4.79212821]\t759\t[5.29206419]\t[4.57114887]\t16    \t[0.20175284]\n",
      "760\t17    \t[0.73333333]\t760\t[1.]\t[0.]\t17    \t[0.44221664]\t[4.82199651]\t760\t[5.32457733]\t[4.57114887]\t17    \t[0.21826632]\n",
      "761\t20    \t[0.63333333]\t761\t[1.]\t[0.]\t20    \t[0.48189441]\t[4.82649741]\t761\t[5.61108112]\t[4.57114887]\t20    \t[0.24444822]\n",
      "762\t17    \t[0.8]       \t762\t[1.]\t[0.]\t17    \t[0.4]       \t[4.7821335] \t762\t[5.18821573]\t[4.57114887]\t17    \t[0.17979946]\n",
      "763\t12    \t[0.76666667]\t763\t[1.]\t[0.]\t12    \t[0.42295258]\t[4.76792928]\t763\t[5.15403986]\t[4.57114887]\t12    \t[0.18377499]\n",
      "764\t17    \t[0.83333333]\t764\t[1.]\t[0.]\t17    \t[0.372678]  \t[4.72298819]\t764\t[5.07901001]\t[4.57114887]\t17    \t[0.15995804]\n",
      "765\t19    \t[0.73333333]\t765\t[1.]\t[0.]\t19    \t[0.44221664]\t[4.80617388]\t765\t[5.28481627]\t[4.57114887]\t19    \t[0.20068925]\n",
      "766\t17    \t[0.76666667]\t766\t[1.]\t[0.]\t17    \t[0.42295258]\t[4.77359525]\t766\t[5.37220907]\t[4.57114887]\t17    \t[0.23273605]\n",
      "767\t17    \t[0.86666667]\t767\t[1.]\t[0.]\t17    \t[0.33993463]\t[4.72598019]\t767\t[5.28003073]\t[4.57114887]\t17    \t[0.19219771]\n",
      "768\t12    \t[0.83333333]\t768\t[1.]\t[0.]\t12    \t[0.372678]  \t[4.69055212]\t768\t[4.9897747] \t[4.57114887]\t12    \t[0.14306463]\n",
      "769\t14    \t[0.93333333]\t769\t[1.]\t[0.]\t14    \t[0.24944383]\t[4.7244947] \t769\t[5.14422703]\t[4.57114887]\t14    \t[0.1709066] \n",
      "770\t18    \t[0.8]       \t770\t[1.]\t[0.]\t18    \t[0.4]       \t[4.78063844]\t770\t[5.20282125]\t[4.57114887]\t18    \t[0.20562236]\n",
      "771\t16    \t[0.8]       \t771\t[1.]\t[0.]\t16    \t[0.4]       \t[4.74177848]\t771\t[5.05794096]\t[4.57114887]\t16    \t[0.16728634]\n",
      "772\t21    \t[0.66666667]\t772\t[1.]\t[0.]\t21    \t[0.47140452]\t[4.82576241]\t772\t[5.35999012]\t[4.57114887]\t21    \t[0.25536128]\n",
      "773\t14    \t[0.76666667]\t773\t[1.]\t[0.]\t14    \t[0.42295258]\t[4.73589252]\t773\t[5.29626036]\t[4.57114887]\t14    \t[0.20701816]\n",
      "774\t22    \t[0.7]       \t774\t[1.]\t[0.]\t22    \t[0.45825757]\t[4.73269604]\t774\t[5.13327789]\t[4.57114887]\t22    \t[0.1871501] \n",
      "775\t20    \t[0.83333333]\t775\t[1.]\t[0.]\t20    \t[0.372678]  \t[4.8145559] \t775\t[5.33110523]\t[4.57114887]\t20    \t[0.25025461]\n",
      "776\t22    \t[0.86666667]\t776\t[1.]\t[0.]\t22    \t[0.33993463]\t[4.86170891]\t776\t[5.2808814] \t[4.57114887]\t22    \t[0.2582459] \n",
      "777\t11    \t[0.96666667]\t777\t[1.]\t[0.]\t11    \t[0.17950549]\t[4.74906219]\t777\t[5.34117222]\t[4.57114887]\t11    \t[0.1986039] \n",
      "778\t19    \t[0.73333333]\t778\t[1.]\t[0.]\t19    \t[0.44221664]\t[4.81436615]\t778\t[5.74566078]\t[4.57114887]\t19    \t[0.29959853]\n",
      "779\t18    \t[0.83333333]\t779\t[1.]\t[0.]\t18    \t[0.372678]  \t[4.74626977]\t779\t[5.54070425]\t[4.57114887]\t18    \t[0.23299697]\n",
      "780\t16    \t[0.8]       \t780\t[1.]\t[0.]\t16    \t[0.4]       \t[4.72902331]\t780\t[5.11788368]\t[4.57114887]\t16    \t[0.19608944]\n",
      "781\t19    \t[0.8]       \t781\t[1.]\t[0.]\t19    \t[0.4]       \t[4.7444461] \t781\t[5.54880047]\t[4.57114887]\t19    \t[0.22226358]\n",
      "782\t16    \t[0.83333333]\t782\t[1.]\t[0.]\t16    \t[0.372678]  \t[4.7471417] \t782\t[5.18730021]\t[4.57114887]\t16    \t[0.19718731]\n",
      "783\t17    \t[0.83333333]\t783\t[1.]\t[0.]\t17    \t[0.372678]  \t[4.70480811]\t783\t[5.12768412]\t[4.57114887]\t17    \t[0.18804707]\n",
      "784\t23    \t[0.8]       \t784\t[1.]\t[0.]\t23    \t[0.4]       \t[4.75078624]\t784\t[5.29262733]\t[4.57114887]\t23    \t[0.21263747]\n",
      "785\t15    \t[0.86666667]\t785\t[1.]\t[0.]\t15    \t[0.33993463]\t[4.77275483]\t785\t[5.2840457] \t[4.57114887]\t15    \t[0.24229287]\n",
      "786\t18    \t[0.86666667]\t786\t[1.]\t[0.]\t18    \t[0.33993463]\t[4.74584524]\t786\t[5.12598896]\t[4.57114887]\t18    \t[0.17473162]\n",
      "787\t16    \t[0.83333333]\t787\t[1.]\t[0.]\t16    \t[0.372678]  \t[4.77912652]\t787\t[5.45011854]\t[4.57114887]\t16    \t[0.23085611]\n",
      "788\t20    \t[0.83333333]\t788\t[1.]\t[0.]\t20    \t[0.372678]  \t[4.75298681]\t788\t[5.30067778]\t[4.57114887]\t20    \t[0.1904485] \n",
      "789\t16    \t[0.76666667]\t789\t[1.]\t[0.]\t16    \t[0.42295258]\t[4.76626822]\t789\t[5.50494671]\t[4.57114887]\t16    \t[0.20036886]\n",
      "790\t19    \t[0.83333333]\t790\t[1.]\t[0.]\t19    \t[0.372678]  \t[4.77283327]\t790\t[5.60707045]\t[4.57114887]\t19    \t[0.24203829]\n",
      "791\t16    \t[0.86666667]\t791\t[1.]\t[0.]\t16    \t[0.33993463]\t[4.72577771]\t791\t[5.19704533]\t[4.57114887]\t16    \t[0.17553514]\n",
      "792\t22    \t[0.9]       \t792\t[1.]\t[0.]\t22    \t[0.3]       \t[4.77107755]\t792\t[5.44122028]\t[4.57114887]\t22    \t[0.21537291]\n",
      "793\t15    \t[0.86666667]\t793\t[1.]\t[0.]\t15    \t[0.33993463]\t[4.77516621]\t793\t[5.36408758]\t[4.57114887]\t15    \t[0.2337057] \n",
      "794\t14    \t[1.]        \t794\t[1.]\t[1.]\t14    \t[0.]        \t[4.67969724]\t794\t[5.20681095]\t[4.57114887]\t14    \t[0.17367508]\n",
      "795\t21    \t[0.86666667]\t795\t[1.]\t[0.]\t21    \t[0.33993463]\t[4.78752049]\t795\t[5.10527134]\t[4.57114887]\t21    \t[0.20009393]\n",
      "796\t20    \t[0.73333333]\t796\t[1.]\t[0.]\t20    \t[0.44221664]\t[4.73441631]\t796\t[5.21004057]\t[4.57114887]\t20    \t[0.16903882]\n",
      "797\t21    \t[0.8]       \t797\t[1.]\t[0.]\t21    \t[0.4]       \t[4.83183632]\t797\t[5.23644066]\t[4.57114887]\t21    \t[0.23423327]\n",
      "798\t17    \t[0.73333333]\t798\t[1.]\t[0.]\t17    \t[0.44221664]\t[4.7358634] \t798\t[5.35568762]\t[4.57114887]\t17    \t[0.20070428]\n",
      "799\t22    \t[0.9]       \t799\t[1.]\t[0.]\t22    \t[0.3]       \t[4.78558841]\t799\t[5.58797693]\t[4.57114887]\t22    \t[0.28081759]\n",
      "800\t16    \t[0.86666667]\t800\t[1.]\t[0.]\t16    \t[0.33993463]\t[4.7572001] \t800\t[5.76489019]\t[4.57114887]\t16    \t[0.27593481]\n",
      "801\t16    \t[0.83333333]\t801\t[1.]\t[0.]\t16    \t[0.372678]  \t[4.73339369]\t801\t[5.25476933]\t[4.57114887]\t16    \t[0.1944963] \n",
      "802\t19    \t[0.8]       \t802\t[1.]\t[0.]\t19    \t[0.4]       \t[4.74913274]\t802\t[5.23746967]\t[4.57114887]\t19    \t[0.19301249]\n",
      "803\t17    \t[0.66666667]\t803\t[1.]\t[0.]\t17    \t[0.47140452]\t[4.77291989]\t803\t[5.65730095]\t[4.57114887]\t17    \t[0.25201549]\n",
      "804\t18    \t[0.83333333]\t804\t[1.]\t[0.]\t18    \t[0.372678]  \t[4.79541604]\t804\t[5.32203102]\t[4.57114887]\t18    \t[0.23101111]\n",
      "805\t18    \t[0.9]       \t805\t[1.]\t[0.]\t18    \t[0.3]       \t[4.71476669]\t805\t[5.30799198]\t[4.57114887]\t18    \t[0.18733245]\n",
      "806\t16    \t[0.83333333]\t806\t[1.]\t[0.]\t16    \t[0.372678]  \t[4.66758601]\t806\t[5.04036474]\t[4.57114887]\t16    \t[0.12586321]\n",
      "807\t20    \t[0.83333333]\t807\t[1.]\t[0.]\t20    \t[0.372678]  \t[4.74262619]\t807\t[5.18000555]\t[4.57114887]\t20    \t[0.17530544]\n",
      "808\t19    \t[0.83333333]\t808\t[1.]\t[0.]\t19    \t[0.372678]  \t[4.76060524]\t808\t[5.0991478] \t[4.57114887]\t19    \t[0.16921969]\n",
      "809\t17    \t[0.96666667]\t809\t[1.]\t[0.]\t17    \t[0.17950549]\t[4.77971667]\t809\t[5.68486547]\t[4.57114887]\t17    \t[0.25017444]\n",
      "810\t15    \t[0.86666667]\t810\t[1.]\t[0.]\t15    \t[0.33993463]\t[4.72773684]\t810\t[5.23467731]\t[4.57114887]\t15    \t[0.19440178]\n",
      "811\t20    \t[0.76666667]\t811\t[1.]\t[0.]\t20    \t[0.42295258]\t[4.8026453] \t811\t[5.25261688]\t[4.57114887]\t20    \t[0.21776888]\n",
      "812\t20    \t[0.76666667]\t812\t[1.]\t[0.]\t20    \t[0.42295258]\t[4.79749532]\t812\t[5.22849846]\t[4.57114887]\t20    \t[0.1970823] \n"
     ]
    },
    {
     "name": "stdout",
     "output_type": "stream",
     "text": [
      "813\t16    \t[0.8]       \t813\t[1.]\t[0.]\t16    \t[0.4]       \t[4.75253085]\t813\t[5.24564981]\t[4.57114887]\t16    \t[0.17547621]\n",
      "814\t18    \t[0.76666667]\t814\t[1.]\t[0.]\t18    \t[0.42295258]\t[4.73206868]\t814\t[5.2730279] \t[4.5605402] \t18    \t[0.18213831]\n",
      "815\t16    \t[0.8]       \t815\t[1.]\t[0.]\t16    \t[0.4]       \t[4.74435201]\t815\t[5.1528964] \t[4.5605402] \t16    \t[0.17975551]\n",
      "816\t24    \t[0.83333333]\t816\t[1.]\t[0.]\t24    \t[0.372678]  \t[4.75580896]\t816\t[5.12617588]\t[4.5605402] \t24    \t[0.16586829]\n",
      "817\t15    \t[0.9]       \t817\t[1.]\t[0.]\t15    \t[0.3]       \t[4.75689314]\t817\t[5.07704926]\t[4.5605402] \t15    \t[0.17886889]\n",
      "818\t16    \t[0.93333333]\t818\t[1.]\t[0.]\t16    \t[0.24944383]\t[4.74278529]\t818\t[5.28039885]\t[4.5605402] \t16    \t[0.21158496]\n",
      "819\t18    \t[0.9]       \t819\t[1.]\t[0.]\t18    \t[0.3]       \t[4.74407323]\t819\t[5.36733484]\t[4.5605402] \t18    \t[0.19196701]\n",
      "820\t19    \t[0.8]       \t820\t[1.]\t[0.]\t19    \t[0.4]       \t[4.73027205]\t820\t[4.99267769]\t[4.5605402] \t19    \t[0.13143266]\n",
      "821\t15    \t[0.86666667]\t821\t[1.]\t[0.]\t15    \t[0.33993463]\t[4.71142918]\t821\t[5.11728668]\t[4.5605402] \t15    \t[0.1786951] \n",
      "822\t25    \t[0.86666667]\t822\t[1.]\t[0.]\t25    \t[0.33993463]\t[4.83952346]\t822\t[5.16621208]\t[4.5605402] \t25    \t[0.18126262]\n",
      "823\t24    \t[0.73333333]\t823\t[1.]\t[0.]\t24    \t[0.44221664]\t[4.91495172]\t823\t[5.39718723]\t[4.5605402] \t24    \t[0.22929794]\n",
      "824\t23    \t[0.8]       \t824\t[1.]\t[0.]\t23    \t[0.4]       \t[4.93651845]\t824\t[5.55094147]\t[4.5605402] \t23    \t[0.23483097]\n",
      "825\t16    \t[0.86666667]\t825\t[1.]\t[0.]\t16    \t[0.33993463]\t[4.82714068]\t825\t[5.33165836]\t[4.5605402] \t16    \t[0.22409326]\n",
      "826\t16    \t[0.8]       \t826\t[1.]\t[0.]\t16    \t[0.4]       \t[4.70223632]\t826\t[5.21675062]\t[4.5605402] \t16    \t[0.16637035]\n",
      "827\t16    \t[0.96666667]\t827\t[1.]\t[0.]\t16    \t[0.17950549]\t[4.68456737]\t827\t[5.21391106]\t[4.5605402] \t16    \t[0.18013834]\n",
      "828\t15    \t[0.93333333]\t828\t[1.]\t[0.]\t15    \t[0.24944383]\t[4.73698022]\t828\t[5.32781315]\t[4.5605402] \t15    \t[0.22114511]\n",
      "829\t24    \t[1.]        \t829\t[1.]\t[1.]\t24    \t[0.]        \t[4.72903894]\t829\t[5.14831257]\t[4.5605402] \t24    \t[0.18724345]\n",
      "830\t17    \t[0.9]       \t830\t[1.]\t[0.]\t17    \t[0.3]       \t[4.76582747]\t830\t[5.2342186] \t[4.5605402] \t17    \t[0.21174222]\n",
      "831\t20    \t[0.9]       \t831\t[1.]\t[0.]\t20    \t[0.3]       \t[4.78364971]\t831\t[5.26853132]\t[4.5605402] \t20    \t[0.23297603]\n",
      "832\t18    \t[1.]        \t832\t[1.]\t[1.]\t18    \t[0.]        \t[4.75423222]\t832\t[5.19337559]\t[4.5605402] \t18    \t[0.19969205]\n",
      "833\t16    \t[0.96666667]\t833\t[1.]\t[0.]\t16    \t[0.17950549]\t[4.76109122]\t833\t[5.34903431]\t[4.5605402] \t16    \t[0.23390142]\n",
      "834\t21    \t[1.]        \t834\t[1.]\t[1.]\t21    \t[0.]        \t[4.79366113]\t834\t[5.29260397]\t[4.5605402] \t21    \t[0.23095992]\n",
      "835\t17    \t[1.]        \t835\t[1.]\t[1.]\t17    \t[0.]        \t[4.74097446]\t835\t[5.17457151]\t[4.5605402] \t17    \t[0.19586027]\n",
      "836\t17    \t[1.]        \t836\t[1.]\t[1.]\t17    \t[0.]        \t[4.73942323]\t836\t[5.26957178]\t[4.5605402] \t17    \t[0.23783449]\n",
      "837\t19    \t[0.9]       \t837\t[1.]\t[0.]\t19    \t[0.3]       \t[4.75521407]\t837\t[5.22593403]\t[4.5605402] \t19    \t[0.19575272]\n",
      "838\t23    \t[0.86666667]\t838\t[1.]\t[0.]\t23    \t[0.33993463]\t[4.78510919]\t838\t[5.44303608]\t[4.55273962]\t23    \t[0.21663935]\n",
      "839\t20    \t[0.96666667]\t839\t[1.]\t[0.]\t20    \t[0.17950549]\t[4.75604776]\t839\t[5.1347599] \t[4.55273962]\t20    \t[0.19809828]\n",
      "840\t18    \t[0.93333333]\t840\t[1.]\t[0.]\t18    \t[0.24944383]\t[4.77222695]\t840\t[5.27968454]\t[4.55273962]\t18    \t[0.23413602]\n",
      "841\t23    \t[0.76666667]\t841\t[1.]\t[0.]\t23    \t[0.42295258]\t[4.93836497]\t841\t[5.34358168]\t[4.55273962]\t23    \t[0.24780706]\n",
      "842\t23    \t[0.96666667]\t842\t[1.]\t[0.]\t23    \t[0.17950549]\t[4.90873424]\t842\t[5.51460886]\t[4.55273962]\t23    \t[0.29615115]\n",
      "843\t20    \t[0.9]       \t843\t[1.]\t[0.]\t20    \t[0.3]       \t[4.85045544]\t843\t[5.41554976]\t[4.55273962]\t20    \t[0.22004207]\n",
      "844\t12    \t[0.93333333]\t844\t[1.]\t[0.]\t12    \t[0.24944383]\t[4.74339279]\t844\t[5.30673552]\t[4.55273962]\t12    \t[0.22006378]\n",
      "845\t22    \t[0.9]       \t845\t[1.]\t[0.]\t22    \t[0.3]       \t[4.73713918]\t845\t[5.15202951]\t[4.55273962]\t22    \t[0.1881067] \n",
      "846\t19    \t[0.93333333]\t846\t[1.]\t[0.]\t19    \t[0.24944383]\t[4.69693346]\t846\t[5.16520023]\t[4.55273962]\t19    \t[0.1870655] \n",
      "847\t21    \t[0.96666667]\t847\t[1.]\t[0.]\t21    \t[0.17950549]\t[4.77998802]\t847\t[5.30715132]\t[4.55273962]\t21    \t[0.22995201]\n",
      "848\t22    \t[0.93333333]\t848\t[1.]\t[0.]\t22    \t[0.24944383]\t[4.7800573] \t848\t[5.33340788]\t[4.55273962]\t22    \t[0.24196603]\n",
      "849\t21    \t[0.9]       \t849\t[1.]\t[0.]\t21    \t[0.3]       \t[4.73527811]\t849\t[5.1540637] \t[4.55273962]\t21    \t[0.20509592]\n",
      "850\t20    \t[1.]        \t850\t[1.]\t[1.]\t20    \t[0.]        \t[4.7089644] \t850\t[5.19139671]\t[4.55273962]\t20    \t[0.18822715]\n",
      "851\t17    \t[0.9]       \t851\t[1.]\t[0.]\t17    \t[0.3]       \t[4.71708555]\t851\t[5.35468769]\t[4.55273962]\t17    \t[0.21910686]\n",
      "852\t20    \t[0.93333333]\t852\t[1.]\t[0.]\t20    \t[0.24944383]\t[4.75879866]\t852\t[5.17467499]\t[4.55273962]\t20    \t[0.19854659]\n",
      "853\t14    \t[0.86666667]\t853\t[1.]\t[0.]\t14    \t[0.33993463]\t[4.72922246]\t853\t[5.24045134]\t[4.55273962]\t14    \t[0.1958783] \n",
      "854\t12    \t[1.]        \t854\t[1.]\t[1.]\t12    \t[0.]        \t[4.66729147]\t854\t[5.33040428]\t[4.55273962]\t12    \t[0.18533673]\n",
      "855\t19    \t[1.]        \t855\t[1.]\t[1.]\t19    \t[0.]        \t[4.71747478]\t855\t[5.11402464]\t[4.55273962]\t19    \t[0.1804296] \n",
      "856\t14    \t[1.]        \t856\t[1.]\t[1.]\t14    \t[0.]        \t[4.71901825]\t856\t[5.23963928]\t[4.55273962]\t14    \t[0.18400182]\n",
      "857\t21    \t[0.8]       \t857\t[1.]\t[0.]\t21    \t[0.4]       \t[4.80249136]\t857\t[5.27522516]\t[4.55273962]\t21    \t[0.21734379]\n",
      "858\t19    \t[0.83333333]\t858\t[1.]\t[0.]\t19    \t[0.372678]  \t[4.74522448]\t858\t[5.41794729]\t[4.55273962]\t19    \t[0.24234248]\n",
      "859\t19    \t[0.76666667]\t859\t[1.]\t[0.]\t19    \t[0.42295258]\t[4.71136932]\t859\t[5.20435667]\t[4.55273962]\t19    \t[0.1926981] \n",
      "860\t14    \t[0.93333333]\t860\t[1.]\t[0.]\t14    \t[0.24944383]\t[4.75234391]\t860\t[5.18607664]\t[4.55273962]\t14    \t[0.23782797]\n",
      "861\t15    \t[1.]        \t861\t[1.]\t[1.]\t15    \t[0.]        \t[4.67038275]\t861\t[5.22113991]\t[4.55273962]\t15    \t[0.15693044]\n",
      "862\t17    \t[0.9]       \t862\t[1.]\t[0.]\t17    \t[0.3]       \t[4.8126691] \t862\t[5.31865454]\t[4.55273962]\t17    \t[0.22664503]\n",
      "863\t18    \t[0.96666667]\t863\t[1.]\t[0.]\t18    \t[0.17950549]\t[4.77076632]\t863\t[5.12180328]\t[4.55273962]\t18    \t[0.20061717]\n",
      "864\t20    \t[1.]        \t864\t[1.]\t[1.]\t20    \t[0.]        \t[4.7726095] \t864\t[5.37265968]\t[4.54683781]\t20    \t[0.21041393]\n",
      "865\t20    \t[0.96666667]\t865\t[1.]\t[0.]\t20    \t[0.17950549]\t[4.7727338] \t865\t[5.27355146]\t[4.54683781]\t20    \t[0.19712367]\n",
      "866\t25    \t[0.93333333]\t866\t[1.]\t[0.]\t25    \t[0.24944383]\t[4.83298693]\t866\t[5.40527058]\t[4.55273962]\t25    \t[0.25908148]\n",
      "867\t14    \t[0.86666667]\t867\t[1.]\t[0.]\t14    \t[0.33993463]\t[4.77583022]\t867\t[5.31020832]\t[4.55273962]\t14    \t[0.2110632] \n",
      "868\t18    \t[0.93333333]\t868\t[1.]\t[0.]\t18    \t[0.24944383]\t[4.8146433] \t868\t[5.34088516]\t[4.55273962]\t18    \t[0.23300584]\n",
      "869\t18    \t[0.9]       \t869\t[1.]\t[0.]\t18    \t[0.3]       \t[4.85292775]\t869\t[5.26564646]\t[4.55273962]\t18    \t[0.25316687]\n",
      "870\t15    \t[0.93333333]\t870\t[1.]\t[0.]\t15    \t[0.24944383]\t[4.8187048] \t870\t[5.65015173]\t[4.55273962]\t15    \t[0.28113208]\n",
      "871\t18    \t[0.86666667]\t871\t[1.]\t[0.]\t18    \t[0.33993463]\t[4.79697347]\t871\t[5.30289459]\t[4.55273962]\t18    \t[0.21976656]\n",
      "872\t20    \t[0.86666667]\t872\t[1.]\t[0.]\t20    \t[0.33993463]\t[4.82709586]\t872\t[5.41720867]\t[4.55273962]\t20    \t[0.21562642]\n",
      "873\t18    \t[1.]        \t873\t[1.]\t[1.]\t18    \t[0.]        \t[4.80467623]\t873\t[5.60047436]\t[4.55273962]\t18    \t[0.2312626] \n",
      "874\t18    \t[0.86666667]\t874\t[1.]\t[0.]\t18    \t[0.33993463]\t[4.81771522]\t874\t[5.31803465]\t[4.55273962]\t18    \t[0.22757244]\n",
      "875\t19    \t[0.86666667]\t875\t[1.]\t[0.]\t19    \t[0.33993463]\t[4.85807123]\t875\t[5.31210709]\t[4.55273962]\t19    \t[0.2226042] \n",
      "876\t19    \t[0.96666667]\t876\t[1.]\t[0.]\t19    \t[0.17950549]\t[4.76237578]\t876\t[5.207654]  \t[4.55273962]\t19    \t[0.19747226]\n",
      "877\t20    \t[1.]        \t877\t[1.]\t[1.]\t20    \t[0.]        \t[4.79474349]\t877\t[5.55482721]\t[4.55273962]\t20    \t[0.26157624]\n",
      "878\t21    \t[0.9]       \t878\t[1.]\t[0.]\t21    \t[0.3]       \t[4.82655266]\t878\t[5.32018757]\t[4.55273962]\t21    \t[0.23932121]\n",
      "879\t23    \t[0.8]       \t879\t[1.]\t[0.]\t23    \t[0.4]       \t[4.81276291]\t879\t[5.58862829]\t[4.55273962]\t23    \t[0.25772498]\n",
      "880\t17    \t[0.86666667]\t880\t[1.]\t[0.]\t17    \t[0.33993463]\t[4.75916176]\t880\t[5.16626835]\t[4.55273962]\t17    \t[0.20728306]\n"
     ]
    },
    {
     "name": "stdout",
     "output_type": "stream",
     "text": [
      "881\t21    \t[0.86666667]\t881\t[1.]\t[0.]\t21    \t[0.33993463]\t[4.7608542] \t881\t[5.4301281] \t[4.55273962]\t21    \t[0.21895728]\n",
      "882\t19    \t[0.9]       \t882\t[1.]\t[0.]\t19    \t[0.3]       \t[4.76592175]\t882\t[5.32823181]\t[4.55273962]\t19    \t[0.2084038] \n",
      "883\t14    \t[0.9]       \t883\t[1.]\t[0.]\t14    \t[0.3]       \t[4.77277946]\t883\t[5.34551048]\t[4.55273962]\t14    \t[0.23507525]\n",
      "884\t23    \t[0.86666667]\t884\t[1.]\t[0.]\t23    \t[0.33993463]\t[4.78293308]\t884\t[5.55184841]\t[4.55273962]\t23    \t[0.28816521]\n",
      "885\t18    \t[0.9]       \t885\t[1.]\t[0.]\t18    \t[0.3]       \t[4.75651482]\t885\t[5.2192049] \t[4.55273962]\t18    \t[0.19464671]\n",
      "886\t19    \t[0.93333333]\t886\t[1.]\t[0.]\t19    \t[0.24944383]\t[4.69439324]\t886\t[5.18604279]\t[4.55273962]\t19    \t[0.17791426]\n",
      "887\t20    \t[0.96666667]\t887\t[1.]\t[0.]\t20    \t[0.17950549]\t[4.71947643]\t887\t[5.33286858]\t[4.55273962]\t20    \t[0.20319675]\n",
      "888\t17    \t[0.93333333]\t888\t[1.]\t[0.]\t17    \t[0.24944383]\t[4.69810985]\t888\t[5.05856514]\t[4.55273962]\t17    \t[0.15759726]\n",
      "889\t20    \t[0.93333333]\t889\t[1.]\t[0.]\t20    \t[0.24944383]\t[4.74693351]\t889\t[5.2755723] \t[4.55273962]\t20    \t[0.21348376]\n",
      "890\t15    \t[0.9]       \t890\t[1.]\t[0.]\t15    \t[0.3]       \t[4.76231265]\t890\t[5.54607677]\t[4.55273962]\t15    \t[0.2674395] \n",
      "891\t18    \t[0.9]       \t891\t[1.]\t[0.]\t18    \t[0.3]       \t[4.75877121]\t891\t[5.15245056]\t[4.55273962]\t18    \t[0.21440223]\n",
      "892\t17    \t[0.8]       \t892\t[1.]\t[0.]\t17    \t[0.4]       \t[4.73308792]\t892\t[5.32498407]\t[4.55273962]\t17    \t[0.21349185]\n",
      "893\t16    \t[0.9]       \t893\t[1.]\t[0.]\t16    \t[0.3]       \t[4.7753956] \t893\t[5.252985]  \t[4.55273962]\t16    \t[0.22937245]\n",
      "894\t14    \t[0.86666667]\t894\t[1.]\t[0.]\t14    \t[0.33993463]\t[4.75325642]\t894\t[5.38369179]\t[4.55273962]\t14    \t[0.23532641]\n",
      "895\t22    \t[1.]        \t895\t[1.]\t[1.]\t22    \t[0.]        \t[4.7703671] \t895\t[5.41733932]\t[4.54695082]\t22    \t[0.25269381]\n",
      "896\t18    \t[0.9]       \t896\t[1.]\t[0.]\t18    \t[0.3]       \t[4.76093527]\t896\t[5.2108264] \t[4.55273962]\t18    \t[0.22293184]\n",
      "897\t15    \t[0.9]       \t897\t[1.]\t[0.]\t15    \t[0.3]       \t[4.71113304]\t897\t[5.26368666]\t[4.55273962]\t15    \t[0.21464784]\n",
      "898\t19    \t[0.86666667]\t898\t[1.]\t[0.]\t19    \t[0.33993463]\t[4.75788482]\t898\t[5.18557453]\t[4.55273962]\t19    \t[0.24019449]\n",
      "899\t14    \t[0.9]       \t899\t[1.]\t[0.]\t14    \t[0.3]       \t[4.70447901]\t899\t[5.39365149]\t[4.55243921]\t14    \t[0.25407767]\n",
      "900\t16    \t[0.96666667]\t900\t[1.]\t[0.]\t16    \t[0.17950549]\t[4.66156653]\t900\t[5.27395487]\t[4.55243921]\t16    \t[0.18593878]\n",
      "901\t23    \t[1.]        \t901\t[1.]\t[1.]\t23    \t[0.]        \t[4.70079056]\t901\t[5.08971882]\t[4.55243921]\t23    \t[0.16531114]\n",
      "902\t22    \t[1.]        \t902\t[1.]\t[1.]\t22    \t[0.]        \t[4.72993827]\t902\t[5.36259842]\t[4.55243921]\t22    \t[0.19387323]\n",
      "903\t20    \t[0.86666667]\t903\t[1.]\t[0.]\t20    \t[0.33993463]\t[4.82535702]\t903\t[5.3658886] \t[4.55243921]\t20    \t[0.25328206]\n",
      "904\t14    \t[0.93333333]\t904\t[1.]\t[0.]\t14    \t[0.24944383]\t[4.77689757]\t904\t[5.29655647]\t[4.55243921]\t14    \t[0.22960191]\n",
      "905\t23    \t[0.86666667]\t905\t[1.]\t[0.]\t23    \t[0.33993463]\t[4.81998895]\t905\t[5.21961308]\t[4.55243921]\t23    \t[0.21767707]\n",
      "906\t17    \t[0.93333333]\t906\t[1.]\t[0.]\t17    \t[0.24944383]\t[4.82565214]\t906\t[5.48981094]\t[4.55243921]\t17    \t[0.26675027]\n",
      "907\t17    \t[0.93333333]\t907\t[1.]\t[0.]\t17    \t[0.24944383]\t[4.73051346]\t907\t[5.28748941]\t[4.55243921]\t17    \t[0.19748643]\n",
      "908\t23    \t[1.]        \t908\t[1.]\t[1.]\t23    \t[0.]        \t[4.78497532]\t908\t[5.56910658]\t[4.55243921]\t23    \t[0.23755699]\n",
      "909\t18    \t[1.]        \t909\t[1.]\t[1.]\t18    \t[0.]        \t[4.7325878] \t909\t[5.28427887]\t[4.55243921]\t18    \t[0.18854031]\n",
      "910\t19    \t[0.96666667]\t910\t[1.]\t[0.]\t19    \t[0.17950549]\t[4.73011932]\t910\t[5.26629353]\t[4.55243921]\t19    \t[0.17813861]\n",
      "911\t18    \t[0.93333333]\t911\t[1.]\t[0.]\t18    \t[0.24944383]\t[4.79940017]\t911\t[5.65674782]\t[4.55243921]\t18    \t[0.28021414]\n",
      "912\t21    \t[0.83333333]\t912\t[1.]\t[0.]\t21    \t[0.372678]  \t[4.86411851]\t912\t[5.49485302]\t[4.55243921]\t21    \t[0.27501884]\n",
      "913\t24    \t[1.]        \t913\t[1.]\t[1.]\t24    \t[0.]        \t[4.85632127]\t913\t[5.50040388]\t[4.55243921]\t24    \t[0.22597069]\n",
      "914\t16    \t[0.93333333]\t914\t[1.]\t[0.]\t16    \t[0.24944383]\t[4.86000331]\t914\t[5.29541731]\t[4.55243921]\t16    \t[0.21399436]\n",
      "915\t22    \t[0.9]       \t915\t[1.]\t[0.]\t22    \t[0.3]       \t[4.85670039]\t915\t[5.28482294]\t[4.55243921]\t22    \t[0.19708356]\n",
      "916\t19    \t[0.96666667]\t916\t[1.]\t[0.]\t19    \t[0.17950549]\t[4.78266454]\t916\t[5.38317776]\t[4.55243921]\t19    \t[0.21320435]\n",
      "917\t16    \t[0.96666667]\t917\t[1.]\t[0.]\t16    \t[0.17950549]\t[4.77039162]\t917\t[5.13172531]\t[4.55243921]\t16    \t[0.1984986] \n",
      "918\t14    \t[0.93333333]\t918\t[1.]\t[0.]\t14    \t[0.24944383]\t[4.74760135]\t918\t[5.21280479]\t[4.55223179]\t14    \t[0.22996957]\n",
      "919\t19    \t[0.96666667]\t919\t[1.]\t[0.]\t19    \t[0.17950549]\t[4.72772988]\t919\t[5.24664783]\t[4.55243921]\t19    \t[0.21421685]\n",
      "920\t15    \t[0.96666667]\t920\t[1.]\t[0.]\t15    \t[0.17950549]\t[4.71725276]\t920\t[5.19087553]\t[4.55243921]\t15    \t[0.196494]  \n",
      "921\t17    \t[0.96666667]\t921\t[1.]\t[0.]\t17    \t[0.17950549]\t[4.69944793]\t921\t[5.17766905]\t[4.55243921]\t17    \t[0.19301495]\n",
      "922\t23    \t[0.93333333]\t922\t[1.]\t[0.]\t23    \t[0.24944383]\t[4.77307442]\t922\t[5.40390539]\t[4.55243921]\t23    \t[0.24291924]\n",
      "923\t26    \t[0.96666667]\t923\t[1.]\t[0.]\t26    \t[0.17950549]\t[4.79095783]\t923\t[5.62697983]\t[4.55243921]\t26    \t[0.23523422]\n",
      "924\t17    \t[0.96666667]\t924\t[1.]\t[0.]\t17    \t[0.17950549]\t[4.79953567]\t924\t[5.2347002] \t[4.55243921]\t17    \t[0.21879818]\n",
      "925\t19    \t[1.]        \t925\t[1.]\t[1.]\t19    \t[0.]        \t[4.7725605] \t925\t[5.21313715]\t[4.55243921]\t19    \t[0.19863029]\n",
      "926\t18    \t[1.]        \t926\t[1.]\t[1.]\t18    \t[0.]        \t[4.72901486]\t926\t[5.47934866]\t[4.55243921]\t18    \t[0.19781781]\n",
      "927\t15    \t[1.]        \t927\t[1.]\t[1.]\t15    \t[0.]        \t[4.70246723]\t927\t[5.7167182] \t[4.55243921]\t15    \t[0.22736736]\n",
      "928\t16    \t[0.93333333]\t928\t[1.]\t[0.]\t16    \t[0.24944383]\t[4.74540992]\t928\t[5.24148703]\t[4.55243921]\t16    \t[0.23311809]\n",
      "929\t22    \t[0.9]       \t929\t[1.]\t[0.]\t22    \t[0.3]       \t[4.73306128]\t929\t[5.09123993]\t[4.55243921]\t22    \t[0.1600674] \n",
      "930\t16    \t[0.93333333]\t930\t[1.]\t[0.]\t16    \t[0.24944383]\t[4.78096944]\t930\t[5.19591856]\t[4.55243921]\t16    \t[0.22504074]\n",
      "931\t23    \t[0.93333333]\t931\t[1.]\t[0.]\t23    \t[0.24944383]\t[4.81733929]\t931\t[5.32645512]\t[4.55243921]\t23    \t[0.25230577]\n",
      "932\t19    \t[0.93333333]\t932\t[1.]\t[0.]\t19    \t[0.24944383]\t[4.78394076]\t932\t[5.27717733]\t[4.55243921]\t19    \t[0.22596757]\n",
      "933\t17    \t[0.9]       \t933\t[1.]\t[0.]\t17    \t[0.3]       \t[4.73552106]\t933\t[5.39078665]\t[4.55243921]\t17    \t[0.22450108]\n",
      "934\t19    \t[0.86666667]\t934\t[1.]\t[0.]\t19    \t[0.33993463]\t[4.75893469]\t934\t[5.64283371]\t[4.55243921]\t19    \t[0.24534134]\n",
      "935\t18    \t[0.93333333]\t935\t[1.]\t[0.]\t18    \t[0.24944383]\t[4.82367702]\t935\t[5.50229359]\t[4.55243921]\t18    \t[0.25988501]\n",
      "936\t20    \t[0.9]       \t936\t[1.]\t[0.]\t20    \t[0.3]       \t[4.77215854]\t936\t[5.38936949]\t[4.55243921]\t20    \t[0.23552933]\n",
      "937\t23    \t[0.96666667]\t937\t[1.]\t[0.]\t23    \t[0.17950549]\t[4.75691927]\t937\t[5.1757164] \t[4.55243921]\t23    \t[0.1853908] \n",
      "938\t15    \t[0.96666667]\t938\t[1.]\t[0.]\t15    \t[0.17950549]\t[4.71995411]\t938\t[5.22185993]\t[4.55243921]\t15    \t[0.17488933]\n",
      "939\t18    \t[1.]        \t939\t[1.]\t[1.]\t18    \t[0.]        \t[4.69328696]\t939\t[5.21149445]\t[4.55243921]\t18    \t[0.18142017]\n",
      "940\t18    \t[0.9]       \t940\t[1.]\t[0.]\t18    \t[0.3]       \t[4.74914891]\t940\t[5.23828506]\t[4.55243921]\t18    \t[0.1989298] \n",
      "941\t21    \t[1.]        \t941\t[1.]\t[1.]\t21    \t[0.]        \t[4.75893318]\t941\t[5.2794857] \t[4.55243921]\t21    \t[0.21060116]\n",
      "942\t16    \t[1.]        \t942\t[1.]\t[1.]\t16    \t[0.]        \t[4.78296787]\t942\t[5.37635899]\t[4.55243921]\t16    \t[0.24520593]\n",
      "943\t11    \t[0.96666667]\t943\t[1.]\t[0.]\t11    \t[0.17950549]\t[4.67148436]\t943\t[5.14912128]\t[4.55243921]\t11    \t[0.16088894]\n",
      "944\t16    \t[1.]        \t944\t[1.]\t[1.]\t16    \t[0.]        \t[4.6593218] \t944\t[5.07852125]\t[4.55243921]\t16    \t[0.17393662]\n",
      "945\t21    \t[0.93333333]\t945\t[1.]\t[0.]\t21    \t[0.24944383]\t[4.76171422]\t945\t[5.65629292]\t[4.55243921]\t21    \t[0.27027781]\n",
      "946\t14    \t[0.9]       \t946\t[1.]\t[0.]\t14    \t[0.3]       \t[4.70953733]\t946\t[5.28527927]\t[4.55243921]\t14    \t[0.23861334]\n",
      "947\t19    \t[0.9]       \t947\t[1.]\t[0.]\t19    \t[0.3]       \t[4.78777339]\t947\t[5.24048042]\t[4.55243921]\t19    \t[0.24751205]\n",
      "948\t17    \t[0.93333333]\t948\t[1.]\t[0.]\t17    \t[0.24944383]\t[4.71876589]\t948\t[5.16039753]\t[4.53806639]\t17    \t[0.20701304]\n"
     ]
    },
    {
     "name": "stdout",
     "output_type": "stream",
     "text": [
      "949\t20    \t[0.93333333]\t949\t[1.]\t[0.]\t20    \t[0.24944383]\t[4.7504334] \t949\t[5.28726673]\t[4.53806639]\t20    \t[0.22191604]\n",
      "950\t12    \t[0.96666667]\t950\t[1.]\t[0.]\t12    \t[0.17950549]\t[4.6801153] \t950\t[5.2014575] \t[4.53806639]\t12    \t[0.21120313]\n",
      "951\t18    \t[0.96666667]\t951\t[1.]\t[0.]\t18    \t[0.17950549]\t[4.67454548]\t951\t[5.11588383]\t[4.53806639]\t18    \t[0.17256239]\n",
      "952\t20    \t[0.9]       \t952\t[1.]\t[0.]\t20    \t[0.3]       \t[4.67424614]\t952\t[5.16827488]\t[4.53806639]\t20    \t[0.18327251]\n",
      "953\t16    \t[0.96666667]\t953\t[1.]\t[0.]\t16    \t[0.17950549]\t[4.74936616]\t953\t[5.32833672]\t[4.53806639]\t16    \t[0.25471115]\n",
      "954\t17    \t[0.9]       \t954\t[1.]\t[0.]\t17    \t[0.3]       \t[4.68352869]\t954\t[5.33843803]\t[4.53806639]\t17    \t[0.20498848]\n",
      "955\t18    \t[0.96666667]\t955\t[1.]\t[0.]\t18    \t[0.17950549]\t[4.73040964]\t955\t[5.12229252]\t[4.53806639]\t18    \t[0.18983796]\n",
      "956\t19    \t[0.96666667]\t956\t[1.]\t[0.]\t19    \t[0.17950549]\t[4.77832535]\t956\t[5.22351789]\t[4.53806639]\t19    \t[0.21212834]\n",
      "957\t22    \t[0.86666667]\t957\t[1.]\t[0.]\t22    \t[0.33993463]\t[4.76372115]\t957\t[5.27281427]\t[4.53806639]\t22    \t[0.21136701]\n",
      "958\t14    \t[0.9]       \t958\t[1.]\t[0.]\t14    \t[0.3]       \t[4.74227889]\t958\t[5.29645538]\t[4.53806639]\t14    \t[0.19643463]\n",
      "959\t14    \t[0.9]       \t959\t[1.]\t[0.]\t14    \t[0.3]       \t[4.73354352]\t959\t[5.28641844]\t[4.5114193] \t14    \t[0.21973983]\n",
      "960\t19    \t[0.93333333]\t960\t[1.]\t[0.]\t19    \t[0.24944383]\t[4.74808132]\t960\t[5.27672672]\t[4.5114193] \t19    \t[0.21935831]\n",
      "961\t17    \t[0.76666667]\t961\t[1.]\t[0.]\t17    \t[0.42295258]\t[4.74816093]\t961\t[5.43828487]\t[4.53806639]\t17    \t[0.24756523]\n",
      "962\t18    \t[0.93333333]\t962\t[1.]\t[0.]\t18    \t[0.24944383]\t[4.73493892]\t962\t[5.2114954] \t[4.53369236]\t18    \t[0.21926333]\n",
      "963\t16    \t[0.96666667]\t963\t[1.]\t[0.]\t16    \t[0.17950549]\t[4.64754949]\t963\t[4.99626732]\t[4.53369236]\t16    \t[0.1573319] \n",
      "964\t18    \t[0.9]       \t964\t[1.]\t[0.]\t18    \t[0.3]       \t[4.68366214]\t964\t[5.19336796]\t[4.53369236]\t18    \t[0.18503444]\n",
      "965\t22    \t[0.96666667]\t965\t[1.]\t[0.]\t22    \t[0.17950549]\t[4.72412899]\t965\t[5.20956802]\t[4.53369236]\t22    \t[0.19593996]\n",
      "966\t16    \t[0.83333333]\t966\t[1.]\t[0.]\t16    \t[0.372678]  \t[4.76546213]\t966\t[5.4057312] \t[4.53369236]\t16    \t[0.26510002]\n",
      "967\t19    \t[0.9]       \t967\t[1.]\t[0.]\t19    \t[0.3]       \t[4.7705658] \t967\t[5.40180969]\t[4.53369236]\t19    \t[0.2695373] \n",
      "968\t20    \t[0.9]       \t968\t[1.]\t[0.]\t20    \t[0.3]       \t[4.74365807]\t968\t[5.16880178]\t[4.53369236]\t20    \t[0.19592016]\n",
      "969\t17    \t[0.9]       \t969\t[1.]\t[0.]\t17    \t[0.3]       \t[4.7325141] \t969\t[5.31114388]\t[4.53369236]\t17    \t[0.22033892]\n",
      "970\t20    \t[0.86666667]\t970\t[1.]\t[0.]\t20    \t[0.33993463]\t[4.74531589]\t970\t[5.27312708]\t[4.53369236]\t20    \t[0.2114431] \n",
      "971\t17    \t[0.93333333]\t971\t[1.]\t[0.]\t17    \t[0.24944383]\t[4.68478015]\t971\t[5.09722471]\t[4.53369236]\t17    \t[0.17455569]\n",
      "972\t20    \t[0.86666667]\t972\t[1.]\t[0.]\t20    \t[0.33993463]\t[4.74972917]\t972\t[5.25986958]\t[4.53369236]\t20    \t[0.25660433]\n",
      "973\t18    \t[0.96666667]\t973\t[1.]\t[0.]\t18    \t[0.17950549]\t[4.69243851]\t973\t[5.14946699]\t[4.53369236]\t18    \t[0.18760273]\n",
      "974\t17    \t[1.]        \t974\t[1.]\t[1.]\t17    \t[0.]        \t[4.67342552]\t974\t[5.08790064]\t[4.53369236]\t17    \t[0.17068744]\n",
      "975\t16    \t[0.93333333]\t975\t[1.]\t[0.]\t16    \t[0.24944383]\t[4.71385709]\t975\t[5.27629328]\t[4.53369236]\t16    \t[0.22945493]\n",
      "976\t19    \t[0.93333333]\t976\t[1.]\t[0.]\t19    \t[0.24944383]\t[4.74751875]\t976\t[5.41954613]\t[4.53369236]\t19    \t[0.24054836]\n",
      "977\t22    \t[0.93333333]\t977\t[1.]\t[0.]\t22    \t[0.24944383]\t[4.74770818]\t977\t[5.28839445]\t[4.53369236]\t22    \t[0.18572902]\n",
      "978\t17    \t[0.9]       \t978\t[1.]\t[0.]\t17    \t[0.3]       \t[4.7916585] \t978\t[5.36284351]\t[4.53369236]\t17    \t[0.2372924] \n",
      "979\t19    \t[0.96666667]\t979\t[1.]\t[0.]\t19    \t[0.17950549]\t[4.79915943]\t979\t[5.57462168]\t[4.53369236]\t19    \t[0.22953608]\n",
      "980\t16    \t[0.93333333]\t980\t[1.]\t[0.]\t16    \t[0.24944383]\t[4.76592738]\t980\t[5.24536753]\t[4.53369236]\t16    \t[0.19841827]\n",
      "981\t18    \t[0.9]       \t981\t[1.]\t[0.]\t18    \t[0.3]       \t[4.75649962]\t981\t[5.48545599]\t[4.53369236]\t18    \t[0.24480867]\n",
      "982\t20    \t[0.76666667]\t982\t[1.]\t[0.]\t20    \t[0.42295258]\t[4.71611225]\t982\t[5.25234699]\t[4.53369236]\t20    \t[0.19599642]\n",
      "983\t15    \t[0.86666667]\t983\t[1.]\t[0.]\t15    \t[0.33993463]\t[4.67938824]\t983\t[5.13167286]\t[4.53369236]\t15    \t[0.18547157]\n",
      "984\t17    \t[0.9]       \t984\t[1.]\t[0.]\t17    \t[0.3]       \t[4.7518532] \t984\t[5.46508026]\t[4.53369236]\t17    \t[0.25915047]\n",
      "985\t20    \t[0.9]       \t985\t[1.]\t[0.]\t20    \t[0.3]       \t[4.69593018]\t985\t[5.11300659]\t[4.4769907] \t20    \t[0.17559708]\n",
      "986\t19    \t[0.9]       \t986\t[1.]\t[0.]\t19    \t[0.3]       \t[4.68050729]\t986\t[5.24142551]\t[4.53369236]\t19    \t[0.17916402]\n",
      "987\t19    \t[0.9]       \t987\t[1.]\t[0.]\t19    \t[0.3]       \t[4.73380791]\t987\t[5.42290783]\t[4.53369236]\t19    \t[0.2446662] \n",
      "988\t17    \t[0.83333333]\t988\t[1.]\t[0.]\t17    \t[0.372678]  \t[4.74685213]\t988\t[5.54123831]\t[4.4769907] \t17    \t[0.25464666]\n",
      "989\t19    \t[0.9]       \t989\t[1.]\t[0.]\t19    \t[0.3]       \t[4.7035974] \t989\t[5.36065054]\t[4.4769907] \t19    \t[0.23808468]\n",
      "990\t16    \t[0.96666667]\t990\t[1.]\t[0.]\t16    \t[0.17950549]\t[4.66303705]\t990\t[5.07504368]\t[4.4769907] \t16    \t[0.18130749]\n",
      "991\t19    \t[0.9]       \t991\t[1.]\t[0.]\t19    \t[0.3]       \t[4.76325308]\t991\t[5.42968655]\t[4.4769907] \t19    \t[0.273563]  \n",
      "992\t19    \t[0.96666667]\t992\t[1.]\t[0.]\t19    \t[0.17950549]\t[4.70991987]\t992\t[5.38175106]\t[4.4769907] \t19    \t[0.26241976]\n",
      "993\t22    \t[0.8]       \t993\t[1.]\t[0.]\t22    \t[0.4]       \t[4.71433651]\t993\t[5.2332859] \t[4.4769907] \t22    \t[0.20885158]\n",
      "994\t17    \t[0.83333333]\t994\t[1.]\t[0.]\t17    \t[0.372678]  \t[4.75053965]\t994\t[5.5635848] \t[4.4769907] \t17    \t[0.26674563]\n",
      "995\t22    \t[0.83333333]\t995\t[1.]\t[0.]\t22    \t[0.372678]  \t[4.78105272]\t995\t[5.2258029] \t[4.4769907] \t22    \t[0.24763567]\n",
      "996\t21    \t[0.83333333]\t996\t[1.]\t[0.]\t21    \t[0.372678]  \t[4.72392228]\t996\t[5.40237951]\t[4.4769907] \t21    \t[0.23642326]\n",
      "997\t20    \t[0.8]       \t997\t[1.]\t[0.]\t20    \t[0.4]       \t[4.7123576] \t997\t[5.38059378]\t[4.4769907] \t20    \t[0.24297934]\n",
      "998\t20    \t[0.8]       \t998\t[1.]\t[0.]\t20    \t[0.4]       \t[4.72717072]\t998\t[5.28403282]\t[4.4769907] \t20    \t[0.25804755]\n",
      "999\t20    \t[0.83333333]\t999\t[1.]\t[0.]\t20    \t[0.372678]  \t[4.76977007]\t999\t[5.41277504]\t[4.4769907] \t20    \t[0.27779206]\n",
      "1000\t24    \t[0.86666667]\t1000\t[1.]\t[0.]\t24    \t[0.33993463]\t[4.74898847]\t1000\t[5.55592632]\t[4.4769907] \t24    \t[0.28686985]\n",
      "処理時間： 47839.92205123417\n",
      "   0     1     2     3     4     5     6     7     8     9     ...  1014  \\\n",
      "0   0.0   0.0   0.0   0.0   0.0   0.0   0.0   0.0   0.0   0.0  ...   0.0   \n",
      "1   0.0   0.0   0.0   0.0   0.0   0.0   0.0   0.0   0.0   0.0  ...   0.0   \n",
      "\n",
      "   1015  1016  1017  1018  1019  1020  1021  1022  1023  \n",
      "0   0.0   0.0   0.0   0.0   1.0   0.0   0.0   0.0   1.0  \n",
      "1   0.0   0.0   0.0   0.0   1.0   0.0   0.0   0.0   1.0  \n",
      "\n",
      "[2 rows x 1024 columns]\n",
      "Saved in: /mnt/workspace/Github/Pointnet_Pointnet2_pytorch/Mywork/Results/Files/seed0/GA_downsampling/Hall of fame/data615_ngen1000_rate0.0625_seed0_2022-01-04_07-36.csv\n",
      "Saved in: /mnt/workspace/Github/Pointnet_Pointnet2_pytorch/Mywork/Results/Files/seed0/GA_downsampling/log/data615_ngen1000_rate0.0625_seed0_2022-01-04_07-36.csv\n",
      "Saved in: /mnt/workspace/Github/Pointnet_Pointnet2_pytorch/Mywork/Results/Files/seed0/GA_downsampling/pop/data615_ngen1000_rate0.0625_seed0_2022-01-04_07-36.csv\n"
     ]
    }
   ],
   "source": [
    "data_idx = 615\n",
    "original_points, target_fv, target = GA_dataset.__getitem__(data_idx)\n",
    "original_points = torch.from_numpy(original_points.astype(np.float32)).clone().view(1, 1024, 3)\n",
    "target_fv = torch.from_numpy(target_fv.astype(np.float32)).clone().view(1, -1)\n",
    "target = torch.from_numpy(np.array(target).astype(np.float32)).clone()\n",
    "\n",
    "Classifier_from_feature_vector = Classifier_from_feature_vector.eval().cuda()\n",
    "Feature_vector_calculator = Feature_vector_calculator.eval().cuda()\n",
    "\n",
    "rate = 1/16\n",
    "ngen = 1000\n",
    "seed = 0\n",
    "cxpd = 0.2\n",
    "mutpd = 0.5\n",
    "\n",
    "hof, pop, log= run_GA(original_points, target_fv, target, Feature_vector_calculator, \\\n",
    "                      Classifier_from_feature_vector, rate, ngen, seed, cxpd, mutpd)\n",
    "save_GA_results(log, hof, pop, 'seed0', 'GA_downsampling',data=data_idx, ngen=ngen, rate=rate, seed=seed)"
   ]
  },
  {
   "cell_type": "code",
   "execution_count": 236,
   "id": "927348d1",
   "metadata": {
    "scrolled": true
   },
   "outputs": [
    {
     "name": "stdout",
     "output_type": "stream",
     "text": [
      "   \t      \t                     acc                     \t                                    dist                                    \n",
      "   \t      \t---------------------------------------------\t----------------------------------------------------------------------------\n",
      "gen\tnevals\tavg  \tgen\tmax \tmin \tnevals\tstd  \tavg          \tgen\tmax          \tmin          \tnevals\tstd         \n",
      "0  \t30    \t[0.1]\t0  \t[1.]\t[0.]\t30    \t[0.3]\t[11.61218433]\t0  \t[12.89272308]\t[10.66214275]\t30    \t[0.44360748]\n",
      "1  \t20    \t[0.03333333]\t1  \t[1.]\t[0.]\t20    \t[0.17950549]\t[11.30197884]\t1  \t[12.97142696]\t[10.48063374]\t20    \t[0.4545588] \n",
      "2  \t18    \t[0.]        \t2  \t[0.]\t[0.]\t18    \t[0.]        \t[11.09211289]\t2  \t[11.58520794]\t[10.48063374]\t18    \t[0.29185201]\n",
      "3  \t9     \t[0.]        \t3  \t[0.]\t[0.]\t9     \t[0.]        \t[10.92819001]\t3  \t[11.22920704]\t[10.48063374]\t9     \t[0.20309982]\n",
      "4  \t21    \t[0.]        \t4  \t[0.]\t[0.]\t21    \t[0.]        \t[10.88961493]\t4  \t[11.41094017]\t[10.4560051] \t21    \t[0.25472658]\n",
      "5  \t16    \t[0.]        \t5  \t[0.]\t[0.]\t16    \t[0.]        \t[10.72802267]\t5  \t[11.05946922]\t[10.48063374]\t16    \t[0.13997136]\n",
      "6  \t20    \t[0.]        \t6  \t[0.]\t[0.]\t20    \t[0.]        \t[10.6709583] \t6  \t[10.96608257]\t[10.29038715]\t20    \t[0.16024436]\n",
      "7  \t20    \t[0.]        \t7  \t[0.]\t[0.]\t20    \t[0.]        \t[10.57913609]\t7  \t[10.97107506]\t[10.19651222]\t20    \t[0.18153348]\n",
      "8  \t17    \t[0.03333333]\t8  \t[1.]\t[0.]\t17    \t[0.17950549]\t[10.50028537]\t8  \t[11.00113106]\t[10.19651222]\t17    \t[0.19175819]\n",
      "9  \t17    \t[0.03333333]\t9  \t[1.]\t[0.]\t17    \t[0.17950549]\t[10.4720245] \t9  \t[11.1852169] \t[10.16631985]\t17    \t[0.27312347]\n",
      "10 \t14    \t[0.]        \t10 \t[0.]\t[0.]\t14    \t[0.]        \t[10.35911061]\t10 \t[11.15168953]\t[9.97050667] \t14    \t[0.23296561]\n",
      "11 \t18    \t[0.]        \t11 \t[0.]\t[0.]\t18    \t[0.]        \t[10.32131494]\t11 \t[10.74285126]\t[9.85044289] \t18    \t[0.22984761]\n",
      "12 \t19    \t[0.]        \t12 \t[0.]\t[0.]\t19    \t[0.]        \t[10.17897024]\t12 \t[10.59648895]\t[9.85044289] \t19    \t[0.17162577]\n",
      "13 \t15    \t[0.]        \t13 \t[0.]\t[0.]\t15    \t[0.]        \t[10.11891133]\t13 \t[10.63402271]\t[9.66640091] \t15    \t[0.22497549]\n",
      "14 \t18    \t[0.03333333]\t14 \t[1.]\t[0.]\t18    \t[0.17950549]\t[10.0285663] \t14 \t[10.53673267]\t[9.59410286] \t18    \t[0.20538475]\n",
      "15 \t14    \t[0.06666667]\t15 \t[1.]\t[0.]\t14    \t[0.24944383]\t[9.97390839] \t15 \t[10.34440517]\t[9.59410286] \t14    \t[0.17965497]\n",
      "16 \t23    \t[0.1]       \t16 \t[1.]\t[0.]\t23    \t[0.3]       \t[9.98238398] \t16 \t[11.12871265]\t[9.60595703] \t23    \t[0.30350186]\n",
      "17 \t24    \t[0.]        \t17 \t[0.]\t[0.]\t24    \t[0.]        \t[9.89296033] \t17 \t[10.45620346]\t[9.60595703] \t24    \t[0.21350355]\n",
      "18 \t14    \t[0.]        \t18 \t[0.]\t[0.]\t14    \t[0.]        \t[9.82743425] \t18 \t[10.3525486] \t[9.60595703] \t14    \t[0.20124919]\n",
      "19 \t16    \t[0.]        \t19 \t[0.]\t[0.]\t16    \t[0.]        \t[9.75939299] \t19 \t[10.01734447]\t[9.51116848] \t16    \t[0.13157437]\n",
      "20 \t18    \t[0.03333333]\t20 \t[1.]\t[0.]\t18    \t[0.17950549]\t[9.7659125]  \t20 \t[10.15729713]\t[9.49488449] \t18    \t[0.17541376]\n",
      "21 \t24    \t[0.03333333]\t21 \t[1.]\t[0.]\t24    \t[0.17950549]\t[9.76476167] \t21 \t[10.47581863]\t[9.49488449] \t24    \t[0.23883046]\n",
      "22 \t17    \t[0.]        \t22 \t[0.]\t[0.]\t17    \t[0.]        \t[9.6863856]  \t22 \t[10.07040882]\t[9.49146175] \t17    \t[0.16214456]\n",
      "23 \t16    \t[0.]        \t23 \t[0.]\t[0.]\t16    \t[0.]        \t[9.65411606] \t23 \t[9.98393154] \t[9.46397781] \t16    \t[0.15252257]\n",
      "24 \t15    \t[0.]        \t24 \t[0.]\t[0.]\t15    \t[0.]        \t[9.60687033] \t24 \t[10.16142464]\t[9.45781326] \t15    \t[0.15030727]\n",
      "25 \t20    \t[0.03333333]\t25 \t[1.]\t[0.]\t20    \t[0.17950549]\t[9.6001634]  \t25 \t[10.43546295]\t[9.41413116] \t20    \t[0.20401559]\n",
      "26 \t18    \t[0.1]       \t26 \t[1.]\t[0.]\t18    \t[0.3]       \t[9.53677953] \t26 \t[9.82916927] \t[9.40736294] \t18    \t[0.10449848]\n",
      "27 \t10    \t[0.]        \t27 \t[0.]\t[0.]\t10    \t[0.]        \t[9.48752912] \t27 \t[9.81594276] \t[9.36633587] \t10    \t[0.08650345]\n",
      "28 \t25    \t[0.03333333]\t28 \t[1.]\t[0.]\t25    \t[0.17950549]\t[9.58257716] \t28 \t[10.03044796]\t[9.36633587] \t25    \t[0.16194427]\n",
      "29 \t16    \t[0.]        \t29 \t[0.]\t[0.]\t16    \t[0.]        \t[9.5135505]  \t29 \t[10.03511333]\t[9.34857464] \t16    \t[0.14878804]\n",
      "30 \t15    \t[0.03333333]\t30 \t[1.]\t[0.]\t15    \t[0.17950549]\t[9.50669206] \t30 \t[9.94422436] \t[9.34857464] \t15    \t[0.14338565]\n",
      "31 \t20    \t[0.1]       \t31 \t[1.]\t[0.]\t20    \t[0.3]       \t[9.52371871] \t31 \t[9.94507504] \t[9.29841518] \t20    \t[0.15885873]\n",
      "32 \t18    \t[0.16666667]\t32 \t[1.]\t[0.]\t18    \t[0.372678]  \t[9.5513161]  \t32 \t[9.88336372] \t[9.29841518] \t18    \t[0.17207103]\n",
      "33 \t14    \t[0.26666667]\t33 \t[1.]\t[0.]\t14    \t[0.44221664]\t[9.50419734] \t33 \t[10.12963009]\t[9.29841518] \t14    \t[0.18245383]\n",
      "34 \t17    \t[0.4]       \t34 \t[1.]\t[0.]\t17    \t[0.48989795]\t[9.45685606] \t34 \t[9.86734676] \t[9.2461462]  \t17    \t[0.15841085]\n",
      "35 \t17    \t[0.46666667]\t35 \t[1.]\t[0.]\t17    \t[0.49888765]\t[9.40680485] \t35 \t[9.74312592] \t[9.25034714] \t17    \t[0.14644352]\n",
      "36 \t21    \t[0.36666667]\t36 \t[1.]\t[0.]\t21    \t[0.48189441]\t[9.42745457] \t36 \t[10.02878094]\t[9.2254715]  \t21    \t[0.16531742]\n",
      "37 \t17    \t[0.43333333]\t37 \t[1.]\t[0.]\t17    \t[0.49553562]\t[9.4099117]  \t37 \t[9.90707016] \t[9.2254715]  \t17    \t[0.16339721]\n",
      "38 \t21    \t[0.6]       \t38 \t[1.]\t[0.]\t21    \t[0.48989795]\t[9.42509823] \t38 \t[9.9132967]  \t[9.2254715]  \t21    \t[0.17240843]\n",
      "39 \t17    \t[0.6]       \t39 \t[1.]\t[0.]\t17    \t[0.48989795]\t[9.43534994] \t39 \t[9.82304573] \t[9.2254715]  \t17    \t[0.17257522]\n",
      "40 \t20    \t[0.5]       \t40 \t[1.]\t[0.]\t20    \t[0.5]       \t[9.47289375] \t40 \t[10.10229111]\t[9.16125393] \t20    \t[0.26805518]\n",
      "41 \t19    \t[0.56666667]\t41 \t[1.]\t[0.]\t19    \t[0.49553562]\t[9.35251284] \t41 \t[9.72174835] \t[9.08761215] \t19    \t[0.15642292]\n",
      "42 \t21    \t[0.43333333]\t42 \t[1.]\t[0.]\t21    \t[0.49553562]\t[9.34681959] \t42 \t[10.12553692]\t[9.08761215] \t21    \t[0.22665904]\n",
      "43 \t22    \t[0.3]       \t43 \t[1.]\t[0.]\t22    \t[0.45825757]\t[9.34672782] \t43 \t[10.08628273]\t[9.07197189] \t22    \t[0.23638671]\n",
      "44 \t18    \t[0.26666667]\t44 \t[1.]\t[0.]\t18    \t[0.44221664]\t[9.27049732] \t44 \t[9.61362648] \t[9.08761215] \t18    \t[0.15306084]\n",
      "45 \t16    \t[0.2]       \t45 \t[1.]\t[0.]\t16    \t[0.4]       \t[9.28969663] \t45 \t[9.77917957] \t[9.08761215] \t16    \t[0.21080359]\n",
      "46 \t20    \t[0.13333333]\t46 \t[1.]\t[0.]\t20    \t[0.33993463]\t[9.22939266] \t46 \t[9.58669949] \t[8.87542343] \t20    \t[0.15947802]\n",
      "47 \t21    \t[0.06666667]\t47 \t[1.]\t[0.]\t21    \t[0.24944383]\t[9.26383368] \t47 \t[9.79369545] \t[8.87542343] \t21    \t[0.21670934]\n",
      "48 \t19    \t[0.1]       \t48 \t[1.]\t[0.]\t19    \t[0.3]       \t[9.30120363] \t48 \t[9.66659927] \t[9.01694393] \t19    \t[0.19158407]\n",
      "49 \t26    \t[0.16666667]\t49 \t[1.]\t[0.]\t26    \t[0.372678]  \t[9.31837123] \t49 \t[10.32156563]\t[9.07875824] \t26    \t[0.24143991]\n",
      "50 \t21    \t[0.26666667]\t50 \t[1.]\t[0.]\t21    \t[0.44221664]\t[9.29843432] \t50 \t[9.78180695] \t[9.02228928] \t21    \t[0.1823498] \n",
      "51 \t15    \t[0.13333333]\t51 \t[1.]\t[0.]\t15    \t[0.33993463]\t[9.27730424] \t51 \t[9.7578125]  \t[9.02228928] \t15    \t[0.22587514]\n",
      "52 \t19    \t[0.23333333]\t52 \t[1.]\t[0.]\t19    \t[0.42295258]\t[9.22750848] \t52 \t[9.69106579] \t[9.02228928] \t19    \t[0.18037487]\n",
      "53 \t21    \t[0.2]       \t53 \t[1.]\t[0.]\t21    \t[0.4]       \t[9.27873379] \t53 \t[9.93822193] \t[9.02228928] \t21    \t[0.23357851]\n",
      "54 \t15    \t[0.43333333]\t54 \t[1.]\t[0.]\t15    \t[0.49553562]\t[9.22182941] \t54 \t[10.05491352]\t[9.02228928] \t15    \t[0.23186664]\n",
      "55 \t17    \t[0.23333333]\t55 \t[1.]\t[0.]\t17    \t[0.42295258]\t[9.20996151] \t55 \t[9.76984596] \t[9.02228928] \t17    \t[0.19243094]\n",
      "56 \t23    \t[0.23333333]\t56 \t[1.]\t[0.]\t23    \t[0.42295258]\t[9.21754786] \t56 \t[9.81155777] \t[9.00150204] \t23    \t[0.21708674]\n",
      "57 \t20    \t[0.26666667]\t57 \t[1.]\t[0.]\t20    \t[0.44221664]\t[9.23645439] \t57 \t[9.85128403] \t[9.00150204] \t20    \t[0.23257863]\n",
      "58 \t19    \t[0.23333333]\t58 \t[1.]\t[0.]\t19    \t[0.42295258]\t[9.20722516] \t58 \t[10.08998585]\t[9.00150204] \t19    \t[0.23695923]\n",
      "59 \t18    \t[0.06666667]\t59 \t[1.]\t[0.]\t18    \t[0.24944383]\t[9.19973761] \t59 \t[9.91513062] \t[8.91112709] \t18    \t[0.23686962]\n",
      "60 \t16    \t[0.]        \t60 \t[0.]\t[0.]\t16    \t[0.]        \t[9.18574839] \t60 \t[10.03506851]\t[8.91112709] \t16    \t[0.24163096]\n",
      "61 \t21    \t[0.13333333]\t61 \t[1.]\t[0.]\t21    \t[0.33993463]\t[9.11625983] \t61 \t[9.88841629] \t[8.80111122] \t21    \t[0.20799818]\n",
      "62 \t16    \t[0.13333333]\t62 \t[1.]\t[0.]\t16    \t[0.33993463]\t[9.06284094] \t62 \t[9.64754963] \t[8.80111122] \t16    \t[0.16048472]\n",
      "63 \t21    \t[0.13333333]\t63 \t[1.]\t[0.]\t21    \t[0.33993463]\t[9.09072723] \t63 \t[9.86171913] \t[8.88864613] \t21    \t[0.19130961]\n"
     ]
    },
    {
     "name": "stdout",
     "output_type": "stream",
     "text": [
      "64 \t20    \t[0.16666667]\t64 \t[1.]\t[0.]\t20    \t[0.372678]  \t[9.07494342] \t64 \t[9.42562389] \t[8.91112709] \t20    \t[0.14981594]\n",
      "65 \t19    \t[0.26666667]\t65 \t[1.]\t[0.]\t19    \t[0.44221664]\t[9.1089633]  \t65 \t[9.79265213] \t[8.86204433] \t19    \t[0.21214035]\n",
      "66 \t21    \t[0.33333333]\t66 \t[1.]\t[0.]\t21    \t[0.47140452]\t[9.08414539] \t66 \t[9.6079092]  \t[8.86204433] \t21    \t[0.17083584]\n",
      "67 \t18    \t[0.26666667]\t67 \t[1.]\t[0.]\t18    \t[0.44221664]\t[9.05388187] \t67 \t[9.36977291] \t[8.84730434] \t18    \t[0.15369975]\n",
      "68 \t15    \t[0.36666667]\t68 \t[1.]\t[0.]\t15    \t[0.48189441]\t[9.03722207] \t68 \t[9.70253277] \t[8.7876091]  \t15    \t[0.23608717]\n",
      "69 \t16    \t[0.43333333]\t69 \t[1.]\t[0.]\t16    \t[0.49553562]\t[9.0288524]  \t69 \t[9.98524666] \t[8.7876091]  \t16    \t[0.25375302]\n",
      "70 \t16    \t[0.33333333]\t70 \t[1.]\t[0.]\t16    \t[0.47140452]\t[8.98483747] \t70 \t[9.56463814] \t[8.7876091]  \t16    \t[0.17240418]\n",
      "71 \t16    \t[0.5]       \t71 \t[1.]\t[0.]\t16    \t[0.5]       \t[8.99360758] \t71 \t[9.82249355] \t[8.77494335] \t16    \t[0.240694]  \n",
      "72 \t17    \t[0.46666667]\t72 \t[1.]\t[0.]\t17    \t[0.49888765]\t[8.9922699]  \t72 \t[9.45053768] \t[8.70418072] \t17    \t[0.20436782]\n",
      "73 \t14    \t[0.56666667]\t73 \t[1.]\t[0.]\t14    \t[0.49553562]\t[8.93419402] \t73 \t[9.34017086] \t[8.7876091]  \t14    \t[0.16861311]\n",
      "74 \t19    \t[0.56666667]\t74 \t[1.]\t[0.]\t19    \t[0.49553562]\t[8.96642288] \t74 \t[9.84472847] \t[8.77889252] \t19    \t[0.26140557]\n",
      "75 \t21    \t[0.56666667]\t75 \t[1.]\t[0.]\t21    \t[0.49553562]\t[8.99103187] \t75 \t[9.93795681] \t[8.7876091]  \t21    \t[0.25845866]\n",
      "76 \t19    \t[0.86666667]\t76 \t[1.]\t[0.]\t19    \t[0.33993463]\t[8.92125731] \t76 \t[9.51597977] \t[8.7876091]  \t19    \t[0.19911029]\n",
      "77 \t25    \t[0.73333333]\t77 \t[1.]\t[0.]\t25    \t[0.44221664]\t[9.04379813] \t77 \t[9.90288925] \t[8.7876091]  \t25    \t[0.31077018]\n",
      "78 \t19    \t[0.8]       \t78 \t[1.]\t[0.]\t19    \t[0.4]       \t[9.01720994] \t78 \t[9.91023159] \t[8.7876091]  \t19    \t[0.28898927]\n",
      "79 \t20    \t[0.73333333]\t79 \t[1.]\t[0.]\t20    \t[0.44221664]\t[8.94184198] \t79 \t[9.98432064] \t[8.68145466] \t20    \t[0.24298852]\n",
      "80 \t14    \t[0.73333333]\t80 \t[1.]\t[0.]\t14    \t[0.44221664]\t[8.98710152] \t80 \t[9.96868038] \t[8.68145466] \t14    \t[0.28406872]\n",
      "81 \t19    \t[0.6]       \t81 \t[1.]\t[0.]\t19    \t[0.48989795]\t[8.9354379]  \t81 \t[9.64851284] \t[8.68145466] \t19    \t[0.21765198]\n",
      "82 \t23    \t[0.56666667]\t82 \t[1.]\t[0.]\t23    \t[0.49553562]\t[8.99134353] \t82 \t[9.96331215] \t[8.65876389] \t23    \t[0.29479458]\n",
      "83 \t16    \t[0.5]       \t83 \t[1.]\t[0.]\t16    \t[0.5]       \t[8.91756035] \t83 \t[9.23309994] \t[8.65876389] \t16    \t[0.18059774]\n",
      "84 \t19    \t[0.56666667]\t84 \t[1.]\t[0.]\t19    \t[0.49553562]\t[8.92424822] \t84 \t[9.60290718] \t[8.65876389] \t19    \t[0.22285721]\n",
      "85 \t17    \t[0.33333333]\t85 \t[1.]\t[0.]\t17    \t[0.47140452]\t[8.87100611] \t85 \t[9.37451458] \t[8.5769453]  \t17    \t[0.19652399]\n",
      "86 \t18    \t[0.46666667]\t86 \t[1.]\t[0.]\t18    \t[0.49888765]\t[8.93084809] \t86 \t[9.69008064] \t[8.5769453]  \t18    \t[0.29551697]\n",
      "87 \t14    \t[0.46666667]\t87 \t[1.]\t[0.]\t14    \t[0.49888765]\t[8.79286515] \t87 \t[9.80074215] \t[8.47580433] \t14    \t[0.24476926]\n",
      "88 \t20    \t[0.36666667]\t88 \t[1.]\t[0.]\t20    \t[0.48189441]\t[8.82779156] \t88 \t[9.28817177] \t[8.5769453]  \t20    \t[0.1837021] \n",
      "89 \t20    \t[0.36666667]\t89 \t[1.]\t[0.]\t20    \t[0.48189441]\t[8.80735455] \t89 \t[9.2460804]  \t[8.5769453]  \t20    \t[0.17299276]\n",
      "90 \t18    \t[0.46666667]\t90 \t[1.]\t[0.]\t18    \t[0.49888765]\t[8.76887452] \t90 \t[9.40448475] \t[8.5769453]  \t18    \t[0.19162508]\n",
      "91 \t14    \t[0.5]       \t91 \t[1.]\t[0.]\t14    \t[0.5]       \t[8.75178808] \t91 \t[9.22630215] \t[8.5769453]  \t14    \t[0.17604137]\n",
      "92 \t21    \t[0.56666667]\t92 \t[1.]\t[0.]\t21    \t[0.49553562]\t[8.85924441] \t92 \t[9.43891335] \t[8.5769453]  \t21    \t[0.22248277]\n",
      "93 \t17    \t[0.5]       \t93 \t[1.]\t[0.]\t17    \t[0.5]       \t[8.77622417] \t93 \t[9.2538023]  \t[8.5769453]  \t17    \t[0.18591979]\n",
      "94 \t21    \t[0.33333333]\t94 \t[1.]\t[0.]\t21    \t[0.47140452]\t[8.81561988] \t94 \t[10.1886816] \t[8.52257442] \t21    \t[0.3089503] \n",
      "95 \t22    \t[0.46666667]\t95 \t[1.]\t[0.]\t22    \t[0.49888765]\t[8.78412342] \t95 \t[9.3558569]  \t[8.52257442] \t22    \t[0.22151498]\n",
      "96 \t16    \t[0.3]       \t96 \t[1.]\t[0.]\t16    \t[0.45825757]\t[8.73025452] \t96 \t[9.26512814] \t[8.52257442] \t16    \t[0.17319006]\n",
      "97 \t18    \t[0.2]       \t97 \t[1.]\t[0.]\t18    \t[0.4]       \t[8.78946857] \t97 \t[9.75306988] \t[8.52257442] \t18    \t[0.30673089]\n",
      "98 \t15    \t[0.13333333]\t98 \t[1.]\t[0.]\t15    \t[0.33993463]\t[8.72813978] \t98 \t[9.32122517] \t[8.52257442] \t15    \t[0.22957363]\n",
      "99 \t16    \t[0.1]       \t99 \t[1.]\t[0.]\t16    \t[0.3]       \t[8.69522327] \t99 \t[9.16234303] \t[8.52257442] \t16    \t[0.19567477]\n",
      "100\t17    \t[0.23333333]\t100\t[1.]\t[0.]\t17    \t[0.42295258]\t[8.66268495] \t100\t[9.2924757]  \t[8.52257442] \t17    \t[0.1981383] \n",
      "101\t20    \t[0.1]       \t101\t[1.]\t[0.]\t20    \t[0.3]       \t[8.69702272] \t101\t[9.28076935] \t[8.52257442] \t20    \t[0.18971437]\n",
      "102\t24    \t[0.26666667]\t102\t[1.]\t[0.]\t24    \t[0.44221664]\t[8.80533209] \t102\t[9.48307228] \t[8.52257442] \t24    \t[0.26858759]\n",
      "103\t17    \t[0.23333333]\t103\t[1.]\t[0.]\t17    \t[0.42295258]\t[8.81108284] \t103\t[9.26905251] \t[8.52257442] \t17    \t[0.23362402]\n",
      "104\t23    \t[0.1]       \t104\t[1.]\t[0.]\t23    \t[0.3]       \t[8.80708291] \t104\t[9.75548458] \t[8.50039673] \t23    \t[0.29804136]\n",
      "105\t18    \t[0.1]       \t105\t[1.]\t[0.]\t18    \t[0.3]       \t[8.81523635] \t105\t[9.79242992] \t[8.52257442] \t18    \t[0.31296126]\n",
      "106\t24    \t[0.13333333]\t106\t[1.]\t[0.]\t24    \t[0.33993463]\t[8.82696082] \t106\t[9.82209301] \t[8.51179886] \t24    \t[0.29086388]\n",
      "107\t15    \t[0.06666667]\t107\t[1.]\t[0.]\t15    \t[0.24944383]\t[8.77414821] \t107\t[9.85541916] \t[8.51179886] \t15    \t[0.32359986]\n",
      "108\t20    \t[0.1]       \t108\t[1.]\t[0.]\t20    \t[0.3]       \t[8.7497317]  \t108\t[9.33018494] \t[8.51179886] \t20    \t[0.23999241]\n",
      "109\t20    \t[0.03333333]\t109\t[1.]\t[0.]\t20    \t[0.17950549]\t[8.67736845] \t109\t[9.33677959] \t[8.51179886] \t20    \t[0.18735886]\n",
      "110\t14    \t[0.03333333]\t110\t[1.]\t[0.]\t14    \t[0.17950549]\t[8.63324811] \t110\t[9.11987305] \t[8.51179886] \t14    \t[0.18141057]\n",
      "111\t15    \t[0.13333333]\t111\t[1.]\t[0.]\t15    \t[0.33993463]\t[8.65665595] \t111\t[9.26707649] \t[8.51179886] \t15    \t[0.22217406]\n",
      "112\t12    \t[0.06666667]\t112\t[1.]\t[0.]\t12    \t[0.24944383]\t[8.66421995] \t112\t[9.79511547] \t[8.51179886] \t12    \t[0.27073309]\n",
      "113\t20    \t[0.1]       \t113\t[1.]\t[0.]\t20    \t[0.3]       \t[8.72573382] \t113\t[9.33333874] \t[8.51179886] \t20    \t[0.26786737]\n",
      "114\t20    \t[0.16666667]\t114\t[1.]\t[0.]\t20    \t[0.372678]  \t[8.81786086] \t114\t[9.9276371]  \t[8.51179886] \t20    \t[0.39984391]\n",
      "115\t20    \t[0.13333333]\t115\t[1.]\t[0.]\t20    \t[0.33993463]\t[8.68791421] \t115\t[9.45701313] \t[8.44739723] \t20    \t[0.23528014]\n",
      "116\t14    \t[0.03333333]\t116\t[1.]\t[0.]\t14    \t[0.17950549]\t[8.63477166] \t116\t[9.84296703] \t[8.44739723] \t14    \t[0.26778119]\n",
      "117\t21    \t[0.1]       \t117\t[1.]\t[0.]\t21    \t[0.3]       \t[8.67585936] \t117\t[9.28273201] \t[8.44739723] \t21    \t[0.23119681]\n",
      "118\t19    \t[0.03333333]\t118\t[1.]\t[0.]\t19    \t[0.17950549]\t[8.64719286] \t118\t[9.1155386]  \t[8.39904213] \t19    \t[0.20569921]\n",
      "119\t13    \t[0.03333333]\t119\t[1.]\t[0.]\t13    \t[0.17950549]\t[8.6176239]  \t119\t[9.15713787] \t[8.39904213] \t13    \t[0.2331489] \n",
      "120\t19    \t[0.03333333]\t120\t[1.]\t[0.]\t19    \t[0.17950549]\t[8.57159446] \t120\t[9.00918484] \t[8.39904213] \t19    \t[0.15872571]\n",
      "121\t21    \t[0.]        \t121\t[0.]\t[0.]\t21    \t[0.]        \t[8.66280559] \t121\t[9.57096863] \t[8.39904213] \t21    \t[0.25078628]\n",
      "122\t17    \t[0.06666667]\t122\t[1.]\t[0.]\t17    \t[0.24944383]\t[8.69234355] \t122\t[9.78271484] \t[8.39904213] \t17    \t[0.29576601]\n",
      "123\t21    \t[0.13333333]\t123\t[1.]\t[0.]\t21    \t[0.33993463]\t[8.65546055] \t123\t[9.22884846] \t[8.39904213] \t21    \t[0.22447648]\n",
      "124\t18    \t[0.06666667]\t124\t[1.]\t[0.]\t18    \t[0.24944383]\t[8.63803991] \t124\t[9.12437153] \t[8.39904213] \t18    \t[0.22090479]\n",
      "125\t21    \t[0.1]       \t125\t[1.]\t[0.]\t21    \t[0.3]       \t[8.65876201] \t125\t[9.14182949] \t[8.39904213] \t21    \t[0.22947729]\n",
      "126\t15    \t[0.03333333]\t126\t[1.]\t[0.]\t15    \t[0.17950549]\t[8.61595707] \t126\t[9.29794598] \t[8.39904213] \t15    \t[0.22587943]\n",
      "127\t19    \t[0.13333333]\t127\t[1.]\t[0.]\t19    \t[0.33993463]\t[8.68273083] \t127\t[9.79749012] \t[8.39904213] \t19    \t[0.31418595]\n",
      "128\t23    \t[0.03333333]\t128\t[1.]\t[0.]\t23    \t[0.17950549]\t[8.67874997] \t128\t[9.23017406] \t[8.39904213] \t23    \t[0.23497421]\n",
      "129\t12    \t[0.1]       \t129\t[1.]\t[0.]\t12    \t[0.3]       \t[8.66271474] \t129\t[9.61314011] \t[8.39904213] \t12    \t[0.2802169] \n",
      "130\t21    \t[0.03333333]\t130\t[1.]\t[0.]\t21    \t[0.17950549]\t[8.63720853] \t130\t[9.14956188] \t[8.39904213] \t21    \t[0.21937693]\n"
     ]
    },
    {
     "name": "stdout",
     "output_type": "stream",
     "text": [
      "131\t17    \t[0.13333333]\t131\t[1.]\t[0.]\t17    \t[0.33993463]\t[8.63394613] \t131\t[9.35039711] \t[8.39904213] \t17    \t[0.2362552] \n",
      "132\t19    \t[0.2]       \t132\t[1.]\t[0.]\t19    \t[0.4]       \t[8.65443786] \t132\t[9.17834949] \t[8.39904213] \t19    \t[0.21870695]\n",
      "133\t16    \t[0.1]       \t133\t[1.]\t[0.]\t16    \t[0.3]       \t[8.61409566] \t133\t[9.11885262] \t[8.39904213] \t16    \t[0.2193684] \n",
      "134\t17    \t[0.16666667]\t134\t[1.]\t[0.]\t17    \t[0.372678]  \t[8.58742453] \t134\t[9.83768177] \t[8.39904213] \t17    \t[0.32217513]\n",
      "135\t17    \t[0.03333333]\t135\t[1.]\t[0.]\t17    \t[0.17950549]\t[8.56355244] \t135\t[9.30508137] \t[8.39904213] \t17    \t[0.2382624] \n",
      "136\t18    \t[0.03333333]\t136\t[1.]\t[0.]\t18    \t[0.17950549]\t[8.55538766] \t136\t[8.95663452] \t[8.38336468] \t18    \t[0.18278797]\n",
      "137\t20    \t[0.13333333]\t137\t[1.]\t[0.]\t20    \t[0.33993463]\t[8.6654631]  \t137\t[9.61079597] \t[8.38336468] \t20    \t[0.34119169]\n",
      "138\t19    \t[0.23333333]\t138\t[1.]\t[0.]\t19    \t[0.42295258]\t[8.60431563] \t138\t[9.02599239] \t[8.38336468] \t19    \t[0.18744493]\n",
      "139\t16    \t[0.23333333]\t139\t[1.]\t[0.]\t16    \t[0.42295258]\t[8.6279871]  \t139\t[9.36311722] \t[8.38336468] \t16    \t[0.22296151]\n",
      "140\t22    \t[0.3]       \t140\t[1.]\t[0.]\t22    \t[0.45825757]\t[8.6377538]  \t140\t[9.40800095] \t[8.38336468] \t22    \t[0.24861236]\n",
      "141\t15    \t[0.06666667]\t141\t[1.]\t[0.]\t15    \t[0.24944383]\t[8.64836728] \t141\t[9.4347868]  \t[8.38336468] \t15    \t[0.29532333]\n",
      "142\t21    \t[0.13333333]\t142\t[1.]\t[0.]\t21    \t[0.33993463]\t[8.64331805] \t142\t[9.27358723] \t[8.39904213] \t21    \t[0.21007984]\n",
      "143\t9     \t[0.1]       \t143\t[1.]\t[0.]\t9     \t[0.3]       \t[8.58742949] \t143\t[9.6771965]  \t[8.39904213] \t9     \t[0.25770698]\n",
      "144\t20    \t[0.1]       \t144\t[1.]\t[0.]\t20    \t[0.3]       \t[8.60913575] \t144\t[9.20764637] \t[8.39904213] \t20    \t[0.20577548]\n",
      "145\t21    \t[0.16666667]\t145\t[1.]\t[0.]\t21    \t[0.372678]  \t[8.62285236] \t145\t[9.61367702] \t[8.39904213] \t21    \t[0.26550291]\n",
      "146\t19    \t[0.26666667]\t146\t[1.]\t[0.]\t19    \t[0.44221664]\t[8.6283474]  \t146\t[9.17594337] \t[8.39904213] \t19    \t[0.23764595]\n",
      "147\t18    \t[0.2]       \t147\t[1.]\t[0.]\t18    \t[0.4]       \t[8.74616629] \t147\t[9.69426632] \t[8.39904213] \t18    \t[0.372474]  \n",
      "148\t19    \t[0.1]       \t148\t[1.]\t[0.]\t19    \t[0.3]       \t[8.66043189] \t148\t[9.69386005] \t[8.38396168] \t19    \t[0.31284334]\n",
      "149\t15    \t[0.13333333]\t149\t[1.]\t[0.]\t15    \t[0.33993463]\t[8.58120019] \t149\t[8.98239613] \t[8.38396168] \t15    \t[0.18880873]\n",
      "150\t19    \t[0.13333333]\t150\t[1.]\t[0.]\t19    \t[0.33993463]\t[8.64175193] \t150\t[9.6048193]  \t[8.39904213] \t19    \t[0.31185403]\n",
      "151\t18    \t[0.16666667]\t151\t[1.]\t[0.]\t18    \t[0.372678]  \t[8.65221322] \t151\t[9.45817184] \t[8.39904213] \t18    \t[0.2844302] \n",
      "152\t19    \t[0.03333333]\t152\t[1.]\t[0.]\t19    \t[0.17950549]\t[8.63771836] \t152\t[9.88111305] \t[8.39904213] \t19    \t[0.29786284]\n",
      "153\t16    \t[0.23333333]\t153\t[1.]\t[0.]\t16    \t[0.42295258]\t[8.63684899] \t153\t[9.59378719] \t[8.39904213] \t16    \t[0.29982808]\n",
      "154\t17    \t[0.2]       \t154\t[1.]\t[0.]\t17    \t[0.4]       \t[8.56261136] \t154\t[9.23829365] \t[8.39904213] \t17    \t[0.22481971]\n",
      "155\t16    \t[0.2]       \t155\t[1.]\t[0.]\t16    \t[0.4]       \t[8.64973097] \t155\t[9.65293407] \t[8.39904213] \t16    \t[0.33764287]\n",
      "156\t18    \t[0.2]       \t156\t[1.]\t[0.]\t18    \t[0.4]       \t[8.53796234] \t156\t[9.19691658] \t[8.39904213] \t18    \t[0.20826349]\n",
      "157\t20    \t[0.13333333]\t157\t[1.]\t[0.]\t20    \t[0.33993463]\t[8.61528123] \t157\t[9.15740871] \t[8.39904213] \t20    \t[0.21720989]\n",
      "158\t14    \t[0.13333333]\t158\t[1.]\t[0.]\t14    \t[0.33993463]\t[8.59415681] \t158\t[9.10259628] \t[8.39904213] \t14    \t[0.21620333]\n",
      "159\t17    \t[0.1]       \t159\t[1.]\t[0.]\t17    \t[0.3]       \t[8.67998689] \t159\t[9.65579224] \t[8.39904213] \t17    \t[0.25189778]\n",
      "160\t20    \t[0.1]       \t160\t[1.]\t[0.]\t20    \t[0.3]       \t[8.61424166] \t160\t[9.2048769]  \t[8.39904213] \t20    \t[0.2057555] \n",
      "161\t21    \t[0.23333333]\t161\t[1.]\t[0.]\t21    \t[0.42295258]\t[8.63141944] \t161\t[9.18904305] \t[8.39904213] \t21    \t[0.22192675]\n",
      "162\t17    \t[0.16666667]\t162\t[1.]\t[0.]\t17    \t[0.372678]  \t[8.70229791] \t162\t[9.51423359] \t[8.39904213] \t17    \t[0.29503295]\n",
      "163\t13    \t[0.2]       \t163\t[1.]\t[0.]\t13    \t[0.4]       \t[8.66099688] \t163\t[9.11185837] \t[8.39904213] \t13    \t[0.22982927]\n",
      "164\t20    \t[0.06666667]\t164\t[1.]\t[0.]\t20    \t[0.24944383]\t[8.66846406] \t164\t[9.66967392] \t[8.39904213] \t20    \t[0.27788197]\n",
      "165\t16    \t[0.16666667]\t165\t[1.]\t[0.]\t16    \t[0.372678]  \t[8.63994748] \t165\t[9.26889324] \t[8.39904213] \t16    \t[0.21710876]\n",
      "166\t17    \t[0.2]       \t166\t[1.]\t[0.]\t17    \t[0.4]       \t[8.5571043]  \t166\t[8.93701649] \t[8.39904213] \t17    \t[0.16618033]\n",
      "167\t20    \t[0.06666667]\t167\t[1.]\t[0.]\t20    \t[0.24944383]\t[8.56710113] \t167\t[8.9874649]  \t[8.35372639] \t20    \t[0.18378171]\n",
      "168\t21    \t[0.13333333]\t168\t[1.]\t[0.]\t21    \t[0.33993463]\t[8.6341808]  \t168\t[9.74709702] \t[8.39904213] \t21    \t[0.28176874]\n",
      "169\t18    \t[0.03333333]\t169\t[1.]\t[0.]\t18    \t[0.17950549]\t[8.57868417] \t169\t[8.96487808] \t[8.39904213] \t18    \t[0.16464974]\n",
      "170\t13    \t[0.1]       \t170\t[1.]\t[0.]\t13    \t[0.3]       \t[8.60485023] \t170\t[9.68541145] \t[8.39904213] \t13    \t[0.29159135]\n",
      "171\t16    \t[0.03333333]\t171\t[1.]\t[0.]\t16    \t[0.17950549]\t[8.53703248] \t171\t[9.1108551]  \t[8.39904213] \t16    \t[0.1706694] \n",
      "172\t17    \t[0.06666667]\t172\t[1.]\t[0.]\t17    \t[0.24944383]\t[8.54926771] \t172\t[8.82344532] \t[8.39904213] \t17    \t[0.1432574] \n",
      "173\t19    \t[0.13333333]\t173\t[1.]\t[0.]\t19    \t[0.33993463]\t[8.56689259] \t173\t[8.97178555] \t[8.39904213] \t19    \t[0.19190903]\n",
      "174\t17    \t[0.16666667]\t174\t[1.]\t[0.]\t17    \t[0.372678]  \t[8.57738851] \t174\t[9.59214783] \t[8.39904213] \t17    \t[0.25100782]\n",
      "175\t16    \t[0.16666667]\t175\t[1.]\t[0.]\t16    \t[0.372678]  \t[8.62386427] \t175\t[9.45657253] \t[8.39904213] \t16    \t[0.27068525]\n",
      "176\t22    \t[0.2]       \t176\t[1.]\t[0.]\t22    \t[0.4]       \t[8.60032209] \t176\t[9.11112499] \t[8.39904213] \t22    \t[0.20682974]\n",
      "177\t25    \t[0.16666667]\t177\t[1.]\t[0.]\t25    \t[0.372678]  \t[8.65635643] \t177\t[9.10631466] \t[8.37607098] \t25    \t[0.20446868]\n",
      "178\t25    \t[0.13333333]\t178\t[1.]\t[0.]\t25    \t[0.33993463]\t[8.71430016] \t178\t[9.68040371] \t[8.37607098] \t25    \t[0.27982166]\n",
      "179\t22    \t[0.16666667]\t179\t[1.]\t[0.]\t22    \t[0.372678]  \t[8.66694301] \t179\t[9.10894775] \t[8.39904213] \t22    \t[0.20558941]\n",
      "180\t11    \t[0.06666667]\t180\t[1.]\t[0.]\t11    \t[0.24944383]\t[8.59330228] \t180\t[9.70204639] \t[8.39904213] \t11    \t[0.2529638] \n",
      "181\t22    \t[0.03333333]\t181\t[1.]\t[0.]\t22    \t[0.17950549]\t[8.56320734] \t181\t[8.97044754] \t[8.39102554] \t22    \t[0.16213667]\n",
      "182\t16    \t[0.06666667]\t182\t[1.]\t[0.]\t16    \t[0.24944383]\t[8.58739491] \t182\t[9.90312862] \t[8.39102554] \t16    \t[0.2767023] \n",
      "183\t19    \t[0.1]       \t183\t[1.]\t[0.]\t19    \t[0.3]       \t[8.61715832] \t183\t[9.07277584] \t[8.34714794] \t19    \t[0.2069463] \n",
      "184\t25    \t[0.06666667]\t184\t[1.]\t[0.]\t25    \t[0.24944383]\t[8.6508091]  \t184\t[9.28208828] \t[8.34714794] \t25    \t[0.22223292]\n",
      "185\t18    \t[0.06666667]\t185\t[1.]\t[0.]\t18    \t[0.24944383]\t[8.68863379] \t185\t[9.90697765] \t[8.34714794] \t18    \t[0.31882017]\n",
      "186\t22    \t[0.06666667]\t186\t[1.]\t[0.]\t22    \t[0.24944383]\t[8.70367839] \t186\t[10.14855194]\t[8.34714794] \t22    \t[0.34172004]\n",
      "187\t16    \t[0.1]       \t187\t[1.]\t[0.]\t16    \t[0.3]       \t[8.72317085] \t187\t[9.68486691] \t[8.34714794] \t16    \t[0.33105187]\n",
      "188\t14    \t[0.1]       \t188\t[1.]\t[0.]\t14    \t[0.3]       \t[8.66131544] \t188\t[9.38656807] \t[8.34714794] \t14    \t[0.28029456]\n",
      "189\t17    \t[0.]        \t189\t[0.]\t[0.]\t17    \t[0.]        \t[8.63547099] \t189\t[9.18811035] \t[8.34714794] \t17    \t[0.24916364]\n",
      "190\t17    \t[0.1]       \t190\t[1.]\t[0.]\t17    \t[0.3]       \t[8.59250075] \t190\t[9.39345169] \t[8.34714794] \t17    \t[0.28408884]\n",
      "191\t17    \t[0.13333333]\t191\t[1.]\t[0.]\t17    \t[0.33993463]\t[8.64258604] \t191\t[10.02164459]\t[8.34714794] \t17    \t[0.35304344]\n",
      "192\t17    \t[0.06666667]\t192\t[1.]\t[0.]\t17    \t[0.24944383]\t[8.51711756] \t192\t[9.31732368] \t[8.34714794] \t17    \t[0.22270999]\n",
      "193\t14    \t[0.06666667]\t193\t[1.]\t[0.]\t14    \t[0.24944383]\t[8.54423501] \t193\t[9.18585968] \t[8.34714794] \t14    \t[0.21415826]\n",
      "194\t18    \t[0.13333333]\t194\t[1.]\t[0.]\t18    \t[0.33993463]\t[8.61150096] \t194\t[9.41882324] \t[8.34714794] \t18    \t[0.26944319]\n",
      "195\t20    \t[0.06666667]\t195\t[1.]\t[0.]\t20    \t[0.24944383]\t[8.57682056] \t195\t[9.90922928] \t[8.34714794] \t20    \t[0.32883774]\n",
      "196\t18    \t[0.06666667]\t196\t[1.]\t[0.]\t18    \t[0.24944383]\t[8.50887308] \t196\t[9.05169296] \t[8.34714794] \t18    \t[0.19798859]\n",
      "197\t16    \t[0.06666667]\t197\t[1.]\t[0.]\t16    \t[0.24944383]\t[8.59533526] \t197\t[9.82650948] \t[8.34714794] \t16    \t[0.38596003]\n"
     ]
    },
    {
     "name": "stdout",
     "output_type": "stream",
     "text": [
      "198\t18    \t[0.06666667]\t198\t[1.]\t[0.]\t18    \t[0.24944383]\t[8.5523318]  \t198\t[9.21158028] \t[8.34714794] \t18    \t[0.23708007]\n",
      "199\t16    \t[0.06666667]\t199\t[1.]\t[0.]\t16    \t[0.24944383]\t[8.53645506] \t199\t[9.41027832] \t[8.34714794] \t16    \t[0.27279237]\n",
      "200\t18    \t[0.1]       \t200\t[1.]\t[0.]\t18    \t[0.3]       \t[8.58891255] \t200\t[9.8397131]  \t[8.34714794] \t18    \t[0.32618502]\n",
      "201\t15    \t[0.]        \t201\t[0.]\t[0.]\t15    \t[0.]        \t[8.45216061] \t201\t[9.11340237] \t[8.34714794] \t15    \t[0.17377176]\n",
      "202\t13    \t[0.13333333]\t202\t[1.]\t[0.]\t13    \t[0.33993463]\t[8.47019545] \t202\t[9.06840992] \t[8.34714794] \t13    \t[0.2071642] \n",
      "203\t17    \t[0.06666667]\t203\t[1.]\t[0.]\t17    \t[0.24944383]\t[8.46417637] \t203\t[8.95492458] \t[8.34714794] \t17    \t[0.18331767]\n",
      "204\t17    \t[0.1]       \t204\t[1.]\t[0.]\t17    \t[0.3]       \t[8.50187654] \t204\t[9.10615826] \t[8.28116894] \t17    \t[0.20658664]\n",
      "205\t17    \t[0.03333333]\t205\t[1.]\t[0.]\t17    \t[0.17950549]\t[8.55627673] \t205\t[10.18619823]\t[8.28116894] \t17    \t[0.37400855]\n",
      "206\t19    \t[0.06666667]\t206\t[1.]\t[0.]\t19    \t[0.24944383]\t[8.48888515] \t206\t[8.97685719] \t[8.28116894] \t19    \t[0.19073639]\n",
      "207\t21    \t[0.06666667]\t207\t[1.]\t[0.]\t21    \t[0.24944383]\t[8.54287484] \t207\t[9.93556499] \t[8.28116894] \t21    \t[0.32321288]\n",
      "208\t15    \t[0.03333333]\t208\t[1.]\t[0.]\t15    \t[0.17950549]\t[8.51289158] \t208\t[9.81435013] \t[8.28116894] \t15    \t[0.30276539]\n",
      "209\t19    \t[0.]        \t209\t[0.]\t[0.]\t19    \t[0.]        \t[8.46679907] \t209\t[8.9818821]  \t[8.28116894] \t19    \t[0.18499156]\n",
      "210\t15    \t[0.1]       \t210\t[1.]\t[0.]\t15    \t[0.3]       \t[8.49421002] \t210\t[9.01765633] \t[8.28116894] \t15    \t[0.199043]  \n",
      "211\t24    \t[0.03333333]\t211\t[1.]\t[0.]\t24    \t[0.17950549]\t[8.54978367] \t211\t[8.98286343] \t[8.23609352] \t24    \t[0.20528739]\n",
      "212\t14    \t[0.06666667]\t212\t[1.]\t[0.]\t14    \t[0.24944383]\t[8.48915799] \t212\t[8.90609932] \t[8.28116894] \t14    \t[0.17026879]\n",
      "213\t16    \t[0.1]       \t213\t[1.]\t[0.]\t16    \t[0.3]       \t[8.53027382] \t213\t[9.86198902] \t[8.28116894] \t16    \t[0.31833455]\n",
      "214\t18    \t[0.1]       \t214\t[1.]\t[0.]\t18    \t[0.3]       \t[8.47403482] \t214\t[9.07593155] \t[8.28116894] \t18    \t[0.20774979]\n",
      "215\t20    \t[0.16666667]\t215\t[1.]\t[0.]\t20    \t[0.372678]  \t[8.53016348] \t215\t[9.14031506] \t[8.28116894] \t20    \t[0.2253077] \n",
      "216\t7     \t[0.13333333]\t216\t[1.]\t[0.]\t7     \t[0.33993463]\t[8.47350003] \t216\t[9.93500805] \t[8.28116894] \t7     \t[0.32602446]\n",
      "217\t25    \t[0.1]       \t217\t[1.]\t[0.]\t25    \t[0.3]       \t[8.47746417] \t217\t[9.10560799] \t[8.14422512] \t25    \t[0.21649184]\n",
      "218\t19    \t[0.06666667]\t218\t[1.]\t[0.]\t19    \t[0.24944383]\t[8.49053914] \t218\t[8.85331154] \t[8.14422512] \t19    \t[0.18418119]\n",
      "219\t17    \t[0.06666667]\t219\t[1.]\t[0.]\t17    \t[0.24944383]\t[8.4631986]  \t219\t[9.15295124] \t[8.14422512] \t17    \t[0.22149446]\n",
      "220\t15    \t[0.03333333]\t220\t[1.]\t[0.]\t15    \t[0.17950549]\t[8.44074278] \t220\t[8.92533016] \t[8.24434376] \t15    \t[0.19368083]\n",
      "221\t19    \t[0.06666667]\t221\t[1.]\t[0.]\t19    \t[0.24944383]\t[8.43856824] \t221\t[9.10684395] \t[8.22451305] \t19    \t[0.24521754]\n",
      "222\t15    \t[0.03333333]\t222\t[1.]\t[0.]\t15    \t[0.17950549]\t[8.40990314] \t222\t[9.00109005] \t[8.14035702] \t15    \t[0.21426713]\n",
      "223\t18    \t[0.]        \t223\t[0.]\t[0.]\t18    \t[0.]        \t[8.49515514] \t223\t[10.06729603]\t[8.20567989] \t18    \t[0.42751874]\n",
      "224\t18    \t[0.]        \t224\t[0.]\t[0.]\t18    \t[0.]        \t[8.34723171] \t224\t[8.87650204] \t[8.14035702] \t18    \t[0.1728236] \n",
      "225\t17    \t[0.06666667]\t225\t[1.]\t[0.]\t17    \t[0.24944383]\t[8.37166913] \t225\t[8.97688198] \t[8.14035702] \t17    \t[0.22096531]\n",
      "226\t17    \t[0.1]       \t226\t[1.]\t[0.]\t17    \t[0.3]       \t[8.4488313]  \t226\t[9.81860256] \t[8.14035702] \t17    \t[0.33382787]\n",
      "227\t17    \t[0.06666667]\t227\t[1.]\t[0.]\t17    \t[0.24944383]\t[8.42312133] \t227\t[8.93611526] \t[8.14035702] \t17    \t[0.23484583]\n",
      "228\t15    \t[0.1]       \t228\t[1.]\t[0.]\t15    \t[0.3]       \t[8.38602502] \t228\t[8.99228382] \t[8.14035702] \t15    \t[0.21273074]\n",
      "229\t24    \t[0.23333333]\t229\t[1.]\t[0.]\t24    \t[0.42295258]\t[8.45506598] \t229\t[8.93667507] \t[8.09319973] \t24    \t[0.23911446]\n",
      "230\t19    \t[0.03333333]\t230\t[1.]\t[0.]\t19    \t[0.17950549]\t[8.39483655] \t230\t[9.08270931] \t[8.09319973] \t19    \t[0.24426017]\n",
      "231\t16    \t[0.1]       \t231\t[1.]\t[0.]\t16    \t[0.3]       \t[8.38183835] \t231\t[8.76659584] \t[8.09319973] \t16    \t[0.19956719]\n",
      "232\t17    \t[0.13333333]\t232\t[1.]\t[0.]\t17    \t[0.33993463]\t[8.38918441] \t232\t[9.23880482] \t[8.09319973] \t17    \t[0.28840779]\n",
      "233\t17    \t[0.06666667]\t233\t[1.]\t[0.]\t17    \t[0.24944383]\t[8.37990055] \t233\t[9.43465137] \t[8.09319973] \t17    \t[0.28783791]\n",
      "234\t22    \t[0.03333333]\t234\t[1.]\t[0.]\t22    \t[0.17950549]\t[8.36504367] \t234\t[8.81654549] \t[8.09319973] \t22    \t[0.2125096] \n",
      "235\t23    \t[0.16666667]\t235\t[1.]\t[0.]\t23    \t[0.372678]  \t[8.3907917]  \t235\t[9.06104755] \t[8.09319973] \t23    \t[0.29245136]\n",
      "236\t18    \t[0.1]       \t236\t[1.]\t[0.]\t18    \t[0.3]       \t[8.30885175] \t236\t[9.03872967] \t[8.09319973] \t18    \t[0.26325775]\n",
      "237\t16    \t[0.13333333]\t237\t[1.]\t[0.]\t16    \t[0.33993463]\t[8.31278629] \t237\t[9.4258604]  \t[8.09319973] \t16    \t[0.28146273]\n",
      "238\t20    \t[0.06666667]\t238\t[1.]\t[0.]\t20    \t[0.24944383]\t[8.33776712] \t238\t[9.42304516] \t[8.09319973] \t20    \t[0.2912714] \n",
      "239\t17    \t[0.16666667]\t239\t[1.]\t[0.]\t17    \t[0.372678]  \t[8.37511603] \t239\t[9.73897171] \t[8.09319973] \t17    \t[0.34332652]\n",
      "240\t22    \t[0.03333333]\t240\t[1.]\t[0.]\t22    \t[0.17950549]\t[8.42276986] \t240\t[9.64534378] \t[8.0675993]  \t22    \t[0.4027659] \n",
      "241\t25    \t[0.13333333]\t241\t[1.]\t[0.]\t25    \t[0.33993463]\t[8.31356338] \t241\t[8.88410378] \t[8.0675993]  \t25    \t[0.23544483]\n",
      "242\t23    \t[0.13333333]\t242\t[1.]\t[0.]\t23    \t[0.33993463]\t[8.3332847]  \t242\t[8.98082638] \t[8.0675993]  \t23    \t[0.26871688]\n",
      "243\t19    \t[0.2]       \t243\t[1.]\t[0.]\t19    \t[0.4]       \t[8.33030535] \t243\t[9.65662575] \t[8.0675993]  \t19    \t[0.33918147]\n",
      "244\t23    \t[0.26666667]\t244\t[1.]\t[0.]\t23    \t[0.44221664]\t[8.37438285] \t244\t[9.40565109] \t[8.0675993]  \t23    \t[0.30091615]\n",
      "245\t17    \t[0.26666667]\t245\t[1.]\t[0.]\t17    \t[0.44221664]\t[8.32948217] \t245\t[9.41995907] \t[8.0675993]  \t17    \t[0.27829908]\n",
      "246\t18    \t[0.23333333]\t246\t[1.]\t[0.]\t18    \t[0.42295258]\t[8.32958199] \t246\t[8.80219936] \t[8.029459]   \t18    \t[0.2458462] \n",
      "247\t16    \t[0.23333333]\t247\t[1.]\t[0.]\t16    \t[0.42295258]\t[8.23889132] \t247\t[8.7126646]  \t[8.029459]   \t16    \t[0.22700046]\n",
      "248\t15    \t[0.2]       \t248\t[1.]\t[0.]\t15    \t[0.4]       \t[8.17062553] \t248\t[8.67176342] \t[8.029459]   \t15    \t[0.19350621]\n",
      "249\t15    \t[0.16666667]\t249\t[1.]\t[0.]\t15    \t[0.372678]  \t[8.17648438] \t249\t[9.43937588] \t[7.99678659] \t15    \t[0.27721318]\n",
      "250\t21    \t[0.23333333]\t250\t[1.]\t[0.]\t21    \t[0.42295258]\t[8.20073689] \t250\t[8.62841988] \t[7.99275064] \t21    \t[0.2054161] \n",
      "251\t13    \t[0.23333333]\t251\t[1.]\t[0.]\t13    \t[0.42295258]\t[8.21894716] \t251\t[8.87613106] \t[7.99275064] \t13    \t[0.2551951] \n",
      "252\t18    \t[0.33333333]\t252\t[1.]\t[0.]\t18    \t[0.47140452]\t[8.34453085] \t252\t[9.43970871] \t[7.99275064] \t18    \t[0.350458]  \n",
      "253\t13    \t[0.16666667]\t253\t[1.]\t[0.]\t13    \t[0.372678]  \t[8.17269602] \t253\t[8.73998547] \t[7.99275064] \t13    \t[0.21428751]\n",
      "254\t16    \t[0.16666667]\t254\t[1.]\t[0.]\t16    \t[0.372678]  \t[8.25402684] \t254\t[9.64799023] \t[7.99275064] \t16    \t[0.36563461]\n",
      "255\t17    \t[0.2]       \t255\t[1.]\t[0.]\t17    \t[0.4]       \t[8.21787116] \t255\t[8.68960571] \t[7.97706985] \t17    \t[0.2255584] \n",
      "256\t22    \t[0.2]       \t256\t[1.]\t[0.]\t22    \t[0.4]       \t[8.33087815] \t256\t[9.7919035]  \t[7.97706985] \t22    \t[0.40854207]\n",
      "257\t21    \t[0.26666667]\t257\t[1.]\t[0.]\t21    \t[0.44221664]\t[8.28827278] \t257\t[9.53196144] \t[7.97706985] \t21    \t[0.29857011]\n",
      "258\t17    \t[0.1]       \t258\t[1.]\t[0.]\t17    \t[0.3]       \t[8.24183213] \t258\t[8.8701601]  \t[7.97706985] \t17    \t[0.23818974]\n",
      "259\t19    \t[0.2]       \t259\t[1.]\t[0.]\t19    \t[0.4]       \t[8.22222376] \t259\t[8.81854916] \t[7.97706985] \t19    \t[0.24780825]\n",
      "260\t16    \t[0.23333333]\t260\t[1.]\t[0.]\t16    \t[0.42295258]\t[8.25710484] \t260\t[9.45713711] \t[7.97706985] \t16    \t[0.33963668]\n",
      "261\t20    \t[0.23333333]\t261\t[1.]\t[0.]\t20    \t[0.42295258]\t[8.24273197] \t261\t[9.02192116] \t[7.97706985] \t20    \t[0.26414418]\n",
      "262\t23    \t[0.13333333]\t262\t[1.]\t[0.]\t23    \t[0.33993463]\t[8.34409178] \t262\t[9.45410061] \t[7.97706985] \t23    \t[0.32645079]\n",
      "263\t26    \t[0.06666667]\t263\t[1.]\t[0.]\t26    \t[0.24944383]\t[8.29343084] \t263\t[9.30302334] \t[7.97706985] \t26    \t[0.29915102]\n",
      "264\t15    \t[0.2]       \t264\t[1.]\t[0.]\t15    \t[0.4]       \t[8.2088731]  \t264\t[8.86014843] \t[7.97706985] \t15    \t[0.23087734]\n"
     ]
    },
    {
     "name": "stdout",
     "output_type": "stream",
     "text": [
      "265\t20    \t[0.2]       \t265\t[1.]\t[0.]\t20    \t[0.4]       \t[8.23803746] \t265\t[9.69283772] \t[7.97706985] \t20    \t[0.33176501]\n",
      "266\t19    \t[0.16666667]\t266\t[1.]\t[0.]\t19    \t[0.372678]  \t[8.21381456] \t266\t[8.83798122] \t[7.97706985] \t19    \t[0.1994605] \n",
      "267\t21    \t[0.1]       \t267\t[1.]\t[0.]\t21    \t[0.3]       \t[8.29314558] \t267\t[9.61555099] \t[7.97706985] \t21    \t[0.30080078]\n",
      "268\t15    \t[0.1]       \t268\t[1.]\t[0.]\t15    \t[0.3]       \t[8.2484196]  \t268\t[9.49527359] \t[7.97706985] \t15    \t[0.31673006]\n",
      "269\t17    \t[0.13333333]\t269\t[1.]\t[0.]\t17    \t[0.33993463]\t[8.28044283] \t269\t[9.49847603] \t[7.97706985] \t17    \t[0.34098726]\n",
      "270\t20    \t[0.23333333]\t270\t[1.]\t[0.]\t20    \t[0.42295258]\t[8.29146434] \t270\t[9.49668503] \t[7.97706985] \t20    \t[0.33679877]\n",
      "271\t16    \t[0.13333333]\t271\t[1.]\t[0.]\t16    \t[0.33993463]\t[8.22300704] \t271\t[8.85968685] \t[7.97706985] \t16    \t[0.25380603]\n",
      "272\t17    \t[0.23333333]\t272\t[1.]\t[0.]\t17    \t[0.42295258]\t[8.21865708] \t272\t[8.95412159] \t[7.97417974] \t17    \t[0.27731416]\n",
      "273\t22    \t[0.26666667]\t273\t[1.]\t[0.]\t22    \t[0.44221664]\t[8.27902945] \t273\t[8.91113186] \t[7.97417974] \t22    \t[0.27793905]\n",
      "274\t19    \t[0.16666667]\t274\t[1.]\t[0.]\t19    \t[0.372678]  \t[8.36180204] \t274\t[9.71875191] \t[7.97706985] \t19    \t[0.35287601]\n",
      "275\t18    \t[0.1]       \t275\t[1.]\t[0.]\t18    \t[0.3]       \t[8.38441917] \t275\t[9.50899506] \t[7.96983957] \t18    \t[0.34633111]\n",
      "276\t14    \t[0.06666667]\t276\t[1.]\t[0.]\t14    \t[0.24944383]\t[8.21898979] \t276\t[9.02057362] \t[7.87391043] \t14    \t[0.26401967]\n",
      "277\t18    \t[0.1]       \t277\t[1.]\t[0.]\t18    \t[0.3]       \t[8.21372085] \t277\t[8.70255566] \t[7.87391043] \t18    \t[0.2325054] \n",
      "278\t20    \t[0.13333333]\t278\t[1.]\t[0.]\t20    \t[0.33993463]\t[8.26221533] \t278\t[9.54575729] \t[7.87391043] \t20    \t[0.41091612]\n",
      "279\t18    \t[0.13333333]\t279\t[1.]\t[0.]\t18    \t[0.33993463]\t[8.14069508] \t279\t[8.83425522] \t[7.87391043] \t18    \t[0.24476463]\n",
      "280\t18    \t[0.1]       \t280\t[1.]\t[0.]\t18    \t[0.3]       \t[8.14774618] \t280\t[8.73332119] \t[7.87391043] \t18    \t[0.25931689]\n",
      "281\t18    \t[0.13333333]\t281\t[1.]\t[0.]\t18    \t[0.33993463]\t[8.16886346] \t281\t[8.63889027] \t[7.87978697] \t18    \t[0.22692904]\n",
      "282\t18    \t[0.06666667]\t282\t[1.]\t[0.]\t18    \t[0.24944383]\t[8.12018256] \t282\t[9.60643768] \t[7.77516317] \t18    \t[0.37598784]\n",
      "283\t24    \t[0.23333333]\t283\t[1.]\t[0.]\t24    \t[0.42295258]\t[8.17481211] \t283\t[8.60711575] \t[7.77516317] \t24    \t[0.23388276]\n",
      "284\t17    \t[0.13333333]\t284\t[1.]\t[0.]\t17    \t[0.33993463]\t[8.12334841] \t284\t[9.19250774] \t[7.77516317] \t17    \t[0.27541799]\n",
      "285\t16    \t[0.13333333]\t285\t[1.]\t[0.]\t16    \t[0.33993463]\t[8.0406617]  \t285\t[8.52901649] \t[7.77516317] \t16    \t[0.21477751]\n",
      "286\t20    \t[0.16666667]\t286\t[1.]\t[0.]\t20    \t[0.372678]  \t[8.0382668]  \t286\t[8.71822643] \t[7.77516317] \t20    \t[0.23313648]\n",
      "287\t14    \t[0.06666667]\t287\t[1.]\t[0.]\t14    \t[0.24944383]\t[8.04875592] \t287\t[9.5053854]  \t[7.77516317] \t14    \t[0.33055824]\n",
      "288\t16    \t[0.13333333]\t288\t[1.]\t[0.]\t16    \t[0.33993463]\t[7.97411712] \t288\t[8.52360535] \t[7.77080154] \t16    \t[0.18300853]\n",
      "289\t19    \t[0.23333333]\t289\t[1.]\t[0.]\t19    \t[0.42295258]\t[8.01022313] \t289\t[8.44514942] \t[7.77080154] \t19    \t[0.20462547]\n",
      "290\t19    \t[0.1]       \t290\t[1.]\t[0.]\t19    \t[0.3]       \t[8.06419606] \t290\t[9.31968689] \t[7.74084091] \t19    \t[0.34190041]\n",
      "291\t18    \t[0.13333333]\t291\t[1.]\t[0.]\t18    \t[0.33993463]\t[8.00763582] \t291\t[8.48014736] \t[7.77080154] \t18    \t[0.21325362]\n",
      "292\t12    \t[0.13333333]\t292\t[1.]\t[0.]\t12    \t[0.33993463]\t[7.9561499]  \t292\t[8.49886799] \t[7.77080154] \t12    \t[0.20283265]\n",
      "293\t21    \t[0.13333333]\t293\t[1.]\t[0.]\t21    \t[0.33993463]\t[8.11668887] \t293\t[9.4712286]  \t[7.77080154] \t21    \t[0.34686008]\n",
      "294\t20    \t[0.2]       \t294\t[1.]\t[0.]\t20    \t[0.4]       \t[8.08919689] \t294\t[9.33883858] \t[7.77080154] \t20    \t[0.31762754]\n",
      "295\t20    \t[0.26666667]\t295\t[1.]\t[0.]\t20    \t[0.44221664]\t[8.08939624] \t295\t[9.3299427]  \t[7.77080154] \t20    \t[0.3304092] \n",
      "296\t17    \t[0.23333333]\t296\t[1.]\t[0.]\t17    \t[0.42295258]\t[8.0753809]  \t296\t[9.3821516]  \t[7.77080154] \t17    \t[0.35402944]\n",
      "297\t20    \t[0.1]       \t297\t[1.]\t[0.]\t20    \t[0.3]       \t[8.0595061]  \t297\t[9.4177084]  \t[7.77080154] \t20    \t[0.32127396]\n",
      "298\t16    \t[0.13333333]\t298\t[1.]\t[0.]\t16    \t[0.33993463]\t[8.08672902] \t298\t[9.70805645] \t[7.77080154] \t16    \t[0.40697528]\n",
      "299\t19    \t[0.06666667]\t299\t[1.]\t[0.]\t19    \t[0.24944383]\t[7.96875993] \t299\t[8.41326332] \t[7.77080154] \t19    \t[0.23038178]\n",
      "300\t15    \t[0.06666667]\t300\t[1.]\t[0.]\t15    \t[0.24944383]\t[8.04348604] \t300\t[9.4379797]  \t[7.77080154] \t15    \t[0.41529356]\n",
      "301\t23    \t[0.13333333]\t301\t[1.]\t[0.]\t23    \t[0.33993463]\t[8.01157478] \t301\t[8.54189491] \t[7.77080154] \t23    \t[0.22410303]\n",
      "302\t17    \t[0.2]       \t302\t[1.]\t[0.]\t17    \t[0.4]       \t[8.08299006] \t302\t[8.64471626] \t[7.77080154] \t17    \t[0.26018715]\n",
      "303\t20    \t[0.2]       \t303\t[1.]\t[0.]\t20    \t[0.4]       \t[8.04010634] \t303\t[8.75077248] \t[7.77080154] \t20    \t[0.27004923]\n",
      "304\t18    \t[0.]        \t304\t[0.]\t[0.]\t18    \t[0.]        \t[8.00394762] \t304\t[8.57769012] \t[7.77080154] \t18    \t[0.23489505]\n",
      "305\t18    \t[0.03333333]\t305\t[1.]\t[0.]\t18    \t[0.17950549]\t[8.02152872] \t305\t[9.39206219] \t[7.77080154] \t18    \t[0.33145838]\n",
      "306\t19    \t[0.03333333]\t306\t[1.]\t[0.]\t19    \t[0.17950549]\t[8.08061198] \t306\t[9.24358559] \t[7.77080154] \t19    \t[0.36155072]\n",
      "307\t19    \t[0.06666667]\t307\t[1.]\t[0.]\t19    \t[0.24944383]\t[8.04659853] \t307\t[9.07918549] \t[7.77080154] \t19    \t[0.32634061]\n",
      "308\t16    \t[0.1]       \t308\t[1.]\t[0.]\t16    \t[0.3]       \t[7.96879907] \t308\t[8.44274521] \t[7.77080154] \t16    \t[0.19990897]\n",
      "309\t16    \t[0.06666667]\t309\t[1.]\t[0.]\t16    \t[0.24944383]\t[7.94914101] \t309\t[8.63703918] \t[7.77080154] \t16    \t[0.2267952] \n",
      "310\t13    \t[0.06666667]\t310\t[1.]\t[0.]\t13    \t[0.24944383]\t[7.94047516] \t310\t[8.40728188] \t[7.77080154] \t13    \t[0.19662143]\n",
      "311\t15    \t[0.1]       \t311\t[1.]\t[0.]\t15    \t[0.3]       \t[7.97876827] \t311\t[8.45939827] \t[7.77080154] \t15    \t[0.22154711]\n",
      "312\t11    \t[0.1]       \t312\t[1.]\t[0.]\t11    \t[0.3]       \t[7.92695913] \t312\t[8.43283081] \t[7.77080154] \t11    \t[0.2212767] \n",
      "313\t21    \t[0.03333333]\t313\t[1.]\t[0.]\t21    \t[0.17950549]\t[7.92914952] \t313\t[8.50070381] \t[7.77080154] \t21    \t[0.20707825]\n",
      "314\t22    \t[0.06666667]\t314\t[1.]\t[0.]\t22    \t[0.24944383]\t[8.05620189] \t314\t[8.95273781] \t[7.77080154] \t22    \t[0.31532744]\n",
      "315\t20    \t[0.06666667]\t315\t[1.]\t[0.]\t20    \t[0.24944383]\t[8.00551373] \t315\t[9.34944344] \t[7.77080154] \t20    \t[0.33042321]\n",
      "316\t22    \t[0.1]       \t316\t[1.]\t[0.]\t22    \t[0.3]       \t[8.02930387] \t316\t[8.62334633] \t[7.77080154] \t22    \t[0.26640481]\n",
      "317\t21    \t[0.]        \t317\t[0.]\t[0.]\t21    \t[0.]        \t[8.03229386] \t317\t[8.48088264] \t[7.77080154] \t21    \t[0.23476761]\n",
      "318\t14    \t[0.06666667]\t318\t[1.]\t[0.]\t14    \t[0.24944383]\t[8.04419707] \t318\t[8.69752979] \t[7.77080154] \t14    \t[0.27102801]\n",
      "319\t19    \t[0.03333333]\t319\t[1.]\t[0.]\t19    \t[0.17950549]\t[8.02161463] \t319\t[9.04534817] \t[7.77080154] \t19    \t[0.27259785]\n",
      "320\t23    \t[0.1]       \t320\t[1.]\t[0.]\t23    \t[0.3]       \t[8.19559873] \t320\t[9.22887421] \t[7.77080154] \t23    \t[0.33052249]\n",
      "321\t17    \t[0.06666667]\t321\t[1.]\t[0.]\t17    \t[0.24944383]\t[8.12108283] \t321\t[8.55196762] \t[7.77080154] \t17    \t[0.23837046]\n",
      "322\t17    \t[0.03333333]\t322\t[1.]\t[0.]\t17    \t[0.17950549]\t[8.06335963] \t322\t[8.67478371] \t[7.77080154] \t17    \t[0.23277063]\n",
      "323\t13    \t[0.1]       \t323\t[1.]\t[0.]\t13    \t[0.3]       \t[8.03301395] \t323\t[8.63290882] \t[7.77080154] \t13    \t[0.24433611]\n",
      "324\t18    \t[0.]        \t324\t[0.]\t[0.]\t18    \t[0.]        \t[7.98571585] \t324\t[8.44245338] \t[7.77080154] \t18    \t[0.21531758]\n",
      "325\t16    \t[0.03333333]\t325\t[1.]\t[0.]\t16    \t[0.17950549]\t[7.99874943] \t325\t[8.68929005] \t[7.77080154] \t16    \t[0.24893022]\n",
      "326\t19    \t[0.06666667]\t326\t[1.]\t[0.]\t19    \t[0.24944383]\t[8.02507095] \t326\t[8.53371334] \t[7.77080154] \t19    \t[0.24896365]\n",
      "327\t21    \t[0.06666667]\t327\t[1.]\t[0.]\t21    \t[0.24944383]\t[8.06790309] \t327\t[9.12834072] \t[7.77080154] \t21    \t[0.29065699]\n",
      "328\t14    \t[0.16666667]\t328\t[1.]\t[0.]\t14    \t[0.372678]  \t[7.97589362] \t328\t[8.43377304] \t[7.77080154] \t14    \t[0.21079301]\n",
      "329\t16    \t[0.03333333]\t329\t[1.]\t[0.]\t16    \t[0.17950549]\t[8.05238382] \t329\t[8.72233295] \t[7.77080154] \t16    \t[0.30897959]\n",
      "330\t13    \t[0.03333333]\t330\t[1.]\t[0.]\t13    \t[0.17950549]\t[7.94828213] \t330\t[8.6036396]  \t[7.77080154] \t13    \t[0.24433357]\n",
      "331\t20    \t[0.1]       \t331\t[1.]\t[0.]\t20    \t[0.3]       \t[8.04944787] \t331\t[9.36025906] \t[7.77080154] \t20    \t[0.33148856]\n"
     ]
    },
    {
     "name": "stdout",
     "output_type": "stream",
     "text": [
      "332\t20    \t[0.13333333]\t332\t[1.]\t[0.]\t20    \t[0.33993463]\t[8.01386561] \t332\t[8.48062134] \t[7.77080154] \t20    \t[0.23307553]\n",
      "333\t19    \t[0.1]       \t333\t[1.]\t[0.]\t19    \t[0.3]       \t[8.05669317] \t333\t[8.64934826] \t[7.77080154] \t19    \t[0.27361402]\n",
      "334\t16    \t[0.06666667]\t334\t[1.]\t[0.]\t16    \t[0.24944383]\t[8.01795575] \t334\t[9.37501812] \t[7.77080154] \t16    \t[0.32078875]\n",
      "335\t13    \t[0.]        \t335\t[0.]\t[0.]\t13    \t[0.]        \t[7.97735809] \t335\t[8.42164135] \t[7.77080154] \t13    \t[0.19959145]\n",
      "336\t16    \t[0.06666667]\t336\t[1.]\t[0.]\t16    \t[0.24944383]\t[7.9490212]  \t336\t[8.40833664] \t[7.77080154] \t16    \t[0.21026654]\n",
      "337\t17    \t[0.03333333]\t337\t[1.]\t[0.]\t17    \t[0.17950549]\t[8.02249139] \t337\t[8.59902668] \t[7.77080154] \t17    \t[0.23413354]\n",
      "338\t17    \t[0.03333333]\t338\t[1.]\t[0.]\t17    \t[0.17950549]\t[7.95824059] \t338\t[8.6370697]  \t[7.77080154] \t17    \t[0.23058652]\n",
      "339\t19    \t[0.]        \t339\t[0.]\t[0.]\t19    \t[0.]        \t[7.92082245] \t339\t[8.46834278] \t[7.77080154] \t19    \t[0.2099249] \n",
      "340\t18    \t[0.]        \t340\t[0.]\t[0.]\t18    \t[0.]        \t[8.00804718] \t340\t[8.46737194] \t[7.77080154] \t18    \t[0.24692218]\n",
      "341\t23    \t[0.03333333]\t341\t[1.]\t[0.]\t23    \t[0.17950549]\t[8.10818556] \t341\t[9.34554672] \t[7.69285297] \t23    \t[0.34365334]\n",
      "342\t19    \t[0.03333333]\t342\t[1.]\t[0.]\t19    \t[0.17950549]\t[8.00128458] \t342\t[8.62696362] \t[7.69285297] \t19    \t[0.26437818]\n",
      "343\t17    \t[0.03333333]\t343\t[1.]\t[0.]\t17    \t[0.17950549]\t[8.02628058] \t343\t[9.29220963] \t[7.69285297] \t17    \t[0.34956105]\n",
      "344\t17    \t[0.06666667]\t344\t[1.]\t[0.]\t17    \t[0.24944383]\t[7.87815464] \t344\t[8.40140438] \t[7.69285297] \t17    \t[0.19370648]\n",
      "345\t20    \t[0.1]       \t345\t[1.]\t[0.]\t20    \t[0.3]       \t[7.90334571] \t345\t[9.11368752] \t[7.69285297] \t20    \t[0.29737611]\n",
      "346\t17    \t[0.13333333]\t346\t[1.]\t[0.]\t17    \t[0.33993463]\t[7.96840494] \t346\t[8.52990627] \t[7.69285297] \t17    \t[0.25104878]\n",
      "347\t19    \t[0.13333333]\t347\t[1.]\t[0.]\t19    \t[0.33993463]\t[8.00823344] \t347\t[8.81300545] \t[7.69285297] \t19    \t[0.2960642] \n",
      "348\t11    \t[0.2]       \t348\t[1.]\t[0.]\t11    \t[0.4]       \t[7.91651832] \t348\t[8.4603796]  \t[7.69285297] \t11    \t[0.19582912]\n",
      "349\t15    \t[0.16666667]\t349\t[1.]\t[0.]\t15    \t[0.372678]  \t[7.98718034] \t349\t[8.52002335] \t[7.69285297] \t15    \t[0.24179983]\n",
      "350\t24    \t[0.06666667]\t350\t[1.]\t[0.]\t24    \t[0.24944383]\t[8.02549659] \t350\t[8.54135323] \t[7.69285297] \t24    \t[0.2590948] \n",
      "351\t22    \t[0.2]       \t351\t[1.]\t[0.]\t22    \t[0.4]       \t[8.0975893]  \t351\t[8.84854412] \t[7.69285297] \t22    \t[0.32254485]\n",
      "352\t17    \t[0.16666667]\t352\t[1.]\t[0.]\t17    \t[0.372678]  \t[7.97141749] \t352\t[8.66607857] \t[7.69285297] \t17    \t[0.25720295]\n",
      "353\t16    \t[0.23333333]\t353\t[1.]\t[0.]\t16    \t[0.42295258]\t[8.02981494] \t353\t[9.17370224] \t[7.69285297] \t16    \t[0.31630735]\n",
      "354\t20    \t[0.1]       \t354\t[1.]\t[0.]\t20    \t[0.3]       \t[8.02597971] \t354\t[9.43345261] \t[7.69285297] \t20    \t[0.38193277]\n",
      "355\t18    \t[0.2]       \t355\t[1.]\t[0.]\t18    \t[0.4]       \t[7.97155364] \t355\t[9.53382874] \t[7.69285297] \t18    \t[0.36486235]\n",
      "356\t16    \t[0.26666667]\t356\t[1.]\t[0.]\t16    \t[0.44221664]\t[7.99557428] \t356\t[9.4584446]  \t[7.69285297] \t16    \t[0.36242478]\n",
      "357\t19    \t[0.13333333]\t357\t[1.]\t[0.]\t19    \t[0.33993463]\t[7.93093276] \t357\t[8.37858582] \t[7.69285297] \t19    \t[0.19813305]\n",
      "358\t21    \t[0.1]       \t358\t[1.]\t[0.]\t21    \t[0.3]       \t[8.01036599] \t358\t[8.71393108] \t[7.69285297] \t21    \t[0.2732948] \n",
      "359\t18    \t[0.13333333]\t359\t[1.]\t[0.]\t18    \t[0.33993463]\t[7.97235122] \t359\t[8.39511013] \t[7.69285297] \t18    \t[0.22129897]\n",
      "360\t18    \t[0.1]       \t360\t[1.]\t[0.]\t18    \t[0.3]       \t[7.92150656] \t360\t[8.31864834] \t[7.69285297] \t18    \t[0.18795907]\n",
      "361\t18    \t[0.26666667]\t361\t[1.]\t[0.]\t18    \t[0.44221664]\t[7.94140733] \t361\t[8.58290291] \t[7.69285297] \t18    \t[0.23121063]\n",
      "362\t18    \t[0.13333333]\t362\t[1.]\t[0.]\t18    \t[0.33993463]\t[7.9329037]  \t362\t[8.47220612] \t[7.69285297] \t18    \t[0.27021803]\n",
      "363\t21    \t[0.23333333]\t363\t[1.]\t[0.]\t21    \t[0.42295258]\t[7.98796751] \t363\t[9.13829708] \t[7.69285297] \t21    \t[0.32645304]\n",
      "364\t20    \t[0.16666667]\t364\t[1.]\t[0.]\t20    \t[0.372678]  \t[7.93429812] \t364\t[9.38167191] \t[7.69285297] \t20    \t[0.34077191]\n",
      "365\t19    \t[0.3]       \t365\t[1.]\t[0.]\t19    \t[0.45825757]\t[7.98167512] \t365\t[9.39151478] \t[7.69285297] \t19    \t[0.35146488]\n",
      "366\t17    \t[0.26666667]\t366\t[1.]\t[0.]\t17    \t[0.44221664]\t[8.01925027] \t366\t[9.39548683] \t[7.69112635] \t17    \t[0.44883315]\n",
      "367\t13    \t[0.2]       \t367\t[1.]\t[0.]\t13    \t[0.4]       \t[7.95579856] \t367\t[9.15578938] \t[7.69285297] \t13    \t[0.35742718]\n",
      "368\t18    \t[0.16666667]\t368\t[1.]\t[0.]\t18    \t[0.372678]  \t[7.90765713] \t368\t[8.48769665] \t[7.69285297] \t18    \t[0.24105073]\n",
      "369\t21    \t[0.23333333]\t369\t[1.]\t[0.]\t21    \t[0.42295258]\t[7.99355334] \t369\t[8.87702656] \t[7.69285297] \t21    \t[0.29649436]\n",
      "370\t21    \t[0.13333333]\t370\t[1.]\t[0.]\t21    \t[0.33993463]\t[7.99873589] \t370\t[8.73960018] \t[7.69285297] \t21    \t[0.28185232]\n",
      "371\t16    \t[0.03333333]\t371\t[1.]\t[0.]\t16    \t[0.17950549]\t[8.03070901] \t371\t[9.40296936] \t[7.69285297] \t16    \t[0.38111906]\n",
      "372\t16    \t[0.06666667]\t372\t[1.]\t[0.]\t16    \t[0.24944383]\t[7.95042419] \t372\t[8.67799282] \t[7.69285297] \t16    \t[0.26314777]\n",
      "373\t22    \t[0.16666667]\t373\t[1.]\t[0.]\t22    \t[0.372678]  \t[7.98181113] \t373\t[8.8124733]  \t[7.69285297] \t22    \t[0.29612522]\n",
      "374\t15    \t[0.2]       \t374\t[1.]\t[0.]\t15    \t[0.4]       \t[7.92895287] \t374\t[8.4392004]  \t[7.69285297] \t15    \t[0.24748844]\n",
      "375\t18    \t[0.16666667]\t375\t[1.]\t[0.]\t18    \t[0.372678]  \t[8.01924105] \t375\t[10.05132961]\t[7.69285297] \t18    \t[0.46566113]\n",
      "376\t18    \t[0.1]       \t376\t[1.]\t[0.]\t18    \t[0.3]       \t[7.97929184] \t376\t[9.24394417] \t[7.69285297] \t18    \t[0.33874356]\n",
      "377\t20    \t[0.13333333]\t377\t[1.]\t[0.]\t20    \t[0.33993463]\t[7.97513665] \t377\t[8.43005276] \t[7.69285297] \t20    \t[0.20586491]\n",
      "378\t17    \t[0.13333333]\t378\t[1.]\t[0.]\t17    \t[0.33993463]\t[8.00725854] \t378\t[9.24881268] \t[7.69285297] \t17    \t[0.35137576]\n",
      "379\t20    \t[0.23333333]\t379\t[1.]\t[0.]\t20    \t[0.42295258]\t[8.00202651] \t379\t[8.78915691] \t[7.69285297] \t20    \t[0.32363651]\n",
      "380\t19    \t[0.33333333]\t380\t[1.]\t[0.]\t19    \t[0.47140452]\t[7.99664912] \t380\t[8.65532875] \t[7.69285297] \t19    \t[0.29186054]\n",
      "381\t14    \t[0.1]       \t381\t[1.]\t[0.]\t14    \t[0.3]       \t[7.89483296] \t381\t[8.40385628] \t[7.69285297] \t14    \t[0.21718836]\n",
      "382\t18    \t[0.16666667]\t382\t[1.]\t[0.]\t18    \t[0.372678]  \t[7.90264376] \t382\t[8.59448242] \t[7.69285297] \t18    \t[0.26778181]\n",
      "383\t19    \t[0.16666667]\t383\t[1.]\t[0.]\t19    \t[0.372678]  \t[7.94116783] \t383\t[8.61329365] \t[7.69285297] \t19    \t[0.26467259]\n",
      "384\t20    \t[0.23333333]\t384\t[1.]\t[0.]\t20    \t[0.42295258]\t[7.96973089] \t384\t[8.54345322] \t[7.69285297] \t20    \t[0.21873268]\n",
      "385\t23    \t[0.33333333]\t385\t[1.]\t[0.]\t23    \t[0.47140452]\t[7.96351452] \t385\t[8.41161633] \t[7.69285297] \t23    \t[0.24023521]\n",
      "386\t17    \t[0.26666667]\t386\t[1.]\t[0.]\t17    \t[0.44221664]\t[7.96069274] \t386\t[8.46886063] \t[7.69285297] \t17    \t[0.24212944]\n",
      "387\t22    \t[0.26666667]\t387\t[1.]\t[0.]\t22    \t[0.44221664]\t[8.08674774] \t387\t[9.32618904] \t[7.69285297] \t22    \t[0.36297342]\n",
      "388\t19    \t[0.33333333]\t388\t[1.]\t[0.]\t19    \t[0.47140452]\t[8.09623369] \t388\t[8.90433121] \t[7.69285297] \t19    \t[0.3177805] \n",
      "389\t11    \t[0.16666667]\t389\t[1.]\t[0.]\t11    \t[0.372678]  \t[7.95142883] \t389\t[8.99235725] \t[7.69285297] \t11    \t[0.31477214]\n",
      "390\t21    \t[0.1]       \t390\t[1.]\t[0.]\t21    \t[0.3]       \t[7.91956011] \t390\t[8.69549465] \t[7.69285297] \t21    \t[0.24335913]\n",
      "391\t15    \t[0.13333333]\t391\t[1.]\t[0.]\t15    \t[0.33993463]\t[7.90813357] \t391\t[8.35795307] \t[7.69285297] \t15    \t[0.20909516]\n",
      "392\t19    \t[0.03333333]\t392\t[1.]\t[0.]\t19    \t[0.17950549]\t[7.95443815] \t392\t[8.38301277] \t[7.69285297] \t19    \t[0.22203389]\n",
      "393\t21    \t[0.1]       \t393\t[1.]\t[0.]\t21    \t[0.3]       \t[8.02662023] \t393\t[9.59044552] \t[7.69285297] \t21    \t[0.38242471]\n",
      "394\t20    \t[0.16666667]\t394\t[1.]\t[0.]\t20    \t[0.372678]  \t[8.03465842] \t394\t[8.67779446] \t[7.69285297] \t20    \t[0.32770329]\n",
      "395\t16    \t[0.1]       \t395\t[1.]\t[0.]\t16    \t[0.3]       \t[7.8601663]  \t395\t[8.32001019] \t[7.69285297] \t16    \t[0.1941181] \n",
      "396\t17    \t[0.23333333]\t396\t[1.]\t[0.]\t17    \t[0.42295258]\t[7.94174056] \t396\t[8.48181915] \t[7.69285297] \t17    \t[0.27890664]\n",
      "397\t16    \t[0.16666667]\t397\t[1.]\t[0.]\t16    \t[0.372678]  \t[7.88877344] \t397\t[8.775177]   \t[7.69285297] \t16    \t[0.27306447]\n",
      "398\t19    \t[0.16666667]\t398\t[1.]\t[0.]\t19    \t[0.372678]  \t[7.97934775] \t398\t[9.35241318] \t[7.69285297] \t19    \t[0.35710887]\n"
     ]
    },
    {
     "name": "stdout",
     "output_type": "stream",
     "text": [
      "399\t16    \t[0.1]       \t399\t[1.]\t[0.]\t16    \t[0.3]       \t[7.9456382]  \t399\t[8.43288136] \t[7.69285297] \t16    \t[0.21960751]\n",
      "400\t19    \t[0.2]       \t400\t[1.]\t[0.]\t19    \t[0.4]       \t[7.97677566] \t400\t[8.53680038] \t[7.69285297] \t19    \t[0.2460832] \n",
      "401\t21    \t[0.2]       \t401\t[1.]\t[0.]\t21    \t[0.4]       \t[8.04355801] \t401\t[9.36660671] \t[7.69285297] \t21    \t[0.36615054]\n",
      "402\t17    \t[0.2]       \t402\t[1.]\t[0.]\t17    \t[0.4]       \t[7.90857716] \t402\t[8.54937649] \t[7.69285297] \t17    \t[0.24072448]\n",
      "403\t23    \t[0.13333333]\t403\t[1.]\t[0.]\t23    \t[0.33993463]\t[8.00617878] \t403\t[9.40268898] \t[7.69285297] \t23    \t[0.34007035]\n",
      "404\t14    \t[0.26666667]\t404\t[1.]\t[0.]\t14    \t[0.44221664]\t[7.9027565]  \t404\t[8.42463207] \t[7.69285297] \t14    \t[0.22823529]\n",
      "405\t19    \t[0.3]       \t405\t[1.]\t[0.]\t19    \t[0.45825757]\t[7.93143387] \t405\t[8.52705288] \t[7.69285297] \t19    \t[0.23522993]\n",
      "406\t12    \t[0.4]       \t406\t[1.]\t[0.]\t12    \t[0.48989795]\t[7.89932313] \t406\t[8.40812588] \t[7.69285297] \t12    \t[0.22963901]\n",
      "407\t19    \t[0.26666667]\t407\t[1.]\t[0.]\t19    \t[0.44221664]\t[7.87970454] \t407\t[8.36562729] \t[7.69285297] \t19    \t[0.22890782]\n",
      "408\t15    \t[0.16666667]\t408\t[1.]\t[0.]\t15    \t[0.372678]  \t[7.96585841] \t408\t[9.28275776] \t[7.69285297] \t15    \t[0.3338007] \n",
      "409\t18    \t[0.3]       \t409\t[1.]\t[0.]\t18    \t[0.45825757]\t[7.95772929] \t409\t[8.69032478] \t[7.69285297] \t18    \t[0.29527165]\n",
      "410\t16    \t[0.13333333]\t410\t[1.]\t[0.]\t16    \t[0.33993463]\t[7.91885983] \t410\t[8.54097652] \t[7.69285297] \t16    \t[0.24369992]\n",
      "411\t12    \t[0.13333333]\t411\t[1.]\t[0.]\t12    \t[0.33993463]\t[7.86514974] \t411\t[8.32500839] \t[7.69285297] \t12    \t[0.22544742]\n",
      "412\t19    \t[0.2]       \t412\t[1.]\t[0.]\t19    \t[0.4]       \t[8.05533442] \t412\t[9.43551922] \t[7.69285297] \t19    \t[0.47343804]\n",
      "413\t20    \t[0.13333333]\t413\t[1.]\t[0.]\t20    \t[0.33993463]\t[8.02371397] \t413\t[9.36954212] \t[7.69285297] \t20    \t[0.35649257]\n",
      "414\t18    \t[0.06666667]\t414\t[1.]\t[0.]\t18    \t[0.24944383]\t[7.95033776] \t414\t[9.34507179] \t[7.69285297] \t18    \t[0.32778587]\n",
      "415\t17    \t[0.16666667]\t415\t[1.]\t[0.]\t17    \t[0.372678]  \t[7.95426691] \t415\t[9.0556078]  \t[7.69285297] \t17    \t[0.29959979]\n",
      "416\t24    \t[0.2]       \t416\t[1.]\t[0.]\t24    \t[0.4]       \t[7.97035143] \t416\t[8.45745564] \t[7.69285297] \t24    \t[0.22555578]\n",
      "417\t20    \t[0.13333333]\t417\t[1.]\t[0.]\t20    \t[0.33993463]\t[7.99840651] \t417\t[8.43731689] \t[7.69285297] \t20    \t[0.25420867]\n",
      "418\t22    \t[0.16666667]\t418\t[1.]\t[0.]\t22    \t[0.372678]  \t[8.19189199] \t418\t[9.49875927] \t[7.69285297] \t22    \t[0.46198532]\n",
      "419\t15    \t[0.13333333]\t419\t[1.]\t[0.]\t15    \t[0.33993463]\t[8.01759729] \t419\t[9.32509899] \t[7.69285297] \t15    \t[0.34317202]\n",
      "420\t16    \t[0.06666667]\t420\t[1.]\t[0.]\t16    \t[0.24944383]\t[7.93697842] \t420\t[8.73906136] \t[7.69285297] \t16    \t[0.28084393]\n",
      "421\t6     \t[0.06666667]\t421\t[1.]\t[0.]\t6     \t[0.24944383]\t[7.7818017]  \t421\t[8.41135025] \t[7.69285297] \t6     \t[0.20100946]\n",
      "422\t23    \t[0.1]       \t422\t[1.]\t[0.]\t23    \t[0.3]       \t[7.89365033] \t422\t[9.32649517] \t[7.69160175] \t23    \t[0.3193795] \n",
      "423\t17    \t[0.1]       \t423\t[1.]\t[0.]\t17    \t[0.3]       \t[7.9366967]  \t423\t[8.45641804] \t[7.69160175] \t17    \t[0.2483106] \n",
      "424\t12    \t[0.13333333]\t424\t[1.]\t[0.]\t12    \t[0.33993463]\t[7.89019014] \t424\t[9.24261475] \t[7.69160175] \t12    \t[0.32439943]\n",
      "425\t20    \t[0.03333333]\t425\t[1.]\t[0.]\t20    \t[0.17950549]\t[7.83521848] \t425\t[8.347579]   \t[7.69160175] \t20    \t[0.20565922]\n",
      "426\t23    \t[0.13333333]\t426\t[1.]\t[0.]\t23    \t[0.33993463]\t[7.9400064]  \t426\t[8.58398151] \t[7.69160175] \t23    \t[0.25759768]\n",
      "427\t19    \t[0.16666667]\t427\t[1.]\t[0.]\t19    \t[0.372678]  \t[7.91709414] \t427\t[8.51980114] \t[7.69160175] \t19    \t[0.23196183]\n",
      "428\t24    \t[0.16666667]\t428\t[1.]\t[0.]\t24    \t[0.372678]  \t[7.98257475] \t428\t[9.31995869] \t[7.69160175] \t24    \t[0.32614024]\n",
      "429\t17    \t[0.03333333]\t429\t[1.]\t[0.]\t17    \t[0.17950549]\t[7.96365886] \t429\t[9.32073402] \t[7.69160175] \t17    \t[0.4138361] \n",
      "430\t17    \t[0.1]       \t430\t[1.]\t[0.]\t17    \t[0.3]       \t[7.92232456] \t430\t[9.2422123]  \t[7.69160175] \t17    \t[0.33859439]\n",
      "431\t20    \t[0.1]       \t431\t[1.]\t[0.]\t20    \t[0.3]       \t[7.97769942] \t431\t[9.58462811] \t[7.69160175] \t20    \t[0.44124768]\n",
      "432\t18    \t[0.2]       \t432\t[1.]\t[0.]\t18    \t[0.4]       \t[7.92475416] \t432\t[8.58231544] \t[7.69160175] \t18    \t[0.2437228] \n",
      "433\t15    \t[0.13333333]\t433\t[1.]\t[0.]\t15    \t[0.33993463]\t[7.83770672] \t433\t[8.79242134] \t[7.69160175] \t15    \t[0.24075651]\n",
      "434\t20    \t[0.13333333]\t434\t[1.]\t[0.]\t20    \t[0.33993463]\t[7.97874856] \t434\t[9.72715473] \t[7.69160175] \t20    \t[0.37934452]\n",
      "435\t21    \t[0.23333333]\t435\t[1.]\t[0.]\t21    \t[0.42295258]\t[7.93343978] \t435\t[8.48075771] \t[7.69160175] \t21    \t[0.22033498]\n",
      "436\t19    \t[0.1]       \t436\t[1.]\t[0.]\t19    \t[0.3]       \t[7.96039352] \t436\t[8.35360909] \t[7.69160175] \t19    \t[0.22084466]\n",
      "437\t17    \t[0.1]       \t437\t[1.]\t[0.]\t17    \t[0.3]       \t[7.91218313] \t437\t[8.36527252] \t[7.69160175] \t17    \t[0.20420521]\n",
      "438\t16    \t[0.13333333]\t438\t[1.]\t[0.]\t16    \t[0.33993463]\t[7.94802478] \t438\t[8.43029404] \t[7.69160175] \t16    \t[0.22508106]\n",
      "439\t16    \t[0.1]       \t439\t[1.]\t[0.]\t16    \t[0.3]       \t[7.9688784]  \t439\t[9.27404499] \t[7.69160175] \t16    \t[0.33833701]\n",
      "440\t13    \t[0.1]       \t440\t[1.]\t[0.]\t13    \t[0.3]       \t[7.88884834] \t440\t[8.45322895] \t[7.69160175] \t13    \t[0.19599072]\n",
      "441\t15    \t[0.06666667]\t441\t[1.]\t[0.]\t15    \t[0.24944383]\t[7.91675599] \t441\t[9.45314407] \t[7.69160175] \t15    \t[0.36619129]\n",
      "442\t17    \t[0.03333333]\t442\t[1.]\t[0.]\t17    \t[0.17950549]\t[7.87553811] \t442\t[8.28364277] \t[7.69160175] \t17    \t[0.20855535]\n",
      "443\t19    \t[0.13333333]\t443\t[1.]\t[0.]\t19    \t[0.33993463]\t[7.88876947] \t443\t[8.44534683] \t[7.69160175] \t19    \t[0.21982468]\n",
      "444\t15    \t[0.13333333]\t444\t[1.]\t[0.]\t15    \t[0.33993463]\t[7.85210377] \t444\t[8.75460815] \t[7.69160175] \t15    \t[0.24092367]\n",
      "445\t20    \t[0.13333333]\t445\t[1.]\t[0.]\t20    \t[0.33993463]\t[7.95118119] \t445\t[9.23586655] \t[7.69160175] \t20    \t[0.32212477]\n",
      "446\t18    \t[0.13333333]\t446\t[1.]\t[0.]\t18    \t[0.33993463]\t[7.93108751] \t446\t[8.29408646] \t[7.69160175] \t18    \t[0.20041]   \n",
      "447\t21    \t[0.13333333]\t447\t[1.]\t[0.]\t21    \t[0.33993463]\t[7.96806018] \t447\t[8.65578079] \t[7.69160175] \t21    \t[0.281927]  \n",
      "448\t12    \t[0.1]       \t448\t[1.]\t[0.]\t12    \t[0.3]       \t[7.89822736] \t448\t[8.46642208] \t[7.69160175] \t12    \t[0.23826188]\n",
      "449\t18    \t[0.13333333]\t449\t[1.]\t[0.]\t18    \t[0.33993463]\t[7.89442554] \t449\t[8.44994259] \t[7.69160175] \t18    \t[0.22013838]\n",
      "450\t17    \t[0.1]       \t450\t[1.]\t[0.]\t17    \t[0.3]       \t[7.88680766] \t450\t[8.33020306] \t[7.69160175] \t17    \t[0.18583469]\n",
      "451\t20    \t[0.13333333]\t451\t[1.]\t[0.]\t20    \t[0.33993463]\t[7.91586364] \t451\t[8.29395962] \t[7.69160175] \t20    \t[0.1877784] \n",
      "452\t17    \t[0.13333333]\t452\t[1.]\t[0.]\t17    \t[0.33993463]\t[7.92432016] \t452\t[8.43701363] \t[7.68330097] \t17    \t[0.24893794]\n",
      "453\t23    \t[0.1]       \t453\t[1.]\t[0.]\t23    \t[0.3]       \t[7.93437552] \t453\t[8.31129169] \t[7.68330097] \t23    \t[0.20993887]\n",
      "454\t22    \t[0.06666667]\t454\t[1.]\t[0.]\t22    \t[0.24944383]\t[7.91218119] \t454\t[8.50843525] \t[7.64109659] \t22    \t[0.23386082]\n",
      "455\t18    \t[0.1]       \t455\t[1.]\t[0.]\t18    \t[0.3]       \t[7.901038]   \t455\t[8.32215118] \t[7.64109659] \t18    \t[0.21165211]\n",
      "456\t24    \t[0.06666667]\t456\t[1.]\t[0.]\t24    \t[0.24944383]\t[7.90028481] \t456\t[8.45517349] \t[7.64109659] \t24    \t[0.21277902]\n",
      "457\t12    \t[0.23333333]\t457\t[1.]\t[0.]\t12    \t[0.42295258]\t[7.83491592] \t457\t[8.37606239] \t[7.64109659] \t12    \t[0.2169934] \n",
      "458\t16    \t[0.16666667]\t458\t[1.]\t[0.]\t16    \t[0.372678]  \t[7.92410312] \t458\t[9.28414059] \t[7.64109659] \t16    \t[0.32661471]\n",
      "459\t25    \t[0.23333333]\t459\t[1.]\t[0.]\t25    \t[0.42295258]\t[7.90734062] \t459\t[8.37126541] \t[7.64109659] \t25    \t[0.23996117]\n",
      "460\t20    \t[0.1]       \t460\t[1.]\t[0.]\t20    \t[0.3]       \t[7.89395774] \t460\t[8.36989212] \t[7.64109659] \t20    \t[0.23861139]\n",
      "461\t18    \t[0.13333333]\t461\t[1.]\t[0.]\t18    \t[0.33993463]\t[7.87268016] \t461\t[8.30367279] \t[7.64109659] \t18    \t[0.2397697] \n",
      "462\t15    \t[0.1]       \t462\t[1.]\t[0.]\t15    \t[0.3]       \t[7.81499076] \t462\t[8.38923645] \t[7.64109659] \t15    \t[0.19512313]\n",
      "463\t20    \t[0.13333333]\t463\t[1.]\t[0.]\t20    \t[0.33993463]\t[7.85508114] \t463\t[8.3689518]  \t[7.64109659] \t20    \t[0.24778552]\n",
      "464\t14    \t[0.1]       \t464\t[1.]\t[0.]\t14    \t[0.3]       \t[7.84932332] \t464\t[8.30784607] \t[7.64109659] \t14    \t[0.21872352]\n",
      "465\t15    \t[0.2]       \t465\t[1.]\t[0.]\t15    \t[0.4]       \t[7.78114209] \t465\t[8.42406178] \t[7.64109659] \t15    \t[0.18384928]\n"
     ]
    },
    {
     "name": "stdout",
     "output_type": "stream",
     "text": [
      "466\t21    \t[0.16666667]\t466\t[1.]\t[0.]\t21    \t[0.372678]  \t[7.83270377] \t466\t[8.3340416]  \t[7.64109659] \t21    \t[0.21711417]\n",
      "467\t20    \t[0.13333333]\t467\t[1.]\t[0.]\t20    \t[0.33993463]\t[7.85829132] \t467\t[9.01019478] \t[7.64109659] \t20    \t[0.280745]  \n",
      "468\t18    \t[0.23333333]\t468\t[1.]\t[0.]\t18    \t[0.42295258]\t[7.91499942] \t468\t[8.83006191] \t[7.64109659] \t18    \t[0.28923652]\n",
      "469\t12    \t[0.16666667]\t469\t[1.]\t[0.]\t12    \t[0.372678]  \t[7.85525797] \t469\t[8.7458086]  \t[7.64109659] \t12    \t[0.2887806] \n",
      "470\t18    \t[0.13333333]\t470\t[1.]\t[0.]\t18    \t[0.33993463]\t[7.88290679] \t470\t[8.40625668] \t[7.64109659] \t18    \t[0.22053149]\n",
      "471\t20    \t[0.2]       \t471\t[1.]\t[0.]\t20    \t[0.4]       \t[7.90248772] \t471\t[8.53975296] \t[7.64109659] \t20    \t[0.25275741]\n",
      "472\t24    \t[0.16666667]\t472\t[1.]\t[0.]\t24    \t[0.372678]  \t[7.96495543] \t472\t[9.29035378] \t[7.60794544] \t24    \t[0.35381289]\n",
      "473\t24    \t[0.36666667]\t473\t[1.]\t[0.]\t24    \t[0.48189441]\t[7.90005557] \t473\t[8.56106758] \t[7.64109659] \t24    \t[0.22783985]\n",
      "474\t20    \t[0.3]       \t474\t[1.]\t[0.]\t20    \t[0.45825757]\t[7.9819078]  \t474\t[8.68340492] \t[7.64109659] \t20    \t[0.2768391] \n",
      "475\t20    \t[0.2]       \t475\t[1.]\t[0.]\t20    \t[0.4]       \t[7.98861122] \t475\t[9.30776882] \t[7.64109659] \t20    \t[0.34709252]\n",
      "476\t16    \t[0.2]       \t476\t[1.]\t[0.]\t16    \t[0.4]       \t[7.88675658] \t476\t[8.45232582] \t[7.64109659] \t16    \t[0.22979999]\n",
      "477\t22    \t[0.33333333]\t477\t[1.]\t[0.]\t22    \t[0.47140452]\t[7.91705972] \t477\t[8.3446064]  \t[7.64109659] \t22    \t[0.22829567]\n",
      "478\t23    \t[0.23333333]\t478\t[1.]\t[0.]\t23    \t[0.42295258]\t[7.88530259] \t478\t[8.45348644] \t[7.64109659] \t23    \t[0.22619882]\n",
      "479\t17    \t[0.1]       \t479\t[1.]\t[0.]\t17    \t[0.3]       \t[7.94317336] \t479\t[9.2603941]  \t[7.64109659] \t17    \t[0.39683553]\n",
      "480\t17    \t[0.06666667]\t480\t[1.]\t[0.]\t17    \t[0.24944383]\t[7.8397097]  \t480\t[8.74137306] \t[7.64109659] \t17    \t[0.26163116]\n",
      "481\t15    \t[0.1]       \t481\t[1.]\t[0.]\t15    \t[0.3]       \t[7.86732473] \t481\t[8.53563309] \t[7.64109659] \t15    \t[0.26872235]\n",
      "482\t17    \t[0.2]       \t482\t[1.]\t[0.]\t17    \t[0.4]       \t[7.96232354] \t482\t[9.45251751] \t[7.64109659] \t17    \t[0.41550721]\n",
      "483\t19    \t[0.06666667]\t483\t[1.]\t[0.]\t19    \t[0.24944383]\t[7.83857156] \t483\t[8.17545986] \t[7.64109659] \t19    \t[0.19286277]\n",
      "484\t18    \t[0.26666667]\t484\t[1.]\t[0.]\t18    \t[0.44221664]\t[7.89730749] \t484\t[8.58095741] \t[7.64109659] \t18    \t[0.27231358]\n",
      "485\t20    \t[0.16666667]\t485\t[1.]\t[0.]\t20    \t[0.372678]  \t[7.92643236] \t485\t[8.76952553] \t[7.64109659] \t20    \t[0.33713628]\n",
      "486\t19    \t[0.1]       \t486\t[1.]\t[0.]\t19    \t[0.3]       \t[7.85312618] \t486\t[8.38345242] \t[7.64109659] \t19    \t[0.2414848] \n",
      "487\t20    \t[0.2]       \t487\t[1.]\t[0.]\t20    \t[0.4]       \t[7.9718835]  \t487\t[9.41413116] \t[7.64109659] \t20    \t[0.37265047]\n",
      "488\t19    \t[0.2]       \t488\t[1.]\t[0.]\t19    \t[0.4]       \t[7.92802615] \t488\t[8.74492836] \t[7.64109659] \t19    \t[0.30275759]\n",
      "489\t18    \t[0.33333333]\t489\t[1.]\t[0.]\t18    \t[0.47140452]\t[8.00470936] \t489\t[9.02189064] \t[7.64109659] \t18    \t[0.31230544]\n",
      "490\t23    \t[0.2]       \t490\t[1.]\t[0.]\t23    \t[0.4]       \t[8.0624402]  \t490\t[9.07536507] \t[7.64109659] \t23    \t[0.33302607]\n",
      "491\t18    \t[0.1]       \t491\t[1.]\t[0.]\t18    \t[0.3]       \t[7.98270248] \t491\t[8.78700733] \t[7.64109659] \t18    \t[0.3045358] \n",
      "492\t20    \t[0.13333333]\t492\t[1.]\t[0.]\t20    \t[0.33993463]\t[7.95255084] \t492\t[9.67689037] \t[7.64109659] \t20    \t[0.40393657]\n",
      "493\t20    \t[0.2]       \t493\t[1.]\t[0.]\t20    \t[0.4]       \t[7.91973338] \t493\t[9.48561382] \t[7.64109659] \t20    \t[0.36758525]\n",
      "494\t21    \t[0.1]       \t494\t[1.]\t[0.]\t21    \t[0.3]       \t[7.99603794] \t494\t[9.27990723] \t[7.64109659] \t21    \t[0.40911825]\n",
      "495\t16    \t[0.16666667]\t495\t[1.]\t[0.]\t16    \t[0.372678]  \t[7.83064679] \t495\t[8.42021942] \t[7.64109659] \t16    \t[0.21499387]\n",
      "496\t17    \t[0.2]       \t496\t[1.]\t[0.]\t17    \t[0.4]       \t[7.89683986] \t496\t[8.48806763] \t[7.64109659] \t17    \t[0.26884363]\n",
      "497\t20    \t[0.1]       \t497\t[1.]\t[0.]\t20    \t[0.3]       \t[7.96228606] \t497\t[9.27783871] \t[7.64109659] \t20    \t[0.33726634]\n",
      "498\t18    \t[0.06666667]\t498\t[1.]\t[0.]\t18    \t[0.24944383]\t[7.94102764] \t498\t[8.37150192] \t[7.64109659] \t18    \t[0.25279013]\n",
      "499\t13    \t[0.16666667]\t499\t[1.]\t[0.]\t13    \t[0.372678]  \t[7.82845243] \t499\t[8.2907095]  \t[7.64109659] \t13    \t[0.21497611]\n",
      "500\t19    \t[0.2]       \t500\t[1.]\t[0.]\t19    \t[0.4]       \t[7.79931194] \t500\t[8.17291927] \t[7.64109659] \t19    \t[0.18019754]\n",
      "501\t15    \t[0.2]       \t501\t[1.]\t[0.]\t15    \t[0.4]       \t[7.80432792] \t501\t[8.22665405] \t[7.64109659] \t15    \t[0.17993266]\n",
      "502\t17    \t[0.1]       \t502\t[1.]\t[0.]\t17    \t[0.3]       \t[7.86239157] \t502\t[8.56430244] \t[7.64109659] \t17    \t[0.25302589]\n",
      "503\t24    \t[0.2]       \t503\t[1.]\t[0.]\t24    \t[0.4]       \t[7.89396097] \t503\t[8.48700714] \t[7.64109659] \t24    \t[0.27697416]\n",
      "504\t22    \t[0.13333333]\t504\t[1.]\t[0.]\t22    \t[0.33993463]\t[7.91848907] \t504\t[9.37994862] \t[7.64109659] \t22    \t[0.35339739]\n",
      "505\t19    \t[0.13333333]\t505\t[1.]\t[0.]\t19    \t[0.33993463]\t[7.93081223] \t505\t[9.40730953] \t[7.64109659] \t19    \t[0.35109404]\n",
      "506\t21    \t[0.2]       \t506\t[1.]\t[0.]\t21    \t[0.4]       \t[8.03914933] \t506\t[9.26400375] \t[7.64109659] \t21    \t[0.39722874]\n",
      "507\t19    \t[0.1]       \t507\t[1.]\t[0.]\t19    \t[0.3]       \t[7.91313672] \t507\t[8.57954121] \t[7.64109659] \t19    \t[0.25990183]\n",
      "508\t17    \t[0.2]       \t508\t[1.]\t[0.]\t17    \t[0.4]       \t[7.89489706] \t508\t[9.28188038] \t[7.64109659] \t17    \t[0.34830217]\n",
      "509\t19    \t[0.1]       \t509\t[1.]\t[0.]\t19    \t[0.3]       \t[7.85830296] \t509\t[8.4426136]  \t[7.64109659] \t19    \t[0.20785961]\n",
      "510\t21    \t[0.23333333]\t510\t[1.]\t[0.]\t21    \t[0.42295258]\t[7.85310586] \t510\t[8.4882803]  \t[7.64109659] \t21    \t[0.20927238]\n",
      "511\t14    \t[0.06666667]\t511\t[1.]\t[0.]\t14    \t[0.24944383]\t[7.86493587] \t511\t[8.51653767] \t[7.64109659] \t14    \t[0.24697262]\n",
      "512\t17    \t[0.1]       \t512\t[1.]\t[0.]\t17    \t[0.3]       \t[7.86702595] \t512\t[9.27399063] \t[7.64109659] \t17    \t[0.33310329]\n",
      "513\t18    \t[0.16666667]\t513\t[1.]\t[0.]\t18    \t[0.372678]  \t[7.94636952] \t513\t[9.3034687]  \t[7.64109659] \t18    \t[0.41893699]\n",
      "514\t19    \t[0.13333333]\t514\t[1.]\t[0.]\t19    \t[0.33993463]\t[7.87800705] \t514\t[9.27646542] \t[7.64109659] \t19    \t[0.34350451]\n",
      "515\t20    \t[0.06666667]\t515\t[1.]\t[0.]\t20    \t[0.24944383]\t[7.80130553] \t515\t[8.49034882] \t[7.64109659] \t20    \t[0.2062771] \n",
      "516\t16    \t[0.06666667]\t516\t[1.]\t[0.]\t16    \t[0.24944383]\t[7.82115234] \t516\t[8.39856339] \t[7.60646009] \t16    \t[0.21311048]\n",
      "517\t25    \t[0.13333333]\t517\t[1.]\t[0.]\t25    \t[0.33993463]\t[7.89663188] \t517\t[8.43631649] \t[7.60646009] \t25    \t[0.22463703]\n",
      "518\t17    \t[0.16666667]\t518\t[1.]\t[0.]\t17    \t[0.372678]  \t[7.93910483] \t518\t[9.85116005] \t[7.60646009] \t17    \t[0.41822553]\n",
      "519\t14    \t[0.13333333]\t519\t[1.]\t[0.]\t14    \t[0.33993463]\t[7.95994929] \t519\t[9.04507351] \t[7.60646009] \t14    \t[0.30853022]\n",
      "520\t19    \t[0.06666667]\t520\t[1.]\t[0.]\t19    \t[0.24944383]\t[7.92692428] \t520\t[9.67372322] \t[7.60646009] \t19    \t[0.40292976]\n",
      "521\t11    \t[0.03333333]\t521\t[1.]\t[0.]\t11    \t[0.17950549]\t[7.80395295] \t521\t[8.41796112] \t[7.60646009] \t11    \t[0.20184541]\n",
      "522\t18    \t[0.16666667]\t522\t[1.]\t[0.]\t18    \t[0.372678]  \t[7.82572316] \t522\t[8.41672039] \t[7.60646009] \t18    \t[0.20748434]\n",
      "523\t18    \t[0.16666667]\t523\t[1.]\t[0.]\t18    \t[0.372678]  \t[7.92929595] \t523\t[8.94116497] \t[7.60646009] \t18    \t[0.29988857]\n",
      "524\t18    \t[0.36666667]\t524\t[1.]\t[0.]\t18    \t[0.48189441]\t[8.02918889] \t524\t[9.63943958] \t[7.60646009] \t18    \t[0.37770876]\n",
      "525\t23    \t[0.4]       \t525\t[1.]\t[0.]\t23    \t[0.48989795]\t[8.04335588] \t525\t[9.5153532]  \t[7.60646009] \t23    \t[0.34022068]\n",
      "526\t20    \t[0.33333333]\t526\t[1.]\t[0.]\t20    \t[0.47140452]\t[8.00925816] \t526\t[9.46512032] \t[7.73136282] \t20    \t[0.33648495]\n",
      "527\t20    \t[0.3]       \t527\t[1.]\t[0.]\t20    \t[0.45825757]\t[8.0575278]  \t527\t[9.48988247] \t[7.60646009] \t20    \t[0.36092504]\n",
      "528\t18    \t[0.3]       \t528\t[1.]\t[0.]\t18    \t[0.45825757]\t[8.04318159] \t528\t[8.6886816]  \t[7.60646009] \t18    \t[0.26892669]\n",
      "529\t12    \t[0.06666667]\t529\t[1.]\t[0.]\t12    \t[0.24944383]\t[7.89375645] \t529\t[8.66642952] \t[7.60646009] \t12    \t[0.25649161]\n",
      "530\t21    \t[0.2]       \t530\t[1.]\t[0.]\t21    \t[0.4]       \t[7.96575033] \t530\t[9.2029953]  \t[7.60646009] \t21    \t[0.34568213]\n",
      "531\t16    \t[0.16666667]\t531\t[1.]\t[0.]\t16    \t[0.372678]  \t[7.96055875] \t531\t[9.45265198] \t[7.60646009] \t16    \t[0.35350871]\n",
      "532\t18    \t[0.26666667]\t532\t[1.]\t[0.]\t18    \t[0.44221664]\t[7.85992861] \t532\t[8.44412422] \t[7.60646009] \t18    \t[0.21202084]\n"
     ]
    },
    {
     "name": "stdout",
     "output_type": "stream",
     "text": [
      "533\t18    \t[0.3]       \t533\t[1.]\t[0.]\t18    \t[0.45825757]\t[7.94758848] \t533\t[9.43263912] \t[7.60646009] \t18    \t[0.35978013]\n",
      "534\t16    \t[0.3]       \t534\t[1.]\t[0.]\t16    \t[0.45825757]\t[7.91914865] \t534\t[8.55885792] \t[7.60646009] \t16    \t[0.29122903]\n",
      "535\t15    \t[0.2]       \t535\t[1.]\t[0.]\t15    \t[0.4]       \t[7.83733376] \t535\t[8.29778004] \t[7.60646009] \t15    \t[0.21961214]\n",
      "536\t14    \t[0.2]       \t536\t[1.]\t[0.]\t14    \t[0.4]       \t[7.81246781] \t536\t[8.54227352] \t[7.60646009] \t14    \t[0.23019459]\n",
      "537\t18    \t[0.2]       \t537\t[1.]\t[0.]\t18    \t[0.4]       \t[7.81165702] \t537\t[8.25465298] \t[7.60646009] \t18    \t[0.2010069] \n",
      "538\t13    \t[0.03333333]\t538\t[1.]\t[0.]\t13    \t[0.17950549]\t[7.807689]   \t538\t[9.21117306] \t[7.60646009] \t13    \t[0.30427368]\n",
      "539\t20    \t[0.13333333]\t539\t[1.]\t[0.]\t20    \t[0.33993463]\t[7.92066382] \t539\t[9.32334614] \t[7.60646009] \t20    \t[0.41749947]\n",
      "540\t22    \t[0.2]       \t540\t[1.]\t[0.]\t22    \t[0.4]       \t[7.92605769] \t540\t[8.28583431] \t[7.60646009] \t22    \t[0.20907116]\n",
      "541\t19    \t[0.13333333]\t541\t[1.]\t[0.]\t19    \t[0.33993463]\t[7.9663218]  \t541\t[8.71105194] \t[7.60646009] \t19    \t[0.26646971]\n",
      "542\t20    \t[0.26666667]\t542\t[1.]\t[0.]\t20    \t[0.44221664]\t[7.91785491] \t542\t[8.53975105] \t[7.60646009] \t20    \t[0.274945]  \n",
      "543\t15    \t[0.23333333]\t543\t[1.]\t[0.]\t15    \t[0.42295258]\t[7.84191297] \t543\t[8.23797512] \t[7.60646009] \t15    \t[0.22672962]\n",
      "544\t16    \t[0.2]       \t544\t[1.]\t[0.]\t16    \t[0.4]       \t[7.84459294] \t544\t[8.31253815] \t[7.60646009] \t16    \t[0.20458011]\n",
      "545\t17    \t[0.26666667]\t545\t[1.]\t[0.]\t17    \t[0.44221664]\t[7.83837318] \t545\t[8.11230373] \t[7.60646009] \t17    \t[0.16339974]\n",
      "546\t18    \t[0.3]       \t546\t[1.]\t[0.]\t18    \t[0.45825757]\t[7.88516633] \t546\t[8.39390564] \t[7.60646009] \t18    \t[0.24433231]\n",
      "547\t21    \t[0.36666667]\t547\t[1.]\t[0.]\t21    \t[0.48189441]\t[7.96344393] \t547\t[9.7431736]  \t[7.60646009] \t21    \t[0.3997667] \n",
      "548\t22    \t[0.26666667]\t548\t[1.]\t[0.]\t22    \t[0.44221664]\t[7.83232579] \t548\t[8.63434792] \t[7.60646009] \t22    \t[0.24637088]\n",
      "549\t19    \t[0.23333333]\t549\t[1.]\t[0.]\t19    \t[0.42295258]\t[7.88102835] \t549\t[8.26386547] \t[7.60646009] \t19    \t[0.20023945]\n",
      "550\t20    \t[0.36666667]\t550\t[1.]\t[0.]\t20    \t[0.48189441]\t[7.90453785] \t550\t[8.57153606] \t[7.60646009] \t20    \t[0.2445924] \n",
      "551\t18    \t[0.33333333]\t551\t[1.]\t[0.]\t18    \t[0.47140452]\t[7.90138356] \t551\t[8.431427]   \t[7.60646009] \t18    \t[0.22701913]\n",
      "552\t17    \t[0.23333333]\t552\t[1.]\t[0.]\t17    \t[0.42295258]\t[7.89827809] \t552\t[8.3905735]  \t[7.60646009] \t17    \t[0.20818701]\n",
      "553\t16    \t[0.23333333]\t553\t[1.]\t[0.]\t16    \t[0.42295258]\t[7.97269359] \t553\t[9.47931576] \t[7.60646009] \t16    \t[0.38148059]\n",
      "554\t14    \t[0.2]       \t554\t[1.]\t[0.]\t14    \t[0.4]       \t[7.83121362] \t554\t[8.41701698] \t[7.60646009] \t14    \t[0.22790702]\n",
      "555\t18    \t[0.26666667]\t555\t[1.]\t[0.]\t18    \t[0.44221664]\t[7.92068521] \t555\t[9.27640438] \t[7.60646009] \t18    \t[0.39776876]\n",
      "556\t17    \t[0.16666667]\t556\t[1.]\t[0.]\t17    \t[0.372678]  \t[7.84625885] \t556\t[8.40194607] \t[7.60646009] \t17    \t[0.22279876]\n",
      "557\t20    \t[0.2]       \t557\t[1.]\t[0.]\t20    \t[0.4]       \t[7.9487312]  \t557\t[9.23020363] \t[7.60646009] \t20    \t[0.34668871]\n",
      "558\t19    \t[0.13333333]\t558\t[1.]\t[0.]\t19    \t[0.33993463]\t[7.8684104]  \t558\t[8.56247711] \t[7.60646009] \t19    \t[0.250699]  \n",
      "559\t22    \t[0.06666667]\t559\t[1.]\t[0.]\t22    \t[0.24944383]\t[7.83264109] \t559\t[8.28739071] \t[7.60646009] \t22    \t[0.22401542]\n",
      "560\t15    \t[0.16666667]\t560\t[1.]\t[0.]\t15    \t[0.372678]  \t[7.89950407] \t560\t[8.40874004] \t[7.60646009] \t15    \t[0.25992073]\n",
      "561\t21    \t[0.26666667]\t561\t[1.]\t[0.]\t21    \t[0.44221664]\t[7.84467053] \t561\t[8.71104145] \t[7.60646009] \t21    \t[0.26302764]\n",
      "562\t14    \t[0.26666667]\t562\t[1.]\t[0.]\t14    \t[0.44221664]\t[7.81306197] \t562\t[8.17030239] \t[7.60646009] \t14    \t[0.20474041]\n",
      "563\t20    \t[0.06666667]\t563\t[1.]\t[0.]\t20    \t[0.24944383]\t[7.8497275]  \t563\t[8.31865597] \t[7.60646009] \t20    \t[0.22724994]\n",
      "564\t17    \t[0.16666667]\t564\t[1.]\t[0.]\t17    \t[0.372678]  \t[7.89896102] \t564\t[8.38402557] \t[7.60646009] \t17    \t[0.25740169]\n",
      "565\t19    \t[0.2]       \t565\t[1.]\t[0.]\t19    \t[0.4]       \t[7.92653135] \t565\t[8.68452168] \t[7.60646009] \t19    \t[0.27225982]\n",
      "566\t16    \t[0.13333333]\t566\t[1.]\t[0.]\t16    \t[0.33993463]\t[7.87290643] \t566\t[8.47734833] \t[7.60646009] \t16    \t[0.27485989]\n",
      "567\t15    \t[0.2]       \t567\t[1.]\t[0.]\t15    \t[0.4]       \t[7.86104218] \t567\t[8.49158001] \t[7.60646009] \t15    \t[0.26915981]\n",
      "568\t21    \t[0.1]       \t568\t[1.]\t[0.]\t21    \t[0.3]       \t[7.9134861]  \t568\t[9.24818325] \t[7.60646009] \t21    \t[0.31836281]\n",
      "569\t16    \t[0.23333333]\t569\t[1.]\t[0.]\t16    \t[0.42295258]\t[7.88294861] \t569\t[8.74451637] \t[7.60646009] \t16    \t[0.29934138]\n",
      "570\t19    \t[0.23333333]\t570\t[1.]\t[0.]\t19    \t[0.42295258]\t[7.81624848] \t570\t[8.21809006] \t[7.60646009] \t19    \t[0.20769438]\n",
      "571\t15    \t[0.3]       \t571\t[1.]\t[0.]\t15    \t[0.45825757]\t[7.8154544]  \t571\t[8.30959606] \t[7.60646009] \t15    \t[0.22951448]\n",
      "572\t17    \t[0.26666667]\t572\t[1.]\t[0.]\t17    \t[0.44221664]\t[7.82966673] \t572\t[8.34161568] \t[7.60646009] \t17    \t[0.2338018] \n",
      "573\t19    \t[0.2]       \t573\t[1.]\t[0.]\t19    \t[0.4]       \t[7.917348]   \t573\t[9.22885036] \t[7.60646009] \t19    \t[0.33705699]\n",
      "574\t16    \t[0.16666667]\t574\t[1.]\t[0.]\t16    \t[0.372678]  \t[7.88106445] \t574\t[8.46202755] \t[7.60646009] \t16    \t[0.26598104]\n",
      "575\t23    \t[0.4]       \t575\t[1.]\t[0.]\t23    \t[0.48989795]\t[7.89158897] \t575\t[8.34327126] \t[7.60646009] \t23    \t[0.22577285]\n",
      "576\t24    \t[0.26666667]\t576\t[1.]\t[0.]\t24    \t[0.44221664]\t[7.8982409]  \t576\t[8.33520126] \t[7.60646009] \t24    \t[0.23432303]\n",
      "577\t19    \t[0.16666667]\t577\t[1.]\t[0.]\t19    \t[0.372678]  \t[7.83579322] \t577\t[8.23790646] \t[7.60646009] \t19    \t[0.20349904]\n",
      "578\t23    \t[0.2]       \t578\t[1.]\t[0.]\t23    \t[0.4]       \t[7.95233126] \t578\t[9.19314289] \t[7.60646009] \t23    \t[0.33306807]\n",
      "579\t23    \t[0.23333333]\t579\t[1.]\t[0.]\t23    \t[0.42295258]\t[7.98883524] \t579\t[8.62075996] \t[7.60646009] \t23    \t[0.27692529]\n",
      "580\t24    \t[0.23333333]\t580\t[1.]\t[0.]\t24    \t[0.42295258]\t[7.99644415] \t580\t[8.47072983] \t[7.60646009] \t24    \t[0.26075402]\n",
      "581\t14    \t[0.16666667]\t581\t[1.]\t[0.]\t14    \t[0.372678]  \t[7.89137381] \t581\t[8.55839539] \t[7.60646009] \t14    \t[0.24156306]\n",
      "582\t17    \t[0.26666667]\t582\t[1.]\t[0.]\t17    \t[0.44221664]\t[7.92401889] \t582\t[8.50227642] \t[7.60646009] \t17    \t[0.25017997]\n",
      "583\t16    \t[0.13333333]\t583\t[1.]\t[0.]\t16    \t[0.33993463]\t[7.86252429] \t583\t[8.55961132] \t[7.60646009] \t16    \t[0.27480732]\n",
      "584\t20    \t[0.06666667]\t584\t[1.]\t[0.]\t20    \t[0.24944383]\t[7.8719058]  \t584\t[8.56972694] \t[7.60646009] \t20    \t[0.2502905] \n",
      "585\t20    \t[0.23333333]\t585\t[1.]\t[0.]\t20    \t[0.42295258]\t[7.95719775] \t585\t[9.23483181] \t[7.60646009] \t20    \t[0.34820252]\n",
      "586\t15    \t[0.13333333]\t586\t[1.]\t[0.]\t15    \t[0.33993463]\t[7.91229965] \t586\t[8.71122646] \t[7.60646009] \t15    \t[0.27450897]\n",
      "587\t19    \t[0.16666667]\t587\t[1.]\t[0.]\t19    \t[0.372678]  \t[7.9888958]  \t587\t[9.15766811] \t[7.60646009] \t19    \t[0.38188416]\n",
      "588\t16    \t[0.23333333]\t588\t[1.]\t[0.]\t16    \t[0.42295258]\t[7.90353101] \t588\t[8.59376144] \t[7.60646009] \t16    \t[0.2642626] \n",
      "589\t13    \t[0.2]       \t589\t[1.]\t[0.]\t13    \t[0.4]       \t[7.86774411] \t589\t[8.55669594] \t[7.60646009] \t13    \t[0.25808392]\n",
      "590\t19    \t[0.23333333]\t590\t[1.]\t[0.]\t19    \t[0.42295258]\t[7.87873697] \t590\t[8.45624161] \t[7.60646009] \t19    \t[0.27058003]\n",
      "591\t13    \t[0.06666667]\t591\t[1.]\t[0.]\t13    \t[0.24944383]\t[7.81709677] \t591\t[9.70991135] \t[7.60646009] \t13    \t[0.40711165]\n",
      "592\t18    \t[0.13333333]\t592\t[1.]\t[0.]\t18    \t[0.33993463]\t[7.86160544] \t592\t[9.18935394] \t[7.60646009] \t18    \t[0.39162424]\n",
      "593\t17    \t[0.13333333]\t593\t[1.]\t[0.]\t17    \t[0.33993463]\t[7.80741833] \t593\t[8.27566051] \t[7.60646009] \t17    \t[0.22694735]\n",
      "594\t21    \t[0.26666667]\t594\t[1.]\t[0.]\t21    \t[0.44221664]\t[7.91213053] \t594\t[9.21013832] \t[7.60646009] \t21    \t[0.32103258]\n",
      "595\t20    \t[0.23333333]\t595\t[1.]\t[0.]\t20    \t[0.42295258]\t[7.93746484] \t595\t[8.65593243] \t[7.60646009] \t20    \t[0.29986042]\n",
      "596\t18    \t[0.2]       \t596\t[1.]\t[0.]\t18    \t[0.4]       \t[7.83410126] \t596\t[8.23963356] \t[7.60646009] \t18    \t[0.20891701]\n",
      "597\t19    \t[0.1]       \t597\t[1.]\t[0.]\t19    \t[0.3]       \t[7.87979913] \t597\t[8.54567146] \t[7.60646009] \t19    \t[0.25137992]\n",
      "598\t14    \t[0.06666667]\t598\t[1.]\t[0.]\t14    \t[0.24944383]\t[7.83569473] \t598\t[8.26167965] \t[7.60646009] \t14    \t[0.23182723]\n",
      "599\t19    \t[0.16666667]\t599\t[1.]\t[0.]\t19    \t[0.372678]  \t[7.96910397] \t599\t[8.91952896] \t[7.60646009] \t19    \t[0.36352165]\n"
     ]
    },
    {
     "name": "stdout",
     "output_type": "stream",
     "text": [
      "600\t17    \t[0.26666667]\t600\t[1.]\t[0.]\t17    \t[0.44221664]\t[7.91500978] \t600\t[8.6955719]  \t[7.60646009] \t17    \t[0.30617441]\n",
      "601\t20    \t[0.26666667]\t601\t[1.]\t[0.]\t20    \t[0.44221664]\t[7.89245456] \t601\t[9.26690865] \t[7.60646009] \t20    \t[0.34511332]\n",
      "602\t12    \t[0.2]       \t602\t[1.]\t[0.]\t12    \t[0.4]       \t[7.81714597] \t602\t[8.56112862] \t[7.60646009] \t12    \t[0.23963513]\n",
      "603\t19    \t[0.23333333]\t603\t[1.]\t[0.]\t19    \t[0.42295258]\t[7.79172762] \t603\t[8.93714905] \t[7.60646009] \t19    \t[0.29184326]\n",
      "604\t15    \t[0.23333333]\t604\t[1.]\t[0.]\t15    \t[0.42295258]\t[7.79689309] \t604\t[8.34101391] \t[7.60646009] \t15    \t[0.23468849]\n",
      "605\t16    \t[0.16666667]\t605\t[1.]\t[0.]\t16    \t[0.372678]  \t[7.79154002] \t605\t[8.30022144] \t[7.60646009] \t16    \t[0.21747301]\n",
      "606\t18    \t[0.13333333]\t606\t[1.]\t[0.]\t18    \t[0.33993463]\t[7.77471425] \t606\t[8.27379131] \t[7.60646009] \t18    \t[0.22703132]\n",
      "607\t14    \t[0.13333333]\t607\t[1.]\t[0.]\t14    \t[0.33993463]\t[7.80131043] \t607\t[8.41177559] \t[7.60646009] \t14    \t[0.2682249] \n",
      "608\t20    \t[0.13333333]\t608\t[1.]\t[0.]\t20    \t[0.33993463]\t[7.85494477] \t608\t[8.3547945]  \t[7.60646009] \t20    \t[0.26695952]\n",
      "609\t22    \t[0.26666667]\t609\t[1.]\t[0.]\t22    \t[0.44221664]\t[7.92340055] \t609\t[8.24133205] \t[7.60646009] \t22    \t[0.2424792] \n",
      "610\t20    \t[0.16666667]\t610\t[1.]\t[0.]\t20    \t[0.372678]  \t[7.87718995] \t610\t[8.59516811] \t[7.60646009] \t20    \t[0.28993397]\n",
      "611\t18    \t[0.03333333]\t611\t[1.]\t[0.]\t18    \t[0.17950549]\t[7.80131089] \t611\t[9.2895937]  \t[7.60646009] \t18    \t[0.32884372]\n",
      "612\t16    \t[0.16666667]\t612\t[1.]\t[0.]\t16    \t[0.372678]  \t[7.79398667] \t612\t[8.13338947] \t[7.60646009] \t16    \t[0.18042599]\n",
      "613\t19    \t[0.23333333]\t613\t[1.]\t[0.]\t19    \t[0.42295258]\t[7.8307003]  \t613\t[8.30882645] \t[7.60646009] \t19    \t[0.22041313]\n",
      "614\t22    \t[0.23333333]\t614\t[1.]\t[0.]\t22    \t[0.42295258]\t[7.95840001] \t614\t[9.62792873] \t[7.60646009] \t22    \t[0.45748338]\n",
      "615\t17    \t[0.2]       \t615\t[1.]\t[0.]\t17    \t[0.4]       \t[7.89176979] \t615\t[9.21341705] \t[7.60646009] \t17    \t[0.34757723]\n",
      "616\t21    \t[0.36666667]\t616\t[1.]\t[0.]\t21    \t[0.48189441]\t[7.94952049] \t616\t[9.35334015] \t[7.60646009] \t21    \t[0.36744892]\n",
      "617\t18    \t[0.43333333]\t617\t[1.]\t[0.]\t18    \t[0.49553562]\t[7.9126506]  \t617\t[8.52188778] \t[7.60646009] \t18    \t[0.23290539]\n",
      "618\t17    \t[0.36666667]\t618\t[1.]\t[0.]\t17    \t[0.48189441]\t[7.87476471] \t618\t[8.31166744] \t[7.60646009] \t17    \t[0.19287421]\n",
      "619\t11    \t[0.2]       \t619\t[1.]\t[0.]\t11    \t[0.4]       \t[7.80902298] \t619\t[8.68011093] \t[7.60646009] \t11    \t[0.23594216]\n",
      "620\t19    \t[0.26666667]\t620\t[1.]\t[0.]\t19    \t[0.44221664]\t[7.86700034] \t620\t[9.36875057] \t[7.60646009] \t19    \t[0.35376636]\n",
      "621\t11    \t[0.13333333]\t621\t[1.]\t[0.]\t11    \t[0.33993463]\t[7.80086482] \t621\t[8.37555599] \t[7.60646009] \t11    \t[0.21435222]\n",
      "622\t19    \t[0.16666667]\t622\t[1.]\t[0.]\t19    \t[0.372678]  \t[7.88617805] \t622\t[9.12467957] \t[7.60646009] \t19    \t[0.35411654]\n",
      "623\t19    \t[0.16666667]\t623\t[1.]\t[0.]\t19    \t[0.372678]  \t[7.85311267] \t623\t[9.15626144] \t[7.60646009] \t19    \t[0.30513355]\n",
      "624\t19    \t[0.2]       \t624\t[1.]\t[0.]\t19    \t[0.4]       \t[7.83567629] \t624\t[8.68971634] \t[7.60646009] \t19    \t[0.26204871]\n",
      "625\t18    \t[0.16666667]\t625\t[1.]\t[0.]\t18    \t[0.372678]  \t[7.78153365] \t625\t[8.41027069] \t[7.60646009] \t18    \t[0.20946469]\n",
      "626\t22    \t[0.1]       \t626\t[1.]\t[0.]\t22    \t[0.3]       \t[7.90040797] \t626\t[9.24320889] \t[7.60646009] \t22    \t[0.33354004]\n",
      "627\t21    \t[0.23333333]\t627\t[1.]\t[0.]\t21    \t[0.42295258]\t[7.93690106] \t627\t[9.2436285]  \t[7.60646009] \t21    \t[0.33447135]\n",
      "628\t20    \t[0.3]       \t628\t[1.]\t[0.]\t20    \t[0.45825757]\t[7.88335018] \t628\t[8.59109879] \t[7.60646009] \t20    \t[0.2345518] \n",
      "629\t20    \t[0.13333333]\t629\t[1.]\t[0.]\t20    \t[0.33993463]\t[7.84255274] \t629\t[8.36698151] \t[7.60646009] \t20    \t[0.20650468]\n",
      "630\t13    \t[0.16666667]\t630\t[1.]\t[0.]\t13    \t[0.372678]  \t[7.83061975] \t630\t[8.66065121] \t[7.60646009] \t13    \t[0.29907306]\n",
      "631\t18    \t[0.23333333]\t631\t[1.]\t[0.]\t18    \t[0.42295258]\t[7.88042043] \t631\t[9.2239418]  \t[7.60646009] \t18    \t[0.34938154]\n",
      "632\t20    \t[0.06666667]\t632\t[1.]\t[0.]\t20    \t[0.24944383]\t[7.83038492] \t632\t[9.35334015] \t[7.60646009] \t20    \t[0.34291885]\n",
      "633\t19    \t[0.1]       \t633\t[1.]\t[0.]\t19    \t[0.3]       \t[7.81392533] \t633\t[9.20835781] \t[7.60646009] \t19    \t[0.31422364]\n",
      "634\t17    \t[0.1]       \t634\t[1.]\t[0.]\t17    \t[0.3]       \t[7.78283474] \t634\t[8.18525124] \t[7.60646009] \t17    \t[0.20771889]\n",
      "635\t15    \t[0.16666667]\t635\t[1.]\t[0.]\t15    \t[0.372678]  \t[7.79105973] \t635\t[8.09935188] \t[7.60646009] \t15    \t[0.19042753]\n",
      "636\t17    \t[0.2]       \t636\t[1.]\t[0.]\t17    \t[0.4]       \t[7.86011597] \t636\t[8.30474854] \t[7.60646009] \t17    \t[0.21247215]\n",
      "637\t15    \t[0.1]       \t637\t[1.]\t[0.]\t15    \t[0.3]       \t[7.90244703] \t637\t[9.32009029] \t[7.60646009] \t15    \t[0.34208484]\n",
      "638\t21    \t[0.16666667]\t638\t[1.]\t[0.]\t21    \t[0.372678]  \t[7.80581986] \t638\t[8.25489807] \t[7.60646009] \t21    \t[0.21065586]\n",
      "639\t24    \t[0.13333333]\t639\t[1.]\t[0.]\t24    \t[0.33993463]\t[7.87268116] \t639\t[8.40250301] \t[7.60646009] \t24    \t[0.26290869]\n",
      "640\t20    \t[0.2]       \t640\t[1.]\t[0.]\t20    \t[0.4]       \t[7.86061549] \t640\t[8.32243824] \t[7.60646009] \t20    \t[0.25424881]\n",
      "641\t22    \t[0.23333333]\t641\t[1.]\t[0.]\t22    \t[0.42295258]\t[7.99949306] \t641\t[9.21372986] \t[7.60646009] \t22    \t[0.33126527]\n",
      "642\t16    \t[0.1]       \t642\t[1.]\t[0.]\t16    \t[0.3]       \t[7.92571657] \t642\t[8.72637463] \t[7.60646009] \t16    \t[0.31696666]\n",
      "643\t23    \t[0.2]       \t643\t[1.]\t[0.]\t23    \t[0.4]       \t[7.87080231] \t643\t[8.52492714] \t[7.60646009] \t23    \t[0.22763149]\n",
      "644\t20    \t[0.13333333]\t644\t[1.]\t[0.]\t20    \t[0.33993463]\t[7.93203115] \t644\t[8.53453445] \t[7.60646009] \t20    \t[0.26905734]\n",
      "645\t18    \t[0.26666667]\t645\t[1.]\t[0.]\t18    \t[0.44221664]\t[7.91455221] \t645\t[8.37363434] \t[7.60646009] \t18    \t[0.22388129]\n",
      "646\t21    \t[0.26666667]\t646\t[1.]\t[0.]\t21    \t[0.44221664]\t[7.89508395] \t646\t[8.53278637] \t[7.60646009] \t21    \t[0.28121211]\n",
      "647\t18    \t[0.13333333]\t647\t[1.]\t[0.]\t18    \t[0.33993463]\t[7.88544022] \t647\t[8.22496223] \t[7.60646009] \t18    \t[0.2261941] \n",
      "648\t19    \t[0.13333333]\t648\t[1.]\t[0.]\t19    \t[0.33993463]\t[7.93948989] \t648\t[9.21165371] \t[7.60646009] \t19    \t[0.36677227]\n",
      "649\t14    \t[0.13333333]\t649\t[1.]\t[0.]\t14    \t[0.33993463]\t[7.78878808] \t649\t[8.40959167] \t[7.49971151] \t14    \t[0.22738719]\n",
      "650\t20    \t[0.16666667]\t650\t[1.]\t[0.]\t20    \t[0.372678]  \t[7.92048299] \t650\t[9.33394337] \t[7.49971151] \t20    \t[0.39781842]\n",
      "651\t23    \t[0.2]       \t651\t[1.]\t[0.]\t23    \t[0.4]       \t[7.88295091] \t651\t[8.39473438] \t[7.53565073] \t23    \t[0.2259311] \n",
      "652\t16    \t[0.23333333]\t652\t[1.]\t[0.]\t16    \t[0.42295258]\t[7.97102197] \t652\t[8.78802395] \t[7.60646009] \t16    \t[0.31356843]\n",
      "653\t16    \t[0.13333333]\t653\t[1.]\t[0.]\t16    \t[0.33993463]\t[7.9128942]  \t653\t[8.31997585] \t[7.60646009] \t16    \t[0.21411095]\n",
      "654\t22    \t[0.16666667]\t654\t[1.]\t[0.]\t22    \t[0.372678]  \t[7.93360208] \t654\t[8.43784809] \t[7.60646009] \t22    \t[0.27667227]\n",
      "655\t22    \t[0.16666667]\t655\t[1.]\t[0.]\t22    \t[0.372678]  \t[7.96307858] \t655\t[9.23247719] \t[7.60646009] \t22    \t[0.30433354]\n",
      "656\t13    \t[0.16666667]\t656\t[1.]\t[0.]\t13    \t[0.372678]  \t[7.87568712] \t656\t[8.45709896] \t[7.60646009] \t13    \t[0.22635777]\n",
      "657\t23    \t[0.3]       \t657\t[1.]\t[0.]\t23    \t[0.45825757]\t[7.94229283] \t657\t[8.67942715] \t[7.60646009] \t23    \t[0.30128922]\n",
      "658\t21    \t[0.13333333]\t658\t[1.]\t[0.]\t21    \t[0.33993463]\t[7.95535207] \t658\t[9.35610485] \t[7.60646009] \t21    \t[0.38298926]\n",
      "659\t12    \t[0.06666667]\t659\t[1.]\t[0.]\t12    \t[0.24944383]\t[7.79253302] \t659\t[8.37098122] \t[7.60646009] \t12    \t[0.24786261]\n",
      "660\t15    \t[0.13333333]\t660\t[1.]\t[0.]\t15    \t[0.33993463]\t[7.80031371] \t660\t[9.198102]   \t[7.60646009] \t15    \t[0.34305708]\n",
      "661\t20    \t[0.3]       \t661\t[1.]\t[0.]\t20    \t[0.45825757]\t[7.86827596] \t661\t[8.31400204] \t[7.60646009] \t20    \t[0.25299675]\n",
      "662\t17    \t[0.16666667]\t662\t[1.]\t[0.]\t17    \t[0.372678]  \t[7.85074093] \t662\t[8.28686047] \t[7.60646009] \t17    \t[0.23893299]\n",
      "663\t17    \t[0.23333333]\t663\t[1.]\t[0.]\t17    \t[0.42295258]\t[7.86900023] \t663\t[8.83977413] \t[7.60646009] \t17    \t[0.2468124] \n",
      "664\t19    \t[0.33333333]\t664\t[1.]\t[0.]\t19    \t[0.47140452]\t[7.894815]   \t664\t[8.3459568]  \t[7.60646009] \t19    \t[0.24755452]\n",
      "665\t14    \t[0.33333333]\t665\t[1.]\t[0.]\t14    \t[0.47140452]\t[7.92274372] \t665\t[8.55613422] \t[7.60646009] \t14    \t[0.28761941]\n",
      "666\t19    \t[0.33333333]\t666\t[1.]\t[0.]\t19    \t[0.47140452]\t[7.92320546] \t666\t[8.97757721] \t[7.60646009] \t19    \t[0.30894357]\n"
     ]
    },
    {
     "name": "stdout",
     "output_type": "stream",
     "text": [
      "667\t14    \t[0.16666667]\t667\t[1.]\t[0.]\t14    \t[0.372678]  \t[7.82400635] \t667\t[8.27499771] \t[7.60646009] \t14    \t[0.21030561]\n",
      "668\t20    \t[0.26666667]\t668\t[1.]\t[0.]\t20    \t[0.44221664]\t[7.97253567] \t668\t[9.23959351] \t[7.60646009] \t20    \t[0.39855511]\n",
      "669\t16    \t[0.1]       \t669\t[1.]\t[0.]\t16    \t[0.3]       \t[7.92038116] \t669\t[9.25170612] \t[7.60646009] \t16    \t[0.37433373]\n",
      "670\t17    \t[0.23333333]\t670\t[1.]\t[0.]\t17    \t[0.42295258]\t[7.84477652] \t670\t[9.29135609] \t[7.59922409] \t17    \t[0.32961112]\n",
      "671\t22    \t[0.33333333]\t671\t[1.]\t[0.]\t22    \t[0.47140452]\t[7.9672318]  \t671\t[9.4770813]  \t[7.60646009] \t22    \t[0.37576185]\n",
      "672\t19    \t[0.33333333]\t672\t[1.]\t[0.]\t19    \t[0.47140452]\t[7.93856519] \t672\t[8.60045815] \t[7.60646009] \t19    \t[0.25582164]\n",
      "673\t13    \t[0.23333333]\t673\t[1.]\t[0.]\t13    \t[0.42295258]\t[7.93321543] \t673\t[8.62970638] \t[7.60646009] \t13    \t[0.29215184]\n",
      "674\t21    \t[0.33333333]\t674\t[1.]\t[0.]\t21    \t[0.47140452]\t[7.90184681] \t674\t[8.38757324] \t[7.60646009] \t21    \t[0.23169231]\n",
      "675\t19    \t[0.3]       \t675\t[1.]\t[0.]\t19    \t[0.45825757]\t[7.94915379] \t675\t[9.49836349] \t[7.60646009] \t19    \t[0.35983143]\n",
      "676\t16    \t[0.16666667]\t676\t[1.]\t[0.]\t16    \t[0.372678]  \t[7.93381726] \t676\t[9.13849258] \t[7.60646009] \t16    \t[0.33710093]\n",
      "677\t18    \t[0.23333333]\t677\t[1.]\t[0.]\t18    \t[0.42295258]\t[7.91443]    \t677\t[8.6898756]  \t[7.60646009] \t18    \t[0.27234418]\n",
      "678\t18    \t[0.26666667]\t678\t[1.]\t[0.]\t18    \t[0.44221664]\t[7.88985605] \t678\t[8.54067421] \t[7.60646009] \t18    \t[0.24571004]\n",
      "679\t17    \t[0.4]       \t679\t[1.]\t[0.]\t17    \t[0.48989795]\t[7.90885741] \t679\t[8.50882435] \t[7.60646009] \t17    \t[0.23412204]\n",
      "680\t20    \t[0.2]       \t680\t[1.]\t[0.]\t20    \t[0.4]       \t[7.92996179] \t680\t[8.6748724]  \t[7.60646009] \t20    \t[0.29098838]\n",
      "681\t20    \t[0.36666667]\t681\t[1.]\t[0.]\t20    \t[0.48189441]\t[7.98386192] \t681\t[9.29435253] \t[7.60646009] \t20    \t[0.33456954]\n",
      "682\t14    \t[0.13333333]\t682\t[1.]\t[0.]\t14    \t[0.33993463]\t[7.89951655] \t682\t[9.36075306] \t[7.60635233] \t14    \t[0.35679761]\n",
      "683\t21    \t[0.2]       \t683\t[1.]\t[0.]\t21    \t[0.4]       \t[7.97519703] \t683\t[9.2384634]  \t[7.60635233] \t21    \t[0.33169683]\n",
      "684\t17    \t[0.23333333]\t684\t[1.]\t[0.]\t17    \t[0.42295258]\t[7.9308876]  \t684\t[8.78577328] \t[7.60635233] \t17    \t[0.30502918]\n",
      "685\t15    \t[0.23333333]\t685\t[1.]\t[0.]\t15    \t[0.42295258]\t[7.90322612] \t685\t[8.82290554] \t[7.60635233] \t15    \t[0.28489945]\n",
      "686\t20    \t[0.16666667]\t686\t[1.]\t[0.]\t20    \t[0.372678]  \t[7.95568625] \t686\t[8.40958405] \t[7.60635233] \t20    \t[0.26742812]\n",
      "687\t20    \t[0.1]       \t687\t[1.]\t[0.]\t20    \t[0.3]       \t[7.90626052] \t687\t[8.47357082] \t[7.60635233] \t20    \t[0.23811244]\n",
      "688\t17    \t[0.13333333]\t688\t[1.]\t[0.]\t17    \t[0.33993463]\t[7.86700525] \t688\t[9.22113705] \t[7.60646009] \t17    \t[0.32060247]\n",
      "689\t16    \t[0.23333333]\t689\t[1.]\t[0.]\t16    \t[0.42295258]\t[7.94449237] \t689\t[8.41017914] \t[7.60646009] \t16    \t[0.24983731]\n",
      "690\t21    \t[0.3]       \t690\t[1.]\t[0.]\t21    \t[0.45825757]\t[8.00984365] \t690\t[8.78518867] \t[7.60646009] \t21    \t[0.31430244]\n",
      "691\t14    \t[0.13333333]\t691\t[1.]\t[0.]\t14    \t[0.33993463]\t[7.85914218] \t691\t[8.76902008] \t[7.60646009] \t14    \t[0.2754499] \n",
      "692\t19    \t[0.13333333]\t692\t[1.]\t[0.]\t19    \t[0.33993463]\t[7.89554706] \t692\t[9.20233822] \t[7.60646009] \t19    \t[0.33381749]\n",
      "693\t22    \t[0.2]       \t693\t[1.]\t[0.]\t22    \t[0.4]       \t[7.90416179] \t693\t[8.67514801] \t[7.60646009] \t22    \t[0.23785038]\n",
      "694\t21    \t[0.16666667]\t694\t[1.]\t[0.]\t21    \t[0.372678]  \t[7.91899764] \t694\t[9.11881161] \t[7.60646009] \t21    \t[0.31892239]\n",
      "695\t17    \t[0.13333333]\t695\t[1.]\t[0.]\t17    \t[0.33993463]\t[7.92279565] \t695\t[9.29696083] \t[7.60646009] \t17    \t[0.40891697]\n",
      "696\t15    \t[0.16666667]\t696\t[1.]\t[0.]\t15    \t[0.372678]  \t[7.81082347] \t696\t[8.4680481]  \t[7.60646009] \t15    \t[0.23255647]\n",
      "697\t18    \t[0.23333333]\t697\t[1.]\t[0.]\t18    \t[0.42295258]\t[7.81553817] \t697\t[8.23564339] \t[7.60646009] \t18    \t[0.1950648] \n",
      "698\t15    \t[0.16666667]\t698\t[1.]\t[0.]\t15    \t[0.372678]  \t[7.81898061] \t698\t[8.3423872]  \t[7.60646009] \t15    \t[0.18997582]\n",
      "699\t17    \t[0.33333333]\t699\t[1.]\t[0.]\t17    \t[0.47140452]\t[7.89367134] \t699\t[8.31624985] \t[7.60646009] \t17    \t[0.24942031]\n",
      "700\t13    \t[0.13333333]\t700\t[1.]\t[0.]\t13    \t[0.33993463]\t[7.86279378] \t700\t[9.16207314] \t[7.60646009] \t13    \t[0.33502852]\n",
      "701\t16    \t[0.16666667]\t701\t[1.]\t[0.]\t16    \t[0.372678]  \t[7.87008603] \t701\t[9.22337246] \t[7.60646009] \t16    \t[0.34689299]\n",
      "702\t19    \t[0.2]       \t702\t[1.]\t[0.]\t19    \t[0.4]       \t[7.80023538] \t702\t[8.43509197] \t[7.60646009] \t19    \t[0.24210242]\n",
      "703\t20    \t[0.33333333]\t703\t[1.]\t[0.]\t20    \t[0.47140452]\t[7.89025488] \t703\t[9.1020689]  \t[7.60646009] \t20    \t[0.32558364]\n",
      "704\t17    \t[0.23333333]\t704\t[1.]\t[0.]\t17    \t[0.42295258]\t[7.79326037] \t704\t[8.37868214] \t[7.60646009] \t17    \t[0.22242148]\n",
      "705\t20    \t[0.2]       \t705\t[1.]\t[0.]\t20    \t[0.4]       \t[7.90251541] \t705\t[9.58919144] \t[7.60646009] \t20    \t[0.46194712]\n",
      "706\t16    \t[0.16666667]\t706\t[1.]\t[0.]\t16    \t[0.372678]  \t[7.77466814] \t706\t[8.73421192] \t[7.60646009] \t16    \t[0.25291054]\n",
      "707\t14    \t[0.2]       \t707\t[1.]\t[0.]\t14    \t[0.4]       \t[7.81874701] \t707\t[8.42433357] \t[7.60646009] \t14    \t[0.24571056]\n",
      "708\t17    \t[0.3]       \t708\t[1.]\t[0.]\t17    \t[0.45825757]\t[7.82529796] \t708\t[8.51000404] \t[7.60646009] \t17    \t[0.26631683]\n",
      "709\t19    \t[0.3]       \t709\t[1.]\t[0.]\t19    \t[0.45825757]\t[7.84786577] \t709\t[8.24505901] \t[7.60646009] \t19    \t[0.22498696]\n",
      "710\t19    \t[0.1]       \t710\t[1.]\t[0.]\t19    \t[0.3]       \t[7.9346436]  \t710\t[9.15448952] \t[7.60646009] \t19    \t[0.38151165]\n",
      "711\t22    \t[0.23333333]\t711\t[1.]\t[0.]\t22    \t[0.42295258]\t[7.82328234] \t711\t[8.20422268] \t[7.60646009] \t22    \t[0.17858161]\n",
      "712\t22    \t[0.2]       \t712\t[1.]\t[0.]\t22    \t[0.4]       \t[7.96179417] \t712\t[9.27119064] \t[7.60646009] \t22    \t[0.34723225]\n",
      "713\t15    \t[0.2]       \t713\t[1.]\t[0.]\t15    \t[0.4]       \t[7.89131055] \t713\t[8.59412289] \t[7.60646009] \t15    \t[0.28609118]\n",
      "714\t18    \t[0.2]       \t714\t[1.]\t[0.]\t18    \t[0.4]       \t[7.78192376] \t714\t[8.34012794] \t[7.60646009] \t18    \t[0.19912231]\n",
      "715\t17    \t[0.23333333]\t715\t[1.]\t[0.]\t17    \t[0.42295258]\t[7.7918822]  \t715\t[8.47178173] \t[7.60646009] \t17    \t[0.23591666]\n",
      "716\t22    \t[0.16666667]\t716\t[1.]\t[0.]\t22    \t[0.372678]  \t[7.84199867] \t716\t[8.40646553] \t[7.60646009] \t22    \t[0.25918795]\n",
      "717\t19    \t[0.26666667]\t717\t[1.]\t[0.]\t19    \t[0.44221664]\t[8.03186207] \t717\t[9.24896431] \t[7.60646009] \t19    \t[0.46562369]\n",
      "718\t18    \t[0.2]       \t718\t[1.]\t[0.]\t18    \t[0.4]       \t[7.93720428] \t718\t[8.71864033] \t[7.60646009] \t18    \t[0.29622732]\n",
      "719\t14    \t[0.13333333]\t719\t[1.]\t[0.]\t14    \t[0.33993463]\t[7.87696996] \t719\t[8.69435787] \t[7.60646009] \t14    \t[0.26104247]\n",
      "720\t16    \t[0.3]       \t720\t[1.]\t[0.]\t16    \t[0.45825757]\t[7.84270234] \t720\t[8.45003033] \t[7.60646009] \t16    \t[0.22110256]\n",
      "721\t20    \t[0.16666667]\t721\t[1.]\t[0.]\t20    \t[0.372678]  \t[7.87950509] \t721\t[8.4885273]  \t[7.60646009] \t20    \t[0.22539176]\n",
      "722\t19    \t[0.23333333]\t722\t[1.]\t[0.]\t19    \t[0.42295258]\t[7.88380354] \t722\t[8.29733467] \t[7.60646009] \t19    \t[0.2351552] \n",
      "723\t20    \t[0.3]       \t723\t[1.]\t[0.]\t20    \t[0.45825757]\t[7.93272327] \t723\t[9.2337904]  \t[7.60646009] \t20    \t[0.33371191]\n",
      "724\t17    \t[0.43333333]\t724\t[1.]\t[0.]\t17    \t[0.49553562]\t[7.87579234] \t724\t[8.34579849] \t[7.60646009] \t17    \t[0.23962251]\n",
      "725\t18    \t[0.16666667]\t725\t[1.]\t[0.]\t18    \t[0.372678]  \t[7.88788889] \t725\t[9.16718483] \t[7.60646009] \t18    \t[0.32906534]\n",
      "726\t18    \t[0.3]       \t726\t[1.]\t[0.]\t18    \t[0.45825757]\t[7.82229018] \t726\t[8.26595306] \t[7.60646009] \t18    \t[0.19101101]\n",
      "727\t19    \t[0.2]       \t727\t[1.]\t[0.]\t19    \t[0.4]       \t[7.82871939] \t727\t[8.37368774] \t[7.60646009] \t19    \t[0.21348912]\n",
      "728\t23    \t[0.23333333]\t728\t[1.]\t[0.]\t23    \t[0.42295258]\t[7.91042118] \t728\t[8.31552029] \t[7.60646009] \t23    \t[0.22968836]\n",
      "729\t18    \t[0.36666667]\t729\t[1.]\t[0.]\t18    \t[0.48189441]\t[7.92168989] \t729\t[8.47798061] \t[7.60646009] \t18    \t[0.26772636]\n",
      "730\t22    \t[0.5]       \t730\t[1.]\t[0.]\t22    \t[0.5]       \t[7.93341856] \t730\t[9.2337904]  \t[7.60646009] \t22    \t[0.34377191]\n",
      "731\t22    \t[0.36666667]\t731\t[1.]\t[0.]\t22    \t[0.48189441]\t[7.90115137] \t731\t[9.2362051]  \t[7.60646009] \t22    \t[0.3353775] \n",
      "732\t20    \t[0.26666667]\t732\t[1.]\t[0.]\t20    \t[0.44221664]\t[7.88223287] \t732\t[8.70449734] \t[7.60646009] \t20    \t[0.26590716]\n",
      "733\t18    \t[0.23333333]\t733\t[1.]\t[0.]\t18    \t[0.42295258]\t[7.92572562] \t733\t[9.26724434] \t[7.60646009] \t18    \t[0.37789411]\n"
     ]
    },
    {
     "name": "stdout",
     "output_type": "stream",
     "text": [
      "734\t22    \t[0.36666667]\t734\t[1.]\t[0.]\t22    \t[0.48189441]\t[7.90787489] \t734\t[8.39375305] \t[7.60646009] \t22    \t[0.27408009]\n",
      "735\t14    \t[0.26666667]\t735\t[1.]\t[0.]\t14    \t[0.44221664]\t[7.85791149] \t735\t[8.68309689] \t[7.60646009] \t14    \t[0.27082342]\n",
      "736\t18    \t[0.23333333]\t736\t[1.]\t[0.]\t18    \t[0.42295258]\t[7.85997585] \t736\t[8.37080669] \t[7.60646009] \t18    \t[0.25448525]\n",
      "737\t16    \t[0.13333333]\t737\t[1.]\t[0.]\t16    \t[0.33993463]\t[7.83878209] \t737\t[9.31213284] \t[7.60646009] \t16    \t[0.33496679]\n",
      "738\t15    \t[0.03333333]\t738\t[1.]\t[0.]\t15    \t[0.17950549]\t[7.76596945] \t738\t[8.55408669] \t[7.60646009] \t15    \t[0.22545515]\n",
      "739\t20    \t[0.26666667]\t739\t[1.]\t[0.]\t20    \t[0.44221664]\t[7.80787533] \t739\t[8.57497025] \t[7.60646009] \t20    \t[0.25924923]\n",
      "740\t17    \t[0.16666667]\t740\t[1.]\t[0.]\t17    \t[0.372678]  \t[7.75620936] \t740\t[8.02826405] \t[7.60334873] \t17    \t[0.15318418]\n",
      "741\t13    \t[0.2]       \t741\t[1.]\t[0.]\t13    \t[0.4]       \t[7.79647183] \t741\t[8.40850353] \t[7.60334873] \t13    \t[0.23711909]\n",
      "742\t22    \t[0.36666667]\t742\t[1.]\t[0.]\t22    \t[0.48189441]\t[7.89457256] \t742\t[9.37103939] \t[7.60334873] \t22    \t[0.37489103]\n",
      "743\t16    \t[0.26666667]\t743\t[1.]\t[0.]\t16    \t[0.44221664]\t[7.79696871] \t743\t[8.3851614]  \t[7.60334873] \t16    \t[0.27185425]\n",
      "744\t16    \t[0.23333333]\t744\t[1.]\t[0.]\t16    \t[0.42295258]\t[7.86252863] \t744\t[9.23162842] \t[7.60334873] \t16    \t[0.33534213]\n",
      "745\t21    \t[0.26666667]\t745\t[1.]\t[0.]\t21    \t[0.44221664]\t[7.88430311] \t745\t[8.34656048] \t[7.60334873] \t21    \t[0.22840661]\n",
      "746\t11    \t[0.26666667]\t746\t[1.]\t[0.]\t11    \t[0.44221664]\t[7.87710757] \t746\t[9.22417831] \t[7.60334873] \t11    \t[0.33627278]\n",
      "747\t23    \t[0.26666667]\t747\t[1.]\t[0.]\t23    \t[0.44221664]\t[7.88115983] \t747\t[8.4231329]  \t[7.60334873] \t23    \t[0.25881435]\n",
      "748\t18    \t[0.26666667]\t748\t[1.]\t[0.]\t18    \t[0.44221664]\t[7.80141942] \t748\t[8.31020832] \t[7.60334873] \t18    \t[0.23520661]\n",
      "749\t19    \t[0.2]       \t749\t[1.]\t[0.]\t19    \t[0.4]       \t[7.82232793] \t749\t[8.25036049] \t[7.60334873] \t19    \t[0.16709919]\n",
      "750\t22    \t[0.26666667]\t750\t[1.]\t[0.]\t22    \t[0.44221664]\t[7.9776203]  \t750\t[9.20056057] \t[7.60334873] \t22    \t[0.324478]  \n",
      "751\t16    \t[0.13333333]\t751\t[1.]\t[0.]\t16    \t[0.33993463]\t[7.95148036] \t751\t[9.5995369]  \t[7.60334873] \t16    \t[0.3723428] \n",
      "752\t19    \t[0.16666667]\t752\t[1.]\t[0.]\t19    \t[0.372678]  \t[7.95036077] \t752\t[8.46555233] \t[7.60334873] \t19    \t[0.25369462]\n",
      "753\t19    \t[0.13333333]\t753\t[1.]\t[0.]\t19    \t[0.33993463]\t[7.97995818] \t753\t[9.73300838] \t[7.60334873] \t19    \t[0.43183781]\n",
      "754\t19    \t[0.13333333]\t754\t[1.]\t[0.]\t19    \t[0.33993463]\t[7.88396589] \t754\t[8.41051674] \t[7.60334873] \t19    \t[0.23064386]\n",
      "755\t17    \t[0.23333333]\t755\t[1.]\t[0.]\t17    \t[0.42295258]\t[7.87828843] \t755\t[8.41985512] \t[7.60334873] \t17    \t[0.21211046]\n",
      "756\t20    \t[0.2]       \t756\t[1.]\t[0.]\t20    \t[0.4]       \t[7.93697735] \t756\t[8.45091915] \t[7.60334873] \t20    \t[0.24295783]\n",
      "757\t16    \t[0.2]       \t757\t[1.]\t[0.]\t16    \t[0.4]       \t[7.94114094] \t757\t[9.23469925] \t[7.60334873] \t16    \t[0.31978908]\n",
      "758\t18    \t[0.23333333]\t758\t[1.]\t[0.]\t18    \t[0.42295258]\t[7.94182359] \t758\t[8.51560116] \t[7.60334873] \t18    \t[0.21472484]\n",
      "759\t22    \t[0.2]       \t759\t[1.]\t[0.]\t22    \t[0.4]       \t[7.98024411] \t759\t[8.58931255] \t[7.60334873] \t22    \t[0.26733876]\n",
      "760\t19    \t[0.26666667]\t760\t[1.]\t[0.]\t19    \t[0.44221664]\t[7.96416275] \t760\t[8.53215981] \t[7.60334873] \t19    \t[0.27239784]\n",
      "761\t20    \t[0.16666667]\t761\t[1.]\t[0.]\t20    \t[0.372678]  \t[7.85521623] \t761\t[8.30224514] \t[7.60334873] \t20    \t[0.21253533]\n",
      "762\t12    \t[0.16666667]\t762\t[1.]\t[0.]\t12    \t[0.372678]  \t[7.78041692] \t762\t[8.48777962] \t[7.60334873] \t12    \t[0.21477165]\n",
      "763\t16    \t[0.16666667]\t763\t[1.]\t[0.]\t16    \t[0.372678]  \t[7.81201741] \t763\t[9.33704567] \t[7.60334873] \t16    \t[0.35582762]\n",
      "764\t19    \t[0.26666667]\t764\t[1.]\t[0.]\t19    \t[0.44221664]\t[7.83302766] \t764\t[8.43627071] \t[7.60334873] \t19    \t[0.23094467]\n",
      "765\t22    \t[0.23333333]\t765\t[1.]\t[0.]\t22    \t[0.42295258]\t[7.88805401] \t765\t[8.40939808] \t[7.60334873] \t22    \t[0.22589572]\n",
      "766\t18    \t[0.13333333]\t766\t[1.]\t[0.]\t18    \t[0.33993463]\t[7.90687412] \t766\t[9.40722847] \t[7.60334873] \t18    \t[0.36308431]\n",
      "767\t18    \t[0.13333333]\t767\t[1.]\t[0.]\t18    \t[0.33993463]\t[7.85936702] \t767\t[8.53417587] \t[7.60334873] \t18    \t[0.19930863]\n",
      "768\t16    \t[0.2]       \t768\t[1.]\t[0.]\t16    \t[0.4]       \t[7.97089419] \t768\t[9.24439716] \t[7.60334873] \t16    \t[0.34080485]\n",
      "769\t14    \t[0.33333333]\t769\t[1.]\t[0.]\t14    \t[0.47140452]\t[7.87152775] \t769\t[8.4896965]  \t[7.60334873] \t14    \t[0.23932351]\n",
      "770\t16    \t[0.33333333]\t770\t[1.]\t[0.]\t16    \t[0.47140452]\t[8.03873693] \t770\t[9.67937946] \t[7.60334873] \t16    \t[0.54329539]\n",
      "771\t18    \t[0.23333333]\t771\t[1.]\t[0.]\t18    \t[0.42295258]\t[7.85581578] \t771\t[8.86108303] \t[7.60334873] \t18    \t[0.29849096]\n",
      "772\t20    \t[0.23333333]\t772\t[1.]\t[0.]\t20    \t[0.42295258]\t[7.81877581] \t772\t[8.40688229] \t[7.60334873] \t20    \t[0.22129693]\n",
      "773\t16    \t[0.23333333]\t773\t[1.]\t[0.]\t16    \t[0.42295258]\t[7.83349665] \t773\t[8.52588844] \t[7.60334873] \t16    \t[0.25989898]\n",
      "774\t23    \t[0.33333333]\t774\t[1.]\t[0.]\t23    \t[0.47140452]\t[7.90084856] \t774\t[8.29616833] \t[7.60334873] \t23    \t[0.23973133]\n",
      "775\t18    \t[0.26666667]\t775\t[1.]\t[0.]\t18    \t[0.44221664]\t[7.86946877] \t775\t[8.43080425] \t[7.60334873] \t18    \t[0.24843293]\n",
      "776\t18    \t[0.2]       \t776\t[1.]\t[0.]\t18    \t[0.4]       \t[7.79927165] \t776\t[8.25614357] \t[7.60334873] \t18    \t[0.19487058]\n",
      "777\t20    \t[0.23333333]\t777\t[1.]\t[0.]\t20    \t[0.42295258]\t[7.91302932] \t777\t[9.27559185] \t[7.60334873] \t20    \t[0.35198274]\n",
      "778\t15    \t[0.2]       \t778\t[1.]\t[0.]\t15    \t[0.4]       \t[7.86475396] \t778\t[8.74561691] \t[7.60334873] \t15    \t[0.29336241]\n",
      "779\t20    \t[0.23333333]\t779\t[1.]\t[0.]\t20    \t[0.42295258]\t[7.89202286] \t779\t[8.65452862] \t[7.60334873] \t20    \t[0.26252357]\n",
      "780\t19    \t[0.23333333]\t780\t[1.]\t[0.]\t19    \t[0.42295258]\t[7.95147889] \t780\t[9.23728848] \t[7.60334873] \t19    \t[0.33320324]\n",
      "781\t21    \t[0.3]       \t781\t[1.]\t[0.]\t21    \t[0.45825757]\t[7.93112049] \t781\t[8.64034557] \t[7.60334873] \t21    \t[0.27817774]\n",
      "782\t17    \t[0.2]       \t782\t[1.]\t[0.]\t17    \t[0.4]       \t[8.01351646] \t782\t[9.17187214] \t[7.60334873] \t17    \t[0.40070965]\n",
      "783\t18    \t[0.3]       \t783\t[1.]\t[0.]\t18    \t[0.45825757]\t[7.94116591] \t783\t[8.51142597] \t[7.60334873] \t18    \t[0.28685041]\n",
      "784\t21    \t[0.33333333]\t784\t[1.]\t[0.]\t21    \t[0.47140452]\t[8.04074694] \t784\t[9.68050289] \t[7.60334873] \t21    \t[0.48550672]\n",
      "785\t22    \t[0.36666667]\t785\t[1.]\t[0.]\t22    \t[0.48189441]\t[7.90295499] \t785\t[8.39500332] \t[7.60334873] \t22    \t[0.24756371]\n",
      "786\t18    \t[0.26666667]\t786\t[1.]\t[0.]\t18    \t[0.44221664]\t[7.89895693] \t786\t[8.68514633] \t[7.60063648] \t18    \t[0.26890577]\n",
      "787\t21    \t[0.3]       \t787\t[1.]\t[0.]\t21    \t[0.45825757]\t[7.91238616] \t787\t[9.0855751]  \t[7.60063648] \t21    \t[0.34272729]\n",
      "788\t15    \t[0.16666667]\t788\t[1.]\t[0.]\t15    \t[0.372678]  \t[7.85379132] \t788\t[8.46454906] \t[7.60063648] \t15    \t[0.24852673]\n",
      "789\t20    \t[0.16666667]\t789\t[1.]\t[0.]\t20    \t[0.372678]  \t[7.89039192] \t789\t[9.57400799] \t[7.60063648] \t20    \t[0.37767519]\n",
      "790\t16    \t[0.16666667]\t790\t[1.]\t[0.]\t16    \t[0.372678]  \t[7.86146348] \t790\t[8.55824184] \t[7.60063648] \t16    \t[0.25182544]\n",
      "791\t14    \t[0.06666667]\t791\t[1.]\t[0.]\t14    \t[0.24944383]\t[7.81082115] \t791\t[8.55459881] \t[7.60063648] \t14    \t[0.23306893]\n",
      "792\t22    \t[0.03333333]\t792\t[1.]\t[0.]\t22    \t[0.17950549]\t[7.78377728] \t792\t[8.44717026] \t[7.60063648] \t22    \t[0.21804662]\n",
      "793\t19    \t[0.13333333]\t793\t[1.]\t[0.]\t19    \t[0.33993463]\t[7.81627707] \t793\t[8.43114853] \t[7.60063648] \t19    \t[0.23061222]\n",
      "794\t18    \t[0.]        \t794\t[0.]\t[0.]\t18    \t[0.]        \t[7.8424442]  \t794\t[9.45156765] \t[7.60063648] \t18    \t[0.38619689]\n",
      "795\t20    \t[0.]        \t795\t[0.]\t[0.]\t20    \t[0.]        \t[7.83669504] \t795\t[8.53315353] \t[7.60063648] \t20    \t[0.27841494]\n",
      "796\t15    \t[0.]        \t796\t[0.]\t[0.]\t15    \t[0.]        \t[7.73907129] \t796\t[8.09243011] \t[7.60063648] \t15    \t[0.16850944]\n",
      "797\t17    \t[0.]        \t797\t[0.]\t[0.]\t17    \t[0.]        \t[7.8594456]  \t797\t[9.5612402]  \t[7.60063648] \t17    \t[0.39319528]\n",
      "798\t20    \t[0.03333333]\t798\t[1.]\t[0.]\t20    \t[0.17950549]\t[7.9205602]  \t798\t[9.49604702] \t[7.60063648] \t20    \t[0.44161626]\n",
      "799\t18    \t[0.03333333]\t799\t[1.]\t[0.]\t18    \t[0.17950549]\t[7.84717224] \t799\t[8.51512051] \t[7.60063648] \t18    \t[0.26788639]\n",
      "800\t21    \t[0.06666667]\t800\t[1.]\t[0.]\t21    \t[0.24944383]\t[7.92677612] \t800\t[9.75521469] \t[7.60063648] \t21    \t[0.44903767]\n"
     ]
    },
    {
     "name": "stdout",
     "output_type": "stream",
     "text": [
      "801\t18    \t[0.06666667]\t801\t[1.]\t[0.]\t18    \t[0.24944383]\t[7.89230955] \t801\t[8.60172749] \t[7.60063648] \t18    \t[0.30569766]\n",
      "802\t19    \t[0.03333333]\t802\t[1.]\t[0.]\t19    \t[0.17950549]\t[7.83225234] \t802\t[8.57611275] \t[7.60063648] \t19    \t[0.22606432]\n",
      "803\t14    \t[0.03333333]\t803\t[1.]\t[0.]\t14    \t[0.17950549]\t[7.83151793] \t803\t[8.53422451] \t[7.59320593] \t14    \t[0.30753898]\n",
      "804\t19    \t[0.]        \t804\t[0.]\t[0.]\t19    \t[0.]        \t[7.88603217] \t804\t[9.3840704]  \t[7.60063648] \t19    \t[0.39934721]\n",
      "805\t15    \t[0.]        \t805\t[0.]\t[0.]\t15    \t[0.]        \t[7.82363113] \t805\t[8.20845985] \t[7.60063648] \t15    \t[0.19681202]\n",
      "806\t20    \t[0.]        \t806\t[0.]\t[0.]\t20    \t[0.]        \t[7.87575782] \t806\t[8.38850784] \t[7.60063648] \t20    \t[0.26539898]\n",
      "807\t18    \t[0.]        \t807\t[0.]\t[0.]\t18    \t[0.]        \t[7.75718681] \t807\t[8.38776779] \t[7.60063648] \t18    \t[0.21485535]\n",
      "808\t20    \t[0.]        \t808\t[0.]\t[0.]\t20    \t[0.]        \t[7.89727117] \t808\t[9.49956512] \t[7.60063648] \t20    \t[0.39884296]\n",
      "809\t20    \t[0.]        \t809\t[0.]\t[0.]\t20    \t[0.]        \t[7.9225757]  \t809\t[9.49956512] \t[7.60063648] \t20    \t[0.38755541]\n",
      "810\t19    \t[0.]        \t810\t[0.]\t[0.]\t19    \t[0.]        \t[7.796639]   \t810\t[8.4582243]  \t[7.60063648] \t19    \t[0.23147243]\n",
      "811\t15    \t[0.03333333]\t811\t[1.]\t[0.]\t15    \t[0.17950549]\t[7.8687796]  \t811\t[9.39496517] \t[7.60063648] \t15    \t[0.38374933]\n",
      "812\t24    \t[0.]        \t812\t[0.]\t[0.]\t24    \t[0.]        \t[7.89481457] \t812\t[9.45096588] \t[7.60063648] \t24    \t[0.36817684]\n",
      "813\t16    \t[0.03333333]\t813\t[1.]\t[0.]\t16    \t[0.17950549]\t[7.8731509]  \t813\t[8.96818542] \t[7.60063648] \t16    \t[0.31972267]\n",
      "814\t14    \t[0.]        \t814\t[0.]\t[0.]\t14    \t[0.]        \t[7.82812057] \t814\t[9.5612402]  \t[7.60063648] \t14    \t[0.36850654]\n",
      "815\t18    \t[0.03333333]\t815\t[1.]\t[0.]\t18    \t[0.17950549]\t[7.7595715]  \t815\t[8.57269955] \t[7.60063648] \t18    \t[0.23586128]\n",
      "816\t16    \t[0.03333333]\t816\t[1.]\t[0.]\t16    \t[0.17950549]\t[7.8365386]  \t816\t[8.87969494] \t[7.60063648] \t16    \t[0.30841955]\n",
      "817\t18    \t[0.03333333]\t817\t[1.]\t[0.]\t18    \t[0.17950549]\t[7.84058358] \t817\t[8.6954031]  \t[7.60063648] \t18    \t[0.25989419]\n",
      "818\t17    \t[0.]        \t818\t[0.]\t[0.]\t17    \t[0.]        \t[7.79182671] \t818\t[8.59712696] \t[7.5640502]  \t17    \t[0.25866283]\n",
      "819\t10    \t[0.03333333]\t819\t[1.]\t[0.]\t10    \t[0.17950549]\t[7.7393453]  \t819\t[8.41423702] \t[7.5640502]  \t10    \t[0.24567891]\n",
      "820\t26    \t[0.1]       \t820\t[1.]\t[0.]\t26    \t[0.3]       \t[7.90931573] \t820\t[9.36346054] \t[7.5640502]  \t26    \t[0.38410385]\n",
      "821\t18    \t[0.03333333]\t821\t[1.]\t[0.]\t18    \t[0.17950549]\t[7.87301558] \t821\t[8.50413895] \t[7.5640502]  \t18    \t[0.28055432]\n",
      "822\t18    \t[0.03333333]\t822\t[1.]\t[0.]\t18    \t[0.17950549]\t[7.79239858] \t822\t[8.69155312] \t[7.5640502]  \t18    \t[0.28416951]\n",
      "823\t18    \t[0.03333333]\t823\t[1.]\t[0.]\t18    \t[0.17950549]\t[7.84252895] \t823\t[8.96848202] \t[7.5640502]  \t18    \t[0.34668704]\n",
      "824\t17    \t[0.1]       \t824\t[1.]\t[0.]\t17    \t[0.3]       \t[7.93878951] \t824\t[9.2695303]  \t[7.5640502]  \t17    \t[0.39333535]\n",
      "825\t17    \t[0.]        \t825\t[0.]\t[0.]\t17    \t[0.]        \t[7.81003157] \t825\t[8.55784035] \t[7.5640502]  \t17    \t[0.29154359]\n",
      "826\t19    \t[0.06666667]\t826\t[1.]\t[0.]\t19    \t[0.24944383]\t[7.78799678] \t826\t[9.31368732] \t[7.5640502]  \t19    \t[0.34957386]\n",
      "827\t17    \t[0.03333333]\t827\t[1.]\t[0.]\t17    \t[0.17950549]\t[7.77142119] \t827\t[8.32666206] \t[7.5640502]  \t17    \t[0.23845801]\n",
      "828\t19    \t[0.]        \t828\t[0.]\t[0.]\t19    \t[0.]        \t[7.76333305] \t828\t[8.68285275] \t[7.5640502]  \t19    \t[0.24387924]\n",
      "829\t20    \t[0.06666667]\t829\t[1.]\t[0.]\t20    \t[0.24944383]\t[7.83309108] \t829\t[9.19148254] \t[7.5640502]  \t20    \t[0.34354301]\n",
      "830\t19    \t[0.06666667]\t830\t[1.]\t[0.]\t19    \t[0.24944383]\t[7.87331816] \t830\t[8.68184185] \t[7.5640502]  \t19    \t[0.30912917]\n",
      "831\t20    \t[0.2]       \t831\t[1.]\t[0.]\t20    \t[0.4]       \t[7.88698953] \t831\t[8.57384968] \t[7.5640502]  \t20    \t[0.28903834]\n",
      "832\t20    \t[0.16666667]\t832\t[1.]\t[0.]\t20    \t[0.372678]  \t[8.0171871]  \t832\t[9.33228493] \t[7.5640502]  \t20    \t[0.41383833]\n",
      "833\t15    \t[0.13333333]\t833\t[1.]\t[0.]\t15    \t[0.33993463]\t[7.9848413]  \t833\t[8.92730999] \t[7.5640502]  \t15    \t[0.3381344] \n",
      "834\t19    \t[0.16666667]\t834\t[1.]\t[0.]\t19    \t[0.372678]  \t[7.99457431] \t834\t[9.35916901] \t[7.5640502]  \t19    \t[0.41745926]\n",
      "835\t16    \t[0.1]       \t835\t[1.]\t[0.]\t16    \t[0.3]       \t[7.87613249] \t835\t[8.51637936] \t[7.5640502]  \t16    \t[0.273591]  \n",
      "836\t15    \t[0.16666667]\t836\t[1.]\t[0.]\t15    \t[0.372678]  \t[7.84332534] \t836\t[8.92637634] \t[7.5640502]  \t15    \t[0.34508164]\n",
      "837\t21    \t[0.06666667]\t837\t[1.]\t[0.]\t21    \t[0.24944383]\t[7.80356205] \t837\t[8.46375656] \t[7.5640502]  \t21    \t[0.24930924]\n",
      "838\t18    \t[0.]        \t838\t[0.]\t[0.]\t18    \t[0.]        \t[7.77600811] \t838\t[8.28775501] \t[7.5640502]  \t18    \t[0.23960449]\n",
      "839\t18    \t[0.1]       \t839\t[1.]\t[0.]\t18    \t[0.3]       \t[7.87777543] \t839\t[9.31813431] \t[7.5640502]  \t18    \t[0.37565279]\n",
      "840\t17    \t[0.06666667]\t840\t[1.]\t[0.]\t17    \t[0.24944383]\t[7.83739244] \t840\t[8.42836666] \t[7.5640502]  \t17    \t[0.278639]  \n",
      "841\t16    \t[0.03333333]\t841\t[1.]\t[0.]\t16    \t[0.17950549]\t[7.81898586] \t841\t[9.08326435] \t[7.5640502]  \t16    \t[0.35489287]\n",
      "842\t12    \t[0.03333333]\t842\t[1.]\t[0.]\t12    \t[0.17950549]\t[7.78078992] \t842\t[9.33509445] \t[7.5640502]  \t12    \t[0.3960662] \n",
      "843\t15    \t[0.]        \t843\t[0.]\t[0.]\t15    \t[0.]        \t[7.86093801] \t843\t[9.40520763] \t[7.5640502]  \t15    \t[0.47604182]\n",
      "844\t22    \t[0.03333333]\t844\t[1.]\t[0.]\t22    \t[0.17950549]\t[7.8263289]  \t844\t[8.61959457] \t[7.55461121] \t22    \t[0.24949674]\n",
      "845\t17    \t[0.06666667]\t845\t[1.]\t[0.]\t17    \t[0.24944383]\t[7.89177883] \t845\t[9.48778725] \t[7.55461121] \t17    \t[0.40197222]\n",
      "846\t14    \t[0.03333333]\t846\t[1.]\t[0.]\t14    \t[0.17950549]\t[7.77121078] \t846\t[9.31229877] \t[7.55461121] \t14    \t[0.346879]  \n",
      "847\t16    \t[0.]        \t847\t[0.]\t[0.]\t16    \t[0.]        \t[7.74395642] \t847\t[8.42974281] \t[7.55461121] \t16    \t[0.26695188]\n",
      "848\t17    \t[0.]        \t848\t[0.]\t[0.]\t17    \t[0.]        \t[7.8544977]  \t848\t[9.4397831]  \t[7.55461121] \t17    \t[0.44063073]\n",
      "849\t19    \t[0.03333333]\t849\t[1.]\t[0.]\t19    \t[0.17950549]\t[7.86707859] \t849\t[8.82733822] \t[7.55461121] \t19    \t[0.30665488]\n",
      "850\t18    \t[0.03333333]\t850\t[1.]\t[0.]\t18    \t[0.17950549]\t[7.78929704] \t850\t[8.27374554] \t[7.55461121] \t18    \t[0.22192816]\n",
      "851\t21    \t[0.06666667]\t851\t[1.]\t[0.]\t21    \t[0.24944383]\t[7.86127361] \t851\t[9.30391693] \t[7.55461121] \t21    \t[0.33642941]\n",
      "852\t17    \t[0.1]       \t852\t[1.]\t[0.]\t17    \t[0.3]       \t[7.90477042] \t852\t[9.47069263] \t[7.55461121] \t17    \t[0.37558439]\n",
      "853\t16    \t[0.]        \t853\t[0.]\t[0.]\t16    \t[0.]        \t[7.87053692] \t853\t[8.60826874] \t[7.5640502]  \t16    \t[0.30328575]\n",
      "854\t16    \t[0.03333333]\t854\t[1.]\t[0.]\t16    \t[0.17950549]\t[7.75351281] \t854\t[8.51640224] \t[7.5619216]  \t16    \t[0.24072893]\n",
      "855\t12    \t[0.]        \t855\t[0.]\t[0.]\t12    \t[0.]        \t[7.74664712] \t855\t[9.34883022] \t[7.5619216]  \t12    \t[0.35650951]\n",
      "856\t21    \t[0.06666667]\t856\t[1.]\t[0.]\t21    \t[0.24944383]\t[7.86865147] \t856\t[9.19736481] \t[7.5619216]  \t21    \t[0.38752441]\n",
      "857\t15    \t[0.1]       \t857\t[1.]\t[0.]\t15    \t[0.3]       \t[7.83209459] \t857\t[9.32506275] \t[7.5619216]  \t15    \t[0.39143172]\n",
      "858\t18    \t[0.23333333]\t858\t[1.]\t[0.]\t18    \t[0.42295258]\t[7.7878435]  \t858\t[8.49409389] \t[7.5619216]  \t18    \t[0.29194406]\n",
      "859\t20    \t[0.16666667]\t859\t[1.]\t[0.]\t20    \t[0.372678]  \t[7.84750762] \t859\t[9.03837013] \t[7.5619216]  \t20    \t[0.34071331]\n",
      "860\t17    \t[0.03333333]\t860\t[1.]\t[0.]\t17    \t[0.17950549]\t[7.74905469] \t860\t[8.2611618]  \t[7.5619216]  \t17    \t[0.2093646] \n",
      "861\t21    \t[0.1]       \t861\t[1.]\t[0.]\t21    \t[0.3]       \t[7.83167502] \t861\t[8.78168678] \t[7.5619216]  \t21    \t[0.29515287]\n",
      "862\t14    \t[0.03333333]\t862\t[1.]\t[0.]\t14    \t[0.17950549]\t[7.7270628]  \t862\t[8.13262653] \t[7.5619216]  \t14    \t[0.17698374]\n",
      "863\t21    \t[0.13333333]\t863\t[1.]\t[0.]\t21    \t[0.33993463]\t[7.80938689] \t863\t[8.48573589] \t[7.5619216]  \t21    \t[0.28782072]\n",
      "864\t19    \t[0.1]       \t864\t[1.]\t[0.]\t19    \t[0.3]       \t[7.75668661] \t864\t[8.46350002] \t[7.5619216]  \t19    \t[0.23834306]\n",
      "865\t17    \t[0.06666667]\t865\t[1.]\t[0.]\t17    \t[0.24944383]\t[7.72926013] \t865\t[8.43462276] \t[7.5619216]  \t17    \t[0.22680839]\n",
      "866\t18    \t[0.16666667]\t866\t[1.]\t[0.]\t18    \t[0.372678]  \t[7.8104633]  \t866\t[9.19137001] \t[7.5619216]  \t18    \t[0.42678669]\n",
      "867\t18    \t[0.06666667]\t867\t[1.]\t[0.]\t18    \t[0.24944383]\t[7.77437776] \t867\t[8.60548401] \t[7.5619216]  \t18    \t[0.27932982]\n"
     ]
    },
    {
     "name": "stdout",
     "output_type": "stream",
     "text": [
      "868\t20    \t[0.16666667]\t868\t[1.]\t[0.]\t20    \t[0.372678]  \t[7.81410462] \t868\t[8.32431984] \t[7.5619216]  \t20    \t[0.25326343]\n",
      "869\t12    \t[0.13333333]\t869\t[1.]\t[0.]\t12    \t[0.33993463]\t[7.76964728] \t869\t[8.41004848] \t[7.5619216]  \t12    \t[0.26161928]\n",
      "870\t13    \t[0.03333333]\t870\t[1.]\t[0.]\t13    \t[0.17950549]\t[7.72955842] \t870\t[8.69570827] \t[7.5619216]  \t13    \t[0.27105023]\n",
      "871\t16    \t[0.1]       \t871\t[1.]\t[0.]\t16    \t[0.3]       \t[7.69666349] \t871\t[8.28380966] \t[7.5619216]  \t16    \t[0.2151287] \n",
      "872\t15    \t[0.16666667]\t872\t[1.]\t[0.]\t15    \t[0.372678]  \t[7.79805705] \t872\t[9.05085754] \t[7.5619216]  \t15    \t[0.36224312]\n",
      "873\t16    \t[0.13333333]\t873\t[1.]\t[0.]\t16    \t[0.33993463]\t[7.73420563] \t873\t[8.19182587] \t[7.54295969] \t16    \t[0.23456561]\n",
      "874\t21    \t[0.2]       \t874\t[1.]\t[0.]\t21    \t[0.4]       \t[7.84819333] \t874\t[9.2091856]  \t[7.54295969] \t21    \t[0.36360348]\n",
      "875\t16    \t[0.23333333]\t875\t[1.]\t[0.]\t16    \t[0.42295258]\t[7.80147999] \t875\t[8.29109859] \t[7.54295969] \t16    \t[0.2399866] \n",
      "876\t21    \t[0.2]       \t876\t[1.]\t[0.]\t21    \t[0.4]       \t[7.83732359] \t876\t[8.81888485] \t[7.5619216]  \t21    \t[0.29990889]\n",
      "877\t17    \t[0.1]       \t877\t[1.]\t[0.]\t17    \t[0.3]       \t[7.8098571]  \t877\t[9.21413803] \t[7.5619216]  \t17    \t[0.33881498]\n",
      "878\t21    \t[0.16666667]\t878\t[1.]\t[0.]\t21    \t[0.372678]  \t[7.81289736] \t878\t[8.47291756] \t[7.5619216]  \t21    \t[0.2532035] \n",
      "879\t18    \t[0.06666667]\t879\t[1.]\t[0.]\t18    \t[0.24944383]\t[7.7806287]  \t879\t[8.28036499] \t[7.5619216]  \t18    \t[0.22628004]\n",
      "880\t19    \t[0.1]       \t880\t[1.]\t[0.]\t19    \t[0.3]       \t[7.82778567] \t880\t[8.69840908] \t[7.5619216]  \t19    \t[0.34493608]\n",
      "881\t13    \t[0.23333333]\t881\t[1.]\t[0.]\t13    \t[0.42295258]\t[7.73890133] \t881\t[8.25857162] \t[7.5619216]  \t13    \t[0.21277038]\n",
      "882\t14    \t[0.2]       \t882\t[1.]\t[0.]\t14    \t[0.4]       \t[7.76079357] \t882\t[8.37190914] \t[7.5619216]  \t14    \t[0.25272647]\n",
      "883\t16    \t[0.06666667]\t883\t[1.]\t[0.]\t16    \t[0.24944383]\t[7.727948]   \t883\t[8.28232861] \t[7.50522089] \t16    \t[0.23238952]\n",
      "884\t15    \t[0.13333333]\t884\t[1.]\t[0.]\t15    \t[0.33993463]\t[7.78529485] \t884\t[9.22889423] \t[7.50522089] \t15    \t[0.35001987]\n",
      "885\t22    \t[0.2]       \t885\t[1.]\t[0.]\t22    \t[0.4]       \t[7.76944806] \t885\t[8.59635448] \t[7.50522089] \t22    \t[0.26106112]\n",
      "886\t18    \t[0.16666667]\t886\t[1.]\t[0.]\t18    \t[0.372678]  \t[7.87000311] \t886\t[9.17288685] \t[7.50522089] \t18    \t[0.45295904]\n",
      "887\t16    \t[0.26666667]\t887\t[1.]\t[0.]\t16    \t[0.44221664]\t[7.74263654] \t887\t[8.88751411] \t[7.50522089] \t16    \t[0.3030213] \n",
      "888\t13    \t[0.23333333]\t888\t[1.]\t[0.]\t13    \t[0.42295258]\t[7.68424757] \t888\t[8.41478157] \t[7.50522089] \t13    \t[0.23265284]\n",
      "889\t18    \t[0.1]       \t889\t[1.]\t[0.]\t18    \t[0.3]       \t[7.68584433] \t889\t[8.36362362] \t[7.50522089] \t18    \t[0.22762712]\n",
      "890\t18    \t[0.13333333]\t890\t[1.]\t[0.]\t18    \t[0.33993463]\t[7.67170394] \t890\t[9.10260487] \t[7.50522089] \t18    \t[0.30354607]\n",
      "891\t23    \t[0.2]       \t891\t[1.]\t[0.]\t23    \t[0.4]       \t[7.75531967] \t891\t[8.37269497] \t[7.50522089] \t23    \t[0.25411233]\n",
      "892\t18    \t[0.2]       \t892\t[1.]\t[0.]\t18    \t[0.4]       \t[7.78760111] \t892\t[8.56933212] \t[7.50522089] \t18    \t[0.31274481]\n",
      "893\t18    \t[0.26666667]\t893\t[1.]\t[0.]\t18    \t[0.44221664]\t[7.72274866] \t893\t[8.31270313] \t[7.50522089] \t18    \t[0.22214669]\n",
      "894\t22    \t[0.16666667]\t894\t[1.]\t[0.]\t22    \t[0.372678]  \t[7.79869817] \t894\t[8.52255535] \t[7.50522089] \t22    \t[0.28178351]\n",
      "895\t19    \t[0.2]       \t895\t[1.]\t[0.]\t19    \t[0.4]       \t[7.80957357] \t895\t[8.78742218] \t[7.50522089] \t19    \t[0.32755407]\n",
      "896\t16    \t[0.13333333]\t896\t[1.]\t[0.]\t16    \t[0.33993463]\t[7.76503414] \t896\t[8.29087067] \t[7.50522089] \t16    \t[0.21678729]\n",
      "897\t18    \t[0.2]       \t897\t[1.]\t[0.]\t18    \t[0.4]       \t[7.7869806]  \t897\t[8.89477158] \t[7.50522089] \t18    \t[0.30449612]\n",
      "898\t18    \t[0.2]       \t898\t[1.]\t[0.]\t18    \t[0.4]       \t[7.76209782] \t898\t[8.52671432] \t[7.50522089] \t18    \t[0.25597409]\n",
      "899\t14    \t[0.23333333]\t899\t[1.]\t[0.]\t14    \t[0.42295258]\t[7.76251283] \t899\t[8.32447815] \t[7.50522089] \t14    \t[0.28230462]\n",
      "900\t20    \t[0.2]       \t900\t[1.]\t[0.]\t20    \t[0.4]       \t[7.75636447] \t900\t[8.80379677] \t[7.50522089] \t20    \t[0.27730057]\n",
      "901\t14    \t[0.16666667]\t901\t[1.]\t[0.]\t14    \t[0.372678]  \t[7.73332508] \t901\t[8.24455166] \t[7.50522089] \t14    \t[0.22943838]\n",
      "902\t9     \t[0.2]       \t902\t[1.]\t[0.]\t9     \t[0.4]       \t[7.6452199]  \t902\t[8.35297298] \t[7.50522089] \t9     \t[0.21554331]\n",
      "903\t21    \t[0.23333333]\t903\t[1.]\t[0.]\t21    \t[0.42295258]\t[7.73668076] \t903\t[8.30247879] \t[7.50522089] \t21    \t[0.27993781]\n",
      "904\t20    \t[0.23333333]\t904\t[1.]\t[0.]\t20    \t[0.42295258]\t[7.73170273] \t904\t[8.40939999] \t[7.39611006] \t20    \t[0.24589264]\n",
      "905\t23    \t[0.1]       \t905\t[1.]\t[0.]\t23    \t[0.3]       \t[7.73917346] \t905\t[8.41271687] \t[7.39611006] \t23    \t[0.2930666] \n",
      "906\t22    \t[0.26666667]\t906\t[1.]\t[0.]\t22    \t[0.44221664]\t[7.82314572] \t906\t[8.40797329] \t[7.50522089] \t22    \t[0.26740004]\n",
      "907\t18    \t[0.13333333]\t907\t[1.]\t[0.]\t18    \t[0.33993463]\t[7.85642908] \t907\t[9.4789772]  \t[7.50522089] \t18    \t[0.39010671]\n",
      "908\t19    \t[0.26666667]\t908\t[1.]\t[0.]\t19    \t[0.44221664]\t[7.78967487] \t908\t[8.42549038] \t[7.50522089] \t19    \t[0.25207059]\n",
      "909\t19    \t[0.23333333]\t909\t[1.]\t[0.]\t19    \t[0.42295258]\t[7.84817163] \t909\t[8.61651611] \t[7.50522089] \t19    \t[0.27978237]\n",
      "910\t13    \t[0.2]       \t910\t[1.]\t[0.]\t13    \t[0.4]       \t[7.86157982] \t910\t[8.84930611] \t[7.50522089] \t13    \t[0.2890759] \n",
      "911\t21    \t[0.2]       \t911\t[1.]\t[0.]\t21    \t[0.4]       \t[7.91440543] \t911\t[8.56034565] \t[7.50522089] \t21    \t[0.30957681]\n",
      "912\t15    \t[0.13333333]\t912\t[1.]\t[0.]\t15    \t[0.33993463]\t[7.82524463] \t912\t[8.34785175] \t[7.50522089] \t15    \t[0.25181202]\n",
      "913\t10    \t[0.]        \t913\t[0.]\t[0.]\t10    \t[0.]        \t[7.72339031] \t913\t[8.40354538] \t[7.50522089] \t10    \t[0.2578815] \n",
      "914\t17    \t[0.03333333]\t914\t[1.]\t[0.]\t17    \t[0.17950549]\t[7.78642394] \t914\t[8.67636299] \t[7.50522089] \t17    \t[0.3308409] \n",
      "915\t20    \t[0.23333333]\t915\t[1.]\t[0.]\t20    \t[0.42295258]\t[7.84894565] \t915\t[8.86641312] \t[7.50522089] \t20    \t[0.3909654] \n",
      "916\t16    \t[0.06666667]\t916\t[1.]\t[0.]\t16    \t[0.24944383]\t[7.75199636] \t916\t[8.75358582] \t[7.50522089] \t16    \t[0.31185716]\n",
      "917\t16    \t[0.1]       \t917\t[1.]\t[0.]\t16    \t[0.3]       \t[7.68378086] \t917\t[8.30484295] \t[7.50522089] \t16    \t[0.25817946]\n",
      "918\t18    \t[0.3]       \t918\t[1.]\t[0.]\t18    \t[0.45825757]\t[7.7183709]  \t918\t[8.13775921] \t[7.50522089] \t18    \t[0.22830539]\n",
      "919\t20    \t[0.26666667]\t919\t[1.]\t[0.]\t20    \t[0.44221664]\t[7.81560438] \t919\t[8.48892498] \t[7.50522089] \t20    \t[0.34397159]\n",
      "920\t17    \t[0.3]       \t920\t[1.]\t[0.]\t17    \t[0.45825757]\t[7.83175759] \t920\t[8.32882118] \t[7.50522089] \t17    \t[0.28152316]\n",
      "921\t12    \t[0.2]       \t921\t[1.]\t[0.]\t12    \t[0.4]       \t[7.68915416] \t921\t[8.27527905] \t[7.50522089] \t12    \t[0.20085942]\n",
      "922\t13    \t[0.2]       \t922\t[1.]\t[0.]\t13    \t[0.4]       \t[7.65778632] \t922\t[8.28924465] \t[7.50522089] \t13    \t[0.18425559]\n",
      "923\t16    \t[0.13333333]\t923\t[1.]\t[0.]\t16    \t[0.33993463]\t[7.77488537] \t923\t[8.4299345]  \t[7.50522089] \t16    \t[0.29425983]\n",
      "924\t24    \t[0.23333333]\t924\t[1.]\t[0.]\t24    \t[0.42295258]\t[7.85676131] \t924\t[8.85289955] \t[7.50522089] \t24    \t[0.32288417]\n",
      "925\t20    \t[0.06666667]\t925\t[1.]\t[0.]\t20    \t[0.24944383]\t[7.79239872] \t925\t[8.51968575] \t[7.50522089] \t20    \t[0.29200756]\n",
      "926\t18    \t[0.06666667]\t926\t[1.]\t[0.]\t18    \t[0.24944383]\t[7.75824216] \t926\t[8.49683571] \t[7.50522089] \t18    \t[0.28121864]\n",
      "927\t17    \t[0.1]       \t927\t[1.]\t[0.]\t17    \t[0.3]       \t[7.78698537] \t927\t[8.56597042] \t[7.50522089] \t17    \t[0.30077334]\n",
      "928\t19    \t[0.16666667]\t928\t[1.]\t[0.]\t19    \t[0.372678]  \t[7.7124025]  \t928\t[8.35562801] \t[7.50522089] \t19    \t[0.23320039]\n",
      "929\t25    \t[0.16666667]\t929\t[1.]\t[0.]\t25    \t[0.372678]  \t[7.70909147] \t929\t[8.32449818] \t[7.50522089] \t25    \t[0.23520902]\n",
      "930\t18    \t[0.23333333]\t930\t[1.]\t[0.]\t18    \t[0.42295258]\t[7.72920047] \t930\t[8.18012905] \t[7.50522089] \t18    \t[0.18199786]\n",
      "931\t19    \t[0.16666667]\t931\t[1.]\t[0.]\t19    \t[0.372678]  \t[7.73234555] \t931\t[8.84838486] \t[7.50522089] \t19    \t[0.27546786]\n",
      "932\t13    \t[0.3]       \t932\t[1.]\t[0.]\t13    \t[0.45825757]\t[7.75717374] \t932\t[8.50785065] \t[7.50522089] \t13    \t[0.27480355]\n",
      "933\t15    \t[0.26666667]\t933\t[1.]\t[0.]\t15    \t[0.44221664]\t[7.71300192] \t933\t[8.42009163] \t[7.50522089] \t15    \t[0.25275947]\n",
      "934\t17    \t[0.16666667]\t934\t[1.]\t[0.]\t17    \t[0.372678]  \t[7.76346364] \t934\t[8.44867229] \t[7.50522089] \t17    \t[0.26990219]\n"
     ]
    },
    {
     "name": "stdout",
     "output_type": "stream",
     "text": [
      "935\t16    \t[0.13333333]\t935\t[1.]\t[0.]\t16    \t[0.33993463]\t[7.66181779] \t935\t[8.08413982] \t[7.50522089] \t16    \t[0.19156758]\n",
      "936\t18    \t[0.26666667]\t936\t[1.]\t[0.]\t18    \t[0.44221664]\t[7.74115074] \t936\t[8.66594601] \t[7.50522089] \t18    \t[0.27370166]\n",
      "937\t21    \t[0.23333333]\t937\t[1.]\t[0.]\t21    \t[0.42295258]\t[7.69574375] \t937\t[8.44808388] \t[7.50522089] \t21    \t[0.24831631]\n",
      "938\t17    \t[0.26666667]\t938\t[1.]\t[0.]\t17    \t[0.44221664]\t[7.73246299] \t938\t[8.497715]   \t[7.50522089] \t17    \t[0.29180343]\n",
      "939\t16    \t[0.2]       \t939\t[1.]\t[0.]\t16    \t[0.4]       \t[7.74854334] \t939\t[8.38749695] \t[7.50522089] \t16    \t[0.24283354]\n",
      "940\t22    \t[0.43333333]\t940\t[1.]\t[0.]\t22    \t[0.49553562]\t[7.89762066] \t940\t[8.5332737]  \t[7.50522089] \t22    \t[0.32568308]\n",
      "941\t21    \t[0.13333333]\t941\t[1.]\t[0.]\t21    \t[0.33993463]\t[7.84271019] \t941\t[8.73034096] \t[7.50522089] \t21    \t[0.32003929]\n",
      "942\t8     \t[0.16666667]\t942\t[1.]\t[0.]\t8     \t[0.372678]  \t[7.74324794] \t942\t[8.18220901] \t[7.50522089] \t8     \t[0.24599569]\n",
      "943\t18    \t[0.23333333]\t943\t[1.]\t[0.]\t18    \t[0.42295258]\t[7.73707285] \t943\t[8.58782101] \t[7.50522089] \t18    \t[0.26094849]\n",
      "944\t14    \t[0.33333333]\t944\t[1.]\t[0.]\t14    \t[0.47140452]\t[7.74515764] \t944\t[8.43852234] \t[7.50522089] \t14    \t[0.29174012]\n",
      "945\t16    \t[0.1]       \t945\t[1.]\t[0.]\t16    \t[0.3]       \t[7.67982106] \t945\t[8.09561062] \t[7.50522089] \t16    \t[0.18124594]\n",
      "946\t16    \t[0.23333333]\t946\t[1.]\t[0.]\t16    \t[0.42295258]\t[7.76456072] \t946\t[8.55049419] \t[7.50522089] \t16    \t[0.31886021]\n",
      "947\t12    \t[0.1]       \t947\t[1.]\t[0.]\t12    \t[0.3]       \t[7.66184047] \t947\t[8.52506256] \t[7.50522089] \t12    \t[0.28085725]\n",
      "948\t21    \t[0.26666667]\t948\t[1.]\t[0.]\t21    \t[0.44221664]\t[7.67855368] \t948\t[8.12252426] \t[7.50522089] \t21    \t[0.21868022]\n",
      "949\t17    \t[0.16666667]\t949\t[1.]\t[0.]\t17    \t[0.372678]  \t[7.7560847]  \t949\t[8.31825638] \t[7.50522089] \t17    \t[0.23811414]\n",
      "950\t25    \t[0.23333333]\t950\t[1.]\t[0.]\t25    \t[0.42295258]\t[7.83860536] \t950\t[8.52665615] \t[7.50522089] \t25    \t[0.28617808]\n",
      "951\t21    \t[0.3]       \t951\t[1.]\t[0.]\t21    \t[0.45825757]\t[7.92896721] \t951\t[8.86777401] \t[7.50522089] \t21    \t[0.34654586]\n",
      "952\t18    \t[0.23333333]\t952\t[1.]\t[0.]\t18    \t[0.42295258]\t[7.88159927] \t952\t[8.62349415] \t[7.50522089] \t18    \t[0.33061166]\n",
      "953\t20    \t[0.2]       \t953\t[1.]\t[0.]\t20    \t[0.4]       \t[7.78823619] \t953\t[8.36654949] \t[7.50522089] \t20    \t[0.28916486]\n",
      "954\t15    \t[0.23333333]\t954\t[1.]\t[0.]\t15    \t[0.42295258]\t[7.70283883] \t954\t[8.67402554] \t[7.50522089] \t15    \t[0.28542521]\n",
      "955\t14    \t[0.23333333]\t955\t[1.]\t[0.]\t14    \t[0.42295258]\t[7.64839363] \t955\t[8.32070541] \t[7.47817183] \t14    \t[0.23398064]\n",
      "956\t15    \t[0.16666667]\t956\t[1.]\t[0.]\t15    \t[0.372678]  \t[7.70788434] \t956\t[8.26011562] \t[7.47817183] \t15    \t[0.2665316] \n",
      "957\t18    \t[0.23333333]\t957\t[1.]\t[0.]\t18    \t[0.42295258]\t[7.80073104] \t957\t[8.49428272] \t[7.47817183] \t18    \t[0.28091667]\n",
      "958\t18    \t[0.13333333]\t958\t[1.]\t[0.]\t18    \t[0.33993463]\t[7.79363292] \t958\t[8.52548695] \t[7.50522089] \t18    \t[0.28026462]\n",
      "959\t11    \t[0.23333333]\t959\t[1.]\t[0.]\t11    \t[0.42295258]\t[7.7474761]  \t959\t[8.30618763] \t[7.50522089] \t11    \t[0.26886565]\n",
      "960\t14    \t[0.23333333]\t960\t[1.]\t[0.]\t14    \t[0.42295258]\t[7.71544696] \t960\t[8.4528141]  \t[7.50522089] \t14    \t[0.27710603]\n",
      "961\t15    \t[0.13333333]\t961\t[1.]\t[0.]\t15    \t[0.33993463]\t[7.73605871] \t961\t[8.52163124] \t[7.50522089] \t15    \t[0.28120981]\n",
      "962\t21    \t[0.16666667]\t962\t[1.]\t[0.]\t21    \t[0.372678]  \t[7.7928545]  \t962\t[8.43724251] \t[7.50522089] \t21    \t[0.29412011]\n",
      "963\t13    \t[0.13333333]\t963\t[1.]\t[0.]\t13    \t[0.33993463]\t[7.75751656] \t963\t[8.50649643] \t[7.50522089] \t13    \t[0.34087554]\n",
      "964\t17    \t[0.1]       \t964\t[1.]\t[0.]\t17    \t[0.3]       \t[7.68196821] \t964\t[8.09206676] \t[7.50522089] \t17    \t[0.19966892]\n",
      "965\t20    \t[0.2]       \t965\t[1.]\t[0.]\t20    \t[0.4]       \t[7.7836458]  \t965\t[8.68554878] \t[7.48536539] \t20    \t[0.3189151] \n",
      "966\t15    \t[0.1]       \t966\t[1.]\t[0.]\t15    \t[0.3]       \t[7.66734106] \t966\t[8.41103077] \t[7.48536539] \t15    \t[0.22221631]\n",
      "967\t16    \t[0.3]       \t967\t[1.]\t[0.]\t16    \t[0.45825757]\t[7.75379051] \t967\t[8.47346497] \t[7.48536539] \t16    \t[0.28750581]\n",
      "968\t22    \t[0.23333333]\t968\t[1.]\t[0.]\t22    \t[0.42295258]\t[7.80107613] \t968\t[8.77772141] \t[7.48536539] \t22    \t[0.31352162]\n",
      "969\t18    \t[0.23333333]\t969\t[1.]\t[0.]\t18    \t[0.42295258]\t[7.75298808] \t969\t[8.51786232] \t[7.48536539] \t18    \t[0.3032275] \n",
      "970\t13    \t[0.13333333]\t970\t[1.]\t[0.]\t13    \t[0.33993463]\t[7.68187416] \t970\t[8.20288754] \t[7.48536539] \t13    \t[0.2370903] \n",
      "971\t17    \t[0.1]       \t971\t[1.]\t[0.]\t17    \t[0.3]       \t[7.6977623]  \t971\t[8.56079006] \t[7.48536539] \t17    \t[0.26320459]\n",
      "972\t23    \t[0.23333333]\t972\t[1.]\t[0.]\t23    \t[0.42295258]\t[7.79215469] \t972\t[8.38134766] \t[7.48536539] \t23    \t[0.26397186]\n",
      "973\t18    \t[0.26666667]\t973\t[1.]\t[0.]\t18    \t[0.44221664]\t[7.79993145] \t973\t[8.81555462] \t[7.48536539] \t18    \t[0.34674384]\n",
      "974\t16    \t[0.3]       \t974\t[1.]\t[0.]\t16    \t[0.45825757]\t[7.76568899] \t974\t[8.47776222] \t[7.48536539] \t16    \t[0.30689518]\n",
      "975\t15    \t[0.16666667]\t975\t[1.]\t[0.]\t15    \t[0.372678]  \t[7.72496144] \t975\t[8.84699249] \t[7.48536539] \t15    \t[0.32567537]\n",
      "976\t20    \t[0.2]       \t976\t[1.]\t[0.]\t20    \t[0.4]       \t[7.72829617] \t976\t[8.30356598] \t[7.48536539] \t20    \t[0.26001225]\n",
      "977\t21    \t[0.16666667]\t977\t[1.]\t[0.]\t21    \t[0.372678]  \t[7.72355127] \t977\t[8.4823885]  \t[7.48536539] \t21    \t[0.2679811] \n",
      "978\t22    \t[0.23333333]\t978\t[1.]\t[0.]\t22    \t[0.42295258]\t[7.71456366] \t978\t[8.45443439] \t[7.48536539] \t22    \t[0.26028607]\n",
      "979\t14    \t[0.2]       \t979\t[1.]\t[0.]\t14    \t[0.4]       \t[7.71135381] \t979\t[8.43127346] \t[7.48536539] \t14    \t[0.26102435]\n",
      "980\t20    \t[0.3]       \t980\t[1.]\t[0.]\t20    \t[0.45825757]\t[7.72269039] \t980\t[8.7554903]  \t[7.48536539] \t20    \t[0.29476289]\n",
      "981\t15    \t[0.3]       \t981\t[1.]\t[0.]\t15    \t[0.45825757]\t[7.66066113] \t981\t[8.07948971] \t[7.48536539] \t15    \t[0.17534341]\n",
      "982\t20    \t[0.23333333]\t982\t[1.]\t[0.]\t20    \t[0.42295258]\t[7.70184296] \t982\t[8.38584423] \t[7.48536539] \t20    \t[0.19708833]\n",
      "983\t12    \t[0.2]       \t983\t[1.]\t[0.]\t12    \t[0.4]       \t[7.66923734] \t983\t[8.45693111] \t[7.48536539] \t12    \t[0.23150172]\n",
      "984\t19    \t[0.26666667]\t984\t[1.]\t[0.]\t19    \t[0.44221664]\t[7.76778825] \t984\t[8.68136978] \t[7.48536539] \t19    \t[0.28513366]\n",
      "985\t19    \t[0.33333333]\t985\t[1.]\t[0.]\t19    \t[0.47140452]\t[7.76125584] \t985\t[8.36312008] \t[7.48536539] \t19    \t[0.26344108]\n",
      "986\t18    \t[0.23333333]\t986\t[1.]\t[0.]\t18    \t[0.42295258]\t[7.69689077] \t986\t[8.17971706] \t[7.48536539] \t18    \t[0.23204029]\n",
      "987\t20    \t[0.3]       \t987\t[1.]\t[0.]\t20    \t[0.45825757]\t[7.75646774] \t987\t[8.41238689] \t[7.48536539] \t20    \t[0.27024085]\n",
      "988\t21    \t[0.43333333]\t988\t[1.]\t[0.]\t21    \t[0.49553562]\t[7.80029281] \t988\t[8.73650074] \t[7.48536539] \t21    \t[0.3268165] \n",
      "989\t22    \t[0.46666667]\t989\t[1.]\t[0.]\t22    \t[0.49888765]\t[7.78300826] \t989\t[8.4026413]  \t[7.48536539] \t22    \t[0.31556455]\n",
      "990\t14    \t[0.26666667]\t990\t[1.]\t[0.]\t14    \t[0.44221664]\t[7.71217469] \t990\t[8.70812511] \t[7.46908808] \t14    \t[0.3185805] \n",
      "991\t19    \t[0.33333333]\t991\t[1.]\t[0.]\t19    \t[0.47140452]\t[7.70363695] \t991\t[8.6257906]  \t[7.46908808] \t19    \t[0.29461742]\n",
      "992\t21    \t[0.43333333]\t992\t[1.]\t[0.]\t21    \t[0.49553562]\t[7.75882583] \t992\t[8.81973171] \t[7.32689619] \t21    \t[0.3345539] \n",
      "993\t14    \t[0.46666667]\t993\t[1.]\t[0.]\t14    \t[0.49888765]\t[7.68514404] \t993\t[8.86963558] \t[7.32689619] \t14    \t[0.34638878]\n",
      "994\t17    \t[0.53333333]\t994\t[1.]\t[0.]\t17    \t[0.49888765]\t[7.74580016] \t994\t[8.7644949]  \t[7.32689619] \t17    \t[0.3721031] \n",
      "995\t19    \t[0.63333333]\t995\t[1.]\t[0.]\t19    \t[0.48189441]\t[7.66023563] \t995\t[9.18293762] \t[7.31025839] \t19    \t[0.39888685]\n",
      "996\t20    \t[0.7]       \t996\t[1.]\t[0.]\t20    \t[0.45825757]\t[7.63283083] \t996\t[8.47621155] \t[7.31025839] \t20    \t[0.28812174]\n",
      "997\t13    \t[0.76666667]\t997\t[1.]\t[0.]\t13    \t[0.42295258]\t[7.48703833] \t997\t[8.62563992] \t[7.31025839] \t13    \t[0.30535579]\n",
      "998\t20    \t[0.86666667]\t998\t[1.]\t[0.]\t20    \t[0.33993463]\t[7.52103774] \t998\t[8.01123428] \t[7.31025839] \t20    \t[0.2132882] \n",
      "999\t20    \t[0.83333333]\t999\t[1.]\t[0.]\t20    \t[0.372678]  \t[7.6403841]  \t999\t[8.54980469] \t[7.31025839] \t20    \t[0.36836317]\n",
      "1000\t19    \t[0.73333333]\t1000\t[1.]\t[0.]\t19    \t[0.44221664]\t[7.64497035] \t1000\t[8.29522991] \t[7.31025839] \t19    \t[0.29554061]\n",
      "処理時間： 47053.82214377541\n",
      "   0     1     2     3     4     5     6     7     8     9     ...  1014  \\\n",
      "0   0.0   0.0   1.0   0.0   0.0   0.0   0.0   0.0   0.0   0.0  ...   0.0   \n",
      "1   0.0   0.0   1.0   0.0   0.0   0.0   0.0   0.0   0.0   0.0  ...   0.0   \n",
      "\n",
      "   1015  1016  1017  1018  1019  1020  1021  1022  1023  \n",
      "0   0.0   0.0   0.0   0.0   0.0   0.0   0.0   0.0   0.0  \n",
      "1   0.0   0.0   0.0   0.0   0.0   0.0   0.0   0.0   0.0  \n",
      "\n",
      "[2 rows x 1024 columns]\n",
      "Saved in: /mnt/workspace/Github/Pointnet_Pointnet2_pytorch/Mywork/Results/Files/seed0/GA_downsampling/Hall of fame/data615_ngen1000_rate0.03125_seed0_2022-01-04_20-40.csv\n"
     ]
    },
    {
     "name": "stdout",
     "output_type": "stream",
     "text": [
      "Saved in: /mnt/workspace/Github/Pointnet_Pointnet2_pytorch/Mywork/Results/Files/seed0/GA_downsampling/log/data615_ngen1000_rate0.03125_seed0_2022-01-04_20-40.csv\n",
      "Saved in: /mnt/workspace/Github/Pointnet_Pointnet2_pytorch/Mywork/Results/Files/seed0/GA_downsampling/pop/data615_ngen1000_rate0.03125_seed0_2022-01-04_20-40.csv\n"
     ]
    }
   ],
   "source": [
    "data_idx = 615\n",
    "original_points, target_fv, target = GA_dataset.__getitem__(data_idx)\n",
    "original_points = torch.from_numpy(original_points.astype(np.float32)).clone().view(1, 1024, 3)\n",
    "target_fv = torch.from_numpy(target_fv.astype(np.float32)).clone().view(1, -1)\n",
    "target = torch.from_numpy(np.array(target).astype(np.float32)).clone()\n",
    "\n",
    "Classifier_from_feature_vector = Classifier_from_feature_vector.eval().cuda()\n",
    "Feature_vector_calculator = Feature_vector_calculator.eval().cuda()\n",
    "\n",
    "rate = 1/32\n",
    "ngen = 1000\n",
    "seed = 0\n",
    "cxpd = 0.2\n",
    "mutpd = 0.5\n",
    "\n",
    "hof, pop, log= run_GA(original_points, target_fv, target, Feature_vector_calculator, \\\n",
    "                      Classifier_from_feature_vector, rate, ngen, seed, cxpd, mutpd)\n",
    "save_GA_results(log, hof, pop, 'seed0', 'GA_downsampling',data=data_idx, ngen=ngen, rate=rate, seed=seed)"
   ]
  },
  {
   "cell_type": "code",
   "execution_count": null,
   "id": "42873ec1",
   "metadata": {},
   "outputs": [],
   "source": []
  },
  {
   "cell_type": "code",
   "execution_count": null,
   "id": "17d1e5fe",
   "metadata": {},
   "outputs": [],
   "source": []
  },
  {
   "cell_type": "code",
   "execution_count": null,
   "id": "6498db6c",
   "metadata": {},
   "outputs": [],
   "source": []
  },
  {
   "cell_type": "code",
   "execution_count": null,
   "id": "4e83fd30",
   "metadata": {},
   "outputs": [],
   "source": []
  },
  {
   "cell_type": "code",
   "execution_count": null,
   "id": "88d498b3",
   "metadata": {},
   "outputs": [],
   "source": []
  },
  {
   "cell_type": "code",
   "execution_count": null,
   "id": "3935de85",
   "metadata": {},
   "outputs": [],
   "source": []
  },
  {
   "cell_type": "markdown",
   "id": "85f30881",
   "metadata": {},
   "source": [
    "# これ以降は付録"
   ]
  },
  {
   "cell_type": "markdown",
   "id": "b0c022ad",
   "metadata": {},
   "source": [
    "# 分類のランダム性のチェック"
   ]
  },
  {
   "cell_type": "code",
   "execution_count": 17,
   "id": "e7d4a88e",
   "metadata": {
    "scrolled": true
   },
   "outputs": [
    {
     "name": "stdout",
     "output_type": "stream",
     "text": [
      "| Dist  |  Ans  | Pred  |Correct|\n",
      "---------------------------------\n",
      "|1.86695|   2   |   2   |   1   |\n",
      "|1.69112|   2   |   2   |   1   |\n",
      "|1.94310|   2   |   2   |   1   |\n",
      "|2.04167|   2   |   2   |   1   |\n",
      "|2.03489|   2   |   2   |   1   |\n",
      "|1.93824|   2   |   2   |   1   |\n",
      "|1.84395|   2   |   2   |   1   |\n",
      "|1.83608|   2   |   2   |   1   |\n",
      "|1.98636|   2   |   2   |   1   |\n",
      "|1.89502|   2   |   2   |   1   |\n",
      "|1.84507|   2   |   2   |   1   |\n",
      "|1.91427|   2   |   2   |   1   |\n",
      "|1.78525|   2   |   2   |   1   |\n",
      "|1.80117|   2   |   2   |   1   |\n",
      "|1.86896|   2   |   2   |   1   |\n",
      "|1.72689|   2   |   2   |   1   |\n",
      "|1.75888|   2   |   2   |   1   |\n",
      "|1.91797|   2   |   2   |   1   |\n",
      "|1.96264|   2   |   2   |   1   |\n",
      "|1.87928|   2   |   2   |   1   |\n",
      "|1.91871|   2   |   2   |   1   |\n",
      "|1.90087|   2   |   2   |   1   |\n",
      "|2.00837|   2   |   2   |   1   |\n",
      "|1.88893|   2   |   2   |   1   |\n",
      "|1.85505|   2   |   2   |   1   |\n",
      "|1.92150|   2   |   2   |   1   |\n",
      "|1.68540|   2   |   2   |   1   |\n",
      "|2.08213|   2   |   2   |   1   |\n",
      "|2.00225|   2   |   2   |   1   |\n",
      "|1.82304|   2   |   2   |   1   |\n",
      "|1.87040|   2   |   2   |   1   |\n",
      "|1.95376|   2   |   2   |   1   |\n",
      "|1.73042|   2   |   2   |   1   |\n",
      "|1.81948|   2   |   2   |   1   |\n",
      "|1.81673|   2   |   2   |   1   |\n",
      "|1.82307|   2   |   2   |   1   |\n",
      "|1.79640|   2   |   2   |   1   |\n",
      "|1.74767|   2   |   2   |   1   |\n",
      "|1.95541|   2   |   2   |   1   |\n",
      "|1.70793|   2   |   2   |   1   |\n",
      "|1.73323|   2   |   2   |   1   |\n",
      "|1.92582|   2   |   2   |   1   |\n",
      "|1.73683|   2   |   2   |   1   |\n",
      "|1.88067|   2   |   2   |   1   |\n",
      "|2.00327|   2   |   2   |   1   |\n",
      "|1.79055|   2   |   2   |   1   |\n",
      "|1.89709|   2   |   2   |   1   |\n",
      "|1.69724|   2   |   2   |   1   |\n",
      "|1.85376|   2   |   2   |   1   |\n",
      "|1.78285|   2   |   2   |   1   |\n",
      "|1.84163|   2   |   2   |   1   |\n",
      "|1.86346|   2   |   2   |   1   |\n",
      "|1.93689|   2   |   2   |   1   |\n",
      "|1.88771|   2   |   2   |   1   |\n",
      "|1.88982|   2   |   2   |   1   |\n",
      "|1.89353|   2   |   2   |   1   |\n",
      "|1.84974|   2   |   2   |   1   |\n",
      "|1.78730|   2   |   2   |   1   |\n",
      "|1.73488|   2   |   2   |   1   |\n",
      "|1.69209|   2   |   2   |   1   |\n",
      "|2.03487|   2   |   2   |   1   |\n",
      "|1.86451|   2   |   2   |   1   |\n",
      "|1.89497|   2   |   2   |   1   |\n",
      "|1.83175|   2   |   2   |   1   |\n",
      "|1.77786|   2   |   2   |   1   |\n",
      "|1.69447|   2   |   2   |   1   |\n",
      "|1.85913|   2   |   2   |   1   |\n",
      "|1.90738|   2   |   2   |   1   |\n",
      "|1.86052|   2   |   2   |   1   |\n",
      "|1.77237|   2   |   2   |   1   |\n",
      "|1.84214|   2   |   2   |   1   |\n",
      "|1.68226|   2   |   2   |   1   |\n",
      "|1.89387|   2   |   2   |   1   |\n",
      "|1.79665|   2   |   2   |   1   |\n",
      "|1.99578|   2   |   2   |   1   |\n",
      "|1.85379|   2   |   2   |   1   |\n",
      "|1.87490|   2   |   2   |   1   |\n",
      "|1.80601|   2   |   2   |   1   |\n",
      "|1.75130|   2   |   2   |   1   |\n",
      "|1.92937|   2   |   2   |   1   |\n",
      "|1.76380|   2   |   2   |   1   |\n",
      "|1.78170|   2   |   2   |   1   |\n",
      "|1.89081|   2   |   2   |   1   |\n",
      "|1.79948|   2   |   2   |   1   |\n",
      "|1.84185|   2   |   2   |   1   |\n",
      "|1.81472|   2   |   2   |   1   |\n",
      "|1.71953|   2   |   2   |   1   |\n",
      "|1.74162|   2   |   2   |   1   |\n",
      "|1.95311|   2   |   2   |   1   |\n",
      "|1.86693|   2   |   2   |   1   |\n",
      "|1.80883|   2   |   2   |   1   |\n",
      "|2.02136|   2   |   2   |   1   |\n",
      "|1.79540|   2   |   2   |   1   |\n",
      "|1.98964|   2   |   2   |   1   |\n",
      "|1.89308|   2   |   2   |   1   |\n",
      "|1.94622|   2   |   2   |   1   |\n",
      "|1.86627|   2   |   2   |   1   |\n",
      "|1.82510|   2   |   2   |   1   |\n",
      "|1.93506|   2   |   2   |   1   |\n",
      "|1.95553|   2   |   2   |   1   |\n"
     ]
    }
   ],
   "source": [
    "data_idx = 197\n",
    "miss = np.empty(0)\n",
    "dist_arr = np.empty(0)\n",
    "\n",
    "\n",
    "points, target_fv, target = GA_dataset.__getitem__(data_idx)\n",
    "points = torch.from_numpy(points.astype(np.float32)).clone().view(1, 1024, 3).transpose(1, 2)\n",
    "# print(points.shape)\n",
    "target_fv = torch.from_numpy(target_fv.astype(np.float32)).clone().view(1, -1)\n",
    "# print(\"{}{: ^7}{}{: ^7}{}{: ^7}{}{: ^7}{}\".format('|','Dist','|', 'Ans','|', 'Pred', '|', 'Correct', '|'))\n",
    "# print(\"---------------------------------\")\n",
    "\n",
    "for i in range(100):\n",
    "    initialize(i)\n",
    "    with torch.no_grad():\n",
    "        Classifier_from_feature_vector = Classifier_from_feature_vector.eval().cpu()\n",
    "        Feature_vector_calculator = Feature_vector_calculator.eval().cpu()\n",
    "\n",
    "        feature_vector = Feature_vector_calculator(points)\n",
    "        dist = torch.sum(torch.cdist(feature_vector.view(1, 1, -1), target_fv.view(1, 1, -1)), dim=0)\n",
    "    #     score = torch.cat((score, dist[0]), 0)\n",
    "    #     print(\"Distance of feature vector: \", dist[0])\n",
    "\n",
    "        pred, _ = Classifier_from_feature_vector(feature_vector)\n",
    "        pred_choice = pred.data.max(1)[1].detach().numpy().astype(np.int32)\n",
    "\n",
    "\n",
    "\n",
    "#     print(\"{}{: ^.5f}{}{: ^7}{}{: ^7}{}{: ^7}{}\".format('|', float(dist[0]),'|', str(target),'|', str(pred_choice[0]), '|', target == pred_choice[0], '|'))  \n",
    "#     print(\"Dist: {0}  Answer: {1}   Pred: {1}   {2}\".format(target, pred_choice[0], target == pred_choice))\n",
    "    if target != pred_choice[0]:\n",
    "        miss = np.append(miss, 0)\n",
    "    else:\n",
    "        miss = np.append(miss, 1)\n",
    "    dist_arr = np.append(dist_arr, dist)\n",
    "# if miss > 0:\n",
    "#     print(\"{} : {}\".format(data_idx, miss))"
   ]
  },
  {
   "cell_type": "code",
   "execution_count": null,
   "id": "d7c7dea4",
   "metadata": {},
   "outputs": [],
   "source": [
    "rate = 0.5\n",
    "ngen = 1000\n",
    "seed = 0\n",
    "hof, pop, log = run_GA(GADataLoader, Feature_vector_calculator, Classifier_from_feature_vector, rate, ngen=ngen, seed=seed, cxpd=0.5, mutpd=0.2)\n",
    "save_GA_results(log, hof, ngen, rate, seed)"
   ]
  },
  {
   "cell_type": "code",
   "execution_count": 14,
   "id": "e0ac3cd1",
   "metadata": {},
   "outputs": [
    {
     "name": "stdout",
     "output_type": "stream",
     "text": [
      "512\n"
     ]
    }
   ],
   "source": [
    "idx = create_select_idx(1024, 512)\n",
    "print(len(idx))\n",
    "\n",
    "seed = 0\n",
    "initialize(seed)\n",
    "score = fitness(idx, GADataLoader, Feature_vector_calculator)"
   ]
  },
  {
   "cell_type": "markdown",
   "id": "828f3619",
   "metadata": {},
   "source": [
    "# 正答率の高いテストデータのチェック"
   ]
  },
  {
   "cell_type": "code",
   "execution_count": 345,
   "id": "24fc1f39",
   "metadata": {},
   "outputs": [
    {
     "name": "stderr",
     "output_type": "stream",
     "text": [
      " 96%|████████████████████████████████████████████████████████████████████████████████████████████████████████████▎    | 23/24 [14:55<00:38, 38.94s/it]\n"
     ]
    },
    {
     "ename": "RuntimeError",
     "evalue": "shape '[100, 103]' is invalid for input of size 9900",
     "output_type": "error",
     "traceback": [
      "\u001b[0;31m---------------------------------------------------------------------------\u001b[0m",
      "\u001b[0;31mRuntimeError\u001b[0m                              Traceback (most recent call last)",
      "\u001b[0;32m/tmp/ipykernel_1858/2024257465.py\u001b[0m in \u001b[0;36m<module>\u001b[0;34m\u001b[0m\n\u001b[1;32m     18\u001b[0m             \u001b[0mcorrect\u001b[0m \u001b[0;34m=\u001b[0m \u001b[0mpred_choice\u001b[0m\u001b[0;34m.\u001b[0m\u001b[0meq\u001b[0m\u001b[0;34m(\u001b[0m\u001b[0mtarget\u001b[0m\u001b[0;34m.\u001b[0m\u001b[0mlong\u001b[0m\u001b[0;34m(\u001b[0m\u001b[0;34m)\u001b[0m\u001b[0;34m.\u001b[0m\u001b[0mdata\u001b[0m\u001b[0;34m)\u001b[0m\u001b[0;34m.\u001b[0m\u001b[0mcpu\u001b[0m\u001b[0;34m(\u001b[0m\u001b[0;34m)\u001b[0m\u001b[0;34m\u001b[0m\u001b[0;34m\u001b[0m\u001b[0m\n\u001b[1;32m     19\u001b[0m             \u001b[0mcorrect_arr\u001b[0m \u001b[0;34m=\u001b[0m \u001b[0mtorch\u001b[0m\u001b[0;34m.\u001b[0m\u001b[0mcat\u001b[0m\u001b[0;34m(\u001b[0m\u001b[0;34m(\u001b[0m\u001b[0mcorrect_arr\u001b[0m\u001b[0;34m,\u001b[0m \u001b[0mcorrect\u001b[0m\u001b[0;34m)\u001b[0m\u001b[0;34m,\u001b[0m \u001b[0mdim\u001b[0m\u001b[0;34m=\u001b[0m\u001b[0;36m0\u001b[0m\u001b[0;34m)\u001b[0m\u001b[0;34m\u001b[0m\u001b[0;34m\u001b[0m\u001b[0m\n\u001b[0;32m---> 20\u001b[0;31m     \u001b[0mcorrect_arr\u001b[0m \u001b[0;34m=\u001b[0m \u001b[0mcorrect_arr\u001b[0m\u001b[0;34m.\u001b[0m\u001b[0mview\u001b[0m\u001b[0;34m(\u001b[0m\u001b[0miteration\u001b[0m\u001b[0;34m,\u001b[0m \u001b[0mGADataLoader\u001b[0m\u001b[0;34m.\u001b[0m\u001b[0mbatch_size\u001b[0m\u001b[0;34m)\u001b[0m\u001b[0;31m#(100, 103)\u001b[0m\u001b[0;34m\u001b[0m\u001b[0;34m\u001b[0m\u001b[0m\n\u001b[0m\u001b[1;32m     21\u001b[0m     \u001b[0mcorrect_arr\u001b[0m \u001b[0;34m=\u001b[0m \u001b[0mcorrect_arr\u001b[0m\u001b[0;34m.\u001b[0m\u001b[0mdetach\u001b[0m\u001b[0;34m(\u001b[0m\u001b[0;34m)\u001b[0m\u001b[0;34m.\u001b[0m\u001b[0mnumpy\u001b[0m\u001b[0;34m(\u001b[0m\u001b[0;34m)\u001b[0m\u001b[0;34m.\u001b[0m\u001b[0mastype\u001b[0m\u001b[0;34m(\u001b[0m\u001b[0mnp\u001b[0m\u001b[0;34m.\u001b[0m\u001b[0mint32\u001b[0m\u001b[0;34m)\u001b[0m\u001b[0;34m\u001b[0m\u001b[0;34m\u001b[0m\u001b[0m\n\u001b[1;32m     22\u001b[0m     \u001b[0mcorrect_arr\u001b[0m \u001b[0;34m=\u001b[0m \u001b[0mnp\u001b[0m\u001b[0;34m.\u001b[0m\u001b[0mmean\u001b[0m\u001b[0;34m(\u001b[0m\u001b[0mcorrect_arr\u001b[0m\u001b[0;34m,\u001b[0m \u001b[0maxis\u001b[0m\u001b[0;34m=\u001b[0m\u001b[0;36m0\u001b[0m\u001b[0;34m)\u001b[0m \u001b[0;31m#バッチの正答率配列\u001b[0m\u001b[0;34m\u001b[0m\u001b[0;34m\u001b[0m\u001b[0m\n",
      "\u001b[0;31mRuntimeError\u001b[0m: shape '[100, 103]' is invalid for input of size 9900"
     ]
    }
   ],
   "source": [
    "prediction_accuracy = np.empty(0)\n",
    "iteration = 100\n",
    "\n",
    "initialize(0)\n",
    "for i, (points, _, target) in tqdm(enumerate(GADataLoader), total=len(GADataLoader)):\n",
    "    B, _, _ = points.shape\n",
    "    points, target = points.cuda(), target.cuda()\n",
    "    points = points.transpose(2, 1)\n",
    "#     points = torch.from_numpy(points.astype(np.float32)).clone().view(1, 1024, 3).transpose(1, 2)\n",
    "    with torch.no_grad():\n",
    "        Classifier_from_feature_vector = Classifier_from_feature_vector.eval().cuda()\n",
    "        Feature_vector_calculator = Feature_vector_calculator.eval().cuda()\n",
    "        \n",
    "        correct_arr = torch.empty(0).cpu()\n",
    "        for _ in range(iteration):\n",
    "            feature_vector = Feature_vector_calculator(points)\n",
    "            pred, _ = Classifier_from_feature_vector(feature_vector)\n",
    "            pred_choice = pred.data.max(1)[1]\n",
    "            correct = pred_choice.eq(target.long().data).cpu()\n",
    "            correct_arr = torch.cat((correct_arr, correct), dim=0)\n",
    "    correct_arr = correct_arr.view(iteration, B)#(100, 103)\n",
    "    correct_arr = correct_arr.detach().numpy().astype(np.int32)\n",
    "    correct_arr = np.mean(correct_arr, axis=0) #バッチの正答率配列\n",
    "    prediction_accuracy = np.append(prediction_accuracy, correct_arr)\n",
    "    \n",
    "# prediction_accuracy = prediction_accuracy.reshape(2468)\n",
    "print(prediction_accuracy)"
   ]
  },
  {
   "cell_type": "code",
   "execution_count": 350,
   "id": "8168d25b",
   "metadata": {},
   "outputs": [
    {
     "name": "stdout",
     "output_type": "stream",
     "text": [
      "[1. 1. 1. ... 1. 1. 1.]\n",
      "0.9223987034035654\n"
     ]
    }
   ],
   "source": [
    "print(prediction_accuracy)\n",
    "print(np.mean(prediction_accuracy))\n",
    "pa_df = pd.DataFrame(data=prediction_accuracy)\n"
   ]
  },
  {
   "cell_type": "code",
   "execution_count": 352,
   "id": "fd644b19",
   "metadata": {},
   "outputs": [
    {
     "name": "stdout",
     "output_type": "stream",
     "text": [
      "0.88\n"
     ]
    }
   ],
   "source": [
    "print(prediction_accuracy[855])"
   ]
  },
  {
   "cell_type": "code",
   "execution_count": 351,
   "id": "4ef1e36b",
   "metadata": {},
   "outputs": [
    {
     "name": "stdout",
     "output_type": "stream",
     "text": [
      "Saved in: /mnt/workspace/Github/Pointnet_Pointnet2_pytorch/Mywork/Results/Files/seed0/each_frame_accuracy/2021-12-15_12-06.csv\n"
     ]
    }
   ],
   "source": [
    "method_name = 'seed0/each_frame_accuracy' #何の結果か、どのような加工を加えているか、何個ずつか\n",
    "prefix = ''\n",
    "ext = \".csv\"\n",
    "df = pa_df\n",
    "#-------------------------------------\n",
    "save_dir = FILE_DIR / Path(method_name) \n",
    "# print(save_dir)\n",
    "save_dir.mkdir(exist_ok=True, parents=True)\n",
    "timestr = str(datetime.datetime.now().strftime('%Y-%m-%d_%H-%M'))\n",
    "# print(timestr)\n",
    "file_name = prefix + timestr + ext\n",
    "df.to_csv(save_dir/file_name, index=False)\n",
    "print(\"Saved in:\", save_dir/file_name)"
   ]
  },
  {
   "cell_type": "code",
   "execution_count": null,
   "id": "f7057364",
   "metadata": {},
   "outputs": [],
   "source": []
  },
  {
   "cell_type": "markdown",
   "id": "e07e9c04",
   "metadata": {},
   "source": [
    "# ベース特徴ベクトルの計算"
   ]
  },
  {
   "cell_type": "markdown",
   "id": "e1ff0ed2",
   "metadata": {},
   "source": [
    "# ベース特徴での各フレームの正誤"
   ]
  },
  {
   "cell_type": "code",
   "execution_count": 365,
   "id": "ff59f23e",
   "metadata": {},
   "outputs": [],
   "source": [
    "fv_path = FILE_DIR/'seed0'/'Feature_vector_base'/'2021-12-07_13-27.csv'\n",
    "fv = pd.read_csv(fv_path)"
   ]
  },
  {
   "cell_type": "code",
   "execution_count": 366,
   "id": "2c21f621",
   "metadata": {},
   "outputs": [
    {
     "name": "stdout",
     "output_type": "stream",
     "text": [
      "(2468, 1024)\n",
      "(103, 1024)\n",
      "float64\n"
     ]
    }
   ],
   "source": [
    "print(fv.shape)\n",
    "print(fv[:103].shape)\n",
    "print(fv.values.dtype)"
   ]
  },
  {
   "cell_type": "code",
   "execution_count": 367,
   "id": "02a85ea3",
   "metadata": {},
   "outputs": [],
   "source": [
    "fv = torch.from_numpy(fv.values.astype(np.float32)).clone().cuda()"
   ]
  },
  {
   "cell_type": "code",
   "execution_count": 368,
   "id": "ae486d3d",
   "metadata": {},
   "outputs": [
    {
     "name": "stderr",
     "output_type": "stream",
     "text": [
      "100%|█████████████████████████████████████████████████████████████████████████████████████████████████████████████████| 24/24 [03:11<00:00,  7.97s/it]"
     ]
    },
    {
     "name": "stdout",
     "output_type": "stream",
     "text": [
      "[1. 1. 1. ... 1. 1. 1.]\n"
     ]
    },
    {
     "name": "stderr",
     "output_type": "stream",
     "text": [
      "\n"
     ]
    }
   ],
   "source": [
    "prediction_accuracy = np.empty(0)\n",
    "iteration = 1\n",
    "initialize(0)\n",
    "first = 0\n",
    "for i, (points, _, target) in tqdm(enumerate(GADataLoader), total=len(GADataLoader)):\n",
    "    B, _, _ = points.shape\n",
    "    target = target.cuda()\n",
    "    last = first + B\n",
    "#     points = points.transpose(2, 1)\n",
    "#     points = torch.from_numpy(points.astype(np.float32)).clone().view(1, 1024, 3).transpose(1, 2)\n",
    "    with torch.no_grad():\n",
    "#         Feature_vector_calculator = Feature_vector_calculator.eval().cuda()\n",
    "        Classifier_from_feature_vector = Classifier_from_feature_vector.eval().cuda()\n",
    "        \n",
    "        correct_arr = torch.empty(0).cpu()\n",
    "        for _ in range(iteration):\n",
    "#             feature_vector = Feature_vector_calculator(points)\n",
    "            feature_vector = fv[first:last]\n",
    "            pred, _ = Classifier_from_feature_vector(feature_vector)\n",
    "            pred_choice = pred.data.max(1)[1]\n",
    "            correct = pred_choice.eq(target.long().data).cpu()\n",
    "            correct_arr = torch.cat((correct_arr, correct), dim=0)\n",
    "            \n",
    "            first = last\n",
    "    correct_arr = correct_arr.view(iteration, B)#(100, 103)\n",
    "    correct_arr = correct_arr.detach().numpy().astype(np.int32)\n",
    "    correct_arr = np.mean(correct_arr, axis=0) #バッチの正答率配列\n",
    "    prediction_accuracy = np.append(prediction_accuracy, correct_arr)\n",
    "    \n",
    "# prediction_accuracy = prediction_accuracy.reshape(2468)\n",
    "print(prediction_accuracy)"
   ]
  },
  {
   "cell_type": "code",
   "execution_count": 374,
   "id": "2a3a866d",
   "metadata": {},
   "outputs": [
    {
     "name": "stdout",
     "output_type": "stream",
     "text": [
      "0.9230145867098866\n",
      "1.0\n",
      "(array([ 110,  120,  251,  260,  264,  267,  269,  277,  286,  289,  328,\n",
      "        385,  409,  468,  469,  479,  607,  620,  650,  695,  698,  711,\n",
      "        713,  720,  723,  740,  751,  783,  791,  792,  800,  814,  815,\n",
      "        841,  863,  867,  888,  890,  891,  901,  905,  909,  927,  928,\n",
      "        938,  940,  943,  945,  946,  947,  948,  949,  950,  951,  952,\n",
      "        953,  954,  955,  956,  957,  958,  960,  961,  972,  973, 1057,\n",
      "       1186, 1187, 1240, 1270, 1302, 1303, 1362, 1372, 1377, 1428, 1433,\n",
      "       1437, 1441, 1442, 1444, 1449, 1454, 1468, 1471, 1473, 1475, 1487,\n",
      "       1495, 1498, 1503, 1504, 1506, 1511, 1512, 1532, 1533, 1568, 1592,\n",
      "       1594, 1618, 1629, 1633, 1639, 1645, 1648, 1651, 1655, 1672, 1673,\n",
      "       1677, 1682, 1687, 1698, 1705, 1706, 1711, 1712, 1713, 1734, 1736,\n",
      "       1738, 1739, 1743, 1746, 1776, 1789, 1790, 1821, 1853, 1864, 1867,\n",
      "       1868, 1869, 1923, 1982, 1986, 1990, 1993, 2000, 2001, 2013, 2026,\n",
      "       2027, 2033, 2044, 2045, 2050, 2054, 2065, 2089, 2099, 2102, 2114,\n",
      "       2130, 2229, 2242, 2256, 2270, 2296, 2301, 2309, 2322, 2332, 2333,\n",
      "       2337, 2342, 2350, 2360, 2375, 2380, 2383, 2386, 2389, 2395, 2399,\n",
      "       2400, 2405, 2409, 2411, 2419, 2420, 2431, 2434, 2435, 2439, 2445,\n",
      "       2449, 2459, 2462]),)\n"
     ]
    }
   ],
   "source": [
    "print(np.mean(prediction_accuracy))\n",
    "print(prediction_accuracy[100])\n",
    "print(np.where(prediction_accuracy == 0))"
   ]
  },
  {
   "cell_type": "code",
   "execution_count": 218,
   "id": "cb954967",
   "metadata": {},
   "outputs": [
    {
     "name": "stdout",
     "output_type": "stream",
     "text": [
      "<class 'int'>\n",
      "<class 'int'>\n",
      "<class 'float'>\n",
      "[[0.95017612 0.55665319 0.91560635 0.64156621 0.39000771 0.48599067]\n",
      " [0.60431048 0.54954792 0.92618143 0.91873344 0.39487561 0.96326253]]\n",
      "[0, 3, 4]\n",
      "[[0.55665319 0.91560635 0.48599067]\n",
      " [0.54954792 0.92618143 0.96326253]]\n",
      "[[0.55665319 0.91560635 0.48599067 0.55665319 0.91560635 0.48599067]\n",
      " [0.54954792 0.92618143 0.96326253 0.54954792 0.92618143 0.96326253]]\n"
     ]
    }
   ],
   "source": [
    "k = 2\n",
    "n = 6\n",
    "\n",
    "print(type(k))\n",
    "print(type(n))\n",
    "print(type(n/k))\n",
    "\n",
    "a = np.random.rand(2, n)\n",
    "print(a)\n",
    "\n",
    "idx = create_select_idx(n, int(n/k))\n",
    "print(idx)\n",
    "\n",
    "a = np.delete(a, idx, axis=1)\n",
    "print(a)\n",
    "\n",
    "a = np.tile(a, k)\n",
    "print(a)"
   ]
  },
  {
   "cell_type": "code",
   "execution_count": 180,
   "id": "75af6ad4",
   "metadata": {},
   "outputs": [
    {
     "name": "stdout",
     "output_type": "stream",
     "text": [
      "tensor([[-0.1831,  1.3544,  0.6307],\n",
      "        [-0.0396, -1.8815,  1.4039],\n",
      "        [-2.3932,  2.1243, -2.5812],\n",
      "        [-1.3034,  0.7488, -0.2790]])\n",
      "tensor([[-0.1542,  0.7707, -0.3421],\n",
      "        [ 0.0608,  1.1338, -0.9343],\n",
      "        [-0.3977,  1.5343,  0.0781],\n",
      "        [ 0.6445,  1.8089, -1.7838]])\n",
      "tensor([[1.1348, 1.5992, 0.6195, 2.5926],\n",
      "        [3.1774, 3.8169, 3.6815, 4.9243],\n",
      "        [3.4437, 3.1169, 3.3767, 3.1564],\n",
      "        [1.1511, 1.5616, 1.2509, 2.6800]])\n",
      "tensor([ 8.9070, 10.0946,  8.9286, 13.3533])\n"
     ]
    }
   ],
   "source": [
    "a = torch.randn(4, 3)\n",
    "b = torch.randn(4, 3)\n",
    "\n",
    "print(a)\n",
    "print(b)\n",
    "\n",
    "print(torch.cdist(a, b))\n",
    "print(torch.sum(torch.cdist(a, b), dim=0))"
   ]
  },
  {
   "cell_type": "code",
   "execution_count": 188,
   "id": "917e1ae2",
   "metadata": {},
   "outputs": [
    {
     "name": "stdout",
     "output_type": "stream",
     "text": [
      "tensor([[[1., 0., 1.]],\n",
      "\n",
      "        [[0., 3., 4.]]])\n",
      "tensor([[[1., 4., 2.]],\n",
      "\n",
      "        [[3., 1., 1.]]])\n",
      "tensor([[[4.1231]],\n",
      "\n",
      "        [[4.6904]]])\n",
      "tensor([[8.8135]])\n",
      "tensor([8.8135])\n"
     ]
    }
   ],
   "source": [
    "a = torch.randint(5, (2, 1, 3)).to(torch.float32)\n",
    "b = torch.randint(5, (2, 1, 3)).to(torch.float32)\n",
    "\n",
    "print(a)\n",
    "print(b)\n",
    "\n",
    "print(torch.cdist(a, b))\n",
    "print(torch.sum(torch.cdist(a, b), dim=0))\n",
    "print(torch.sum(torch.cdist(a, b), dim=0)[0])"
   ]
  },
  {
   "cell_type": "code",
   "execution_count": 190,
   "id": "1b337cc1",
   "metadata": {
    "scrolled": false
   },
   "outputs": [
    {
     "name": "stderr",
     "output_type": "stream",
     "text": [
      "100%|█████████████████████████████████████████████████████████████████████████████████████████████████████████████████| 24/24 [03:14<00:00,  8.12s/it]"
     ]
    },
    {
     "name": "stdout",
     "output_type": "stream",
     "text": [
      "tensor([183.3536, 204.8997, 202.2536, 196.5194, 189.7121, 213.2008, 198.5647,\n",
      "        210.3924, 213.6801, 227.3547, 175.5612, 161.3842, 223.1965, 199.2656,\n",
      "        232.8534, 234.3885, 214.7393, 224.7878, 217.7162, 192.6950, 204.4362,\n",
      "        226.3793, 218.1501, 190.6359])\n"
     ]
    },
    {
     "name": "stderr",
     "output_type": "stream",
     "text": [
      "\n"
     ]
    }
   ],
   "source": [
    "# feature_vector = torch.empty(len(test_dataset), 1024)\n",
    "score = torch.empty(0).cuda()\n",
    "seed = 1\n",
    "initialize(seed)\n",
    "\n",
    "with torch.no_grad():\n",
    "    for i, (points, target_feature_vector) in tqdm(enumerate(GADataLoader), total=len(GADataLoader)):\n",
    "        B, _, _ = points.shape\n",
    "        points = points.to(torch.float32).cuda()\n",
    "        target_feature_vector = target_feature_vector.to(torch.float32).cuda()\n",
    "        points = points.transpose(2, 1)\n",
    "        Feature_vector_calculator = Feature_vector_calculator.eval().cuda()\n",
    "\n",
    "#         feature_vector[i * args.batch_size:i * args.batch_size + B] = Feature_vector_calculator(points)\n",
    "        feature_vector = Feature_vector_calculator(points)\n",
    "        dist = torch.sum(torch.cdist(feature_vector.view(B, 1, -1), target_feature_vector.view(B, 1, -1)), dim=0)\n",
    "        score = torch.cat((score, dist[0]), 0)\n",
    "        \n",
    "score = torch.sum(score) / len(GADataLoader.dataset)\n",
    "print(score)"
   ]
  },
  {
   "cell_type": "code",
   "execution_count": 16,
   "id": "7e814e5c",
   "metadata": {},
   "outputs": [
    {
     "name": "stdout",
     "output_type": "stream",
     "text": [
      "tensor([-0.2142, -0.4320, -0.7079, -0.1064, -1.2427, -0.4762, -0.6859, -1.5051,\n",
      "         0.2550,  1.8042])\n",
      "[9, 3, 2, 7, 1]\n",
      "tensor([ 1.8042, -0.1064, -0.7079, -1.5051, -0.4320])\n",
      "tensor([ 1.8042, -0.1064, -0.7079, -1.5051, -0.4320,  1.8042, -0.1064, -0.7079,\n",
      "        -1.5051, -0.4320])\n"
     ]
    }
   ],
   "source": [
    "a = torch.randn(10)\n",
    "print(a)\n",
    "\n",
    "idx = create_select_idx(10, 5)\n",
    "print(idx)\n",
    "\n",
    "a = a[idx]\n",
    "print(a)\n",
    "\n",
    "a = torch.tile(a, (int(10/5),))\n",
    "print(a)"
   ]
  },
  {
   "cell_type": "code",
   "execution_count": 9,
   "id": "cf55b04d",
   "metadata": {},
   "outputs": [],
   "source": [
    "# import importlib\n",
    "\n",
    "\n",
    "# importlib.reload(DataLoaderForGAdownsampling)"
   ]
  },
  {
   "cell_type": "code",
   "execution_count": 11,
   "id": "95aaa3f0",
   "metadata": {
    "scrolled": true
   },
   "outputs": [
    {
     "name": "stderr",
     "output_type": "stream",
     "text": [
      "  4%|████▊                                                                                                       | 111/2468 [03:34<1:14:33,  1.90s/it]"
     ]
    },
    {
     "name": "stdout",
     "output_type": "stream",
     "text": [
      "110 : 6\n"
     ]
    },
    {
     "name": "stderr",
     "output_type": "stream",
     "text": [
      "  5%|█████▎                                                                                                      | 121/2468 [03:53<1:14:28,  1.90s/it]"
     ]
    },
    {
     "name": "stdout",
     "output_type": "stream",
     "text": [
      "120 : 10\n"
     ]
    },
    {
     "name": "stderr",
     "output_type": "stream",
     "text": [
      "  5%|█████▌                                                                                                      | 128/2468 [04:06<1:14:20,  1.91s/it]"
     ]
    },
    {
     "name": "stdout",
     "output_type": "stream",
     "text": [
      "127 : 1\n"
     ]
    },
    {
     "name": "stderr",
     "output_type": "stream",
     "text": [
      "  8%|████████▋                                                                                                   | 199/2468 [06:21<1:12:08,  1.91s/it]"
     ]
    },
    {
     "name": "stdout",
     "output_type": "stream",
     "text": [
      "198 : 3\n"
     ]
    },
    {
     "name": "stderr",
     "output_type": "stream",
     "text": [
      " 10%|███████████                                                                                                 | 252/2468 [08:03<1:10:29,  1.91s/it]"
     ]
    },
    {
     "name": "stdout",
     "output_type": "stream",
     "text": [
      "251 : 10\n"
     ]
    },
    {
     "name": "stderr",
     "output_type": "stream",
     "text": [
      " 10%|███████████▏                                                                                                | 257/2468 [08:12<1:11:21,  1.94s/it]"
     ]
    },
    {
     "name": "stdout",
     "output_type": "stream",
     "text": [
      "256 : 10\n"
     ]
    },
    {
     "name": "stderr",
     "output_type": "stream",
     "text": [
      " 11%|███████████▍                                                                                                | 261/2468 [08:20<1:10:40,  1.92s/it]"
     ]
    },
    {
     "name": "stdout",
     "output_type": "stream",
     "text": [
      "260 : 10\n"
     ]
    },
    {
     "name": "stderr",
     "output_type": "stream",
     "text": [
      " 11%|███████████▌                                                                                                | 265/2468 [08:28<1:10:41,  1.93s/it]"
     ]
    },
    {
     "name": "stdout",
     "output_type": "stream",
     "text": [
      "264 : 10\n"
     ]
    },
    {
     "name": "stderr",
     "output_type": "stream",
     "text": [
      " 11%|███████████▋                                                                                                | 268/2468 [08:34<1:10:17,  1.92s/it]"
     ]
    },
    {
     "name": "stdout",
     "output_type": "stream",
     "text": [
      "267 : 10\n"
     ]
    },
    {
     "name": "stderr",
     "output_type": "stream",
     "text": [
      " 11%|███████████▊                                                                                                | 270/2468 [08:37<1:09:48,  1.91s/it]"
     ]
    },
    {
     "name": "stdout",
     "output_type": "stream",
     "text": [
      "269 : 10\n"
     ]
    },
    {
     "name": "stderr",
     "output_type": "stream",
     "text": [
      " 11%|████████████▏                                                                                               | 278/2468 [08:53<1:09:53,  1.91s/it]"
     ]
    },
    {
     "name": "stdout",
     "output_type": "stream",
     "text": [
      "277 : 10\n"
     ]
    },
    {
     "name": "stderr",
     "output_type": "stream",
     "text": [
      " 12%|████████████▌                                                                                               | 287/2468 [09:10<1:09:31,  1.91s/it]"
     ]
    },
    {
     "name": "stdout",
     "output_type": "stream",
     "text": [
      "286 : 6\n"
     ]
    },
    {
     "name": "stderr",
     "output_type": "stream",
     "text": [
      " 12%|████████████▋                                                                                               | 290/2468 [09:16<1:09:11,  1.91s/it]"
     ]
    },
    {
     "name": "stdout",
     "output_type": "stream",
     "text": [
      "289 : 10\n"
     ]
    },
    {
     "name": "stderr",
     "output_type": "stream",
     "text": [
      " 13%|██████████████▍                                                                                             | 329/2468 [10:30<1:08:02,  1.91s/it]"
     ]
    },
    {
     "name": "stdout",
     "output_type": "stream",
     "text": [
      "328 : 10\n"
     ]
    },
    {
     "name": "stderr",
     "output_type": "stream",
     "text": [
      " 16%|████████████████▉                                                                                           | 386/2468 [12:20<1:06:35,  1.92s/it]"
     ]
    },
    {
     "name": "stdout",
     "output_type": "stream",
     "text": [
      "385 : 10\n"
     ]
    },
    {
     "name": "stderr",
     "output_type": "stream",
     "text": [
      " 17%|█████████████████▉                                                                                          | 409/2468 [13:03<1:05:12,  1.90s/it]"
     ]
    },
    {
     "name": "stdout",
     "output_type": "stream",
     "text": [
      "408 : 4\n"
     ]
    },
    {
     "name": "stderr",
     "output_type": "stream",
     "text": [
      "\r",
      " 17%|█████████████████▉                                                                                          | 410/2468 [13:05<1:05:06,  1.90s/it]"
     ]
    },
    {
     "name": "stdout",
     "output_type": "stream",
     "text": [
      "409 : 10\n"
     ]
    },
    {
     "name": "stderr",
     "output_type": "stream",
     "text": [
      " 18%|██████████████████▉                                                                                         | 433/2468 [13:48<1:04:02,  1.89s/it]"
     ]
    },
    {
     "name": "stdout",
     "output_type": "stream",
     "text": [
      "432 : 1\n"
     ]
    },
    {
     "name": "stderr",
     "output_type": "stream",
     "text": [
      " 19%|████████████████████▌                                                                                       | 469/2468 [14:56<1:02:37,  1.88s/it]"
     ]
    },
    {
     "name": "stdout",
     "output_type": "stream",
     "text": [
      "468 : 10\n"
     ]
    },
    {
     "name": "stderr",
     "output_type": "stream",
     "text": [
      "\r",
      " 19%|████████████████████▌                                                                                       | 470/2468 [14:58<1:02:33,  1.88s/it]"
     ]
    },
    {
     "name": "stdout",
     "output_type": "stream",
     "text": [
      "469 : 10\n"
     ]
    },
    {
     "name": "stderr",
     "output_type": "stream",
     "text": [
      " 19%|█████████████████████                                                                                       | 480/2468 [15:17<1:02:21,  1.88s/it]"
     ]
    },
    {
     "name": "stdout",
     "output_type": "stream",
     "text": [
      "479 : 10\n"
     ]
    },
    {
     "name": "stderr",
     "output_type": "stream",
     "text": [
      " 20%|█████████████████████▎                                                                                      | 488/2468 [15:32<1:02:01,  1.88s/it]"
     ]
    },
    {
     "name": "stdout",
     "output_type": "stream",
     "text": [
      "487 : 9\n"
     ]
    },
    {
     "name": "stderr",
     "output_type": "stream",
     "text": [
      " 25%|███████████████████████████                                                                                   | 608/2468 [19:20<59:15,  1.91s/it]"
     ]
    },
    {
     "name": "stdout",
     "output_type": "stream",
     "text": [
      "607 : 10\n"
     ]
    },
    {
     "name": "stderr",
     "output_type": "stream",
     "text": [
      " 25%|███████████████████████████▋                                                                                  | 621/2468 [19:45<58:58,  1.92s/it]"
     ]
    },
    {
     "name": "stdout",
     "output_type": "stream",
     "text": [
      "620 : 6\n"
     ]
    },
    {
     "name": "stderr",
     "output_type": "stream",
     "text": [
      " 26%|████████████████████████████▍                                                                               | 651/2468 [20:43<1:01:17,  2.02s/it]"
     ]
    },
    {
     "name": "stdout",
     "output_type": "stream",
     "text": [
      "650 : 10\n"
     ]
    },
    {
     "name": "stderr",
     "output_type": "stream",
     "text": [
      " 28%|███████████████████████████████                                                                               | 696/2468 [22:10<55:57,  1.89s/it]"
     ]
    },
    {
     "name": "stdout",
     "output_type": "stream",
     "text": [
      "695 : 10\n"
     ]
    },
    {
     "name": "stderr",
     "output_type": "stream",
     "text": [
      "\r",
      " 28%|███████████████████████████████                                                                               | 697/2468 [22:12<55:56,  1.90s/it]"
     ]
    },
    {
     "name": "stdout",
     "output_type": "stream",
     "text": [
      "696 : 2\n"
     ]
    },
    {
     "name": "stderr",
     "output_type": "stream",
     "text": [
      " 28%|███████████████████████████████▏                                                                              | 699/2468 [22:16<55:41,  1.89s/it]"
     ]
    },
    {
     "name": "stdout",
     "output_type": "stream",
     "text": [
      "698 : 10\n"
     ]
    },
    {
     "name": "stderr",
     "output_type": "stream",
     "text": [
      " 29%|███████████████████████████████▋                                                                              | 712/2468 [22:40<55:01,  1.88s/it]"
     ]
    },
    {
     "name": "stdout",
     "output_type": "stream",
     "text": [
      "711 : 10\n"
     ]
    },
    {
     "name": "stderr",
     "output_type": "stream",
     "text": [
      " 29%|███████████████████████████████▊                                                                              | 714/2468 [22:44<55:03,  1.88s/it]"
     ]
    },
    {
     "name": "stdout",
     "output_type": "stream",
     "text": [
      "713 : 10\n"
     ]
    },
    {
     "name": "stderr",
     "output_type": "stream",
     "text": [
      " 29%|████████████████████████████████                                                                              | 719/2468 [22:53<54:56,  1.88s/it]"
     ]
    },
    {
     "name": "stdout",
     "output_type": "stream",
     "text": [
      "718 : 10\n"
     ]
    },
    {
     "name": "stderr",
     "output_type": "stream",
     "text": [
      " 29%|████████████████████████████████▏                                                                             | 721/2468 [22:57<55:25,  1.90s/it]"
     ]
    },
    {
     "name": "stdout",
     "output_type": "stream",
     "text": [
      "720 : 10\n"
     ]
    },
    {
     "name": "stderr",
     "output_type": "stream",
     "text": [
      " 29%|████████████████████████████████▎                                                                             | 724/2468 [23:03<55:46,  1.92s/it]"
     ]
    },
    {
     "name": "stdout",
     "output_type": "stream",
     "text": [
      "723 : 10\n"
     ]
    },
    {
     "name": "stderr",
     "output_type": "stream",
     "text": [
      " 30%|█████████████████████████████████                                                                             | 741/2468 [23:35<54:15,  1.89s/it]"
     ]
    },
    {
     "name": "stdout",
     "output_type": "stream",
     "text": [
      "740 : 6\n"
     ]
    },
    {
     "name": "stderr",
     "output_type": "stream",
     "text": [
      " 30%|█████████████████████████████████▌                                                                            | 752/2468 [23:56<54:19,  1.90s/it]"
     ]
    },
    {
     "name": "stdout",
     "output_type": "stream",
     "text": [
      "751 : 10\n"
     ]
    },
    {
     "name": "stderr",
     "output_type": "stream",
     "text": [
      " 32%|██████████████████████████████████▉                                                                           | 784/2468 [24:57<53:55,  1.92s/it]"
     ]
    },
    {
     "name": "stdout",
     "output_type": "stream",
     "text": [
      "783 : 10\n"
     ]
    },
    {
     "name": "stderr",
     "output_type": "stream",
     "text": [
      " 32%|███████████████████████████████████▎                                                                          | 792/2468 [25:12<53:26,  1.91s/it]"
     ]
    },
    {
     "name": "stdout",
     "output_type": "stream",
     "text": [
      "791 : 10\n"
     ]
    },
    {
     "name": "stderr",
     "output_type": "stream",
     "text": [
      "\r",
      " 32%|███████████████████████████████████▎                                                                          | 793/2468 [25:14<53:27,  1.92s/it]"
     ]
    },
    {
     "name": "stdout",
     "output_type": "stream",
     "text": [
      "792 : 10\n"
     ]
    },
    {
     "name": "stderr",
     "output_type": "stream",
     "text": [
      " 32%|███████████████████████████████████▋                                                                          | 801/2468 [25:29<53:06,  1.91s/it]"
     ]
    },
    {
     "name": "stdout",
     "output_type": "stream",
     "text": [
      "800 : 10\n"
     ]
    },
    {
     "name": "stderr",
     "output_type": "stream",
     "text": [
      " 33%|████████████████████████████████████▎                                                                         | 815/2468 [25:56<52:45,  1.92s/it]"
     ]
    },
    {
     "name": "stdout",
     "output_type": "stream",
     "text": [
      "814 : 10\n"
     ]
    },
    {
     "name": "stderr",
     "output_type": "stream",
     "text": [
      "\r",
      " 33%|████████████████████████████████████▎                                                                         | 816/2468 [25:58<52:46,  1.92s/it]"
     ]
    },
    {
     "name": "stdout",
     "output_type": "stream",
     "text": [
      "815 : 2\n"
     ]
    },
    {
     "name": "stderr",
     "output_type": "stream",
     "text": [
      " 34%|█████████████████████████████████████▏                                                                        | 833/2468 [26:31<52:06,  1.91s/it]"
     ]
    },
    {
     "name": "stdout",
     "output_type": "stream",
     "text": [
      "832 : 1\n"
     ]
    },
    {
     "name": "stderr",
     "output_type": "stream",
     "text": [
      " 34%|█████████████████████████████████████▌                                                                        | 842/2468 [26:48<50:56,  1.88s/it]"
     ]
    },
    {
     "name": "stdout",
     "output_type": "stream",
     "text": [
      "841 : 10\n"
     ]
    },
    {
     "name": "stderr",
     "output_type": "stream",
     "text": [
      " 35%|██████████████████████████████████████                                                                        | 855/2468 [27:12<50:35,  1.88s/it]"
     ]
    },
    {
     "name": "stdout",
     "output_type": "stream",
     "text": [
      "854 : 3\n"
     ]
    },
    {
     "name": "stderr",
     "output_type": "stream",
     "text": [
      "\r",
      " 35%|██████████████████████████████████████▏                                                                       | 856/2468 [27:14<50:34,  1.88s/it]"
     ]
    },
    {
     "name": "stdout",
     "output_type": "stream",
     "text": [
      "855 : 1\n"
     ]
    },
    {
     "name": "stderr",
     "output_type": "stream",
     "text": [
      " 35%|██████████████████████████████████████▌                                                                       | 864/2468 [27:29<50:41,  1.90s/it]"
     ]
    },
    {
     "name": "stdout",
     "output_type": "stream",
     "text": [
      "863 : 1\n"
     ]
    },
    {
     "name": "stderr",
     "output_type": "stream",
     "text": [
      " 35%|██████████████████████████████████████▋                                                                       | 868/2468 [27:37<50:36,  1.90s/it]"
     ]
    },
    {
     "name": "stdout",
     "output_type": "stream",
     "text": [
      "867 : 10\n"
     ]
    },
    {
     "name": "stderr",
     "output_type": "stream",
     "text": [
      " 36%|███████████████████████████████████████▎                                                                      | 883/2468 [28:05<49:58,  1.89s/it]"
     ]
    },
    {
     "name": "stdout",
     "output_type": "stream",
     "text": [
      "882 : 1\n"
     ]
    },
    {
     "name": "stderr",
     "output_type": "stream",
     "text": [
      " 36%|███████████████████████████████████████▌                                                                      | 889/2468 [28:17<49:52,  1.90s/it]"
     ]
    },
    {
     "name": "stdout",
     "output_type": "stream",
     "text": [
      "888 : 3\n"
     ]
    },
    {
     "name": "stderr",
     "output_type": "stream",
     "text": [
      " 36%|███████████████████████████████████████▋                                                                      | 891/2468 [28:20<49:49,  1.90s/it]"
     ]
    },
    {
     "name": "stdout",
     "output_type": "stream",
     "text": [
      "890 : 9\n"
     ]
    },
    {
     "name": "stderr",
     "output_type": "stream",
     "text": [
      "\r",
      " 36%|███████████████████████████████████████▊                                                                      | 892/2468 [28:22<49:43,  1.89s/it]"
     ]
    },
    {
     "name": "stdout",
     "output_type": "stream",
     "text": [
      "891 : 10\n"
     ]
    },
    {
     "name": "stderr",
     "output_type": "stream",
     "text": [
      " 36%|███████████████████████████████████████▉                                                                      | 895/2468 [28:28<49:41,  1.90s/it]"
     ]
    },
    {
     "name": "stdout",
     "output_type": "stream",
     "text": [
      "894 : 2\n"
     ]
    },
    {
     "name": "stderr",
     "output_type": "stream",
     "text": [
      " 37%|████████████████████████████████████████▏                                                                     | 902/2468 [28:41<49:14,  1.89s/it]"
     ]
    },
    {
     "name": "stdout",
     "output_type": "stream",
     "text": [
      "901 : 4\n"
     ]
    },
    {
     "name": "stderr",
     "output_type": "stream",
     "text": [
      " 37%|████████████████████████████████████████▍                                                                     | 906/2468 [28:49<49:06,  1.89s/it]"
     ]
    },
    {
     "name": "stdout",
     "output_type": "stream",
     "text": [
      "905 : 10\n"
     ]
    },
    {
     "name": "stderr",
     "output_type": "stream",
     "text": [
      " 37%|████████████████████████████████████████▌                                                                     | 910/2468 [28:56<49:06,  1.89s/it]"
     ]
    },
    {
     "name": "stdout",
     "output_type": "stream",
     "text": [
      "909 : 4\n"
     ]
    },
    {
     "name": "stderr",
     "output_type": "stream",
     "text": [
      " 37%|█████████████████████████████████████████▏                                                                    | 925/2468 [29:25<48:52,  1.90s/it]"
     ]
    },
    {
     "name": "stdout",
     "output_type": "stream",
     "text": [
      "924 : 1\n"
     ]
    },
    {
     "name": "stderr",
     "output_type": "stream",
     "text": [
      " 38%|█████████████████████████████████████████▎                                                                    | 928/2468 [29:31<48:42,  1.90s/it]"
     ]
    },
    {
     "name": "stdout",
     "output_type": "stream",
     "text": [
      "927 : 10\n"
     ]
    },
    {
     "name": "stderr",
     "output_type": "stream",
     "text": [
      "\r",
      " 38%|█████████████████████████████████████████▍                                                                    | 929/2468 [29:32<48:34,  1.89s/it]"
     ]
    },
    {
     "name": "stdout",
     "output_type": "stream",
     "text": [
      "928 : 10\n"
     ]
    },
    {
     "name": "stderr",
     "output_type": "stream",
     "text": [
      " 38%|█████████████████████████████████████████▌                                                                    | 933/2468 [29:40<48:37,  1.90s/it]"
     ]
    },
    {
     "name": "stdout",
     "output_type": "stream",
     "text": [
      "932 : 6\n"
     ]
    },
    {
     "name": "stderr",
     "output_type": "stream",
     "text": [
      " 38%|█████████████████████████████████████████▊                                                                    | 939/2468 [29:51<48:16,  1.89s/it]"
     ]
    },
    {
     "name": "stdout",
     "output_type": "stream",
     "text": [
      "938 : 5\n"
     ]
    },
    {
     "name": "stderr",
     "output_type": "stream",
     "text": [
      " 38%|█████████████████████████████████████████▉                                                                    | 941/2468 [29:55<48:18,  1.90s/it]"
     ]
    },
    {
     "name": "stdout",
     "output_type": "stream",
     "text": [
      "940 : 10\n"
     ]
    },
    {
     "name": "stderr",
     "output_type": "stream",
     "text": [
      " 38%|██████████████████████████████████████████                                                                    | 943/2468 [29:59<48:18,  1.90s/it]"
     ]
    },
    {
     "name": "stdout",
     "output_type": "stream",
     "text": [
      "942 : 1\n"
     ]
    },
    {
     "name": "stderr",
     "output_type": "stream",
     "text": [
      "\r",
      " 38%|██████████████████████████████████████████                                                                    | 944/2468 [30:01<48:15,  1.90s/it]"
     ]
    },
    {
     "name": "stdout",
     "output_type": "stream",
     "text": [
      "943 : 10\n"
     ]
    },
    {
     "name": "stderr",
     "output_type": "stream",
     "text": [
      "\r",
      " 38%|██████████████████████████████████████████                                                                    | 945/2468 [30:03<48:09,  1.90s/it]"
     ]
    },
    {
     "name": "stdout",
     "output_type": "stream",
     "text": [
      "944 : 3\n"
     ]
    },
    {
     "name": "stderr",
     "output_type": "stream",
     "text": [
      "\r",
      " 38%|██████████████████████████████████████████▏                                                                   | 946/2468 [30:05<47:55,  1.89s/it]"
     ]
    },
    {
     "name": "stdout",
     "output_type": "stream",
     "text": [
      "945 : 10\n"
     ]
    },
    {
     "name": "stderr",
     "output_type": "stream",
     "text": [
      "\r",
      " 38%|██████████████████████████████████████████▏                                                                   | 947/2468 [30:07<47:57,  1.89s/it]"
     ]
    },
    {
     "name": "stdout",
     "output_type": "stream",
     "text": [
      "946 : 10\n"
     ]
    },
    {
     "name": "stderr",
     "output_type": "stream",
     "text": [
      "\r",
      " 38%|██████████████████████████████████████████▎                                                                   | 948/2468 [30:08<47:42,  1.88s/it]"
     ]
    },
    {
     "name": "stdout",
     "output_type": "stream",
     "text": [
      "947 : 10\n"
     ]
    },
    {
     "name": "stderr",
     "output_type": "stream",
     "text": [
      "\r",
      " 38%|██████████████████████████████████████████▎                                                                   | 949/2468 [30:10<47:53,  1.89s/it]"
     ]
    },
    {
     "name": "stdout",
     "output_type": "stream",
     "text": [
      "948 : 10\n"
     ]
    },
    {
     "name": "stderr",
     "output_type": "stream",
     "text": [
      "\r",
      " 38%|██████████████████████████████████████████▎                                                                   | 950/2468 [30:12<47:52,  1.89s/it]"
     ]
    },
    {
     "name": "stdout",
     "output_type": "stream",
     "text": [
      "949 : 10\n"
     ]
    },
    {
     "name": "stderr",
     "output_type": "stream",
     "text": [
      "\r",
      " 39%|██████████████████████████████████████████▍                                                                   | 951/2468 [30:14<47:53,  1.89s/it]"
     ]
    },
    {
     "name": "stdout",
     "output_type": "stream",
     "text": [
      "950 : 10\n"
     ]
    },
    {
     "name": "stderr",
     "output_type": "stream",
     "text": [
      "\r",
      " 39%|██████████████████████████████████████████▍                                                                   | 952/2468 [30:16<47:36,  1.88s/it]"
     ]
    },
    {
     "name": "stdout",
     "output_type": "stream",
     "text": [
      "951 : 10\n"
     ]
    },
    {
     "name": "stderr",
     "output_type": "stream",
     "text": [
      "\r",
      " 39%|██████████████████████████████████████████▍                                                                   | 953/2468 [30:18<47:36,  1.89s/it]"
     ]
    },
    {
     "name": "stdout",
     "output_type": "stream",
     "text": [
      "952 : 10\n"
     ]
    },
    {
     "name": "stderr",
     "output_type": "stream",
     "text": [
      "\r",
      " 39%|██████████████████████████████████████████▌                                                                   | 954/2468 [30:20<47:43,  1.89s/it]"
     ]
    },
    {
     "name": "stdout",
     "output_type": "stream",
     "text": [
      "953 : 10\n"
     ]
    },
    {
     "name": "stderr",
     "output_type": "stream",
     "text": [
      "\r",
      " 39%|██████████████████████████████████████████▌                                                                   | 955/2468 [30:22<47:30,  1.88s/it]"
     ]
    },
    {
     "name": "stdout",
     "output_type": "stream",
     "text": [
      "954 : 10\n"
     ]
    },
    {
     "name": "stderr",
     "output_type": "stream",
     "text": [
      "\r",
      " 39%|██████████████████████████████████████████▌                                                                   | 956/2468 [30:24<47:19,  1.88s/it]"
     ]
    },
    {
     "name": "stdout",
     "output_type": "stream",
     "text": [
      "955 : 10\n"
     ]
    },
    {
     "name": "stderr",
     "output_type": "stream",
     "text": [
      "\r",
      " 39%|██████████████████████████████████████████▋                                                                   | 957/2468 [30:25<47:35,  1.89s/it]"
     ]
    },
    {
     "name": "stdout",
     "output_type": "stream",
     "text": [
      "956 : 10\n"
     ]
    },
    {
     "name": "stderr",
     "output_type": "stream",
     "text": [
      "\r",
      " 39%|██████████████████████████████████████████▋                                                                   | 958/2468 [30:27<47:40,  1.89s/it]"
     ]
    },
    {
     "name": "stdout",
     "output_type": "stream",
     "text": [
      "957 : 10\n"
     ]
    },
    {
     "name": "stderr",
     "output_type": "stream",
     "text": [
      "\r",
      " 39%|██████████████████████████████████████████▋                                                                   | 959/2468 [30:29<47:42,  1.90s/it]"
     ]
    },
    {
     "name": "stdout",
     "output_type": "stream",
     "text": [
      "958 : 10\n"
     ]
    },
    {
     "name": "stderr",
     "output_type": "stream",
     "text": [
      "\r",
      " 39%|██████████████████████████████████████████▊                                                                   | 960/2468 [30:31<47:43,  1.90s/it]"
     ]
    },
    {
     "name": "stdout",
     "output_type": "stream",
     "text": [
      "959 : 2\n"
     ]
    },
    {
     "name": "stderr",
     "output_type": "stream",
     "text": [
      "\r",
      " 39%|██████████████████████████████████████████▊                                                                   | 961/2468 [30:33<47:49,  1.90s/it]"
     ]
    },
    {
     "name": "stdout",
     "output_type": "stream",
     "text": [
      "960 : 10\n"
     ]
    },
    {
     "name": "stderr",
     "output_type": "stream",
     "text": [
      "\r",
      " 39%|██████████████████████████████████████████▉                                                                   | 962/2468 [30:35<47:49,  1.91s/it]"
     ]
    },
    {
     "name": "stdout",
     "output_type": "stream",
     "text": [
      "961 : 10\n"
     ]
    },
    {
     "name": "stderr",
     "output_type": "stream",
     "text": [
      " 39%|███████████████████████████████████████████▎                                                                  | 973/2468 [30:56<47:00,  1.89s/it]"
     ]
    },
    {
     "name": "stdout",
     "output_type": "stream",
     "text": [
      "972 : 10\n"
     ]
    },
    {
     "name": "stderr",
     "output_type": "stream",
     "text": [
      "\r",
      " 39%|███████████████████████████████████████████▍                                                                  | 974/2468 [30:58<46:54,  1.88s/it]"
     ]
    },
    {
     "name": "stdout",
     "output_type": "stream",
     "text": [
      "973 : 10\n"
     ]
    },
    {
     "name": "stderr",
     "output_type": "stream",
     "text": [
      " 42%|█████████████████████████████████████████████▋                                                               | 1034/2468 [32:52<45:13,  1.89s/it]"
     ]
    },
    {
     "name": "stdout",
     "output_type": "stream",
     "text": [
      "1033 : 1\n"
     ]
    },
    {
     "name": "stderr",
     "output_type": "stream",
     "text": [
      " 43%|██████████████████████████████████████████████▋                                                              | 1058/2468 [33:37<44:43,  1.90s/it]"
     ]
    },
    {
     "name": "stdout",
     "output_type": "stream",
     "text": [
      "1057 : 10\n"
     ]
    },
    {
     "name": "stderr",
     "output_type": "stream",
     "text": [
      " 48%|████████████████████████████████████████████████████▍                                                        | 1187/2468 [37:48<40:25,  1.89s/it]"
     ]
    },
    {
     "name": "stdout",
     "output_type": "stream",
     "text": [
      "1186 : 10\n"
     ]
    },
    {
     "name": "stderr",
     "output_type": "stream",
     "text": [
      "\r",
      " 48%|████████████████████████████████████████████████████▍                                                        | 1188/2468 [37:50<40:19,  1.89s/it]"
     ]
    },
    {
     "name": "stdout",
     "output_type": "stream",
     "text": [
      "1187 : 10\n"
     ]
    },
    {
     "name": "stderr",
     "output_type": "stream",
     "text": [
      " 48%|████████████████████████████████████████████████████▊                                                        | 1196/2468 [38:05<40:29,  1.91s/it]"
     ]
    },
    {
     "name": "stdout",
     "output_type": "stream",
     "text": [
      "1195 : 1\n"
     ]
    },
    {
     "name": "stderr",
     "output_type": "stream",
     "text": [
      " 50%|██████████████████████████████████████████████████████▊                                                      | 1241/2468 [39:30<38:51,  1.90s/it]"
     ]
    },
    {
     "name": "stdout",
     "output_type": "stream",
     "text": [
      "1240 : 10\n"
     ]
    },
    {
     "name": "stderr",
     "output_type": "stream",
     "text": [
      " 51%|███████████████████████████████████████████████████████▌                                                     | 1258/2468 [40:03<38:18,  1.90s/it]"
     ]
    },
    {
     "name": "stdout",
     "output_type": "stream",
     "text": [
      "1257 : 10\n"
     ]
    },
    {
     "name": "stderr",
     "output_type": "stream",
     "text": [
      " 51%|████████████████████████████████████████████████████████▏                                                    | 1271/2468 [40:27<37:53,  1.90s/it]"
     ]
    },
    {
     "name": "stdout",
     "output_type": "stream",
     "text": [
      "1270 : 2\n"
     ]
    },
    {
     "name": "stderr",
     "output_type": "stream",
     "text": [
      " 53%|█████████████████████████████████████████████████████████▌                                                   | 1303/2468 [41:28<37:01,  1.91s/it]"
     ]
    },
    {
     "name": "stdout",
     "output_type": "stream",
     "text": [
      "1302 : 10\n"
     ]
    },
    {
     "name": "stderr",
     "output_type": "stream",
     "text": [
      "\r",
      " 53%|█████████████████████████████████████████████████████████▌                                                   | 1304/2468 [41:30<36:55,  1.90s/it]"
     ]
    },
    {
     "name": "stdout",
     "output_type": "stream",
     "text": [
      "1303 : 10\n"
     ]
    },
    {
     "name": "stderr",
     "output_type": "stream",
     "text": [
      " 55%|███████████████████████████████████████████████████████████▉                                                 | 1357/2468 [43:11<35:07,  1.90s/it]"
     ]
    },
    {
     "name": "stdout",
     "output_type": "stream",
     "text": [
      "1356 : 5\n"
     ]
    },
    {
     "name": "stderr",
     "output_type": "stream",
     "text": [
      " 55%|████████████████████████████████████████████████████████████▏                                                | 1363/2468 [43:22<34:51,  1.89s/it]"
     ]
    },
    {
     "name": "stdout",
     "output_type": "stream",
     "text": [
      "1362 : 10\n"
     ]
    },
    {
     "name": "stderr",
     "output_type": "stream",
     "text": [
      " 56%|████████████████████████████████████████████████████████████▋                                                | 1373/2468 [43:41<34:24,  1.89s/it]"
     ]
    },
    {
     "name": "stdout",
     "output_type": "stream",
     "text": [
      "1372 : 10\n"
     ]
    },
    {
     "name": "stderr",
     "output_type": "stream",
     "text": [
      " 56%|████████████████████████████████████████████████████████████▊                                                | 1378/2468 [43:50<34:18,  1.89s/it]"
     ]
    },
    {
     "name": "stdout",
     "output_type": "stream",
     "text": [
      "1377 : 3\n"
     ]
    },
    {
     "name": "stderr",
     "output_type": "stream",
     "text": [
      " 58%|██████████████████████████████████████████████████████████████▉                                              | 1425/2468 [45:19<33:16,  1.91s/it]"
     ]
    },
    {
     "name": "stdout",
     "output_type": "stream",
     "text": [
      "1424 : 1\n"
     ]
    },
    {
     "name": "stderr",
     "output_type": "stream",
     "text": [
      " 58%|███████████████████████████████████████████████████████████████                                              | 1429/2468 [45:27<33:11,  1.92s/it]"
     ]
    },
    {
     "name": "stdout",
     "output_type": "stream",
     "text": [
      "1428 : 10\n"
     ]
    },
    {
     "name": "stderr",
     "output_type": "stream",
     "text": [
      " 58%|███████████████████████████████████████████████████████████████▏                                             | 1432/2468 [45:32<32:56,  1.91s/it]"
     ]
    },
    {
     "name": "stdout",
     "output_type": "stream",
     "text": [
      "1431 : 4\n"
     ]
    },
    {
     "name": "stderr",
     "output_type": "stream",
     "text": [
      " 58%|███████████████████████████████████████████████████████████████▎                                             | 1434/2468 [45:36<32:57,  1.91s/it]"
     ]
    },
    {
     "name": "stdout",
     "output_type": "stream",
     "text": [
      "1433 : 7\n"
     ]
    },
    {
     "name": "stderr",
     "output_type": "stream",
     "text": [
      " 58%|███████████████████████████████████████████████████████████████▌                                             | 1438/2468 [45:44<32:51,  1.91s/it]"
     ]
    },
    {
     "name": "stdout",
     "output_type": "stream",
     "text": [
      "1437 : 9\n"
     ]
    },
    {
     "name": "stderr",
     "output_type": "stream",
     "text": [
      "\r",
      " 58%|███████████████████████████████████████████████████████████████▌                                             | 1439/2468 [45:46<32:51,  1.92s/it]"
     ]
    },
    {
     "name": "stdout",
     "output_type": "stream",
     "text": [
      "1438 : 1\n"
     ]
    },
    {
     "name": "stderr",
     "output_type": "stream",
     "text": [
      " 58%|███████████████████████████████████████████████████████████████▋                                             | 1442/2468 [45:52<32:48,  1.92s/it]"
     ]
    },
    {
     "name": "stdout",
     "output_type": "stream",
     "text": [
      "1441 : 9\n"
     ]
    },
    {
     "name": "stderr",
     "output_type": "stream",
     "text": [
      "\r",
      " 58%|███████████████████████████████████████████████████████████████▋                                             | 1443/2468 [45:53<32:40,  1.91s/it]"
     ]
    },
    {
     "name": "stdout",
     "output_type": "stream",
     "text": [
      "1442 : 4\n"
     ]
    },
    {
     "name": "stderr",
     "output_type": "stream",
     "text": [
      " 59%|███████████████████████████████████████████████████████████████▊                                             | 1445/2468 [45:57<32:27,  1.90s/it]"
     ]
    },
    {
     "name": "stdout",
     "output_type": "stream",
     "text": [
      "1444 : 10\n"
     ]
    },
    {
     "name": "stderr",
     "output_type": "stream",
     "text": [
      " 59%|████████████████████████████████████████████████████████████████                                             | 1450/2468 [46:07<32:15,  1.90s/it]"
     ]
    },
    {
     "name": "stdout",
     "output_type": "stream",
     "text": [
      "1449 : 10\n"
     ]
    },
    {
     "name": "stderr",
     "output_type": "stream",
     "text": [
      " 59%|████████████████████████████████████████████████████████████████▎                                            | 1455/2468 [46:16<32:02,  1.90s/it]"
     ]
    },
    {
     "name": "stdout",
     "output_type": "stream",
     "text": [
      "1454 : 10\n"
     ]
    },
    {
     "name": "stderr",
     "output_type": "stream",
     "text": [
      " 59%|████████████████████████████████████████████████████████████████▍                                            | 1458/2468 [46:22<31:58,  1.90s/it]"
     ]
    },
    {
     "name": "stdout",
     "output_type": "stream",
     "text": [
      "1457 : 3\n"
     ]
    },
    {
     "name": "stderr",
     "output_type": "stream",
     "text": [
      " 60%|████████████████████████████████████████████████████████████████▉                                            | 1469/2468 [46:43<31:48,  1.91s/it]"
     ]
    },
    {
     "name": "stdout",
     "output_type": "stream",
     "text": [
      "1468 : 10\n"
     ]
    },
    {
     "name": "stderr",
     "output_type": "stream",
     "text": [
      " 60%|█████████████████████████████████████████████████████████████████                                            | 1472/2468 [46:49<31:41,  1.91s/it]"
     ]
    },
    {
     "name": "stdout",
     "output_type": "stream",
     "text": [
      "1471 : 10\n"
     ]
    },
    {
     "name": "stderr",
     "output_type": "stream",
     "text": [
      " 60%|█████████████████████████████████████████████████████████████████                                            | 1474/2468 [46:53<31:35,  1.91s/it]"
     ]
    },
    {
     "name": "stdout",
     "output_type": "stream",
     "text": [
      "1473 : 10\n"
     ]
    },
    {
     "name": "stderr",
     "output_type": "stream",
     "text": [
      " 60%|█████████████████████████████████████████████████████████████████▏                                           | 1476/2468 [46:56<31:18,  1.89s/it]"
     ]
    },
    {
     "name": "stdout",
     "output_type": "stream",
     "text": [
      "1475 : 10\n"
     ]
    },
    {
     "name": "stderr",
     "output_type": "stream",
     "text": [
      " 60%|█████████████████████████████████████████████████████████████████▎                                           | 1479/2468 [47:02<31:15,  1.90s/it]"
     ]
    },
    {
     "name": "stdout",
     "output_type": "stream",
     "text": [
      "1478 : 5\n"
     ]
    },
    {
     "name": "stderr",
     "output_type": "stream",
     "text": [
      " 60%|█████████████████████████████████████████████████████████████████▍                                           | 1483/2468 [47:10<31:06,  1.90s/it]"
     ]
    },
    {
     "name": "stdout",
     "output_type": "stream",
     "text": [
      "1482 : 1\n"
     ]
    },
    {
     "name": "stderr",
     "output_type": "stream",
     "text": [
      " 60%|█████████████████████████████████████████████████████████████████▋                                           | 1488/2468 [47:19<31:02,  1.90s/it]"
     ]
    },
    {
     "name": "stdout",
     "output_type": "stream",
     "text": [
      "1487 : 7\n"
     ]
    },
    {
     "name": "stderr",
     "output_type": "stream",
     "text": [
      " 60%|█████████████████████████████████████████████████████████████████▉                                           | 1492/2468 [47:27<31:02,  1.91s/it]"
     ]
    },
    {
     "name": "stdout",
     "output_type": "stream",
     "text": [
      "1491 : 6\n"
     ]
    },
    {
     "name": "stderr",
     "output_type": "stream",
     "text": [
      " 61%|█████████████████████████████████████████████████████████████████▉                                           | 1494/2468 [47:31<30:55,  1.91s/it]"
     ]
    },
    {
     "name": "stdout",
     "output_type": "stream",
     "text": [
      "1493 : 3\n"
     ]
    },
    {
     "name": "stderr",
     "output_type": "stream",
     "text": [
      " 61%|██████████████████████████████████████████████████████████████████                                           | 1496/2468 [47:34<30:54,  1.91s/it]"
     ]
    },
    {
     "name": "stdout",
     "output_type": "stream",
     "text": [
      "1495 : 10\n"
     ]
    },
    {
     "name": "stderr",
     "output_type": "stream",
     "text": [
      " 61%|██████████████████████████████████████████████████████████████████▏                                          | 1499/2468 [47:40<30:39,  1.90s/it]"
     ]
    },
    {
     "name": "stdout",
     "output_type": "stream",
     "text": [
      "1498 : 10\n"
     ]
    },
    {
     "name": "stderr",
     "output_type": "stream",
     "text": [
      " 61%|██████████████████████████████████████████████████████████████████▍                                          | 1504/2468 [47:50<30:36,  1.91s/it]"
     ]
    },
    {
     "name": "stdout",
     "output_type": "stream",
     "text": [
      "1503 : 10\n"
     ]
    },
    {
     "name": "stderr",
     "output_type": "stream",
     "text": [
      "\r",
      " 61%|██████████████████████████████████████████████████████████████████▍                                          | 1505/2468 [47:51<30:37,  1.91s/it]"
     ]
    },
    {
     "name": "stdout",
     "output_type": "stream",
     "text": [
      "1504 : 10\n"
     ]
    },
    {
     "name": "stderr",
     "output_type": "stream",
     "text": [
      " 61%|██████████████████████████████████████████████████████████████████▌                                          | 1507/2468 [47:55<30:31,  1.91s/it]"
     ]
    },
    {
     "name": "stdout",
     "output_type": "stream",
     "text": [
      "1506 : 10\n"
     ]
    },
    {
     "name": "stderr",
     "output_type": "stream",
     "text": [
      "\r",
      " 61%|██████████████████████████████████████████████████████████████████▌                                          | 1508/2468 [47:57<30:31,  1.91s/it]"
     ]
    },
    {
     "name": "stdout",
     "output_type": "stream",
     "text": [
      "1507 : 3\n"
     ]
    },
    {
     "name": "stderr",
     "output_type": "stream",
     "text": [
      " 61%|██████████████████████████████████████████████████████████████████▊                                          | 1512/2468 [48:05<30:39,  1.92s/it]"
     ]
    },
    {
     "name": "stdout",
     "output_type": "stream",
     "text": [
      "1511 : 10\n"
     ]
    },
    {
     "name": "stderr",
     "output_type": "stream",
     "text": [
      "\r",
      " 61%|██████████████████████████████████████████████████████████████████▊                                          | 1513/2468 [48:07<30:15,  1.90s/it]"
     ]
    },
    {
     "name": "stdout",
     "output_type": "stream",
     "text": [
      "1512 : 10\n"
     ]
    },
    {
     "name": "stderr",
     "output_type": "stream",
     "text": [
      " 62%|███████████████████████████████████████████████████████████████████▋                                         | 1533/2468 [48:45<29:47,  1.91s/it]"
     ]
    },
    {
     "name": "stdout",
     "output_type": "stream",
     "text": [
      "1532 : 10\n"
     ]
    },
    {
     "name": "stderr",
     "output_type": "stream",
     "text": [
      "\r",
      " 62%|███████████████████████████████████████████████████████████████████▋                                         | 1534/2468 [48:47<29:51,  1.92s/it]"
     ]
    },
    {
     "name": "stdout",
     "output_type": "stream",
     "text": [
      "1533 : 10\n"
     ]
    },
    {
     "name": "stderr",
     "output_type": "stream",
     "text": [
      " 62%|███████████████████████████████████████████████████████████████████▊                                         | 1536/2468 [48:51<29:44,  1.91s/it]"
     ]
    },
    {
     "name": "stdout",
     "output_type": "stream",
     "text": [
      "1535 : 3\n"
     ]
    },
    {
     "name": "stderr",
     "output_type": "stream",
     "text": [
      " 64%|█████████████████████████████████████████████████████████████████████▎                                       | 1569/2468 [49:54<28:41,  1.91s/it]"
     ]
    },
    {
     "name": "stdout",
     "output_type": "stream",
     "text": [
      "1568 : 10\n"
     ]
    },
    {
     "name": "stderr",
     "output_type": "stream",
     "text": [
      " 65%|██████████████████████████████████████████████████████████████████████▎                                      | 1593/2468 [50:40<27:51,  1.91s/it]"
     ]
    },
    {
     "name": "stdout",
     "output_type": "stream",
     "text": [
      "1592 : 10\n"
     ]
    },
    {
     "name": "stderr",
     "output_type": "stream",
     "text": [
      " 65%|██████████████████████████████████████████████████████████████████████▍                                      | 1595/2468 [50:43<27:42,  1.90s/it]"
     ]
    },
    {
     "name": "stdout",
     "output_type": "stream",
     "text": [
      "1594 : 10\n"
     ]
    },
    {
     "name": "stderr",
     "output_type": "stream",
     "text": [
      " 65%|██████████████████████████████████████████████████████████████████████▋                                      | 1601/2468 [50:55<27:33,  1.91s/it]"
     ]
    },
    {
     "name": "stdout",
     "output_type": "stream",
     "text": [
      "1600 : 1\n"
     ]
    },
    {
     "name": "stderr",
     "output_type": "stream",
     "text": [
      " 65%|██████████████████████████████████████████████████████████████████████▉                                      | 1606/2468 [51:04<27:29,  1.91s/it]"
     ]
    },
    {
     "name": "stdout",
     "output_type": "stream",
     "text": [
      "1605 : 2\n"
     ]
    },
    {
     "name": "stderr",
     "output_type": "stream",
     "text": [
      " 66%|███████████████████████████████████████████████████████████████████████▌                                     | 1619/2468 [51:29<27:04,  1.91s/it]"
     ]
    },
    {
     "name": "stdout",
     "output_type": "stream",
     "text": [
      "1618 : 10\n"
     ]
    },
    {
     "name": "stderr",
     "output_type": "stream",
     "text": [
      " 66%|███████████████████████████████████████████████████████████████████████▉                                     | 1630/2468 [51:50<26:26,  1.89s/it]"
     ]
    },
    {
     "name": "stdout",
     "output_type": "stream",
     "text": [
      "1629 : 5\n"
     ]
    },
    {
     "name": "stderr",
     "output_type": "stream",
     "text": [
      " 66%|████████████████████████████████████████████████████████████████████████▏                                    | 1634/2468 [51:58<26:17,  1.89s/it]"
     ]
    },
    {
     "name": "stdout",
     "output_type": "stream",
     "text": [
      "1633 : 7\n"
     ]
    },
    {
     "name": "stderr",
     "output_type": "stream",
     "text": [
      " 66%|████████████████████████████████████████████████████████████████████████▍                                    | 1640/2468 [52:09<26:12,  1.90s/it]"
     ]
    },
    {
     "name": "stdout",
     "output_type": "stream",
     "text": [
      "1639 : 10\n"
     ]
    },
    {
     "name": "stderr",
     "output_type": "stream",
     "text": [
      " 67%|████████████████████████████████████████████████████████████████████████▋                                    | 1646/2468 [52:21<26:04,  1.90s/it]"
     ]
    },
    {
     "name": "stdout",
     "output_type": "stream",
     "text": [
      "1645 : 10\n"
     ]
    },
    {
     "name": "stderr",
     "output_type": "stream",
     "text": [
      " 67%|████████████████████████████████████████████████████████████████████████▊                                    | 1649/2468 [52:26<25:45,  1.89s/it]"
     ]
    },
    {
     "name": "stdout",
     "output_type": "stream",
     "text": [
      "1648 : 10\n"
     ]
    },
    {
     "name": "stderr",
     "output_type": "stream",
     "text": [
      " 67%|████████████████████████████████████████████████████████████████████████▉                                    | 1652/2468 [52:32<25:49,  1.90s/it]"
     ]
    },
    {
     "name": "stdout",
     "output_type": "stream",
     "text": [
      "1651 : 9\n"
     ]
    },
    {
     "name": "stderr",
     "output_type": "stream",
     "text": [
      " 67%|█████████████████████████████████████████████████████████████████████████                                    | 1655/2468 [52:38<25:34,  1.89s/it]"
     ]
    },
    {
     "name": "stdout",
     "output_type": "stream",
     "text": [
      "1654 : 5\n"
     ]
    },
    {
     "name": "stderr",
     "output_type": "stream",
     "text": [
      "\r",
      " 67%|█████████████████████████████████████████████████████████████████████████▏                                   | 1656/2468 [52:39<25:32,  1.89s/it]"
     ]
    },
    {
     "name": "stdout",
     "output_type": "stream",
     "text": [
      "1655 : 10\n"
     ]
    },
    {
     "name": "stderr",
     "output_type": "stream",
     "text": [
      " 68%|█████████████████████████████████████████████████████████████████████████▋                                   | 1669/2468 [53:04<25:07,  1.89s/it]"
     ]
    },
    {
     "name": "stdout",
     "output_type": "stream",
     "text": [
      "1668 : 2\n"
     ]
    },
    {
     "name": "stderr",
     "output_type": "stream",
     "text": [
      " 68%|█████████████████████████████████████████████████████████████████████████▉                                   | 1673/2468 [53:12<25:11,  1.90s/it]"
     ]
    },
    {
     "name": "stdout",
     "output_type": "stream",
     "text": [
      "1672 : 10\n"
     ]
    },
    {
     "name": "stderr",
     "output_type": "stream",
     "text": [
      "\r",
      " 68%|█████████████████████████████████████████████████████████████████████████▉                                   | 1674/2468 [53:14<25:22,  1.92s/it]"
     ]
    },
    {
     "name": "stdout",
     "output_type": "stream",
     "text": [
      "1673 : 10\n"
     ]
    },
    {
     "name": "stderr",
     "output_type": "stream",
     "text": [
      " 68%|██████████████████████████████████████████████████████████████████████████                                   | 1677/2468 [53:19<25:09,  1.91s/it]"
     ]
    },
    {
     "name": "stdout",
     "output_type": "stream",
     "text": [
      "1676 : 1\n"
     ]
    },
    {
     "name": "stderr",
     "output_type": "stream",
     "text": [
      "\r",
      " 68%|██████████████████████████████████████████████████████████████████████████                                   | 1678/2468 [53:21<25:12,  1.91s/it]"
     ]
    },
    {
     "name": "stdout",
     "output_type": "stream",
     "text": [
      "1677 : 10\n"
     ]
    },
    {
     "name": "stderr",
     "output_type": "stream",
     "text": [
      "\r",
      " 68%|██████████████████████████████████████████████████████████████████████████▏                                  | 1679/2468 [53:23<25:05,  1.91s/it]"
     ]
    },
    {
     "name": "stdout",
     "output_type": "stream",
     "text": [
      "1678 : 4\n"
     ]
    },
    {
     "name": "stderr",
     "output_type": "stream",
     "text": [
      " 68%|██████████████████████████████████████████████████████████████████████████▎                                  | 1683/2468 [53:31<24:57,  1.91s/it]"
     ]
    },
    {
     "name": "stdout",
     "output_type": "stream",
     "text": [
      "1682 : 10\n"
     ]
    },
    {
     "name": "stderr",
     "output_type": "stream",
     "text": [
      " 68%|██████████████████████████████████████████████████████████████████████████▌                                  | 1687/2468 [53:38<24:50,  1.91s/it]"
     ]
    },
    {
     "name": "stdout",
     "output_type": "stream",
     "text": [
      "1686 : 4\n"
     ]
    },
    {
     "name": "stderr",
     "output_type": "stream",
     "text": [
      "\r",
      " 68%|██████████████████████████████████████████████████████████████████████████▌                                  | 1688/2468 [53:40<24:50,  1.91s/it]"
     ]
    },
    {
     "name": "stdout",
     "output_type": "stream",
     "text": [
      "1687 : 4\n"
     ]
    },
    {
     "name": "stderr",
     "output_type": "stream",
     "text": [
      " 69%|███████████████████████████████████████████████████████████████████████████                                  | 1699/2468 [54:01<24:20,  1.90s/it]"
     ]
    },
    {
     "name": "stdout",
     "output_type": "stream",
     "text": [
      "1698 : 10\n"
     ]
    },
    {
     "name": "stderr",
     "output_type": "stream",
     "text": [
      " 69%|███████████████████████████████████████████████████████████████████████████▎                                 | 1706/2468 [54:15<24:11,  1.91s/it]"
     ]
    },
    {
     "name": "stdout",
     "output_type": "stream",
     "text": [
      "1705 : 10\n"
     ]
    },
    {
     "name": "stderr",
     "output_type": "stream",
     "text": [
      "\r",
      " 69%|███████████████████████████████████████████████████████████████████████████▍                                 | 1707/2468 [54:17<24:06,  1.90s/it]"
     ]
    },
    {
     "name": "stdout",
     "output_type": "stream",
     "text": [
      "1706 : 10\n"
     ]
    },
    {
     "name": "stderr",
     "output_type": "stream",
     "text": [
      " 69%|███████████████████████████████████████████████████████████████████████████▌                                 | 1712/2468 [54:26<23:55,  1.90s/it]"
     ]
    },
    {
     "name": "stdout",
     "output_type": "stream",
     "text": [
      "1711 : 10\n"
     ]
    },
    {
     "name": "stderr",
     "output_type": "stream",
     "text": [
      " 69%|███████████████████████████████████████████████████████████████████████████▋                                 | 1714/2468 [54:30<23:57,  1.91s/it]"
     ]
    },
    {
     "name": "stdout",
     "output_type": "stream",
     "text": [
      "1713 : 8\n"
     ]
    },
    {
     "name": "stderr",
     "output_type": "stream",
     "text": [
      " 70%|███████████████████████████████████████████████████████████████████████████▊                                 | 1717/2468 [54:35<23:39,  1.89s/it]"
     ]
    },
    {
     "name": "stdout",
     "output_type": "stream",
     "text": [
      "1716 : 2\n"
     ]
    },
    {
     "name": "stderr",
     "output_type": "stream",
     "text": [
      " 70%|████████████████████████████████████████████████████████████████████████████▍                                | 1732/2468 [55:04<23:32,  1.92s/it]"
     ]
    },
    {
     "name": "stdout",
     "output_type": "stream",
     "text": [
      "1731 : 1\n"
     ]
    },
    {
     "name": "stderr",
     "output_type": "stream",
     "text": [
      " 70%|████████████████████████████████████████████████████████████████████████████▋                                | 1735/2468 [55:10<23:19,  1.91s/it]"
     ]
    },
    {
     "name": "stdout",
     "output_type": "stream",
     "text": [
      "1734 : 10\n"
     ]
    },
    {
     "name": "stderr",
     "output_type": "stream",
     "text": [
      " 70%|████████████████████████████████████████████████████████████████████████████▋                                | 1737/2468 [55:14<23:10,  1.90s/it]"
     ]
    },
    {
     "name": "stdout",
     "output_type": "stream",
     "text": [
      "1736 : 9\n"
     ]
    },
    {
     "name": "stderr",
     "output_type": "stream",
     "text": [
      " 70%|████████████████████████████████████████████████████████████████████████████▊                                | 1739/2468 [55:17<23:08,  1.90s/it]"
     ]
    },
    {
     "name": "stdout",
     "output_type": "stream",
     "text": [
      "1738 : 10\n"
     ]
    },
    {
     "name": "stderr",
     "output_type": "stream",
     "text": [
      "\r",
      " 71%|████████████████████████████████████████████████████████████████████████████▊                                | 1740/2468 [55:19<23:03,  1.90s/it]"
     ]
    },
    {
     "name": "stdout",
     "output_type": "stream",
     "text": [
      "1739 : 10\n"
     ]
    },
    {
     "name": "stderr",
     "output_type": "stream",
     "text": [
      " 71%|█████████████████████████████████████████████████████████████████████████████                                | 1744/2468 [55:27<22:52,  1.90s/it]"
     ]
    },
    {
     "name": "stdout",
     "output_type": "stream",
     "text": [
      "1743 : 10\n"
     ]
    },
    {
     "name": "stderr",
     "output_type": "stream",
     "text": [
      " 71%|█████████████████████████████████████████████████████████████████████████████▏                               | 1747/2468 [55:33<22:42,  1.89s/it]"
     ]
    },
    {
     "name": "stdout",
     "output_type": "stream",
     "text": [
      "1746 : 6\n"
     ]
    },
    {
     "name": "stderr",
     "output_type": "stream",
     "text": [
      " 71%|█████████████████████████████████████████████████████████████████████████████▎                               | 1750/2468 [55:38<22:46,  1.90s/it]"
     ]
    },
    {
     "name": "stdout",
     "output_type": "stream",
     "text": [
      "1749 : 1\n"
     ]
    },
    {
     "name": "stderr",
     "output_type": "stream",
     "text": [
      " 72%|██████████████████████████████████████████████████████████████████████████████▍                              | 1777/2468 [56:30<21:53,  1.90s/it]"
     ]
    },
    {
     "name": "stdout",
     "output_type": "stream",
     "text": [
      "1776 : 10\n"
     ]
    },
    {
     "name": "stderr",
     "output_type": "stream",
     "text": [
      " 73%|███████████████████████████████████████████████████████████████████████████████                              | 1790/2468 [56:55<21:30,  1.90s/it]"
     ]
    },
    {
     "name": "stdout",
     "output_type": "stream",
     "text": [
      "1789 : 10\n"
     ]
    },
    {
     "name": "stderr",
     "output_type": "stream",
     "text": [
      "\r",
      " 73%|███████████████████████████████████████████████████████████████████████████████                              | 1791/2468 [56:56<21:30,  1.91s/it]"
     ]
    },
    {
     "name": "stdout",
     "output_type": "stream",
     "text": [
      "1790 : 9\n"
     ]
    },
    {
     "name": "stderr",
     "output_type": "stream",
     "text": [
      " 74%|████████████████████████████████████████████████████████████████████████████████▍                            | 1822/2468 [57:55<20:24,  1.89s/it]"
     ]
    },
    {
     "name": "stdout",
     "output_type": "stream",
     "text": [
      "1821 : 10\n"
     ]
    },
    {
     "name": "stderr",
     "output_type": "stream",
     "text": [
      " 75%|█████████████████████████████████████████████████████████████████████████████████▎                           | 1841/2468 [58:31<19:47,  1.89s/it]"
     ]
    },
    {
     "name": "stdout",
     "output_type": "stream",
     "text": [
      "1840 : 4\n"
     ]
    },
    {
     "name": "stderr",
     "output_type": "stream",
     "text": [
      " 75%|█████████████████████████████████████████████████████████████████████████████████▉                           | 1854/2468 [58:56<19:27,  1.90s/it]"
     ]
    },
    {
     "name": "stdout",
     "output_type": "stream",
     "text": [
      "1853 : 10\n"
     ]
    },
    {
     "name": "stderr",
     "output_type": "stream",
     "text": [
      " 76%|██████████████████████████████████████████████████████████████████████████████████▎                          | 1865/2468 [59:17<19:05,  1.90s/it]"
     ]
    },
    {
     "name": "stdout",
     "output_type": "stream",
     "text": [
      "1864 : 10\n"
     ]
    },
    {
     "name": "stderr",
     "output_type": "stream",
     "text": [
      " 76%|██████████████████████████████████████████████████████████████████████████████████▌                          | 1868/2468 [59:23<18:57,  1.90s/it]"
     ]
    },
    {
     "name": "stdout",
     "output_type": "stream",
     "text": [
      "1867 : 9\n"
     ]
    },
    {
     "name": "stderr",
     "output_type": "stream",
     "text": [
      "\r",
      " 76%|██████████████████████████████████████████████████████████████████████████████████▌                          | 1869/2468 [59:24<18:56,  1.90s/it]"
     ]
    },
    {
     "name": "stdout",
     "output_type": "stream",
     "text": [
      "1868 : 10\n"
     ]
    },
    {
     "name": "stderr",
     "output_type": "stream",
     "text": [
      "\r",
      " 76%|██████████████████████████████████████████████████████████████████████████████████▌                          | 1870/2468 [59:26<18:54,  1.90s/it]"
     ]
    },
    {
     "name": "stdout",
     "output_type": "stream",
     "text": [
      "1869 : 4\n"
     ]
    },
    {
     "name": "stderr",
     "output_type": "stream",
     "text": [
      " 78%|███████████████████████████████████████████████████████████████████████████████████▍                       | 1924/2468 [1:01:09<17:13,  1.90s/it]"
     ]
    },
    {
     "name": "stdout",
     "output_type": "stream",
     "text": [
      "1923 : 10\n"
     ]
    },
    {
     "name": "stderr",
     "output_type": "stream",
     "text": [
      " 80%|█████████████████████████████████████████████████████████████████████████████████████▉                     | 1981/2468 [1:02:58<15:35,  1.92s/it]"
     ]
    },
    {
     "name": "stdout",
     "output_type": "stream",
     "text": [
      "1980 : 4\n"
     ]
    },
    {
     "name": "stderr",
     "output_type": "stream",
     "text": [
      " 80%|█████████████████████████████████████████████████████████████████████████████████████▉                     | 1983/2468 [1:03:02<15:28,  1.92s/it]"
     ]
    },
    {
     "name": "stdout",
     "output_type": "stream",
     "text": [
      "1982 : 10\n"
     ]
    },
    {
     "name": "stderr",
     "output_type": "stream",
     "text": [
      " 81%|██████████████████████████████████████████████████████████████████████████████████████▏                    | 1987/2468 [1:03:09<15:17,  1.91s/it]"
     ]
    },
    {
     "name": "stdout",
     "output_type": "stream",
     "text": [
      "1986 : 10\n"
     ]
    },
    {
     "name": "stderr",
     "output_type": "stream",
     "text": [
      " 81%|██████████████████████████████████████████████████████████████████████████████████████▎                    | 1991/2468 [1:03:17<15:09,  1.91s/it]"
     ]
    },
    {
     "name": "stdout",
     "output_type": "stream",
     "text": [
      "1990 : 10\n"
     ]
    },
    {
     "name": "stderr",
     "output_type": "stream",
     "text": [
      " 81%|██████████████████████████████████████████████████████████████████████████████████████▍                    | 1994/2468 [1:03:23<15:06,  1.91s/it]"
     ]
    },
    {
     "name": "stdout",
     "output_type": "stream",
     "text": [
      "1993 : 10\n"
     ]
    },
    {
     "name": "stderr",
     "output_type": "stream",
     "text": [
      " 81%|██████████████████████████████████████████████████████████████████████████████████████▊                    | 2001/2468 [1:03:36<14:58,  1.92s/it]"
     ]
    },
    {
     "name": "stdout",
     "output_type": "stream",
     "text": [
      "2000 : 10\n"
     ]
    },
    {
     "name": "stderr",
     "output_type": "stream",
     "text": [
      "\r",
      " 81%|██████████████████████████████████████████████████████████████████████████████████████▊                    | 2002/2468 [1:03:38<14:56,  1.92s/it]"
     ]
    },
    {
     "name": "stdout",
     "output_type": "stream",
     "text": [
      "2001 : 10\n"
     ]
    },
    {
     "name": "stderr",
     "output_type": "stream",
     "text": [
      " 82%|███████████████████████████████████████████████████████████████████████████████████████▎                   | 2014/2468 [1:04:01<14:31,  1.92s/it]"
     ]
    },
    {
     "name": "stdout",
     "output_type": "stream",
     "text": [
      "2013 : 8\n"
     ]
    },
    {
     "name": "stderr",
     "output_type": "stream",
     "text": [
      " 82%|███████████████████████████████████████████████████████████████████████████████████████▉                   | 2027/2468 [1:04:26<14:01,  1.91s/it]"
     ]
    },
    {
     "name": "stdout",
     "output_type": "stream",
     "text": [
      "2026 : 10\n"
     ]
    },
    {
     "name": "stderr",
     "output_type": "stream",
     "text": [
      "\r",
      " 82%|███████████████████████████████████████████████████████████████████████████████████████▉                   | 2028/2468 [1:04:28<13:59,  1.91s/it]"
     ]
    },
    {
     "name": "stdout",
     "output_type": "stream",
     "text": [
      "2027 : 10\n"
     ]
    },
    {
     "name": "stderr",
     "output_type": "stream",
     "text": [
      " 82%|████████████████████████████████████████████████████████████████████████████████████████▏                  | 2034/2468 [1:04:40<13:55,  1.92s/it]"
     ]
    },
    {
     "name": "stdout",
     "output_type": "stream",
     "text": [
      "2033 : 9\n"
     ]
    },
    {
     "name": "stderr",
     "output_type": "stream",
     "text": [
      " 82%|████████████████████████████████████████████████████████████████████████████████████████▎                  | 2036/2468 [1:04:43<13:47,  1.92s/it]"
     ]
    },
    {
     "name": "stdout",
     "output_type": "stream",
     "text": [
      "2035 : 2\n"
     ]
    },
    {
     "name": "stderr",
     "output_type": "stream",
     "text": [
      " 83%|████████████████████████████████████████████████████████████████████████████████████████▋                  | 2045/2468 [1:05:01<13:30,  1.92s/it]"
     ]
    },
    {
     "name": "stdout",
     "output_type": "stream",
     "text": [
      "2044 : 10\n"
     ]
    },
    {
     "name": "stderr",
     "output_type": "stream",
     "text": [
      "\r",
      " 83%|████████████████████████████████████████████████████████████████████████████████████████▋                  | 2046/2468 [1:05:03<13:27,  1.91s/it]"
     ]
    },
    {
     "name": "stdout",
     "output_type": "stream",
     "text": [
      "2045 : 8\n"
     ]
    },
    {
     "name": "stderr",
     "output_type": "stream",
     "text": [
      " 83%|████████████████████████████████████████████████████████████████████████████████████████▉                  | 2051/2468 [1:05:12<13:19,  1.92s/it]"
     ]
    },
    {
     "name": "stdout",
     "output_type": "stream",
     "text": [
      "2050 : 10\n"
     ]
    },
    {
     "name": "stderr",
     "output_type": "stream",
     "text": [
      "\r",
      " 83%|████████████████████████████████████████████████████████████████████████████████████████▉                  | 2052/2468 [1:05:14<13:18,  1.92s/it]"
     ]
    },
    {
     "name": "stdout",
     "output_type": "stream",
     "text": [
      "2051 : 2\n"
     ]
    },
    {
     "name": "stderr",
     "output_type": "stream",
     "text": [
      " 83%|█████████████████████████████████████████████████████████████████████████████████████████                  | 2055/2468 [1:05:20<13:13,  1.92s/it]"
     ]
    },
    {
     "name": "stdout",
     "output_type": "stream",
     "text": [
      "2054 : 10\n"
     ]
    },
    {
     "name": "stderr",
     "output_type": "stream",
     "text": [
      " 84%|█████████████████████████████████████████████████████████████████████████████████████████▎                 | 2061/2468 [1:05:31<13:00,  1.92s/it]"
     ]
    },
    {
     "name": "stdout",
     "output_type": "stream",
     "text": [
      "2060 : 5\n"
     ]
    },
    {
     "name": "stderr",
     "output_type": "stream",
     "text": [
      " 84%|█████████████████████████████████████████████████████████████████████████████████████████▌                 | 2066/2468 [1:05:41<12:50,  1.92s/it]"
     ]
    },
    {
     "name": "stdout",
     "output_type": "stream",
     "text": [
      "2065 : 10\n"
     ]
    },
    {
     "name": "stderr",
     "output_type": "stream",
     "text": [
      "\r",
      " 84%|█████████████████████████████████████████████████████████████████████████████████████████▌                 | 2067/2468 [1:05:43<12:48,  1.92s/it]"
     ]
    },
    {
     "name": "stdout",
     "output_type": "stream",
     "text": [
      "2066 : 7\n"
     ]
    },
    {
     "name": "stderr",
     "output_type": "stream",
     "text": [
      " 84%|██████████████████████████████████████████████████████████████████████████████████████████▎                | 2083/2468 [1:06:14<12:16,  1.91s/it]"
     ]
    },
    {
     "name": "stdout",
     "output_type": "stream",
     "text": [
      "2082 : 9\n"
     ]
    },
    {
     "name": "stderr",
     "output_type": "stream",
     "text": [
      " 85%|██████████████████████████████████████████████████████████████████████████████████████████▌                | 2090/2468 [1:06:27<12:04,  1.92s/it]"
     ]
    },
    {
     "name": "stdout",
     "output_type": "stream",
     "text": [
      "2089 : 10\n"
     ]
    },
    {
     "name": "stderr",
     "output_type": "stream",
     "text": [
      " 85%|██████████████████████████████████████████████████████████████████████████████████████████▉                | 2097/2468 [1:06:40<11:51,  1.92s/it]"
     ]
    },
    {
     "name": "stdout",
     "output_type": "stream",
     "text": [
      "2096 : 2\n"
     ]
    },
    {
     "name": "stderr",
     "output_type": "stream",
     "text": [
      " 85%|███████████████████████████████████████████████████████████████████████████████████████████                | 2100/2468 [1:06:46<11:45,  1.92s/it]"
     ]
    },
    {
     "name": "stdout",
     "output_type": "stream",
     "text": [
      "2099 : 9\n"
     ]
    },
    {
     "name": "stderr",
     "output_type": "stream",
     "text": [
      " 85%|███████████████████████████████████████████████████████████████████████████████████████████▏               | 2103/2468 [1:06:52<11:39,  1.92s/it]"
     ]
    },
    {
     "name": "stdout",
     "output_type": "stream",
     "text": [
      "2102 : 10\n"
     ]
    },
    {
     "name": "stderr",
     "output_type": "stream",
     "text": [
      " 86%|███████████████████████████████████████████████████████████████████████████████████████████▋               | 2115/2468 [1:07:15<11:13,  1.91s/it]"
     ]
    },
    {
     "name": "stdout",
     "output_type": "stream",
     "text": [
      "2114 : 10\n"
     ]
    },
    {
     "name": "stderr",
     "output_type": "stream",
     "text": [
      " 86%|████████████████████████████████████████████████████████████████████████████████████████████▍              | 2131/2468 [1:07:45<10:40,  1.90s/it]"
     ]
    },
    {
     "name": "stdout",
     "output_type": "stream",
     "text": [
      "2130 : 10\n"
     ]
    },
    {
     "name": "stderr",
     "output_type": "stream",
     "text": [
      " 89%|██████████████████████████████████████████████████████████████████████████████████████████████▉            | 2189/2468 [1:09:35<08:49,  1.90s/it]"
     ]
    },
    {
     "name": "stdout",
     "output_type": "stream",
     "text": [
      "2188 : 1\n"
     ]
    },
    {
     "name": "stderr",
     "output_type": "stream",
     "text": [
      " 90%|████████████████████████████████████████████████████████████████████████████████████████████████▋          | 2230/2468 [1:10:53<07:33,  1.90s/it]"
     ]
    },
    {
     "name": "stdout",
     "output_type": "stream",
     "text": [
      "2229 : 1\n"
     ]
    },
    {
     "name": "stderr",
     "output_type": "stream",
     "text": [
      " 91%|█████████████████████████████████████████████████████████████████████████████████████████████████▏         | 2243/2468 [1:11:18<07:09,  1.91s/it]"
     ]
    },
    {
     "name": "stdout",
     "output_type": "stream",
     "text": [
      "2242 : 4\n"
     ]
    },
    {
     "name": "stderr",
     "output_type": "stream",
     "text": [
      " 91%|█████████████████████████████████████████████████████████████████████████████████████████████████▊         | 2255/2468 [1:11:41<06:47,  1.91s/it]"
     ]
    },
    {
     "name": "stdout",
     "output_type": "stream",
     "text": [
      "2254 : 1\n"
     ]
    },
    {
     "name": "stderr",
     "output_type": "stream",
     "text": [
      "\r",
      " 91%|█████████████████████████████████████████████████████████████████████████████████████████████████▊         | 2256/2468 [1:11:43<06:45,  1.91s/it]"
     ]
    },
    {
     "name": "stdout",
     "output_type": "stream",
     "text": [
      "2255 : 2\n"
     ]
    },
    {
     "name": "stderr",
     "output_type": "stream",
     "text": [
      "\r",
      " 91%|█████████████████████████████████████████████████████████████████████████████████████████████████▊         | 2257/2468 [1:11:45<06:42,  1.91s/it]"
     ]
    },
    {
     "name": "stdout",
     "output_type": "stream",
     "text": [
      "2256 : 10\n"
     ]
    },
    {
     "name": "stderr",
     "output_type": "stream",
     "text": [
      " 92%|██████████████████████████████████████████████████████████████████████████████████████████████████▎        | 2267/2468 [1:12:04<06:23,  1.91s/it]"
     ]
    },
    {
     "name": "stdout",
     "output_type": "stream",
     "text": [
      "2266 : 1\n"
     ]
    },
    {
     "name": "stderr",
     "output_type": "stream",
     "text": [
      " 92%|██████████████████████████████████████████████████████████████████████████████████████████████████▍        | 2271/2468 [1:12:12<06:17,  1.92s/it]"
     ]
    },
    {
     "name": "stdout",
     "output_type": "stream",
     "text": [
      "2270 : 3\n"
     ]
    },
    {
     "name": "stderr",
     "output_type": "stream",
     "text": [
      " 93%|███████████████████████████████████████████████████████████████████████████████████████████████████▌       | 2297/2468 [1:13:01<05:25,  1.90s/it]"
     ]
    },
    {
     "name": "stdout",
     "output_type": "stream",
     "text": [
      "2296 : 10\n"
     ]
    },
    {
     "name": "stderr",
     "output_type": "stream",
     "text": [
      " 93%|███████████████████████████████████████████████████████████████████████████████████████████████████▊       | 2302/2468 [1:13:11<05:18,  1.92s/it]"
     ]
    },
    {
     "name": "stdout",
     "output_type": "stream",
     "text": [
      "2301 : 1\n"
     ]
    },
    {
     "name": "stderr",
     "output_type": "stream",
     "text": [
      " 94%|████████████████████████████████████████████████████████████████████████████████████████████████████       | 2309/2468 [1:13:24<05:04,  1.91s/it]"
     ]
    },
    {
     "name": "stdout",
     "output_type": "stream",
     "text": [
      "2308 : 2\n"
     ]
    },
    {
     "name": "stderr",
     "output_type": "stream",
     "text": [
      "\r",
      " 94%|████████████████████████████████████████████████████████████████████████████████████████████████████▏      | 2310/2468 [1:13:26<05:02,  1.91s/it]"
     ]
    },
    {
     "name": "stdout",
     "output_type": "stream",
     "text": [
      "2309 : 10\n"
     ]
    },
    {
     "name": "stderr",
     "output_type": "stream",
     "text": [
      " 94%|████████████████████████████████████████████████████████████████████████████████████████████████████▋      | 2323/2468 [1:13:51<04:37,  1.91s/it]"
     ]
    },
    {
     "name": "stdout",
     "output_type": "stream",
     "text": [
      "2322 : 10\n"
     ]
    },
    {
     "name": "stderr",
     "output_type": "stream",
     "text": [
      " 95%|█████████████████████████████████████████████████████████████████████████████████████████████████████▏     | 2333/2468 [1:14:10<04:15,  1.89s/it]"
     ]
    },
    {
     "name": "stdout",
     "output_type": "stream",
     "text": [
      "2332 : 10\n"
     ]
    },
    {
     "name": "stderr",
     "output_type": "stream",
     "text": [
      "\r",
      " 95%|█████████████████████████████████████████████████████████████████████████████████████████████████████▏     | 2334/2468 [1:14:12<04:13,  1.89s/it]"
     ]
    },
    {
     "name": "stdout",
     "output_type": "stream",
     "text": [
      "2333 : 10\n"
     ]
    },
    {
     "name": "stderr",
     "output_type": "stream",
     "text": [
      " 95%|█████████████████████████████████████████████████████████████████████████████████████████████████████▎     | 2337/2468 [1:14:18<04:07,  1.89s/it]"
     ]
    },
    {
     "name": "stdout",
     "output_type": "stream",
     "text": [
      "2336 : 1\n"
     ]
    },
    {
     "name": "stderr",
     "output_type": "stream",
     "text": [
      "\r",
      " 95%|█████████████████████████████████████████████████████████████████████████████████████████████████████▎     | 2338/2468 [1:14:20<04:04,  1.88s/it]"
     ]
    },
    {
     "name": "stdout",
     "output_type": "stream",
     "text": [
      "2337 : 10\n"
     ]
    },
    {
     "name": "stderr",
     "output_type": "stream",
     "text": [
      " 95%|█████████████████████████████████████████████████████████████████████████████████████████████████████▌     | 2343/2468 [1:14:29<03:53,  1.87s/it]"
     ]
    },
    {
     "name": "stdout",
     "output_type": "stream",
     "text": [
      "2342 : 10\n"
     ]
    },
    {
     "name": "stderr",
     "output_type": "stream",
     "text": [
      " 95%|█████████████████████████████████████████████████████████████████████████████████████████████████████▉     | 2351/2468 [1:14:44<03:39,  1.88s/it]"
     ]
    },
    {
     "name": "stdout",
     "output_type": "stream",
     "text": [
      "2350 : 9\n"
     ]
    },
    {
     "name": "stderr",
     "output_type": "stream",
     "text": [
      " 96%|██████████████████████████████████████████████████████████████████████████████████████████████████████▎    | 2361/2468 [1:15:03<03:22,  1.90s/it]"
     ]
    },
    {
     "name": "stdout",
     "output_type": "stream",
     "text": [
      "2360 : 10\n"
     ]
    },
    {
     "name": "stderr",
     "output_type": "stream",
     "text": [
      " 96%|███████████████████████████████████████████████████████████████████████████████████████████████████████    | 2376/2468 [1:15:31<02:52,  1.87s/it]"
     ]
    },
    {
     "name": "stdout",
     "output_type": "stream",
     "text": [
      "2375 : 10\n"
     ]
    },
    {
     "name": "stderr",
     "output_type": "stream",
     "text": [
      " 96%|███████████████████████████████████████████████████████████████████████████████████████████████████████▏   | 2381/2468 [1:15:40<02:43,  1.88s/it]"
     ]
    },
    {
     "name": "stdout",
     "output_type": "stream",
     "text": [
      "2380 : 10\n"
     ]
    },
    {
     "name": "stderr",
     "output_type": "stream",
     "text": [
      " 97%|███████████████████████████████████████████████████████████████████████████████████████████████████████▎   | 2384/2468 [1:15:46<02:37,  1.88s/it]"
     ]
    },
    {
     "name": "stdout",
     "output_type": "stream",
     "text": [
      "2383 : 10\n"
     ]
    },
    {
     "name": "stderr",
     "output_type": "stream",
     "text": [
      " 97%|███████████████████████████████████████████████████████████████████████████████████████████████████████▍   | 2387/2468 [1:15:52<02:31,  1.87s/it]"
     ]
    },
    {
     "name": "stdout",
     "output_type": "stream",
     "text": [
      "2386 : 10\n"
     ]
    },
    {
     "name": "stderr",
     "output_type": "stream",
     "text": [
      " 97%|███████████████████████████████████████████████████████████████████████████████████████████████████████▌   | 2390/2468 [1:15:57<02:26,  1.88s/it]"
     ]
    },
    {
     "name": "stdout",
     "output_type": "stream",
     "text": [
      "2389 : 10\n"
     ]
    },
    {
     "name": "stderr",
     "output_type": "stream",
     "text": [
      " 97%|███████████████████████████████████████████████████████████████████████████████████████████████████████▉   | 2396/2468 [1:16:08<02:14,  1.87s/it]"
     ]
    },
    {
     "name": "stdout",
     "output_type": "stream",
     "text": [
      "2395 : 10\n"
     ]
    },
    {
     "name": "stderr",
     "output_type": "stream",
     "text": [
      " 97%|███████████████████████████████████████████████████████████████████████████████████████████████████████▉   | 2398/2468 [1:16:12<02:10,  1.87s/it]"
     ]
    },
    {
     "name": "stdout",
     "output_type": "stream",
     "text": [
      "2397 : 8\n"
     ]
    },
    {
     "name": "stderr",
     "output_type": "stream",
     "text": [
      " 97%|████████████████████████████████████████████████████████████████████████████████████████████████████████   | 2400/2468 [1:16:16<02:07,  1.87s/it]"
     ]
    },
    {
     "name": "stdout",
     "output_type": "stream",
     "text": [
      "2399 : 10\n"
     ]
    },
    {
     "name": "stderr",
     "output_type": "stream",
     "text": [
      "\r",
      " 97%|████████████████████████████████████████████████████████████████████████████████████████████████████████   | 2401/2468 [1:16:18<02:05,  1.88s/it]"
     ]
    },
    {
     "name": "stdout",
     "output_type": "stream",
     "text": [
      "2400 : 10\n"
     ]
    },
    {
     "name": "stderr",
     "output_type": "stream",
     "text": [
      " 97%|████████████████████████████████████████████████████████████████████████████████████████████████████████▏  | 2404/2468 [1:16:23<02:00,  1.88s/it]"
     ]
    },
    {
     "name": "stdout",
     "output_type": "stream",
     "text": [
      "2403 : 1\n"
     ]
    },
    {
     "name": "stderr",
     "output_type": "stream",
     "text": [
      " 97%|████████████████████████████████████████████████████████████████████████████████████████████████████████▎  | 2406/2468 [1:16:27<01:56,  1.88s/it]"
     ]
    },
    {
     "name": "stdout",
     "output_type": "stream",
     "text": [
      "2405 : 10\n"
     ]
    },
    {
     "name": "stderr",
     "output_type": "stream",
     "text": [
      " 98%|████████████████████████████████████████████████████████████████████████████████████████████████████████▍  | 2410/2468 [1:16:35<01:48,  1.87s/it]"
     ]
    },
    {
     "name": "stdout",
     "output_type": "stream",
     "text": [
      "2409 : 3\n"
     ]
    },
    {
     "name": "stderr",
     "output_type": "stream",
     "text": [
      " 98%|████████████████████████████████████████████████████████████████████████████████████████████████████████▌  | 2412/2468 [1:16:38<01:45,  1.88s/it]"
     ]
    },
    {
     "name": "stdout",
     "output_type": "stream",
     "text": [
      "2411 : 10\n"
     ]
    },
    {
     "name": "stderr",
     "output_type": "stream",
     "text": [
      " 98%|████████████████████████████████████████████████████████████████████████████████████████████████████████▉  | 2420/2468 [1:16:53<01:30,  1.88s/it]"
     ]
    },
    {
     "name": "stdout",
     "output_type": "stream",
     "text": [
      "2419 : 9\n"
     ]
    },
    {
     "name": "stderr",
     "output_type": "stream",
     "text": [
      "\r",
      " 98%|████████████████████████████████████████████████████████████████████████████████████████████████████████▉  | 2421/2468 [1:16:55<01:28,  1.88s/it]"
     ]
    },
    {
     "name": "stdout",
     "output_type": "stream",
     "text": [
      "2420 : 10\n"
     ]
    },
    {
     "name": "stderr",
     "output_type": "stream",
     "text": [
      " 98%|█████████████████████████████████████████████████████████████████████████████████████████████████████████▏ | 2425/2468 [1:17:03<01:20,  1.87s/it]"
     ]
    },
    {
     "name": "stdout",
     "output_type": "stream",
     "text": [
      "2424 : 3\n"
     ]
    },
    {
     "name": "stderr",
     "output_type": "stream",
     "text": [
      " 99%|█████████████████████████████████████████████████████████████████████████████████████████████████████████▍ | 2432/2468 [1:17:16<01:08,  1.90s/it]"
     ]
    },
    {
     "name": "stdout",
     "output_type": "stream",
     "text": [
      "2431 : 10\n"
     ]
    },
    {
     "name": "stderr",
     "output_type": "stream",
     "text": [
      " 99%|█████████████████████████████████████████████████████████████████████████████████████████████████████████▌ | 2435/2468 [1:17:22<01:02,  1.90s/it]"
     ]
    },
    {
     "name": "stdout",
     "output_type": "stream",
     "text": [
      "2434 : 10\n"
     ]
    },
    {
     "name": "stderr",
     "output_type": "stream",
     "text": [
      "\r",
      " 99%|█████████████████████████████████████████████████████████████████████████████████████████████████████████▌ | 2436/2468 [1:17:24<01:01,  1.92s/it]"
     ]
    },
    {
     "name": "stdout",
     "output_type": "stream",
     "text": [
      "2435 : 10\n"
     ]
    },
    {
     "name": "stderr",
     "output_type": "stream",
     "text": [
      " 99%|█████████████████████████████████████████████████████████████████████████████████████████████████████████▋ | 2438/2468 [1:17:28<00:58,  1.94s/it]"
     ]
    },
    {
     "name": "stdout",
     "output_type": "stream",
     "text": [
      "2437 : 10\n"
     ]
    },
    {
     "name": "stderr",
     "output_type": "stream",
     "text": [
      "\r",
      " 99%|█████████████████████████████████████████████████████████████████████████████████████████████████████████▋ | 2439/2468 [1:17:29<00:56,  1.95s/it]"
     ]
    },
    {
     "name": "stdout",
     "output_type": "stream",
     "text": [
      "2438 : 2\n"
     ]
    },
    {
     "name": "stderr",
     "output_type": "stream",
     "text": [
      "\r",
      " 99%|█████████████████████████████████████████████████████████████████████████████████████████████████████████▊ | 2440/2468 [1:17:31<00:54,  1.94s/it]"
     ]
    },
    {
     "name": "stdout",
     "output_type": "stream",
     "text": [
      "2439 : 10\n"
     ]
    },
    {
     "name": "stderr",
     "output_type": "stream",
     "text": [
      " 99%|██████████████████████████████████████████████████████████████████████████████████████████████████████████ | 2446/2468 [1:17:43<00:42,  1.92s/it]"
     ]
    },
    {
     "name": "stdout",
     "output_type": "stream",
     "text": [
      "2445 : 10\n"
     ]
    },
    {
     "name": "stderr",
     "output_type": "stream",
     "text": [
      " 99%|██████████████████████████████████████████████████████████████████████████████████████████████████████████▏| 2450/2468 [1:17:51<00:34,  1.91s/it]"
     ]
    },
    {
     "name": "stdout",
     "output_type": "stream",
     "text": [
      "2449 : 10\n"
     ]
    },
    {
     "name": "stderr",
     "output_type": "stream",
     "text": [
      "100%|██████████████████████████████████████████████████████████████████████████████████████████████████████████▋| 2460/2468 [1:18:09<00:15,  1.90s/it]"
     ]
    },
    {
     "name": "stdout",
     "output_type": "stream",
     "text": [
      "2459 : 7\n"
     ]
    },
    {
     "name": "stderr",
     "output_type": "stream",
     "text": [
      "100%|██████████████████████████████████████████████████████████████████████████████████████████████████████████▊| 2463/2468 [1:18:15<00:09,  1.90s/it]"
     ]
    },
    {
     "name": "stdout",
     "output_type": "stream",
     "text": [
      "2462 : 10\n"
     ]
    },
    {
     "name": "stderr",
     "output_type": "stream",
     "text": [
      "100%|██████████████████████████████████████████████████████████████████████████████████████████████████████████▊| 2465/2468 [1:18:19<00:05,  1.90s/it]"
     ]
    },
    {
     "name": "stdout",
     "output_type": "stream",
     "text": [
      "2464 : 4\n"
     ]
    },
    {
     "name": "stderr",
     "output_type": "stream",
     "text": [
      "100%|███████████████████████████████████████████████████████████████████████████████████████████████████████████| 2468/2468 [1:18:25<00:00,  1.91s/it]\n"
     ]
    }
   ],
   "source": [
    "\n"
   ]
  },
  {
   "cell_type": "code",
   "execution_count": 102,
   "id": "aa06ce23",
   "metadata": {},
   "outputs": [
    {
     "name": "stdout",
     "output_type": "stream",
     "text": [
      "<class 'torch.Tensor'>\n",
      "<class 'torch.Tensor'>\n"
     ]
    }
   ],
   "source": [
    "#Fitnessのテスト\n",
    "\n",
    "data_idx = 198\n",
    "original_points, target_fv, target = GA_dataset.__getitem__(data_idx)\n",
    "original_points = torch.from_numpy(original_points.astype(np.float32)).clone().view(1, 1024, 3)\n",
    "target_fv = torch.from_numpy(target_fv.astype(np.float32)).clone().view(1, -1)\n",
    "target = torch.from_numpy(np.array(target).astype(np.float32)).clone()\n",
    "\n",
    "Classifier_from_feature_vector = Classifier_from_feature_vector.eval().cuda()\n",
    "Feature_vector_calculator = Feature_vector_calculator.eval().cuda()\n",
    "\n",
    "print(type(original_points))\n",
    "\n",
    "individual = random.sample(range(1024), 512)\n",
    "score, acc = get_fitness(individual, original_points, target_fv, target, Feature_vector_calculator, Classifier_from_feature_vector, 100)"
   ]
  },
  {
   "cell_type": "code",
   "execution_count": 57,
   "id": "d025e904",
   "metadata": {},
   "outputs": [],
   "source": [
    "def make_path(*a):\n",
    "    path = '/'.join(a)\n",
    "    \n",
    "    return path\n",
    "\n",
    "def make_prefix(**a):\n",
    "    prefix = ''\n",
    "    for key in a.keys():\n",
    "        prefix += key + '{}_'\n",
    "    prefix = prefix.format(*tuple(a.values()))\n",
    "    return prefix\n",
    "\n",
    "def separate_array(object_arr):\n",
    "    size = object_arr.shape[0]\n",
    "    new_arr = np.empty(0)\n",
    "    for i in range(size):\n",
    "        new_arr = np.append(new_arr, object_arr[i][0])\n",
    "        new_arr = np.append(new_arr, object_arr[i][1])\n",
    "    new_arr = new_arr.reshape(size, 2)\n",
    "    return new_arr\n",
    "\n",
    "#出力結果を保存する関数\n",
    "def save_GA_results(log, hof, *args, **kwargs):\n",
    "    npoints = 1024\n",
    "    hof_bit = []\n",
    "    for individual in hof:\n",
    "        ind_bit = np.zeros(npoints)\n",
    "\n",
    "        ind_bit[individual] = 1\n",
    "        hof_bit.append(ind_bit)\n",
    "\n",
    "    hof_bit = pd.DataFrame(data=hof_bit)\n",
    "\n",
    "    pprint(hof_bit)\n",
    "    \n",
    "    method_name = make_path(*args) + '/Hall of fame' #何の結果か、どのような加工を加えているか、何個ずつか\n",
    "    prefix = make_prefix(**kwargs) #よく変えるパラメータ\n",
    "    ext = \".csv\"\n",
    "    df = hof_bit\n",
    "    #-------------------------------------\n",
    "    save_dir = FILE_DIR / Path(method_name) \n",
    "    # print(save_dir)\n",
    "    save_dir.mkdir(exist_ok=True, parents=True)\n",
    "    timestr = str(datetime.datetime.now().strftime('%Y-%m-%d_%H-%M'))\n",
    "    # print(timestr)\n",
    "    file_name = prefix + timestr + ext\n",
    "    df.to_csv(save_dir/file_name, index=False)\n",
    "    print(\"Saved in:\", save_dir/file_name)\n",
    "    slack_notify(\"Saved in:\"+ str(save_dir/file_name))\n",
    "\n",
    "\n",
    "    #logを保存できる形に変換\n",
    "    log_df = pd.DataFrame(data=log)\n",
    "    # pprint(log_df)\n",
    "    # pprint(log_df[['gen','max']])\n",
    "    log_df.iloc[:, 2:6] = log_df.iloc[:, 2:6].astype(\"float32\")\n",
    "#     print(log_df)\n",
    "\n",
    "    method_name = make_path(*args) + '/log' #何の結果か、どのような加工を加えているか、何個ずつか\n",
    "    prefix = make_prefix(**kwargs)\n",
    "    ext = \".csv\"\n",
    "    df = log_df\n",
    "    #-------------------------------------\n",
    "    save_dir = FILE_DIR / Path(method_name) \n",
    "    # print(save_dir)\n",
    "    save_dir.mkdir(exist_ok=True, parents=True)\n",
    "    timestr = str(datetime.datetime.now().strftime('%Y-%m-%d_%H-%M'))\n",
    "    # print(timestr)\n",
    "    file_name = prefix + timestr + ext\n",
    "    df.to_csv(save_dir/file_name, index=False)\n",
    "    print(\"Saved in:\", save_dir/file_name)\n",
    "    slack_notify(\"Saved in:\"+ str(save_dir/file_name))\n",
    "    \n",
    "    return None"
   ]
  },
  {
   "cell_type": "code",
   "execution_count": 35,
   "id": "8ec99c55",
   "metadata": {},
   "outputs": [],
   "source": [
    "def acc_log(array, num_list):\n",
    "    if len(array) != np.sum(num_list):\n",
    "        print(\"error\")\n",
    "        return None\n",
    "    dim = len(num_list)\n",
    "    uarray = []\n",
    "    for num in num_list:\n",
    "        uarray.append(list(array[:num]))\n",
    "        array = array[num:]\n",
    "    acc_log = np.empty(0)\n",
    "    for n in uarray:\n",
    "        acc_log = np.append(acc_log, np.mean(n))\n",
    "        acc_log = np.append(acc_log, np.std(n))\n",
    "        acc_log = np.append(acc_log, np.min(n))\n",
    "        acc_log = np.append(acc_log, np.max(n))\n",
    "    acc_log = acc_log.reshape(-1, 4)\n",
    "    acc_log = acc_log.T\n",
    "    return acc_log"
   ]
  },
  {
   "cell_type": "code",
   "execution_count": null,
   "id": "6e699e3f",
   "metadata": {},
   "outputs": [],
   "source": []
  }
 ],
 "metadata": {
  "kernelspec": {
   "display_name": "Python 3 (ipykernel)",
   "language": "python",
   "name": "python3"
  },
  "language_info": {
   "codemirror_mode": {
    "name": "ipython",
    "version": 3
   },
   "file_extension": ".py",
   "mimetype": "text/x-python",
   "name": "python",
   "nbconvert_exporter": "python",
   "pygments_lexer": "ipython3",
   "version": "3.8.10"
  }
 },
 "nbformat": 4,
 "nbformat_minor": 5
}
